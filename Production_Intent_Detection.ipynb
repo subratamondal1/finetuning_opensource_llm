{
  "nbformat": 4,
  "nbformat_minor": 0,
  "metadata": {
    "colab": {
      "provenance": [],
      "gpuType": "T4"
    },
    "kernelspec": {
      "name": "python3",
      "display_name": "Python 3"
    },
    "language_info": {
      "name": "python"
    },
    "accelerator": "GPU",
    "widgets": {
      "application/vnd.jupyter.widget-state+json": {
        "b980afad4f00451d94f5fee740bad893": {
          "model_module": "@jupyter-widgets/controls",
          "model_name": "HBoxModel",
          "model_module_version": "1.5.0",
          "state": {
            "_dom_classes": [],
            "_model_module": "@jupyter-widgets/controls",
            "_model_module_version": "1.5.0",
            "_model_name": "HBoxModel",
            "_view_count": null,
            "_view_module": "@jupyter-widgets/controls",
            "_view_module_version": "1.5.0",
            "_view_name": "HBoxView",
            "box_style": "",
            "children": [
              "IPY_MODEL_8b0e95778712428995daae593181e1ac",
              "IPY_MODEL_78eb4e4bb5bc452bab3f3f707064729f",
              "IPY_MODEL_ac88a9c06ad74ce09fbbfdabdf3d8bae"
            ],
            "layout": "IPY_MODEL_889c171efee34edeb787ca5fc3678895"
          }
        },
        "8b0e95778712428995daae593181e1ac": {
          "model_module": "@jupyter-widgets/controls",
          "model_name": "HTMLModel",
          "model_module_version": "1.5.0",
          "state": {
            "_dom_classes": [],
            "_model_module": "@jupyter-widgets/controls",
            "_model_module_version": "1.5.0",
            "_model_name": "HTMLModel",
            "_view_count": null,
            "_view_module": "@jupyter-widgets/controls",
            "_view_module_version": "1.5.0",
            "_view_name": "HTMLView",
            "description": "",
            "description_tooltip": null,
            "layout": "IPY_MODEL_55938ea422414396a3dce08914d71b96",
            "placeholder": "​",
            "style": "IPY_MODEL_faafe88c8f4a456a81ded3b9750e46fe",
            "value": "Map: 100%"
          }
        },
        "78eb4e4bb5bc452bab3f3f707064729f": {
          "model_module": "@jupyter-widgets/controls",
          "model_name": "FloatProgressModel",
          "model_module_version": "1.5.0",
          "state": {
            "_dom_classes": [],
            "_model_module": "@jupyter-widgets/controls",
            "_model_module_version": "1.5.0",
            "_model_name": "FloatProgressModel",
            "_view_count": null,
            "_view_module": "@jupyter-widgets/controls",
            "_view_module_version": "1.5.0",
            "_view_name": "ProgressView",
            "bar_style": "success",
            "description": "",
            "description_tooltip": null,
            "layout": "IPY_MODEL_916fc52bc3584af9ad69873e728c3757",
            "max": 3100,
            "min": 0,
            "orientation": "horizontal",
            "style": "IPY_MODEL_03b94dfa88c341619f59ca7d9e35a016",
            "value": 3100
          }
        },
        "ac88a9c06ad74ce09fbbfdabdf3d8bae": {
          "model_module": "@jupyter-widgets/controls",
          "model_name": "HTMLModel",
          "model_module_version": "1.5.0",
          "state": {
            "_dom_classes": [],
            "_model_module": "@jupyter-widgets/controls",
            "_model_module_version": "1.5.0",
            "_model_name": "HTMLModel",
            "_view_count": null,
            "_view_module": "@jupyter-widgets/controls",
            "_view_module_version": "1.5.0",
            "_view_name": "HTMLView",
            "description": "",
            "description_tooltip": null,
            "layout": "IPY_MODEL_7022c422750e4825a0a0b825b50d9259",
            "placeholder": "​",
            "style": "IPY_MODEL_309cbce629e0456d9427aefeee8005ff",
            "value": " 3100/3100 [00:00&lt;00:00, 19121.43 examples/s]"
          }
        },
        "889c171efee34edeb787ca5fc3678895": {
          "model_module": "@jupyter-widgets/base",
          "model_name": "LayoutModel",
          "model_module_version": "1.2.0",
          "state": {
            "_model_module": "@jupyter-widgets/base",
            "_model_module_version": "1.2.0",
            "_model_name": "LayoutModel",
            "_view_count": null,
            "_view_module": "@jupyter-widgets/base",
            "_view_module_version": "1.2.0",
            "_view_name": "LayoutView",
            "align_content": null,
            "align_items": null,
            "align_self": null,
            "border": null,
            "bottom": null,
            "display": null,
            "flex": null,
            "flex_flow": null,
            "grid_area": null,
            "grid_auto_columns": null,
            "grid_auto_flow": null,
            "grid_auto_rows": null,
            "grid_column": null,
            "grid_gap": null,
            "grid_row": null,
            "grid_template_areas": null,
            "grid_template_columns": null,
            "grid_template_rows": null,
            "height": null,
            "justify_content": null,
            "justify_items": null,
            "left": null,
            "margin": null,
            "max_height": null,
            "max_width": null,
            "min_height": null,
            "min_width": null,
            "object_fit": null,
            "object_position": null,
            "order": null,
            "overflow": null,
            "overflow_x": null,
            "overflow_y": null,
            "padding": null,
            "right": null,
            "top": null,
            "visibility": null,
            "width": null
          }
        },
        "55938ea422414396a3dce08914d71b96": {
          "model_module": "@jupyter-widgets/base",
          "model_name": "LayoutModel",
          "model_module_version": "1.2.0",
          "state": {
            "_model_module": "@jupyter-widgets/base",
            "_model_module_version": "1.2.0",
            "_model_name": "LayoutModel",
            "_view_count": null,
            "_view_module": "@jupyter-widgets/base",
            "_view_module_version": "1.2.0",
            "_view_name": "LayoutView",
            "align_content": null,
            "align_items": null,
            "align_self": null,
            "border": null,
            "bottom": null,
            "display": null,
            "flex": null,
            "flex_flow": null,
            "grid_area": null,
            "grid_auto_columns": null,
            "grid_auto_flow": null,
            "grid_auto_rows": null,
            "grid_column": null,
            "grid_gap": null,
            "grid_row": null,
            "grid_template_areas": null,
            "grid_template_columns": null,
            "grid_template_rows": null,
            "height": null,
            "justify_content": null,
            "justify_items": null,
            "left": null,
            "margin": null,
            "max_height": null,
            "max_width": null,
            "min_height": null,
            "min_width": null,
            "object_fit": null,
            "object_position": null,
            "order": null,
            "overflow": null,
            "overflow_x": null,
            "overflow_y": null,
            "padding": null,
            "right": null,
            "top": null,
            "visibility": null,
            "width": null
          }
        },
        "faafe88c8f4a456a81ded3b9750e46fe": {
          "model_module": "@jupyter-widgets/controls",
          "model_name": "DescriptionStyleModel",
          "model_module_version": "1.5.0",
          "state": {
            "_model_module": "@jupyter-widgets/controls",
            "_model_module_version": "1.5.0",
            "_model_name": "DescriptionStyleModel",
            "_view_count": null,
            "_view_module": "@jupyter-widgets/base",
            "_view_module_version": "1.2.0",
            "_view_name": "StyleView",
            "description_width": ""
          }
        },
        "916fc52bc3584af9ad69873e728c3757": {
          "model_module": "@jupyter-widgets/base",
          "model_name": "LayoutModel",
          "model_module_version": "1.2.0",
          "state": {
            "_model_module": "@jupyter-widgets/base",
            "_model_module_version": "1.2.0",
            "_model_name": "LayoutModel",
            "_view_count": null,
            "_view_module": "@jupyter-widgets/base",
            "_view_module_version": "1.2.0",
            "_view_name": "LayoutView",
            "align_content": null,
            "align_items": null,
            "align_self": null,
            "border": null,
            "bottom": null,
            "display": null,
            "flex": null,
            "flex_flow": null,
            "grid_area": null,
            "grid_auto_columns": null,
            "grid_auto_flow": null,
            "grid_auto_rows": null,
            "grid_column": null,
            "grid_gap": null,
            "grid_row": null,
            "grid_template_areas": null,
            "grid_template_columns": null,
            "grid_template_rows": null,
            "height": null,
            "justify_content": null,
            "justify_items": null,
            "left": null,
            "margin": null,
            "max_height": null,
            "max_width": null,
            "min_height": null,
            "min_width": null,
            "object_fit": null,
            "object_position": null,
            "order": null,
            "overflow": null,
            "overflow_x": null,
            "overflow_y": null,
            "padding": null,
            "right": null,
            "top": null,
            "visibility": null,
            "width": null
          }
        },
        "03b94dfa88c341619f59ca7d9e35a016": {
          "model_module": "@jupyter-widgets/controls",
          "model_name": "ProgressStyleModel",
          "model_module_version": "1.5.0",
          "state": {
            "_model_module": "@jupyter-widgets/controls",
            "_model_module_version": "1.5.0",
            "_model_name": "ProgressStyleModel",
            "_view_count": null,
            "_view_module": "@jupyter-widgets/base",
            "_view_module_version": "1.2.0",
            "_view_name": "StyleView",
            "bar_color": null,
            "description_width": ""
          }
        },
        "7022c422750e4825a0a0b825b50d9259": {
          "model_module": "@jupyter-widgets/base",
          "model_name": "LayoutModel",
          "model_module_version": "1.2.0",
          "state": {
            "_model_module": "@jupyter-widgets/base",
            "_model_module_version": "1.2.0",
            "_model_name": "LayoutModel",
            "_view_count": null,
            "_view_module": "@jupyter-widgets/base",
            "_view_module_version": "1.2.0",
            "_view_name": "LayoutView",
            "align_content": null,
            "align_items": null,
            "align_self": null,
            "border": null,
            "bottom": null,
            "display": null,
            "flex": null,
            "flex_flow": null,
            "grid_area": null,
            "grid_auto_columns": null,
            "grid_auto_flow": null,
            "grid_auto_rows": null,
            "grid_column": null,
            "grid_gap": null,
            "grid_row": null,
            "grid_template_areas": null,
            "grid_template_columns": null,
            "grid_template_rows": null,
            "height": null,
            "justify_content": null,
            "justify_items": null,
            "left": null,
            "margin": null,
            "max_height": null,
            "max_width": null,
            "min_height": null,
            "min_width": null,
            "object_fit": null,
            "object_position": null,
            "order": null,
            "overflow": null,
            "overflow_x": null,
            "overflow_y": null,
            "padding": null,
            "right": null,
            "top": null,
            "visibility": null,
            "width": null
          }
        },
        "309cbce629e0456d9427aefeee8005ff": {
          "model_module": "@jupyter-widgets/controls",
          "model_name": "DescriptionStyleModel",
          "model_module_version": "1.5.0",
          "state": {
            "_model_module": "@jupyter-widgets/controls",
            "_model_module_version": "1.5.0",
            "_model_name": "DescriptionStyleModel",
            "_view_count": null,
            "_view_module": "@jupyter-widgets/base",
            "_view_module_version": "1.2.0",
            "_view_name": "StyleView",
            "description_width": ""
          }
        },
        "df93b9f9fcef4c0eba70b42fd835e9c9": {
          "model_module": "@jupyter-widgets/controls",
          "model_name": "VBoxModel",
          "model_module_version": "1.5.0",
          "state": {
            "_dom_classes": [],
            "_model_module": "@jupyter-widgets/controls",
            "_model_module_version": "1.5.0",
            "_model_name": "VBoxModel",
            "_view_count": null,
            "_view_module": "@jupyter-widgets/controls",
            "_view_module_version": "1.5.0",
            "_view_name": "VBoxView",
            "box_style": "",
            "children": [
              "IPY_MODEL_5876b1f53b874540a0c92661626ccf34",
              "IPY_MODEL_0508a6724744455c806321e45902bea3",
              "IPY_MODEL_565dbcd4efe14ae189f59daa171c3b0a",
              "IPY_MODEL_c0f5e2f1bb014df38861ce6747d33930"
            ],
            "layout": "IPY_MODEL_2dc30904cb2942a788005938febd880c"
          }
        },
        "072c33b7a08340dabe23a602ead647e6": {
          "model_module": "@jupyter-widgets/controls",
          "model_name": "HTMLModel",
          "model_module_version": "1.5.0",
          "state": {
            "_dom_classes": [],
            "_model_module": "@jupyter-widgets/controls",
            "_model_module_version": "1.5.0",
            "_model_name": "HTMLModel",
            "_view_count": null,
            "_view_module": "@jupyter-widgets/controls",
            "_view_module_version": "1.5.0",
            "_view_name": "HTMLView",
            "description": "",
            "description_tooltip": null,
            "layout": "IPY_MODEL_8a47e9c258484b5da01b860a2ece8d45",
            "placeholder": "​",
            "style": "IPY_MODEL_6f869d56239c44f69963d19dec380841",
            "value": "<center> <img\nsrc=https://huggingface.co/front/assets/huggingface_logo-noborder.svg\nalt='Hugging Face'> <br> Copy a token from <a\nhref=\"https://huggingface.co/settings/tokens\" target=\"_blank\">your Hugging Face\ntokens page</a> and paste it below. <br> Immediately click login after copying\nyour token or it might be stored in plain text in this notebook file. </center>"
          }
        },
        "11028aef558646ba9900f1cc452bffcd": {
          "model_module": "@jupyter-widgets/controls",
          "model_name": "PasswordModel",
          "model_module_version": "1.5.0",
          "state": {
            "_dom_classes": [],
            "_model_module": "@jupyter-widgets/controls",
            "_model_module_version": "1.5.0",
            "_model_name": "PasswordModel",
            "_view_count": null,
            "_view_module": "@jupyter-widgets/controls",
            "_view_module_version": "1.5.0",
            "_view_name": "PasswordView",
            "continuous_update": true,
            "description": "Token:",
            "description_tooltip": null,
            "disabled": false,
            "layout": "IPY_MODEL_410f391f4aa44fa2afebb98c27dd8a7e",
            "placeholder": "​",
            "style": "IPY_MODEL_178e0ff754a741199184f5f0ebb6a8d1",
            "value": ""
          }
        },
        "cbf196e719e041ff88ab60ac31361a04": {
          "model_module": "@jupyter-widgets/controls",
          "model_name": "CheckboxModel",
          "model_module_version": "1.5.0",
          "state": {
            "_dom_classes": [],
            "_model_module": "@jupyter-widgets/controls",
            "_model_module_version": "1.5.0",
            "_model_name": "CheckboxModel",
            "_view_count": null,
            "_view_module": "@jupyter-widgets/controls",
            "_view_module_version": "1.5.0",
            "_view_name": "CheckboxView",
            "description": "Add token as git credential?",
            "description_tooltip": null,
            "disabled": false,
            "indent": true,
            "layout": "IPY_MODEL_69440b4e30364a4a9f652ba9a36fafcd",
            "style": "IPY_MODEL_7cd5a8db8f824194ba23ca751b7b266f",
            "value": true
          }
        },
        "afadbcbc0fa74bc1b5000a37b9a07614": {
          "model_module": "@jupyter-widgets/controls",
          "model_name": "ButtonModel",
          "model_module_version": "1.5.0",
          "state": {
            "_dom_classes": [],
            "_model_module": "@jupyter-widgets/controls",
            "_model_module_version": "1.5.0",
            "_model_name": "ButtonModel",
            "_view_count": null,
            "_view_module": "@jupyter-widgets/controls",
            "_view_module_version": "1.5.0",
            "_view_name": "ButtonView",
            "button_style": "",
            "description": "Login",
            "disabled": false,
            "icon": "",
            "layout": "IPY_MODEL_4d844c9b03cb4a609cda222b3370ee4d",
            "style": "IPY_MODEL_e11fe67e6e6e4b48bfbd5dda8e00d2b9",
            "tooltip": ""
          }
        },
        "a35ba67143314429ae6b3dbbb6f41898": {
          "model_module": "@jupyter-widgets/controls",
          "model_name": "HTMLModel",
          "model_module_version": "1.5.0",
          "state": {
            "_dom_classes": [],
            "_model_module": "@jupyter-widgets/controls",
            "_model_module_version": "1.5.0",
            "_model_name": "HTMLModel",
            "_view_count": null,
            "_view_module": "@jupyter-widgets/controls",
            "_view_module_version": "1.5.0",
            "_view_name": "HTMLView",
            "description": "",
            "description_tooltip": null,
            "layout": "IPY_MODEL_9a2735bee4b2435b922c7298f4a8f987",
            "placeholder": "​",
            "style": "IPY_MODEL_cb35b8331f2648cda36198150f71adbd",
            "value": "\n<b>Pro Tip:</b> If you don't already have one, you can create a dedicated\n'notebooks' token with 'write' access, that you can then easily reuse for all\nnotebooks. </center>"
          }
        },
        "2dc30904cb2942a788005938febd880c": {
          "model_module": "@jupyter-widgets/base",
          "model_name": "LayoutModel",
          "model_module_version": "1.2.0",
          "state": {
            "_model_module": "@jupyter-widgets/base",
            "_model_module_version": "1.2.0",
            "_model_name": "LayoutModel",
            "_view_count": null,
            "_view_module": "@jupyter-widgets/base",
            "_view_module_version": "1.2.0",
            "_view_name": "LayoutView",
            "align_content": null,
            "align_items": "center",
            "align_self": null,
            "border": null,
            "bottom": null,
            "display": "flex",
            "flex": null,
            "flex_flow": "column",
            "grid_area": null,
            "grid_auto_columns": null,
            "grid_auto_flow": null,
            "grid_auto_rows": null,
            "grid_column": null,
            "grid_gap": null,
            "grid_row": null,
            "grid_template_areas": null,
            "grid_template_columns": null,
            "grid_template_rows": null,
            "height": null,
            "justify_content": null,
            "justify_items": null,
            "left": null,
            "margin": null,
            "max_height": null,
            "max_width": null,
            "min_height": null,
            "min_width": null,
            "object_fit": null,
            "object_position": null,
            "order": null,
            "overflow": null,
            "overflow_x": null,
            "overflow_y": null,
            "padding": null,
            "right": null,
            "top": null,
            "visibility": null,
            "width": "50%"
          }
        },
        "8a47e9c258484b5da01b860a2ece8d45": {
          "model_module": "@jupyter-widgets/base",
          "model_name": "LayoutModel",
          "model_module_version": "1.2.0",
          "state": {
            "_model_module": "@jupyter-widgets/base",
            "_model_module_version": "1.2.0",
            "_model_name": "LayoutModel",
            "_view_count": null,
            "_view_module": "@jupyter-widgets/base",
            "_view_module_version": "1.2.0",
            "_view_name": "LayoutView",
            "align_content": null,
            "align_items": null,
            "align_self": null,
            "border": null,
            "bottom": null,
            "display": null,
            "flex": null,
            "flex_flow": null,
            "grid_area": null,
            "grid_auto_columns": null,
            "grid_auto_flow": null,
            "grid_auto_rows": null,
            "grid_column": null,
            "grid_gap": null,
            "grid_row": null,
            "grid_template_areas": null,
            "grid_template_columns": null,
            "grid_template_rows": null,
            "height": null,
            "justify_content": null,
            "justify_items": null,
            "left": null,
            "margin": null,
            "max_height": null,
            "max_width": null,
            "min_height": null,
            "min_width": null,
            "object_fit": null,
            "object_position": null,
            "order": null,
            "overflow": null,
            "overflow_x": null,
            "overflow_y": null,
            "padding": null,
            "right": null,
            "top": null,
            "visibility": null,
            "width": null
          }
        },
        "6f869d56239c44f69963d19dec380841": {
          "model_module": "@jupyter-widgets/controls",
          "model_name": "DescriptionStyleModel",
          "model_module_version": "1.5.0",
          "state": {
            "_model_module": "@jupyter-widgets/controls",
            "_model_module_version": "1.5.0",
            "_model_name": "DescriptionStyleModel",
            "_view_count": null,
            "_view_module": "@jupyter-widgets/base",
            "_view_module_version": "1.2.0",
            "_view_name": "StyleView",
            "description_width": ""
          }
        },
        "410f391f4aa44fa2afebb98c27dd8a7e": {
          "model_module": "@jupyter-widgets/base",
          "model_name": "LayoutModel",
          "model_module_version": "1.2.0",
          "state": {
            "_model_module": "@jupyter-widgets/base",
            "_model_module_version": "1.2.0",
            "_model_name": "LayoutModel",
            "_view_count": null,
            "_view_module": "@jupyter-widgets/base",
            "_view_module_version": "1.2.0",
            "_view_name": "LayoutView",
            "align_content": null,
            "align_items": null,
            "align_self": null,
            "border": null,
            "bottom": null,
            "display": null,
            "flex": null,
            "flex_flow": null,
            "grid_area": null,
            "grid_auto_columns": null,
            "grid_auto_flow": null,
            "grid_auto_rows": null,
            "grid_column": null,
            "grid_gap": null,
            "grid_row": null,
            "grid_template_areas": null,
            "grid_template_columns": null,
            "grid_template_rows": null,
            "height": null,
            "justify_content": null,
            "justify_items": null,
            "left": null,
            "margin": null,
            "max_height": null,
            "max_width": null,
            "min_height": null,
            "min_width": null,
            "object_fit": null,
            "object_position": null,
            "order": null,
            "overflow": null,
            "overflow_x": null,
            "overflow_y": null,
            "padding": null,
            "right": null,
            "top": null,
            "visibility": null,
            "width": null
          }
        },
        "178e0ff754a741199184f5f0ebb6a8d1": {
          "model_module": "@jupyter-widgets/controls",
          "model_name": "DescriptionStyleModel",
          "model_module_version": "1.5.0",
          "state": {
            "_model_module": "@jupyter-widgets/controls",
            "_model_module_version": "1.5.0",
            "_model_name": "DescriptionStyleModel",
            "_view_count": null,
            "_view_module": "@jupyter-widgets/base",
            "_view_module_version": "1.2.0",
            "_view_name": "StyleView",
            "description_width": ""
          }
        },
        "69440b4e30364a4a9f652ba9a36fafcd": {
          "model_module": "@jupyter-widgets/base",
          "model_name": "LayoutModel",
          "model_module_version": "1.2.0",
          "state": {
            "_model_module": "@jupyter-widgets/base",
            "_model_module_version": "1.2.0",
            "_model_name": "LayoutModel",
            "_view_count": null,
            "_view_module": "@jupyter-widgets/base",
            "_view_module_version": "1.2.0",
            "_view_name": "LayoutView",
            "align_content": null,
            "align_items": null,
            "align_self": null,
            "border": null,
            "bottom": null,
            "display": null,
            "flex": null,
            "flex_flow": null,
            "grid_area": null,
            "grid_auto_columns": null,
            "grid_auto_flow": null,
            "grid_auto_rows": null,
            "grid_column": null,
            "grid_gap": null,
            "grid_row": null,
            "grid_template_areas": null,
            "grid_template_columns": null,
            "grid_template_rows": null,
            "height": null,
            "justify_content": null,
            "justify_items": null,
            "left": null,
            "margin": null,
            "max_height": null,
            "max_width": null,
            "min_height": null,
            "min_width": null,
            "object_fit": null,
            "object_position": null,
            "order": null,
            "overflow": null,
            "overflow_x": null,
            "overflow_y": null,
            "padding": null,
            "right": null,
            "top": null,
            "visibility": null,
            "width": null
          }
        },
        "7cd5a8db8f824194ba23ca751b7b266f": {
          "model_module": "@jupyter-widgets/controls",
          "model_name": "DescriptionStyleModel",
          "model_module_version": "1.5.0",
          "state": {
            "_model_module": "@jupyter-widgets/controls",
            "_model_module_version": "1.5.0",
            "_model_name": "DescriptionStyleModel",
            "_view_count": null,
            "_view_module": "@jupyter-widgets/base",
            "_view_module_version": "1.2.0",
            "_view_name": "StyleView",
            "description_width": ""
          }
        },
        "4d844c9b03cb4a609cda222b3370ee4d": {
          "model_module": "@jupyter-widgets/base",
          "model_name": "LayoutModel",
          "model_module_version": "1.2.0",
          "state": {
            "_model_module": "@jupyter-widgets/base",
            "_model_module_version": "1.2.0",
            "_model_name": "LayoutModel",
            "_view_count": null,
            "_view_module": "@jupyter-widgets/base",
            "_view_module_version": "1.2.0",
            "_view_name": "LayoutView",
            "align_content": null,
            "align_items": null,
            "align_self": null,
            "border": null,
            "bottom": null,
            "display": null,
            "flex": null,
            "flex_flow": null,
            "grid_area": null,
            "grid_auto_columns": null,
            "grid_auto_flow": null,
            "grid_auto_rows": null,
            "grid_column": null,
            "grid_gap": null,
            "grid_row": null,
            "grid_template_areas": null,
            "grid_template_columns": null,
            "grid_template_rows": null,
            "height": null,
            "justify_content": null,
            "justify_items": null,
            "left": null,
            "margin": null,
            "max_height": null,
            "max_width": null,
            "min_height": null,
            "min_width": null,
            "object_fit": null,
            "object_position": null,
            "order": null,
            "overflow": null,
            "overflow_x": null,
            "overflow_y": null,
            "padding": null,
            "right": null,
            "top": null,
            "visibility": null,
            "width": null
          }
        },
        "e11fe67e6e6e4b48bfbd5dda8e00d2b9": {
          "model_module": "@jupyter-widgets/controls",
          "model_name": "ButtonStyleModel",
          "model_module_version": "1.5.0",
          "state": {
            "_model_module": "@jupyter-widgets/controls",
            "_model_module_version": "1.5.0",
            "_model_name": "ButtonStyleModel",
            "_view_count": null,
            "_view_module": "@jupyter-widgets/base",
            "_view_module_version": "1.2.0",
            "_view_name": "StyleView",
            "button_color": null,
            "font_weight": ""
          }
        },
        "9a2735bee4b2435b922c7298f4a8f987": {
          "model_module": "@jupyter-widgets/base",
          "model_name": "LayoutModel",
          "model_module_version": "1.2.0",
          "state": {
            "_model_module": "@jupyter-widgets/base",
            "_model_module_version": "1.2.0",
            "_model_name": "LayoutModel",
            "_view_count": null,
            "_view_module": "@jupyter-widgets/base",
            "_view_module_version": "1.2.0",
            "_view_name": "LayoutView",
            "align_content": null,
            "align_items": null,
            "align_self": null,
            "border": null,
            "bottom": null,
            "display": null,
            "flex": null,
            "flex_flow": null,
            "grid_area": null,
            "grid_auto_columns": null,
            "grid_auto_flow": null,
            "grid_auto_rows": null,
            "grid_column": null,
            "grid_gap": null,
            "grid_row": null,
            "grid_template_areas": null,
            "grid_template_columns": null,
            "grid_template_rows": null,
            "height": null,
            "justify_content": null,
            "justify_items": null,
            "left": null,
            "margin": null,
            "max_height": null,
            "max_width": null,
            "min_height": null,
            "min_width": null,
            "object_fit": null,
            "object_position": null,
            "order": null,
            "overflow": null,
            "overflow_x": null,
            "overflow_y": null,
            "padding": null,
            "right": null,
            "top": null,
            "visibility": null,
            "width": null
          }
        },
        "cb35b8331f2648cda36198150f71adbd": {
          "model_module": "@jupyter-widgets/controls",
          "model_name": "DescriptionStyleModel",
          "model_module_version": "1.5.0",
          "state": {
            "_model_module": "@jupyter-widgets/controls",
            "_model_module_version": "1.5.0",
            "_model_name": "DescriptionStyleModel",
            "_view_count": null,
            "_view_module": "@jupyter-widgets/base",
            "_view_module_version": "1.2.0",
            "_view_name": "StyleView",
            "description_width": ""
          }
        },
        "33fffe6f8fec479d9d9c646f5bcfb1b6": {
          "model_module": "@jupyter-widgets/controls",
          "model_name": "LabelModel",
          "model_module_version": "1.5.0",
          "state": {
            "_dom_classes": [],
            "_model_module": "@jupyter-widgets/controls",
            "_model_module_version": "1.5.0",
            "_model_name": "LabelModel",
            "_view_count": null,
            "_view_module": "@jupyter-widgets/controls",
            "_view_module_version": "1.5.0",
            "_view_name": "LabelView",
            "description": "",
            "description_tooltip": null,
            "layout": "IPY_MODEL_d350e047d5584b0bb2dd7d04c0e3703f",
            "placeholder": "​",
            "style": "IPY_MODEL_5cdc99f5dc3e42c3b68e5d5b043e05e9",
            "value": "Connecting..."
          }
        },
        "d350e047d5584b0bb2dd7d04c0e3703f": {
          "model_module": "@jupyter-widgets/base",
          "model_name": "LayoutModel",
          "model_module_version": "1.2.0",
          "state": {
            "_model_module": "@jupyter-widgets/base",
            "_model_module_version": "1.2.0",
            "_model_name": "LayoutModel",
            "_view_count": null,
            "_view_module": "@jupyter-widgets/base",
            "_view_module_version": "1.2.0",
            "_view_name": "LayoutView",
            "align_content": null,
            "align_items": null,
            "align_self": null,
            "border": null,
            "bottom": null,
            "display": null,
            "flex": null,
            "flex_flow": null,
            "grid_area": null,
            "grid_auto_columns": null,
            "grid_auto_flow": null,
            "grid_auto_rows": null,
            "grid_column": null,
            "grid_gap": null,
            "grid_row": null,
            "grid_template_areas": null,
            "grid_template_columns": null,
            "grid_template_rows": null,
            "height": null,
            "justify_content": null,
            "justify_items": null,
            "left": null,
            "margin": null,
            "max_height": null,
            "max_width": null,
            "min_height": null,
            "min_width": null,
            "object_fit": null,
            "object_position": null,
            "order": null,
            "overflow": null,
            "overflow_x": null,
            "overflow_y": null,
            "padding": null,
            "right": null,
            "top": null,
            "visibility": null,
            "width": null
          }
        },
        "5cdc99f5dc3e42c3b68e5d5b043e05e9": {
          "model_module": "@jupyter-widgets/controls",
          "model_name": "DescriptionStyleModel",
          "model_module_version": "1.5.0",
          "state": {
            "_model_module": "@jupyter-widgets/controls",
            "_model_module_version": "1.5.0",
            "_model_name": "DescriptionStyleModel",
            "_view_count": null,
            "_view_module": "@jupyter-widgets/base",
            "_view_module_version": "1.2.0",
            "_view_name": "StyleView",
            "description_width": ""
          }
        },
        "5876b1f53b874540a0c92661626ccf34": {
          "model_module": "@jupyter-widgets/controls",
          "model_name": "LabelModel",
          "model_module_version": "1.5.0",
          "state": {
            "_dom_classes": [],
            "_model_module": "@jupyter-widgets/controls",
            "_model_module_version": "1.5.0",
            "_model_name": "LabelModel",
            "_view_count": null,
            "_view_module": "@jupyter-widgets/controls",
            "_view_module_version": "1.5.0",
            "_view_name": "LabelView",
            "description": "",
            "description_tooltip": null,
            "layout": "IPY_MODEL_14c9924a132b474691da9afc8d0c88b9",
            "placeholder": "​",
            "style": "IPY_MODEL_0746097e3fc64208b8c0b10b178ec34b",
            "value": "Token is valid (permission: write)."
          }
        },
        "0508a6724744455c806321e45902bea3": {
          "model_module": "@jupyter-widgets/controls",
          "model_name": "LabelModel",
          "model_module_version": "1.5.0",
          "state": {
            "_dom_classes": [],
            "_model_module": "@jupyter-widgets/controls",
            "_model_module_version": "1.5.0",
            "_model_name": "LabelModel",
            "_view_count": null,
            "_view_module": "@jupyter-widgets/controls",
            "_view_module_version": "1.5.0",
            "_view_name": "LabelView",
            "description": "",
            "description_tooltip": null,
            "layout": "IPY_MODEL_84803f0e27cb4d1eb675ed733976627f",
            "placeholder": "​",
            "style": "IPY_MODEL_6a1928bb9a8540bab75c8bddb72f629f",
            "value": "Your token has been saved in your configured git credential helpers (store)."
          }
        },
        "565dbcd4efe14ae189f59daa171c3b0a": {
          "model_module": "@jupyter-widgets/controls",
          "model_name": "LabelModel",
          "model_module_version": "1.5.0",
          "state": {
            "_dom_classes": [],
            "_model_module": "@jupyter-widgets/controls",
            "_model_module_version": "1.5.0",
            "_model_name": "LabelModel",
            "_view_count": null,
            "_view_module": "@jupyter-widgets/controls",
            "_view_module_version": "1.5.0",
            "_view_name": "LabelView",
            "description": "",
            "description_tooltip": null,
            "layout": "IPY_MODEL_0a9e225cd309448c9a42e6410262b21a",
            "placeholder": "​",
            "style": "IPY_MODEL_88f2b44b0fec41b5bf7804e114e4738e",
            "value": "Your token has been saved to /root/.cache/huggingface/token"
          }
        },
        "c0f5e2f1bb014df38861ce6747d33930": {
          "model_module": "@jupyter-widgets/controls",
          "model_name": "LabelModel",
          "model_module_version": "1.5.0",
          "state": {
            "_dom_classes": [],
            "_model_module": "@jupyter-widgets/controls",
            "_model_module_version": "1.5.0",
            "_model_name": "LabelModel",
            "_view_count": null,
            "_view_module": "@jupyter-widgets/controls",
            "_view_module_version": "1.5.0",
            "_view_name": "LabelView",
            "description": "",
            "description_tooltip": null,
            "layout": "IPY_MODEL_1dce1f5f3f5540aebf896e8f9d8234d7",
            "placeholder": "​",
            "style": "IPY_MODEL_4a7b51cce5d74651bce9e8789ce7a058",
            "value": "Login successful"
          }
        },
        "14c9924a132b474691da9afc8d0c88b9": {
          "model_module": "@jupyter-widgets/base",
          "model_name": "LayoutModel",
          "model_module_version": "1.2.0",
          "state": {
            "_model_module": "@jupyter-widgets/base",
            "_model_module_version": "1.2.0",
            "_model_name": "LayoutModel",
            "_view_count": null,
            "_view_module": "@jupyter-widgets/base",
            "_view_module_version": "1.2.0",
            "_view_name": "LayoutView",
            "align_content": null,
            "align_items": null,
            "align_self": null,
            "border": null,
            "bottom": null,
            "display": null,
            "flex": null,
            "flex_flow": null,
            "grid_area": null,
            "grid_auto_columns": null,
            "grid_auto_flow": null,
            "grid_auto_rows": null,
            "grid_column": null,
            "grid_gap": null,
            "grid_row": null,
            "grid_template_areas": null,
            "grid_template_columns": null,
            "grid_template_rows": null,
            "height": null,
            "justify_content": null,
            "justify_items": null,
            "left": null,
            "margin": null,
            "max_height": null,
            "max_width": null,
            "min_height": null,
            "min_width": null,
            "object_fit": null,
            "object_position": null,
            "order": null,
            "overflow": null,
            "overflow_x": null,
            "overflow_y": null,
            "padding": null,
            "right": null,
            "top": null,
            "visibility": null,
            "width": null
          }
        },
        "0746097e3fc64208b8c0b10b178ec34b": {
          "model_module": "@jupyter-widgets/controls",
          "model_name": "DescriptionStyleModel",
          "model_module_version": "1.5.0",
          "state": {
            "_model_module": "@jupyter-widgets/controls",
            "_model_module_version": "1.5.0",
            "_model_name": "DescriptionStyleModel",
            "_view_count": null,
            "_view_module": "@jupyter-widgets/base",
            "_view_module_version": "1.2.0",
            "_view_name": "StyleView",
            "description_width": ""
          }
        },
        "84803f0e27cb4d1eb675ed733976627f": {
          "model_module": "@jupyter-widgets/base",
          "model_name": "LayoutModel",
          "model_module_version": "1.2.0",
          "state": {
            "_model_module": "@jupyter-widgets/base",
            "_model_module_version": "1.2.0",
            "_model_name": "LayoutModel",
            "_view_count": null,
            "_view_module": "@jupyter-widgets/base",
            "_view_module_version": "1.2.0",
            "_view_name": "LayoutView",
            "align_content": null,
            "align_items": null,
            "align_self": null,
            "border": null,
            "bottom": null,
            "display": null,
            "flex": null,
            "flex_flow": null,
            "grid_area": null,
            "grid_auto_columns": null,
            "grid_auto_flow": null,
            "grid_auto_rows": null,
            "grid_column": null,
            "grid_gap": null,
            "grid_row": null,
            "grid_template_areas": null,
            "grid_template_columns": null,
            "grid_template_rows": null,
            "height": null,
            "justify_content": null,
            "justify_items": null,
            "left": null,
            "margin": null,
            "max_height": null,
            "max_width": null,
            "min_height": null,
            "min_width": null,
            "object_fit": null,
            "object_position": null,
            "order": null,
            "overflow": null,
            "overflow_x": null,
            "overflow_y": null,
            "padding": null,
            "right": null,
            "top": null,
            "visibility": null,
            "width": null
          }
        },
        "6a1928bb9a8540bab75c8bddb72f629f": {
          "model_module": "@jupyter-widgets/controls",
          "model_name": "DescriptionStyleModel",
          "model_module_version": "1.5.0",
          "state": {
            "_model_module": "@jupyter-widgets/controls",
            "_model_module_version": "1.5.0",
            "_model_name": "DescriptionStyleModel",
            "_view_count": null,
            "_view_module": "@jupyter-widgets/base",
            "_view_module_version": "1.2.0",
            "_view_name": "StyleView",
            "description_width": ""
          }
        },
        "0a9e225cd309448c9a42e6410262b21a": {
          "model_module": "@jupyter-widgets/base",
          "model_name": "LayoutModel",
          "model_module_version": "1.2.0",
          "state": {
            "_model_module": "@jupyter-widgets/base",
            "_model_module_version": "1.2.0",
            "_model_name": "LayoutModel",
            "_view_count": null,
            "_view_module": "@jupyter-widgets/base",
            "_view_module_version": "1.2.0",
            "_view_name": "LayoutView",
            "align_content": null,
            "align_items": null,
            "align_self": null,
            "border": null,
            "bottom": null,
            "display": null,
            "flex": null,
            "flex_flow": null,
            "grid_area": null,
            "grid_auto_columns": null,
            "grid_auto_flow": null,
            "grid_auto_rows": null,
            "grid_column": null,
            "grid_gap": null,
            "grid_row": null,
            "grid_template_areas": null,
            "grid_template_columns": null,
            "grid_template_rows": null,
            "height": null,
            "justify_content": null,
            "justify_items": null,
            "left": null,
            "margin": null,
            "max_height": null,
            "max_width": null,
            "min_height": null,
            "min_width": null,
            "object_fit": null,
            "object_position": null,
            "order": null,
            "overflow": null,
            "overflow_x": null,
            "overflow_y": null,
            "padding": null,
            "right": null,
            "top": null,
            "visibility": null,
            "width": null
          }
        },
        "88f2b44b0fec41b5bf7804e114e4738e": {
          "model_module": "@jupyter-widgets/controls",
          "model_name": "DescriptionStyleModel",
          "model_module_version": "1.5.0",
          "state": {
            "_model_module": "@jupyter-widgets/controls",
            "_model_module_version": "1.5.0",
            "_model_name": "DescriptionStyleModel",
            "_view_count": null,
            "_view_module": "@jupyter-widgets/base",
            "_view_module_version": "1.2.0",
            "_view_name": "StyleView",
            "description_width": ""
          }
        },
        "1dce1f5f3f5540aebf896e8f9d8234d7": {
          "model_module": "@jupyter-widgets/base",
          "model_name": "LayoutModel",
          "model_module_version": "1.2.0",
          "state": {
            "_model_module": "@jupyter-widgets/base",
            "_model_module_version": "1.2.0",
            "_model_name": "LayoutModel",
            "_view_count": null,
            "_view_module": "@jupyter-widgets/base",
            "_view_module_version": "1.2.0",
            "_view_name": "LayoutView",
            "align_content": null,
            "align_items": null,
            "align_self": null,
            "border": null,
            "bottom": null,
            "display": null,
            "flex": null,
            "flex_flow": null,
            "grid_area": null,
            "grid_auto_columns": null,
            "grid_auto_flow": null,
            "grid_auto_rows": null,
            "grid_column": null,
            "grid_gap": null,
            "grid_row": null,
            "grid_template_areas": null,
            "grid_template_columns": null,
            "grid_template_rows": null,
            "height": null,
            "justify_content": null,
            "justify_items": null,
            "left": null,
            "margin": null,
            "max_height": null,
            "max_width": null,
            "min_height": null,
            "min_width": null,
            "object_fit": null,
            "object_position": null,
            "order": null,
            "overflow": null,
            "overflow_x": null,
            "overflow_y": null,
            "padding": null,
            "right": null,
            "top": null,
            "visibility": null,
            "width": null
          }
        },
        "4a7b51cce5d74651bce9e8789ce7a058": {
          "model_module": "@jupyter-widgets/controls",
          "model_name": "DescriptionStyleModel",
          "model_module_version": "1.5.0",
          "state": {
            "_model_module": "@jupyter-widgets/controls",
            "_model_module_version": "1.5.0",
            "_model_name": "DescriptionStyleModel",
            "_view_count": null,
            "_view_module": "@jupyter-widgets/base",
            "_view_module_version": "1.2.0",
            "_view_name": "StyleView",
            "description_width": ""
          }
        },
        "7605ed389ba14c4ca6cc51830aae20e6": {
          "model_module": "@jupyter-widgets/controls",
          "model_name": "HBoxModel",
          "model_module_version": "1.5.0",
          "state": {
            "_dom_classes": [],
            "_model_module": "@jupyter-widgets/controls",
            "_model_module_version": "1.5.0",
            "_model_name": "HBoxModel",
            "_view_count": null,
            "_view_module": "@jupyter-widgets/controls",
            "_view_module_version": "1.5.0",
            "_view_name": "HBoxView",
            "box_style": "",
            "children": [
              "IPY_MODEL_ca0780bb88d44fde9ac2c963db9894d8",
              "IPY_MODEL_58d81a48115841aa9dfb118d23a9eb68",
              "IPY_MODEL_7381b17441f94868a55236fa7843f965"
            ],
            "layout": "IPY_MODEL_0ef9cea5e3fd4985b4d612a43065aa8d"
          }
        },
        "ca0780bb88d44fde9ac2c963db9894d8": {
          "model_module": "@jupyter-widgets/controls",
          "model_name": "HTMLModel",
          "model_module_version": "1.5.0",
          "state": {
            "_dom_classes": [],
            "_model_module": "@jupyter-widgets/controls",
            "_model_module_version": "1.5.0",
            "_model_name": "HTMLModel",
            "_view_count": null,
            "_view_module": "@jupyter-widgets/controls",
            "_view_module_version": "1.5.0",
            "_view_name": "HTMLView",
            "description": "",
            "description_tooltip": null,
            "layout": "IPY_MODEL_188a13cfba2347828480149bd3fe1d29",
            "placeholder": "​",
            "style": "IPY_MODEL_88d9ccd9dd5643b395b106bb55df36af",
            "value": "model.safetensors: 100%"
          }
        },
        "58d81a48115841aa9dfb118d23a9eb68": {
          "model_module": "@jupyter-widgets/controls",
          "model_name": "FloatProgressModel",
          "model_module_version": "1.5.0",
          "state": {
            "_dom_classes": [],
            "_model_module": "@jupyter-widgets/controls",
            "_model_module_version": "1.5.0",
            "_model_name": "FloatProgressModel",
            "_view_count": null,
            "_view_module": "@jupyter-widgets/controls",
            "_view_module_version": "1.5.0",
            "_view_name": "ProgressView",
            "bar_style": "success",
            "description": "",
            "description_tooltip": null,
            "layout": "IPY_MODEL_9bb6fc7852a24fbe8c28e4fdc134ea6b",
            "max": 267954768,
            "min": 0,
            "orientation": "horizontal",
            "style": "IPY_MODEL_eb0425c0c9de4435acace714f6978f17",
            "value": 267954768
          }
        },
        "7381b17441f94868a55236fa7843f965": {
          "model_module": "@jupyter-widgets/controls",
          "model_name": "HTMLModel",
          "model_module_version": "1.5.0",
          "state": {
            "_dom_classes": [],
            "_model_module": "@jupyter-widgets/controls",
            "_model_module_version": "1.5.0",
            "_model_name": "HTMLModel",
            "_view_count": null,
            "_view_module": "@jupyter-widgets/controls",
            "_view_module_version": "1.5.0",
            "_view_name": "HTMLView",
            "description": "",
            "description_tooltip": null,
            "layout": "IPY_MODEL_ce77b1794f68421182809de3508ce679",
            "placeholder": "​",
            "style": "IPY_MODEL_afa0a6a2833349a79c8327bd451407a5",
            "value": " 268M/268M [00:01&lt;00:00, 220MB/s]"
          }
        },
        "0ef9cea5e3fd4985b4d612a43065aa8d": {
          "model_module": "@jupyter-widgets/base",
          "model_name": "LayoutModel",
          "model_module_version": "1.2.0",
          "state": {
            "_model_module": "@jupyter-widgets/base",
            "_model_module_version": "1.2.0",
            "_model_name": "LayoutModel",
            "_view_count": null,
            "_view_module": "@jupyter-widgets/base",
            "_view_module_version": "1.2.0",
            "_view_name": "LayoutView",
            "align_content": null,
            "align_items": null,
            "align_self": null,
            "border": null,
            "bottom": null,
            "display": null,
            "flex": null,
            "flex_flow": null,
            "grid_area": null,
            "grid_auto_columns": null,
            "grid_auto_flow": null,
            "grid_auto_rows": null,
            "grid_column": null,
            "grid_gap": null,
            "grid_row": null,
            "grid_template_areas": null,
            "grid_template_columns": null,
            "grid_template_rows": null,
            "height": null,
            "justify_content": null,
            "justify_items": null,
            "left": null,
            "margin": null,
            "max_height": null,
            "max_width": null,
            "min_height": null,
            "min_width": null,
            "object_fit": null,
            "object_position": null,
            "order": null,
            "overflow": null,
            "overflow_x": null,
            "overflow_y": null,
            "padding": null,
            "right": null,
            "top": null,
            "visibility": null,
            "width": null
          }
        },
        "188a13cfba2347828480149bd3fe1d29": {
          "model_module": "@jupyter-widgets/base",
          "model_name": "LayoutModel",
          "model_module_version": "1.2.0",
          "state": {
            "_model_module": "@jupyter-widgets/base",
            "_model_module_version": "1.2.0",
            "_model_name": "LayoutModel",
            "_view_count": null,
            "_view_module": "@jupyter-widgets/base",
            "_view_module_version": "1.2.0",
            "_view_name": "LayoutView",
            "align_content": null,
            "align_items": null,
            "align_self": null,
            "border": null,
            "bottom": null,
            "display": null,
            "flex": null,
            "flex_flow": null,
            "grid_area": null,
            "grid_auto_columns": null,
            "grid_auto_flow": null,
            "grid_auto_rows": null,
            "grid_column": null,
            "grid_gap": null,
            "grid_row": null,
            "grid_template_areas": null,
            "grid_template_columns": null,
            "grid_template_rows": null,
            "height": null,
            "justify_content": null,
            "justify_items": null,
            "left": null,
            "margin": null,
            "max_height": null,
            "max_width": null,
            "min_height": null,
            "min_width": null,
            "object_fit": null,
            "object_position": null,
            "order": null,
            "overflow": null,
            "overflow_x": null,
            "overflow_y": null,
            "padding": null,
            "right": null,
            "top": null,
            "visibility": null,
            "width": null
          }
        },
        "88d9ccd9dd5643b395b106bb55df36af": {
          "model_module": "@jupyter-widgets/controls",
          "model_name": "DescriptionStyleModel",
          "model_module_version": "1.5.0",
          "state": {
            "_model_module": "@jupyter-widgets/controls",
            "_model_module_version": "1.5.0",
            "_model_name": "DescriptionStyleModel",
            "_view_count": null,
            "_view_module": "@jupyter-widgets/base",
            "_view_module_version": "1.2.0",
            "_view_name": "StyleView",
            "description_width": ""
          }
        },
        "9bb6fc7852a24fbe8c28e4fdc134ea6b": {
          "model_module": "@jupyter-widgets/base",
          "model_name": "LayoutModel",
          "model_module_version": "1.2.0",
          "state": {
            "_model_module": "@jupyter-widgets/base",
            "_model_module_version": "1.2.0",
            "_model_name": "LayoutModel",
            "_view_count": null,
            "_view_module": "@jupyter-widgets/base",
            "_view_module_version": "1.2.0",
            "_view_name": "LayoutView",
            "align_content": null,
            "align_items": null,
            "align_self": null,
            "border": null,
            "bottom": null,
            "display": null,
            "flex": null,
            "flex_flow": null,
            "grid_area": null,
            "grid_auto_columns": null,
            "grid_auto_flow": null,
            "grid_auto_rows": null,
            "grid_column": null,
            "grid_gap": null,
            "grid_row": null,
            "grid_template_areas": null,
            "grid_template_columns": null,
            "grid_template_rows": null,
            "height": null,
            "justify_content": null,
            "justify_items": null,
            "left": null,
            "margin": null,
            "max_height": null,
            "max_width": null,
            "min_height": null,
            "min_width": null,
            "object_fit": null,
            "object_position": null,
            "order": null,
            "overflow": null,
            "overflow_x": null,
            "overflow_y": null,
            "padding": null,
            "right": null,
            "top": null,
            "visibility": null,
            "width": null
          }
        },
        "eb0425c0c9de4435acace714f6978f17": {
          "model_module": "@jupyter-widgets/controls",
          "model_name": "ProgressStyleModel",
          "model_module_version": "1.5.0",
          "state": {
            "_model_module": "@jupyter-widgets/controls",
            "_model_module_version": "1.5.0",
            "_model_name": "ProgressStyleModel",
            "_view_count": null,
            "_view_module": "@jupyter-widgets/base",
            "_view_module_version": "1.2.0",
            "_view_name": "StyleView",
            "bar_color": null,
            "description_width": ""
          }
        },
        "ce77b1794f68421182809de3508ce679": {
          "model_module": "@jupyter-widgets/base",
          "model_name": "LayoutModel",
          "model_module_version": "1.2.0",
          "state": {
            "_model_module": "@jupyter-widgets/base",
            "_model_module_version": "1.2.0",
            "_model_name": "LayoutModel",
            "_view_count": null,
            "_view_module": "@jupyter-widgets/base",
            "_view_module_version": "1.2.0",
            "_view_name": "LayoutView",
            "align_content": null,
            "align_items": null,
            "align_self": null,
            "border": null,
            "bottom": null,
            "display": null,
            "flex": null,
            "flex_flow": null,
            "grid_area": null,
            "grid_auto_columns": null,
            "grid_auto_flow": null,
            "grid_auto_rows": null,
            "grid_column": null,
            "grid_gap": null,
            "grid_row": null,
            "grid_template_areas": null,
            "grid_template_columns": null,
            "grid_template_rows": null,
            "height": null,
            "justify_content": null,
            "justify_items": null,
            "left": null,
            "margin": null,
            "max_height": null,
            "max_width": null,
            "min_height": null,
            "min_width": null,
            "object_fit": null,
            "object_position": null,
            "order": null,
            "overflow": null,
            "overflow_x": null,
            "overflow_y": null,
            "padding": null,
            "right": null,
            "top": null,
            "visibility": null,
            "width": null
          }
        },
        "afa0a6a2833349a79c8327bd451407a5": {
          "model_module": "@jupyter-widgets/controls",
          "model_name": "DescriptionStyleModel",
          "model_module_version": "1.5.0",
          "state": {
            "_model_module": "@jupyter-widgets/controls",
            "_model_module_version": "1.5.0",
            "_model_name": "DescriptionStyleModel",
            "_view_count": null,
            "_view_module": "@jupyter-widgets/base",
            "_view_module_version": "1.2.0",
            "_view_name": "StyleView",
            "description_width": ""
          }
        },
        "ef30c98e80a44aa6a579534e2b56178a": {
          "model_module": "@jupyter-widgets/controls",
          "model_name": "HBoxModel",
          "model_module_version": "1.5.0",
          "state": {
            "_dom_classes": [],
            "_model_module": "@jupyter-widgets/controls",
            "_model_module_version": "1.5.0",
            "_model_name": "HBoxModel",
            "_view_count": null,
            "_view_module": "@jupyter-widgets/controls",
            "_view_module_version": "1.5.0",
            "_view_name": "HBoxView",
            "box_style": "",
            "children": [
              "IPY_MODEL_60891b2240e146708e368fc64466e981",
              "IPY_MODEL_3c2f7fcd154645d19b43fac2e04fee98",
              "IPY_MODEL_68cb63bee2f44a5cbefea0ceec488b14"
            ],
            "layout": "IPY_MODEL_16245d94e01449c48bcb0ff121f64a30"
          }
        },
        "60891b2240e146708e368fc64466e981": {
          "model_module": "@jupyter-widgets/controls",
          "model_name": "HTMLModel",
          "model_module_version": "1.5.0",
          "state": {
            "_dom_classes": [],
            "_model_module": "@jupyter-widgets/controls",
            "_model_module_version": "1.5.0",
            "_model_name": "HTMLModel",
            "_view_count": null,
            "_view_module": "@jupyter-widgets/controls",
            "_view_module_version": "1.5.0",
            "_view_name": "HTMLView",
            "description": "",
            "description_tooltip": null,
            "layout": "IPY_MODEL_a2baa71a1298469e8524475e71d811e0",
            "placeholder": "​",
            "style": "IPY_MODEL_9512c4922bcc4ca98cf7a1d8f7cd4878",
            "value": "events.out.tfevents.1704010222.f163238f0314.23342.0: 100%"
          }
        },
        "3c2f7fcd154645d19b43fac2e04fee98": {
          "model_module": "@jupyter-widgets/controls",
          "model_name": "FloatProgressModel",
          "model_module_version": "1.5.0",
          "state": {
            "_dom_classes": [],
            "_model_module": "@jupyter-widgets/controls",
            "_model_module_version": "1.5.0",
            "_model_name": "FloatProgressModel",
            "_view_count": null,
            "_view_module": "@jupyter-widgets/controls",
            "_view_module_version": "1.5.0",
            "_view_name": "ProgressView",
            "bar_style": "success",
            "description": "",
            "description_tooltip": null,
            "layout": "IPY_MODEL_673aaf03aefb447bb5adb2ab5274304f",
            "max": 16418,
            "min": 0,
            "orientation": "horizontal",
            "style": "IPY_MODEL_9537810949ec4c6fb2fdba183d321682",
            "value": 16418
          }
        },
        "68cb63bee2f44a5cbefea0ceec488b14": {
          "model_module": "@jupyter-widgets/controls",
          "model_name": "HTMLModel",
          "model_module_version": "1.5.0",
          "state": {
            "_dom_classes": [],
            "_model_module": "@jupyter-widgets/controls",
            "_model_module_version": "1.5.0",
            "_model_name": "HTMLModel",
            "_view_count": null,
            "_view_module": "@jupyter-widgets/controls",
            "_view_module_version": "1.5.0",
            "_view_name": "HTMLView",
            "description": "",
            "description_tooltip": null,
            "layout": "IPY_MODEL_888d174dd97f45cbbec4ab2b17d02643",
            "placeholder": "​",
            "style": "IPY_MODEL_7031845e2cdf469f8be36eaf6ca48660",
            "value": " 16.4k/16.4k [00:00&lt;00:00, 113kB/s]"
          }
        },
        "16245d94e01449c48bcb0ff121f64a30": {
          "model_module": "@jupyter-widgets/base",
          "model_name": "LayoutModel",
          "model_module_version": "1.2.0",
          "state": {
            "_model_module": "@jupyter-widgets/base",
            "_model_module_version": "1.2.0",
            "_model_name": "LayoutModel",
            "_view_count": null,
            "_view_module": "@jupyter-widgets/base",
            "_view_module_version": "1.2.0",
            "_view_name": "LayoutView",
            "align_content": null,
            "align_items": null,
            "align_self": null,
            "border": null,
            "bottom": null,
            "display": null,
            "flex": null,
            "flex_flow": null,
            "grid_area": null,
            "grid_auto_columns": null,
            "grid_auto_flow": null,
            "grid_auto_rows": null,
            "grid_column": null,
            "grid_gap": null,
            "grid_row": null,
            "grid_template_areas": null,
            "grid_template_columns": null,
            "grid_template_rows": null,
            "height": null,
            "justify_content": null,
            "justify_items": null,
            "left": null,
            "margin": null,
            "max_height": null,
            "max_width": null,
            "min_height": null,
            "min_width": null,
            "object_fit": null,
            "object_position": null,
            "order": null,
            "overflow": null,
            "overflow_x": null,
            "overflow_y": null,
            "padding": null,
            "right": null,
            "top": null,
            "visibility": null,
            "width": null
          }
        },
        "a2baa71a1298469e8524475e71d811e0": {
          "model_module": "@jupyter-widgets/base",
          "model_name": "LayoutModel",
          "model_module_version": "1.2.0",
          "state": {
            "_model_module": "@jupyter-widgets/base",
            "_model_module_version": "1.2.0",
            "_model_name": "LayoutModel",
            "_view_count": null,
            "_view_module": "@jupyter-widgets/base",
            "_view_module_version": "1.2.0",
            "_view_name": "LayoutView",
            "align_content": null,
            "align_items": null,
            "align_self": null,
            "border": null,
            "bottom": null,
            "display": null,
            "flex": null,
            "flex_flow": null,
            "grid_area": null,
            "grid_auto_columns": null,
            "grid_auto_flow": null,
            "grid_auto_rows": null,
            "grid_column": null,
            "grid_gap": null,
            "grid_row": null,
            "grid_template_areas": null,
            "grid_template_columns": null,
            "grid_template_rows": null,
            "height": null,
            "justify_content": null,
            "justify_items": null,
            "left": null,
            "margin": null,
            "max_height": null,
            "max_width": null,
            "min_height": null,
            "min_width": null,
            "object_fit": null,
            "object_position": null,
            "order": null,
            "overflow": null,
            "overflow_x": null,
            "overflow_y": null,
            "padding": null,
            "right": null,
            "top": null,
            "visibility": null,
            "width": null
          }
        },
        "9512c4922bcc4ca98cf7a1d8f7cd4878": {
          "model_module": "@jupyter-widgets/controls",
          "model_name": "DescriptionStyleModel",
          "model_module_version": "1.5.0",
          "state": {
            "_model_module": "@jupyter-widgets/controls",
            "_model_module_version": "1.5.0",
            "_model_name": "DescriptionStyleModel",
            "_view_count": null,
            "_view_module": "@jupyter-widgets/base",
            "_view_module_version": "1.2.0",
            "_view_name": "StyleView",
            "description_width": ""
          }
        },
        "673aaf03aefb447bb5adb2ab5274304f": {
          "model_module": "@jupyter-widgets/base",
          "model_name": "LayoutModel",
          "model_module_version": "1.2.0",
          "state": {
            "_model_module": "@jupyter-widgets/base",
            "_model_module_version": "1.2.0",
            "_model_name": "LayoutModel",
            "_view_count": null,
            "_view_module": "@jupyter-widgets/base",
            "_view_module_version": "1.2.0",
            "_view_name": "LayoutView",
            "align_content": null,
            "align_items": null,
            "align_self": null,
            "border": null,
            "bottom": null,
            "display": null,
            "flex": null,
            "flex_flow": null,
            "grid_area": null,
            "grid_auto_columns": null,
            "grid_auto_flow": null,
            "grid_auto_rows": null,
            "grid_column": null,
            "grid_gap": null,
            "grid_row": null,
            "grid_template_areas": null,
            "grid_template_columns": null,
            "grid_template_rows": null,
            "height": null,
            "justify_content": null,
            "justify_items": null,
            "left": null,
            "margin": null,
            "max_height": null,
            "max_width": null,
            "min_height": null,
            "min_width": null,
            "object_fit": null,
            "object_position": null,
            "order": null,
            "overflow": null,
            "overflow_x": null,
            "overflow_y": null,
            "padding": null,
            "right": null,
            "top": null,
            "visibility": null,
            "width": null
          }
        },
        "9537810949ec4c6fb2fdba183d321682": {
          "model_module": "@jupyter-widgets/controls",
          "model_name": "ProgressStyleModel",
          "model_module_version": "1.5.0",
          "state": {
            "_model_module": "@jupyter-widgets/controls",
            "_model_module_version": "1.5.0",
            "_model_name": "ProgressStyleModel",
            "_view_count": null,
            "_view_module": "@jupyter-widgets/base",
            "_view_module_version": "1.2.0",
            "_view_name": "StyleView",
            "bar_color": null,
            "description_width": ""
          }
        },
        "888d174dd97f45cbbec4ab2b17d02643": {
          "model_module": "@jupyter-widgets/base",
          "model_name": "LayoutModel",
          "model_module_version": "1.2.0",
          "state": {
            "_model_module": "@jupyter-widgets/base",
            "_model_module_version": "1.2.0",
            "_model_name": "LayoutModel",
            "_view_count": null,
            "_view_module": "@jupyter-widgets/base",
            "_view_module_version": "1.2.0",
            "_view_name": "LayoutView",
            "align_content": null,
            "align_items": null,
            "align_self": null,
            "border": null,
            "bottom": null,
            "display": null,
            "flex": null,
            "flex_flow": null,
            "grid_area": null,
            "grid_auto_columns": null,
            "grid_auto_flow": null,
            "grid_auto_rows": null,
            "grid_column": null,
            "grid_gap": null,
            "grid_row": null,
            "grid_template_areas": null,
            "grid_template_columns": null,
            "grid_template_rows": null,
            "height": null,
            "justify_content": null,
            "justify_items": null,
            "left": null,
            "margin": null,
            "max_height": null,
            "max_width": null,
            "min_height": null,
            "min_width": null,
            "object_fit": null,
            "object_position": null,
            "order": null,
            "overflow": null,
            "overflow_x": null,
            "overflow_y": null,
            "padding": null,
            "right": null,
            "top": null,
            "visibility": null,
            "width": null
          }
        },
        "7031845e2cdf469f8be36eaf6ca48660": {
          "model_module": "@jupyter-widgets/controls",
          "model_name": "DescriptionStyleModel",
          "model_module_version": "1.5.0",
          "state": {
            "_model_module": "@jupyter-widgets/controls",
            "_model_module_version": "1.5.0",
            "_model_name": "DescriptionStyleModel",
            "_view_count": null,
            "_view_module": "@jupyter-widgets/base",
            "_view_module_version": "1.2.0",
            "_view_name": "StyleView",
            "description_width": ""
          }
        }
      }
    }
  },
  "cells": [
    {
      "cell_type": "markdown",
      "source": [
        "# Intent Detection\n",
        "> **Text Classification Problem** to `identify the Glorious Purpose` of `user's utterance.` It is very crucial for **Text-Based** applications like Chatbots where both the Inputs and Outputs are in the form of texts."
      ],
      "metadata": {
        "id": "11FZSdvF9E5W"
      }
    },
    {
      "cell_type": "markdown",
      "source": [
        "## Key Points\n",
        "\n",
        "* **Knowledge distillation** is a technique that **transfers knowledge** from `Larger Complex Model to Smaller Simple Model`.\n",
        "\n",
        "* **Quantization** is a technique that **reduces precision** of `model weights and activation functions` to **speed up inference** and **save memory**.\n",
        "\n",
        "* **Pruning** is a technique that **removes redundant model parameters** to `reduce model size and model complexity`."
      ],
      "metadata": {
        "id": "rdpEdFKnFdv8"
      }
    },
    {
      "cell_type": "markdown",
      "source": [
        "## Scenario"
      ],
      "metadata": {
        "id": "X2Vc3BcTFNh1"
      }
    },
    {
      "cell_type": "markdown",
      "source": [
        "Let's say I am making **Jarvis** to help me with Stock Market. So when I ask Jarvis \"`Hey, I have done some savings, I want to invest some of it in the Stock Market for stable monthly income of 6%...`\", then Jarvis should be able to auto categorize it as \"`Investing`\" intent. And when I ask Jarvis something out of the scope like \"`Find me a date...`\", then Jarvis should say \"`👎🏻 You are not eligible. Focus on your Finance instead, that's more future-proof...`\"."
      ],
      "metadata": {
        "id": "jkK98hoHFcxs"
      }
    },
    {
      "cell_type": "markdown",
      "source": [
        "## Data\n",
        "> **CLINC150** A dataset for **intent detection** with 150 intents in 10 domains and out-of-scope examples."
      ],
      "metadata": {
        "id": "2U9h2YW3LnuT"
      }
    },
    {
      "cell_type": "markdown",
      "source": [
        "**Purpose**: To test intent detection models on realistic and challenging queries that may not fit any intent.\n",
        "\n",
        "**Size**: The dataset has **23,700** examples in total, with **22,500 in-scope examples** and **1,200 out-of-scope examples**.\n",
        "\n",
        "* The **in-scope examples** are divided into 100 train, 20 validation, and 30 test sets examples per intent class.\n",
        "    \n",
        "* The **out-of-scope examples** are divided into 100 train, 100 validation, and 1,000 test examples.\n",
        "\n",
        "**Variants**: The dataset has four variants:\n",
        "\n",
        "* **data_full** variant is the main version of the dataset, with 100 train examples per in-scope class.\n",
        "\n",
        "* **data_small** variant has 50 train examples per in-scope class.\n",
        "\n",
        "* **data_imbalanced** variant has either 25, 50, 75, or 100 train examples per in-scope class, randomly assigned.\n",
        "\n",
        "* **data_oos_plus** variant is the same as data_full, except it has 250 out-of-scope train examples.\n",
        "\n",
        "**Benchmarks**: The dataset has been used to benchmark various intent classification models, such as **BERT, RoBERTa**, and **DSSCC**. The models are evaluated on their `accuracy` and `F1-score` on the in-scope and out-of-scope test sets.\n",
        "\n",
        "* The **current state-of-the-art model** is `RoBERTa-Large + ICDA`, which achieves **98.9% accuracy** and **98.8% F1-score** on the in-scope test set, and **95.7% accuracy** and **95.6% F1-score** on the out-of-scope test set.\n",
        "\n",
        "**Source**: A paper by Larson et al [“An Evaluation Dataset for Intent Classification and Out-of-Scope Prediction”](https://archive.ics.uci.edu/dataset/570/clinc150)."
      ],
      "metadata": {
        "id": "ksrLXXySLqfC"
      }
    },
    {
      "cell_type": "markdown",
      "source": [
        "## Get Started"
      ],
      "metadata": {
        "id": "WRACvyWiUadK"
      }
    },
    {
      "cell_type": "code",
      "source": [
        "from transformers import pipeline"
      ],
      "metadata": {
        "id": "aogPzWQwFNHW"
      },
      "execution_count": 1,
      "outputs": []
    },
    {
      "cell_type": "code",
      "execution_count": 2,
      "metadata": {
        "id": "VRG9-2sY8-KW"
      },
      "outputs": [],
      "source": [
        "model_checkpoint=\"transformersbook/bert-base-uncased-finetuned-clinc\"\n",
        "pipe=pipeline(\n",
        "    task=\"text-classification\",\n",
        "    model=model_checkpoint\n",
        ")"
      ]
    },
    {
      "cell_type": "code",
      "source": [
        "query = \"\"\"Hey, I'd like to rent a vehicle from Nov 1st to Nov 15th in\n",
        "Paris and I need a 15 passenger van\"\"\"\n",
        "pipe(query)"
      ],
      "metadata": {
        "colab": {
          "base_uri": "https://localhost:8080/"
        },
        "id": "IHMLE6rTW_MB",
        "outputId": "36169085-f715-4eae-a5d5-b8e11bf51571"
      },
      "execution_count": 3,
      "outputs": [
        {
          "output_type": "execute_result",
          "data": {
            "text/plain": [
              "[{'label': 'car_rental', 'score': 0.5490034222602844}]"
            ]
          },
          "metadata": {},
          "execution_count": 3
        }
      ]
    },
    {
      "cell_type": "code",
      "source": [
        "query = \"\"\"Hey, I have done some savings, I want to invest some of it in\n",
        "the Stock Market for stable monthly income of 6%...\"\"\"\n",
        "pipe(query)"
      ],
      "metadata": {
        "colab": {
          "base_uri": "https://localhost:8080/"
        },
        "id": "ilQkCfwMXspr",
        "outputId": "10e2db17-8899-48a6-b2ea-15214858fd27"
      },
      "execution_count": 4,
      "outputs": [
        {
          "output_type": "execute_result",
          "data": {
            "text/plain": [
              "[{'label': 'direct_deposit', 'score': 0.10692174732685089}]"
            ]
          },
          "metadata": {},
          "execution_count": 4
        }
      ]
    },
    {
      "cell_type": "code",
      "source": [
        "query = \"\"\"Find me a date...\"\"\"\n",
        "pipe(query)"
      ],
      "metadata": {
        "colab": {
          "base_uri": "https://localhost:8080/"
        },
        "id": "DxA5E-5AX6Il",
        "outputId": "de399a4c-0413-401c-83a8-aff2749d2d79"
      },
      "execution_count": 5,
      "outputs": [
        {
          "output_type": "execute_result",
          "data": {
            "text/plain": [
              "[{'label': 'date', 'score': 0.5273399949073792}]"
            ]
          },
          "metadata": {},
          "execution_count": 5
        }
      ]
    },
    {
      "cell_type": "markdown",
      "source": [
        "## Creating a Performance Benchmark"
      ],
      "metadata": {
        "id": "hT5wD2MCYm_g"
      }
    },
    {
      "cell_type": "markdown",
      "source": [
        "### Model performance\n",
        "\n",
        "How well does our model perform on a well-crafted test set that reflects production data? This is especially important when the cost of making errors is large (and best mitigated with a human in the loop), or when we need to run inference on millions of examples and small improvements to the model metrics can translate into large gains in aggregate.\n",
        "\n",
        "### Latency\n",
        "\n",
        "How fast can our model deliver predictions? We usually care about latency in real-time environments that deal with a lot of traffic, like how Stack Overflow needed a classifier to quickly detect unwelcome comments on the website.\n",
        "\n",
        "### Memory\n",
        "\n",
        "How can we deploy billion-parameter models like GPT-2 or T5 that require giga-bytes of disk storage and RAM? Memory plays an especially important role in mobile or edge devices, where a model has to generate predictions without access to a powerful cloud server."
      ],
      "metadata": {
        "id": "aFJYq8bLY7tr"
      }
    },
    {
      "cell_type": "markdown",
      "source": [
        "The text explains the importance of evaluating the model performance on a test set that is similar to the real-world data that the model will encounter in production. The text also mentions some scenarios where the model performance can have a significant impact on the outcome, such as when the model errors are costly or when the model is applied to a large scale of data. The text implies that the model performance should be measured by appropriate metrics that reflect the desired objectives and trade-offs.\n",
        "\n",
        "* **Model performance**: How well the model can predict the correct labels for the input data.\n",
        "\n",
        "* **Test set**: A subset of data that is used to evaluate the model performance after training. The test set should reflect the production data as much as possible.\n",
        "\n",
        "* **Cost of errors**: The potential negative consequences of the model making wrong predictions, such as losing customers, money, or reputation. Errors can be reduced by involving a human expert to check or correct the model outputs.\n",
        "\n",
        "* **Scale of inference**: The amount of data that the model needs to process and make predictions for. A large scale of inference can amplify the benefits or drawbacks of the model performance."
      ],
      "metadata": {
        "id": "WOJ1iN-bdGHC"
      }
    },
    {
      "cell_type": "markdown",
      "source": [
        "## Performance Benchmark\n",
        ">  Use the `test set` to benchmark models."
      ],
      "metadata": {
        "id": "F_YI2ebmMcYX"
      }
    },
    {
      "cell_type": "code",
      "source": [
        "class PerformanceBenchmark:\n",
        "    def __init__(self, pipeline, dataset, optim_type=\"BERT baseline\"):\n",
        "        self.pipeline=pipeline\n",
        "        self.dataset=dataset\n",
        "        self.optim_type=optim_type # keep track of different optimization techniques\n",
        "\n",
        "    def computeAccuracy(self):\n",
        "        pass\n",
        "\n",
        "    def computeSize(self):\n",
        "        pass\n",
        "\n",
        "    def timePipeline(self):\n",
        "        pass\n",
        "\n",
        "    def runBenchmark(self):\n",
        "        metrics:dict[str,set|dict] = dict() # collect all the metrics in dictionary, with keys given by optim_type\n",
        "        metrics[self.optim_type]=self.computeSize()\n",
        "        metrics[self.optim_type].update(self.timePipeline())\n",
        "        metrics[self.optim_type].update(self.computeAccuracy())\n",
        "        return metrics"
      ],
      "metadata": {
        "id": "ySgpOnjjYCHQ"
      },
      "execution_count": 6,
      "outputs": []
    },
    {
      "cell_type": "code",
      "source": [
        "! pip install datasets -Uqq"
      ],
      "metadata": {
        "id": "JguXjkqMN2Q2"
      },
      "execution_count": 7,
      "outputs": []
    },
    {
      "cell_type": "code",
      "source": [
        "from datasets import load_dataset\n",
        "\n",
        "data=load_dataset(\n",
        "    path=\"clinc_oos\",\n",
        "    name=\"plus\", # refers to the subset containing out-of-scope training examples\n",
        "    trust_remote_code=True\n",
        ")"
      ],
      "metadata": {
        "id": "HyflLFcdN7lY"
      },
      "execution_count": 8,
      "outputs": []
    },
    {
      "cell_type": "code",
      "source": [
        "data"
      ],
      "metadata": {
        "colab": {
          "base_uri": "https://localhost:8080/"
        },
        "id": "hDK0xFF2QShQ",
        "outputId": "2e191d5f-3cdf-4692-bad4-c796d8aeb75a"
      },
      "execution_count": 9,
      "outputs": [
        {
          "output_type": "execute_result",
          "data": {
            "text/plain": [
              "DatasetDict({\n",
              "    train: Dataset({\n",
              "        features: ['text', 'intent'],\n",
              "        num_rows: 15250\n",
              "    })\n",
              "    validation: Dataset({\n",
              "        features: ['text', 'intent'],\n",
              "        num_rows: 3100\n",
              "    })\n",
              "    test: Dataset({\n",
              "        features: ['text', 'intent'],\n",
              "        num_rows: 5500\n",
              "    })\n",
              "})"
            ]
          },
          "metadata": {},
          "execution_count": 9
        }
      ]
    },
    {
      "cell_type": "code",
      "source": [
        "data[\"test\"].features"
      ],
      "metadata": {
        "colab": {
          "base_uri": "https://localhost:8080/"
        },
        "id": "UwucWLrkh6Ab",
        "outputId": "1b64d5cc-926f-474f-db32-ebc97045410d"
      },
      "execution_count": 10,
      "outputs": [
        {
          "output_type": "execute_result",
          "data": {
            "text/plain": [
              "{'text': Value(dtype='string', id=None),\n",
              " 'intent': ClassLabel(names=['restaurant_reviews', 'nutrition_info', 'account_blocked', 'oil_change_how', 'time', 'weather', 'redeem_rewards', 'interest_rate', 'gas_type', 'accept_reservations', 'smart_home', 'user_name', 'report_lost_card', 'repeat', 'whisper_mode', 'what_are_your_hobbies', 'order', 'jump_start', 'schedule_meeting', 'meeting_schedule', 'freeze_account', 'what_song', 'meaning_of_life', 'restaurant_reservation', 'traffic', 'make_call', 'text', 'bill_balance', 'improve_credit_score', 'change_language', 'no', 'measurement_conversion', 'timer', 'flip_coin', 'do_you_have_pets', 'balance', 'tell_joke', 'last_maintenance', 'exchange_rate', 'uber', 'car_rental', 'credit_limit', 'oos', 'shopping_list', 'expiration_date', 'routing', 'meal_suggestion', 'tire_change', 'todo_list', 'card_declined', 'rewards_balance', 'change_accent', 'vaccines', 'reminder_update', 'food_last', 'change_ai_name', 'bill_due', 'who_do_you_work_for', 'share_location', 'international_visa', 'calendar', 'translate', 'carry_on', 'book_flight', 'insurance_change', 'todo_list_update', 'timezone', 'cancel_reservation', 'transactions', 'credit_score', 'report_fraud', 'spending_history', 'directions', 'spelling', 'insurance', 'what_is_your_name', 'reminder', 'where_are_you_from', 'distance', 'payday', 'flight_status', 'find_phone', 'greeting', 'alarm', 'order_status', 'confirm_reservation', 'cook_time', 'damaged_card', 'reset_settings', 'pin_change', 'replacement_card_duration', 'new_card', 'roll_dice', 'income', 'taxes', 'date', 'who_made_you', 'pto_request', 'tire_pressure', 'how_old_are_you', 'rollover_401k', 'pto_request_status', 'how_busy', 'application_status', 'recipe', 'calendar_update', 'play_music', 'yes', 'direct_deposit', 'credit_limit_change', 'gas', 'pay_bill', 'ingredients_list', 'lost_luggage', 'goodbye', 'what_can_i_ask_you', 'book_hotel', 'are_you_a_bot', 'next_song', 'change_speed', 'plug_type', 'maybe', 'w2', 'oil_change_when', 'thank_you', 'shopping_list_update', 'pto_balance', 'order_checks', 'travel_alert', 'fun_fact', 'sync_device', 'schedule_maintenance', 'apr', 'transfer', 'ingredient_substitution', 'calories', 'current_location', 'international_fees', 'calculator', 'definition', 'next_holiday', 'update_playlist', 'mpg', 'min_payment', 'change_user_name', 'restaurant_suggestion', 'travel_notification', 'cancel', 'pto_used', 'travel_suggestion', 'change_volume'], id=None)}"
            ]
          },
          "metadata": {},
          "execution_count": 10
        }
      ]
    },
    {
      "cell_type": "code",
      "source": [
        "data[\"test\"].to_pandas()"
      ],
      "metadata": {
        "colab": {
          "base_uri": "https://localhost:8080/",
          "height": 424
        },
        "id": "Ql7pJoIQg7cp",
        "outputId": "604522e5-1eb3-44dc-9586-37079ae16288"
      },
      "execution_count": 11,
      "outputs": [
        {
          "output_type": "execute_result",
          "data": {
            "text/plain": [
              "                                            text  intent\n",
              "0               how would you say fly in italian      61\n",
              "1              what's the spanish word for pasta      61\n",
              "2            how would they say butter in zambia      61\n",
              "3                 how do you say fast in spanish      61\n",
              "4            what's the word for trees in norway      61\n",
              "...                                          ...     ...\n",
              "5495                              find my wallet      42\n",
              "5496  can you give me the gps location of harvey      42\n",
              "5497    where's my buddy steve right this second      42\n",
              "5498        locate jenny at her present position      42\n",
              "5499          let me know where jim is right now      42\n",
              "\n",
              "[5500 rows x 2 columns]"
            ],
            "text/html": [
              "\n",
              "  <div id=\"df-c9a12f5b-45a0-4590-acd4-5ce771613bee\" class=\"colab-df-container\">\n",
              "    <div>\n",
              "<style scoped>\n",
              "    .dataframe tbody tr th:only-of-type {\n",
              "        vertical-align: middle;\n",
              "    }\n",
              "\n",
              "    .dataframe tbody tr th {\n",
              "        vertical-align: top;\n",
              "    }\n",
              "\n",
              "    .dataframe thead th {\n",
              "        text-align: right;\n",
              "    }\n",
              "</style>\n",
              "<table border=\"1\" class=\"dataframe\">\n",
              "  <thead>\n",
              "    <tr style=\"text-align: right;\">\n",
              "      <th></th>\n",
              "      <th>text</th>\n",
              "      <th>intent</th>\n",
              "    </tr>\n",
              "  </thead>\n",
              "  <tbody>\n",
              "    <tr>\n",
              "      <th>0</th>\n",
              "      <td>how would you say fly in italian</td>\n",
              "      <td>61</td>\n",
              "    </tr>\n",
              "    <tr>\n",
              "      <th>1</th>\n",
              "      <td>what's the spanish word for pasta</td>\n",
              "      <td>61</td>\n",
              "    </tr>\n",
              "    <tr>\n",
              "      <th>2</th>\n",
              "      <td>how would they say butter in zambia</td>\n",
              "      <td>61</td>\n",
              "    </tr>\n",
              "    <tr>\n",
              "      <th>3</th>\n",
              "      <td>how do you say fast in spanish</td>\n",
              "      <td>61</td>\n",
              "    </tr>\n",
              "    <tr>\n",
              "      <th>4</th>\n",
              "      <td>what's the word for trees in norway</td>\n",
              "      <td>61</td>\n",
              "    </tr>\n",
              "    <tr>\n",
              "      <th>...</th>\n",
              "      <td>...</td>\n",
              "      <td>...</td>\n",
              "    </tr>\n",
              "    <tr>\n",
              "      <th>5495</th>\n",
              "      <td>find my wallet</td>\n",
              "      <td>42</td>\n",
              "    </tr>\n",
              "    <tr>\n",
              "      <th>5496</th>\n",
              "      <td>can you give me the gps location of harvey</td>\n",
              "      <td>42</td>\n",
              "    </tr>\n",
              "    <tr>\n",
              "      <th>5497</th>\n",
              "      <td>where's my buddy steve right this second</td>\n",
              "      <td>42</td>\n",
              "    </tr>\n",
              "    <tr>\n",
              "      <th>5498</th>\n",
              "      <td>locate jenny at her present position</td>\n",
              "      <td>42</td>\n",
              "    </tr>\n",
              "    <tr>\n",
              "      <th>5499</th>\n",
              "      <td>let me know where jim is right now</td>\n",
              "      <td>42</td>\n",
              "    </tr>\n",
              "  </tbody>\n",
              "</table>\n",
              "<p>5500 rows × 2 columns</p>\n",
              "</div>\n",
              "    <div class=\"colab-df-buttons\">\n",
              "\n",
              "  <div class=\"colab-df-container\">\n",
              "    <button class=\"colab-df-convert\" onclick=\"convertToInteractive('df-c9a12f5b-45a0-4590-acd4-5ce771613bee')\"\n",
              "            title=\"Convert this dataframe to an interactive table.\"\n",
              "            style=\"display:none;\">\n",
              "\n",
              "  <svg xmlns=\"http://www.w3.org/2000/svg\" height=\"24px\" viewBox=\"0 -960 960 960\">\n",
              "    <path d=\"M120-120v-720h720v720H120Zm60-500h600v-160H180v160Zm220 220h160v-160H400v160Zm0 220h160v-160H400v160ZM180-400h160v-160H180v160Zm440 0h160v-160H620v160ZM180-180h160v-160H180v160Zm440 0h160v-160H620v160Z\"/>\n",
              "  </svg>\n",
              "    </button>\n",
              "\n",
              "  <style>\n",
              "    .colab-df-container {\n",
              "      display:flex;\n",
              "      gap: 12px;\n",
              "    }\n",
              "\n",
              "    .colab-df-convert {\n",
              "      background-color: #E8F0FE;\n",
              "      border: none;\n",
              "      border-radius: 50%;\n",
              "      cursor: pointer;\n",
              "      display: none;\n",
              "      fill: #1967D2;\n",
              "      height: 32px;\n",
              "      padding: 0 0 0 0;\n",
              "      width: 32px;\n",
              "    }\n",
              "\n",
              "    .colab-df-convert:hover {\n",
              "      background-color: #E2EBFA;\n",
              "      box-shadow: 0px 1px 2px rgba(60, 64, 67, 0.3), 0px 1px 3px 1px rgba(60, 64, 67, 0.15);\n",
              "      fill: #174EA6;\n",
              "    }\n",
              "\n",
              "    .colab-df-buttons div {\n",
              "      margin-bottom: 4px;\n",
              "    }\n",
              "\n",
              "    [theme=dark] .colab-df-convert {\n",
              "      background-color: #3B4455;\n",
              "      fill: #D2E3FC;\n",
              "    }\n",
              "\n",
              "    [theme=dark] .colab-df-convert:hover {\n",
              "      background-color: #434B5C;\n",
              "      box-shadow: 0px 1px 3px 1px rgba(0, 0, 0, 0.15);\n",
              "      filter: drop-shadow(0px 1px 2px rgba(0, 0, 0, 0.3));\n",
              "      fill: #FFFFFF;\n",
              "    }\n",
              "  </style>\n",
              "\n",
              "    <script>\n",
              "      const buttonEl =\n",
              "        document.querySelector('#df-c9a12f5b-45a0-4590-acd4-5ce771613bee button.colab-df-convert');\n",
              "      buttonEl.style.display =\n",
              "        google.colab.kernel.accessAllowed ? 'block' : 'none';\n",
              "\n",
              "      async function convertToInteractive(key) {\n",
              "        const element = document.querySelector('#df-c9a12f5b-45a0-4590-acd4-5ce771613bee');\n",
              "        const dataTable =\n",
              "          await google.colab.kernel.invokeFunction('convertToInteractive',\n",
              "                                                    [key], {});\n",
              "        if (!dataTable) return;\n",
              "\n",
              "        const docLinkHtml = 'Like what you see? Visit the ' +\n",
              "          '<a target=\"_blank\" href=https://colab.research.google.com/notebooks/data_table.ipynb>data table notebook</a>'\n",
              "          + ' to learn more about interactive tables.';\n",
              "        element.innerHTML = '';\n",
              "        dataTable['output_type'] = 'display_data';\n",
              "        await google.colab.output.renderOutput(dataTable, element);\n",
              "        const docLink = document.createElement('div');\n",
              "        docLink.innerHTML = docLinkHtml;\n",
              "        element.appendChild(docLink);\n",
              "      }\n",
              "    </script>\n",
              "  </div>\n",
              "\n",
              "\n",
              "<div id=\"df-528bc45a-0d02-4d7d-826d-1abda55c3975\">\n",
              "  <button class=\"colab-df-quickchart\" onclick=\"quickchart('df-528bc45a-0d02-4d7d-826d-1abda55c3975')\"\n",
              "            title=\"Suggest charts\"\n",
              "            style=\"display:none;\">\n",
              "\n",
              "<svg xmlns=\"http://www.w3.org/2000/svg\" height=\"24px\"viewBox=\"0 0 24 24\"\n",
              "     width=\"24px\">\n",
              "    <g>\n",
              "        <path d=\"M19 3H5c-1.1 0-2 .9-2 2v14c0 1.1.9 2 2 2h14c1.1 0 2-.9 2-2V5c0-1.1-.9-2-2-2zM9 17H7v-7h2v7zm4 0h-2V7h2v10zm4 0h-2v-4h2v4z\"/>\n",
              "    </g>\n",
              "</svg>\n",
              "  </button>\n",
              "\n",
              "<style>\n",
              "  .colab-df-quickchart {\n",
              "      --bg-color: #E8F0FE;\n",
              "      --fill-color: #1967D2;\n",
              "      --hover-bg-color: #E2EBFA;\n",
              "      --hover-fill-color: #174EA6;\n",
              "      --disabled-fill-color: #AAA;\n",
              "      --disabled-bg-color: #DDD;\n",
              "  }\n",
              "\n",
              "  [theme=dark] .colab-df-quickchart {\n",
              "      --bg-color: #3B4455;\n",
              "      --fill-color: #D2E3FC;\n",
              "      --hover-bg-color: #434B5C;\n",
              "      --hover-fill-color: #FFFFFF;\n",
              "      --disabled-bg-color: #3B4455;\n",
              "      --disabled-fill-color: #666;\n",
              "  }\n",
              "\n",
              "  .colab-df-quickchart {\n",
              "    background-color: var(--bg-color);\n",
              "    border: none;\n",
              "    border-radius: 50%;\n",
              "    cursor: pointer;\n",
              "    display: none;\n",
              "    fill: var(--fill-color);\n",
              "    height: 32px;\n",
              "    padding: 0;\n",
              "    width: 32px;\n",
              "  }\n",
              "\n",
              "  .colab-df-quickchart:hover {\n",
              "    background-color: var(--hover-bg-color);\n",
              "    box-shadow: 0 1px 2px rgba(60, 64, 67, 0.3), 0 1px 3px 1px rgba(60, 64, 67, 0.15);\n",
              "    fill: var(--button-hover-fill-color);\n",
              "  }\n",
              "\n",
              "  .colab-df-quickchart-complete:disabled,\n",
              "  .colab-df-quickchart-complete:disabled:hover {\n",
              "    background-color: var(--disabled-bg-color);\n",
              "    fill: var(--disabled-fill-color);\n",
              "    box-shadow: none;\n",
              "  }\n",
              "\n",
              "  .colab-df-spinner {\n",
              "    border: 2px solid var(--fill-color);\n",
              "    border-color: transparent;\n",
              "    border-bottom-color: var(--fill-color);\n",
              "    animation:\n",
              "      spin 1s steps(1) infinite;\n",
              "  }\n",
              "\n",
              "  @keyframes spin {\n",
              "    0% {\n",
              "      border-color: transparent;\n",
              "      border-bottom-color: var(--fill-color);\n",
              "      border-left-color: var(--fill-color);\n",
              "    }\n",
              "    20% {\n",
              "      border-color: transparent;\n",
              "      border-left-color: var(--fill-color);\n",
              "      border-top-color: var(--fill-color);\n",
              "    }\n",
              "    30% {\n",
              "      border-color: transparent;\n",
              "      border-left-color: var(--fill-color);\n",
              "      border-top-color: var(--fill-color);\n",
              "      border-right-color: var(--fill-color);\n",
              "    }\n",
              "    40% {\n",
              "      border-color: transparent;\n",
              "      border-right-color: var(--fill-color);\n",
              "      border-top-color: var(--fill-color);\n",
              "    }\n",
              "    60% {\n",
              "      border-color: transparent;\n",
              "      border-right-color: var(--fill-color);\n",
              "    }\n",
              "    80% {\n",
              "      border-color: transparent;\n",
              "      border-right-color: var(--fill-color);\n",
              "      border-bottom-color: var(--fill-color);\n",
              "    }\n",
              "    90% {\n",
              "      border-color: transparent;\n",
              "      border-bottom-color: var(--fill-color);\n",
              "    }\n",
              "  }\n",
              "</style>\n",
              "\n",
              "  <script>\n",
              "    async function quickchart(key) {\n",
              "      const quickchartButtonEl =\n",
              "        document.querySelector('#' + key + ' button');\n",
              "      quickchartButtonEl.disabled = true;  // To prevent multiple clicks.\n",
              "      quickchartButtonEl.classList.add('colab-df-spinner');\n",
              "      try {\n",
              "        const charts = await google.colab.kernel.invokeFunction(\n",
              "            'suggestCharts', [key], {});\n",
              "      } catch (error) {\n",
              "        console.error('Error during call to suggestCharts:', error);\n",
              "      }\n",
              "      quickchartButtonEl.classList.remove('colab-df-spinner');\n",
              "      quickchartButtonEl.classList.add('colab-df-quickchart-complete');\n",
              "    }\n",
              "    (() => {\n",
              "      let quickchartButtonEl =\n",
              "        document.querySelector('#df-528bc45a-0d02-4d7d-826d-1abda55c3975 button');\n",
              "      quickchartButtonEl.style.display =\n",
              "        google.colab.kernel.accessAllowed ? 'block' : 'none';\n",
              "    })();\n",
              "  </script>\n",
              "</div>\n",
              "\n",
              "    </div>\n",
              "  </div>\n"
            ]
          },
          "metadata": {},
          "execution_count": 11
        }
      ]
    },
    {
      "cell_type": "code",
      "source": [
        "data[\"test\"].features[\"intent\"].int2str(values=[61,42])"
      ],
      "metadata": {
        "colab": {
          "base_uri": "https://localhost:8080/"
        },
        "id": "ZHC_UWufhRmX",
        "outputId": "12220114-4eb5-4434-cbc3-341b227eca7f"
      },
      "execution_count": 12,
      "outputs": [
        {
          "output_type": "execute_result",
          "data": {
            "text/plain": [
              "['translate', 'oos']"
            ]
          },
          "metadata": {},
          "execution_count": 12
        }
      ]
    },
    {
      "cell_type": "code",
      "source": [
        "data[\"test\"].features[\"intent\"].int2str"
      ],
      "metadata": {
        "colab": {
          "base_uri": "https://localhost:8080/"
        },
        "id": "amMItfDWh0xp",
        "outputId": "76082c6f-ce48-4d7a-c728-c9e746c09d30"
      },
      "execution_count": 13,
      "outputs": [
        {
          "output_type": "execute_result",
          "data": {
            "text/plain": [
              "<bound method ClassLabel.int2str of ClassLabel(names=['restaurant_reviews', 'nutrition_info', 'account_blocked', 'oil_change_how', 'time', 'weather', 'redeem_rewards', 'interest_rate', 'gas_type', 'accept_reservations', 'smart_home', 'user_name', 'report_lost_card', 'repeat', 'whisper_mode', 'what_are_your_hobbies', 'order', 'jump_start', 'schedule_meeting', 'meeting_schedule', 'freeze_account', 'what_song', 'meaning_of_life', 'restaurant_reservation', 'traffic', 'make_call', 'text', 'bill_balance', 'improve_credit_score', 'change_language', 'no', 'measurement_conversion', 'timer', 'flip_coin', 'do_you_have_pets', 'balance', 'tell_joke', 'last_maintenance', 'exchange_rate', 'uber', 'car_rental', 'credit_limit', 'oos', 'shopping_list', 'expiration_date', 'routing', 'meal_suggestion', 'tire_change', 'todo_list', 'card_declined', 'rewards_balance', 'change_accent', 'vaccines', 'reminder_update', 'food_last', 'change_ai_name', 'bill_due', 'who_do_you_work_for', 'share_location', 'international_visa', 'calendar', 'translate', 'carry_on', 'book_flight', 'insurance_change', 'todo_list_update', 'timezone', 'cancel_reservation', 'transactions', 'credit_score', 'report_fraud', 'spending_history', 'directions', 'spelling', 'insurance', 'what_is_your_name', 'reminder', 'where_are_you_from', 'distance', 'payday', 'flight_status', 'find_phone', 'greeting', 'alarm', 'order_status', 'confirm_reservation', 'cook_time', 'damaged_card', 'reset_settings', 'pin_change', 'replacement_card_duration', 'new_card', 'roll_dice', 'income', 'taxes', 'date', 'who_made_you', 'pto_request', 'tire_pressure', 'how_old_are_you', 'rollover_401k', 'pto_request_status', 'how_busy', 'application_status', 'recipe', 'calendar_update', 'play_music', 'yes', 'direct_deposit', 'credit_limit_change', 'gas', 'pay_bill', 'ingredients_list', 'lost_luggage', 'goodbye', 'what_can_i_ask_you', 'book_hotel', 'are_you_a_bot', 'next_song', 'change_speed', 'plug_type', 'maybe', 'w2', 'oil_change_when', 'thank_you', 'shopping_list_update', 'pto_balance', 'order_checks', 'travel_alert', 'fun_fact', 'sync_device', 'schedule_maintenance', 'apr', 'transfer', 'ingredient_substitution', 'calories', 'current_location', 'international_fees', 'calculator', 'definition', 'next_holiday', 'update_playlist', 'mpg', 'min_payment', 'change_user_name', 'restaurant_suggestion', 'travel_notification', 'cancel', 'pto_used', 'travel_suggestion', 'change_volume'], id=None)>"
            ]
          },
          "metadata": {},
          "execution_count": 13
        }
      ]
    },
    {
      "cell_type": "code",
      "source": [
        "intents = data[\"test\"].features[\"intent\"]"
      ],
      "metadata": {
        "id": "Ovq_hCaZ2cPj"
      },
      "execution_count": 14,
      "outputs": []
    },
    {
      "cell_type": "markdown",
      "source": [
        "## computeAccuracy\n",
        "> Accuracy is **effective** when the target feature's classes are `balanced`."
      ],
      "metadata": {
        "id": "sfV6jmCei4qs"
      }
    },
    {
      "cell_type": "code",
      "source": [
        "! pip install evaluate -Uqq"
      ],
      "metadata": {
        "id": "ava97qqYilc1"
      },
      "execution_count": 15,
      "outputs": []
    },
    {
      "cell_type": "code",
      "source": [
        "from evaluate import load\n",
        "\n",
        "accuracy_score=load(path=\"accuracy\")"
      ],
      "metadata": {
        "id": "OQn6nL08kNCB"
      },
      "execution_count": 16,
      "outputs": []
    },
    {
      "cell_type": "code",
      "source": [
        "# expects y_true(references), y_pred(predictions)\n",
        "accuracy_score.compute(references=[5,3,7], predictions=[5,3,6])"
      ],
      "metadata": {
        "colab": {
          "base_uri": "https://localhost:8080/"
        },
        "id": "C2Dad3wbkSp9",
        "outputId": "2e75820d-82fb-46dc-9cb5-7737558832e0"
      },
      "execution_count": 17,
      "outputs": [
        {
          "output_type": "execute_result",
          "data": {
            "text/plain": [
              "{'accuracy': 0.6666666666666666}"
            ]
          },
          "metadata": {},
          "execution_count": 17
        }
      ]
    },
    {
      "cell_type": "code",
      "source": [
        "sample=data[\"test\"][0][\"text\"]\n",
        "prediction=pipe(sample)\n",
        "prediction_label=prediction[0][\"label\"]\n",
        "prediction_id=data[\"test\"].features[\"intent\"].str2int(prediction_label)\n",
        "\n",
        "print(sample)\n",
        "print(prediction)\n",
        "print(prediction_label,\"--->\", prediction_id)"
      ],
      "metadata": {
        "colab": {
          "base_uri": "https://localhost:8080/"
        },
        "id": "D03xuY2WkdTl",
        "outputId": "899d8496-b254-43b8-e6d7-58d6b7162f95"
      },
      "execution_count": 18,
      "outputs": [
        {
          "output_type": "stream",
          "name": "stdout",
          "text": [
            "how would you say fly in italian\n",
            "[{'label': 'translate', 'score': 0.5855261087417603}]\n",
            "translate ---> 61\n"
          ]
        }
      ]
    },
    {
      "cell_type": "code",
      "source": [
        "for example in data[\"test\"]:\n",
        "    print(example)\n",
        "    break"
      ],
      "metadata": {
        "colab": {
          "base_uri": "https://localhost:8080/"
        },
        "id": "bUVltrxJoVvI",
        "outputId": "30c712b5-000b-49cf-a10a-31221f8134b8"
      },
      "execution_count": 19,
      "outputs": [
        {
          "output_type": "stream",
          "name": "stdout",
          "text": [
            "{'text': 'how would you say fly in italian', 'intent': 61}\n"
          ]
        }
      ]
    },
    {
      "cell_type": "code",
      "source": [
        "def computeAccuracy(self):\n",
        "    \"\"\"Override the PerformanceBenchmark.computeAccuracy() method\"\"\"\n",
        "    prediction_ids:[int]=[]\n",
        "    labels:[str]=[]\n",
        "    # intents=self.dataset[\"test\"].features[\"intent\"]\n",
        "\n",
        "    for example in self.dataset[\"test\"]:\n",
        "        pred_label=self.pipeline(example[\"text\"])[0][\"label\"]\n",
        "        pred_id=intents.str2int(pred_label)\n",
        "        prediction_ids.append(pred_id)\n",
        "\n",
        "        label=example[\"intent\"]\n",
        "        labels.append(label)\n",
        "    accuracy=accuracy_score.compute(references=labels, predictions=prediction_ids)\n",
        "    print(f\"Accuracy on test set ---> {accuracy['accuracy']:.4f}\")\n",
        "    return accuracy\n",
        "\n",
        "# Override the PerformanceBenchmark.computeAccuracy() method\n",
        "PerformanceBenchmark.computeAccuracy=computeAccuracy"
      ],
      "metadata": {
        "id": "XKALGOitlQmK"
      },
      "execution_count": 20,
      "outputs": []
    },
    {
      "cell_type": "code",
      "source": [
        "list(pipe.model.state_dict().items())[42]"
      ],
      "metadata": {
        "colab": {
          "base_uri": "https://localhost:8080/"
        },
        "id": "sm7j4f7Mtqb9",
        "outputId": "c0ad0d3d-fa74-4799-ef3d-1174440f18e4"
      },
      "execution_count": 21,
      "outputs": [
        {
          "output_type": "execute_result",
          "data": {
            "text/plain": [
              "('bert.encoder.layer.2.attention.self.value.bias',\n",
              " tensor([-2.7834e-02,  4.9434e-02,  8.3551e-02,  4.1092e-02,  6.0157e-01,\n",
              "          1.1774e-01, -5.2112e-02, -6.5143e-02, -2.9358e-02, -4.2250e-02,\n",
              "          7.9177e-02,  8.0409e-02,  2.9921e-03,  1.7816e-01, -5.0480e-02,\n",
              "         -1.5634e-01, -2.1707e-02,  1.4381e-02,  2.5132e-02, -2.4110e-02,\n",
              "         -1.9183e-01, -7.8657e-02,  5.0709e-02,  3.3632e-02, -3.1946e-02,\n",
              "          1.1616e-01,  9.2720e-02, -1.1787e-01,  2.3233e-01, -1.2678e-02,\n",
              "         -1.3138e-01, -4.0024e-02,  7.4823e-02, -5.4148e-02, -1.5184e-01,\n",
              "         -7.4407e-02,  1.1559e-01,  8.2729e-02, -1.3787e-01,  8.3528e-02,\n",
              "          1.2154e-01,  1.6880e-02, -5.6629e-02, -3.9295e-02,  5.3725e-02,\n",
              "          6.8602e-02, -1.1294e-01,  4.4001e-02, -2.5884e-01,  1.6767e-01,\n",
              "          1.8316e-01,  5.6272e-02, -3.6874e-02, -2.7938e-02, -9.3204e-02,\n",
              "         -7.5239e-03,  4.1141e-02, -1.1542e-02, -9.9749e-02, -3.0910e-02,\n",
              "          4.1398e-02, -4.4389e-02, -2.6279e-02,  7.2100e-02,  7.5179e-03,\n",
              "         -7.4382e-03,  2.9311e-02, -1.3391e-02,  6.9966e-03, -9.3249e-03,\n",
              "          9.4272e-03, -1.1783e-02,  1.3849e-02,  1.8157e-03, -1.1522e-02,\n",
              "          1.3364e-02, -2.6307e-02,  2.3725e-03, -4.8451e-03,  6.2261e-03,\n",
              "          1.2653e-02,  1.7601e-02, -1.7971e-02, -2.9247e-03, -3.3447e-03,\n",
              "          1.4263e-02, -3.5629e-03, -9.2794e-03, -2.1326e-02,  1.9390e-02,\n",
              "          1.3287e-02, -8.7034e-03,  1.2936e-02, -2.0574e-02,  3.2204e-03,\n",
              "          5.9970e-03, -5.6524e-02,  3.0851e-02, -2.3233e-02,  4.6271e-02,\n",
              "         -1.4485e-03,  4.4248e-04, -3.1102e-02,  1.9762e-02,  2.0866e-02,\n",
              "          1.7914e-02, -2.0622e-02, -1.6030e-02,  6.2167e-03,  1.6809e-02,\n",
              "          4.6357e-03,  4.7169e-02, -2.1151e-02, -1.8898e-02,  3.5921e-02,\n",
              "          4.8621e-03, -5.9841e-02, -1.3029e-02,  5.6702e-03,  1.6820e-02,\n",
              "          2.1735e-02, -2.8285e-03, -1.5519e-02,  7.1974e-03,  3.5492e-02,\n",
              "         -2.3190e-02, -9.7930e-03,  2.3223e-02,  2.0529e-02,  2.7412e-02,\n",
              "          1.3887e-02,  1.7976e-03, -3.8905e-02,  1.8540e-02,  8.0013e-03,\n",
              "         -8.3682e-03, -8.6805e-03,  2.6464e-02,  1.8968e-03, -1.8028e-03,\n",
              "         -2.4427e-02, -3.5514e-02, -1.8748e-02, -3.0541e-02, -7.9520e-03,\n",
              "         -1.5989e-02,  9.3060e-03,  2.9318e-02,  1.6679e-02, -2.4060e-03,\n",
              "         -7.2656e-03, -2.7699e-03,  1.4280e-02, -6.7352e-02, -1.2329e-02,\n",
              "         -1.1516e-02, -8.0379e-03,  2.5604e-02, -2.9178e-02,  2.6076e-02,\n",
              "         -1.1561e-02, -4.0904e-03, -1.7735e-02, -2.8245e-03,  2.3919e-02,\n",
              "         -3.6326e-03, -1.6407e-03,  9.5295e-03,  2.4161e-02, -5.8965e-02,\n",
              "          4.7633e-02,  1.4403e-03, -4.4763e-02, -3.5462e-03,  3.0613e-02,\n",
              "          2.5047e-02,  1.3757e-02, -2.2238e-02,  8.0453e-03, -2.6188e-03,\n",
              "         -2.2013e-03, -6.0179e-03, -8.5149e-03, -2.8150e-02,  1.9282e-02,\n",
              "         -7.5657e-02,  6.1354e-03,  5.2562e-03, -2.2223e-03,  1.0437e-02,\n",
              "         -1.8630e-02, -7.7628e-02,  1.4377e-02,  1.4977e-02,  1.6090e-02,\n",
              "          2.9399e-02, -2.8604e-02, -3.2916e-02,  2.7902e-03,  1.4113e-02,\n",
              "          8.3836e-03, -6.5914e-03, -4.9576e-03, -1.5955e-02,  4.2381e-03,\n",
              "          3.0032e-02,  8.8986e-03, -1.5336e-02,  4.6771e-03, -1.2364e-02,\n",
              "         -3.7724e-02, -3.9060e-03,  1.4607e-02, -2.1286e-02,  9.7086e-03,\n",
              "         -1.5826e-02, -1.4847e-02,  1.0796e-03, -9.5035e-03, -1.8624e-02,\n",
              "         -3.1673e-02,  8.8388e-03, -1.4921e-02, -1.7855e-03,  3.8781e-02,\n",
              "          2.4269e-02, -1.6465e-03, -7.9774e-03, -1.3907e-02,  1.9653e-03,\n",
              "         -2.6717e-03,  3.0146e-02, -4.3986e-03,  6.0588e-03,  2.1959e-02,\n",
              "          2.0354e-02,  9.3631e-03, -8.4828e-03, -2.3994e-02,  1.8316e-02,\n",
              "         -2.2401e-02, -2.6273e-03,  3.2069e-03, -3.2386e-03,  1.1388e-02,\n",
              "          3.0835e-02,  2.6043e-02, -7.2103e-03, -5.0038e-04, -1.4860e-02,\n",
              "          2.3886e-02,  1.1530e-02, -1.0549e-03,  3.5677e-02,  6.0299e-03,\n",
              "          1.5875e-02,  5.3877e-02,  6.6331e-02,  1.5165e-02, -6.0870e-03,\n",
              "          1.6159e-03, -1.1137e-02,  1.3665e-02,  1.7698e-02,  4.5647e-03,\n",
              "         -4.5349e-02,  2.6634e-02,  4.7289e-03, -1.1664e-02,  8.7302e-03,\n",
              "          1.2051e-02,  2.3455e-02, -2.7151e-03, -1.3474e-02, -4.5949e-02,\n",
              "         -1.3496e-02,  8.1680e-02, -2.9737e-02, -2.8525e-02, -1.4888e-02,\n",
              "          5.4320e-03,  3.9142e-02,  1.4227e-02,  1.1140e-02, -1.0980e-02,\n",
              "          2.1982e-02, -1.1148e-02, -1.0226e-02, -5.8499e-03, -1.9739e-02,\n",
              "         -3.4634e-03, -1.0565e-02,  1.0449e-02,  8.2791e-03,  2.3053e-03,\n",
              "          9.7032e-03, -9.0916e-03,  5.4747e-04, -4.1901e-02,  9.6154e-03,\n",
              "          2.9424e-02,  1.1897e-03,  1.1825e-02,  2.7524e-02,  1.0225e-02,\n",
              "          2.1439e-02,  2.3448e-03, -3.7239e-02,  5.8888e-02, -3.1999e-02,\n",
              "         -7.9128e-03,  3.5337e-02,  2.7251e-02,  1.3948e-02,  1.0896e-02,\n",
              "          1.4326e-05, -2.6835e-03,  4.0720e-03,  1.6469e-02,  3.5876e-02,\n",
              "         -1.6803e-02,  2.8083e-02,  2.2789e-03,  3.1635e-02,  5.7104e-03,\n",
              "          3.0284e-03,  1.2528e-02, -1.7956e-02, -1.4686e-02,  4.4091e-03,\n",
              "         -1.4846e-02, -4.1044e-02, -3.4005e-02, -6.5876e-02,  3.0926e-02,\n",
              "          5.9820e-02, -1.0069e-04, -6.6089e-03,  2.1271e-03,  3.6137e-03,\n",
              "          9.0073e-03,  9.6992e-03,  2.1992e-02,  6.2104e-02,  1.4786e-02,\n",
              "         -2.6120e-02, -1.4990e-02,  1.5148e-02,  3.0313e-02,  2.0834e-02,\n",
              "          1.7836e-02, -5.4321e-03, -5.9164e-03,  1.7840e-02, -4.3020e-03,\n",
              "          8.7374e-03, -2.4993e-02,  3.4310e-02,  2.2652e-02, -5.3760e-03,\n",
              "          1.7668e-02, -8.9518e-04,  1.3691e-03, -2.1373e-02, -6.1878e-03,\n",
              "         -1.2396e-02, -1.7816e-02, -1.8014e-02,  9.5274e-03,  1.1643e-02,\n",
              "         -2.0683e-02, -2.8707e-03,  1.1669e-02,  1.5618e-02,  3.5348e-02,\n",
              "         -1.1234e-02, -4.5453e-03, -3.4890e-02, -3.0010e-02,  1.6433e-02,\n",
              "         -1.2068e-02,  8.2583e-03,  1.4090e-02,  1.8771e-02, -4.9337e-02,\n",
              "         -1.7775e-03,  5.6333e-02,  6.8979e-02,  2.3123e-02, -1.0754e-02,\n",
              "         -4.9530e-02,  4.2980e-02,  2.8846e-02, -3.9176e-02,  8.1903e-02,\n",
              "         -2.9344e-02,  3.0343e-02,  8.4269e-02, -2.4376e-02, -8.4680e-02,\n",
              "          6.7452e-03,  1.2407e-01,  1.5680e-02, -1.6643e-02,  9.0987e-03,\n",
              "         -2.7984e-03,  7.5874e-02, -1.4630e-02,  2.9823e-02, -1.0423e-02,\n",
              "         -6.0341e-02, -3.6580e-02, -5.4615e-02, -1.3628e-01, -5.8373e-02,\n",
              "          4.3453e-02,  3.0439e-02,  1.7298e-02, -1.1724e-01,  1.0805e-01,\n",
              "         -4.6345e-02, -1.1533e-01,  7.4684e-02, -5.9752e-03,  4.3189e-02,\n",
              "          4.4795e-02, -3.7566e-03, -7.5097e-02,  3.5959e-02,  1.3906e-01,\n",
              "          4.6041e-02,  1.1786e-02,  1.1243e-01,  8.4072e-02, -7.7309e-02,\n",
              "          1.3586e-02,  9.5244e-02, -1.2002e-01,  7.0882e-02,  1.0043e-01,\n",
              "          2.5874e-02,  2.3354e-02, -3.5469e-02,  3.0738e-02,  1.0479e-01,\n",
              "         -9.2843e-02,  5.9718e-02, -1.9409e-02, -3.4414e-02, -8.4060e-03,\n",
              "         -9.3654e-03, -2.8030e-02,  7.2026e-03, -5.9461e-03, -1.2284e-02,\n",
              "         -1.7473e-02, -4.9678e-02,  1.0224e-02, -1.4688e-02, -1.7345e-02,\n",
              "          2.6771e-02, -2.6582e-02, -2.9768e-02,  6.2005e-03, -3.3405e-04,\n",
              "          9.1245e-03, -3.7149e-02, -6.7714e-03, -1.8193e-02,  3.4191e-02,\n",
              "         -5.5732e-03, -2.6161e-02, -1.4078e-02,  1.0288e-02, -2.2850e-02,\n",
              "         -2.2642e-02,  1.0270e-02,  6.9930e-03,  1.3614e-03, -2.9319e-04,\n",
              "          9.9593e-03, -6.0532e-03,  1.8669e-03, -5.3395e-03, -2.2013e-02,\n",
              "          8.4485e-03, -1.9142e-02,  1.0449e-02, -1.6700e-02,  1.3038e-02,\n",
              "          7.7479e-03, -1.3329e-02,  1.3052e-02, -2.5305e-03,  1.6191e-02,\n",
              "          1.3152e-02,  2.9897e-02,  8.5553e-03, -6.4898e-04,  1.2359e-02,\n",
              "         -4.2144e-03,  2.1785e-02,  2.1401e-02, -1.3295e-02,  7.4764e-03,\n",
              "          6.3580e-03, -6.2467e-03,  1.8235e-02,  3.0643e-02, -4.9091e-03,\n",
              "         -1.3889e-02,  2.6181e-03,  4.9702e-03, -6.1664e-03, -2.8528e-03,\n",
              "         -4.0556e-04,  5.4844e-03,  9.7783e-03,  1.2326e-02, -1.6844e-02,\n",
              "         -1.6294e-02,  4.9879e-03,  3.7789e-03,  8.0305e-04,  2.0482e-02,\n",
              "         -1.6369e-02,  1.6436e-03, -9.0401e-03, -3.2635e-02, -2.3990e-03,\n",
              "          5.7569e-03, -2.0392e-02,  6.6946e-03, -1.8541e-02,  9.3559e-03,\n",
              "          2.7165e-02,  1.2492e-02,  1.2748e-03, -1.3846e-03,  4.0312e-03,\n",
              "         -8.5552e-03,  3.1621e-03, -3.9514e-02, -3.7938e-03, -1.3551e-02,\n",
              "          2.2692e-02, -1.0217e-02, -1.2839e-02, -4.8771e-03, -4.2620e-03,\n",
              "         -3.0481e-02,  4.6085e-02, -2.8627e-03,  6.6756e-03, -2.6765e-03,\n",
              "         -4.1443e-02,  1.3336e-02, -1.0526e-02, -3.8494e-02,  1.2780e-02,\n",
              "         -3.5214e-02, -2.4758e-02,  7.5220e-03,  1.7225e-02, -1.6440e-02,\n",
              "         -3.6639e-03, -4.7462e-02,  5.3796e-04, -2.8419e-03,  4.5923e-03,\n",
              "         -3.0517e-02, -3.6832e-03,  1.8710e-02, -3.0486e-02, -2.4076e-02,\n",
              "         -2.7601e-02,  1.1921e-01,  1.2020e-01,  5.9805e-02, -6.9238e-03,\n",
              "         -1.3529e-01,  1.1234e-01,  8.3534e-02,  1.9974e-01,  5.3834e-02,\n",
              "         -6.6691e-02,  1.2676e-01,  2.4947e-01,  4.9879e-01, -1.6342e-01,\n",
              "          6.1663e-02, -4.8022e-02, -5.4069e-02,  4.7277e-02, -1.4724e-01,\n",
              "          8.4666e-02,  9.8618e-02,  7.9988e-02, -5.7652e-02,  6.3551e-03,\n",
              "          2.6916e-03,  9.2017e-02,  1.2511e-01,  2.5168e-01, -8.6152e-02,\n",
              "         -2.7570e-02, -6.1548e-02,  9.1371e-02,  8.0129e-02, -1.1662e-01,\n",
              "          1.5206e-01, -1.0687e-01, -1.0758e-01,  9.4138e-02,  1.0322e-01,\n",
              "         -1.5152e-01,  2.5472e-01,  7.0699e-02, -4.1571e-02,  2.7933e-02,\n",
              "         -1.9523e-01, -2.8319e-01,  5.9689e-02, -1.4707e-01, -3.5683e-02,\n",
              "         -5.4465e-02,  1.2570e-01, -1.2280e-01,  2.0263e-01, -1.0653e-02,\n",
              "          1.1058e-01, -9.1731e-04,  8.6605e-02, -1.7707e-02,  1.2616e-02,\n",
              "          1.8871e-01, -1.0594e-01, -3.7989e-03, -6.6359e-02, -5.9799e-02,\n",
              "          4.3201e-03, -2.3140e-02,  4.8008e-03,  1.4294e-02, -9.5453e-03,\n",
              "          5.8454e-03,  8.6512e-03,  2.1151e-02,  1.7098e-02, -1.4637e-03,\n",
              "          1.3778e-02, -1.2843e-02,  2.3742e-02, -1.3895e-02,  1.1327e-03,\n",
              "         -7.0846e-03, -7.6255e-03, -8.2264e-03, -1.5513e-02,  4.2724e-03,\n",
              "         -1.7624e-02, -3.0984e-03, -1.4400e-02,  2.3883e-02,  1.1556e-01,\n",
              "          4.4036e-02,  3.2821e-02,  8.6612e-04,  1.2383e-02, -6.6263e-03,\n",
              "         -2.7201e-03,  4.8125e-03, -2.8362e-03,  3.9830e-02,  5.2414e-02,\n",
              "         -4.6269e-03, -1.5858e-02,  2.1845e-02, -1.3767e-02, -1.0629e-02,\n",
              "          1.0347e-02, -3.4209e-02,  1.6939e-02,  1.8120e-02,  3.0650e-03,\n",
              "         -2.5109e-03,  1.3500e-02, -3.6440e-02, -9.2135e-03,  9.2194e-03,\n",
              "         -3.6276e-02, -1.1555e-02, -1.9569e-02, -1.5417e-02, -2.0485e-02,\n",
              "          2.9770e-03, -6.8246e-03, -6.5039e-03, -1.2597e-02, -1.1409e-02,\n",
              "          1.7139e-02,  4.6424e-03, -5.1774e-02, -1.1679e-02,  5.2761e-03,\n",
              "         -1.3664e-02, -1.4001e-02,  2.0379e-03,  1.2753e-02, -8.1607e-03,\n",
              "         -1.0849e-02, -1.0683e-03, -2.4489e-03,  2.0192e-02,  1.5756e-02,\n",
              "         -6.4964e-03, -4.5603e-02, -2.5999e-02, -1.4307e-02, -7.4639e-03,\n",
              "          9.9480e-03,  1.6763e-02,  2.1737e-02,  4.8181e-02,  1.7739e-02,\n",
              "          1.1469e-02, -4.2359e-03, -1.6419e-02, -1.7318e-02,  1.1498e-03,\n",
              "          2.4485e-02, -3.0614e-03,  1.9017e-02, -1.6453e-02, -1.3444e-02,\n",
              "          2.6748e-02, -6.4994e-03,  5.1485e-03,  1.4132e-02, -1.1573e-02,\n",
              "          1.2583e-02, -1.1401e-02, -2.0003e-02, -3.8115e-03,  7.3728e-03,\n",
              "          1.5500e-02,  2.0623e-02,  3.1582e-03, -1.2794e-02,  4.5499e-03,\n",
              "         -3.3994e-04, -2.3003e-02,  1.2225e-02, -2.7949e-02, -9.6121e-03,\n",
              "         -3.5844e-02, -4.2373e-03,  5.3473e-03,  1.4432e-02, -1.2745e-02,\n",
              "          7.1483e-03,  2.9170e-03,  6.2454e-03,  6.8991e-03,  1.5852e-02,\n",
              "          2.1877e-02, -1.7211e-02, -2.6093e-02]))"
            ]
          },
          "metadata": {},
          "execution_count": 21
        }
      ]
    },
    {
      "cell_type": "markdown",
      "source": [
        "## computeSize"
      ],
      "metadata": {
        "id": "4YPkuVIW4GNT"
      }
    },
    {
      "cell_type": "code",
      "source": [
        "import torch\n",
        "from pathlib import Path\n",
        "\n",
        "torch.save(obj=pipe.model.state_dict(), f=\"model.pt\")"
      ],
      "metadata": {
        "id": "r7_l0cJsmq4_"
      },
      "execution_count": 22,
      "outputs": []
    },
    {
      "cell_type": "code",
      "source": [
        "Path(\"/content/model.pt\").stat()"
      ],
      "metadata": {
        "colab": {
          "base_uri": "https://localhost:8080/"
        },
        "id": "A9K_sKm1n8b4",
        "outputId": "80b4bef1-502c-43f8-e4c3-064ded797d2a"
      },
      "execution_count": 23,
      "outputs": [
        {
          "output_type": "execute_result",
          "data": {
            "text/plain": [
              "os.stat_result(st_mode=33188, st_ino=4729625, st_dev=51, st_nlink=1, st_uid=0, st_gid=0, st_size=438459014, st_atime=1704009562, st_mtime=1704009563, st_ctime=1704009563)"
            ]
          },
          "metadata": {},
          "execution_count": 23
        }
      ]
    },
    {
      "cell_type": "code",
      "source": [
        "Path(\"/content/model.pt\").stat().st_size"
      ],
      "metadata": {
        "colab": {
          "base_uri": "https://localhost:8080/"
        },
        "id": "AiGm63JJxVpt",
        "outputId": "2f0e391d-4333-48fb-941a-492f25072f79"
      },
      "execution_count": 24,
      "outputs": [
        {
          "output_type": "execute_result",
          "data": {
            "text/plain": [
              "438459014"
            ]
          },
          "metadata": {},
          "execution_count": 24
        }
      ]
    },
    {
      "cell_type": "code",
      "source": [
        "def computeSize(self):\n",
        "    \"\"\"Override the PerformanceBenchmark.compute_size() method\"\"\"\n",
        "    state_dict=self.pipeline.model.state_dict()\n",
        "    tmp_path=Path(\"model.pt\")\n",
        "    torch.save(obj=state_dict, f=tmp_path)\n",
        "    # Calculate size in megabytes(MB)\n",
        "    size_mb=Path(tmp_path).stat().st_size / (1024*1024)\n",
        "    # Delete temporary file\n",
        "    tmp_path.unlink()\n",
        "    print(f\"Model Size ---> {size_mb:.2f} mb\")\n",
        "    return {\"size_mb\":size_mb}\n",
        "PerformanceBenchmark.computeSize=computeSize"
      ],
      "metadata": {
        "id": "BCS5sOUJxqu0"
      },
      "execution_count": 25,
      "outputs": []
    },
    {
      "cell_type": "markdown",
      "source": [
        "A simple way to measure the execution time of a code snippet is to use the `perf_counter()` function from Python's `time` module. This function has a **better time resolution** than the `time.time()` function and is well suited for getting precise results."
      ],
      "metadata": {
        "id": "AiQq4Qee2iKG"
      }
    },
    {
      "cell_type": "markdown",
      "source": [
        "## timePipeline\n",
        "> Compute the average Latency from feeding input to getting output."
      ],
      "metadata": {
        "id": "00jwOPhx4UOf"
      }
    },
    {
      "cell_type": "code",
      "source": [
        "from time import perf_counter\n",
        "\n",
        "for _ in range(3):\n",
        "    start_time=perf_counter()\n",
        "    _=pipe(data[\"test\"][0][\"text\"])\n",
        "    latency=perf_counter() - start_time\n",
        "    print(f\"Latency: {1000*latency:.3f} ms\")"
      ],
      "metadata": {
        "colab": {
          "base_uri": "https://localhost:8080/"
        },
        "id": "faMhMbeS21r1",
        "outputId": "fbd70a76-62d2-4515-de77-dff48ae46620"
      },
      "execution_count": 26,
      "outputs": [
        {
          "output_type": "stream",
          "name": "stdout",
          "text": [
            "Latency: 84.964 ms\n",
            "Latency: 71.886 ms\n",
            "Latency: 73.960 ms\n"
          ]
        }
      ]
    },
    {
      "cell_type": "code",
      "source": [
        "import numpy as np\n",
        "\n",
        "def timePipeline(self, query=\"What is the pin number for my account?\"):\n",
        "    \"\"\"Override the PerformanceBenchmark.time_pipeline() method\"\"\"\n",
        "    latencies:[float]=[]\n",
        "    # Warmup the CPU before performing actual timed run\n",
        "    for _ in range(10):\n",
        "        _=self.pipeline(query)\n",
        "    # Timed Run\n",
        "    for _ in range(100):\n",
        "        start_time=perf_counter()\n",
        "        _=self.pipeline(query)\n",
        "        latency=perf_counter() - start_time\n",
        "        latencies.append(latency)\n",
        "    # Compute run statistics\n",
        "    avg_time_in_ms=1000 * np.mean(latencies)\n",
        "    std_time_in_ms=1000 * np.std(latencies)\n",
        "    print(f\"Latency: {avg_time_in_ms:.2f} ms +\\- {std_time_in_ms:.2f} ms\")\n",
        "    return {\n",
        "        \"avg_time_in_ms\":avg_time_in_ms,\n",
        "        \"std_time_in_ms\":std_time_in_ms\n",
        "    }\n",
        "\n",
        "PerformanceBenchmark.timePipeline=timePipeline"
      ],
      "metadata": {
        "id": "gVApFcxm249t"
      },
      "execution_count": 27,
      "outputs": []
    },
    {
      "cell_type": "markdown",
      "source": [
        "In general, the `latency` will depend on the query length, and a good practice is to **benchmark your models with queries that they're likely to encounter in production environments**."
      ],
      "metadata": {
        "id": "4g6Puzoo7qcf"
      }
    },
    {
      "cell_type": "markdown",
      "source": [
        "## Performance Benchmarking\n",
        "> For the **baseline model**, we just need to pass the pipeline and the dataset we wish to perform the benchmark on."
      ],
      "metadata": {
        "id": "uOD79gr28HZR"
      }
    },
    {
      "cell_type": "code",
      "source": [
        "performance_benchmark=PerformanceBenchmark(pipeline=pipe, dataset=data)\n",
        "performance_metrics=performance_benchmark.runBenchmark()"
      ],
      "metadata": {
        "colab": {
          "base_uri": "https://localhost:8080/"
        },
        "id": "VG7RmRiu3RRX",
        "outputId": "2a74edc4-92d4-4f0b-b158-abd4a46fec6e"
      },
      "execution_count": 28,
      "outputs": [
        {
          "output_type": "stream",
          "name": "stdout",
          "text": [
            "Model Size ---> 418.15 mb\n",
            "Latency: 82.18 ms +\\- 14.21 ms\n",
            "Accuracy on test set ---> 0.8673\n"
          ]
        }
      ]
    },
    {
      "cell_type": "markdown",
      "source": [
        "* **Model Size** ---> 418.15 mb\n",
        "* **Latency:** 132.33 ms +\\- 9.53 ms\n",
        "* **Accuracy** on test set ---> 0.8673"
      ],
      "metadata": {
        "id": "0m2vplZSjuyw"
      }
    },
    {
      "cell_type": "markdown",
      "source": [
        "# Knowledge Distillation\n",
        "> Making Models Smaller via Knowledge Distillation"
      ],
      "metadata": {
        "id": "QcqjQPPjfj65"
      }
    },
    {
      "cell_type": "markdown",
      "source": [
        "* **Knowledge distillation**: A smaller model (student) to mimic the behavior of a slower, larger, but better-performing model (teacher).\n",
        "\n",
        "* **Soft probabilities**: The teacher's confidence scores for each possible output, which give extra information to the student.\n",
        "\n",
        "* **Dark knowledge**: The teacher's insights that are not captured by the labels alone, such as the similarity of different outputs.\n",
        "\n",
        "* **History**: First used for ensemble models in 2006, then extended to deep neural networks in 2015.\n",
        "\n",
        "* **Applications**: Used to `compress large pretrained language models` for practical use."
      ],
      "metadata": {
        "id": "y3m-rT4YgId3"
      }
    },
    {
      "cell_type": "markdown",
      "source": [
        "## Creating a Knowledge Distillation Trainer"
      ],
      "metadata": {
        "id": "Hz9SuNvl_1br"
      }
    },
    {
      "cell_type": "markdown",
      "source": [
        "To implement **knowledge distillation** we need to add a few things to the `Trainer` base class:\n",
        "\n",
        "* The new hyperparameters `α` and `T`, which control the relative weight of the `distillation loss` and how much the probability distribution of the labels should be smoothed.\n",
        "\n",
        "* The fine-tuned teacher model, which in our case is BERT-base.\n",
        "\n",
        "* A new loss function that combines the cross-entropy loss with the knowledge distillation loss.\n",
        "\n",
        "Adding the new hyperparameters is quite simple, since we just need to subclass `TrainingArguments` and include them as new attributes:"
      ],
      "metadata": {
        "id": "HGKBdrRlBYxt"
      }
    },
    {
      "cell_type": "code",
      "source": [
        "from transformers import TrainingArguments\n",
        "\n",
        "class DistillationTrainingArguments(TrainingArguments):\n",
        "    def __init__(self, *args, alpha=0.5, temperature=2.0, **kwargs):\n",
        "        super().__init__(*args, **kwargs)\n",
        "        self.alpha=alpha\n",
        "        self.temperature=temperature\n"
      ],
      "metadata": {
        "id": "9NWbcQPP85Cp"
      },
      "execution_count": 29,
      "outputs": []
    },
    {
      "cell_type": "markdown",
      "source": [
        "For the trainer itself, we need a new loss function. The way to implement this is by subclassing `Trainer` and overriding the `compute_loss()` method to include the `knowledge distillation loss` term $L_{KD}$.\n",
        "\n",
        "* **Cross Entropy Loss:** measures how well the `student model predicts` the correct labels.\n",
        "\n",
        "* **Knowledge Distillation Loss:** measures how well the `student model mimics` the teacher model's output.\n"
      ],
      "metadata": {
        "id": "-uq1MqIfCkKl"
      }
    },
    {
      "cell_type": "code",
      "source": [
        "import torch.nn as nn\n",
        "import torch.nn.functional as F\n",
        "from transformers import Trainer\n",
        "\n",
        "class DistillationTrainer(Trainer):\n",
        "    def __init__(self, *args, teacher_model=None, **kwargs):\n",
        "        super().__init__(*args, **kwargs)\n",
        "        self.teacher_model=teacher_model\n",
        "\n",
        "    def computeLoss(self, model, inputs, return_outputs=False):\n",
        "        student_outputs=model(**inputs)\n",
        "        # Extract Cross Entropy Loss and Logits from Student\n",
        "        cross_entropy_loss=student_outputs.loss\n",
        "        student_logits=student_outputs.logits\n",
        "\n",
        "        # Extract logits from Teacher\n",
        "        with torch.no_grad():\n",
        "            teacher_outputs=self.teacher_model(**inputs)\n",
        "            teacher_logits=teacher_outputs.logits\n",
        "        # Soften Probabilities and Compute Distillation Loss\n",
        "        loss_function=nn.KLDivLoss(reduction=\"batchmean\")\n",
        "        # Temperature\n",
        "        T=self.args.temperature\n",
        "        knowledge_distillation_loss=T ** 2 * loss_function(\n",
        "            F.log_softmax(student_logits/T, dim=-1),\n",
        "            F.softmax(teacher_logits/T, dim=-1)\n",
        "        )\n",
        "\n",
        "        # Return weighted student loss\n",
        "        loss=self.args.alpha * cross_entropy_loss + (1. - self.args.alpha) * knowledge_distillation_loss\n",
        "        return (loss, student_outputs) if return_outputs else loss"
      ],
      "metadata": {
        "id": "pMYYw2UyAFfy"
      },
      "execution_count": 30,
      "outputs": []
    },
    {
      "cell_type": "markdown",
      "source": [
        "## Choosing a good student initialization"
      ],
      "metadata": {
        "id": "7l89EXCwR0JA"
      }
    },
    {
      "cell_type": "markdown",
      "source": [
        "To make the student model **faster** and **more efficient**, we should pick a smaller model that has the `same architecture` as the `teacher model`. For example:\n",
        "* Since our `teacher model` is `BERT`, we can use `DistilBERT` as the `student model`.\n",
        "\n",
        "* DistilBERT has `40% fewer parameters` than BERT, but still `outperforms BERT` on many NLP tasks."
      ],
      "metadata": {
        "id": "WG8IbZqKSFmS"
      }
    },
    {
      "cell_type": "markdown",
      "source": [
        "## Tokenizing and encoding queries"
      ],
      "metadata": {
        "id": "JicoCbAaWqii"
      }
    },
    {
      "cell_type": "markdown",
      "source": [
        "To feed the queries to the student model, we need to convert them into **numerical representations**. We can use the DistilBERT tokenizer for this purpose. The tokenizer splits the queries into subwords and assigns them unique IDs. It also adds special tokens and padding to make the queries have the same length."
      ],
      "metadata": {
        "id": "xlJbwfP0Wwjm"
      }
    },
    {
      "cell_type": "code",
      "source": [
        "from transformers import AutoTokenizer\n",
        "\n",
        "student_checkpoint=\"distilbert-base-uncased\"\n",
        "student_tokenizer=AutoTokenizer.from_pretrained(\n",
        "    pretrained_model_name_or_path=student_checkpoint\n",
        ")\n",
        "\n",
        "student_tokenizer"
      ],
      "metadata": {
        "id": "podUCQMGR6Gx",
        "colab": {
          "base_uri": "https://localhost:8080/"
        },
        "outputId": "7597a47a-791f-42a2-a168-af3230bbb670"
      },
      "execution_count": 31,
      "outputs": [
        {
          "output_type": "execute_result",
          "data": {
            "text/plain": [
              "DistilBertTokenizerFast(name_or_path='distilbert-base-uncased', vocab_size=30522, model_max_length=512, is_fast=True, padding_side='right', truncation_side='right', special_tokens={'unk_token': '[UNK]', 'sep_token': '[SEP]', 'pad_token': '[PAD]', 'cls_token': '[CLS]', 'mask_token': '[MASK]'}, clean_up_tokenization_spaces=True),  added_tokens_decoder={\n",
              "\t0: AddedToken(\"[PAD]\", rstrip=False, lstrip=False, single_word=False, normalized=False, special=True),\n",
              "\t100: AddedToken(\"[UNK]\", rstrip=False, lstrip=False, single_word=False, normalized=False, special=True),\n",
              "\t101: AddedToken(\"[CLS]\", rstrip=False, lstrip=False, single_word=False, normalized=False, special=True),\n",
              "\t102: AddedToken(\"[SEP]\", rstrip=False, lstrip=False, single_word=False, normalized=False, special=True),\n",
              "\t103: AddedToken(\"[MASK]\", rstrip=False, lstrip=False, single_word=False, normalized=False, special=True),\n",
              "}"
            ]
          },
          "metadata": {},
          "execution_count": 31
        }
      ]
    },
    {
      "cell_type": "code",
      "source": [
        "data"
      ],
      "metadata": {
        "colab": {
          "base_uri": "https://localhost:8080/"
        },
        "id": "sdpSpINQaoLZ",
        "outputId": "a4e24290-7a1b-4eef-c422-7cdc9ff6227a"
      },
      "execution_count": 32,
      "outputs": [
        {
          "output_type": "execute_result",
          "data": {
            "text/plain": [
              "DatasetDict({\n",
              "    train: Dataset({\n",
              "        features: ['text', 'intent'],\n",
              "        num_rows: 15250\n",
              "    })\n",
              "    validation: Dataset({\n",
              "        features: ['text', 'intent'],\n",
              "        num_rows: 3100\n",
              "    })\n",
              "    test: Dataset({\n",
              "        features: ['text', 'intent'],\n",
              "        num_rows: 5500\n",
              "    })\n",
              "})"
            ]
          },
          "metadata": {},
          "execution_count": 32
        }
      ]
    },
    {
      "cell_type": "code",
      "source": [
        "def tokenize_text(batch):\n",
        "    return student_tokenizer(text=batch[\"text\"], truncation=True)\n",
        "\n",
        "# tokenize all the set of data\n",
        "data_encoded=data.map(\n",
        "    function=tokenize_text,\n",
        "    batched=True,\n",
        "    remove_columns=[\"text\"]\n",
        ")\n",
        "\n",
        "data_encoded[\"train\"].to_pandas()"
      ],
      "metadata": {
        "colab": {
          "base_uri": "https://localhost:8080/",
          "height": 456,
          "referenced_widgets": [
            "b980afad4f00451d94f5fee740bad893",
            "8b0e95778712428995daae593181e1ac",
            "78eb4e4bb5bc452bab3f3f707064729f",
            "ac88a9c06ad74ce09fbbfdabdf3d8bae",
            "889c171efee34edeb787ca5fc3678895",
            "55938ea422414396a3dce08914d71b96",
            "faafe88c8f4a456a81ded3b9750e46fe",
            "916fc52bc3584af9ad69873e728c3757",
            "03b94dfa88c341619f59ca7d9e35a016",
            "7022c422750e4825a0a0b825b50d9259",
            "309cbce629e0456d9427aefeee8005ff"
          ]
        },
        "id": "_J4dH8IxbIJS",
        "outputId": "1e9f5b45-a59b-43a4-eea9-c2f73c02b6c6"
      },
      "execution_count": 33,
      "outputs": [
        {
          "output_type": "display_data",
          "data": {
            "text/plain": [
              "Map:   0%|          | 0/3100 [00:00<?, ? examples/s]"
            ],
            "application/vnd.jupyter.widget-view+json": {
              "version_major": 2,
              "version_minor": 0,
              "model_id": "b980afad4f00451d94f5fee740bad893"
            }
          },
          "metadata": {}
        },
        {
          "output_type": "execute_result",
          "data": {
            "text/plain": [
              "       intent                                          input_ids  \\\n",
              "0          61  [101, 2054, 3670, 2052, 1045, 2224, 2000, 2360...   \n",
              "1          61  [101, 2064, 2017, 2425, 2033, 2129, 2000, 2360...   \n",
              "2          61  [101, 2054, 2003, 1996, 5662, 1997, 1010, 1005...   \n",
              "3          61  [101, 2425, 2033, 2129, 2000, 2360, 1010, 1005...   \n",
              "4          61  [101, 2065, 1045, 2020, 17855, 1010, 2129, 205...   \n",
              "...       ...                                                ...   \n",
              "15245      42  [101, 2129, 2064, 1045, 2131, 2920, 1999, 1327...   \n",
              "15246      42                      [101, 2003, 13272, 7965, 102]   \n",
              "15247      42  [101, 2054, 1005, 1055, 1996, 11346, 16289, 19...   \n",
              "15248      42  [101, 2040, 2038, 1996, 2087, 17073, 2006, 785...   \n",
              "15249      42  [101, 2079, 2216, 1045, 4942, 29234, 2000, 203...   \n",
              "\n",
              "                                          attention_mask  \n",
              "0      [1, 1, 1, 1, 1, 1, 1, 1, 1, 1, 1, 1, 1, 1, 1, ...  \n",
              "1      [1, 1, 1, 1, 1, 1, 1, 1, 1, 1, 1, 1, 1, 1, 1, ...  \n",
              "2          [1, 1, 1, 1, 1, 1, 1, 1, 1, 1, 1, 1, 1, 1, 1]  \n",
              "3      [1, 1, 1, 1, 1, 1, 1, 1, 1, 1, 1, 1, 1, 1, 1, ...  \n",
              "4       [1, 1, 1, 1, 1, 1, 1, 1, 1, 1, 1, 1, 1, 1, 1, 1]  \n",
              "...                                                  ...  \n",
              "15245                        [1, 1, 1, 1, 1, 1, 1, 1, 1]  \n",
              "15246                                    [1, 1, 1, 1, 1]  \n",
              "15247         [1, 1, 1, 1, 1, 1, 1, 1, 1, 1, 1, 1, 1, 1]  \n",
              "15248                        [1, 1, 1, 1, 1, 1, 1, 1, 1]  \n",
              "15249                  [1, 1, 1, 1, 1, 1, 1, 1, 1, 1, 1]  \n",
              "\n",
              "[15250 rows x 3 columns]"
            ],
            "text/html": [
              "\n",
              "  <div id=\"df-400556d3-23a1-4003-95e7-bd3a1e4b7c08\" class=\"colab-df-container\">\n",
              "    <div>\n",
              "<style scoped>\n",
              "    .dataframe tbody tr th:only-of-type {\n",
              "        vertical-align: middle;\n",
              "    }\n",
              "\n",
              "    .dataframe tbody tr th {\n",
              "        vertical-align: top;\n",
              "    }\n",
              "\n",
              "    .dataframe thead th {\n",
              "        text-align: right;\n",
              "    }\n",
              "</style>\n",
              "<table border=\"1\" class=\"dataframe\">\n",
              "  <thead>\n",
              "    <tr style=\"text-align: right;\">\n",
              "      <th></th>\n",
              "      <th>intent</th>\n",
              "      <th>input_ids</th>\n",
              "      <th>attention_mask</th>\n",
              "    </tr>\n",
              "  </thead>\n",
              "  <tbody>\n",
              "    <tr>\n",
              "      <th>0</th>\n",
              "      <td>61</td>\n",
              "      <td>[101, 2054, 3670, 2052, 1045, 2224, 2000, 2360...</td>\n",
              "      <td>[1, 1, 1, 1, 1, 1, 1, 1, 1, 1, 1, 1, 1, 1, 1, ...</td>\n",
              "    </tr>\n",
              "    <tr>\n",
              "      <th>1</th>\n",
              "      <td>61</td>\n",
              "      <td>[101, 2064, 2017, 2425, 2033, 2129, 2000, 2360...</td>\n",
              "      <td>[1, 1, 1, 1, 1, 1, 1, 1, 1, 1, 1, 1, 1, 1, 1, ...</td>\n",
              "    </tr>\n",
              "    <tr>\n",
              "      <th>2</th>\n",
              "      <td>61</td>\n",
              "      <td>[101, 2054, 2003, 1996, 5662, 1997, 1010, 1005...</td>\n",
              "      <td>[1, 1, 1, 1, 1, 1, 1, 1, 1, 1, 1, 1, 1, 1, 1]</td>\n",
              "    </tr>\n",
              "    <tr>\n",
              "      <th>3</th>\n",
              "      <td>61</td>\n",
              "      <td>[101, 2425, 2033, 2129, 2000, 2360, 1010, 1005...</td>\n",
              "      <td>[1, 1, 1, 1, 1, 1, 1, 1, 1, 1, 1, 1, 1, 1, 1, ...</td>\n",
              "    </tr>\n",
              "    <tr>\n",
              "      <th>4</th>\n",
              "      <td>61</td>\n",
              "      <td>[101, 2065, 1045, 2020, 17855, 1010, 2129, 205...</td>\n",
              "      <td>[1, 1, 1, 1, 1, 1, 1, 1, 1, 1, 1, 1, 1, 1, 1, 1]</td>\n",
              "    </tr>\n",
              "    <tr>\n",
              "      <th>...</th>\n",
              "      <td>...</td>\n",
              "      <td>...</td>\n",
              "      <td>...</td>\n",
              "    </tr>\n",
              "    <tr>\n",
              "      <th>15245</th>\n",
              "      <td>42</td>\n",
              "      <td>[101, 2129, 2064, 1045, 2131, 2920, 1999, 1327...</td>\n",
              "      <td>[1, 1, 1, 1, 1, 1, 1, 1, 1]</td>\n",
              "    </tr>\n",
              "    <tr>\n",
              "      <th>15246</th>\n",
              "      <td>42</td>\n",
              "      <td>[101, 2003, 13272, 7965, 102]</td>\n",
              "      <td>[1, 1, 1, 1, 1]</td>\n",
              "    </tr>\n",
              "    <tr>\n",
              "      <th>15247</th>\n",
              "      <td>42</td>\n",
              "      <td>[101, 2054, 1005, 1055, 1996, 11346, 16289, 19...</td>\n",
              "      <td>[1, 1, 1, 1, 1, 1, 1, 1, 1, 1, 1, 1, 1, 1]</td>\n",
              "    </tr>\n",
              "    <tr>\n",
              "      <th>15248</th>\n",
              "      <td>42</td>\n",
              "      <td>[101, 2040, 2038, 1996, 2087, 17073, 2006, 785...</td>\n",
              "      <td>[1, 1, 1, 1, 1, 1, 1, 1, 1]</td>\n",
              "    </tr>\n",
              "    <tr>\n",
              "      <th>15249</th>\n",
              "      <td>42</td>\n",
              "      <td>[101, 2079, 2216, 1045, 4942, 29234, 2000, 203...</td>\n",
              "      <td>[1, 1, 1, 1, 1, 1, 1, 1, 1, 1, 1]</td>\n",
              "    </tr>\n",
              "  </tbody>\n",
              "</table>\n",
              "<p>15250 rows × 3 columns</p>\n",
              "</div>\n",
              "    <div class=\"colab-df-buttons\">\n",
              "\n",
              "  <div class=\"colab-df-container\">\n",
              "    <button class=\"colab-df-convert\" onclick=\"convertToInteractive('df-400556d3-23a1-4003-95e7-bd3a1e4b7c08')\"\n",
              "            title=\"Convert this dataframe to an interactive table.\"\n",
              "            style=\"display:none;\">\n",
              "\n",
              "  <svg xmlns=\"http://www.w3.org/2000/svg\" height=\"24px\" viewBox=\"0 -960 960 960\">\n",
              "    <path d=\"M120-120v-720h720v720H120Zm60-500h600v-160H180v160Zm220 220h160v-160H400v160Zm0 220h160v-160H400v160ZM180-400h160v-160H180v160Zm440 0h160v-160H620v160ZM180-180h160v-160H180v160Zm440 0h160v-160H620v160Z\"/>\n",
              "  </svg>\n",
              "    </button>\n",
              "\n",
              "  <style>\n",
              "    .colab-df-container {\n",
              "      display:flex;\n",
              "      gap: 12px;\n",
              "    }\n",
              "\n",
              "    .colab-df-convert {\n",
              "      background-color: #E8F0FE;\n",
              "      border: none;\n",
              "      border-radius: 50%;\n",
              "      cursor: pointer;\n",
              "      display: none;\n",
              "      fill: #1967D2;\n",
              "      height: 32px;\n",
              "      padding: 0 0 0 0;\n",
              "      width: 32px;\n",
              "    }\n",
              "\n",
              "    .colab-df-convert:hover {\n",
              "      background-color: #E2EBFA;\n",
              "      box-shadow: 0px 1px 2px rgba(60, 64, 67, 0.3), 0px 1px 3px 1px rgba(60, 64, 67, 0.15);\n",
              "      fill: #174EA6;\n",
              "    }\n",
              "\n",
              "    .colab-df-buttons div {\n",
              "      margin-bottom: 4px;\n",
              "    }\n",
              "\n",
              "    [theme=dark] .colab-df-convert {\n",
              "      background-color: #3B4455;\n",
              "      fill: #D2E3FC;\n",
              "    }\n",
              "\n",
              "    [theme=dark] .colab-df-convert:hover {\n",
              "      background-color: #434B5C;\n",
              "      box-shadow: 0px 1px 3px 1px rgba(0, 0, 0, 0.15);\n",
              "      filter: drop-shadow(0px 1px 2px rgba(0, 0, 0, 0.3));\n",
              "      fill: #FFFFFF;\n",
              "    }\n",
              "  </style>\n",
              "\n",
              "    <script>\n",
              "      const buttonEl =\n",
              "        document.querySelector('#df-400556d3-23a1-4003-95e7-bd3a1e4b7c08 button.colab-df-convert');\n",
              "      buttonEl.style.display =\n",
              "        google.colab.kernel.accessAllowed ? 'block' : 'none';\n",
              "\n",
              "      async function convertToInteractive(key) {\n",
              "        const element = document.querySelector('#df-400556d3-23a1-4003-95e7-bd3a1e4b7c08');\n",
              "        const dataTable =\n",
              "          await google.colab.kernel.invokeFunction('convertToInteractive',\n",
              "                                                    [key], {});\n",
              "        if (!dataTable) return;\n",
              "\n",
              "        const docLinkHtml = 'Like what you see? Visit the ' +\n",
              "          '<a target=\"_blank\" href=https://colab.research.google.com/notebooks/data_table.ipynb>data table notebook</a>'\n",
              "          + ' to learn more about interactive tables.';\n",
              "        element.innerHTML = '';\n",
              "        dataTable['output_type'] = 'display_data';\n",
              "        await google.colab.output.renderOutput(dataTable, element);\n",
              "        const docLink = document.createElement('div');\n",
              "        docLink.innerHTML = docLinkHtml;\n",
              "        element.appendChild(docLink);\n",
              "      }\n",
              "    </script>\n",
              "  </div>\n",
              "\n",
              "\n",
              "<div id=\"df-a0527db6-f075-4bd0-ba60-28a45d066513\">\n",
              "  <button class=\"colab-df-quickchart\" onclick=\"quickchart('df-a0527db6-f075-4bd0-ba60-28a45d066513')\"\n",
              "            title=\"Suggest charts\"\n",
              "            style=\"display:none;\">\n",
              "\n",
              "<svg xmlns=\"http://www.w3.org/2000/svg\" height=\"24px\"viewBox=\"0 0 24 24\"\n",
              "     width=\"24px\">\n",
              "    <g>\n",
              "        <path d=\"M19 3H5c-1.1 0-2 .9-2 2v14c0 1.1.9 2 2 2h14c1.1 0 2-.9 2-2V5c0-1.1-.9-2-2-2zM9 17H7v-7h2v7zm4 0h-2V7h2v10zm4 0h-2v-4h2v4z\"/>\n",
              "    </g>\n",
              "</svg>\n",
              "  </button>\n",
              "\n",
              "<style>\n",
              "  .colab-df-quickchart {\n",
              "      --bg-color: #E8F0FE;\n",
              "      --fill-color: #1967D2;\n",
              "      --hover-bg-color: #E2EBFA;\n",
              "      --hover-fill-color: #174EA6;\n",
              "      --disabled-fill-color: #AAA;\n",
              "      --disabled-bg-color: #DDD;\n",
              "  }\n",
              "\n",
              "  [theme=dark] .colab-df-quickchart {\n",
              "      --bg-color: #3B4455;\n",
              "      --fill-color: #D2E3FC;\n",
              "      --hover-bg-color: #434B5C;\n",
              "      --hover-fill-color: #FFFFFF;\n",
              "      --disabled-bg-color: #3B4455;\n",
              "      --disabled-fill-color: #666;\n",
              "  }\n",
              "\n",
              "  .colab-df-quickchart {\n",
              "    background-color: var(--bg-color);\n",
              "    border: none;\n",
              "    border-radius: 50%;\n",
              "    cursor: pointer;\n",
              "    display: none;\n",
              "    fill: var(--fill-color);\n",
              "    height: 32px;\n",
              "    padding: 0;\n",
              "    width: 32px;\n",
              "  }\n",
              "\n",
              "  .colab-df-quickchart:hover {\n",
              "    background-color: var(--hover-bg-color);\n",
              "    box-shadow: 0 1px 2px rgba(60, 64, 67, 0.3), 0 1px 3px 1px rgba(60, 64, 67, 0.15);\n",
              "    fill: var(--button-hover-fill-color);\n",
              "  }\n",
              "\n",
              "  .colab-df-quickchart-complete:disabled,\n",
              "  .colab-df-quickchart-complete:disabled:hover {\n",
              "    background-color: var(--disabled-bg-color);\n",
              "    fill: var(--disabled-fill-color);\n",
              "    box-shadow: none;\n",
              "  }\n",
              "\n",
              "  .colab-df-spinner {\n",
              "    border: 2px solid var(--fill-color);\n",
              "    border-color: transparent;\n",
              "    border-bottom-color: var(--fill-color);\n",
              "    animation:\n",
              "      spin 1s steps(1) infinite;\n",
              "  }\n",
              "\n",
              "  @keyframes spin {\n",
              "    0% {\n",
              "      border-color: transparent;\n",
              "      border-bottom-color: var(--fill-color);\n",
              "      border-left-color: var(--fill-color);\n",
              "    }\n",
              "    20% {\n",
              "      border-color: transparent;\n",
              "      border-left-color: var(--fill-color);\n",
              "      border-top-color: var(--fill-color);\n",
              "    }\n",
              "    30% {\n",
              "      border-color: transparent;\n",
              "      border-left-color: var(--fill-color);\n",
              "      border-top-color: var(--fill-color);\n",
              "      border-right-color: var(--fill-color);\n",
              "    }\n",
              "    40% {\n",
              "      border-color: transparent;\n",
              "      border-right-color: var(--fill-color);\n",
              "      border-top-color: var(--fill-color);\n",
              "    }\n",
              "    60% {\n",
              "      border-color: transparent;\n",
              "      border-right-color: var(--fill-color);\n",
              "    }\n",
              "    80% {\n",
              "      border-color: transparent;\n",
              "      border-right-color: var(--fill-color);\n",
              "      border-bottom-color: var(--fill-color);\n",
              "    }\n",
              "    90% {\n",
              "      border-color: transparent;\n",
              "      border-bottom-color: var(--fill-color);\n",
              "    }\n",
              "  }\n",
              "</style>\n",
              "\n",
              "  <script>\n",
              "    async function quickchart(key) {\n",
              "      const quickchartButtonEl =\n",
              "        document.querySelector('#' + key + ' button');\n",
              "      quickchartButtonEl.disabled = true;  // To prevent multiple clicks.\n",
              "      quickchartButtonEl.classList.add('colab-df-spinner');\n",
              "      try {\n",
              "        const charts = await google.colab.kernel.invokeFunction(\n",
              "            'suggestCharts', [key], {});\n",
              "      } catch (error) {\n",
              "        console.error('Error during call to suggestCharts:', error);\n",
              "      }\n",
              "      quickchartButtonEl.classList.remove('colab-df-spinner');\n",
              "      quickchartButtonEl.classList.add('colab-df-quickchart-complete');\n",
              "    }\n",
              "    (() => {\n",
              "      let quickchartButtonEl =\n",
              "        document.querySelector('#df-a0527db6-f075-4bd0-ba60-28a45d066513 button');\n",
              "      quickchartButtonEl.style.display =\n",
              "        google.colab.kernel.accessAllowed ? 'block' : 'none';\n",
              "    })();\n",
              "  </script>\n",
              "</div>\n",
              "\n",
              "    </div>\n",
              "  </div>\n"
            ]
          },
          "metadata": {},
          "execution_count": 33
        }
      ]
    },
    {
      "cell_type": "code",
      "source": [
        "data_encoded=data_encoded.rename_column(\n",
        "    original_column_name=\"intent\",\n",
        "    new_column_name=\"labels\"\n",
        ")\n",
        "\n",
        "data_encoded[\"train\"].to_pandas()"
      ],
      "metadata": {
        "colab": {
          "base_uri": "https://localhost:8080/",
          "height": 424
        },
        "id": "b2hVosO5ciCz",
        "outputId": "816b2112-08fe-41f3-d62b-f294596d4ba2"
      },
      "execution_count": 34,
      "outputs": [
        {
          "output_type": "execute_result",
          "data": {
            "text/plain": [
              "       labels                                          input_ids  \\\n",
              "0          61  [101, 2054, 3670, 2052, 1045, 2224, 2000, 2360...   \n",
              "1          61  [101, 2064, 2017, 2425, 2033, 2129, 2000, 2360...   \n",
              "2          61  [101, 2054, 2003, 1996, 5662, 1997, 1010, 1005...   \n",
              "3          61  [101, 2425, 2033, 2129, 2000, 2360, 1010, 1005...   \n",
              "4          61  [101, 2065, 1045, 2020, 17855, 1010, 2129, 205...   \n",
              "...       ...                                                ...   \n",
              "15245      42  [101, 2129, 2064, 1045, 2131, 2920, 1999, 1327...   \n",
              "15246      42                      [101, 2003, 13272, 7965, 102]   \n",
              "15247      42  [101, 2054, 1005, 1055, 1996, 11346, 16289, 19...   \n",
              "15248      42  [101, 2040, 2038, 1996, 2087, 17073, 2006, 785...   \n",
              "15249      42  [101, 2079, 2216, 1045, 4942, 29234, 2000, 203...   \n",
              "\n",
              "                                          attention_mask  \n",
              "0      [1, 1, 1, 1, 1, 1, 1, 1, 1, 1, 1, 1, 1, 1, 1, ...  \n",
              "1      [1, 1, 1, 1, 1, 1, 1, 1, 1, 1, 1, 1, 1, 1, 1, ...  \n",
              "2          [1, 1, 1, 1, 1, 1, 1, 1, 1, 1, 1, 1, 1, 1, 1]  \n",
              "3      [1, 1, 1, 1, 1, 1, 1, 1, 1, 1, 1, 1, 1, 1, 1, ...  \n",
              "4       [1, 1, 1, 1, 1, 1, 1, 1, 1, 1, 1, 1, 1, 1, 1, 1]  \n",
              "...                                                  ...  \n",
              "15245                        [1, 1, 1, 1, 1, 1, 1, 1, 1]  \n",
              "15246                                    [1, 1, 1, 1, 1]  \n",
              "15247         [1, 1, 1, 1, 1, 1, 1, 1, 1, 1, 1, 1, 1, 1]  \n",
              "15248                        [1, 1, 1, 1, 1, 1, 1, 1, 1]  \n",
              "15249                  [1, 1, 1, 1, 1, 1, 1, 1, 1, 1, 1]  \n",
              "\n",
              "[15250 rows x 3 columns]"
            ],
            "text/html": [
              "\n",
              "  <div id=\"df-fcee6e0b-e9b3-4125-9adc-6683a219bec9\" class=\"colab-df-container\">\n",
              "    <div>\n",
              "<style scoped>\n",
              "    .dataframe tbody tr th:only-of-type {\n",
              "        vertical-align: middle;\n",
              "    }\n",
              "\n",
              "    .dataframe tbody tr th {\n",
              "        vertical-align: top;\n",
              "    }\n",
              "\n",
              "    .dataframe thead th {\n",
              "        text-align: right;\n",
              "    }\n",
              "</style>\n",
              "<table border=\"1\" class=\"dataframe\">\n",
              "  <thead>\n",
              "    <tr style=\"text-align: right;\">\n",
              "      <th></th>\n",
              "      <th>labels</th>\n",
              "      <th>input_ids</th>\n",
              "      <th>attention_mask</th>\n",
              "    </tr>\n",
              "  </thead>\n",
              "  <tbody>\n",
              "    <tr>\n",
              "      <th>0</th>\n",
              "      <td>61</td>\n",
              "      <td>[101, 2054, 3670, 2052, 1045, 2224, 2000, 2360...</td>\n",
              "      <td>[1, 1, 1, 1, 1, 1, 1, 1, 1, 1, 1, 1, 1, 1, 1, ...</td>\n",
              "    </tr>\n",
              "    <tr>\n",
              "      <th>1</th>\n",
              "      <td>61</td>\n",
              "      <td>[101, 2064, 2017, 2425, 2033, 2129, 2000, 2360...</td>\n",
              "      <td>[1, 1, 1, 1, 1, 1, 1, 1, 1, 1, 1, 1, 1, 1, 1, ...</td>\n",
              "    </tr>\n",
              "    <tr>\n",
              "      <th>2</th>\n",
              "      <td>61</td>\n",
              "      <td>[101, 2054, 2003, 1996, 5662, 1997, 1010, 1005...</td>\n",
              "      <td>[1, 1, 1, 1, 1, 1, 1, 1, 1, 1, 1, 1, 1, 1, 1]</td>\n",
              "    </tr>\n",
              "    <tr>\n",
              "      <th>3</th>\n",
              "      <td>61</td>\n",
              "      <td>[101, 2425, 2033, 2129, 2000, 2360, 1010, 1005...</td>\n",
              "      <td>[1, 1, 1, 1, 1, 1, 1, 1, 1, 1, 1, 1, 1, 1, 1, ...</td>\n",
              "    </tr>\n",
              "    <tr>\n",
              "      <th>4</th>\n",
              "      <td>61</td>\n",
              "      <td>[101, 2065, 1045, 2020, 17855, 1010, 2129, 205...</td>\n",
              "      <td>[1, 1, 1, 1, 1, 1, 1, 1, 1, 1, 1, 1, 1, 1, 1, 1]</td>\n",
              "    </tr>\n",
              "    <tr>\n",
              "      <th>...</th>\n",
              "      <td>...</td>\n",
              "      <td>...</td>\n",
              "      <td>...</td>\n",
              "    </tr>\n",
              "    <tr>\n",
              "      <th>15245</th>\n",
              "      <td>42</td>\n",
              "      <td>[101, 2129, 2064, 1045, 2131, 2920, 1999, 1327...</td>\n",
              "      <td>[1, 1, 1, 1, 1, 1, 1, 1, 1]</td>\n",
              "    </tr>\n",
              "    <tr>\n",
              "      <th>15246</th>\n",
              "      <td>42</td>\n",
              "      <td>[101, 2003, 13272, 7965, 102]</td>\n",
              "      <td>[1, 1, 1, 1, 1]</td>\n",
              "    </tr>\n",
              "    <tr>\n",
              "      <th>15247</th>\n",
              "      <td>42</td>\n",
              "      <td>[101, 2054, 1005, 1055, 1996, 11346, 16289, 19...</td>\n",
              "      <td>[1, 1, 1, 1, 1, 1, 1, 1, 1, 1, 1, 1, 1, 1]</td>\n",
              "    </tr>\n",
              "    <tr>\n",
              "      <th>15248</th>\n",
              "      <td>42</td>\n",
              "      <td>[101, 2040, 2038, 1996, 2087, 17073, 2006, 785...</td>\n",
              "      <td>[1, 1, 1, 1, 1, 1, 1, 1, 1]</td>\n",
              "    </tr>\n",
              "    <tr>\n",
              "      <th>15249</th>\n",
              "      <td>42</td>\n",
              "      <td>[101, 2079, 2216, 1045, 4942, 29234, 2000, 203...</td>\n",
              "      <td>[1, 1, 1, 1, 1, 1, 1, 1, 1, 1, 1]</td>\n",
              "    </tr>\n",
              "  </tbody>\n",
              "</table>\n",
              "<p>15250 rows × 3 columns</p>\n",
              "</div>\n",
              "    <div class=\"colab-df-buttons\">\n",
              "\n",
              "  <div class=\"colab-df-container\">\n",
              "    <button class=\"colab-df-convert\" onclick=\"convertToInteractive('df-fcee6e0b-e9b3-4125-9adc-6683a219bec9')\"\n",
              "            title=\"Convert this dataframe to an interactive table.\"\n",
              "            style=\"display:none;\">\n",
              "\n",
              "  <svg xmlns=\"http://www.w3.org/2000/svg\" height=\"24px\" viewBox=\"0 -960 960 960\">\n",
              "    <path d=\"M120-120v-720h720v720H120Zm60-500h600v-160H180v160Zm220 220h160v-160H400v160Zm0 220h160v-160H400v160ZM180-400h160v-160H180v160Zm440 0h160v-160H620v160ZM180-180h160v-160H180v160Zm440 0h160v-160H620v160Z\"/>\n",
              "  </svg>\n",
              "    </button>\n",
              "\n",
              "  <style>\n",
              "    .colab-df-container {\n",
              "      display:flex;\n",
              "      gap: 12px;\n",
              "    }\n",
              "\n",
              "    .colab-df-convert {\n",
              "      background-color: #E8F0FE;\n",
              "      border: none;\n",
              "      border-radius: 50%;\n",
              "      cursor: pointer;\n",
              "      display: none;\n",
              "      fill: #1967D2;\n",
              "      height: 32px;\n",
              "      padding: 0 0 0 0;\n",
              "      width: 32px;\n",
              "    }\n",
              "\n",
              "    .colab-df-convert:hover {\n",
              "      background-color: #E2EBFA;\n",
              "      box-shadow: 0px 1px 2px rgba(60, 64, 67, 0.3), 0px 1px 3px 1px rgba(60, 64, 67, 0.15);\n",
              "      fill: #174EA6;\n",
              "    }\n",
              "\n",
              "    .colab-df-buttons div {\n",
              "      margin-bottom: 4px;\n",
              "    }\n",
              "\n",
              "    [theme=dark] .colab-df-convert {\n",
              "      background-color: #3B4455;\n",
              "      fill: #D2E3FC;\n",
              "    }\n",
              "\n",
              "    [theme=dark] .colab-df-convert:hover {\n",
              "      background-color: #434B5C;\n",
              "      box-shadow: 0px 1px 3px 1px rgba(0, 0, 0, 0.15);\n",
              "      filter: drop-shadow(0px 1px 2px rgba(0, 0, 0, 0.3));\n",
              "      fill: #FFFFFF;\n",
              "    }\n",
              "  </style>\n",
              "\n",
              "    <script>\n",
              "      const buttonEl =\n",
              "        document.querySelector('#df-fcee6e0b-e9b3-4125-9adc-6683a219bec9 button.colab-df-convert');\n",
              "      buttonEl.style.display =\n",
              "        google.colab.kernel.accessAllowed ? 'block' : 'none';\n",
              "\n",
              "      async function convertToInteractive(key) {\n",
              "        const element = document.querySelector('#df-fcee6e0b-e9b3-4125-9adc-6683a219bec9');\n",
              "        const dataTable =\n",
              "          await google.colab.kernel.invokeFunction('convertToInteractive',\n",
              "                                                    [key], {});\n",
              "        if (!dataTable) return;\n",
              "\n",
              "        const docLinkHtml = 'Like what you see? Visit the ' +\n",
              "          '<a target=\"_blank\" href=https://colab.research.google.com/notebooks/data_table.ipynb>data table notebook</a>'\n",
              "          + ' to learn more about interactive tables.';\n",
              "        element.innerHTML = '';\n",
              "        dataTable['output_type'] = 'display_data';\n",
              "        await google.colab.output.renderOutput(dataTable, element);\n",
              "        const docLink = document.createElement('div');\n",
              "        docLink.innerHTML = docLinkHtml;\n",
              "        element.appendChild(docLink);\n",
              "      }\n",
              "    </script>\n",
              "  </div>\n",
              "\n",
              "\n",
              "<div id=\"df-d00c0f5b-5b7f-4754-9624-b5b649b0bc75\">\n",
              "  <button class=\"colab-df-quickchart\" onclick=\"quickchart('df-d00c0f5b-5b7f-4754-9624-b5b649b0bc75')\"\n",
              "            title=\"Suggest charts\"\n",
              "            style=\"display:none;\">\n",
              "\n",
              "<svg xmlns=\"http://www.w3.org/2000/svg\" height=\"24px\"viewBox=\"0 0 24 24\"\n",
              "     width=\"24px\">\n",
              "    <g>\n",
              "        <path d=\"M19 3H5c-1.1 0-2 .9-2 2v14c0 1.1.9 2 2 2h14c1.1 0 2-.9 2-2V5c0-1.1-.9-2-2-2zM9 17H7v-7h2v7zm4 0h-2V7h2v10zm4 0h-2v-4h2v4z\"/>\n",
              "    </g>\n",
              "</svg>\n",
              "  </button>\n",
              "\n",
              "<style>\n",
              "  .colab-df-quickchart {\n",
              "      --bg-color: #E8F0FE;\n",
              "      --fill-color: #1967D2;\n",
              "      --hover-bg-color: #E2EBFA;\n",
              "      --hover-fill-color: #174EA6;\n",
              "      --disabled-fill-color: #AAA;\n",
              "      --disabled-bg-color: #DDD;\n",
              "  }\n",
              "\n",
              "  [theme=dark] .colab-df-quickchart {\n",
              "      --bg-color: #3B4455;\n",
              "      --fill-color: #D2E3FC;\n",
              "      --hover-bg-color: #434B5C;\n",
              "      --hover-fill-color: #FFFFFF;\n",
              "      --disabled-bg-color: #3B4455;\n",
              "      --disabled-fill-color: #666;\n",
              "  }\n",
              "\n",
              "  .colab-df-quickchart {\n",
              "    background-color: var(--bg-color);\n",
              "    border: none;\n",
              "    border-radius: 50%;\n",
              "    cursor: pointer;\n",
              "    display: none;\n",
              "    fill: var(--fill-color);\n",
              "    height: 32px;\n",
              "    padding: 0;\n",
              "    width: 32px;\n",
              "  }\n",
              "\n",
              "  .colab-df-quickchart:hover {\n",
              "    background-color: var(--hover-bg-color);\n",
              "    box-shadow: 0 1px 2px rgba(60, 64, 67, 0.3), 0 1px 3px 1px rgba(60, 64, 67, 0.15);\n",
              "    fill: var(--button-hover-fill-color);\n",
              "  }\n",
              "\n",
              "  .colab-df-quickchart-complete:disabled,\n",
              "  .colab-df-quickchart-complete:disabled:hover {\n",
              "    background-color: var(--disabled-bg-color);\n",
              "    fill: var(--disabled-fill-color);\n",
              "    box-shadow: none;\n",
              "  }\n",
              "\n",
              "  .colab-df-spinner {\n",
              "    border: 2px solid var(--fill-color);\n",
              "    border-color: transparent;\n",
              "    border-bottom-color: var(--fill-color);\n",
              "    animation:\n",
              "      spin 1s steps(1) infinite;\n",
              "  }\n",
              "\n",
              "  @keyframes spin {\n",
              "    0% {\n",
              "      border-color: transparent;\n",
              "      border-bottom-color: var(--fill-color);\n",
              "      border-left-color: var(--fill-color);\n",
              "    }\n",
              "    20% {\n",
              "      border-color: transparent;\n",
              "      border-left-color: var(--fill-color);\n",
              "      border-top-color: var(--fill-color);\n",
              "    }\n",
              "    30% {\n",
              "      border-color: transparent;\n",
              "      border-left-color: var(--fill-color);\n",
              "      border-top-color: var(--fill-color);\n",
              "      border-right-color: var(--fill-color);\n",
              "    }\n",
              "    40% {\n",
              "      border-color: transparent;\n",
              "      border-right-color: var(--fill-color);\n",
              "      border-top-color: var(--fill-color);\n",
              "    }\n",
              "    60% {\n",
              "      border-color: transparent;\n",
              "      border-right-color: var(--fill-color);\n",
              "    }\n",
              "    80% {\n",
              "      border-color: transparent;\n",
              "      border-right-color: var(--fill-color);\n",
              "      border-bottom-color: var(--fill-color);\n",
              "    }\n",
              "    90% {\n",
              "      border-color: transparent;\n",
              "      border-bottom-color: var(--fill-color);\n",
              "    }\n",
              "  }\n",
              "</style>\n",
              "\n",
              "  <script>\n",
              "    async function quickchart(key) {\n",
              "      const quickchartButtonEl =\n",
              "        document.querySelector('#' + key + ' button');\n",
              "      quickchartButtonEl.disabled = true;  // To prevent multiple clicks.\n",
              "      quickchartButtonEl.classList.add('colab-df-spinner');\n",
              "      try {\n",
              "        const charts = await google.colab.kernel.invokeFunction(\n",
              "            'suggestCharts', [key], {});\n",
              "      } catch (error) {\n",
              "        console.error('Error during call to suggestCharts:', error);\n",
              "      }\n",
              "      quickchartButtonEl.classList.remove('colab-df-spinner');\n",
              "      quickchartButtonEl.classList.add('colab-df-quickchart-complete');\n",
              "    }\n",
              "    (() => {\n",
              "      let quickchartButtonEl =\n",
              "        document.querySelector('#df-d00c0f5b-5b7f-4754-9624-b5b649b0bc75 button');\n",
              "      quickchartButtonEl.style.display =\n",
              "        google.colab.kernel.accessAllowed ? 'block' : 'none';\n",
              "    })();\n",
              "  </script>\n",
              "</div>\n",
              "\n",
              "    </div>\n",
              "  </div>\n"
            ]
          },
          "metadata": {},
          "execution_count": 34
        }
      ]
    },
    {
      "cell_type": "markdown",
      "source": [
        "* Here we've removed the `text` column since we no longer need it, and we've also `renamed` the `intent` column to `labels` so it can be automatically detected by the\n",
        "trainer.\n",
        "\n",
        "* Now that we've processed our texts, the next thing we need to do is define the hyperparameters and `compute_metrics()` function for our `DistillationTrainer`. We'll also push all of our models to the Hugging Face Hub."
      ],
      "metadata": {
        "id": "WLg6PWtkql2z"
      }
    },
    {
      "cell_type": "markdown",
      "source": [
        "### Pushing the model to the Hub"
      ],
      "metadata": {
        "id": "xNbqMmL_qY6X"
      }
    },
    {
      "cell_type": "markdown",
      "source": [
        "To share our model with the community, we can use the `push_to_hub()` method of the `DistillationTrainer` class, which uploads our model and its configuration to the Hugging Face Hub, a platform for hosting and collaborating on models. We can also use the `pipeline()` function from the `transformers` library to create an inference pipeline that can take a query and return the predicted intent."
      ],
      "metadata": {
        "id": "IOLjoSFLqcs_"
      }
    },
    {
      "cell_type": "code",
      "source": [
        "from huggingface_hub import notebook_login\n",
        "notebook_login()"
      ],
      "metadata": {
        "colab": {
          "base_uri": "https://localhost:8080/",
          "height": 145,
          "referenced_widgets": [
            "df93b9f9fcef4c0eba70b42fd835e9c9",
            "072c33b7a08340dabe23a602ead647e6",
            "11028aef558646ba9900f1cc452bffcd",
            "cbf196e719e041ff88ab60ac31361a04",
            "afadbcbc0fa74bc1b5000a37b9a07614",
            "a35ba67143314429ae6b3dbbb6f41898",
            "2dc30904cb2942a788005938febd880c",
            "8a47e9c258484b5da01b860a2ece8d45",
            "6f869d56239c44f69963d19dec380841",
            "410f391f4aa44fa2afebb98c27dd8a7e",
            "178e0ff754a741199184f5f0ebb6a8d1",
            "69440b4e30364a4a9f652ba9a36fafcd",
            "7cd5a8db8f824194ba23ca751b7b266f",
            "4d844c9b03cb4a609cda222b3370ee4d",
            "e11fe67e6e6e4b48bfbd5dda8e00d2b9",
            "9a2735bee4b2435b922c7298f4a8f987",
            "cb35b8331f2648cda36198150f71adbd",
            "33fffe6f8fec479d9d9c646f5bcfb1b6",
            "d350e047d5584b0bb2dd7d04c0e3703f",
            "5cdc99f5dc3e42c3b68e5d5b043e05e9",
            "5876b1f53b874540a0c92661626ccf34",
            "0508a6724744455c806321e45902bea3",
            "565dbcd4efe14ae189f59daa171c3b0a",
            "c0f5e2f1bb014df38861ce6747d33930",
            "14c9924a132b474691da9afc8d0c88b9",
            "0746097e3fc64208b8c0b10b178ec34b",
            "84803f0e27cb4d1eb675ed733976627f",
            "6a1928bb9a8540bab75c8bddb72f629f",
            "0a9e225cd309448c9a42e6410262b21a",
            "88f2b44b0fec41b5bf7804e114e4738e",
            "1dce1f5f3f5540aebf896e8f9d8234d7",
            "4a7b51cce5d74651bce9e8789ce7a058"
          ]
        },
        "id": "q4TIhYWmdAH5",
        "outputId": "ba60709c-1b47-47ab-8e63-c2d787ea429e"
      },
      "execution_count": 35,
      "outputs": [
        {
          "output_type": "display_data",
          "data": {
            "text/plain": [
              "VBox(children=(HTML(value='<center> <img\\nsrc=https://huggingface.co/front/assets/huggingface_logo-noborder.sv…"
            ],
            "application/vnd.jupyter.widget-view+json": {
              "version_major": 2,
              "version_minor": 0,
              "model_id": "df93b9f9fcef4c0eba70b42fd835e9c9"
            }
          },
          "metadata": {}
        }
      ]
    },
    {
      "cell_type": "markdown",
      "source": [
        "### Define Compute Metrics"
      ],
      "metadata": {
        "id": "DqVt8_V7rM6v"
      }
    },
    {
      "cell_type": "markdown",
      "source": [
        "Next, we'll define the metrics to track during training. As we did in the performance benchmark, we'll use `accuracy` as the main metric. This means we can reuse our `accuracy_score()` function in the `compute_metrics()` function that we'll include in\n",
        "`DistillationTrainer`."
      ],
      "metadata": {
        "id": "L-1k-kOArQUa"
      }
    },
    {
      "cell_type": "code",
      "source": [
        "def compute_metrics(pred):\n",
        "    logits, labels=pred\n",
        "    predictions=np.argmax(logits, axis=1)\n",
        "    return accuracy_score.compute(\n",
        "        predictions=predictions,\n",
        "        references=labels\n",
        "    )"
      ],
      "metadata": {
        "id": "BvhlcJ5RrX73"
      },
      "execution_count": 36,
      "outputs": []
    },
    {
      "cell_type": "markdown",
      "source": [
        "In this function, the predictions from the sequence modeling head come in the form of logits, so we use the `np.argmax()` function to find the most confident class prediction and compare that against the ground truth label."
      ],
      "metadata": {
        "id": "svtKj21IsQ7b"
      }
    },
    {
      "cell_type": "markdown",
      "source": [
        "### TrainingArguments"
      ],
      "metadata": {
        "id": "UFUj1BpCswu0"
      }
    },
    {
      "cell_type": "markdown",
      "source": [
        "To warm up we will set $\\alpha = 1$ to see how well DistilBERT performs without any signal from the teacher. Then we will push our fine-tuned model to a new repo called `distilbert-base-uncased-finetuned-clinc`, which we need to specify in the `DistillationTrainingArguments`."
      ],
      "metadata": {
        "id": "Mwj5OCW5s6AP"
      }
    },
    {
      "cell_type": "code",
      "source": [
        "from enum import Enum\n",
        "\n",
        "class ModelConfig(Enum):\n",
        "    BATCH_SIZE=48\n",
        "    EPOCHS=10\n",
        "    LEARNING_RATE=2e-5\n",
        "    DISTILLATION_ALPHA=1,\n",
        "    WEIGHT_DECAY=0.01"
      ],
      "metadata": {
        "id": "kaAl9UMGr9HM"
      },
      "execution_count": 37,
      "outputs": []
    },
    {
      "cell_type": "code",
      "source": [
        "!pip install transformers[torch] accelerate -Uqq"
      ],
      "metadata": {
        "id": "BUTNF2yJ6C-0"
      },
      "execution_count": 38,
      "outputs": []
    },
    {
      "cell_type": "code",
      "source": [
        "# path where the finetuned model will be saved\n",
        "finetuned_checkpoint=\"distilbert-base-uncased-finetuned-clinc\"\n",
        "\n",
        "student_training_args=DistillationTrainingArguments(\n",
        "    output_dir=finetuned_checkpoint,\n",
        "    evaluation_strategy=\"epoch\",\n",
        "    num_train_epochs=ModelConfig.EPOCHS.value,\n",
        "    learning_rate=ModelConfig.LEARNING_RATE.value,\n",
        "    per_device_train_batch_size=ModelConfig.BATCH_SIZE.value,\n",
        "    per_device_eval_batch_size=ModelConfig.BATCH_SIZE.value,\n",
        "    alpha=ModelConfig.DISTILLATION_ALPHA.value,\n",
        "    weight_decay=ModelConfig.WEIGHT_DECAY.value,\n",
        "    push_to_hub=True\n",
        ")"
      ],
      "metadata": {
        "id": "zL4V7f-Qu8-V"
      },
      "execution_count": 39,
      "outputs": []
    },
    {
      "cell_type": "markdown",
      "source": [
        "### Student init"
      ],
      "metadata": {
        "id": "b4mF7qms0JgW"
      }
    },
    {
      "cell_type": "markdown",
      "source": [
        "The next thing to do is initialize a student model. Since we will be doing multiple runs with the trainer, we'll create a `student_init()` function to initialize the model with each new run. When we pass this function to the `DistillationTrainer`, this will ensure we initialize a new model\n",
        "each time we call the `train()` method.\n",
        "\n",
        "\n",
        "One other thing we need to do is provide the student model with the `mappings between each intent and label ID`. These mappings can be obtained from our `BERT base model` that we downloaded in the pipeline."
      ],
      "metadata": {
        "id": "V1WJ7kxu0Lu0"
      }
    },
    {
      "cell_type": "code",
      "source": [
        "id2label=pipe.model.config.id2label\n",
        "label2id=pipe.model.config.label2id"
      ],
      "metadata": {
        "id": "zN-4lS_WvF7_"
      },
      "execution_count": 40,
      "outputs": []
    },
    {
      "cell_type": "code",
      "source": [
        "id2label[0], label2id[\"restaurant_reviews\"]"
      ],
      "metadata": {
        "colab": {
          "base_uri": "https://localhost:8080/"
        },
        "id": "PtwDqIz1vhX-",
        "outputId": "a8f4dfa2-d1a8-4dee-fc30-b4c445778fbd"
      },
      "execution_count": 41,
      "outputs": [
        {
          "output_type": "execute_result",
          "data": {
            "text/plain": [
              "('restaurant_reviews', 0)"
            ]
          },
          "metadata": {},
          "execution_count": 41
        }
      ]
    },
    {
      "cell_type": "code",
      "source": [
        "from transformers import AutoConfig\n",
        "\n",
        "num_labels = intents.num_classes\n",
        "print(num_labels)"
      ],
      "metadata": {
        "colab": {
          "base_uri": "https://localhost:8080/"
        },
        "id": "DGHuND6y08CG",
        "outputId": "8f7e7899-5e8c-4774-ec26-36dc6590a1dc"
      },
      "execution_count": 42,
      "outputs": [
        {
          "output_type": "stream",
          "name": "stdout",
          "text": [
            "151\n"
          ]
        }
      ]
    },
    {
      "cell_type": "code",
      "source": [
        "student_config=(AutoConfig.from_pretrained(\n",
        "    pretrained_model_name_or_path=student_checkpoint,\n",
        "    num_labels=num_labels,\n",
        "    id2label=id2label,\n",
        "    label2id=label2id\n",
        "))\n",
        "\n",
        "student_config"
      ],
      "metadata": {
        "colab": {
          "base_uri": "https://localhost:8080/"
        },
        "id": "fHo_IFCd10f_",
        "outputId": "61cb61c4-a490-47be-f9b0-6259bb1a71db"
      },
      "execution_count": 43,
      "outputs": [
        {
          "output_type": "execute_result",
          "data": {
            "text/plain": [
              "DistilBertConfig {\n",
              "  \"_name_or_path\": \"distilbert-base-uncased\",\n",
              "  \"activation\": \"gelu\",\n",
              "  \"architectures\": [\n",
              "    \"DistilBertForMaskedLM\"\n",
              "  ],\n",
              "  \"attention_dropout\": 0.1,\n",
              "  \"dim\": 768,\n",
              "  \"dropout\": 0.1,\n",
              "  \"hidden_dim\": 3072,\n",
              "  \"id2label\": {\n",
              "    \"0\": \"restaurant_reviews\",\n",
              "    \"1\": \"nutrition_info\",\n",
              "    \"2\": \"account_blocked\",\n",
              "    \"3\": \"oil_change_how\",\n",
              "    \"4\": \"time\",\n",
              "    \"5\": \"weather\",\n",
              "    \"6\": \"redeem_rewards\",\n",
              "    \"7\": \"interest_rate\",\n",
              "    \"8\": \"gas_type\",\n",
              "    \"9\": \"accept_reservations\",\n",
              "    \"10\": \"smart_home\",\n",
              "    \"11\": \"user_name\",\n",
              "    \"12\": \"report_lost_card\",\n",
              "    \"13\": \"repeat\",\n",
              "    \"14\": \"whisper_mode\",\n",
              "    \"15\": \"what_are_your_hobbies\",\n",
              "    \"16\": \"order\",\n",
              "    \"17\": \"jump_start\",\n",
              "    \"18\": \"schedule_meeting\",\n",
              "    \"19\": \"meeting_schedule\",\n",
              "    \"20\": \"freeze_account\",\n",
              "    \"21\": \"what_song\",\n",
              "    \"22\": \"meaning_of_life\",\n",
              "    \"23\": \"restaurant_reservation\",\n",
              "    \"24\": \"traffic\",\n",
              "    \"25\": \"make_call\",\n",
              "    \"26\": \"text\",\n",
              "    \"27\": \"bill_balance\",\n",
              "    \"28\": \"improve_credit_score\",\n",
              "    \"29\": \"change_language\",\n",
              "    \"30\": \"no\",\n",
              "    \"31\": \"measurement_conversion\",\n",
              "    \"32\": \"timer\",\n",
              "    \"33\": \"flip_coin\",\n",
              "    \"34\": \"do_you_have_pets\",\n",
              "    \"35\": \"balance\",\n",
              "    \"36\": \"tell_joke\",\n",
              "    \"37\": \"last_maintenance\",\n",
              "    \"38\": \"exchange_rate\",\n",
              "    \"39\": \"uber\",\n",
              "    \"40\": \"car_rental\",\n",
              "    \"41\": \"credit_limit\",\n",
              "    \"42\": \"oos\",\n",
              "    \"43\": \"shopping_list\",\n",
              "    \"44\": \"expiration_date\",\n",
              "    \"45\": \"routing\",\n",
              "    \"46\": \"meal_suggestion\",\n",
              "    \"47\": \"tire_change\",\n",
              "    \"48\": \"todo_list\",\n",
              "    \"49\": \"card_declined\",\n",
              "    \"50\": \"rewards_balance\",\n",
              "    \"51\": \"change_accent\",\n",
              "    \"52\": \"vaccines\",\n",
              "    \"53\": \"reminder_update\",\n",
              "    \"54\": \"food_last\",\n",
              "    \"55\": \"change_ai_name\",\n",
              "    \"56\": \"bill_due\",\n",
              "    \"57\": \"who_do_you_work_for\",\n",
              "    \"58\": \"share_location\",\n",
              "    \"59\": \"international_visa\",\n",
              "    \"60\": \"calendar\",\n",
              "    \"61\": \"translate\",\n",
              "    \"62\": \"carry_on\",\n",
              "    \"63\": \"book_flight\",\n",
              "    \"64\": \"insurance_change\",\n",
              "    \"65\": \"todo_list_update\",\n",
              "    \"66\": \"timezone\",\n",
              "    \"67\": \"cancel_reservation\",\n",
              "    \"68\": \"transactions\",\n",
              "    \"69\": \"credit_score\",\n",
              "    \"70\": \"report_fraud\",\n",
              "    \"71\": \"spending_history\",\n",
              "    \"72\": \"directions\",\n",
              "    \"73\": \"spelling\",\n",
              "    \"74\": \"insurance\",\n",
              "    \"75\": \"what_is_your_name\",\n",
              "    \"76\": \"reminder\",\n",
              "    \"77\": \"where_are_you_from\",\n",
              "    \"78\": \"distance\",\n",
              "    \"79\": \"payday\",\n",
              "    \"80\": \"flight_status\",\n",
              "    \"81\": \"find_phone\",\n",
              "    \"82\": \"greeting\",\n",
              "    \"83\": \"alarm\",\n",
              "    \"84\": \"order_status\",\n",
              "    \"85\": \"confirm_reservation\",\n",
              "    \"86\": \"cook_time\",\n",
              "    \"87\": \"damaged_card\",\n",
              "    \"88\": \"reset_settings\",\n",
              "    \"89\": \"pin_change\",\n",
              "    \"90\": \"replacement_card_duration\",\n",
              "    \"91\": \"new_card\",\n",
              "    \"92\": \"roll_dice\",\n",
              "    \"93\": \"income\",\n",
              "    \"94\": \"taxes\",\n",
              "    \"95\": \"date\",\n",
              "    \"96\": \"who_made_you\",\n",
              "    \"97\": \"pto_request\",\n",
              "    \"98\": \"tire_pressure\",\n",
              "    \"99\": \"how_old_are_you\",\n",
              "    \"100\": \"rollover_401k\",\n",
              "    \"101\": \"pto_request_status\",\n",
              "    \"102\": \"how_busy\",\n",
              "    \"103\": \"application_status\",\n",
              "    \"104\": \"recipe\",\n",
              "    \"105\": \"calendar_update\",\n",
              "    \"106\": \"play_music\",\n",
              "    \"107\": \"yes\",\n",
              "    \"108\": \"direct_deposit\",\n",
              "    \"109\": \"credit_limit_change\",\n",
              "    \"110\": \"gas\",\n",
              "    \"111\": \"pay_bill\",\n",
              "    \"112\": \"ingredients_list\",\n",
              "    \"113\": \"lost_luggage\",\n",
              "    \"114\": \"goodbye\",\n",
              "    \"115\": \"what_can_i_ask_you\",\n",
              "    \"116\": \"book_hotel\",\n",
              "    \"117\": \"are_you_a_bot\",\n",
              "    \"118\": \"next_song\",\n",
              "    \"119\": \"change_speed\",\n",
              "    \"120\": \"plug_type\",\n",
              "    \"121\": \"maybe\",\n",
              "    \"122\": \"w2\",\n",
              "    \"123\": \"oil_change_when\",\n",
              "    \"124\": \"thank_you\",\n",
              "    \"125\": \"shopping_list_update\",\n",
              "    \"126\": \"pto_balance\",\n",
              "    \"127\": \"order_checks\",\n",
              "    \"128\": \"travel_alert\",\n",
              "    \"129\": \"fun_fact\",\n",
              "    \"130\": \"sync_device\",\n",
              "    \"131\": \"schedule_maintenance\",\n",
              "    \"132\": \"apr\",\n",
              "    \"133\": \"transfer\",\n",
              "    \"134\": \"ingredient_substitution\",\n",
              "    \"135\": \"calories\",\n",
              "    \"136\": \"current_location\",\n",
              "    \"137\": \"international_fees\",\n",
              "    \"138\": \"calculator\",\n",
              "    \"139\": \"definition\",\n",
              "    \"140\": \"next_holiday\",\n",
              "    \"141\": \"update_playlist\",\n",
              "    \"142\": \"mpg\",\n",
              "    \"143\": \"min_payment\",\n",
              "    \"144\": \"change_user_name\",\n",
              "    \"145\": \"restaurant_suggestion\",\n",
              "    \"146\": \"travel_notification\",\n",
              "    \"147\": \"cancel\",\n",
              "    \"148\": \"pto_used\",\n",
              "    \"149\": \"travel_suggestion\",\n",
              "    \"150\": \"change_volume\"\n",
              "  },\n",
              "  \"initializer_range\": 0.02,\n",
              "  \"label2id\": {\n",
              "    \"accept_reservations\": 9,\n",
              "    \"account_blocked\": 2,\n",
              "    \"alarm\": 83,\n",
              "    \"application_status\": 103,\n",
              "    \"apr\": 132,\n",
              "    \"are_you_a_bot\": 117,\n",
              "    \"balance\": 35,\n",
              "    \"bill_balance\": 27,\n",
              "    \"bill_due\": 56,\n",
              "    \"book_flight\": 63,\n",
              "    \"book_hotel\": 116,\n",
              "    \"calculator\": 138,\n",
              "    \"calendar\": 60,\n",
              "    \"calendar_update\": 105,\n",
              "    \"calories\": 135,\n",
              "    \"cancel\": 147,\n",
              "    \"cancel_reservation\": 67,\n",
              "    \"car_rental\": 40,\n",
              "    \"card_declined\": 49,\n",
              "    \"carry_on\": 62,\n",
              "    \"change_accent\": 51,\n",
              "    \"change_ai_name\": 55,\n",
              "    \"change_language\": 29,\n",
              "    \"change_speed\": 119,\n",
              "    \"change_user_name\": 144,\n",
              "    \"change_volume\": 150,\n",
              "    \"confirm_reservation\": 85,\n",
              "    \"cook_time\": 86,\n",
              "    \"credit_limit\": 41,\n",
              "    \"credit_limit_change\": 109,\n",
              "    \"credit_score\": 69,\n",
              "    \"current_location\": 136,\n",
              "    \"damaged_card\": 87,\n",
              "    \"date\": 95,\n",
              "    \"definition\": 139,\n",
              "    \"direct_deposit\": 108,\n",
              "    \"directions\": 72,\n",
              "    \"distance\": 78,\n",
              "    \"do_you_have_pets\": 34,\n",
              "    \"exchange_rate\": 38,\n",
              "    \"expiration_date\": 44,\n",
              "    \"find_phone\": 81,\n",
              "    \"flight_status\": 80,\n",
              "    \"flip_coin\": 33,\n",
              "    \"food_last\": 54,\n",
              "    \"freeze_account\": 20,\n",
              "    \"fun_fact\": 129,\n",
              "    \"gas\": 110,\n",
              "    \"gas_type\": 8,\n",
              "    \"goodbye\": 114,\n",
              "    \"greeting\": 82,\n",
              "    \"how_busy\": 102,\n",
              "    \"how_old_are_you\": 99,\n",
              "    \"improve_credit_score\": 28,\n",
              "    \"income\": 93,\n",
              "    \"ingredient_substitution\": 134,\n",
              "    \"ingredients_list\": 112,\n",
              "    \"insurance\": 74,\n",
              "    \"insurance_change\": 64,\n",
              "    \"interest_rate\": 7,\n",
              "    \"international_fees\": 137,\n",
              "    \"international_visa\": 59,\n",
              "    \"jump_start\": 17,\n",
              "    \"last_maintenance\": 37,\n",
              "    \"lost_luggage\": 113,\n",
              "    \"make_call\": 25,\n",
              "    \"maybe\": 121,\n",
              "    \"meal_suggestion\": 46,\n",
              "    \"meaning_of_life\": 22,\n",
              "    \"measurement_conversion\": 31,\n",
              "    \"meeting_schedule\": 19,\n",
              "    \"min_payment\": 143,\n",
              "    \"mpg\": 142,\n",
              "    \"new_card\": 91,\n",
              "    \"next_holiday\": 140,\n",
              "    \"next_song\": 118,\n",
              "    \"no\": 30,\n",
              "    \"nutrition_info\": 1,\n",
              "    \"oil_change_how\": 3,\n",
              "    \"oil_change_when\": 123,\n",
              "    \"oos\": 42,\n",
              "    \"order\": 16,\n",
              "    \"order_checks\": 127,\n",
              "    \"order_status\": 84,\n",
              "    \"pay_bill\": 111,\n",
              "    \"payday\": 79,\n",
              "    \"pin_change\": 89,\n",
              "    \"play_music\": 106,\n",
              "    \"plug_type\": 120,\n",
              "    \"pto_balance\": 126,\n",
              "    \"pto_request\": 97,\n",
              "    \"pto_request_status\": 101,\n",
              "    \"pto_used\": 148,\n",
              "    \"recipe\": 104,\n",
              "    \"redeem_rewards\": 6,\n",
              "    \"reminder\": 76,\n",
              "    \"reminder_update\": 53,\n",
              "    \"repeat\": 13,\n",
              "    \"replacement_card_duration\": 90,\n",
              "    \"report_fraud\": 70,\n",
              "    \"report_lost_card\": 12,\n",
              "    \"reset_settings\": 88,\n",
              "    \"restaurant_reservation\": 23,\n",
              "    \"restaurant_reviews\": 0,\n",
              "    \"restaurant_suggestion\": 145,\n",
              "    \"rewards_balance\": 50,\n",
              "    \"roll_dice\": 92,\n",
              "    \"rollover_401k\": 100,\n",
              "    \"routing\": 45,\n",
              "    \"schedule_maintenance\": 131,\n",
              "    \"schedule_meeting\": 18,\n",
              "    \"share_location\": 58,\n",
              "    \"shopping_list\": 43,\n",
              "    \"shopping_list_update\": 125,\n",
              "    \"smart_home\": 10,\n",
              "    \"spelling\": 73,\n",
              "    \"spending_history\": 71,\n",
              "    \"sync_device\": 130,\n",
              "    \"taxes\": 94,\n",
              "    \"tell_joke\": 36,\n",
              "    \"text\": 26,\n",
              "    \"thank_you\": 124,\n",
              "    \"time\": 4,\n",
              "    \"timer\": 32,\n",
              "    \"timezone\": 66,\n",
              "    \"tire_change\": 47,\n",
              "    \"tire_pressure\": 98,\n",
              "    \"todo_list\": 48,\n",
              "    \"todo_list_update\": 65,\n",
              "    \"traffic\": 24,\n",
              "    \"transactions\": 68,\n",
              "    \"transfer\": 133,\n",
              "    \"translate\": 61,\n",
              "    \"travel_alert\": 128,\n",
              "    \"travel_notification\": 146,\n",
              "    \"travel_suggestion\": 149,\n",
              "    \"uber\": 39,\n",
              "    \"update_playlist\": 141,\n",
              "    \"user_name\": 11,\n",
              "    \"vaccines\": 52,\n",
              "    \"w2\": 122,\n",
              "    \"weather\": 5,\n",
              "    \"what_are_your_hobbies\": 15,\n",
              "    \"what_can_i_ask_you\": 115,\n",
              "    \"what_is_your_name\": 75,\n",
              "    \"what_song\": 21,\n",
              "    \"where_are_you_from\": 77,\n",
              "    \"whisper_mode\": 14,\n",
              "    \"who_do_you_work_for\": 57,\n",
              "    \"who_made_you\": 96,\n",
              "    \"yes\": 107\n",
              "  },\n",
              "  \"max_position_embeddings\": 512,\n",
              "  \"model_type\": \"distilbert\",\n",
              "  \"n_heads\": 12,\n",
              "  \"n_layers\": 6,\n",
              "  \"pad_token_id\": 0,\n",
              "  \"qa_dropout\": 0.1,\n",
              "  \"seq_classif_dropout\": 0.2,\n",
              "  \"sinusoidal_pos_embds\": false,\n",
              "  \"tie_weights_\": true,\n",
              "  \"transformers_version\": \"4.36.2\",\n",
              "  \"vocab_size\": 30522\n",
              "}"
            ]
          },
          "metadata": {},
          "execution_count": 43
        }
      ]
    },
    {
      "cell_type": "code",
      "source": [
        "from transformers import AutoModelForSequenceClassification\n",
        "device = torch.device(\"cuda\" if torch.cuda.is_available() else \"cpu\")\n",
        "device"
      ],
      "metadata": {
        "colab": {
          "base_uri": "https://localhost:8080/"
        },
        "id": "fV4qLY1v9vwE",
        "outputId": "d5d2bb51-1bb9-4f42-cffa-cd3b58c8f6ae"
      },
      "execution_count": 44,
      "outputs": [
        {
          "output_type": "execute_result",
          "data": {
            "text/plain": [
              "device(type='cuda')"
            ]
          },
          "metadata": {},
          "execution_count": 44
        }
      ]
    },
    {
      "cell_type": "code",
      "source": [
        "def student_init():\n",
        "    return (AutoModelForSequenceClassification.from_pretrained(\n",
        "        pretrained_model_name_or_path=student_checkpoint,\n",
        "        config=student_config\n",
        "    ).to(device))"
      ],
      "metadata": {
        "id": "3qERSwmw-IxQ"
      },
      "execution_count": 45,
      "outputs": []
    },
    {
      "cell_type": "markdown",
      "source": [
        "We now have all the ingredients needed for our `distillation trainer`, so let's load the teacher and fine-tune."
      ],
      "metadata": {
        "id": "nS92SvHb-xl2"
      }
    },
    {
      "cell_type": "markdown",
      "source": [
        "### Fine tune Teacher Model"
      ],
      "metadata": {
        "id": "-keDUthU_EbB"
      }
    },
    {
      "cell_type": "code",
      "source": [
        "teacher_checkpoint=\"transformersbook/bert-base-uncased-finetuned-clinc\"\n",
        "\n",
        "teacher_model = (AutoModelForSequenceClassification.from_pretrained(\n",
        "    pretrained_model_name_or_path=teacher_checkpoint,\n",
        "    num_labels=num_labels\n",
        ").to(device))\n",
        "\n",
        "teacher_model"
      ],
      "metadata": {
        "colab": {
          "base_uri": "https://localhost:8080/"
        },
        "id": "d46siueW_JHC",
        "outputId": "5ab9d1f4-11f8-4540-ea00-fa8aa0ee0f68"
      },
      "execution_count": 46,
      "outputs": [
        {
          "output_type": "execute_result",
          "data": {
            "text/plain": [
              "BertForSequenceClassification(\n",
              "  (bert): BertModel(\n",
              "    (embeddings): BertEmbeddings(\n",
              "      (word_embeddings): Embedding(30522, 768, padding_idx=0)\n",
              "      (position_embeddings): Embedding(512, 768)\n",
              "      (token_type_embeddings): Embedding(2, 768)\n",
              "      (LayerNorm): LayerNorm((768,), eps=1e-12, elementwise_affine=True)\n",
              "      (dropout): Dropout(p=0.1, inplace=False)\n",
              "    )\n",
              "    (encoder): BertEncoder(\n",
              "      (layer): ModuleList(\n",
              "        (0-11): 12 x BertLayer(\n",
              "          (attention): BertAttention(\n",
              "            (self): BertSelfAttention(\n",
              "              (query): Linear(in_features=768, out_features=768, bias=True)\n",
              "              (key): Linear(in_features=768, out_features=768, bias=True)\n",
              "              (value): Linear(in_features=768, out_features=768, bias=True)\n",
              "              (dropout): Dropout(p=0.1, inplace=False)\n",
              "            )\n",
              "            (output): BertSelfOutput(\n",
              "              (dense): Linear(in_features=768, out_features=768, bias=True)\n",
              "              (LayerNorm): LayerNorm((768,), eps=1e-12, elementwise_affine=True)\n",
              "              (dropout): Dropout(p=0.1, inplace=False)\n",
              "            )\n",
              "          )\n",
              "          (intermediate): BertIntermediate(\n",
              "            (dense): Linear(in_features=768, out_features=3072, bias=True)\n",
              "            (intermediate_act_fn): GELUActivation()\n",
              "          )\n",
              "          (output): BertOutput(\n",
              "            (dense): Linear(in_features=3072, out_features=768, bias=True)\n",
              "            (LayerNorm): LayerNorm((768,), eps=1e-12, elementwise_affine=True)\n",
              "            (dropout): Dropout(p=0.1, inplace=False)\n",
              "          )\n",
              "        )\n",
              "      )\n",
              "    )\n",
              "    (pooler): BertPooler(\n",
              "      (dense): Linear(in_features=768, out_features=768, bias=True)\n",
              "      (activation): Tanh()\n",
              "    )\n",
              "  )\n",
              "  (dropout): Dropout(p=0.1, inplace=False)\n",
              "  (classifier): Linear(in_features=768, out_features=151, bias=True)\n",
              ")"
            ]
          },
          "metadata": {},
          "execution_count": 46
        }
      ]
    },
    {
      "cell_type": "code",
      "source": [
        "distilbert_trainer=DistillationTrainer(\n",
        "    model_init=student_init,\n",
        "    teacher_model=teacher_model,\n",
        "    args=student_training_args,\n",
        "    train_dataset=data_encoded['train'],\n",
        "    eval_dataset=data_encoded['validation'],\n",
        "    compute_metrics=compute_metrics,\n",
        "    tokenizer=student_tokenizer\n",
        ")\n",
        "\n",
        "distilbert_trainer"
      ],
      "metadata": {
        "colab": {
          "base_uri": "https://localhost:8080/",
          "height": 123,
          "referenced_widgets": [
            "7605ed389ba14c4ca6cc51830aae20e6",
            "ca0780bb88d44fde9ac2c963db9894d8",
            "58d81a48115841aa9dfb118d23a9eb68",
            "7381b17441f94868a55236fa7843f965",
            "0ef9cea5e3fd4985b4d612a43065aa8d",
            "188a13cfba2347828480149bd3fe1d29",
            "88d9ccd9dd5643b395b106bb55df36af",
            "9bb6fc7852a24fbe8c28e4fdc134ea6b",
            "eb0425c0c9de4435acace714f6978f17",
            "ce77b1794f68421182809de3508ce679",
            "afa0a6a2833349a79c8327bd451407a5"
          ]
        },
        "id": "0Op3tGd0A8tE",
        "outputId": "5abef906-317f-4f5a-cdda-cad5eae7e728"
      },
      "execution_count": 47,
      "outputs": [
        {
          "output_type": "display_data",
          "data": {
            "text/plain": [
              "model.safetensors:   0%|          | 0.00/268M [00:00<?, ?B/s]"
            ],
            "application/vnd.jupyter.widget-view+json": {
              "version_major": 2,
              "version_minor": 0,
              "model_id": "7605ed389ba14c4ca6cc51830aae20e6"
            }
          },
          "metadata": {}
        },
        {
          "output_type": "stream",
          "name": "stderr",
          "text": [
            "Some weights of DistilBertForSequenceClassification were not initialized from the model checkpoint at distilbert-base-uncased and are newly initialized: ['classifier.bias', 'pre_classifier.bias', 'classifier.weight', 'pre_classifier.weight']\n",
            "You should probably TRAIN this model on a down-stream task to be able to use it for predictions and inference.\n"
          ]
        },
        {
          "output_type": "execute_result",
          "data": {
            "text/plain": [
              "<__main__.DistillationTrainer at 0x7ac0592219f0>"
            ]
          },
          "metadata": {},
          "execution_count": 47
        }
      ]
    },
    {
      "cell_type": "code",
      "source": [
        "distilbert_trainer.train()"
      ],
      "metadata": {
        "colab": {
          "base_uri": "https://localhost:8080/",
          "height": 516
        },
        "id": "T6FQ7Kvc_dGk",
        "outputId": "fd0042f5-6c44-4098-eb2b-1973ef3456c2"
      },
      "execution_count": 48,
      "outputs": [
        {
          "output_type": "stream",
          "name": "stderr",
          "text": [
            "Some weights of DistilBertForSequenceClassification were not initialized from the model checkpoint at distilbert-base-uncased and are newly initialized: ['classifier.bias', 'pre_classifier.bias', 'classifier.weight', 'pre_classifier.weight']\n",
            "You should probably TRAIN this model on a down-stream task to be able to use it for predictions and inference.\n",
            "You're using a DistilBertTokenizerFast tokenizer. Please note that with a fast tokenizer, using the `__call__` method is faster than using a method to encode the text followed by a call to the `pad` method to get a padded encoding.\n"
          ]
        },
        {
          "output_type": "display_data",
          "data": {
            "text/plain": [
              "<IPython.core.display.HTML object>"
            ],
            "text/html": [
              "\n",
              "    <div>\n",
              "      \n",
              "      <progress value='3180' max='3180' style='width:300px; height:20px; vertical-align: middle;'></progress>\n",
              "      [3180/3180 06:06, Epoch 10/10]\n",
              "    </div>\n",
              "    <table border=\"1\" class=\"dataframe\">\n",
              "  <thead>\n",
              " <tr style=\"text-align: left;\">\n",
              "      <th>Epoch</th>\n",
              "      <th>Training Loss</th>\n",
              "      <th>Validation Loss</th>\n",
              "      <th>Accuracy</th>\n",
              "    </tr>\n",
              "  </thead>\n",
              "  <tbody>\n",
              "    <tr>\n",
              "      <td>1</td>\n",
              "      <td>No log</td>\n",
              "      <td>3.188742</td>\n",
              "      <td>0.736452</td>\n",
              "    </tr>\n",
              "    <tr>\n",
              "      <td>2</td>\n",
              "      <td>3.720500</td>\n",
              "      <td>1.581924</td>\n",
              "      <td>0.869677</td>\n",
              "    </tr>\n",
              "    <tr>\n",
              "      <td>3</td>\n",
              "      <td>3.720500</td>\n",
              "      <td>0.794062</td>\n",
              "      <td>0.909355</td>\n",
              "    </tr>\n",
              "    <tr>\n",
              "      <td>4</td>\n",
              "      <td>1.358500</td>\n",
              "      <td>0.480413</td>\n",
              "      <td>0.926129</td>\n",
              "    </tr>\n",
              "    <tr>\n",
              "      <td>5</td>\n",
              "      <td>0.441600</td>\n",
              "      <td>0.343733</td>\n",
              "      <td>0.937097</td>\n",
              "    </tr>\n",
              "    <tr>\n",
              "      <td>6</td>\n",
              "      <td>0.441600</td>\n",
              "      <td>0.287063</td>\n",
              "      <td>0.946452</td>\n",
              "    </tr>\n",
              "    <tr>\n",
              "      <td>7</td>\n",
              "      <td>0.181500</td>\n",
              "      <td>0.265658</td>\n",
              "      <td>0.945806</td>\n",
              "    </tr>\n",
              "    <tr>\n",
              "      <td>8</td>\n",
              "      <td>0.093100</td>\n",
              "      <td>0.258813</td>\n",
              "      <td>0.946129</td>\n",
              "    </tr>\n",
              "    <tr>\n",
              "      <td>9</td>\n",
              "      <td>0.093100</td>\n",
              "      <td>0.252438</td>\n",
              "      <td>0.945806</td>\n",
              "    </tr>\n",
              "    <tr>\n",
              "      <td>10</td>\n",
              "      <td>0.061800</td>\n",
              "      <td>0.250857</td>\n",
              "      <td>0.945484</td>\n",
              "    </tr>\n",
              "  </tbody>\n",
              "</table><p>"
            ]
          },
          "metadata": {}
        },
        {
          "output_type": "execute_result",
          "data": {
            "text/plain": [
              "TrainOutput(global_step=3180, training_loss=0.9240431071827246, metrics={'train_runtime': 367.7736, 'train_samples_per_second': 414.657, 'train_steps_per_second': 8.647, 'total_flos': 826606671183048.0, 'train_loss': 0.9240431071827246, 'epoch': 10.0})"
            ]
          },
          "metadata": {},
          "execution_count": 48
        }
      ]
    },
    {
      "cell_type": "markdown",
      "source": [
        "### Remarks\n"
      ],
      "metadata": {
        "id": "JvocHcoKIV6N"
      }
    },
    {
      "cell_type": "markdown",
      "source": [
        "The `92% accuracy` on the validation set looks quite good compared to the `94%` that the BERT-base teacher achieves. Now that we've fine-tuned DistilBERT, let's push the model to the Hub so we can reuse it later."
      ],
      "metadata": {
        "id": "X5wHQDqtIcO1"
      }
    },
    {
      "cell_type": "markdown",
      "source": [
        "### Push model to hub"
      ],
      "metadata": {
        "id": "ABqOzCdDIpqW"
      }
    },
    {
      "cell_type": "code",
      "source": [
        "distilbert_trainer.push_to_hub(\"Training completed!\")"
      ],
      "metadata": {
        "colab": {
          "base_uri": "https://localhost:8080/",
          "height": 67,
          "referenced_widgets": [
            "ef30c98e80a44aa6a579534e2b56178a",
            "60891b2240e146708e368fc64466e981",
            "3c2f7fcd154645d19b43fac2e04fee98",
            "68cb63bee2f44a5cbefea0ceec488b14",
            "16245d94e01449c48bcb0ff121f64a30",
            "a2baa71a1298469e8524475e71d811e0",
            "9512c4922bcc4ca98cf7a1d8f7cd4878",
            "673aaf03aefb447bb5adb2ab5274304f",
            "9537810949ec4c6fb2fdba183d321682",
            "888d174dd97f45cbbec4ab2b17d02643",
            "7031845e2cdf469f8be36eaf6ca48660"
          ]
        },
        "id": "9rzhKiXdIHPb",
        "outputId": "df8dc1b4-50a9-4524-bed2-0042ff408ea9"
      },
      "execution_count": 49,
      "outputs": [
        {
          "output_type": "display_data",
          "data": {
            "text/plain": [
              "events.out.tfevents.1704010222.f163238f0314.23342.0:   0%|          | 0.00/16.4k [00:00<?, ?B/s]"
            ],
            "application/vnd.jupyter.widget-view+json": {
              "version_major": 2,
              "version_minor": 0,
              "model_id": "ef30c98e80a44aa6a579534e2b56178a"
            }
          },
          "metadata": {}
        },
        {
          "output_type": "execute_result",
          "data": {
            "text/plain": [
              "'https://huggingface.co/iamsubrata/distilbert-base-uncased-finetuned-clinc/tree/main/'"
            ],
            "application/vnd.google.colaboratory.intrinsic+json": {
              "type": "string"
            }
          },
          "metadata": {},
          "execution_count": 49
        }
      ]
    },
    {
      "cell_type": "markdown",
      "source": [
        "With our model now safely stored on the Hub, we can immediately use it in a pipeline for our performance benchmark."
      ],
      "metadata": {
        "id": "ibZUasZVI4wx"
      }
    },
    {
      "cell_type": "code",
      "source": [
        "finetuned_checkpointt = \"iamsubrata/distilbert-base-uncased-finetuned-clinc/tree/main/\"\n",
        "pipe = pipeline(\"text-classification\", model=finetuned_checkpoint)"
      ],
      "metadata": {
        "id": "s8otOsgEJBK3"
      },
      "execution_count": 50,
      "outputs": []
    },
    {
      "cell_type": "markdown",
      "source": [
        "We can then pass this pipeline to our PerformanceBenchmark class to compute the metrics associated with this model."
      ],
      "metadata": {
        "id": "b7Oj5M8XT4in"
      }
    },
    {
      "cell_type": "code",
      "source": [
        "optim_type = \"DistilBERT\"\n",
        "pb = PerformanceBenchmark(\n",
        "    pipeline=pipe,\n",
        "    dataset=data,\n",
        "    optim_type=optim_type\n",
        ")\n",
        "\n",
        "performance_metrics.update(pb.runBenchmark())"
      ],
      "metadata": {
        "colab": {
          "base_uri": "https://localhost:8080/"
        },
        "id": "6lOsbEV7T3Kd",
        "outputId": "7c03185e-6d2d-43d4-b1cf-a13bdde951c0"
      },
      "execution_count": 51,
      "outputs": [
        {
          "output_type": "stream",
          "name": "stdout",
          "text": [
            "Model Size ---> 255.88 mb\n",
            "Latency: 41.43 ms +\\- 6.71 ms\n",
            "Accuracy on test set ---> 0.8865\n"
          ]
        }
      ]
    },
    {
      "cell_type": "markdown",
      "source": [
        "* **Model Size:** ---> 255.88 mb\n",
        "* **Latency:** 70.48 ms +\\- 9.45 ms\n",
        "* **Accuracy** on test set ---> 0.8865"
      ],
      "metadata": {
        "id": "EYXsYILnjc0G"
      }
    },
    {
      "cell_type": "code",
      "source": [
        "import pandas as pd\n",
        "import matplotlib.pyplot as plt\n",
        "def plot_metrics(perf_metrics, current_optim_type):\n",
        "    df = pd.DataFrame.from_dict(perf_metrics, orient='index')\n",
        "    for idx in df.index:\n",
        "        df_opt = df.loc[idx]\n",
        "        # Add a dashed circle around the current optimization type\n",
        "        if idx == current_optim_type:\n",
        "            plt.scatter(df_opt[\"avg_time_in_ms\"], df_opt[\"accuracy\"] * 100,\n",
        "            alpha=0.5, s=df_opt[\"size_mb\"], label=idx,\n",
        "            marker='$\\u25CC$')\n",
        "        else:\n",
        "            plt.scatter(df_opt[\"avg_time_in_ms\"], df_opt[\"accuracy\"] * 100,\n",
        "            s=df_opt[\"size_mb\"], label=idx, alpha=0.5)\n",
        "    legend = plt.legend(bbox_to_anchor=(1,1))\n",
        "    for handle in legend.legendHandles:\n",
        "        handle.set_sizes([20])\n",
        "    plt.ylim(80,90)\n",
        "    # Use the slowest model to define the x-axis range\n",
        "    xlim = int(perf_metrics[\"BERT baseline\"][\"avg_time_in_ms\"] + 3)\n",
        "    plt.xlim(1, xlim)\n",
        "    plt.ylabel(\"Accuracy (%)\")\n",
        "    plt.xlabel(\"Average latency (ms)\")\n",
        "    plt.show()\n",
        "plot_metrics(performance_metrics, optim_type)"
      ],
      "metadata": {
        "colab": {
          "base_uri": "https://localhost:8080/",
          "height": 511
        },
        "id": "yGyqnkGnUNXw",
        "outputId": "566afd09-2c76-4709-a147-3a9ae1715971"
      },
      "execution_count": 52,
      "outputs": [
        {
          "output_type": "stream",
          "name": "stderr",
          "text": [
            "<ipython-input-52-93ea36632b9d>:16: MatplotlibDeprecationWarning: The legendHandles attribute was deprecated in Matplotlib 3.7 and will be removed two minor releases later. Use legend_handles instead.\n",
            "  for handle in legend.legendHandles:\n"
          ]
        },
        {
          "output_type": "display_data",
          "data": {
            "text/plain": [
              "<Figure size 640x480 with 1 Axes>"
            ],
            "image/png": "[encoded data removed]"
          },
          "metadata": {}
        }
      ]
    },
    {
      "cell_type": "markdown",
      "source": [
        "### Finding Good Hyperparameters with Optuna"
      ],
      "metadata": {
        "id": "s7PkETV6mL_R"
      }
    },
    {
      "cell_type": "markdown",
      "source": [
        "To find good values for `α` and `T`, we could do a grid search over the 2D parameter space. But a much better alternative is to use `Optuna`, which is an optimization framework designed for just this type of task.\n",
        "\n",
        "In Optuna, we can find the minimum of $f(x,y)$ by defining an `objective()` function that returns the value of $f(x,y)$:"
      ],
      "metadata": {
        "id": "tPMHU65MmUo-"
      }
    },
    {
      "cell_type": "code",
      "source": [
        "def objective(trial):\n",
        "    x = trial.suggest_float(\"x\", -2, 2)\n",
        "    y = trial.suggest_float(\"y\", -2, 2)\n",
        "    return (1 - x) ** 2 + 100 * (y - x ** 2) ** 2"
      ],
      "metadata": {
        "id": "EjGcx792kRV2"
      },
      "execution_count": 53,
      "outputs": []
    },
    {
      "cell_type": "markdown",
      "source": [
        "The `trial.suggest_float` object specifies the parameter ranges to sample uniformly from; Optuna also provides `suggest_int` and `suggest_categorical` for integer and categorical parameters, respectively. Optuna collects multiple trials as a study, so to create one we just pass the `objective()` function to `study.optimize()` as follows:"
      ],
      "metadata": {
        "id": "ipTgJsYPnSO3"
      }
    },
    {
      "cell_type": "code",
      "source": [
        "! pip install optuna -Uqq"
      ],
      "metadata": {
        "id": "rC8omx5Rnsf_"
      },
      "execution_count": 54,
      "outputs": []
    },
    {
      "cell_type": "code",
      "source": [
        "import optuna\n",
        "\n",
        "study = optuna.create_study()\n",
        "study.optimize(objective, n_trials=1000)"
      ],
      "metadata": {
        "colab": {
          "base_uri": "https://localhost:8080/"
        },
        "id": "Lc3MB47WngaM",
        "outputId": "18507dde-edf4-4363-d5f2-f727d6c38646"
      },
      "execution_count": 55,
      "outputs": [
        {
          "output_type": "stream",
          "name": "stderr",
          "text": [
            "[I 2023-12-31 08:20:36,837] A new study created in memory with name: no-name-db4daf0a-34ca-49da-bc69-d7bb4ac9f6e2\n",
            "[I 2023-12-31 08:20:36,841] Trial 0 finished with value: 21.041735438741895 and parameters: {'x': 1.1299043392551016, 'y': 1.7352125532590108}. Best is trial 0 with value: 21.041735438741895.\n",
            "[I 2023-12-31 08:20:36,843] Trial 1 finished with value: 332.9756780893725 and parameters: {'x': 0.07976400068796341, 'y': 1.828802538433591}. Best is trial 0 with value: 21.041735438741895.\n",
            "[I 2023-12-31 08:20:36,845] Trial 2 finished with value: 1055.5790580336313 and parameters: {'x': -1.8693432301296928, 'y': 0.25817167686600273}. Best is trial 0 with value: 21.041735438741895.\n",
            "[I 2023-12-31 08:20:36,850] Trial 3 finished with value: 1749.627793807751 and parameters: {'x': 1.6159944612724302, 'y': -1.5709635373160133}. Best is trial 0 with value: 21.041735438741895.\n",
            "[I 2023-12-31 08:20:36,853] Trial 4 finished with value: 276.042145444279 and parameters: {'x': -0.7737762395605698, 'y': -1.0532263332182232}. Best is trial 0 with value: 21.041735438741895.\n",
            "[I 2023-12-31 08:20:36,857] Trial 5 finished with value: 78.42833308889041 and parameters: {'x': 0.06000717491607821, 'y': 0.8841958109342705}. Best is trial 0 with value: 21.041735438741895.\n",
            "[I 2023-12-31 08:20:36,860] Trial 6 finished with value: 363.6798138093676 and parameters: {'x': 0.32806836109056947, 'y': -1.7982261336072018}. Best is trial 0 with value: 21.041735438741895.\n",
            "[I 2023-12-31 08:20:36,862] Trial 7 finished with value: 54.38524460726839 and parameters: {'x': 1.5983484617448407, 'y': 1.819685671676793}. Best is trial 0 with value: 21.041735438741895.\n",
            "[I 2023-12-31 08:20:36,867] Trial 8 finished with value: 82.17726201460445 and parameters: {'x': -0.9387996833247683, 'y': 1.766886023462526}. Best is trial 0 with value: 21.041735438741895.\n",
            "[I 2023-12-31 08:20:36,869] Trial 9 finished with value: 2.6105989219083425 and parameters: {'x': -0.6157173587678266, 'y': 0.37985845555396214}. Best is trial 9 with value: 2.6105989219083425.\n",
            "[I 2023-12-31 08:20:36,891] Trial 10 finished with value: 239.8178675599763 and parameters: {'x': -0.9919551737835217, 'y': -0.5517657386319377}. Best is trial 9 with value: 2.6105989219083425.\n",
            "[I 2023-12-31 08:20:36,909] Trial 11 finished with value: 9.48664357375177 and parameters: {'x': 0.7157045153186379, 'y': 0.8189220409428519}. Best is trial 9 with value: 2.6105989219083425.\n",
            "[I 2023-12-31 08:20:36,925] Trial 12 finished with value: 1.87042329184372 and parameters: {'x': 0.747307393655251, 'y': 0.42405964526278983}. Best is trial 12 with value: 1.87042329184372.\n",
            "[I 2023-12-31 08:20:36,939] Trial 13 finished with value: 9.298565582943144 and parameters: {'x': -0.5241142725198844, 'y': 0.010581377502515421}. Best is trial 12 with value: 1.87042329184372.\n",
            "[I 2023-12-31 08:20:36,954] Trial 14 finished with value: 654.2470684605079 and parameters: {'x': -1.8002154043330107, 'y': 0.6983242003013235}. Best is trial 12 with value: 1.87042329184372.\n",
            "[I 2023-12-31 08:20:36,969] Trial 15 finished with value: 163.2917239077822 and parameters: {'x': 0.8183189293111068, 'y': -0.6080814713320015}. Best is trial 12 with value: 1.87042329184372.\n",
            "[I 2023-12-31 08:20:36,985] Trial 16 finished with value: 105.92798437042157 and parameters: {'x': -0.4450162314814834, 'y': 1.2170581529855267}. Best is trial 12 with value: 1.87042329184372.\n",
            "[I 2023-12-31 08:20:37,001] Trial 17 finished with value: 0.5160493090214315 and parameters: {'x': 0.6272317311452769, 'y': 0.3320117357198725}. Best is trial 17 with value: 0.5160493090214315.\n",
            "[I 2023-12-31 08:20:37,017] Trial 18 finished with value: 1748.468044326776 and parameters: {'x': 1.9760069268238476, 'y': -0.27572610355322325}. Best is trial 17 with value: 0.5160493090214315.\n",
            "[I 2023-12-31 08:20:37,033] Trial 19 finished with value: 97.62628464684958 and parameters: {'x': 0.5569432773310278, 'y': 1.2972521006280453}. Best is trial 17 with value: 0.5160493090214315.\n",
            "[I 2023-12-31 08:20:37,049] Trial 20 finished with value: 519.2915800869534 and parameters: {'x': 1.1458896177041589, 'y': -0.9656872913475041}. Best is trial 17 with value: 0.5160493090214315.\n",
            "[I 2023-12-31 08:20:37,064] Trial 21 finished with value: 7.719663290436082 and parameters: {'x': -0.20520717142940254, 'y': 0.2924525278198557}. Best is trial 17 with value: 0.5160493090214315.\n",
            "[I 2023-12-31 08:20:37,080] Trial 22 finished with value: 175.02990058322524 and parameters: {'x': -1.3207847064332086, 'y': 0.4419982144056387}. Best is trial 17 with value: 0.5160493090214315.\n",
            "[I 2023-12-31 08:20:37,096] Trial 23 finished with value: 5.639648367320452 and parameters: {'x': 0.36809635688561315, 'y': -0.09342309565291684}. Best is trial 17 with value: 0.5160493090214315.\n",
            "[I 2023-12-31 08:20:37,110] Trial 24 finished with value: 14.613215557589397 and parameters: {'x': 1.2721328531246505, 'y': 1.2370195010185083}. Best is trial 17 with value: 0.5160493090214315.\n",
            "[I 2023-12-31 08:20:37,125] Trial 25 finished with value: 26.420091322027993 and parameters: {'x': -0.17649266938202945, 'y': 0.5315090963619656}. Best is trial 17 with value: 0.5160493090214315.\n",
            "[I 2023-12-31 08:20:37,140] Trial 26 finished with value: 53.24384839051066 and parameters: {'x': 0.939587908807942, 'y': 0.1531666224253894}. Best is trial 17 with value: 0.5160493090214315.\n",
            "[I 2023-12-31 08:20:37,155] Trial 27 finished with value: 442.9716541401877 and parameters: {'x': -1.3398734220754367, 'y': -0.2963812627585647}. Best is trial 17 with value: 0.5160493090214315.\n",
            "[I 2023-12-31 08:20:37,171] Trial 28 finished with value: 99.5212877617753 and parameters: {'x': 0.3108658205306404, 'y': 1.0918580457259228}. Best is trial 17 with value: 0.5160493090214315.\n",
            "[I 2023-12-31 08:20:37,188] Trial 29 finished with value: 21.805667460376196 and parameters: {'x': 1.0364980932275234, 'y': 0.6073771718821277}. Best is trial 17 with value: 0.5160493090214315.\n",
            "[I 2023-12-31 08:20:37,205] Trial 30 finished with value: 71.03488892299036 and parameters: {'x': 1.4972688722115235, 'y': 1.4004603296882394}. Best is trial 17 with value: 0.5160493090214315.\n",
            "[I 2023-12-31 08:20:37,222] Trial 31 finished with value: 7.187607975569113 and parameters: {'x': 0.4035971857481029, 'y': -0.09848856979888666}. Best is trial 17 with value: 0.5160493090214315.\n",
            "[I 2023-12-31 08:20:37,239] Trial 32 finished with value: 1.5593162644528502 and parameters: {'x': 0.10165031513057554, 'y': -0.0764015266062005}. Best is trial 17 with value: 0.5160493090214315.\n",
            "[I 2023-12-31 08:20:37,257] Trial 33 finished with value: 10.825424231271397 and parameters: {'x': -0.11534084197687877, 'y': 0.3228425063613237}. Best is trial 17 with value: 0.5160493090214315.\n",
            "[I 2023-12-31 08:20:37,274] Trial 34 finished with value: 63.58794317120486 and parameters: {'x': -0.43813682201961157, 'y': -0.5923811108464603}. Best is trial 17 with value: 0.5160493090214315.\n",
            "[I 2023-12-31 08:20:37,290] Trial 35 finished with value: 38.105798143496926 and parameters: {'x': 0.5870432840039568, 'y': 0.9605359227355544}. Best is trial 17 with value: 0.5160493090214315.\n",
            "[I 2023-12-31 08:20:37,305] Trial 36 finished with value: 10.20171900102556 and parameters: {'x': 0.028516079331543098, 'y': -0.30345543154853694}. Best is trial 17 with value: 0.5160493090214315.\n",
            "[I 2023-12-31 08:20:37,320] Trial 37 finished with value: 0.7969478724908914 and parameters: {'x': 0.2447313350599869, 'y': 0.10748724069053461}. Best is trial 17 with value: 0.5160493090214315.\n",
            "[I 2023-12-31 08:20:37,335] Trial 38 finished with value: 101.315102219681 and parameters: {'x': 0.1804486678333497, 'y': -0.9706503088750129}. Best is trial 17 with value: 0.5160493090214315.\n",
            "[I 2023-12-31 08:20:37,355] Trial 39 finished with value: 250.80169666764934 and parameters: {'x': 1.305108507204777, 'y': 0.11993016385948685}. Best is trial 17 with value: 0.5160493090214315.\n",
            "[I 2023-12-31 08:20:37,372] Trial 40 finished with value: 292.6072555417243 and parameters: {'x': 0.5974813130197063, 'y': -1.353119101606935}. Best is trial 17 with value: 0.5160493090214315.\n",
            "[I 2023-12-31 08:20:37,389] Trial 41 finished with value: 17.433957351801677 and parameters: {'x': 0.13389573756506545, 'y': 0.42638639882887924}. Best is trial 17 with value: 0.5160493090214315.\n",
            "[I 2023-12-31 08:20:37,407] Trial 42 finished with value: 0.1731893928818638 and parameters: {'x': 0.8319799741439231, 'y': 0.7302641148090936}. Best is trial 42 with value: 0.1731893928818638.\n",
            "[I 2023-12-31 08:20:37,425] Trial 43 finished with value: 0.033272071223779856 and parameters: {'x': 0.8980360720441618, 'y': 0.8215934118513651}. Best is trial 43 with value: 0.033272071223779856.\n",
            "[I 2023-12-31 08:20:37,443] Trial 44 finished with value: 29.62604876607494 and parameters: {'x': 0.4853903569802146, 'y': 0.7774637960784762}. Best is trial 43 with value: 0.033272071223779856.\n",
            "[I 2023-12-31 08:20:37,460] Trial 45 finished with value: 47.05897525523705 and parameters: {'x': 0.9023807895653665, 'y': 1.500217074778765}. Best is trial 43 with value: 0.033272071223779856.\n",
            "[I 2023-12-31 08:20:37,478] Trial 46 finished with value: 21.4107361893488 and parameters: {'x': 0.728176323303558, 'y': 0.9921590198331581}. Best is trial 43 with value: 0.033272071223779856.\n",
            "[I 2023-12-31 08:20:37,496] Trial 47 finished with value: 323.50885046686125 and parameters: {'x': 1.8409609761208292, 'y': 1.5924691906988242}. Best is trial 43 with value: 0.033272071223779856.\n",
            "[I 2023-12-31 08:20:37,514] Trial 48 finished with value: 0.7451428407003492 and parameters: {'x': 0.24898463079676425, 'y': 0.10455139566110591}. Best is trial 43 with value: 0.033272071223779856.\n",
            "[I 2023-12-31 08:20:37,529] Trial 49 finished with value: 50.397602286423826 and parameters: {'x': 1.1772183684526356, 'y': 0.6761516333869269}. Best is trial 43 with value: 0.033272071223779856.\n",
            "[I 2023-12-31 08:20:37,545] Trial 50 finished with value: 78.64576377112802 and parameters: {'x': 1.0010086117939216, 'y': 0.11519377824470456}. Best is trial 43 with value: 0.033272071223779856.\n",
            "[I 2023-12-31 08:20:37,563] Trial 51 finished with value: 2.119292890837003 and parameters: {'x': 0.1795634669740897, 'y': -0.08801405201787658}. Best is trial 43 with value: 0.033272071223779856.\n",
            "[I 2023-12-31 08:20:37,580] Trial 52 finished with value: 27.84717043639097 and parameters: {'x': 0.3044935373140867, 'y': -0.43038445228618527}. Best is trial 43 with value: 0.033272071223779856.\n",
            "[I 2023-12-31 08:20:37,596] Trial 53 finished with value: 17.080479403970017 and parameters: {'x': 0.6454703823251159, 'y': 0.8283939378340938}. Best is trial 43 with value: 0.033272071223779856.\n",
            "[I 2023-12-31 08:20:37,612] Trial 54 finished with value: 3.5697600241985894 and parameters: {'x': -0.28253942744206373, 'y': 0.21856758677222599}. Best is trial 43 with value: 0.033272071223779856.\n",
            "[I 2023-12-31 08:20:37,628] Trial 55 finished with value: 50.96075857510563 and parameters: {'x': 0.8393675011229249, 'y': -0.009149494957026244}. Best is trial 43 with value: 0.033272071223779856.\n",
            "[I 2023-12-31 08:20:37,645] Trial 56 finished with value: 27.09249690485355 and parameters: {'x': -0.10081912592223752, 'y': 0.518895212315564}. Best is trial 43 with value: 0.033272071223779856.\n",
            "[I 2023-12-31 08:20:37,664] Trial 57 finished with value: 103.3913274585798 and parameters: {'x': 0.4986644024672534, 'y': -0.7669124176478137}. Best is trial 43 with value: 0.033272071223779856.\n",
            "[I 2023-12-31 08:20:37,690] Trial 58 finished with value: 455.4460483101997 and parameters: {'x': 1.394481079713638, 'y': -0.18917609591100326}. Best is trial 43 with value: 0.033272071223779856.\n",
            "[I 2023-12-31 08:20:37,707] Trial 59 finished with value: 101.90223987376923 and parameters: {'x': 0.25070977602793143, 'y': 1.0695370894245215}. Best is trial 43 with value: 0.033272071223779856.\n",
            "[I 2023-12-31 08:20:37,723] Trial 60 finished with value: 12.151823821278146 and parameters: {'x': -0.7611519319953002, 'y': 0.27851729729953834}. Best is trial 43 with value: 0.033272071223779856.\n",
            "[I 2023-12-31 08:20:37,739] Trial 61 finished with value: 0.2647405955702748 and parameters: {'x': 0.7096089152583883, 'y': 0.5460199363306473}. Best is trial 43 with value: 0.033272071223779856.\n",
            "[I 2023-12-31 08:20:37,755] Trial 62 finished with value: 48.873485214682546 and parameters: {'x': 0.015482050566870242, 'y': 0.6923683641666519}. Best is trial 43 with value: 0.033272071223779856.\n",
            "[I 2023-12-31 08:20:37,771] Trial 63 finished with value: 0.06260526143097934 and parameters: {'x': 0.7538724380386754, 'y': 0.5728253021698465}. Best is trial 43 with value: 0.033272071223779856.\n",
            "[I 2023-12-31 08:20:37,787] Trial 64 finished with value: 198.08833216799124 and parameters: {'x': 0.7607575981939819, 'y': 1.9859873389473495}. Best is trial 43 with value: 0.033272071223779856.\n",
            "[I 2023-12-31 08:20:37,805] Trial 65 finished with value: 24.81245993442495 and parameters: {'x': 1.0245152713610162, 'y': 0.5515165049812469}. Best is trial 43 with value: 0.033272071223779856.\n",
            "[I 2023-12-31 08:20:37,819] Trial 66 finished with value: 19.84871772148165 and parameters: {'x': 1.1637573323205657, 'y': 0.9091131902390589}. Best is trial 43 with value: 0.033272071223779856.\n",
            "[I 2023-12-31 08:20:37,836] Trial 67 finished with value: 0.29356174869677204 and parameters: {'x': 0.665955001352847, 'y': 0.40083745536672544}. Best is trial 43 with value: 0.033272071223779856.\n",
            "[I 2023-12-31 08:20:37,852] Trial 68 finished with value: 5.145023702814158 and parameters: {'x': 0.425541242361387, 'y': 0.40051690635702397}. Best is trial 43 with value: 0.033272071223779856.\n",
            "[I 2023-12-31 08:20:37,869] Trial 69 finished with value: 0.44227150872916143 and parameters: {'x': 0.8505411156203344, 'y': 0.7882224694601632}. Best is trial 43 with value: 0.033272071223779856.\n",
            "[I 2023-12-31 08:20:37,883] Trial 70 finished with value: 0.3477866622915861 and parameters: {'x': 0.8528468436444236, 'y': 0.7844557601180988}. Best is trial 43 with value: 0.033272071223779856.\n",
            "[I 2023-12-31 08:20:37,901] Trial 71 finished with value: 11.414066631019605 and parameters: {'x': 0.8735100463069537, 'y': 1.10063003370302}. Best is trial 43 with value: 0.033272071223779856.\n",
            "[I 2023-12-31 08:20:37,918] Trial 72 finished with value: 20.17356833464422 and parameters: {'x': 1.0934784927354901, 'y': 0.7466425433777533}. Best is trial 43 with value: 0.033272071223779856.\n",
            "[I 2023-12-31 08:20:37,934] Trial 73 finished with value: 0.07384307420404106 and parameters: {'x': 0.7671641226115873, 'y': 0.6025516897818756}. Best is trial 43 with value: 0.033272071223779856.\n",
            "[I 2023-12-31 08:20:37,950] Trial 74 finished with value: 1.52712955832169 and parameters: {'x': 0.7015622414889607, 'y': 0.6121089041738046}. Best is trial 43 with value: 0.033272071223779856.\n",
            "[I 2023-12-31 08:20:37,967] Trial 75 finished with value: 349.73163741536837 and parameters: {'x': 1.6475292104357289, 'y': 0.8453625491937631}. Best is trial 43 with value: 0.033272071223779856.\n",
            "[I 2023-12-31 08:20:37,984] Trial 76 finished with value: 15.03181886901129 and parameters: {'x': 1.2672439152532526, 'y': 1.2191203834915536}. Best is trial 43 with value: 0.033272071223779856.\n",
            "[I 2023-12-31 08:20:38,002] Trial 77 finished with value: 16.096075906744026 and parameters: {'x': 0.9357905350078213, 'y': 0.4745561589780847}. Best is trial 43 with value: 0.033272071223779856.\n",
            "[I 2023-12-31 08:20:38,022] Trial 78 finished with value: 0.14661219031451955 and parameters: {'x': 0.7746199315965931, 'y': 0.6309902005185837}. Best is trial 43 with value: 0.033272071223779856.\n",
            "[I 2023-12-31 08:20:38,040] Trial 79 finished with value: 10.521514698607595 and parameters: {'x': 0.5322711300418567, 'y': 0.6042914399605691}. Best is trial 43 with value: 0.033272071223779856.\n",
            "[I 2023-12-31 08:20:38,059] Trial 80 finished with value: 13.747553181034759 and parameters: {'x': 0.7848317758417682, 'y': 0.9861129907450763}. Best is trial 43 with value: 0.033272071223779856.\n",
            "[I 2023-12-31 08:20:38,076] Trial 81 finished with value: 0.2602871082881542 and parameters: {'x': 0.8280753843011401, 'y': 0.7337431043162005}. Best is trial 43 with value: 0.033272071223779856.\n",
            "[I 2023-12-31 08:20:38,092] Trial 82 finished with value: 8.20566703217926 and parameters: {'x': 0.9778199063949287, 'y': 0.6696850015889633}. Best is trial 43 with value: 0.033272071223779856.\n",
            "[I 2023-12-31 08:20:38,108] Trial 83 finished with value: 0.6499780576164802 and parameters: {'x': 0.6654515662996079, 'y': 0.3694735271986871}. Best is trial 43 with value: 0.033272071223779856.\n",
            "[I 2023-12-31 08:20:38,125] Trial 84 finished with value: 0.18474413273644055 and parameters: {'x': 1.0611418260074816, 'y': 1.0834771973323944}. Best is trial 43 with value: 0.033272071223779856.\n",
            "[I 2023-12-31 08:20:38,142] Trial 85 finished with value: 77.44408436785821 and parameters: {'x': 1.412782225419853, 'y': 1.1168990379392112}. Best is trial 43 with value: 0.033272071223779856.\n",
            "[I 2023-12-31 08:20:38,160] Trial 86 finished with value: 6.265619599284242 and parameters: {'x': 1.0769810858508078, 'y': 0.9096944641593734}. Best is trial 43 with value: 0.033272071223779856.\n",
            "[I 2023-12-31 08:20:38,179] Trial 87 finished with value: 78.20986072802692 and parameters: {'x': 1.1796077533722698, 'y': 0.5072934647835929}. Best is trial 43 with value: 0.033272071223779856.\n",
            "[I 2023-12-31 08:20:38,195] Trial 88 finished with value: 132.89278542890088 and parameters: {'x': 0.42197583349351764, 'y': 1.3294048805289695}. Best is trial 43 with value: 0.033272071223779856.\n",
            "[I 2023-12-31 08:20:38,211] Trial 89 finished with value: 1.3778915883008969 and parameters: {'x': 0.5847734483048728, 'y': 0.23216570096978506}. Best is trial 43 with value: 0.033272071223779856.\n",
            "[I 2023-12-31 08:20:38,227] Trial 90 finished with value: 658.4580567201921 and parameters: {'x': 0.7591433485372269, 'y': -1.9896320940521899}. Best is trial 43 with value: 0.033272071223779856.\n",
            "[I 2023-12-31 08:20:38,244] Trial 91 finished with value: 1.786960095720209 and parameters: {'x': 0.9270208935659172, 'y': 0.7258898683150453}. Best is trial 43 with value: 0.033272071223779856.\n",
            "[I 2023-12-31 08:20:38,261] Trial 92 finished with value: 0.5352159881184644 and parameters: {'x': 0.8264101640512576, 'y': 0.6118845987784441}. Best is trial 43 with value: 0.033272071223779856.\n",
            "[I 2023-12-31 08:20:38,278] Trial 93 finished with value: 27.559655777921254 and parameters: {'x': 0.7006102981822027, 'y': 1.0149733030852683}. Best is trial 43 with value: 0.033272071223779856.\n",
            "[I 2023-12-31 08:20:38,296] Trial 94 finished with value: 45.18441390125069 and parameters: {'x': 1.264144718940184, 'y': 0.9263875336456862}. Best is trial 43 with value: 0.033272071223779856.\n",
            "[I 2023-12-31 08:20:38,311] Trial 95 finished with value: 7.701935023551377 and parameters: {'x': 1.0418231174927526, 'y': 0.807903320860634}. Best is trial 43 with value: 0.033272071223779856.\n",
            "[I 2023-12-31 08:20:38,327] Trial 96 finished with value: 0.4279996844547455 and parameters: {'x': 0.6396384329759655, 'y': 0.4637394517727679}. Best is trial 43 with value: 0.033272071223779856.\n",
            "[I 2023-12-31 08:20:38,344] Trial 97 finished with value: 84.51507124989396 and parameters: {'x': 0.48910563849715055, 'y': 1.1571244193087884}. Best is trial 43 with value: 0.033272071223779856.\n",
            "[I 2023-12-31 08:20:38,360] Trial 98 finished with value: 0.4714933657115525 and parameters: {'x': 0.8931640306060729, 'y': 0.8655711416413143}. Best is trial 43 with value: 0.033272071223779856.\n",
            "[I 2023-12-31 08:20:38,377] Trial 99 finished with value: 39.0777816858061 and parameters: {'x': 0.9938234656927578, 'y': 0.36256314456651134}. Best is trial 43 with value: 0.033272071223779856.\n",
            "[I 2023-12-31 08:20:38,396] Trial 100 finished with value: 49.98421059357808 and parameters: {'x': 1.134902032361977, 'y': 0.5811362139321141}. Best is trial 43 with value: 0.033272071223779856.\n",
            "[I 2023-12-31 08:20:38,413] Trial 101 finished with value: 0.8917104041042669 and parameters: {'x': 0.6104782007689918, 'y': 0.45870590817301227}. Best is trial 43 with value: 0.033272071223779856.\n",
            "[I 2023-12-31 08:20:38,430] Trial 102 finished with value: 1.694429023299232 and parameters: {'x': 0.787057559801775, 'y': 0.7478762890695243}. Best is trial 43 with value: 0.033272071223779856.\n",
            "[I 2023-12-31 08:20:38,447] Trial 103 finished with value: 5.215051219547582 and parameters: {'x': 0.6457726392567372, 'y': 0.6426231481635158}. Best is trial 43 with value: 0.033272071223779856.\n",
            "[I 2023-12-31 08:20:38,464] Trial 104 finished with value: 0.657107959272751 and parameters: {'x': 0.3734420452584435, 'y': 0.19089174143609178}. Best is trial 43 with value: 0.033272071223779856.\n",
            "[I 2023-12-31 08:20:38,480] Trial 105 finished with value: 4.993194240686581 and parameters: {'x': 0.7185704957693255, 'y': 0.29466830674556443}. Best is trial 43 with value: 0.033272071223779856.\n",
            "[I 2023-12-31 08:20:38,492] Trial 106 finished with value: 4.047792061766974 and parameters: {'x': 0.8659707792923208, 'y': 0.549161069877364}. Best is trial 43 with value: 0.033272071223779856.\n",
            "[I 2023-12-31 08:20:38,504] Trial 107 finished with value: 3.7635006114755405 and parameters: {'x': 0.5212399398915111, 'y': 0.4596881338597939}. Best is trial 43 with value: 0.033272071223779856.\n",
            "[I 2023-12-31 08:20:38,516] Trial 108 finished with value: 1.5872428923478958 and parameters: {'x': 0.9565584280613425, 'y': 1.0409149361551107}. Best is trial 43 with value: 0.033272071223779856.\n",
            "[I 2023-12-31 08:20:38,528] Trial 109 finished with value: 142.376728594244 and parameters: {'x': 1.3670441703975114, 'y': 0.6761572277821932}. Best is trial 43 with value: 0.033272071223779856.\n",
            "[I 2023-12-31 08:20:38,540] Trial 110 finished with value: 12.056111983268254 and parameters: {'x': 1.0821400892764612, 'y': 0.8239052203443208}. Best is trial 43 with value: 0.033272071223779856.\n",
            "[I 2023-12-31 08:20:38,551] Trial 111 finished with value: 0.4103452392241681 and parameters: {'x': 0.8086205766769394, 'y': 0.7149998106299884}. Best is trial 43 with value: 0.033272071223779856.\n",
            "[I 2023-12-31 08:20:38,565] Trial 112 finished with value: 0.8799106887549881 and parameters: {'x': 0.7991337585674455, 'y': 0.7302424586841327}. Best is trial 43 with value: 0.033272071223779856.\n",
            "[I 2023-12-31 08:20:38,578] Trial 113 finished with value: 23.11153916979108 and parameters: {'x': 0.6759570859723933, 'y': 0.9365692654026201}. Best is trial 43 with value: 0.033272071223779856.\n",
            "[I 2023-12-31 08:20:38,589] Trial 114 finished with value: 89.62256410118718 and parameters: {'x': 1.2143156378962412, 'y': 0.5281131411716969}. Best is trial 43 with value: 0.033272071223779856.\n",
            "[I 2023-12-31 08:20:38,602] Trial 115 finished with value: 0.21387096130348893 and parameters: {'x': 0.5719244361741753, 'y': 0.3445967815211427}. Best is trial 43 with value: 0.033272071223779856.\n",
            "[I 2023-12-31 08:20:38,617] Trial 116 finished with value: 581.7020529062743 and parameters: {'x': -1.6427420254201106, 'y': 0.3012737509832246}. Best is trial 43 with value: 0.033272071223779856.\n",
            "[I 2023-12-31 08:20:38,632] Trial 117 finished with value: 16.734173888735185 and parameters: {'x': 0.8925255386643612, 'y': 0.3876687970637923}. Best is trial 43 with value: 0.033272071223779856.\n",
            "[I 2023-12-31 08:20:38,646] Trial 118 finished with value: 35.293010661288896 and parameters: {'x': 0.44652325102148743, 'y': 0.7908783572992554}. Best is trial 43 with value: 0.033272071223779856.\n",
            "[I 2023-12-31 08:20:38,658] Trial 119 finished with value: 6.377038517689986 and parameters: {'x': 0.5433554984257152, 'y': 0.04687025817774976}. Best is trial 43 with value: 0.033272071223779856.\n",
            "[I 2023-12-31 08:20:38,670] Trial 120 finished with value: 34.011980459682995 and parameters: {'x': 0.7598168544770701, 'y': 1.1600247715795962}. Best is trial 43 with value: 0.033272071223779856.\n",
            "[I 2023-12-31 08:20:38,684] Trial 121 finished with value: 6.130134192615391 and parameters: {'x': 0.6534176481079708, 'y': 0.6721079394992205}. Best is trial 43 with value: 0.033272071223779856.\n",
            "[I 2023-12-31 08:20:38,702] Trial 122 finished with value: 28.517930186887682 and parameters: {'x': 0.9822851165642527, 'y': 0.4308651706904184}. Best is trial 43 with value: 0.033272071223779856.\n",
            "[I 2023-12-31 08:20:38,718] Trial 123 finished with value: 28.0399177451374 and parameters: {'x': 0.5778074102306532, 'y': 0.8617029625213621}. Best is trial 43 with value: 0.033272071223779856.\n",
            "[I 2023-12-31 08:20:38,730] Trial 124 finished with value: 1.394066297928316 and parameters: {'x': 0.8129302824364525, 'y': 0.5442764341761258}. Best is trial 43 with value: 0.033272071223779856.\n",
            "[I 2023-12-31 08:20:38,743] Trial 125 finished with value: 24.252439260434052 and parameters: {'x': 0.34386974293839545, 'y': 0.6063235696852391}. Best is trial 43 with value: 0.033272071223779856.\n",
            "[I 2023-12-31 08:20:38,755] Trial 126 finished with value: 4.71952569786194 and parameters: {'x': 0.7252676795187696, 'y': 0.741513737115024}. Best is trial 43 with value: 0.033272071223779856.\n",
            "[I 2023-12-31 08:20:38,768] Trial 127 finished with value: 2.5340664144451694 and parameters: {'x': 1.0654295460171206, 'y': 0.9760871267039068}. Best is trial 43 with value: 0.033272071223779856.\n",
            "[I 2023-12-31 08:20:38,781] Trial 128 finished with value: 506.9233060252839 and parameters: {'x': 0.8957859588984447, 'y': -1.4490391356013919}. Best is trial 43 with value: 0.033272071223779856.\n",
            "[I 2023-12-31 08:20:38,794] Trial 129 finished with value: 1.9008573276212963 and parameters: {'x': 0.6116585004145318, 'y': 0.5064155087355033}. Best is trial 43 with value: 0.033272071223779856.\n",
            "[I 2023-12-31 08:20:38,806] Trial 130 finished with value: 38.604194312429506 and parameters: {'x': 0.8317971777407939, 'y': 1.3129815627733459}. Best is trial 43 with value: 0.033272071223779856.\n",
            "[I 2023-12-31 08:20:38,818] Trial 131 finished with value: 3.4158865654242128 and parameters: {'x': 0.9872529331431832, 'y': 0.789851577766957}. Best is trial 43 with value: 0.033272071223779856.\n",
            "[I 2023-12-31 08:20:38,831] Trial 132 finished with value: 0.7336190732200197 and parameters: {'x': 0.8622013664022501, 'y': 0.6588553689218218}. Best is trial 43 with value: 0.033272071223779856.\n",
            "[I 2023-12-31 08:20:38,843] Trial 133 finished with value: 12.344573830394332 and parameters: {'x': 0.7168779752784753, 'y': 0.8641199101666074}. Best is trial 43 with value: 0.033272071223779856.\n",
            "[I 2023-12-31 08:20:38,856] Trial 134 finished with value: 30.99221483440454 and parameters: {'x': 0.9439081952995918, 'y': 0.3342844209005588}. Best is trial 43 with value: 0.033272071223779856.\n",
            "[I 2023-12-31 08:20:38,869] Trial 135 finished with value: 38.97264771499726 and parameters: {'x': 1.1179867044569551, 'y': 0.6257250086215154}. Best is trial 43 with value: 0.033272071223779856.\n",
            "[I 2023-12-31 08:20:38,881] Trial 136 finished with value: 0.6672333629359315 and parameters: {'x': 0.8047623690206033, 'y': 0.7269592803097382}. Best is trial 43 with value: 0.033272071223779856.\n",
            "[I 2023-12-31 08:20:38,895] Trial 137 finished with value: 4.609725694529752 and parameters: {'x': 0.49261972886509625, 'y': 0.4512956476262061}. Best is trial 43 with value: 0.033272071223779856.\n",
            "[I 2023-12-31 08:20:38,909] Trial 138 finished with value: 36.0807660668259 and parameters: {'x': 0.6738615306331703, 'y': 1.053875989240709}. Best is trial 43 with value: 0.033272071223779856.\n",
            "[I 2023-12-31 08:20:38,922] Trial 139 finished with value: 30.37268489770105 and parameters: {'x': 0.5886618781314715, 'y': 0.8960997881536727}. Best is trial 43 with value: 0.033272071223779856.\n",
            "[I 2023-12-31 08:20:38,934] Trial 140 finished with value: 29.324825930120276 and parameters: {'x': 1.0477103059538326, 'y': 0.5561938874555447}. Best is trial 43 with value: 0.033272071223779856.\n",
            "[I 2023-12-31 08:20:38,946] Trial 141 finished with value: 0.2414280182092402 and parameters: {'x': 0.8845174646393648, 'y': 0.8301301027611832}. Best is trial 43 with value: 0.033272071223779856.\n",
            "[I 2023-12-31 08:20:38,959] Trial 142 finished with value: 0.0184869506396345 and parameters: {'x': 0.8791915960189262, 'y': 0.7667390483864686}. Best is trial 142 with value: 0.0184869506396345.\n",
            "[I 2023-12-31 08:20:38,971] Trial 143 finished with value: 1.0301553328394433 and parameters: {'x': 0.7671824215431695, 'y': 0.687359115824163}. Best is trial 142 with value: 0.0184869506396345.\n",
            "[I 2023-12-31 08:20:38,983] Trial 144 finished with value: 0.8592021693253108 and parameters: {'x': 0.9280541080495077, 'y': 0.9536979523411896}. Best is trial 142 with value: 0.0184869506396345.\n",
            "[I 2023-12-31 08:20:38,996] Trial 145 finished with value: 23.591929706077977 and parameters: {'x': 0.8413984657825345, 'y': 0.22249514683240057}. Best is trial 142 with value: 0.0184869506396345.\n",
            "[I 2023-12-31 08:20:39,008] Trial 146 finished with value: 6.897578931232449 and parameters: {'x': 0.7336125366384707, 'y': 0.7994653026687863}. Best is trial 142 with value: 0.0184869506396345.\n",
            "[I 2023-12-31 08:20:39,020] Trial 147 finished with value: 96.98348757738998 and parameters: {'x': 1.184921237703638, 'y': 0.41941002535704497}. Best is trial 142 with value: 0.0184869506396345.\n",
            "[I 2023-12-31 08:20:39,033] Trial 148 finished with value: 24.128938535093617 and parameters: {'x': 1.0189675565813285, 'y': 0.5470863842188368}. Best is trial 142 with value: 0.0184869506396345.\n",
            "[I 2023-12-31 08:20:39,045] Trial 149 finished with value: 4.817860626797364 and parameters: {'x': 0.636165532079953, 'y': 0.6211663981848391}. Best is trial 142 with value: 0.0184869506396345.\n",
            "[I 2023-12-31 08:20:39,056] Trial 150 finished with value: 0.4651473747939705 and parameters: {'x': 0.9012238160880436, 'y': 0.7447217288960646}. Best is trial 142 with value: 0.0184869506396345.\n",
            "[I 2023-12-31 08:20:39,069] Trial 151 finished with value: 4.467267501360789 and parameters: {'x': 0.7989844318251298, 'y': 0.8487771736915486}. Best is trial 142 with value: 0.0184869506396345.\n",
            "[I 2023-12-31 08:20:39,081] Trial 152 finished with value: 0.03099767627749936 and parameters: {'x': 0.8728038791671267, 'y': 0.7739598703472585}. Best is trial 142 with value: 0.0184869506396345.\n",
            "[I 2023-12-31 08:20:39,095] Trial 153 finished with value: 5.11799888257367 and parameters: {'x': 0.9565738695218766, 'y': 0.6888453043686171}. Best is trial 142 with value: 0.0184869506396345.\n",
            "[I 2023-12-31 08:20:39,108] Trial 154 finished with value: 0.08314148631012941 and parameters: {'x': 0.7134858120690851, 'y': 0.505819926874248}. Best is trial 142 with value: 0.0184869506396345.\n",
            "[I 2023-12-31 08:20:39,120] Trial 155 finished with value: 23.2761630623925 and parameters: {'x': 0.7328346204560319, 'y': 1.0187600406052157}. Best is trial 142 with value: 0.0184869506396345.\n",
            "[I 2023-12-31 08:20:39,134] Trial 156 finished with value: 2.4338010056944612 and parameters: {'x': 0.8663093877710978, 'y': 0.5950594032189617}. Best is trial 142 with value: 0.0184869506396345.\n",
            "[I 2023-12-31 08:20:39,146] Trial 157 finished with value: 10.360562515219366 and parameters: {'x': 1.1083017830476793, 'y': 0.9066368174787532}. Best is trial 142 with value: 0.0184869506396345.\n",
            "[I 2023-12-31 08:20:39,159] Trial 158 finished with value: 24.276145065926368 and parameters: {'x': 0.5421509732577442, 'y': 0.7845040667045347}. Best is trial 142 with value: 0.0184869506396345.\n",
            "[I 2023-12-31 08:20:39,171] Trial 159 finished with value: 46.043315372450095 and parameters: {'x': 1.0118285622919976, 'y': 0.34524582211364574}. Best is trial 142 with value: 0.0184869506396345.\n",
            "[I 2023-12-31 08:20:39,183] Trial 160 finished with value: 91.13903601142826 and parameters: {'x': 0.6874081296964125, 'y': 1.4266857014885672}. Best is trial 142 with value: 0.0184869506396345.\n",
            "[I 2023-12-31 08:20:39,197] Trial 161 finished with value: 2.31594080215415 and parameters: {'x': 0.7922122450914743, 'y': 0.4768433160235103}. Best is trial 142 with value: 0.0184869506396345.\n",
            "[I 2023-12-31 08:20:39,209] Trial 162 finished with value: 1.211325240912108 and parameters: {'x': 0.6347319654323951, 'y': 0.5067068478376465}. Best is trial 142 with value: 0.0184869506396345.\n",
            "[I 2023-12-31 08:20:39,222] Trial 163 finished with value: 2.1365313796179892 and parameters: {'x': 0.9059322493491261, 'y': 0.6748474583402119}. Best is trial 142 with value: 0.0184869506396345.\n",
            "[I 2023-12-31 08:20:39,234] Trial 164 finished with value: 3.4586671698351257 and parameters: {'x': 0.46116595634514723, 'y': 0.3906719337521375}. Best is trial 142 with value: 0.0184869506396345.\n",
            "[I 2023-12-31 08:20:39,247] Trial 165 finished with value: 0.42801038437807903 and parameters: {'x': 0.7467776164966823, 'y': 0.6180000054375462}. Best is trial 142 with value: 0.0184869506396345.\n",
            "[I 2023-12-31 08:20:39,260] Trial 166 finished with value: 0.03480769348359583 and parameters: {'x': 0.8582222323102582, 'y': 0.7244182577167334}. Best is trial 142 with value: 0.0184869506396345.\n",
            "[I 2023-12-31 08:20:39,272] Trial 167 finished with value: 0.1713626455835726 and parameters: {'x': 0.8426133190762398, 'y': 0.7482845504241444}. Best is trial 142 with value: 0.0184869506396345.\n",
            "[I 2023-12-31 08:20:39,284] Trial 168 finished with value: 0.015446514104646269 and parameters: {'x': 0.929820874582018, 'y': 0.8543094690526813}. Best is trial 168 with value: 0.015446514104646269.\n",
            "[I 2023-12-31 08:20:39,298] Trial 169 finished with value: 0.5345750427419317 and parameters: {'x': 0.9372949815890008, 'y': 0.9513671379104761}. Best is trial 168 with value: 0.015446514104646269.\n",
            "[I 2023-12-31 08:20:39,311] Trial 170 finished with value: 0.21498457085614472 and parameters: {'x': 1.0286237495983537, 'y': 1.104344809963334}. Best is trial 168 with value: 0.015446514104646269.\n",
            "[I 2023-12-31 08:20:39,323] Trial 171 finished with value: 6.537769269235444 and parameters: {'x': 0.9858848699577446, 'y': 1.2276556998212096}. Best is trial 168 with value: 0.015446514104646269.\n",
            "[I 2023-12-31 08:20:39,335] Trial 172 finished with value: 0.004539144396431013 and parameters: {'x': 1.067245559264816, 'y': 1.1385986063212266}. Best is trial 172 with value: 0.004539144396431013.\n",
            "[I 2023-12-31 08:20:39,347] Trial 173 finished with value: 25.950515279318445 and parameters: {'x': 1.2797054197929163, 'y': 1.1289979480092214}. Best is trial 172 with value: 0.004539144396431013.\n",
            "[I 2023-12-31 08:20:39,362] Trial 174 finished with value: 0.5469252239582763 and parameters: {'x': 1.1159647663009054, 'y': 1.172337822596446}. Best is trial 172 with value: 0.004539144396431013.\n",
            "[I 2023-12-31 08:20:39,374] Trial 175 finished with value: 9.70435791552146 and parameters: {'x': 0.8765914233699643, 'y': 1.0796861690330026}. Best is trial 172 with value: 0.004539144396431013.\n",
            "[I 2023-12-31 08:20:39,387] Trial 176 finished with value: 35.894011353884224 and parameters: {'x': 1.2055192253153293, 'y': 0.8545131000271843}. Best is trial 172 with value: 0.004539144396431013.\n",
            "[I 2023-12-31 08:20:39,399] Trial 177 finished with value: 0.44897992406161563 and parameters: {'x': 1.0516884668568567, 'y': 1.039242327241772}. Best is trial 172 with value: 0.004539144396431013.\n",
            "[I 2023-12-31 08:20:39,412] Trial 178 finished with value: 0.3824213064405745 and parameters: {'x': 1.0151978292261594, 'y': 0.9688050882897592}. Best is trial 172 with value: 0.004539144396431013.\n",
            "[I 2023-12-31 08:20:39,424] Trial 179 finished with value: 1.0389731544438128 and parameters: {'x': 1.1025562900011123, 'y': 1.3170431608592377}. Best is trial 172 with value: 0.004539144396431013.\n",
            "[I 2023-12-31 08:20:39,435] Trial 180 finished with value: 56.88641539292131 and parameters: {'x': 0.9312982563909393, 'y': 1.6215159879900956}. Best is trial 172 with value: 0.004539144396431013.\n",
            "[I 2023-12-31 08:20:39,449] Trial 181 finished with value: 0.8267020994602109 and parameters: {'x': 0.8194843953258147, 'y': 0.7606678727520505}. Best is trial 172 with value: 0.004539144396431013.\n",
            "[I 2023-12-31 08:20:39,463] Trial 182 finished with value: 17.21725882440858 and parameters: {'x': 0.7009929794451124, 'y': 0.9052492684973525}. Best is trial 172 with value: 0.004539144396431013.\n",
            "[I 2023-12-31 08:20:39,479] Trial 183 finished with value: 0.392889778968195 and parameters: {'x': 0.8591677119025114, 'y': 0.7992474712977027}. Best is trial 172 with value: 0.004539144396431013.\n",
            "[I 2023-12-31 08:20:39,493] Trial 184 finished with value: 0.09657812720389639 and parameters: {'x': 0.7643290373885353, 'y': 0.6044565486794385}. Best is trial 172 with value: 0.004539144396431013.\n",
            "[I 2023-12-31 08:20:39,505] Trial 185 finished with value: 5.229452060843702 and parameters: {'x': 0.9604599458560834, 'y': 0.6938375412879537}. Best is trial 172 with value: 0.004539144396431013.\n",
            "[I 2023-12-31 08:20:39,517] Trial 186 finished with value: 0.08203542557164625 and parameters: {'x': 0.7519586532658509, 'y': 0.5797634487686808}. Best is trial 172 with value: 0.004539144396431013.\n",
            "[I 2023-12-31 08:20:39,533] Trial 187 finished with value: 0.06038808052767676 and parameters: {'x': 0.7735317297791043, 'y': 0.5888118385024751}. Best is trial 172 with value: 0.004539144396431013.\n",
            "[I 2023-12-31 08:20:39,546] Trial 188 finished with value: 0.07844830477529438 and parameters: {'x': 0.7583141199268769, 'y': 0.5891952471326269}. Best is trial 172 with value: 0.004539144396431013.\n",
            "[I 2023-12-31 08:20:39,559] Trial 189 finished with value: 0.06250974704173473 and parameters: {'x': 0.7759245650733648, 'y': 0.6131494430728927}. Best is trial 172 with value: 0.004539144396431013.\n",
            "[I 2023-12-31 08:20:39,571] Trial 190 finished with value: 0.12902505795365204 and parameters: {'x': 0.7445880558293454, 'y': 0.5796680149266837}. Best is trial 172 with value: 0.004539144396431013.\n",
            "[I 2023-12-31 08:20:39,583] Trial 191 finished with value: 0.053912619656704845 and parameters: {'x': 0.7720708015882916, 'y': 0.5916651174214107}. Best is trial 172 with value: 0.004539144396431013.\n",
            "[I 2023-12-31 08:20:39,597] Trial 192 finished with value: 0.109641849352355 and parameters: {'x': 0.7549294932474934, 'y': 0.592185622222428}. Best is trial 172 with value: 0.004539144396431013.\n",
            "[I 2023-12-31 08:20:39,609] Trial 193 finished with value: 0.06306890869687058 and parameters: {'x': 0.7512408387548841, 'y': 0.5678092284210273}. Best is trial 172 with value: 0.004539144396431013.\n",
            "[I 2023-12-31 08:20:39,621] Trial 194 finished with value: 0.2278224802155729 and parameters: {'x': 0.7450820241183664, 'y': 0.5955005751629663}. Best is trial 172 with value: 0.004539144396431013.\n",
            "[I 2023-12-31 08:20:39,633] Trial 195 finished with value: 0.7757530794812676 and parameters: {'x': 0.7752544416403004, 'y': 0.5158582777622526}. Best is trial 172 with value: 0.004539144396431013.\n",
            "[I 2023-12-31 08:20:39,645] Trial 196 finished with value: 1.5884252169384778 and parameters: {'x': 0.6778471092174868, 'y': 0.5813226197745153}. Best is trial 172 with value: 0.004539144396431013.\n",
            "[I 2023-12-31 08:20:39,658] Trial 197 finished with value: 8.540587243794253 and parameters: {'x': 0.6056563842773712, 'y': 0.6563896880453298}. Best is trial 172 with value: 0.004539144396431013.\n",
            "[I 2023-12-31 08:20:39,671] Trial 198 finished with value: 0.15081724274741132 and parameters: {'x': 0.7605286681570173, 'y': 0.5478308729029788}. Best is trial 172 with value: 0.004539144396431013.\n",
            "[I 2023-12-31 08:20:39,685] Trial 199 finished with value: 1.5152959104430763 and parameters: {'x': 0.7850132902138885, 'y': 0.4950403946051325}. Best is trial 172 with value: 0.004539144396431013.\n",
            "[I 2023-12-31 08:20:39,698] Trial 200 finished with value: 1.4796196236429686 and parameters: {'x': 0.6875243057273289, 'y': 0.5902472553290751}. Best is trial 172 with value: 0.004539144396431013.\n",
            "[I 2023-12-31 08:20:39,711] Trial 201 finished with value: 0.5444760150931507 and parameters: {'x': 0.764234569367551, 'y': 0.6539751947481233}. Best is trial 172 with value: 0.004539144396431013.\n",
            "[I 2023-12-31 08:20:39,729] Trial 202 finished with value: 3.2378990076120586 and parameters: {'x': 0.8446432295773962, 'y': 0.5341524644172462}. Best is trial 172 with value: 0.004539144396431013.\n",
            "[I 2023-12-31 08:20:39,747] Trial 203 finished with value: 2.910622404746099 and parameters: {'x': 0.7330153263828527, 'y': 0.7058149282849429}. Best is trial 172 with value: 0.004539144396431013.\n",
            "[I 2023-12-31 08:20:39,766] Trial 204 finished with value: 0.23053516421356648 and parameters: {'x': 0.6354057403091969, 'y': 0.43498244419341003}. Best is trial 172 with value: 0.004539144396431013.\n",
            "[I 2023-12-31 08:20:39,779] Trial 205 finished with value: 3.743943853426566 and parameters: {'x': 0.8928004447444685, 'y': 0.6038970827176859}. Best is trial 172 with value: 0.004539144396431013.\n",
            "[I 2023-12-31 08:20:39,793] Trial 206 finished with value: 1.2863821186950957 and parameters: {'x': 0.815656997529504, 'y': 0.5533856689524819}. Best is trial 172 with value: 0.004539144396431013.\n",
            "[I 2023-12-31 08:20:39,806] Trial 207 finished with value: 12.468109867936882 and parameters: {'x': 0.5523298308245228, 'y': 0.655321026269782}. Best is trial 172 with value: 0.004539144396431013.\n",
            "[I 2023-12-31 08:20:39,819] Trial 208 finished with value: 0.49231734217296064 and parameters: {'x': 0.7262815349282745, 'y': 0.4628787116107693}. Best is trial 172 with value: 0.004539144396431013.\n",
            "[I 2023-12-31 08:20:39,831] Trial 209 finished with value: 1.4120465665926702 and parameters: {'x': 0.9423694908066299, 'y': 0.769370523400986}. Best is trial 172 with value: 0.004539144396431013.\n",
            "[I 2023-12-31 08:20:39,844] Trial 210 finished with value: 0.156183974677317 and parameters: {'x': 0.8293243892583949, 'y': 0.7234235509874392}. Best is trial 172 with value: 0.004539144396431013.\n",
            "[I 2023-12-31 08:20:39,857] Trial 211 finished with value: 0.131956069074172 and parameters: {'x': 0.8253775552520298, 'y': 0.7131013771276576}. Best is trial 172 with value: 0.004539144396431013.\n",
            "[I 2023-12-31 08:20:39,870] Trial 212 finished with value: 0.20931134345786856 and parameters: {'x': 0.7728164819927643, 'y': 0.6369566473033063}. Best is trial 172 with value: 0.004539144396431013.\n",
            "[I 2023-12-31 08:20:39,883] Trial 213 finished with value: 0.2037948812661291 and parameters: {'x': 0.7048995750764182, 'y': 0.531046347069081}. Best is trial 172 with value: 0.004539144396431013.\n",
            "[I 2023-12-31 08:20:39,899] Trial 214 finished with value: 0.6309714842728371 and parameters: {'x': 0.8852151532236292, 'y': 0.7050058723807435}. Best is trial 172 with value: 0.004539144396431013.\n",
            "[I 2023-12-31 08:20:39,915] Trial 215 finished with value: 4.172475466598687 and parameters: {'x': 0.636258417634413, 'y': 0.6058264538010625}. Best is trial 172 with value: 0.004539144396431013.\n",
            "[I 2023-12-31 08:20:39,929] Trial 216 finished with value: 3.5899209245275734 and parameters: {'x': 0.8136213691658354, 'y': 0.47342777850186724}. Best is trial 172 with value: 0.004539144396431013.\n",
            "[I 2023-12-31 08:20:39,943] Trial 217 finished with value: 1.7586093602015458 and parameters: {'x': 0.9118732004277537, 'y': 0.6991933085009459}. Best is trial 172 with value: 0.004539144396431013.\n",
            "[I 2023-12-31 08:20:39,956] Trial 218 finished with value: 0.9352640385120354 and parameters: {'x': 0.6918197659102627, 'y': 0.5702818662987958}. Best is trial 172 with value: 0.004539144396431013.\n",
            "[I 2023-12-31 08:20:39,970] Trial 219 finished with value: 4.8683868626565685 and parameters: {'x': 0.7796001110236365, 'y': 0.8273170070524581}. Best is trial 172 with value: 0.004539144396431013.\n",
            "[I 2023-12-31 08:20:39,983] Trial 220 finished with value: 7.368331026342978 and parameters: {'x': 0.9631542447125486, 'y': 0.6562444084369865}. Best is trial 172 with value: 0.004539144396431013.\n",
            "[I 2023-12-31 08:20:39,998] Trial 221 finished with value: 0.14066055044830894 and parameters: {'x': 0.8403636920502358, 'y': 0.7401488425042472}. Best is trial 172 with value: 0.004539144396431013.\n",
            "[I 2023-12-31 08:20:40,012] Trial 222 finished with value: 0.034995208160029906 and parameters: {'x': 0.8454613665475603, 'y': 0.7253467527778014}. Best is trial 172 with value: 0.004539144396431013.\n",
            "[I 2023-12-31 08:20:40,025] Trial 223 finished with value: 3.6049808334136064 and parameters: {'x': 0.8748086117794975, 'y': 0.5758354174169793}. Best is trial 172 with value: 0.004539144396431013.\n",
            "[I 2023-12-31 08:20:40,038] Trial 224 finished with value: 5.8459880889033755 and parameters: {'x': 0.7457899679726055, 'y': 0.7966473757611108}. Best is trial 172 with value: 0.004539144396431013.\n",
            "[I 2023-12-31 08:20:40,051] Trial 225 finished with value: 2.685844280509394 and parameters: {'x': 0.5985186063441063, 'y': 0.5171162139007844}. Best is trial 172 with value: 0.004539144396431013.\n",
            "[I 2023-12-31 08:20:40,063] Trial 226 finished with value: 58.42429283489662 and parameters: {'x': -1.1735775857170294, 'y': 0.6444825121330864}. Best is trial 172 with value: 0.004539144396431013.\n",
            "[I 2023-12-31 08:20:40,075] Trial 227 finished with value: 20.497123393420992 and parameters: {'x': 0.9320666566022845, 'y': 0.4160617332852343}. Best is trial 172 with value: 0.004539144396431013.\n",
            "[I 2023-12-31 08:20:40,092] Trial 228 finished with value: 1.7000868862147789 and parameters: {'x': 0.7811721144953203, 'y': 0.7387678529510275}. Best is trial 172 with value: 0.004539144396431013.\n",
            "[I 2023-12-31 08:20:40,105] Trial 229 finished with value: 17.067860063461723 and parameters: {'x': 0.6883865776137161, 'y': 0.8858318683817055}. Best is trial 172 with value: 0.004539144396431013.\n",
            "[I 2023-12-31 08:20:40,117] Trial 230 finished with value: 0.7787882236466604 and parameters: {'x': 0.8366759966647507, 'y': 0.6133022462514618}. Best is trial 172 with value: 0.004539144396431013.\n",
            "[I 2023-12-31 08:20:40,129] Trial 231 finished with value: 0.049482398615307496 and parameters: {'x': 0.8332673129494051, 'y': 0.7090594308517114}. Best is trial 172 with value: 0.004539144396431013.\n",
            "[I 2023-12-31 08:20:40,141] Trial 232 finished with value: 0.055288089917111115 and parameters: {'x': 0.885646799981795, 'y': 0.7638248325499433}. Best is trial 172 with value: 0.004539144396431013.\n",
            "[I 2023-12-31 08:20:40,155] Trial 233 finished with value: 2.477605614366582 and parameters: {'x': 0.980300220343317, 'y': 0.8035967327323967}. Best is trial 172 with value: 0.004539144396431013.\n",
            "[I 2023-12-31 08:20:40,171] Trial 234 finished with value: 0.4346934692073058 and parameters: {'x': 0.8868446653099793, 'y': 0.721540451263826}. Best is trial 172 with value: 0.004539144396431013.\n",
            "[I 2023-12-31 08:20:40,184] Trial 235 finished with value: 1.4336715326714744 and parameters: {'x': 0.84925454811109, 'y': 0.840016591928959}. Best is trial 172 with value: 0.004539144396431013.\n",
            "[I 2023-12-31 08:20:40,197] Trial 236 finished with value: 11.998231618672012 and parameters: {'x': 1.0102612331522258, 'y': 0.6742446429103097}. Best is trial 172 with value: 0.004539144396431013.\n",
            "[I 2023-12-31 08:20:40,210] Trial 237 finished with value: 0.548726639859766 and parameters: {'x': 0.9221748920438217, 'y': 0.7767404000558188}. Best is trial 172 with value: 0.004539144396431013.\n",
            "[I 2023-12-31 08:20:40,222] Trial 238 finished with value: 5.072068933601933 and parameters: {'x': 0.660324120614439, 'y': 0.6586641774027334}. Best is trial 172 with value: 0.004539144396431013.\n",
            "[I 2023-12-31 08:20:40,235] Trial 239 finished with value: 4.3879869956864255 and parameters: {'x': 0.8158410892182104, 'y': 0.8742608266684346}. Best is trial 172 with value: 0.004539144396431013.\n",
            "[I 2023-12-31 08:20:40,249] Trial 240 finished with value: 0.4137998644792027 and parameters: {'x': 0.7307385116060154, 'y': 0.5923994977202824}. Best is trial 172 with value: 0.004539144396431013.\n",
            "[I 2023-12-31 08:20:40,262] Trial 241 finished with value: 0.5752412178360543 and parameters: {'x': 0.7650671827420698, 'y': 0.5132134550901247}. Best is trial 172 with value: 0.004539144396431013.\n",
            "[I 2023-12-31 08:20:40,275] Trial 242 finished with value: 1.0979078723950746 and parameters: {'x': 0.789344049263662, 'y': 0.7257057322449398}. Best is trial 172 with value: 0.004539144396431013.\n",
            "[I 2023-12-31 08:20:40,287] Trial 243 finished with value: 2.588087676613919 and parameters: {'x': 0.8619106100867105, 'y': 0.5826083039242739}. Best is trial 172 with value: 0.004539144396431013.\n",
            "[I 2023-12-31 08:20:40,301] Trial 244 finished with value: 724.9778282467844 and parameters: {'x': 1.8307939355700986, 'y': 0.660547231687115}. Best is trial 172 with value: 0.004539144396431013.\n",
            "[I 2023-12-31 08:20:40,314] Trial 245 finished with value: 270.3435230734609 and parameters: {'x': 0.7206280685212972, 'y': -1.1246704737701192}. Best is trial 172 with value: 0.004539144396431013.\n",
            "[I 2023-12-31 08:20:40,326] Trial 246 finished with value: 15.5133560259278 and parameters: {'x': 0.9439379787568074, 'y': 0.49718882920685475}. Best is trial 172 with value: 0.004539144396431013.\n",
            "[I 2023-12-31 08:20:40,339] Trial 247 finished with value: 11.735983189472236 and parameters: {'x': 0.6423556384470598, 'y': 0.7533269989455952}. Best is trial 172 with value: 0.004539144396431013.\n",
            "[I 2023-12-31 08:20:40,352] Trial 248 finished with value: 0.7136880034208793 and parameters: {'x': 0.8065757317145575, 'y': 0.568328466546907}. Best is trial 172 with value: 0.004539144396431013.\n",
            "[I 2023-12-31 08:20:40,365] Trial 249 finished with value: 1.1354145282622663 and parameters: {'x': 0.877753850391081, 'y': 0.6645995471172464}. Best is trial 172 with value: 0.004539144396431013.\n",
            "[I 2023-12-31 08:20:40,379] Trial 250 finished with value: 1.722464464694193 and parameters: {'x': 0.7423541386002581, 'y': 0.4224007757815664}. Best is trial 172 with value: 0.004539144396431013.\n",
            "[I 2023-12-31 08:20:40,393] Trial 251 finished with value: 3.7863644851430123 and parameters: {'x': 0.9956281312798968, 'y': 0.796690037912828}. Best is trial 172 with value: 0.004539144396431013.\n",
            "[I 2023-12-31 08:20:40,406] Trial 252 finished with value: 1080.4676726165685 and parameters: {'x': -1.952514603486272, 'y': 0.5385534656425142}. Best is trial 172 with value: 0.004539144396431013.\n",
            "[I 2023-12-31 08:20:40,420] Trial 253 finished with value: 6.602611565880483 and parameters: {'x': 0.6784265190193115, 'y': 0.7151978680604714}. Best is trial 172 with value: 0.004539144396431013.\n",
            "[I 2023-12-31 08:20:40,434] Trial 254 finished with value: 9.090193680241462 and parameters: {'x': 0.5707788997294293, 'y': 0.6242171523349207}. Best is trial 172 with value: 0.004539144396431013.\n",
            "[I 2023-12-31 08:20:40,448] Trial 255 finished with value: 3.953461638204184 and parameters: {'x': 0.8174570267854454, 'y': 0.4702425639536951}. Best is trial 172 with value: 0.004539144396431013.\n",
            "[I 2023-12-31 08:20:40,462] Trial 256 finished with value: 1.2492470428152738 and parameters: {'x': 0.8812414223627689, 'y': 0.8877234519630927}. Best is trial 172 with value: 0.004539144396431013.\n",
            "[I 2023-12-31 08:20:40,475] Trial 257 finished with value: 3.3396504059510854 and parameters: {'x': 0.7571749108909313, 'y': 0.7544404970085026}. Best is trial 172 with value: 0.004539144396431013.\n",
            "[I 2023-12-31 08:20:40,489] Trial 258 finished with value: 11.7835390673747 and parameters: {'x': 0.9574499125265189, 'y': 0.5734651084107}. Best is trial 172 with value: 0.004539144396431013.\n",
            "[I 2023-12-31 08:20:40,503] Trial 259 finished with value: 22.229914631146528 and parameters: {'x': 1.0681126565108703, 'y': 0.6694277445698725}. Best is trial 172 with value: 0.004539144396431013.\n",
            "[I 2023-12-31 08:20:40,517] Trial 260 finished with value: 11.797790315558336 and parameters: {'x': 0.68098351271469, 'y': 0.8057329713917593}. Best is trial 172 with value: 0.004539144396431013.\n",
            "[I 2023-12-31 08:20:40,530] Trial 261 finished with value: 10.976411199863385 and parameters: {'x': 0.8257862192692188, 'y': 0.35107456486493405}. Best is trial 172 with value: 0.004539144396431013.\n",
            "[I 2023-12-31 08:20:40,543] Trial 262 finished with value: 3.6824017366327424 and parameters: {'x': 0.892404159541725, 'y': 0.6047912155928744}. Best is trial 172 with value: 0.004539144396431013.\n",
            "[I 2023-12-31 08:20:40,556] Trial 263 finished with value: 2.0017143543893003 and parameters: {'x': 0.6040398712703965, 'y': 0.500692363850717}. Best is trial 172 with value: 0.004539144396431013.\n",
            "[I 2023-12-31 08:20:40,569] Trial 264 finished with value: 0.8474367268852878 and parameters: {'x': 0.7892234049003426, 'y': 0.7124844055060212}. Best is trial 172 with value: 0.004539144396431013.\n",
            "[I 2023-12-31 08:20:40,582] Trial 265 finished with value: 0.10059111260977979 and parameters: {'x': 0.9379984520943317, 'y': 0.9109452631620162}. Best is trial 172 with value: 0.004539144396431013.\n",
            "[I 2023-12-31 08:20:40,595] Trial 266 finished with value: 5.042058450236868 and parameters: {'x': 1.0292004189596518, 'y': 0.8347272058027936}. Best is trial 172 with value: 0.004539144396431013.\n",
            "[I 2023-12-31 08:20:40,610] Trial 267 finished with value: 47.43011610961588 and parameters: {'x': -0.5174596437414415, 'y': 0.9395340292428582}. Best is trial 172 with value: 0.004539144396431013.\n",
            "[I 2023-12-31 08:20:40,625] Trial 268 finished with value: 0.10009727801363714 and parameters: {'x': 0.9265740946769973, 'y': 0.8893138789859146}. Best is trial 172 with value: 0.004539144396431013.\n",
            "[I 2023-12-31 08:20:40,639] Trial 269 finished with value: 0.29429154409078356 and parameters: {'x': 0.9639245976100252, 'y': 0.9832791906781345}. Best is trial 172 with value: 0.004539144396431013.\n",
            "[I 2023-12-31 08:20:40,654] Trial 270 finished with value: 15.804886079015057 and parameters: {'x': 1.147657675314445, 'y': 0.9198388514242613}. Best is trial 172 with value: 0.004539144396431013.\n",
            "[I 2023-12-31 08:20:40,667] Trial 271 finished with value: 0.09937871622182277 and parameters: {'x': 0.9172833434738269, 'y': 0.8109888914925607}. Best is trial 172 with value: 0.004539144396431013.\n",
            "[I 2023-12-31 08:20:40,679] Trial 272 finished with value: 6.998066907103223 and parameters: {'x': 1.0658619112298438, 'y': 0.871605017830167}. Best is trial 172 with value: 0.004539144396431013.\n",
            "[I 2023-12-31 08:20:40,695] Trial 273 finished with value: 0.1722395255875019 and parameters: {'x': 0.9563932154628918, 'y': 0.8734159613184524}. Best is trial 172 with value: 0.004539144396431013.\n",
            "[I 2023-12-31 08:20:40,708] Trial 274 finished with value: 1.0867011263956643 and parameters: {'x': 0.9258614544070469, 'y': 0.9612004215216514}. Best is trial 172 with value: 0.004539144396431013.\n",
            "[I 2023-12-31 08:20:40,722] Trial 275 finished with value: 0.00749358231799815 and parameters: {'x': 1.014580915051411, 'y': 1.0208415677626448}. Best is trial 172 with value: 0.004539144396431013.\n",
            "[I 2023-12-31 08:20:40,736] Trial 276 finished with value: 0.06278830494856713 and parameters: {'x': 1.0427262697824957, 'y': 1.062587433601754}. Best is trial 172 with value: 0.004539144396431013.\n",
            "[I 2023-12-31 08:20:40,757] Trial 277 finished with value: 6.415315616054273 and parameters: {'x': 1.1301630488507408, 'y': 1.0243184587395724}. Best is trial 172 with value: 0.004539144396431013.\n",
            "[I 2023-12-31 08:20:40,772] Trial 278 finished with value: 2.687613476663483 and parameters: {'x': 1.0279329499663472, 'y': 1.2205617750857654}. Best is trial 172 with value: 0.004539144396431013.\n",
            "[I 2023-12-31 08:20:40,785] Trial 279 finished with value: 1.3290606522610893 and parameters: {'x': 1.0860310810950615, 'y': 1.0645000668566915}. Best is trial 172 with value: 0.004539144396431013.\n",
            "[I 2023-12-31 08:20:40,798] Trial 280 finished with value: 0.24015128981349923 and parameters: {'x': 1.0121585503341444, 'y': 0.9754747830797256}. Best is trial 172 with value: 0.004539144396431013.\n",
            "[I 2023-12-31 08:20:40,810] Trial 281 finished with value: 3.287150228657305 and parameters: {'x': 1.137847554579065, 'y': 1.1139168516769127}. Best is trial 172 with value: 0.004539144396431013.\n",
            "[I 2023-12-31 08:20:40,825] Trial 282 finished with value: 1.792822808034142 and parameters: {'x': 0.918797914956837, 'y': 0.9778394880433346}. Best is trial 172 with value: 0.004539144396431013.\n",
            "[I 2023-12-31 08:20:40,839] Trial 283 finished with value: 21.5191656664228 and parameters: {'x': 1.221570254806096, 'y': 1.0288757938470439}. Best is trial 172 with value: 0.004539144396431013.\n",
            "[I 2023-12-31 08:20:40,852] Trial 284 finished with value: 2.8970162256506646 and parameters: {'x': 1.0195214963816193, 'y': 0.8692290423841946}. Best is trial 172 with value: 0.004539144396431013.\n",
            "[I 2023-12-31 08:20:40,865] Trial 285 finished with value: 0.05701579919243359 and parameters: {'x': 0.9205126750870822, 'y': 0.8248274653545677}. Best is trial 172 with value: 0.004539144396431013.\n",
            "[I 2023-12-31 08:20:40,878] Trial 286 finished with value: 4.613099203914807 and parameters: {'x': 0.9659336649837883, 'y': 1.1477820928074327}. Best is trial 172 with value: 0.004539144396431013.\n",
            "[I 2023-12-31 08:20:40,892] Trial 287 finished with value: 0.05316982403049913 and parameters: {'x': 0.893650626087419, 'y': 0.8190710687510612}. Best is trial 172 with value: 0.004539144396431013.\n",
            "[I 2023-12-31 08:20:40,906] Trial 288 finished with value: 7.80660101516836 and parameters: {'x': 1.0436487259580767, 'y': 0.8098338065922798}. Best is trial 172 with value: 0.004539144396431013.\n",
            "[I 2023-12-31 08:20:40,920] Trial 289 finished with value: 0.33049185363845907 and parameters: {'x': 0.8866156375080781, 'y': 0.8424464795818842}. Best is trial 172 with value: 0.004539144396431013.\n",
            "[I 2023-12-31 08:20:40,933] Trial 290 finished with value: 0.23045994926900415 and parameters: {'x': 0.8751897839671209, 'y': 0.8123125631730584}. Best is trial 172 with value: 0.004539144396431013.\n",
            "[I 2023-12-31 08:20:40,947] Trial 291 finished with value: 23.964269714767966 and parameters: {'x': 1.183491450353718, 'y': 0.9114628819217344}. Best is trial 172 with value: 0.004539144396431013.\n",
            "[I 2023-12-31 08:20:40,960] Trial 292 finished with value: 15.495205467416376 and parameters: {'x': 1.0809999005806752, 'y': 0.7750046329815191}. Best is trial 172 with value: 0.004539144396431013.\n",
            "[I 2023-12-31 08:20:40,973] Trial 293 finished with value: 0.6385636266806699 and parameters: {'x': 0.9750941979771284, 'y': 1.0306800494749713}. Best is trial 172 with value: 0.004539144396431013.\n",
            "[I 2023-12-31 08:20:40,988] Trial 294 finished with value: 143.19527183806827 and parameters: {'x': -0.2842119831317462, 'y': 1.2705078135566144}. Best is trial 172 with value: 0.004539144396431013.\n",
            "[I 2023-12-31 08:20:41,005] Trial 295 finished with value: 0.08213854345975273 and parameters: {'x': 0.8970162078804692, 'y': 0.777892445403563}. Best is trial 172 with value: 0.004539144396431013.\n",
            "[I 2023-12-31 08:20:41,020] Trial 296 finished with value: 0.07181794261979142 and parameters: {'x': 0.8901636032308955, 'y': 0.7679466279071596}. Best is trial 172 with value: 0.004539144396431013.\n",
            "[I 2023-12-31 08:20:41,034] Trial 297 finished with value: 236.709891654364 and parameters: {'x': 1.4955470723942543, 'y': 0.6989213904301523}. Best is trial 172 with value: 0.004539144396431013.\n",
            "[I 2023-12-31 08:20:41,048] Trial 298 finished with value: 0.38422809789426815 and parameters: {'x': 0.8415978369169466, 'y': 0.7682149469888127}. Best is trial 172 with value: 0.004539144396431013.\n",
            "[I 2023-12-31 08:20:41,063] Trial 299 finished with value: 0.10620660461073002 and parameters: {'x': 0.8517447328837572, 'y': 0.696447205083484}. Best is trial 172 with value: 0.004539144396431013.\n",
            "[I 2023-12-31 08:20:41,076] Trial 300 finished with value: 2.807743711655341 and parameters: {'x': 1.003689962490011, 'y': 1.174956367702013}. Best is trial 172 with value: 0.004539144396431013.\n",
            "[I 2023-12-31 08:20:41,090] Trial 301 finished with value: 7.548400180419165 and parameters: {'x': 0.6963153451830314, 'y': 0.7579150498818426}. Best is trial 172 with value: 0.004539144396431013.\n",
            "[I 2023-12-31 08:20:41,104] Trial 302 finished with value: 188.30443701456664 and parameters: {'x': 0.8047201229147306, 'y': -0.7245272065393433}. Best is trial 172 with value: 0.004539144396431013.\n",
            "[I 2023-12-31 08:20:41,117] Trial 303 finished with value: 116.22155674314843 and parameters: {'x': 1.314154093366826, 'y': 0.6493977890760809}. Best is trial 172 with value: 0.004539144396431013.\n",
            "[I 2023-12-31 08:20:41,130] Trial 304 finished with value: 0.7866731222877558 and parameters: {'x': 0.8780884852444574, 'y': 0.6831866301444472}. Best is trial 172 with value: 0.004539144396431013.\n",
            "[I 2023-12-31 08:20:41,144] Trial 305 finished with value: 11.631571599659459 and parameters: {'x': 1.0840402876653261, 'y': 0.8341960058035827}. Best is trial 172 with value: 0.004539144396431013.\n",
            "[I 2023-12-31 08:20:41,157] Trial 306 finished with value: 16.240990017327363 and parameters: {'x': 0.7442681725175262, 'y': 0.9561240141320534}. Best is trial 172 with value: 0.004539144396431013.\n",
            "[I 2023-12-31 08:20:41,173] Trial 307 finished with value: 4.375695342228393 and parameters: {'x': 0.9806094763319041, 'y': 0.7524223046568839}. Best is trial 172 with value: 0.004539144396431013.\n",
            "[I 2023-12-31 08:20:41,187] Trial 308 finished with value: 5.233593358637011 and parameters: {'x': 0.6455809030081211, 'y': 0.6427831194801003}. Best is trial 172 with value: 0.004539144396431013.\n",
            "[I 2023-12-31 08:20:41,202] Trial 309 finished with value: 5.944540497310287 and parameters: {'x': 0.8327566251051359, 'y': 0.450243588621961}. Best is trial 172 with value: 0.004539144396431013.\n",
            "[I 2023-12-31 08:20:41,216] Trial 310 finished with value: 33.712440571054856 and parameters: {'x': 0.502080797214678, 'y': 0.8305703647602514}. Best is trial 172 with value: 0.004539144396431013.\n",
            "[I 2023-12-31 08:20:41,230] Trial 311 finished with value: 0.6007462504582831 and parameters: {'x': 0.9040910418314638, 'y': 0.740468472292837}. Best is trial 172 with value: 0.004539144396431013.\n",
            "[I 2023-12-31 08:20:41,243] Trial 312 finished with value: 0.05548721151538205 and parameters: {'x': 0.7870643083902348, 'y': 0.629542763828672}. Best is trial 172 with value: 0.004539144396431013.\n",
            "[I 2023-12-31 08:20:41,257] Trial 313 finished with value: 25.301931469844014 and parameters: {'x': -0.6848591526896304, 'y': 0.9429854439188049}. Best is trial 172 with value: 0.004539144396431013.\n",
            "[I 2023-12-31 08:20:41,270] Trial 314 finished with value: 13.030673844506865 and parameters: {'x': 1.0154451982211798, 'y': 0.6701520082470549}. Best is trial 172 with value: 0.004539144396431013.\n",
            "[I 2023-12-31 08:20:41,286] Trial 315 finished with value: 45.62231294829132 and parameters: {'x': 0.8341064030045333, 'y': 1.3709726511112117}. Best is trial 172 with value: 0.004539144396431013.\n",
            "[I 2023-12-31 08:20:41,299] Trial 316 finished with value: 5.909025304755116 and parameters: {'x': 0.9196725269874639, 'y': 1.088749667440663}. Best is trial 172 with value: 0.004539144396431013.\n",
            "[I 2023-12-31 08:20:41,314] Trial 317 finished with value: 90.88357431544873 and parameters: {'x': 0.7050729565126147, 'y': -0.4557445852170344}. Best is trial 172 with value: 0.004539144396431013.\n",
            "[I 2023-12-31 08:20:41,327] Trial 318 finished with value: 1.2331668965751483 and parameters: {'x': 0.8061032934067549, 'y': 0.540460351940579}. Best is trial 172 with value: 0.004539144396431013.\n",
            "[I 2023-12-31 08:20:41,341] Trial 319 finished with value: 20.13028894091673 and parameters: {'x': 1.1056227594175325, 'y': 0.7738581233344812}. Best is trial 172 with value: 0.004539144396431013.\n",
            "[I 2023-12-31 08:20:41,355] Trial 320 finished with value: 0.2522909248120385 and parameters: {'x': 0.966248056631788, 'y': 0.8835202661754024}. Best is trial 172 with value: 0.004539144396431013.\n",
            "[I 2023-12-31 08:20:41,368] Trial 321 finished with value: 0.5736983452873979 and parameters: {'x': 0.7323179993281906, 'y': 0.6071447642917959}. Best is trial 172 with value: 0.004539144396431013.\n",
            "[I 2023-12-31 08:20:41,381] Trial 322 finished with value: 0.25097320123414685 and parameters: {'x': 0.8867605253035412, 'y': 0.7375436121703686}. Best is trial 172 with value: 0.004539144396431013.\n",
            "[I 2023-12-31 08:20:41,398] Trial 323 finished with value: 2.6065211560479975 and parameters: {'x': 0.5932880532205075, 'y': 0.5082311233484706}. Best is trial 172 with value: 0.004539144396431013.\n",
            "[I 2023-12-31 08:20:41,411] Trial 324 finished with value: 74.5744551045383 and parameters: {'x': 0.7945429842819609, 'y': -0.2320220269048341}. Best is trial 172 with value: 0.004539144396431013.\n",
            "[I 2023-12-31 08:20:41,425] Trial 325 finished with value: 590.3126992221192 and parameters: {'x': -1.675745378588783, 'y': 0.3932662926493019}. Best is trial 172 with value: 0.004539144396431013.\n",
            "[I 2023-12-31 08:20:41,439] Trial 326 finished with value: 11.517573953077926 and parameters: {'x': 1.1625776260134593, 'y': 1.0126008596833247}. Best is trial 172 with value: 0.004539144396431013.\n",
            "[I 2023-12-31 08:20:41,455] Trial 327 finished with value: 17.39398105500671 and parameters: {'x': 1.0358744057507818, 'y': 0.6559902943806176}. Best is trial 172 with value: 0.004539144396431013.\n",
            "[I 2023-12-31 08:20:41,468] Trial 328 finished with value: 14.700136159686155 and parameters: {'x': 0.6646157220615065, 'y': 0.8236519265946693}. Best is trial 172 with value: 0.004539144396431013.\n",
            "[I 2023-12-31 08:20:41,483] Trial 329 finished with value: 1.7212469427678343 and parameters: {'x': 0.9095524466904522, 'y': 0.6964014990499038}. Best is trial 172 with value: 0.004539144396431013.\n",
            "[I 2023-12-31 08:20:41,497] Trial 330 finished with value: 0.056725720201102114 and parameters: {'x': 0.7805145744929968, 'y': 0.59995536984465}. Best is trial 172 with value: 0.004539144396431013.\n",
            "[I 2023-12-31 08:20:41,511] Trial 331 finished with value: 5.738058684802956 and parameters: {'x': 0.8291413972334645, 'y': 0.9264077905977838}. Best is trial 172 with value: 0.004539144396431013.\n",
            "[I 2023-12-31 08:20:41,524] Trial 332 finished with value: 5.067241111668546 and parameters: {'x': 1.006113869606345, 'y': 0.7871606154992116}. Best is trial 172 with value: 0.004539144396431013.\n",
            "[I 2023-12-31 08:20:41,541] Trial 333 finished with value: 3.365821260742225 and parameters: {'x': 0.8864560244575336, 'y': 0.6026942336995459}. Best is trial 172 with value: 0.004539144396431013.\n",
            "[I 2023-12-31 08:20:41,555] Trial 334 finished with value: 6.654869460048096 and parameters: {'x': 0.7933649810668442, 'y': 0.8865694217589603}. Best is trial 172 with value: 0.004539144396431013.\n",
            "[I 2023-12-31 08:20:41,576] Trial 335 finished with value: 8.725537005218452 and parameters: {'x': 0.9665462230170742, 'y': 1.2295828566009255}. Best is trial 172 with value: 0.004539144396431013.\n",
            "[I 2023-12-31 08:20:41,594] Trial 336 finished with value: 516.5690269348879 and parameters: {'x': 0.7423980913159114, 'y': -1.7215145796613465}. Best is trial 172 with value: 0.004539144396431013.\n",
            "[I 2023-12-31 08:20:41,611] Trial 337 finished with value: 19.496449837807805 and parameters: {'x': 1.083728019897511, 'y': 0.7329979685971924}. Best is trial 172 with value: 0.004539144396431013.\n",
            "[I 2023-12-31 08:20:41,626] Trial 338 finished with value: 2.019031786088235 and parameters: {'x': 0.8843116681292484, 'y': 0.6403862241202293}. Best is trial 172 with value: 0.004539144396431013.\n",
            "[I 2023-12-31 08:20:41,639] Trial 339 finished with value: 42.47209738432502 and parameters: {'x': 1.2191687183018174, 'y': 0.8350347979239559}. Best is trial 172 with value: 0.004539144396431013.\n",
            "[I 2023-12-31 08:20:41,653] Trial 340 finished with value: 0.9281156765040188 and parameters: {'x': 0.6761883020403545, 'y': 0.5479643875528498}. Best is trial 172 with value: 0.004539144396431013.\n",
            "[I 2023-12-31 08:20:41,673] Trial 341 finished with value: 4.260400721708611 and parameters: {'x': 0.9389922569827103, 'y': 1.0880236605011686}. Best is trial 172 with value: 0.004539144396431013.\n",
            "[I 2023-12-31 08:20:41,689] Trial 342 finished with value: 0.28761147158302247 and parameters: {'x': 0.7998569516314723, 'y': 0.689525965128222}. Best is trial 172 with value: 0.004539144396431013.\n",
            "[I 2023-12-31 08:20:41,703] Trial 343 finished with value: 46.99613591949156 and parameters: {'x': 0.564113722320236, 'y': 1.0023744146539413}. Best is trial 172 with value: 0.004539144396431013.\n",
            "[I 2023-12-31 08:20:41,718] Trial 344 finished with value: 0.017963595147351973 and parameters: {'x': 0.8760896432520808, 'y': 0.7726417014211532}. Best is trial 172 with value: 0.004539144396431013.\n",
            "[I 2023-12-31 08:20:41,732] Trial 345 finished with value: 8.296356167344504 and parameters: {'x': 0.7553245897157508, 'y': 0.2835223768423799}. Best is trial 172 with value: 0.004539144396431013.\n",
            "[I 2023-12-31 08:20:41,746] Trial 346 finished with value: 32.07083591912008 and parameters: {'x': 1.0217011404569556, 'y': 0.47756619255757493}. Best is trial 172 with value: 0.004539144396431013.\n",
            "[I 2023-12-31 08:20:41,761] Trial 347 finished with value: 0.7438609527520633 and parameters: {'x': 0.8435054458817041, 'y': 0.6266857307100466}. Best is trial 172 with value: 0.004539144396431013.\n",
            "[I 2023-12-31 08:20:41,783] Trial 348 finished with value: 21.408807047635715 and parameters: {'x': 0.6333777858475536, 'y': 0.8624091696638976}. Best is trial 172 with value: 0.004539144396431013.\n",
            "[I 2023-12-31 08:20:41,800] Trial 349 finished with value: 4.6045471444947355 and parameters: {'x': 0.9612425728981794, 'y': 0.7094402027240566}. Best is trial 172 with value: 0.004539144396431013.\n",
            "[I 2023-12-31 08:20:41,818] Trial 350 finished with value: 0.10868562244406227 and parameters: {'x': 0.7489402748789198, 'y': 0.5822784810384065}. Best is trial 172 with value: 0.004539144396431013.\n",
            "[I 2023-12-31 08:20:41,832] Trial 351 finished with value: 5.156456697100686 and parameters: {'x': 0.8482125106871642, 'y': 0.9460349215368249}. Best is trial 172 with value: 0.004539144396431013.\n",
            "[I 2023-12-31 08:20:41,846] Trial 352 finished with value: 26.521780878447586 and parameters: {'x': 1.1253512131647707, 'y': 0.751574912137509}. Best is trial 172 with value: 0.004539144396431013.\n",
            "[I 2023-12-31 08:20:41,860] Trial 353 finished with value: 0.30320759464281477 and parameters: {'x': 0.7004771143055313, 'y': 0.4444628161611759}. Best is trial 172 with value: 0.004539144396431013.\n",
            "[I 2023-12-31 08:20:41,875] Trial 354 finished with value: 14.04362020596092 and parameters: {'x': 0.9593979092444054, 'y': 0.5457181592099536}. Best is trial 172 with value: 0.004539144396431013.\n",
            "[I 2023-12-31 08:20:41,889] Trial 355 finished with value: 157.57622651776617 and parameters: {'x': 0.828145358763933, 'y': 1.9410007886309772}. Best is trial 172 with value: 0.004539144396431013.\n",
            "[I 2023-12-31 08:20:41,906] Trial 356 finished with value: 0.16234762529601937 and parameters: {'x': 1.061858654606957, 'y': 1.1673585147381744}. Best is trial 172 with value: 0.004539144396431013.\n",
            "[I 2023-12-31 08:20:41,921] Trial 357 finished with value: 0.093186349683825 and parameters: {'x': 0.9080836945878225, 'y': 0.7955062484413938}. Best is trial 172 with value: 0.004539144396431013.\n",
            "[I 2023-12-31 08:20:41,935] Trial 358 finished with value: 0.7523869377866097 and parameters: {'x': 0.7640229426608106, 'y': 0.667199719666207}. Best is trial 172 with value: 0.004539144396431013.\n",
            "[I 2023-12-31 08:20:41,949] Trial 359 finished with value: 27.113519312326353 and parameters: {'x': 0.6317778076171644, 'y': 0.9185460450261288}. Best is trial 172 with value: 0.004539144396431013.\n",
            "[I 2023-12-31 08:20:41,964] Trial 360 finished with value: 2.45629232234102 and parameters: {'x': 0.8794256898289718, 'y': 0.6171284112695891}. Best is trial 172 with value: 0.004539144396431013.\n",
            "[I 2023-12-31 08:20:41,977] Trial 361 finished with value: 4.542646708715085 and parameters: {'x': 1.0255178865838326, 'y': 0.8385673555100109}. Best is trial 172 with value: 0.004539144396431013.\n",
            "[I 2023-12-31 08:20:41,995] Trial 362 finished with value: 6.597943126514928 and parameters: {'x': 0.6909778690162333, 'y': 0.7324494046658032}. Best is trial 172 with value: 0.004539144396431013.\n",
            "[I 2023-12-31 08:20:42,009] Trial 363 finished with value: 15.100698807106985 and parameters: {'x': 0.79089105221237, 'y': 1.0135418026705572}. Best is trial 172 with value: 0.004539144396431013.\n",
            "[I 2023-12-31 08:20:42,023] Trial 364 finished with value: 27.228797753583045 and parameters: {'x': 0.12252706899600396, 'y': 0.5293944434351369}. Best is trial 172 with value: 0.004539144396431013.\n",
            "[I 2023-12-31 08:20:42,037] Trial 365 finished with value: 7.03917598701128 and parameters: {'x': 0.9559896713973282, 'y': 0.6486383017737519}. Best is trial 172 with value: 0.004539144396431013.\n",
            "[I 2023-12-31 08:20:42,054] Trial 366 finished with value: 14.631294747252287 and parameters: {'x': -0.07608276215329701, 'y': 0.37284908084257884}. Best is trial 172 with value: 0.004539144396431013.\n",
            "[I 2023-12-31 08:20:42,068] Trial 367 finished with value: 33.94750729593333 and parameters: {'x': 0.5112684306918761, 'y': 0.8419869061713798}. Best is trial 172 with value: 0.004539144396431013.\n",
            "[I 2023-12-31 08:20:42,082] Trial 368 finished with value: 0.06211326777901142 and parameters: {'x': 0.8359746750512694, 'y': 0.717617708210207}. Best is trial 172 with value: 0.004539144396431013.\n",
            "[I 2023-12-31 08:20:42,097] Trial 369 finished with value: 0.039028411829719986 and parameters: {'x': 0.8667889137120098, 'y': 0.7659117900115568}. Best is trial 172 with value: 0.004539144396431013.\n",
            "[I 2023-12-31 08:20:42,112] Trial 370 finished with value: 3.2963620817513353 and parameters: {'x': 0.9784050798330248, 'y': 0.7757304801496953}. Best is trial 172 with value: 0.004539144396431013.\n",
            "[I 2023-12-31 08:20:42,127] Trial 371 finished with value: 345.3393975628598 and parameters: {'x': 1.6605197423314744, 'y': 0.9001690866798995}. Best is trial 172 with value: 0.004539144396431013.\n",
            "[I 2023-12-31 08:20:42,142] Trial 372 finished with value: 0.0653381401256821 and parameters: {'x': 0.8828269494382041, 'y': 0.8021009525261901}. Best is trial 172 with value: 0.004539144396431013.\n",
            "[I 2023-12-31 08:20:42,156] Trial 373 finished with value: 5.627760861833447 and parameters: {'x': 1.0804637891228297, 'y': 0.930309476727495}. Best is trial 172 with value: 0.004539144396431013.\n",
            "[I 2023-12-31 08:20:42,172] Trial 374 finished with value: 27.505833442140062 and parameters: {'x': 1.1605654601951594, 'y': 0.8226979928636269}. Best is trial 172 with value: 0.004539144396431013.\n",
            "[I 2023-12-31 08:20:42,186] Trial 375 finished with value: 8.110807668385933 and parameters: {'x': 0.8754952568360032, 'y': 1.051014461203086}. Best is trial 172 with value: 0.004539144396431013.\n",
            "[I 2023-12-31 08:20:42,202] Trial 376 finished with value: 0.962137592611275 and parameters: {'x': 0.9377910236059104, 'y': 0.7815608584998978}. Best is trial 172 with value: 0.004539144396431013.\n",
            "[I 2023-12-31 08:20:42,217] Trial 377 finished with value: 117.74110678080571 and parameters: {'x': 1.0318782876572987, 'y': -0.02030825890161836}. Best is trial 172 with value: 0.004539144396431013.\n",
            "[I 2023-12-31 08:20:42,232] Trial 378 finished with value: 54.305142843895965 and parameters: {'x': 0.8502642029522773, 'y': 1.459717306116601}. Best is trial 172 with value: 0.004539144396431013.\n",
            "[I 2023-12-31 08:20:42,246] Trial 379 finished with value: 0.2059309727198564 and parameters: {'x': 0.9098051220399971, 'y': 0.8722196062007032}. Best is trial 172 with value: 0.004539144396431013.\n",
            "[I 2023-12-31 08:20:42,261] Trial 380 finished with value: 8.806969064105912 and parameters: {'x': 1.0101805042523555, 'y': 0.7237010175935881}. Best is trial 172 with value: 0.004539144396431013.\n",
            "[I 2023-12-31 08:20:42,275] Trial 381 finished with value: 0.3180764425383115 and parameters: {'x': 0.8661819774850966, 'y': 0.8050589155883577}. Best is trial 172 with value: 0.004539144396431013.\n",
            "[I 2023-12-31 08:20:42,294] Trial 382 finished with value: 0.24178586029855123 and parameters: {'x': 0.9542096745200199, 'y': 0.9594741570746802}. Best is trial 172 with value: 0.004539144396431013.\n",
            "[I 2023-12-31 08:20:42,308] Trial 383 finished with value: 108.0767953149 and parameters: {'x': 1.3229625288654498, 'y': 0.7111317317181851}. Best is trial 172 with value: 0.004539144396431013.\n",
            "[I 2023-12-31 08:20:42,323] Trial 384 finished with value: 9.274864890514774 and parameters: {'x': 1.0837444662179119, 'y': 0.8700706019626587}. Best is trial 172 with value: 0.004539144396431013.\n",
            "[I 2023-12-31 08:20:42,337] Trial 385 finished with value: 0.9293988880084707 and parameters: {'x': 0.8134334377653936, 'y': 0.7562568211261108}. Best is trial 172 with value: 0.004539144396431013.\n",
            "[I 2023-12-31 08:20:42,351] Trial 386 finished with value: 4.86413657491698 and parameters: {'x': 0.8899435223566848, 'y': 1.0122725795284255}. Best is trial 172 with value: 0.004539144396431013.\n",
            "[I 2023-12-31 08:20:42,365] Trial 387 finished with value: 20.927663456918676 and parameters: {'x': 0.8118779524055383, 'y': 1.1162264759197376}. Best is trial 172 with value: 0.004539144396431013.\n",
            "[I 2023-12-31 08:20:42,380] Trial 388 finished with value: 8.186949445372964 and parameters: {'x': 1.000708632225142, 'y': 1.287546215793377}. Best is trial 172 with value: 0.004539144396431013.\n",
            "[I 2023-12-31 08:20:42,395] Trial 389 finished with value: 12.24976134807168 and parameters: {'x': -0.9899794412150134, 'y': 0.6921401530944594}. Best is trial 172 with value: 0.004539144396431013.\n",
            "[I 2023-12-31 08:20:42,409] Trial 390 finished with value: 25.44313339878664 and parameters: {'x': 1.1537116743934923, 'y': 0.8268730188475721}. Best is trial 172 with value: 0.004539144396431013.\n",
            "[I 2023-12-31 08:20:42,424] Trial 391 finished with value: 0.027327806443217216 and parameters: {'x': 0.9532235624682295, 'y': 0.8927796337729867}. Best is trial 172 with value: 0.004539144396431013.\n",
            "[I 2023-12-31 08:20:42,438] Trial 392 finished with value: 3.8918560221509306 and parameters: {'x': 1.0668074812249557, 'y': 0.9409134794277167}. Best is trial 172 with value: 0.004539144396431013.\n",
            "[I 2023-12-31 08:20:42,452] Trial 393 finished with value: 25.7226058620694 and parameters: {'x': 1.2269876613019266, 'y': 0.9988323370254357}. Best is trial 172 with value: 0.004539144396431013.\n",
            "[I 2023-12-31 08:20:42,466] Trial 394 finished with value: 0.7708160249699888 and parameters: {'x': 0.9973453331372799, 'y': 1.0824934410870022}. Best is trial 172 with value: 0.004539144396431013.\n",
            "[I 2023-12-31 08:20:42,483] Trial 395 finished with value: 0.05908894634849808 and parameters: {'x': 0.9386351683148654, 'y': 0.8575150727989643}. Best is trial 172 with value: 0.004539144396431013.\n",
            "[I 2023-12-31 08:20:42,496] Trial 396 finished with value: 118.29586498594661 and parameters: {'x': -1.399631899954056, 'y': 0.8981319007421414}. Best is trial 172 with value: 0.004539144396431013.\n",
            "[I 2023-12-31 08:20:42,511] Trial 397 finished with value: 0.9287359361417483 and parameters: {'x': 0.9324241039509911, 'y': 0.9655484411914044}. Best is trial 172 with value: 0.004539144396431013.\n",
            "[I 2023-12-31 08:20:42,528] Trial 398 finished with value: 10.744499871464178 and parameters: {'x': 1.1002131378474382, 'y': 0.8828341337156304}. Best is trial 172 with value: 0.004539144396431013.\n",
            "[I 2023-12-31 08:20:42,542] Trial 399 finished with value: 19.216317801571005 and parameters: {'x': 0.7796462310266675, 'y': 1.0456582730554032}. Best is trial 172 with value: 0.004539144396431013.\n",
            "[I 2023-12-31 08:20:42,557] Trial 400 finished with value: 7.431475577708198 and parameters: {'x': 0.9778477914415848, 'y': 0.6835879749607745}. Best is trial 172 with value: 0.004539144396431013.\n",
            "[I 2023-12-31 08:20:42,573] Trial 401 finished with value: 869.5324327404769 and parameters: {'x': 1.9486131278916696, 'y': 0.8498358109376671}. Best is trial 172 with value: 0.004539144396431013.\n",
            "[I 2023-12-31 08:20:42,588] Trial 402 finished with value: 47.57059430408788 and parameters: {'x': 0.71262933346969, 'y': 1.1969560318771166}. Best is trial 172 with value: 0.004539144396431013.\n",
            "[I 2023-12-31 08:20:42,602] Trial 403 finished with value: 7.044649071431262 and parameters: {'x': 0.8245194196941055, 'y': 0.944669122047585}. Best is trial 172 with value: 0.004539144396431013.\n",
            "[I 2023-12-31 08:20:42,616] Trial 404 finished with value: 2.244427065283748 and parameters: {'x': 0.9402837315865038, 'y': 0.7344384380997351}. Best is trial 172 with value: 0.004539144396431013.\n",
            "[I 2023-12-31 08:20:42,631] Trial 405 finished with value: 20.73692538468129 and parameters: {'x': 1.0440519965438535, 'y': 0.6346877355191739}. Best is trial 172 with value: 0.004539144396431013.\n",
            "[I 2023-12-31 08:20:42,645] Trial 406 finished with value: 0.8312643832610457 and parameters: {'x': 0.831839754331121, 'y': 0.7815668917285394}. Best is trial 172 with value: 0.004539144396431013.\n",
            "[I 2023-12-31 08:20:42,659] Trial 407 finished with value: 20.34904913104417 and parameters: {'x': 1.151440625084554, 'y': 0.8749705855632774}. Best is trial 172 with value: 0.004539144396431013.\n",
            "[I 2023-12-31 08:20:42,675] Trial 408 finished with value: 31.06408383189655 and parameters: {'x': 0.732358523548514, 'y': 1.0930576549798563}. Best is trial 172 with value: 0.004539144396431013.\n",
            "[I 2023-12-31 08:20:42,691] Trial 409 finished with value: 3.102546904225196 and parameters: {'x': 0.9337233677053626, 'y': 0.6958235805967511}. Best is trial 172 with value: 0.004539144396431013.\n",
            "[I 2023-12-31 08:20:42,706] Trial 410 finished with value: 4.890017672706808 and parameters: {'x': 1.0171236451547772, 'y': 0.8134132960678538}. Best is trial 172 with value: 0.004539144396431013.\n",
            "[I 2023-12-31 08:20:42,720] Trial 411 finished with value: 132.2973738437885 and parameters: {'x': 0.6429681714418168, 'y': 1.5630597650767495}. Best is trial 172 with value: 0.004539144396431013.\n",
            "[I 2023-12-31 08:20:42,734] Trial 412 finished with value: 7.345907202609073 and parameters: {'x': 0.8497556393916569, 'y': 0.9927012358722016}. Best is trial 172 with value: 0.004539144396431013.\n",
            "[I 2023-12-31 08:20:42,748] Trial 413 finished with value: 4.936045686633702 and parameters: {'x': 0.9243558394627471, 'y': 0.6323903967791065}. Best is trial 172 with value: 0.004539144396431013.\n",
            "[I 2023-12-31 08:20:42,764] Trial 414 finished with value: 10.717444195512499 and parameters: {'x': 0.7763151374621949, 'y': 0.9292751936906359}. Best is trial 172 with value: 0.004539144396431013.\n",
            "[I 2023-12-31 08:20:42,779] Trial 415 finished with value: 6.106927074247048 and parameters: {'x': 0.700605378449941, 'y': 0.7361495460186881}. Best is trial 172 with value: 0.004539144396431013.\n",
            "[I 2023-12-31 08:20:42,803] Trial 416 finished with value: 1.5811453556688735 and parameters: {'x': 0.852314600670805, 'y': 0.8513134894559153}. Best is trial 172 with value: 0.004539144396431013.\n",
            "[I 2023-12-31 08:20:42,821] Trial 417 finished with value: 27.470049639807705 and parameters: {'x': 1.0928286017663196, 'y': 0.6702377845486643}. Best is trial 172 with value: 0.004539144396431013.\n",
            "[I 2023-12-31 08:20:42,837] Trial 418 finished with value: 16.168684115732496 and parameters: {'x': 0.9804408350478615, 'y': 0.5591659649948018}. Best is trial 172 with value: 0.004539144396431013.\n",
            "[I 2023-12-31 08:20:42,853] Trial 419 finished with value: 2.7571667981404624 and parameters: {'x': 0.7761216625077595, 'y': 0.7668958438887976}. Best is trial 172 with value: 0.004539144396431013.\n",
            "[I 2023-12-31 08:20:42,867] Trial 420 finished with value: 12.786024996462045 and parameters: {'x': 0.895835814351837, 'y': 1.1599455718379554}. Best is trial 172 with value: 0.004539144396431013.\n",
            "[I 2023-12-31 08:20:42,882] Trial 421 finished with value: 668.9260446680269 and parameters: {'x': 1.2393345159384936, 'y': -1.05029968192926}. Best is trial 172 with value: 0.004539144396431013.\n",
            "[I 2023-12-31 08:20:42,899] Trial 422 finished with value: 31.462797655295606 and parameters: {'x': 0.586828304413094, 'y': 0.9037607624068001}. Best is trial 172 with value: 0.004539144396431013.\n",
            "[I 2023-12-31 08:20:42,913] Trial 423 finished with value: 16.1415911308697 and parameters: {'x': 1.0304571633224011, 'y': 0.6600875193927257}. Best is trial 172 with value: 0.004539144396431013.\n",
            "[I 2023-12-31 08:20:42,928] Trial 424 finished with value: 3.8047402822723355 and parameters: {'x': 0.8157493402064632, 'y': 0.4712617142927522}. Best is trial 172 with value: 0.004539144396431013.\n",
            "[I 2023-12-31 08:20:42,945] Trial 425 finished with value: 1.5753191242486417 and parameters: {'x': 0.9546898726539629, 'y': 0.7860028475582753}. Best is trial 172 with value: 0.004539144396431013.\n",
            "[I 2023-12-31 08:20:42,960] Trial 426 finished with value: 27.47433817064153 and parameters: {'x': -0.2786402463529637, 'y': 0.585965256346611}. Best is trial 172 with value: 0.004539144396431013.\n",
            "[I 2023-12-31 08:20:42,974] Trial 427 finished with value: 24.867366255403127 and parameters: {'x': 0.725836701057574, 'y': 1.024756587918557}. Best is trial 172 with value: 0.004539144396431013.\n",
            "[I 2023-12-31 08:20:42,990] Trial 428 finished with value: 0.1930397284011959 and parameters: {'x': 0.8739161657944005, 'y': 0.7216411534958436}. Best is trial 172 with value: 0.004539144396431013.\n",
            "[I 2023-12-31 08:20:43,008] Trial 429 finished with value: 17.229173304899707 and parameters: {'x': 1.1114702218723043, 'y': 0.8204353647818994}. Best is trial 172 with value: 0.004539144396431013.\n",
            "[I 2023-12-31 08:20:43,025] Trial 430 finished with value: 7.118191138138522 and parameters: {'x': 0.7977824601554796, 'y': 0.9024887917526699}. Best is trial 172 with value: 0.004539144396431013.\n",
            "[I 2023-12-31 08:20:43,039] Trial 431 finished with value: 34.44876957206902 and parameters: {'x': 0.2466645043264477, 'y': 0.6429194483505642}. Best is trial 172 with value: 0.004539144396431013.\n",
            "[I 2023-12-31 08:20:43,054] Trial 432 finished with value: 18.944131908082372 and parameters: {'x': 0.9761821129425213, 'y': 0.5176894629474128}. Best is trial 172 with value: 0.004539144396431013.\n",
            "[I 2023-12-31 08:20:43,071] Trial 433 finished with value: 2.869989647036335 and parameters: {'x': 0.8932233974437956, 'y': 0.966921643137707}. Best is trial 172 with value: 0.004539144396431013.\n",
            "[I 2023-12-31 08:20:43,086] Trial 434 finished with value: 59.6023578777902 and parameters: {'x': 0.656324255195943, 'y': -0.3404987709044853}. Best is trial 172 with value: 0.004539144396431013.\n",
            "[I 2023-12-31 08:20:43,102] Trial 435 finished with value: 38.51463494932134 and parameters: {'x': 1.0413464812527433, 'y': 1.7049903235614385}. Best is trial 172 with value: 0.004539144396431013.\n",
            "[I 2023-12-31 08:20:43,116] Trial 436 finished with value: 3.781953270005665 and parameters: {'x': 0.7733964613590125, 'y': 0.791289804686505}. Best is trial 172 with value: 0.004539144396431013.\n",
            "[I 2023-12-31 08:20:43,133] Trial 437 finished with value: 2.1379100904073907 and parameters: {'x': 0.9254832498368957, 'y': 0.7104933115815892}. Best is trial 172 with value: 0.004539144396431013.\n",
            "[I 2023-12-31 08:20:43,148] Trial 438 finished with value: 1.470254646525041 and parameters: {'x': 0.8428054043065487, 'y': 0.5900901504122161}. Best is trial 172 with value: 0.004539144396431013.\n",
            "[I 2023-12-31 08:20:43,163] Trial 439 finished with value: 28.774960511480604 and parameters: {'x': 1.185818932790235, 'y': 0.8700655076425405}. Best is trial 172 with value: 0.004539144396431013.\n",
            "[I 2023-12-31 08:20:43,180] Trial 440 finished with value: 41.09727616125242 and parameters: {'x': 0.6930550812176348, 'y': 1.120661671121899}. Best is trial 172 with value: 0.004539144396431013.\n",
            "[I 2023-12-31 08:20:43,194] Trial 441 finished with value: 6.570738481880062 and parameters: {'x': 0.9933597027081151, 'y': 0.7304298416282193}. Best is trial 172 with value: 0.004539144396431013.\n",
            "[I 2023-12-31 08:20:43,210] Trial 442 finished with value: 0.9729612570359137 and parameters: {'x': 0.8540774322918294, 'y': 0.8270017257560714}. Best is trial 172 with value: 0.004539144396431013.\n",
            "[I 2023-12-31 08:20:43,226] Trial 443 finished with value: 22.31799214920654 and parameters: {'x': 0.7674842085563504, 'y': 1.0608786862849349}. Best is trial 172 with value: 0.004539144396431013.\n",
            "[I 2023-12-31 08:20:43,241] Trial 444 finished with value: 25.853676396488055 and parameters: {'x': 1.0776586677398905, 'y': 0.6529424063141267}. Best is trial 172 with value: 0.004539144396431013.\n",
            "[I 2023-12-31 08:20:43,258] Trial 445 finished with value: 0.9021249548570704 and parameters: {'x': 0.9411633058148057, 'y': 0.9805862161980821}. Best is trial 172 with value: 0.004539144396431013.\n",
            "[I 2023-12-31 08:20:43,274] Trial 446 finished with value: 4.09822749738621 and parameters: {'x': 0.571379558083831, 'y': 0.5243258570154735}. Best is trial 172 with value: 0.004539144396431013.\n",
            "[I 2023-12-31 08:20:43,289] Trial 447 finished with value: 5.519535308839009 and parameters: {'x': 0.7201882612145223, 'y': 0.7519358031485688}. Best is trial 172 with value: 0.004539144396431013.\n",
            "[I 2023-12-31 08:20:43,306] Trial 448 finished with value: 12.044152612409784 and parameters: {'x': 0.8798358974524036, 'y': 0.42727243697411293}. Best is trial 172 with value: 0.004539144396431013.\n",
            "[I 2023-12-31 08:20:43,322] Trial 449 finished with value: 1.2694727322749197 and parameters: {'x': 1.0041291311186853, 'y': 0.8956051880351168}. Best is trial 172 with value: 0.004539144396431013.\n",
            "[I 2023-12-31 08:20:43,338] Trial 450 finished with value: 0.15004940784966186 and parameters: {'x': 0.8022862920026911, 'y': 0.6103528308862922}. Best is trial 172 with value: 0.004539144396431013.\n",
            "[I 2023-12-31 08:20:43,354] Trial 451 finished with value: 9.307416264002653 and parameters: {'x': 0.628833908978218, 'y': 0.6982464175830748}. Best is trial 172 with value: 0.004539144396431013.\n",
            "[I 2023-12-31 08:20:43,370] Trial 452 finished with value: 0.01061603142279288 and parameters: {'x': 0.9176129422226598, 'y': 0.8358261018292541}. Best is trial 172 with value: 0.004539144396431013.\n",
            "[I 2023-12-31 08:20:43,389] Trial 453 finished with value: 19.547762184614555 and parameters: {'x': 1.1418410146540658, 'y': 0.8618999714145935}. Best is trial 172 with value: 0.004539144396431013.\n",
            "[I 2023-12-31 08:20:43,413] Trial 454 finished with value: 2.6174152463176967 and parameters: {'x': 1.0538526051112378, 'y': 1.2722999373056267}. Best is trial 172 with value: 0.004539144396431013.\n",
            "[I 2023-12-31 08:20:43,429] Trial 455 finished with value: 0.2253303912602633 and parameters: {'x': 0.9402017310699403, 'y': 0.9310701178108355}. Best is trial 172 with value: 0.004539144396431013.\n",
            "[I 2023-12-31 08:20:43,448] Trial 456 finished with value: 0.08248077072617661 and parameters: {'x': 0.904107806876788, 'y': 0.8444822134630469}. Best is trial 172 with value: 0.004539144396431013.\n",
            "[I 2023-12-31 08:20:43,466] Trial 457 finished with value: 14.656932930193209 and parameters: {'x': -0.8043717575187297, 'y': 0.9846701916850622}. Best is trial 172 with value: 0.004539144396431013.\n",
            "[I 2023-12-31 08:20:43,481] Trial 458 finished with value: 4.81200073883082 and parameters: {'x': 0.9957441688071988, 'y': 0.7721441323768627}. Best is trial 172 with value: 0.004539144396431013.\n",
            "[I 2023-12-31 08:20:43,502] Trial 459 finished with value: 12.152220655761603 and parameters: {'x': 0.8383953429407544, 'y': 1.0511323186294828}. Best is trial 172 with value: 0.004539144396431013.\n",
            "[I 2023-12-31 08:20:43,517] Trial 460 finished with value: 121.74207448964309 and parameters: {'x': 1.3829133126332507, 'y': 0.8097459524693124}. Best is trial 172 with value: 0.004539144396431013.\n",
            "[I 2023-12-31 08:20:43,532] Trial 461 finished with value: 0.2923087777192193 and parameters: {'x': 0.9262171459276506, 'y': 0.9114379687888865}. Best is trial 172 with value: 0.004539144396431013.\n",
            "[I 2023-12-31 08:20:43,546] Trial 462 finished with value: 0.38740006479483585 and parameters: {'x': 1.106656352704101, 'y': 1.1633674474329787}. Best is trial 172 with value: 0.004539144396431013.\n",
            "[I 2023-12-31 08:20:43,562] Trial 463 finished with value: 5.173463366365705 and parameters: {'x': 1.004987974421582, 'y': 0.7825488890507315}. Best is trial 172 with value: 0.004539144396431013.\n",
            "[I 2023-12-31 08:20:43,581] Trial 464 finished with value: 0.26499797044028334 and parameters: {'x': 0.8620048881404883, 'y': 0.6934585445368703}. Best is trial 172 with value: 0.004539144396431013.\n",
            "[I 2023-12-31 08:20:43,596] Trial 465 finished with value: 5.044293530527839 and parameters: {'x': 0.7895099067068062, 'y': 0.8469324099372493}. Best is trial 172 with value: 0.004539144396431013.\n",
            "[I 2023-12-31 08:20:43,611] Trial 466 finished with value: 0.8765860748392266 and parameters: {'x': 0.940323026166354, 'y': 0.9776431861254996}. Best is trial 172 with value: 0.004539144396431013.\n",
            "[I 2023-12-31 08:20:43,625] Trial 467 finished with value: 29.969707586860906 and parameters: {'x': 0.4104564129400878, 'y': 0.7127367745090345}. Best is trial 172 with value: 0.004539144396431013.\n",
            "[I 2023-12-31 08:20:43,639] Trial 468 finished with value: 12.620847842894733 and parameters: {'x': 1.059474833586373, 'y': 0.7672783844362359}. Best is trial 172 with value: 0.004539144396431013.\n",
            "[I 2023-12-31 08:20:43,654] Trial 469 finished with value: 53.21280352129102 and parameters: {'x': 1.27196534194193, 'y': 0.8889319199640513}. Best is trial 172 with value: 0.004539144396431013.\n",
            "[I 2023-12-31 08:20:43,675] Trial 470 finished with value: 733.1321459332297 and parameters: {'x': 0.8614008342359808, 'y': -1.9655944385750774}. Best is trial 172 with value: 0.004539144396431013.\n",
            "[I 2023-12-31 08:20:43,690] Trial 471 finished with value: 1.4806773396804225 and parameters: {'x': 0.7208146860968282, 'y': 0.6380108371613098}. Best is trial 172 with value: 0.004539144396431013.\n",
            "[I 2023-12-31 08:20:43,705] Trial 472 finished with value: 1.6236942589892684 and parameters: {'x': 0.9697450849928227, 'y': 1.067793869173467}. Best is trial 172 with value: 0.004539144396431013.\n",
            "[I 2023-12-31 08:20:43,720] Trial 473 finished with value: 2.684225971188985 and parameters: {'x': 0.8099067214152633, 'y': 0.8186784434701061}. Best is trial 172 with value: 0.004539144396431013.\n",
            "[I 2023-12-31 08:20:43,736] Trial 474 finished with value: 2.7315416361951907 and parameters: {'x': 0.8737029686373345, 'y': 0.9281473715509594}. Best is trial 172 with value: 0.004539144396431013.\n",
            "[I 2023-12-31 08:20:43,755] Trial 475 finished with value: 14.177595018809333 and parameters: {'x': 1.0478109093205814, 'y': 0.7214065843521211}. Best is trial 172 with value: 0.004539144396431013.\n",
            "[I 2023-12-31 08:20:43,770] Trial 476 finished with value: 4.522525520188386 and parameters: {'x': 0.9287114085433994, 'y': 0.649962097443871}. Best is trial 172 with value: 0.004539144396431013.\n",
            "[I 2023-12-31 08:20:43,785] Trial 477 finished with value: 27.90717520939057 and parameters: {'x': 1.1607252111365483, 'y': 0.8192551508224337}. Best is trial 172 with value: 0.004539144396431013.\n",
            "[I 2023-12-31 08:20:43,806] Trial 478 finished with value: 27.656066363258297 and parameters: {'x': 0.6860203384646179, 'y': 0.9955761229498711}. Best is trial 172 with value: 0.004539144396431013.\n",
            "[I 2023-12-31 08:20:43,828] Trial 479 finished with value: 2.2405475484701856 and parameters: {'x': 0.7694826880120446, 'y': 0.740002536062659}. Best is trial 172 with value: 0.004539144396431013.\n",
            "[I 2023-12-31 08:20:43,846] Trial 480 finished with value: 64.57582981842539 and parameters: {'x': 0.9903608066190503, 'y': 0.17722422804021032}. Best is trial 172 with value: 0.004539144396431013.\n",
            "[I 2023-12-31 08:20:43,861] Trial 481 finished with value: 24.376911560507175 and parameters: {'x': 0.8494574587738661, 'y': 1.2150782124001176}. Best is trial 172 with value: 0.004539144396431013.\n",
            "[I 2023-12-31 08:20:43,877] Trial 482 finished with value: 0.09154783349911697 and parameters: {'x': 0.7723546379182071, 'y': 0.5766004492655364}. Best is trial 172 with value: 0.004539144396431013.\n",
            "[I 2023-12-31 08:20:43,891] Trial 483 finished with value: 27.339383992118844 and parameters: {'x': 0.9119866819933313, 'y': 1.3545163956511383}. Best is trial 172 with value: 0.004539144396431013.\n",
            "[I 2023-12-31 08:20:43,906] Trial 484 finished with value: 6.089407953363414 and parameters: {'x': 1.066826068833456, 'y': 0.8914411044368776}. Best is trial 172 with value: 0.004539144396431013.\n",
            "[I 2023-12-31 08:20:43,922] Trial 485 finished with value: 8.814204098650718 and parameters: {'x': 0.984243026371461, 'y': 0.6718512634253945}. Best is trial 172 with value: 0.004539144396431013.\n",
            "[I 2023-12-31 08:20:43,939] Trial 486 finished with value: 13.366020422280853 and parameters: {'x': 0.6678218615972764, 'y': 0.8100695197303017}. Best is trial 172 with value: 0.004539144396431013.\n",
            "[I 2023-12-31 08:20:43,953] Trial 487 finished with value: 15.203629451942957 and parameters: {'x': 0.8370893403544744, 'y': 1.0902964066486307}. Best is trial 172 with value: 0.004539144396431013.\n",
            "[I 2023-12-31 08:20:43,968] Trial 488 finished with value: 51.36529719736294 and parameters: {'x': 1.2134739960222078, 'y': 0.7561412635235298}. Best is trial 172 with value: 0.004539144396431013.\n",
            "[I 2023-12-31 08:20:43,985] Trial 489 finished with value: 3.7716727509850614 and parameters: {'x': 0.9027693502188028, 'y': 0.6210280969879985}. Best is trial 172 with value: 0.004539144396431013.\n",
            "[I 2023-12-31 08:20:44,002] Trial 490 finished with value: 91.91824248751146 and parameters: {'x': -0.0025863837855423233, 'y': 0.9534901083798608}. Best is trial 172 with value: 0.004539144396431013.\n",
            "[I 2023-12-31 08:20:44,017] Trial 491 finished with value: 0.4801824430584657 and parameters: {'x': 0.7405802879773903, 'y': 0.4842031238414136}. Best is trial 172 with value: 0.004539144396431013.\n",
            "[I 2023-12-31 08:20:44,032] Trial 492 finished with value: 18.03769297528248 and parameters: {'x': 1.1315072257910197, 'y': 0.8558041989206052}. Best is trial 172 with value: 0.004539144396431013.\n",
            "[I 2023-12-31 08:20:44,047] Trial 493 finished with value: 0.1815122782573967 and parameters: {'x': 0.8196566102423025, 'y': 0.7104359923842024}. Best is trial 172 with value: 0.004539144396431013.\n",
            "[I 2023-12-31 08:20:44,063] Trial 494 finished with value: 2.7052135865060327 and parameters: {'x': 0.9667491884819954, 'y': 0.7701622721418853}. Best is trial 172 with value: 0.004539144396431013.\n",
            "[I 2023-12-31 08:20:44,078] Trial 495 finished with value: 6.124572694837427 and parameters: {'x': 0.8983996690537849, 'y': 0.5598518687492426}. Best is trial 172 with value: 0.004539144396431013.\n",
            "[I 2023-12-31 08:20:44,092] Trial 496 finished with value: 2.863847078511657 and parameters: {'x': 1.0422266369087123, 'y': 0.9170600053017348}. Best is trial 172 with value: 0.004539144396431013.\n",
            "[I 2023-12-31 08:20:44,109] Trial 497 finished with value: 38.83806295915483 and parameters: {'x': 0.621145235754215, 'y': 1.0078706947667522}. Best is trial 172 with value: 0.004539144396431013.\n",
            "[I 2023-12-31 08:20:44,125] Trial 498 finished with value: 1.204675655322944 and parameters: {'x': 0.7469174438329849, 'y': 0.6646857088704807}. Best is trial 172 with value: 0.004539144396431013.\n",
            "[I 2023-12-31 08:20:44,141] Trial 499 finished with value: 1.7733202012735085 and parameters: {'x': 0.842650209979995, 'y': 0.842292550917876}. Best is trial 172 with value: 0.004539144396431013.\n",
            "[I 2023-12-31 08:20:44,156] Trial 500 finished with value: 25.11027947763858 and parameters: {'x': 0.5056972161203863, 'y': 0.7543873148175563}. Best is trial 172 with value: 0.004539144396431013.\n",
            "[I 2023-12-31 08:20:44,173] Trial 501 finished with value: 10.22852079705972 and parameters: {'x': 0.9547622317162388, 'y': 0.591782327361216}. Best is trial 172 with value: 0.004539144396431013.\n",
            "[I 2023-12-31 08:20:44,188] Trial 502 finished with value: 25.478425883253433 and parameters: {'x': 1.0889522829017584, 'y': 0.6811338730658336}. Best is trial 172 with value: 0.004539144396431013.\n",
            "[I 2023-12-31 08:20:44,204] Trial 503 finished with value: 59.16568339506738 and parameters: {'x': 0.7834179801634416, 'y': -0.15514361786728126}. Best is trial 172 with value: 0.004539144396431013.\n",
            "[I 2023-12-31 08:20:44,221] Trial 504 finished with value: 9.503322434910313 and parameters: {'x': 0.9015484253919422, 'y': 1.1209069065965478}. Best is trial 172 with value: 0.004539144396431013.\n",
            "[I 2023-12-31 08:20:44,238] Trial 505 finished with value: 0.9739597618486283 and parameters: {'x': 0.9713383543337517, 'y': 0.844850427620608}. Best is trial 172 with value: 0.004539144396431013.\n",
            "[I 2023-12-31 08:20:44,257] Trial 506 finished with value: 18.148703367428933 and parameters: {'x': 0.7124744320527083, 'y': 0.9326613721231483}. Best is trial 172 with value: 0.004539144396431013.\n",
            "[I 2023-12-31 08:20:44,272] Trial 507 finished with value: 2.6155238316658833 and parameters: {'x': 0.8260224491455379, 'y': 0.5215257846472356}. Best is trial 172 with value: 0.004539144396431013.\n",
            "[I 2023-12-31 08:20:44,290] Trial 508 finished with value: 0.008830397313358452 and parameters: {'x': 1.0249230633253303, 'y': 1.0414068010759416}. Best is trial 172 with value: 0.004539144396431013.\n",
            "[I 2023-12-31 08:20:44,306] Trial 509 finished with value: 0.08965644264718613 and parameters: {'x': 0.8947309682902277, 'y': 0.7725122955812405}. Best is trial 172 with value: 0.004539144396431013.\n",
            "[I 2023-12-31 08:20:44,322] Trial 510 finished with value: 674.7030969901895 and parameters: {'x': 1.7276809791078773, 'y': 0.38839629239351814}. Best is trial 172 with value: 0.004539144396431013.\n",
            "[I 2023-12-31 08:20:44,339] Trial 511 finished with value: 12.77486286827996 and parameters: {'x': 1.002090902557634, 'y': 0.6467668364879204}. Best is trial 172 with value: 0.004539144396431013.\n",
            "[I 2023-12-31 08:20:44,355] Trial 512 finished with value: 14.671702946078444 and parameters: {'x': 0.7830591809026324, 'y': 0.9956034326234853}. Best is trial 172 with value: 0.004539144396431013.\n",
            "[I 2023-12-31 08:20:44,373] Trial 513 finished with value: 19.822540493008738 and parameters: {'x': 0.6584799146796202, 'y': 0.8775091288154901}. Best is trial 172 with value: 0.004539144396431013.\n",
            "[I 2023-12-31 08:20:44,390] Trial 514 finished with value: 0.43659135496573326 and parameters: {'x': 0.8846334251153407, 'y': 0.7175161778362408}. Best is trial 172 with value: 0.004539144396431013.\n",
            "[I 2023-12-31 08:20:44,407] Trial 515 finished with value: 91.51261494611877 and parameters: {'x': 1.1107533814373383, 'y': 0.27721492854842106}. Best is trial 172 with value: 0.004539144396431013.\n",
            "[I 2023-12-31 08:20:44,425] Trial 516 finished with value: 403.034958930547 and parameters: {'x': 0.8203175554574861, 'y': -1.3345717561391757}. Best is trial 172 with value: 0.004539144396431013.\n",
            "[I 2023-12-31 08:20:44,440] Trial 517 finished with value: 76.53925299527613 and parameters: {'x': 0.9620141343291153, 'y': 0.05061229134352485}. Best is trial 172 with value: 0.004539144396431013.\n",
            "[I 2023-12-31 08:20:44,456] Trial 518 finished with value: 8.299436110587067 and parameters: {'x': 0.7074280818773947, 'y': 0.7870524286227245}. Best is trial 172 with value: 0.004539144396431013.\n",
            "[I 2023-12-31 08:20:44,472] Trial 519 finished with value: 20.204429260620564 and parameters: {'x': 1.0356713656846712, 'y': 0.6231359588881956}. Best is trial 172 with value: 0.004539144396431013.\n",
            "[I 2023-12-31 08:20:44,487] Trial 520 finished with value: 0.0807611920962571 and parameters: {'x': 0.9020430472101884, 'y': 0.8403585455507936}. Best is trial 172 with value: 0.004539144396431013.\n",
            "[I 2023-12-31 08:20:44,504] Trial 521 finished with value: 7.807052266787821 and parameters: {'x': 0.8061875509872245, 'y': 0.9286763985249881}. Best is trial 172 with value: 0.004539144396431013.\n",
            "[I 2023-12-31 08:20:44,519] Trial 522 finished with value: 2.4561479663067844 and parameters: {'x': 0.6086578345964452, 'y': 0.5222207194785415}. Best is trial 172 with value: 0.004539144396431013.\n",
            "[I 2023-12-31 08:20:44,538] Trial 523 finished with value: 3.451166786443579 and parameters: {'x': 0.9470436611488042, 'y': 0.7111940275148205}. Best is trial 172 with value: 0.004539144396431013.\n",
            "[I 2023-12-31 08:20:44,554] Trial 524 finished with value: 16.011502011389137 and parameters: {'x': 1.200218057861294, 'y': 1.0408808618935401}. Best is trial 172 with value: 0.004539144396431013.\n",
            "[I 2023-12-31 08:20:44,571] Trial 525 finished with value: 6.9000992664460234 and parameters: {'x': 0.724252993757657, 'y': 0.7857714719085599}. Best is trial 172 with value: 0.004539144396431013.\n",
            "[I 2023-12-31 08:20:44,587] Trial 526 finished with value: 22.983027346857533 and parameters: {'x': 0.8378937579839593, 'y': 1.1811979660601748}. Best is trial 172 with value: 0.004539144396431013.\n",
            "[I 2023-12-31 08:20:44,605] Trial 527 finished with value: 33.498410922741265 and parameters: {'x': 1.0171912133661807, 'y': 0.4559024002334161}. Best is trial 172 with value: 0.004539144396431013.\n",
            "[I 2023-12-31 08:20:44,621] Trial 528 finished with value: 5.214772724719364 and parameters: {'x': 0.9003310812707241, 'y': 0.5824548971569453}. Best is trial 172 with value: 0.004539144396431013.\n",
            "[I 2023-12-31 08:20:44,636] Trial 529 finished with value: 169.7269530853971 and parameters: {'x': 1.472737652159267, 'y': 0.8670212006320717}. Best is trial 172 with value: 0.004539144396431013.\n",
            "[I 2023-12-31 08:20:44,653] Trial 530 finished with value: 195.0301909884365 and parameters: {'x': 0.7511866425312728, 'y': -0.8320290624115134}. Best is trial 172 with value: 0.004539144396431013.\n",
            "[I 2023-12-31 08:20:44,670] Trial 531 finished with value: 27.500583600620963 and parameters: {'x': 1.1044084059074981, 'y': 0.6954118858246915}. Best is trial 172 with value: 0.004539144396431013.\n",
            "[I 2023-12-31 08:20:44,688] Trial 532 finished with value: 0.16701702865088222 and parameters: {'x': 0.86349462448447, 'y': 0.7841435209107086}. Best is trial 172 with value: 0.004539144396431013.\n",
            "[I 2023-12-31 08:20:44,702] Trial 533 finished with value: 0.005594293738170997 and parameters: {'x': 0.9765670420630287, 'y': 0.9465802373971842}. Best is trial 172 with value: 0.004539144396431013.\n",
            "[I 2023-12-31 08:20:44,722] Trial 534 finished with value: 1.744253978750161 and parameters: {'x': 1.0524302069110152, 'y': 0.9756432443124732}. Best is trial 172 with value: 0.004539144396431013.\n",
            "[I 2023-12-31 08:20:44,739] Trial 535 finished with value: 0.9503109926792119 and parameters: {'x': 0.9811067298455269, 'y': 1.0600360009167362}. Best is trial 172 with value: 0.004539144396431013.\n",
            "[I 2023-12-31 08:20:44,756] Trial 536 finished with value: 21.860122345809955 and parameters: {'x': 1.1884934779073522, 'y': 0.9453487627379051}. Best is trial 172 with value: 0.004539144396431013.\n",
            "[I 2023-12-31 08:20:44,774] Trial 537 finished with value: 1.5606143416869191 and parameters: {'x': 1.0099144749136577, 'y': 1.1448478632281889}. Best is trial 172 with value: 0.004539144396431013.\n",
            "[I 2023-12-31 08:20:44,789] Trial 538 finished with value: 0.05517086325198256 and parameters: {'x': 0.938993573414797, 'y': 0.9043913203755627}. Best is trial 172 with value: 0.004539144396431013.\n",
            "[I 2023-12-31 08:20:44,809] Trial 539 finished with value: 4.588952680105451 and parameters: {'x': 1.1114442849039323, 'y': 1.0213800727973323}. Best is trial 172 with value: 0.004539144396431013.\n",
            "[I 2023-12-31 08:20:44,825] Trial 540 finished with value: 0.001821630667734238 and parameters: {'x': 0.9585531442497568, 'y': 0.9198428983136496}. Best is trial 540 with value: 0.001821630667734238.\n",
            "[I 2023-12-31 08:20:44,842] Trial 541 finished with value: 13.247223995400494 and parameters: {'x': 1.1416222838396375, 'y': 0.9396097133986868}. Best is trial 540 with value: 0.001821630667734238.\n",
            "[I 2023-12-31 08:20:44,866] Trial 542 finished with value: 0.7566560283469774 and parameters: {'x': 1.0512080219079047, 'y': 1.0182031876095972}. Best is trial 540 with value: 0.001821630667734238.\n",
            "[I 2023-12-31 08:20:44,882] Trial 543 finished with value: 66.79828044392005 and parameters: {'x': 1.3118036650879694, 'y': 0.9041216932965268}. Best is trial 540 with value: 0.001821630667734238.\n",
            "[I 2023-12-31 08:20:44,897] Trial 544 finished with value: 2.0368244216735323 and parameters: {'x': 0.9735378006446517, 'y': 1.0904686722878056}. Best is trial 540 with value: 0.001821630667734238.\n",
            "[I 2023-12-31 08:20:44,916] Trial 545 finished with value: 1.8988965201346517 and parameters: {'x': 1.053680374018461, 'y': 0.9725464723540489}. Best is trial 540 with value: 0.001821630667734238.\n",
            "[I 2023-12-31 08:20:44,932] Trial 546 finished with value: 0.026720472022951882 and parameters: {'x': 0.9411919206077222, 'y': 0.9010941433699043}. Best is trial 540 with value: 0.001821630667734238.\n",
            "[I 2023-12-31 08:20:44,948] Trial 547 finished with value: 18.51198600628744 and parameters: {'x': 1.1557821606533372, 'y': 0.9058589394625126}. Best is trial 540 with value: 0.001821630667734238.\n",
            "[I 2023-12-31 08:20:44,969] Trial 548 finished with value: 1.0679895895139608 and parameters: {'x': 0.972454160091188, 'y': 1.0489739575399428}. Best is trial 540 with value: 0.001821630667734238.\n",
            "[I 2023-12-31 08:20:44,987] Trial 549 finished with value: 2.2469959361914564 and parameters: {'x': 1.0601738175567352, 'y': 0.9741895179656969}. Best is trial 540 with value: 0.001821630667734238.\n",
            "[I 2023-12-31 08:20:45,003] Trial 550 finished with value: 12.70521047411234 and parameters: {'x': 0.951068445999398, 'y': 1.260941292327669}. Best is trial 540 with value: 0.001821630667734238.\n",
            "[I 2023-12-31 08:20:45,020] Trial 551 finished with value: 0.0540724880834942 and parameters: {'x': 0.9464377152222739, 'y': 0.8731161430039593}. Best is trial 540 with value: 0.001821630667734238.\n",
            "[I 2023-12-31 08:20:45,036] Trial 552 finished with value: 0.23403757214023316 and parameters: {'x': 1.0297440055590317, 'y': 1.1086586224100006}. Best is trial 540 with value: 0.001821630667734238.\n",
            "[I 2023-12-31 08:20:45,051] Trial 553 finished with value: 10.32289548482119 and parameters: {'x': 1.0940776271978212, 'y': 0.8758509869439868}. Best is trial 540 with value: 0.001821630667734238.\n",
            "[I 2023-12-31 08:20:45,066] Trial 554 finished with value: 31.27989031540884 and parameters: {'x': 1.2304034177975403, 'y': 0.955083080804617}. Best is trial 540 with value: 0.001821630667734238.\n",
            "[I 2023-12-31 08:20:45,082] Trial 555 finished with value: 1.8327160774149165 and parameters: {'x': 0.946799770749778, 'y': 1.0317030779385539}. Best is trial 540 with value: 0.001821630667734238.\n",
            "[I 2023-12-31 08:20:45,098] Trial 556 finished with value: 0.346002119841795 and parameters: {'x': 0.9141090821449561, 'y': 0.8937868971198586}. Best is trial 540 with value: 0.001821630667734238.\n",
            "[I 2023-12-31 08:20:45,115] Trial 557 finished with value: 2.8210184709547166 and parameters: {'x': 1.0027470571415351, 'y': 0.8375430072227499}. Best is trial 540 with value: 0.001821630667734238.\n",
            "[I 2023-12-31 08:20:45,130] Trial 558 finished with value: 7.436112188729138 and parameters: {'x': 1.1130642835859417, 'y': 0.9664542373956907}. Best is trial 540 with value: 0.001821630667734238.\n",
            "[I 2023-12-31 08:20:45,148] Trial 559 finished with value: 53.29296968536459 and parameters: {'x': -0.3958238456567438, 'y': 0.8732282977335083}. Best is trial 540 with value: 0.001821630667734238.\n",
            "[I 2023-12-31 08:20:45,166] Trial 560 finished with value: 6.275592024568855 and parameters: {'x': 0.9441456302450157, 'y': 1.1418600141104893}. Best is trial 540 with value: 0.001821630667734238.\n",
            "[I 2023-12-31 08:20:45,183] Trial 561 finished with value: 6.720226369314708 and parameters: {'x': 0.873096888894336, 'y': 1.0212213700566144}. Best is trial 540 with value: 0.001821630667734238.\n",
            "[I 2023-12-31 08:20:45,198] Trial 562 finished with value: 4.293134244330623 and parameters: {'x': 1.021527185944141, 'y': 0.8363301755693906}. Best is trial 540 with value: 0.001821630667734238.\n",
            "[I 2023-12-31 08:20:45,215] Trial 563 finished with value: 1.2162022571690068 and parameters: {'x': 0.8985055188769042, 'y': 0.9171256970135325}. Best is trial 540 with value: 0.001821630667734238.\n",
            "[I 2023-12-31 08:20:45,231] Trial 564 finished with value: 3.5155846352086555 and parameters: {'x': 1.0037588599259974, 'y': 0.8200333020540836}. Best is trial 540 with value: 0.001821630667734238.\n",
            "[I 2023-12-31 08:20:45,252] Trial 565 finished with value: 2.3172074967491705 and parameters: {'x': 0.8979291455611482, 'y': 0.9581579223367028}. Best is trial 540 with value: 0.001821630667734238.\n",
            "[I 2023-12-31 08:20:45,269] Trial 566 finished with value: 13.668465283548281 and parameters: {'x': 1.1241194106577046, 'y': 0.8941439804671643}. Best is trial 540 with value: 0.001821630667734238.\n",
            "[I 2023-12-31 08:20:45,285] Trial 567 finished with value: 1.0028806322814205 and parameters: {'x': 1.0377640987810923, 'y': 1.1770270235495666}. Best is trial 540 with value: 0.001821630667734238.\n",
            "[I 2023-12-31 08:20:45,299] Trial 568 finished with value: 5.473314725641225 and parameters: {'x': 0.9188825029092038, 'y': 1.0781555474438727}. Best is trial 540 with value: 0.001821630667734238.\n",
            "[I 2023-12-31 08:20:45,315] Trial 569 finished with value: 51.26287034531759 and parameters: {'x': 1.2422509221620917, 'y': 0.8276163589794056}. Best is trial 540 with value: 0.001821630667734238.\n",
            "[I 2023-12-31 08:20:45,332] Trial 570 finished with value: 16.08800277176512 and parameters: {'x': -1.1518273121681037, 'y': 0.9882147688295704}. Best is trial 540 with value: 0.001821630667734238.\n",
            "[I 2023-12-31 08:20:45,348] Trial 571 finished with value: 0.4584483789240418 and parameters: {'x': 0.8434889174847364, 'y': 0.7773486372192497}. Best is trial 540 with value: 0.001821630667734238.\n",
            "[I 2023-12-31 08:20:45,366] Trial 572 finished with value: 0.4357685932301254 and parameters: {'x': 0.9628734539657265, 'y': 0.8612170026201464}. Best is trial 540 with value: 0.001821630667734238.\n",
            "[I 2023-12-31 08:20:45,381] Trial 573 finished with value: 5.567144682428743 and parameters: {'x': 1.075143959057729, 'y': 0.920106246272677}. Best is trial 540 with value: 0.001821630667734238.\n",
            "[I 2023-12-31 08:20:45,399] Trial 574 finished with value: 31.42505557596107 and parameters: {'x': 1.1645554259964754, 'y': 0.7958503616723792}. Best is trial 540 with value: 0.001821630667734238.\n",
            "[I 2023-12-31 08:20:45,416] Trial 575 finished with value: 6.298112435226726 and parameters: {'x': 0.8734915210448128, 'y': 1.0136287755074667}. Best is trial 540 with value: 0.001821630667734238.\n",
            "[I 2023-12-31 08:20:45,432] Trial 576 finished with value: 2.080611634768792 and parameters: {'x': 0.9844403451830115, 'y': 1.1133576548876116}. Best is trial 540 with value: 0.001821630667734238.\n",
            "[I 2023-12-31 08:20:45,447] Trial 577 finished with value: 0.8188211072958838 and parameters: {'x': 0.8384023957765936, 'y': 0.7919526898977423}. Best is trial 540 with value: 0.001821630667734238.\n",
            "[I 2023-12-31 08:20:45,464] Trial 578 finished with value: 0.1832496477227288 and parameters: {'x': 0.9323816728351879, 'y': 0.9116058345543296}. Best is trial 540 with value: 0.001821630667734238.\n",
            "[I 2023-12-31 08:20:45,481] Trial 579 finished with value: 9.563975993955243 and parameters: {'x': 1.0383324818435342, 'y': 0.7689013139752165}. Best is trial 540 with value: 0.001821630667734238.\n",
            "[I 2023-12-31 08:20:45,497] Trial 580 finished with value: 8.432673919535262 and parameters: {'x': 0.8264322470402143, 'y': 0.9728617503828106}. Best is trial 540 with value: 0.001821630667734238.\n",
            "[I 2023-12-31 08:20:45,515] Trial 581 finished with value: 12.033552524127026 and parameters: {'x': 0.9442167837679661, 'y': 1.2383945924521456}. Best is trial 540 with value: 0.001821630667734238.\n",
            "[I 2023-12-31 08:20:45,532] Trial 582 finished with value: 0.7483055836785996 and parameters: {'x': 0.8839734946666089, 'y': 0.8671321486544017}. Best is trial 540 with value: 0.001821630667734238.\n",
            "[I 2023-12-31 08:20:45,550] Trial 583 finished with value: 3.0444380941336386 and parameters: {'x': 1.1082928221839787, 'y': 1.0541661807446545}. Best is trial 540 with value: 0.001821630667734238.\n",
            "[I 2023-12-31 08:20:45,570] Trial 584 finished with value: 6.227254915849347 and parameters: {'x': 1.0009888032477519, 'y': 0.7524339201265791}. Best is trial 540 with value: 0.001821630667734238.\n",
            "[I 2023-12-31 08:20:45,587] Trial 585 finished with value: 5.52395534277413 and parameters: {'x': 0.7938173908870392, 'y': 0.8642708901595103}. Best is trial 540 with value: 0.001821630667734238.\n",
            "[I 2023-12-31 08:20:45,604] Trial 586 finished with value: 1.7163029420833915 and parameters: {'x': 0.9158472468331272, 'y': 0.9695133684345114}. Best is trial 540 with value: 0.001821630667734238.\n",
            "[I 2023-12-31 08:20:45,623] Trial 587 finished with value: 9.746174966368807 and parameters: {'x': 1.053203972396385, 'y': 0.7970953021822713}. Best is trial 540 with value: 0.001821630667734238.\n",
            "[I 2023-12-31 08:20:45,639] Trial 588 finished with value: 3.2527431717456277 and parameters: {'x': 0.8534670357113654, 'y': 0.9081633525810899}. Best is trial 540 with value: 0.001821630667734238.\n",
            "[I 2023-12-31 08:20:45,657] Trial 589 finished with value: 5.77804276083324 and parameters: {'x': 0.9793608883372937, 'y': 0.7187810133890252}. Best is trial 540 with value: 0.001821630667734238.\n",
            "[I 2023-12-31 08:20:45,674] Trial 590 finished with value: 16.601970732650887 and parameters: {'x': 0.7902200385944793, 'y': 1.0313624805762163}. Best is trial 540 with value: 0.001821630667734238.\n",
            "[I 2023-12-31 08:20:45,693] Trial 591 finished with value: 0.399352961394667 and parameters: {'x': 0.9317402537315096, 'y': 0.8053152580900935}. Best is trial 540 with value: 0.001821630667734238.\n",
            "[I 2023-12-31 08:20:45,710] Trial 592 finished with value: 5.992517531043848 and parameters: {'x': 1.1609503640257803, 'y': 1.1035392434506361}. Best is trial 540 with value: 0.001821630667734238.\n",
            "[I 2023-12-31 08:20:45,726] Trial 593 finished with value: 3.760713631853689 and parameters: {'x': 1.056500513977135, 'y': 0.9223500662572053}. Best is trial 540 with value: 0.001821630667734238.\n",
            "[I 2023-12-31 08:20:45,742] Trial 594 finished with value: 0.8777440250381252 and parameters: {'x': 0.8659302529705396, 'y': 0.8425589501281242}. Best is trial 540 with value: 0.001821630667734238.\n",
            "[I 2023-12-31 08:20:45,760] Trial 595 finished with value: 284.5427805271272 and parameters: {'x': 1.5627874094043461, 'y': 0.7564039832294228}. Best is trial 540 with value: 0.001821630667734238.\n",
            "[I 2023-12-31 08:20:45,780] Trial 596 finished with value: 1.1581008080379958 and parameters: {'x': 0.7732891941421968, 'y': 0.7031761311299913}. Best is trial 540 with value: 0.001821630667734238.\n",
            "[I 2023-12-31 08:20:45,798] Trial 597 finished with value: 0.014489874852457682 and parameters: {'x': 0.9910877095663675, 'y': 0.994259199735996}. Best is trial 540 with value: 0.001821630667734238.\n",
            "[I 2023-12-31 08:20:45,819] Trial 598 finished with value: 23.686756751063292 and parameters: {'x': 1.2816473836478255, 'y': 1.1567452224446237}. Best is trial 540 with value: 0.001821630667734238.\n",
            "[I 2023-12-31 08:20:45,835] Trial 599 finished with value: 1.311626101767212 and parameters: {'x': 1.1534688306432916, 'y': 1.2169970210044143}. Best is trial 540 with value: 0.001821630667734238.\n",
            "[I 2023-12-31 08:20:45,852] Trial 600 finished with value: 0.24850781683570036 and parameters: {'x': 1.0051575107540978, 'y': 1.0601895117436737}. Best is trial 540 with value: 0.001821630667734238.\n",
            "[I 2023-12-31 08:20:45,872] Trial 601 finished with value: 3.176779412553621 and parameters: {'x': 1.0954137985898902, 'y': 1.0219517390685375}. Best is trial 540 with value: 0.001821630667734238.\n",
            "[I 2023-12-31 08:20:45,897] Trial 602 finished with value: 256.8241820638658 and parameters: {'x': 1.0156273157990139, 'y': -0.5710738927563832}. Best is trial 540 with value: 0.001821630667734238.\n",
            "[I 2023-12-31 08:20:45,914] Trial 603 finished with value: 26.649879158257818 and parameters: {'x': 0.9136167237109574, 'y': 1.3508584483985961}. Best is trial 540 with value: 0.001821630667734238.\n",
            "[I 2023-12-31 08:20:45,931] Trial 604 finished with value: 0.004158595227279669 and parameters: {'x': 0.9818082378656523, 'y': 0.9701342204615505}. Best is trial 540 with value: 0.001821630667734238.\n",
            "[I 2023-12-31 08:20:45,947] Trial 605 finished with value: 2.4205322526487394 and parameters: {'x': 1.1268225477559404, 'y': 1.1146662186731255}. Best is trial 540 with value: 0.001821630667734238.\n",
            "[I 2023-12-31 08:20:45,965] Trial 606 finished with value: 499.1542196553318 and parameters: {'x': -1.7874582271537198, 'y': 0.9782879503800738}. Best is trial 540 with value: 0.001821630667734238.\n",
            "[I 2023-12-31 08:20:45,985] Trial 607 finished with value: 18.59261325549472 and parameters: {'x': 1.194068775420548, 'y': 0.9950456633733107}. Best is trial 540 with value: 0.001821630667734238.\n",
            "[I 2023-12-31 08:20:46,002] Trial 608 finished with value: 0.24617339595686272 and parameters: {'x': 1.0551709896438264, 'y': 1.0640776478946008}. Best is trial 540 with value: 0.001821630667734238.\n",
            "[I 2023-12-31 08:20:46,021] Trial 609 finished with value: 0.02642922463015418 and parameters: {'x': 0.958406333079107, 'y': 0.9342586757121305}. Best is trial 540 with value: 0.001821630667734238.\n",
            "[I 2023-12-31 08:20:46,040] Trial 610 finished with value: 0.2814379100121376 and parameters: {'x': 1.002200091930431, 'y': 0.9513547585160173}. Best is trial 540 with value: 0.001821630667734238.\n",
            "[I 2023-12-31 08:20:46,058] Trial 611 finished with value: 0.04171512392644258 and parameters: {'x': 1.0773618001693113, 'y': 1.1418059947077326}. Best is trial 540 with value: 0.001821630667734238.\n",
            "[I 2023-12-31 08:20:46,075] Trial 612 finished with value: 1.1895554377322415 and parameters: {'x': 1.1340975229179393, 'y': 1.1779379522045312}. Best is trial 540 with value: 0.001821630667734238.\n",
            "[I 2023-12-31 08:20:46,092] Trial 613 finished with value: 12.54511525225625 and parameters: {'x': 1.2252614855895785, 'y': 1.1477919110860633}. Best is trial 540 with value: 0.001821630667734238.\n",
            "[I 2023-12-31 08:20:46,110] Trial 614 finished with value: 27.596627054656402 and parameters: {'x': 1.3276233429662936, 'y': 1.238281442493443}. Best is trial 540 with value: 0.001821630667734238.\n",
            "[I 2023-12-31 08:20:46,126] Trial 615 finished with value: 0.1527927659352166 and parameters: {'x': 1.1043524995978984, 'y': 1.2572645006766685}. Best is trial 540 with value: 0.001821630667734238.\n",
            "[I 2023-12-31 08:20:46,144] Trial 616 finished with value: 0.7394647294701471 and parameters: {'x': 1.0761001121259404, 'y': 1.0723367081677346}. Best is trial 540 with value: 0.001821630667734238.\n",
            "[I 2023-12-31 08:20:46,163] Trial 617 finished with value: 0.7715870893183258 and parameters: {'x': 1.0005148766699283, 'y': 1.0888700334777053}. Best is trial 540 with value: 0.001821630667734238.\n",
            "[I 2023-12-31 08:20:46,181] Trial 618 finished with value: 8.800703496253627 and parameters: {'x': 1.1985240832322694, 'y': 1.1404651861634612}. Best is trial 540 with value: 0.001821630667734238.\n",
            "[I 2023-12-31 08:20:46,198] Trial 619 finished with value: 3.677581650069571 and parameters: {'x': 1.0578442837132225, 'y': 1.310717487892846}. Best is trial 540 with value: 0.001821630667734238.\n",
            "[I 2023-12-31 08:20:46,215] Trial 620 finished with value: 81.44854766382247 and parameters: {'x': 0.34236974876912113, 'y': 1.0173063188694746}. Best is trial 540 with value: 0.001821630667734238.\n",
            "[I 2023-12-31 08:20:46,232] Trial 621 finished with value: 0.004463562086230612 and parameters: {'x': 0.9726847535185233, 'y': 0.9522127105009138}. Best is trial 540 with value: 0.001821630667734238.\n",
            "[I 2023-12-31 08:20:46,251] Trial 622 finished with value: 19.20476221806981 and parameters: {'x': 1.2067711033314827, 'y': 1.0185521877187267}. Best is trial 540 with value: 0.001821630667734238.\n",
            "[I 2023-12-31 08:20:46,269] Trial 623 finished with value: 0.013651139777506472 and parameters: {'x': 1.0950918107645813, 'y': 1.1924373426766492}. Best is trial 540 with value: 0.001821630667734238.\n",
            "[I 2023-12-31 08:20:46,286] Trial 624 finished with value: 9.280388608634171 and parameters: {'x': 1.2603596542399647, 'y': 1.2849837824566406}. Best is trial 540 with value: 0.001821630667734238.\n",
            "[I 2023-12-31 08:20:46,303] Trial 625 finished with value: 1.2186509569795334 and parameters: {'x': 1.1688975965806714, 'y': 1.4754144214345137}. Best is trial 540 with value: 0.001821630667734238.\n",
            "[I 2023-12-31 08:20:46,321] Trial 626 finished with value: 0.06531986593187135 and parameters: {'x': 1.10291826027381, 'y': 1.1930347371411563}. Best is trial 540 with value: 0.001821630667734238.\n",
            "[I 2023-12-31 08:20:46,338] Trial 627 finished with value: 0.6548768039044233 and parameters: {'x': 1.145466113939291, 'y': 1.39169892532023}. Best is trial 540 with value: 0.001821630667734238.\n",
            "[I 2023-12-31 08:20:46,356] Trial 628 finished with value: 0.43200788194912815 and parameters: {'x': 1.0626341937198955, 'y': 1.194619622341897}. Best is trial 540 with value: 0.001821630667734238.\n",
            "[I 2023-12-31 08:20:46,373] Trial 629 finished with value: 79.40573744873393 and parameters: {'x': 1.4164905679569368, 'y': 1.1163204083805323}. Best is trial 540 with value: 0.001821630667734238.\n",
            "[I 2023-12-31 08:20:46,391] Trial 630 finished with value: 3.744988453290872 and parameters: {'x': 1.0080225408731613, 'y': 1.209627506461346}. Best is trial 540 with value: 0.001821630667734238.\n",
            "[I 2023-12-31 08:20:46,409] Trial 631 finished with value: 0.49025646212056234 and parameters: {'x': 1.086901412630444, 'y': 1.1118777344862525}. Best is trial 540 with value: 0.001821630667734238.\n",
            "[I 2023-12-31 08:20:46,429] Trial 632 finished with value: 11.362560715922283 and parameters: {'x': 1.2872743801659148, 'y': 1.3212177090095232}. Best is trial 540 with value: 0.001821630667734238.\n",
            "[I 2023-12-31 08:20:46,445] Trial 633 finished with value: 1.1761816726166403 and parameters: {'x': 0.9934309861472754, 'y': 1.0953550445083184}. Best is trial 540 with value: 0.001821630667734238.\n",
            "[I 2023-12-31 08:20:46,460] Trial 634 finished with value: 17.176398505338053 and parameters: {'x': 1.2005614578598554, 'y': 1.0273891977254082}. Best is trial 540 with value: 0.001821630667734238.\n",
            "[I 2023-12-31 08:20:46,481] Trial 635 finished with value: 145.46225715487478 and parameters: {'x': 0.1944791007967266, 'y': 1.241206486657088}. Best is trial 540 with value: 0.001821630667734238.\n",
            "[I 2023-12-31 08:20:46,497] Trial 636 finished with value: 1.8432997139198586 and parameters: {'x': 1.0493568586685593, 'y': 0.9654713876566999}. Best is trial 540 with value: 0.001821630667734238.\n",
            "[I 2023-12-31 08:20:46,514] Trial 637 finished with value: 4.05706172940592 and parameters: {'x': 0.9735156119090352, 'y': 1.1491367257003722}. Best is trial 540 with value: 0.001821630667734238.\n",
            "[I 2023-12-31 08:20:46,532] Trial 638 finished with value: 7.465839766726686 and parameters: {'x': 1.1471775560540456, 'y': 1.043176125686706}. Best is trial 540 with value: 0.001821630667734238.\n",
            "[I 2023-12-31 08:20:46,550] Trial 639 finished with value: 0.020734218913164393 and parameters: {'x': 0.9766374527160966, 'y': 0.9396121214723152}. Best is trial 540 with value: 0.001821630667734238.\n",
            "[I 2023-12-31 08:20:46,566] Trial 640 finished with value: 5.60927187219796 and parameters: {'x': 1.0932687311491056, 'y': 0.9585812245471416}. Best is trial 540 with value: 0.001821630667734238.\n",
            "[I 2023-12-31 08:20:46,585] Trial 641 finished with value: 0.019450342471925366 and parameters: {'x': 1.0215497126039532, 'y': 1.0573427675160028}. Best is trial 540 with value: 0.001821630667734238.\n",
            "[I 2023-12-31 08:20:46,602] Trial 642 finished with value: 3.59420660720173 and parameters: {'x': 1.1479655093360188, 'y': 1.1288191806759245}. Best is trial 540 with value: 0.001821630667734238.\n",
            "[I 2023-12-31 08:20:46,620] Trial 643 finished with value: 0.0027481445033371837 and parameters: {'x': 1.0354747550846777, 'y': 1.0683483230259057}. Best is trial 540 with value: 0.001821630667734238.\n",
            "[I 2023-12-31 08:20:46,637] Trial 644 finished with value: 7.177128117287578 and parameters: {'x': 1.202436576208396, 'y': 1.1787180323731943}. Best is trial 540 with value: 0.001821630667734238.\n",
            "[I 2023-12-31 08:20:46,655] Trial 645 finished with value: 13.09445921339315 and parameters: {'x': 1.283034154055595, 'y': 1.2854225569060926}. Best is trial 540 with value: 0.001821630667734238.\n",
            "[I 2023-12-31 08:20:46,674] Trial 646 finished with value: 0.12747662523197417 and parameters: {'x': 1.0660591394369952, 'y': 1.1013946529448124}. Best is trial 540 with value: 0.001821630667734238.\n",
            "[I 2023-12-31 08:20:46,693] Trial 647 finished with value: 3.62173327283719 and parameters: {'x': 1.1221111738155716, 'y': 1.069217132865089}. Best is trial 540 with value: 0.001821630667734238.\n",
            "[I 2023-12-31 08:20:46,712] Trial 648 finished with value: 3.385102383461204 and parameters: {'x': 1.0120832140159968, 'y': 1.2082949415714395}. Best is trial 540 with value: 0.001821630667734238.\n",
            "[I 2023-12-31 08:20:46,733] Trial 649 finished with value: 1.2704598227067478 and parameters: {'x': 1.0755723129411057, 'y': 1.0443947560779807}. Best is trial 540 with value: 0.001821630667734238.\n",
            "[I 2023-12-31 08:20:46,752] Trial 650 finished with value: 11.350180309786662 and parameters: {'x': 1.0262955836589687, 'y': 1.3901726494088646}. Best is trial 540 with value: 0.001821630667734238.\n",
            "[I 2023-12-31 08:20:46,770] Trial 651 finished with value: 14.973828683221875 and parameters: {'x': 1.1867561185625155, 'y': 1.021880695209673}. Best is trial 540 with value: 0.001821630667734238.\n",
            "[I 2023-12-31 08:20:46,788] Trial 652 finished with value: 2.245241417506396 and parameters: {'x': 0.993283065259878, 'y': 1.1364510388522449}. Best is trial 540 with value: 0.001821630667734238.\n",
            "[I 2023-12-31 08:20:46,809] Trial 653 finished with value: 8.854997899420834 and parameters: {'x': 1.13063531541218, 'y': 0.9810496154508981}. Best is trial 540 with value: 0.001821630667734238.\n",
            "[I 2023-12-31 08:20:46,827] Trial 654 finished with value: 0.7933690607132501 and parameters: {'x': 1.0779401250282237, 'y': 1.0732253015371196}. Best is trial 540 with value: 0.001821630667734238.\n",
            "[I 2023-12-31 08:20:46,845] Trial 655 finished with value: 0.14036365523587627 and parameters: {'x': 0.9770432079867752, 'y': 0.9920081679959742}. Best is trial 540 with value: 0.001821630667734238.\n",
            "[I 2023-12-31 08:20:46,863] Trial 656 finished with value: 10.715641715486663 and parameters: {'x': 1.248981393724299, 'y': 1.233555226817163}. Best is trial 540 with value: 0.001821630667734238.\n",
            "[I 2023-12-31 08:20:46,882] Trial 657 finished with value: 0.7499057287430888 and parameters: {'x': 1.0254453195174145, 'y': 1.1380978089838207}. Best is trial 540 with value: 0.001821630667734238.\n",
            "[I 2023-12-31 08:20:46,904] Trial 658 finished with value: 1.511676995099312 and parameters: {'x': 0.9511031044489936, 'y': 1.027450120494046}. Best is trial 540 with value: 0.001821630667734238.\n",
            "[I 2023-12-31 08:20:46,927] Trial 659 finished with value: 17.51648530510776 and parameters: {'x': 1.1666214313064363, 'y': 0.9428103631055009}. Best is trial 540 with value: 0.001821630667734238.\n",
            "[I 2023-12-31 08:20:46,944] Trial 660 finished with value: 64.86897369253448 and parameters: {'x': 1.3686466925938043, 'y': 1.0686251063939711}. Best is trial 540 with value: 0.001821630667734238.\n",
            "[I 2023-12-31 08:20:46,965] Trial 661 finished with value: 1.7377833829290248 and parameters: {'x': 1.0383871853406688, 'y': 0.9464788377455414}. Best is trial 540 with value: 0.001821630667734238.\n",
            "[I 2023-12-31 08:20:46,981] Trial 662 finished with value: 18.273622517740403 and parameters: {'x': 0.9368837615983769, 'y': 1.3051811636581063}. Best is trial 540 with value: 0.001821630667734238.\n",
            "[I 2023-12-31 08:20:47,000] Trial 663 finished with value: 0.9512302335695579 and parameters: {'x': 1.1254732295967766, 'y': 1.1699694290112599}. Best is trial 540 with value: 0.001821630667734238.\n",
            "[I 2023-12-31 08:20:47,019] Trial 664 finished with value: 68.5282414152556 and parameters: {'x': 0.9816674753755318, 'y': 1.7914868651935487}. Best is trial 540 with value: 0.001821630667734238.\n",
            "[I 2023-12-31 08:20:47,039] Trial 665 finished with value: 3.3170165091698753 and parameters: {'x': 1.065704395907695, 'y': 0.9537176332272821}. Best is trial 540 with value: 0.001821630667734238.\n",
            "[I 2023-12-31 08:20:47,060] Trial 666 finished with value: 3.097862298757984 and parameters: {'x': 0.9243345401954014, 'y': 1.0302390758967699}. Best is trial 540 with value: 0.001821630667734238.\n",
            "[I 2023-12-31 08:20:47,078] Trial 667 finished with value: 5.395281089535516 and parameters: {'x': 1.0770857825825653, 'y': 0.9279642865600456}. Best is trial 540 with value: 0.001821630667734238.\n",
            "[I 2023-12-31 08:20:47,093] Trial 668 finished with value: 11.644670693478869 and parameters: {'x': 1.2444013591038083, 'y': 1.20816819498887}. Best is trial 540 with value: 0.001821630667734238.\n",
            "[I 2023-12-31 08:20:47,114] Trial 669 finished with value: 2.2630301914948254 and parameters: {'x': 0.9824865018444088, 'y': 1.1157032440447872}. Best is trial 540 with value: 0.001821630667734238.\n",
            "[I 2023-12-31 08:20:47,132] Trial 670 finished with value: 3.0386123065875354 and parameters: {'x': 0.911069521719682, 'y': 1.004136836671231}. Best is trial 540 with value: 0.001821630667734238.\n",
            "[I 2023-12-31 08:20:47,150] Trial 671 finished with value: 13.593340051941865 and parameters: {'x': 1.1372012862812886, 'y': 0.9247906671393162}. Best is trial 540 with value: 0.001821630667734238.\n",
            "[I 2023-12-31 08:20:47,168] Trial 672 finished with value: 88.46023681082042 and parameters: {'x': -1.4079912856918808, 'y': 1.0732540296690392}. Best is trial 540 with value: 0.001821630667734238.\n",
            "[I 2023-12-31 08:20:47,187] Trial 673 finished with value: 1.376210153957704 and parameters: {'x': 1.0181600032198446, 'y': 0.9193518651399659}. Best is trial 540 with value: 0.001821630667734238.\n",
            "[I 2023-12-31 08:20:47,205] Trial 674 finished with value: 1.0147298821956057 and parameters: {'x': 0.9466621338874002, 'y': 0.9967616882112891}. Best is trial 540 with value: 0.001821630667734238.\n",
            "[I 2023-12-31 08:20:47,226] Trial 675 finished with value: 0.10308554022985342 and parameters: {'x': 1.0839884195573308, 'y': 1.1440419464127958}. Best is trial 540 with value: 0.001821630667734238.\n",
            "[I 2023-12-31 08:20:47,245] Trial 676 finished with value: 6.151632099474204 and parameters: {'x': 0.9073307792199008, 'y': 1.0711008024864415}. Best is trial 540 with value: 0.001821630667734238.\n",
            "[I 2023-12-31 08:20:47,268] Trial 677 finished with value: 78.895161731393 and parameters: {'x': -0.1321309382885606, 'y': 0.8984434954500293}. Best is trial 540 with value: 0.001821630667734238.\n",
            "[I 2023-12-31 08:20:47,286] Trial 678 finished with value: 4.838678802386902 and parameters: {'x': 1.0192974384089586, 'y': 1.2589287739261281}. Best is trial 540 with value: 0.001821630667734238.\n",
            "[I 2023-12-31 08:20:47,305] Trial 679 finished with value: 2943.853306288413 and parameters: {'x': 1.9646914657875836, 'y': -1.5648585732968994}. Best is trial 540 with value: 0.001821630667734238.\n",
            "[I 2023-12-31 08:20:47,325] Trial 680 finished with value: 0.40390848616805103 and parameters: {'x': 0.97427323712601, 'y': 1.0127100429067886}. Best is trial 540 with value: 0.001821630667734238.\n",
            "[I 2023-12-31 08:20:47,343] Trial 681 finished with value: 26.982337853487834 and parameters: {'x': 1.185842372679634, 'y': 0.8871094238282787}. Best is trial 540 with value: 0.001821630667734238.\n",
            "[I 2023-12-31 08:20:47,362] Trial 682 finished with value: 16.7141240298896 and parameters: {'x': 0.8798161767528668, 'y': 1.1827289229346958}. Best is trial 540 with value: 0.001821630667734238.\n",
            "[I 2023-12-31 08:20:47,383] Trial 683 finished with value: 51.71475430163996 and parameters: {'x': 1.0860288593131022, 'y': 1.8985369358663298}. Best is trial 540 with value: 0.001821630667734238.\n",
            "[I 2023-12-31 08:20:47,404] Trial 684 finished with value: 0.37482900716786993 and parameters: {'x': 1.0163710821482792, 'y': 0.9718087881759255}. Best is trial 540 with value: 0.001821630667734238.\n",
            "[I 2023-12-31 08:20:47,422] Trial 685 finished with value: 8.171394141518489 and parameters: {'x': 0.8863521088957873, 'y': 1.0712505617377108}. Best is trial 540 with value: 0.001821630667734238.\n",
            "[I 2023-12-31 08:20:47,442] Trial 686 finished with value: 17.229786608864444 and parameters: {'x': 0.9602219899203849, 'y': 1.337094990969078}. Best is trial 540 with value: 0.001821630667734238.\n",
            "[I 2023-12-31 08:20:47,461] Trial 687 finished with value: 41.66462260377054 and parameters: {'x': 1.2417081508918684, 'y': 0.896810452213706}. Best is trial 540 with value: 0.001821630667734238.\n",
            "[I 2023-12-31 08:20:47,478] Trial 688 finished with value: 580.7884956924731 and parameters: {'x': 1.8393821319115782, 'y': 0.9748334606511956}. Best is trial 540 with value: 0.001821630667734238.\n",
            "[I 2023-12-31 08:20:47,498] Trial 689 finished with value: 15.892083436947225 and parameters: {'x': -0.869608148071239, 'y': 1.1083070815036948}. Best is trial 540 with value: 0.001821630667734238.\n",
            "[I 2023-12-31 08:20:47,518] Trial 690 finished with value: 15.777342141325203 and parameters: {'x': 1.1298902492600886, 'y': 0.8796573826583088}. Best is trial 540 with value: 0.001821630667734238.\n",
            "[I 2023-12-31 08:20:47,537] Trial 691 finished with value: 0.4940598589359441 and parameters: {'x': 1.0420727753601517, 'y': 1.0157523068763594}. Best is trial 540 with value: 0.001821630667734238.\n",
            "[I 2023-12-31 08:20:47,553] Trial 692 finished with value: 16.401437508031474 and parameters: {'x': 0.8863863966719479, 'y': 1.1905083316262068}. Best is trial 540 with value: 0.001821630667734238.\n",
            "[I 2023-12-31 08:20:47,572] Trial 693 finished with value: 0.002632492629392521 and parameters: {'x': 0.9634196812587832, 'y': 0.9245797427934812}. Best is trial 540 with value: 0.001821630667734238.\n",
            "[I 2023-12-31 08:20:47,591] Trial 694 finished with value: 1.107898248709203 and parameters: {'x': 0.8730891813925046, 'y': 0.866773564616227}. Best is trial 540 with value: 0.001821630667734238.\n",
            "[I 2023-12-31 08:20:47,609] Trial 695 finished with value: 0.14880090974323604 and parameters: {'x': 0.9546427208561823, 'y': 0.9496498552783531}. Best is trial 540 with value: 0.001821630667734238.\n",
            "[I 2023-12-31 08:20:47,628] Trial 696 finished with value: 1.0424904607687555 and parameters: {'x': 0.8700363090045086, 'y': 0.8582350852480728}. Best is trial 540 with value: 0.001821630667734238.\n",
            "[I 2023-12-31 08:20:47,647] Trial 697 finished with value: 25.528410125762424 and parameters: {'x': -0.6617133162298361, 'y': 0.9150135355137509}. Best is trial 540 with value: 0.001821630667734238.\n",
            "[I 2023-12-31 08:20:47,665] Trial 698 finished with value: 193.90726024944925 and parameters: {'x': 0.9593459949166512, 'y': -0.4721551992054941}. Best is trial 540 with value: 0.001821630667734238.\n",
            "[I 2023-12-31 08:20:47,686] Trial 699 finished with value: 64.99133336040926 and parameters: {'x': 0.8569440746804612, 'y': 1.540398234967104}. Best is trial 540 with value: 0.001821630667734238.\n",
            "[I 2023-12-31 08:20:47,704] Trial 700 finished with value: 0.5944077018031816 and parameters: {'x': 0.9598103614411796, 'y': 0.8442429111063406}. Best is trial 540 with value: 0.001821630667734238.\n",
            "[I 2023-12-31 08:20:47,723] Trial 701 finished with value: 0.2003029706110181 and parameters: {'x': 1.0180986243811394, 'y': 0.9918061987014071}. Best is trial 540 with value: 0.001821630667734238.\n",
            "[I 2023-12-31 08:20:47,742] Trial 702 finished with value: 0.9362088152091712 and parameters: {'x': 0.9307375514291029, 'y': 0.9627820538416645}. Best is trial 540 with value: 0.001821630667734238.\n",
            "[I 2023-12-31 08:20:47,760] Trial 703 finished with value: 2.0696119300619467 and parameters: {'x': 0.8374547295562906, 'y': 0.8442706551011484}. Best is trial 540 with value: 0.001821630667734238.\n",
            "[I 2023-12-31 08:20:47,777] Trial 704 finished with value: 1.001268730774555 and parameters: {'x': 1.0165854715348919, 'y': 0.9333963506260908}. Best is trial 540 with value: 0.001821630667734238.\n",
            "[I 2023-12-31 08:20:47,799] Trial 705 finished with value: 5.0777603299697365 and parameters: {'x': 1.1282737132377334, 'y': 1.0480281027816272}. Best is trial 540 with value: 0.001821630667734238.\n",
            "[I 2023-12-31 08:20:47,817] Trial 706 finished with value: 0.29948295296694455 and parameters: {'x': 0.9171961985493039, 'y': 0.8953438278988555}. Best is trial 540 with value: 0.001821630667734238.\n",
            "[I 2023-12-31 08:20:47,836] Trial 707 finished with value: 8.581353341730003 and parameters: {'x': 0.8563787871037767, 'y': 1.0259718155270163}. Best is trial 540 with value: 0.001821630667734238.\n",
            "[I 2023-12-31 08:20:47,854] Trial 708 finished with value: 4.1927095490123065 and parameters: {'x': 1.0162644762596127, 'y': 0.8280388760930747}. Best is trial 540 with value: 0.001821630667734238.\n",
            "[I 2023-12-31 08:20:47,873] Trial 709 finished with value: 4.352966329469229 and parameters: {'x': 1.0682632963337402, 'y': 0.9326605378095716}. Best is trial 540 with value: 0.001821630667734238.\n",
            "[I 2023-12-31 08:20:47,892] Trial 710 finished with value: 2.3091291666568687 and parameters: {'x': 0.9526093098798576, 'y': 1.059348771937922}. Best is trial 540 with value: 0.001821630667734238.\n",
            "[I 2023-12-31 08:20:47,914] Trial 711 finished with value: 1.7113016825596912 and parameters: {'x': 0.841509722769965, 'y': 0.8379917041451104}. Best is trial 540 with value: 0.001821630667734238.\n",
            "[I 2023-12-31 08:20:47,939] Trial 712 finished with value: 15.983725921895882 and parameters: {'x': 1.175610497439262, 'y': 0.9826493899149902}. Best is trial 540 with value: 0.001821630667734238.\n",
            "[I 2023-12-31 08:20:47,959] Trial 713 finished with value: 0.2643379997302262 and parameters: {'x': 0.9283048392864616, 'y': 0.9126613471867261}. Best is trial 540 with value: 0.001821630667734238.\n",
            "[I 2023-12-31 08:20:47,977] Trial 714 finished with value: 0.6188985010632058 and parameters: {'x': 1.074341822021057, 'y': 1.0758922942243208}. Best is trial 540 with value: 0.001821630667734238.\n",
            "[I 2023-12-31 08:20:47,995] Trial 715 finished with value: 3.3931655293272938 and parameters: {'x': 1.0045757812831735, 'y': 0.824967598355085}. Best is trial 540 with value: 0.001821630667734238.\n",
            "[I 2023-12-31 08:20:48,014] Trial 716 finished with value: 1.790273301608661 and parameters: {'x': 0.9130680728664284, 'y': 0.9672116992393704}. Best is trial 540 with value: 0.001821630667734238.\n",
            "[I 2023-12-31 08:20:48,030] Trial 717 finished with value: 5.667383394278036 and parameters: {'x': 0.8021718179887511, 'y': 0.8807189015117238}. Best is trial 540 with value: 0.001821630667734238.\n",
            "[I 2023-12-31 08:20:48,052] Trial 718 finished with value: 3.9333815979545306 and parameters: {'x': 1.111080814421479, 'y': 1.0364843482894475}. Best is trial 540 with value: 0.001821630667734238.\n",
            "[I 2023-12-31 08:20:48,070] Trial 719 finished with value: 0.5626498656095804 and parameters: {'x': 1.0096971679215232, 'y': 1.094492092852651}. Best is trial 540 with value: 0.001821630667734238.\n",
            "[I 2023-12-31 08:20:48,089] Trial 720 finished with value: 91.51588086966635 and parameters: {'x': 1.3230175491439091, 'y': 0.7942816087095568}. Best is trial 540 with value: 0.001821630667734238.\n",
            "[I 2023-12-31 08:20:48,106] Trial 721 finished with value: 4.481462067880117 and parameters: {'x': 0.8505671931496888, 'y': 0.9346311171160618}. Best is trial 540 with value: 0.001821630667734238.\n",
            "[I 2023-12-31 08:20:48,127] Trial 722 finished with value: 1.1630217083624865 and parameters: {'x': 0.9629695967236928, 'y': 0.8195305547358811}. Best is trial 540 with value: 0.001821630667734238.\n",
            "[I 2023-12-31 08:20:48,146] Trial 723 finished with value: 19.94194458767282 and parameters: {'x': 1.1950647073995317, 'y': 0.9820418471532824}. Best is trial 540 with value: 0.001821630667734238.\n",
            "[I 2023-12-31 08:20:48,165] Trial 724 finished with value: 346.84224872411704 and parameters: {'x': 1.0702782779091147, 'y': -0.7168612739809768}. Best is trial 540 with value: 0.001821630667734238.\n",
            "[I 2023-12-31 08:20:48,184] Trial 725 finished with value: 10.588748955017849 and parameters: {'x': 0.9044220923206836, 'y': 1.1432425040324112}. Best is trial 540 with value: 0.001821630667734238.\n",
            "[I 2023-12-31 08:20:48,205] Trial 726 finished with value: 4.998129933148217 and parameters: {'x': 0.8133015690344096, 'y': 0.8842434997254074}. Best is trial 540 with value: 0.001821630667734238.\n",
            "[I 2023-12-31 08:20:48,223] Trial 727 finished with value: 0.037322328964423196 and parameters: {'x': 0.9886777756599163, 'y': 0.9967695254266883}. Best is trial 540 with value: 0.001821630667734238.\n",
            "[I 2023-12-31 08:20:48,242] Trial 728 finished with value: 5.705338230929009 and parameters: {'x': 1.1369351933467573, 'y': 1.0541559763062396}. Best is trial 540 with value: 0.001821630667734238.\n",
            "[I 2023-12-31 08:20:48,263] Trial 729 finished with value: 0.2816792502480052 and parameters: {'x': 1.0344442637504885, 'y': 1.1230365098341055}. Best is trial 540 with value: 0.001821630667734238.\n",
            "[I 2023-12-31 08:20:48,281] Trial 730 finished with value: 0.018385827784438296 and parameters: {'x': 1.0033117207605204, 'y': 0.9930790188366025}. Best is trial 540 with value: 0.001821630667734238.\n",
            "[I 2023-12-31 08:20:48,307] Trial 731 finished with value: 4.779375944633426 and parameters: {'x': 1.1089308661965038, 'y': 1.0113813811477552}. Best is trial 540 with value: 0.001821630667734238.\n",
            "[I 2023-12-31 08:20:48,325] Trial 732 finished with value: 7.934296086879155 and parameters: {'x': 1.2410371808945828, 'y': 1.259527650790727}. Best is trial 540 with value: 0.001821630667734238.\n",
            "[I 2023-12-31 08:20:48,342] Trial 733 finished with value: 1.5615459298032999 and parameters: {'x': 1.032044430050139, 'y': 1.190036443840054}. Best is trial 540 with value: 0.001821630667734238.\n",
            "[I 2023-12-31 08:20:48,361] Trial 734 finished with value: 8.293663600615433 and parameters: {'x': 1.1784709550233865, 'y': 1.1013601174177299}. Best is trial 540 with value: 0.001821630667734238.\n",
            "[I 2023-12-31 08:20:48,377] Trial 735 finished with value: 4.5925376813939405 and parameters: {'x': 1.0798696974563096, 'y': 0.9519653820272251}. Best is trial 540 with value: 0.001821630667734238.\n",
            "[I 2023-12-31 08:20:48,397] Trial 736 finished with value: 1.3562925845980316 and parameters: {'x': 0.9570358747664658, 'y': 1.032298362809998}. Best is trial 540 with value: 0.001821630667734238.\n",
            "[I 2023-12-31 08:20:48,416] Trial 737 finished with value: 0.3692884510508011 and parameters: {'x': 0.9489502947246276, 'y': 0.9610609662996814}. Best is trial 540 with value: 0.001821630667734238.\n",
            "[I 2023-12-31 08:20:48,435] Trial 738 finished with value: 4.594362801365365 and parameters: {'x': 1.0539707774950324, 'y': 0.896577710541366}. Best is trial 540 with value: 0.001821630667734238.\n",
            "[I 2023-12-31 08:20:48,453] Trial 739 finished with value: 0.7555692633826382 and parameters: {'x': 0.8987311512584841, 'y': 0.8940492456278276}. Best is trial 540 with value: 0.001821630667734238.\n",
            "[I 2023-12-31 08:20:48,471] Trial 740 finished with value: 0.6609042271801243 and parameters: {'x': 1.002854919387126, 'y': 1.087013504382251}. Best is trial 540 with value: 0.001821630667734238.\n",
            "[I 2023-12-31 08:20:48,497] Trial 741 finished with value: 200.75697168648102 and parameters: {'x': -0.008195495164744316, 'y': 1.4133630075344756}. Best is trial 540 with value: 0.001821630667734238.\n",
            "[I 2023-12-31 08:20:48,524] Trial 742 finished with value: 4.871816137772226 and parameters: {'x': 1.1900940642267697, 'y': 1.1964220767011473}. Best is trial 540 with value: 0.001821630667734238.\n",
            "[I 2023-12-31 08:20:48,554] Trial 743 finished with value: 5.600360255793924 and parameters: {'x': 1.11605249487936, 'y': 1.0092070977408676}. Best is trial 540 with value: 0.001821630667734238.\n",
            "[I 2023-12-31 08:20:48,580] Trial 744 finished with value: 232.0075582026561 and parameters: {'x': -1.5575629138038303, 'y': 0.924448268241296}. Best is trial 540 with value: 0.001821630667734238.\n",
            "[I 2023-12-31 08:20:48,608] Trial 745 finished with value: 4.652984963227559 and parameters: {'x': 0.950044983676835, 'y': 1.1182354063114257}. Best is trial 540 with value: 0.001821630667734238.\n",
            "[I 2023-12-31 08:20:48,634] Trial 746 finished with value: 6.933175966959341 and parameters: {'x': 0.8747746012722476, 'y': 1.0282419063332318}. Best is trial 540 with value: 0.001821630667734238.\n",
            "[I 2023-12-31 08:20:48,665] Trial 747 finished with value: 4.035679035736593 and parameters: {'x': 1.0216309774998362, 'y': 0.8428515045188958}. Best is trial 540 with value: 0.001821630667734238.\n",
            "[I 2023-12-31 08:20:48,691] Trial 748 finished with value: 2.9250767443163888 and parameters: {'x': 0.8175606340437588, 'y': 0.8384581063429787}. Best is trial 540 with value: 0.001821630667734238.\n",
            "[I 2023-12-31 08:20:48,720] Trial 749 finished with value: 8.234578188345568 and parameters: {'x': 1.1136444114637754, 'y': 0.9534694486485729}. Best is trial 540 with value: 0.001821630667734238.\n",
            "[I 2023-12-31 08:20:48,746] Trial 750 finished with value: 57.40284761605664 and parameters: {'x': 0.96766493972196, 'y': 1.6940152052461614}. Best is trial 540 with value: 0.001821630667734238.\n",
            "[I 2023-12-31 08:20:48,771] Trial 751 finished with value: 5.123805793357766 and parameters: {'x': 0.9164276028247239, 'y': 1.0660434735499646}. Best is trial 540 with value: 0.001821630667734238.\n",
            "[I 2023-12-31 08:20:48,805] Trial 752 finished with value: 37.391509215747725 and parameters: {'x': -0.5649198405454432, 'y': 0.9102565380632532}. Best is trial 540 with value: 0.001821630667734238.\n",
            "[I 2023-12-31 08:20:48,833] Trial 753 finished with value: 13.667405679367416 and parameters: {'x': 1.2744909560931237, 'y': 1.255653080979366}. Best is trial 540 with value: 0.001821630667734238.\n",
            "[I 2023-12-31 08:20:48,862] Trial 754 finished with value: 0.8247615631037913 and parameters: {'x': 1.0291152671516484, 'y': 1.1498479342145824}. Best is trial 540 with value: 0.001821630667734238.\n",
            "[I 2023-12-31 08:20:48,891] Trial 755 finished with value: 349.66813147425927 and parameters: {'x': 0.8307144776978519, 'y': -1.179778355101897}. Best is trial 540 with value: 0.001821630667734238.\n",
            "[I 2023-12-31 08:20:48,915] Trial 756 finished with value: 13.479999323462087 and parameters: {'x': 1.0746653833545228, 'y': 0.7878304295370033}. Best is trial 540 with value: 0.001821630667734238.\n",
            "[I 2023-12-31 08:20:48,952] Trial 757 finished with value: 65.88869779307618 and parameters: {'x': -0.4200117743321017, 'y': 0.975611144041547}. Best is trial 540 with value: 0.001821630667734238.\n",
            "[I 2023-12-31 08:20:48,980] Trial 758 finished with value: 0.09119540540117888 and parameters: {'x': 0.9122071309289734, 'y': 0.8610161082375649}. Best is trial 540 with value: 0.001821630667734238.\n",
            "[I 2023-12-31 08:20:49,013] Trial 759 finished with value: 0.4514945533255992 and parameters: {'x': 0.985406578606362, 'y': 1.038203620304355}. Best is trial 540 with value: 0.001821630667734238.\n",
            "[I 2023-12-31 08:20:49,040] Trial 760 finished with value: 34.714218526445165 and parameters: {'x': 1.171178383996669, 'y': 0.7827197908813223}. Best is trial 540 with value: 0.001821630667734238.\n",
            "[I 2023-12-31 08:20:49,066] Trial 761 finished with value: 10.320886969529946 and parameters: {'x': 0.7748801501518554, 'y': 0.9209108998665654}. Best is trial 540 with value: 0.001821630667734238.\n",
            "[I 2023-12-31 08:20:49,092] Trial 762 finished with value: 11.061210605983261 and parameters: {'x': 0.8773843250512288, 'y': 1.1021611332804064}. Best is trial 540 with value: 0.001821630667734238.\n",
            "[I 2023-12-31 08:20:49,119] Trial 763 finished with value: 218.01947037009583 and parameters: {'x': 1.0646147006975943, 'y': -0.34312964063072826}. Best is trial 540 with value: 0.001821630667734238.\n",
            "[I 2023-12-31 08:20:49,144] Trial 764 finished with value: 0.30021005945178986 and parameters: {'x': 0.9632094763331839, 'y': 0.982440266134263}. Best is trial 540 with value: 0.001821630667734238.\n",
            "[I 2023-12-31 08:20:49,170] Trial 765 finished with value: 14.718647660931488 and parameters: {'x': 1.1163654179410367, 'y': 0.8627993647037179}. Best is trial 540 with value: 0.001821630667734238.\n",
            "[I 2023-12-31 08:20:49,196] Trial 766 finished with value: 280.4299420656373 and parameters: {'x': 1.6878172581149924, 'y': 1.1755359855154834}. Best is trial 540 with value: 0.001821630667734238.\n",
            "[I 2023-12-31 08:20:49,224] Trial 767 finished with value: 134.44642564533007 and parameters: {'x': 1.4016553949003283, 'y': 0.8058233717343872}. Best is trial 540 with value: 0.001821630667734238.\n",
            "[I 2023-12-31 08:20:49,250] Trial 768 finished with value: 0.15507312644781673 and parameters: {'x': 1.0266784315091935, 'y': 1.0147797499053333}. Best is trial 540 with value: 0.001821630667734238.\n",
            "[I 2023-12-31 08:20:49,277] Trial 769 finished with value: 1.3416866765312505 and parameters: {'x': 0.8959006330474163, 'y': 0.9180004164566963}. Best is trial 540 with value: 0.001821630667734238.\n",
            "[I 2023-12-31 08:20:49,305] Trial 770 finished with value: 23.787080894251705 and parameters: {'x': 0.7861012133022476, 'y': 1.1052058559159268}. Best is trial 540 with value: 0.001821630667734238.\n",
            "[I 2023-12-31 08:20:49,331] Trial 771 finished with value: 2.8234366486924447 and parameters: {'x': 0.9728695975926767, 'y': 0.7784663080286258}. Best is trial 540 with value: 0.001821630667734238.\n",
            "[I 2023-12-31 08:20:49,357] Trial 772 finished with value: 6.684049169054446 and parameters: {'x': 0.8384918814004895, 'y': 0.9610989492207874}. Best is trial 540 with value: 0.001821630667734238.\n",
            "[I 2023-12-31 08:20:49,383] Trial 773 finished with value: 0.024840638312849626 and parameters: {'x': 1.1531202219131695, 'y': 1.325951495920185}. Best is trial 540 with value: 0.001821630667734238.\n",
            "[I 2023-12-31 08:20:49,415] Trial 774 finished with value: 2.4156799498311274 and parameters: {'x': 1.3002223743946972, 'y': 1.5380807974640895}. Best is trial 540 with value: 0.001821630667734238.\n",
            "[I 2023-12-31 08:20:49,441] Trial 775 finished with value: 1.5138286126347438 and parameters: {'x': 1.2375442592947967, 'y': 1.4107929152889587}. Best is trial 540 with value: 0.001821630667734238.\n",
            "[I 2023-12-31 08:20:49,467] Trial 776 finished with value: 5.750561646377899 and parameters: {'x': 1.1742964498859392, 'y': 1.1398031242463174}. Best is trial 540 with value: 0.001821630667734238.\n",
            "[I 2023-12-31 08:20:49,493] Trial 777 finished with value: 27.195661610149752 and parameters: {'x': 1.340238036646907, 'y': 1.275854485446116}. Best is trial 540 with value: 0.001821630667734238.\n",
            "[I 2023-12-31 08:20:49,521] Trial 778 finished with value: 5.8407051309201865 and parameters: {'x': 1.1773245640322938, 'y': 1.627117217702145}. Best is trial 540 with value: 0.001821630667734238.\n",
            "[I 2023-12-31 08:20:49,547] Trial 779 finished with value: 4.377544461594294 and parameters: {'x': 1.2427141896255833, 'y': 1.336525316812406}. Best is trial 540 with value: 0.001821630667734238.\n",
            "[I 2023-12-31 08:20:49,581] Trial 780 finished with value: 0.2881521586490568 and parameters: {'x': 1.1233542837185153, 'y': 1.3141681122800344}. Best is trial 540 with value: 0.001821630667734238.\n",
            "[I 2023-12-31 08:20:49,615] Trial 781 finished with value: 0.10220173092095827 and parameters: {'x': 1.1131672098696124, 'y': 1.269040219307441}. Best is trial 540 with value: 0.001821630667734238.\n",
            "[I 2023-12-31 08:20:49,641] Trial 782 finished with value: 10.043345209510854 and parameters: {'x': 1.0753245556149376, 'y': 1.4731457434793183}. Best is trial 540 with value: 0.001821630667734238.\n",
            "[I 2023-12-31 08:20:49,666] Trial 783 finished with value: 0.21812195888612718 and parameters: {'x': 1.2120998098611977, 'y': 1.4275763793077458}. Best is trial 540 with value: 0.001821630667734238.\n",
            "[I 2023-12-31 08:20:49,694] Trial 784 finished with value: 85.19763363203849 and parameters: {'x': 1.4592116397703188, 'y': 1.2074159798995328}. Best is trial 540 with value: 0.001821630667734238.\n",
            "[I 2023-12-31 08:20:49,722] Trial 785 finished with value: 4.3563278427535606 and parameters: {'x': 1.0489571670914717, 'y': 1.3089718926935108}. Best is trial 540 with value: 0.001821630667734238.\n",
            "[I 2023-12-31 08:20:49,748] Trial 786 finished with value: 7.3290969790918075 and parameters: {'x': 1.1484759710715917, 'y': 1.0486814652890515}. Best is trial 540 with value: 0.001821630667734238.\n",
            "[I 2023-12-31 08:20:49,774] Trial 787 finished with value: 3.2056735579029096 and parameters: {'x': 1.0113075735757042, 'y': 1.2017833864063319}. Best is trial 540 with value: 0.001821630667734238.\n",
            "[I 2023-12-31 08:20:49,806] Trial 788 finished with value: 5.343170491478945 and parameters: {'x': 1.075226500234141, 'y': 1.3871425759792715}. Best is trial 540 with value: 0.001821630667734238.\n",
            "[I 2023-12-31 08:20:49,843] Trial 789 finished with value: 1.1256973052864392 and parameters: {'x': 0.9858840025101774, 'y': 1.0780567590002448}. Best is trial 540 with value: 0.001821630667734238.\n",
            "[I 2023-12-31 08:20:49,874] Trial 790 finished with value: 25.096465237279464 and parameters: {'x': 1.2928183296551041, 'y': 1.1712720183563243}. Best is trial 540 with value: 0.001821630667734238.\n",
            "[I 2023-12-31 08:20:49,906] Trial 791 finished with value: 12.812931863794912 and parameters: {'x': 1.1490066852807266, 'y': 0.9625750778492814}. Best is trial 540 with value: 0.001821630667734238.\n",
            "[I 2023-12-31 08:20:49,937] Trial 792 finished with value: 20.47629263658517 and parameters: {'x': 0.9464076852496535, 'y': 1.3481631469321491}. Best is trial 540 with value: 0.001821630667734238.\n",
            "[I 2023-12-31 08:20:49,964] Trial 793 finished with value: 91.93010351123067 and parameters: {'x': 1.041764412331553, 'y': 0.1264803121194541}. Best is trial 540 with value: 0.001821630667734238.\n",
            "[I 2023-12-31 08:20:49,990] Trial 794 finished with value: 15.000531725654003 and parameters: {'x': 0.9245608638807792, 'y': 1.2420445131502185}. Best is trial 540 with value: 0.001821630667734238.\n",
            "[I 2023-12-31 08:20:50,026] Trial 795 finished with value: 2.435413165716798 and parameters: {'x': 1.0919936494062166, 'y': 1.036663406448763}. Best is trial 540 with value: 0.001821630667734238.\n",
            "[I 2023-12-31 08:20:50,063] Trial 796 finished with value: 1.4804047906567166 and parameters: {'x': 1.0042554309991931, 'y': 0.8868578285925304}. Best is trial 540 with value: 0.001821630667734238.\n",
            "[I 2023-12-31 08:20:50,093] Trial 797 finished with value: 15.562378151999049 and parameters: {'x': 1.225546125760243, 'y': 1.1081167994986898}. Best is trial 540 with value: 0.001821630667734238.\n",
            "[I 2023-12-31 08:20:50,123] Trial 798 finished with value: 1.2880080245704997 and parameters: {'x': 0.9182445130383211, 'y': 0.9563685715453748}. Best is trial 540 with value: 0.001821630667734238.\n",
            "[I 2023-12-31 08:20:50,149] Trial 799 finished with value: 0.0961030349222262 and parameters: {'x': 0.9923437697666733, 'y': 1.015737191107863}. Best is trial 540 with value: 0.001821630667734238.\n",
            "[I 2023-12-31 08:20:50,181] Trial 800 finished with value: 16.72371894220184 and parameters: {'x': 1.1382320109408322, 'y': 0.8868593649864945}. Best is trial 540 with value: 0.001821630667734238.\n",
            "[I 2023-12-31 08:20:50,210] Trial 801 finished with value: 170.98148601209854 and parameters: {'x': 1.5631130027813795, 'y': 1.1369364444838337}. Best is trial 540 with value: 0.001821630667734238.\n",
            "[I 2023-12-31 08:20:50,238] Trial 802 finished with value: 8.081224261012904 and parameters: {'x': 1.0642317561041321, 'y': 0.8483868636709213}. Best is trial 540 with value: 0.001821630667734238.\n",
            "[I 2023-12-31 08:20:50,266] Trial 803 finished with value: 5.271853144255299 and parameters: {'x': 0.8809376293608051, 'y': 1.0053473627058944}. Best is trial 540 with value: 0.001821630667734238.\n",
            "[I 2023-12-31 08:20:50,296] Trial 804 finished with value: 8.13119757899675 and parameters: {'x': 0.9680737554205666, 'y': 1.222301471024707}. Best is trial 540 with value: 0.001821630667734238.\n",
            "[I 2023-12-31 08:20:50,331] Trial 805 finished with value: 1.8323419388139408 and parameters: {'x': 1.0313281230560136, 'y': 0.9283099290983378}. Best is trial 540 with value: 0.001821630667734238.\n",
            "[I 2023-12-31 08:20:50,360] Trial 806 finished with value: 9.25885229080211 and parameters: {'x': 1.1686893912549723, 'y': 1.062019222469527}. Best is trial 540 with value: 0.001821630667734238.\n",
            "[I 2023-12-31 08:20:50,387] Trial 807 finished with value: 1.4200307029542205 and parameters: {'x': 0.8479271907994631, 'y': 0.837171238115304}. Best is trial 540 with value: 0.001821630667734238.\n",
            "[I 2023-12-31 08:20:50,414] Trial 808 finished with value: 3.0277244179036904 and parameters: {'x': 0.8958864945538972, 'y': 0.9763044300415832}. Best is trial 540 with value: 0.001821630667734238.\n",
            "[I 2023-12-31 08:20:50,440] Trial 809 finished with value: 478.0253737335607 and parameters: {'x': 1.7602572375158236, 'y': 0.9134486032287598}. Best is trial 540 with value: 0.001821630667734238.\n",
            "[I 2023-12-31 08:20:50,471] Trial 810 finished with value: 1.192732010841186 and parameters: {'x': 1.0940109135970806, 'y': 1.0880529877911707}. Best is trial 540 with value: 0.001821630667734238.\n",
            "[I 2023-12-31 08:20:50,496] Trial 811 finished with value: 1.3418738400646988 and parameters: {'x': 0.9436363907020674, 'y': 0.7747475642538701}. Best is trial 540 with value: 0.001821630667734238.\n",
            "[I 2023-12-31 08:20:50,522] Trial 812 finished with value: 40.19958768823828 and parameters: {'x': 0.7317075003755875, 'y': 1.1688594153562286}. Best is trial 540 with value: 0.001821630667734238.\n",
            "[I 2023-12-31 08:20:50,548] Trial 813 finished with value: 0.12385812849831744 and parameters: {'x': 1.018707463632334, 'y': 1.0026211688117848}. Best is trial 540 with value: 0.001821630667734238.\n",
            "[I 2023-12-31 08:20:50,574] Trial 814 finished with value: 76.4778575528019 and parameters: {'x': 0.11081547864610775, 'y': 0.882264026710134}. Best is trial 540 with value: 0.001821630667734238.\n",
            "[I 2023-12-31 08:20:50,601] Trial 815 finished with value: 168.40063722970976 and parameters: {'x': -0.23651464704170622, 'y': 1.3477273526861355}. Best is trial 540 with value: 0.001821630667734238.\n",
            "[I 2023-12-31 08:20:50,630] Trial 816 finished with value: 15.979904068734653 and parameters: {'x': 0.8135691695169233, 'y': 1.0612085501030553}. Best is trial 540 with value: 0.001821630667734238.\n",
            "[I 2023-12-31 08:20:50,659] Trial 817 finished with value: 51.77777099962849 and parameters: {'x': 1.2410417373389042, 'y': 0.8210207051207912}. Best is trial 540 with value: 0.001821630667734238.\n",
            "[I 2023-12-31 08:20:50,685] Trial 818 finished with value: 36.62587156710157 and parameters: {'x': 0.938028055309818, 'y': 1.4850580246180123}. Best is trial 540 with value: 0.001821630667734238.\n",
            "[I 2023-12-31 08:20:50,712] Trial 819 finished with value: 3.6417044765332527 and parameters: {'x': 1.0900276875600117, 'y': 0.9975403320531085}. Best is trial 540 with value: 0.001821630667734238.\n",
            "[I 2023-12-31 08:20:50,741] Trial 820 finished with value: 1.3572893112810267 and parameters: {'x': 1.0154498484598133, 'y': 0.9146458793781904}. Best is trial 540 with value: 0.001821630667734238.\n",
            "[I 2023-12-31 08:20:50,767] Trial 821 finished with value: 12.902611442766895 and parameters: {'x': 0.8803294420393875, 'y': 1.1339825783266868}. Best is trial 540 with value: 0.001821630667734238.\n",
            "[I 2023-12-31 08:20:50,795] Trial 822 finished with value: 0.28271081065589315 and parameters: {'x': 1.1464069162344734, 'y': 1.263133670565639}. Best is trial 540 with value: 0.001821630667734238.\n",
            "[I 2023-12-31 08:20:50,826] Trial 823 finished with value: 724.2749694083527 and parameters: {'x': 0.9562647838187976, 'y': -1.7767898283137473}. Best is trial 540 with value: 0.001821630667734238.\n",
            "[I 2023-12-31 08:20:50,855] Trial 824 finished with value: 424.57985721004525 and parameters: {'x': 1.3808543707251362, 'y': -0.1534227696207467}. Best is trial 540 with value: 0.001821630667734238.\n",
            "[I 2023-12-31 08:20:50,883] Trial 825 finished with value: 5.4775734947291 and parameters: {'x': 0.7389511099022074, 'y': 0.778630491286494}. Best is trial 540 with value: 0.001821630667734238.\n",
            "[I 2023-12-31 08:20:50,920] Trial 826 finished with value: 2.024663571824649 and parameters: {'x': 1.044943979208682, 'y': 0.9496882441625012}. Best is trial 540 with value: 0.001821630667734238.\n",
            "[I 2023-12-31 08:20:50,946] Trial 827 finished with value: 3.9424628370512913 and parameters: {'x': 0.8155600537514808, 'y': 0.8628360703399904}. Best is trial 540 with value: 0.001821630667734238.\n",
            "[I 2023-12-31 08:20:50,971] Trial 828 finished with value: 11.21263291685251 and parameters: {'x': 1.1824824553419764, 'y': 1.0639096604703806}. Best is trial 540 with value: 0.001821630667734238.\n",
            "[I 2023-12-31 08:20:50,991] Trial 829 finished with value: 0.1056325661010612 and parameters: {'x': 0.8818861305865626, 'y': 0.7474441645187969}. Best is trial 540 with value: 0.001821630667734238.\n",
            "[I 2023-12-31 08:20:51,010] Trial 830 finished with value: 3.7110005025670274 and parameters: {'x': 0.9977123728953264, 'y': 1.1880694160429983}. Best is trial 540 with value: 0.001821630667734238.\n",
            "[I 2023-12-31 08:20:51,032] Trial 831 finished with value: 7.939955448102098 and parameters: {'x': 1.1009791217100342, 'y': 0.9305567546945573}. Best is trial 540 with value: 0.001821630667734238.\n",
            "[I 2023-12-31 08:20:51,055] Trial 832 finished with value: 0.054794801131450764 and parameters: {'x': 0.92863810594632, 'y': 0.8400747233808968}. Best is trial 540 with value: 0.001821630667734238.\n",
            "[I 2023-12-31 08:20:51,083] Trial 833 finished with value: 0.7625961108286755 and parameters: {'x': 0.9894909129829597, 'y': 1.066412692316795}. Best is trial 540 with value: 0.001821630667734238.\n",
            "[I 2023-12-31 08:20:51,102] Trial 834 finished with value: 59.419896384776656 and parameters: {'x': 1.3275675012933688, 'y': 0.9922887577344108}. Best is trial 540 with value: 0.001821630667734238.\n",
            "[I 2023-12-31 08:20:51,121] Trial 835 finished with value: 4.589262612561386 and parameters: {'x': 0.8184854082430502, 'y': 0.883373629676093}. Best is trial 540 with value: 0.001821630667734238.\n",
            "[I 2023-12-31 08:20:51,141] Trial 836 finished with value: 11.226887161482555 and parameters: {'x': -1.174043528050491, 'y': 1.1234189560794903}. Best is trial 540 with value: 0.001821630667734238.\n",
            "[I 2023-12-31 08:20:51,160] Trial 837 finished with value: 1.5919505386811965 and parameters: {'x': 1.0598862100874873, 'y': 0.9973284573579665}. Best is trial 540 with value: 0.001821630667734238.\n",
            "[I 2023-12-31 08:20:51,181] Trial 838 finished with value: 16.831606419945757 and parameters: {'x': 0.9099176260158252, 'y': 1.2381145846692303}. Best is trial 540 with value: 0.001821630667734238.\n",
            "[I 2023-12-31 08:20:51,201] Trial 839 finished with value: 63.713112051550844 and parameters: {'x': 1.2396566675263914, 'y': 0.7389035760672249}. Best is trial 540 with value: 0.001821630667734238.\n",
            "[I 2023-12-31 08:20:51,222] Trial 840 finished with value: 22.40942697885446 and parameters: {'x': 1.134935765018933, 'y': 0.8148855800461301}. Best is trial 540 with value: 0.001821630667734238.\n",
            "[I 2023-12-31 08:20:51,245] Trial 841 finished with value: 0.0014024862821778819 and parameters: {'x': 0.9718984219494489, 'y': 0.9470619972798939}. Best is trial 841 with value: 0.0014024862821778819.\n",
            "[I 2023-12-31 08:20:51,268] Trial 842 finished with value: 0.22489829954030452 and parameters: {'x': 1.065346020080908, 'y': 1.087991066593764}. Best is trial 841 with value: 0.0014024862821778819.\n",
            "[I 2023-12-31 08:20:51,288] Trial 843 finished with value: 0.0030956087017918726 and parameters: {'x': 0.9942942930748371, 'y': 0.9830866551672388}. Best is trial 841 with value: 0.0014024862821778819.\n",
            "[I 2023-12-31 08:20:51,311] Trial 844 finished with value: 15.995052937647573 and parameters: {'x': 1.197200487821125, 'y': 1.0338373225344886}. Best is trial 841 with value: 0.0014024862821778819.\n",
            "[I 2023-12-31 08:20:51,334] Trial 845 finished with value: 157.03638498393303 and parameters: {'x': 1.0858454810144378, 'y': -0.0740517792244938}. Best is trial 841 with value: 0.0014024862821778819.\n",
            "[I 2023-12-31 08:20:51,355] Trial 846 finished with value: 2.0801465530230296 and parameters: {'x': 1.146298573072118, 'y': 1.1705172042590781}. Best is trial 841 with value: 0.0014024862821778819.\n",
            "[I 2023-12-31 08:20:51,378] Trial 847 finished with value: 0.06685805129591106 and parameters: {'x': 1.013442871610451, 'y': 1.0012444981473492}. Best is trial 841 with value: 0.0014024862821778819.\n",
            "[I 2023-12-31 08:20:51,399] Trial 848 finished with value: 1.267173326806065 and parameters: {'x': 0.9961814499016928, 'y': 1.1049456269547209}. Best is trial 841 with value: 0.0014024862821778819.\n",
            "[I 2023-12-31 08:20:51,421] Trial 849 finished with value: 4.7615816647769025 and parameters: {'x': 1.1106288536706101, 'y': 1.0155665783643593}. Best is trial 841 with value: 0.0014024862821778819.\n",
            "[I 2023-12-31 08:20:51,443] Trial 850 finished with value: 0.01199631852641281 and parameters: {'x': 0.9822572935653799, 'y': 0.9540212850565789}. Best is trial 841 with value: 0.0014024862821778819.\n",
            "[I 2023-12-31 08:20:51,463] Trial 851 finished with value: 23.647733784344602 and parameters: {'x': 1.2539678383039559, 'y': 1.0868096181735425}. Best is trial 841 with value: 0.0014024862821778819.\n",
            "[I 2023-12-31 08:20:51,486] Trial 852 finished with value: 2.0090603067626844 and parameters: {'x': 1.0584726724961497, 'y': 0.9787437342038797}. Best is trial 841 with value: 0.0014024862821778819.\n",
            "[I 2023-12-31 08:20:51,507] Trial 853 finished with value: 3.8573849911378706 and parameters: {'x': 1.1756789291198697, 'y': 1.1866059678280934}. Best is trial 841 with value: 0.0014024862821778819.\n",
            "[I 2023-12-31 08:20:51,525] Trial 854 finished with value: 0.002539815418824742 and parameters: {'x': 0.9845111848045116, 'y': 0.9644665332054602}. Best is trial 841 with value: 0.0014024862821778819.\n",
            "[I 2023-12-31 08:20:51,546] Trial 855 finished with value: 3.3062357838942256 and parameters: {'x': 1.1176211380107222, 'y': 1.0676272615926732}. Best is trial 841 with value: 0.0014024862821778819.\n",
            "[I 2023-12-31 08:20:51,566] Trial 856 finished with value: 0.7697382074739622 and parameters: {'x': 1.0327787443683456, 'y': 1.154305406370695}. Best is trial 841 with value: 0.0014024862821778819.\n",
            "[I 2023-12-31 08:20:51,586] Trial 857 finished with value: 0.029664861780767007 and parameters: {'x': 0.971758939073078, 'y': 0.9613058165524782}. Best is trial 841 with value: 0.0014024862821778819.\n",
            "[I 2023-12-31 08:20:51,606] Trial 858 finished with value: 11.625940913414924 and parameters: {'x': 1.175627591862368, 'y': 1.0415845102596288}. Best is trial 841 with value: 0.0014024862821778819.\n",
            "[I 2023-12-31 08:20:51,625] Trial 859 finished with value: 1.750292550873106 and parameters: {'x': 1.0631023274114824, 'y': 1.2623346060984921}. Best is trial 841 with value: 0.0014024862821778819.\n",
            "[I 2023-12-31 08:20:51,647] Trial 860 finished with value: 0.0002755924764391412 and parameters: {'x': 0.9848974420356189, 'y': 0.9693337310264392}. Best is trial 860 with value: 0.0002755924764391412.\n",
            "[I 2023-12-31 08:20:51,665] Trial 861 finished with value: 0.9058415441119392 and parameters: {'x': 1.1057332379916314, 'y': 1.1280594180987165}. Best is trial 860 with value: 0.0002755924764391412.\n",
            "[I 2023-12-31 08:20:51,687] Trial 862 finished with value: 39.48506531013459 and parameters: {'x': 1.2905928889795397, 'y': 1.0379308647075016}. Best is trial 860 with value: 0.0002755924764391412.\n",
            "[I 2023-12-31 08:20:51,708] Trial 863 finished with value: 0.1737082176474414 and parameters: {'x': 1.0005071468775193, 'y': 0.9593362639860988}. Best is trial 860 with value: 0.0002755924764391412.\n",
            "[I 2023-12-31 08:20:51,729] Trial 864 finished with value: 546.2593031991936 and parameters: {'x': 1.2148540225363078, 'y': -0.8612500280617204}. Best is trial 860 with value: 0.0002755924764391412.\n",
            "[I 2023-12-31 08:20:51,750] Trial 865 finished with value: 0.04262047080780417 and parameters: {'x': 1.0581826046966782, 'y': 1.0999425336979407}. Best is trial 860 with value: 0.0002755924764391412.\n",
            "[I 2023-12-31 08:20:51,768] Trial 866 finished with value: 6.2560279982025495 and parameters: {'x': 1.1251693382892358, 'y': 1.0161989015184056}. Best is trial 860 with value: 0.0002755924764391412.\n",
            "[I 2023-12-31 08:20:51,791] Trial 867 finished with value: 3.6072255143149876 and parameters: {'x': 0.9914595108882278, 'y': 1.1729170146953267}. Best is trial 860 with value: 0.0002755924764391412.\n",
            "[I 2023-12-31 08:20:51,812] Trial 868 finished with value: 8.275994932495914 and parameters: {'x': 1.0216725385298067, 'y': 1.3314869024349505}. Best is trial 860 with value: 0.0002755924764391412.\n",
            "[I 2023-12-31 08:20:51,834] Trial 869 finished with value: 0.1803093765267052 and parameters: {'x': 0.9585906616298959, 'y': 0.9611565160057532}. Best is trial 860 with value: 0.0002755924764391412.\n",
            "[I 2023-12-31 08:20:51,857] Trial 870 finished with value: 3.1241478189624687 and parameters: {'x': 1.1323891829223784, 'y': 1.1060491716847491}. Best is trial 860 with value: 0.0002755924764391412.\n",
            "[I 2023-12-31 08:20:51,876] Trial 871 finished with value: 1.3395995031598176 and parameters: {'x': 1.0685378165310904, 'y': 1.0262351031599684}. Best is trial 860 with value: 0.0002755924764391412.\n",
            "[I 2023-12-31 08:20:51,895] Trial 872 finished with value: 23.234795376853743 and parameters: {'x': 1.1992332029928794, 'y': 0.9565473443989485}. Best is trial 860 with value: 0.0002755924764391412.\n",
            "[I 2023-12-31 08:20:51,917] Trial 873 finished with value: 12.84862874449312 and parameters: {'x': 0.9282834523169005, 'y': 1.2200882570372524}. Best is trial 860 with value: 0.0002755924764391412.\n",
            "[I 2023-12-31 08:20:51,938] Trial 874 finished with value: 0.018899317372058105 and parameters: {'x': 1.0242490463748994, 'y': 1.0626180346285536}. Best is trial 860 with value: 0.0002755924764391412.\n",
            "[I 2023-12-31 08:20:51,959] Trial 875 finished with value: 21.609701607913724 and parameters: {'x': 1.277129121814392, 'y': 1.1670232234067568}. Best is trial 860 with value: 0.0002755924764391412.\n",
            "[I 2023-12-31 08:20:51,979] Trial 876 finished with value: 0.15210047684469946 and parameters: {'x': 1.1425965515992276, 'y': 1.2692271964886124}. Best is trial 860 with value: 0.0002755924764391412.\n",
            "[I 2023-12-31 08:20:52,000] Trial 877 finished with value: 0.02284311401790596 and parameters: {'x': 1.0555842084177574, 'y': 1.1002033030657372}. Best is trial 860 with value: 0.0002755924764391412.\n",
            "[I 2023-12-31 08:20:52,020] Trial 878 finished with value: 0.4499919083140632 and parameters: {'x': 1.0414059635427921, 'y': 1.1514799061642096}. Best is trial 860 with value: 0.0002755924764391412.\n",
            "[I 2023-12-31 08:20:52,038] Trial 879 finished with value: 0.3308779122993516 and parameters: {'x': 1.0159292761104475, 'y': 1.089612221924509}. Best is trial 860 with value: 0.0002755924764391412.\n",
            "[I 2023-12-31 08:20:52,060] Trial 880 finished with value: 4.255012792983303 and parameters: {'x': 0.9465905863338263, 'y': 1.1022414059737309}. Best is trial 860 with value: 0.0002755924764391412.\n",
            "[I 2023-12-31 08:20:52,089] Trial 881 finished with value: 1.0971339131051048 and parameters: {'x': 1.0749064781704378, 'y': 1.0509479619365754}. Best is trial 860 with value: 0.0002755924764391412.\n",
            "[I 2023-12-31 08:20:52,113] Trial 882 finished with value: 5.289082990196161 and parameters: {'x': 0.9014753517082833, 'y': 1.0424267346137441}. Best is trial 860 with value: 0.0002755924764391412.\n",
            "[I 2023-12-31 08:20:52,132] Trial 883 finished with value: 1.14184822929607 and parameters: {'x': 1.0073125383653327, 'y': 1.121533346568411}. Best is trial 860 with value: 0.0002755924764391412.\n",
            "[I 2023-12-31 08:20:52,152] Trial 884 finished with value: 0.8586885185526668 and parameters: {'x': 1.057869346339271, 'y': 1.0266029791397788}. Best is trial 860 with value: 0.0002755924764391412.\n",
            "[I 2023-12-31 08:20:52,176] Trial 885 finished with value: 0.2121503212042704 and parameters: {'x': 0.9626045634013541, 'y': 0.9725152684180932}. Best is trial 860 with value: 0.0002755924764391412.\n",
            "[I 2023-12-31 08:20:52,200] Trial 886 finished with value: 8.744123783195953 and parameters: {'x': 0.8951117802089309, 'y': 1.0967436643831487}. Best is trial 860 with value: 0.0002755924764391412.\n",
            "[I 2023-12-31 08:20:52,221] Trial 887 finished with value: 0.00813103428977848 and parameters: {'x': 1.0892020441530457, 'y': 1.1876802958097012}. Best is trial 860 with value: 0.0002755924764391412.\n",
            "[I 2023-12-31 08:20:52,242] Trial 888 finished with value: 0.11219405195800074 and parameters: {'x': 1.120777987218296, 'y': 1.224901220875953}. Best is trial 860 with value: 0.0002755924764391412.\n",
            "[I 2023-12-31 08:20:52,264] Trial 889 finished with value: 4.583560973876204 and parameters: {'x': 0.9911626458738693, 'y': 1.1964940927336356}. Best is trial 860 with value: 0.0002755924764391412.\n",
            "[I 2023-12-31 08:20:52,285] Trial 890 finished with value: 23.48924863010588 and parameters: {'x': 1.19361787451065, 'y': 0.9404534500926583}. Best is trial 860 with value: 0.0002755924764391412.\n",
            "[I 2023-12-31 08:20:52,304] Trial 891 finished with value: 2.5550068455297588 and parameters: {'x': 1.0885102353054734, 'y': 1.0252558862622512}. Best is trial 860 with value: 0.0002755924764391412.\n",
            "[I 2023-12-31 08:20:52,326] Trial 892 finished with value: 15.291836609172131 and parameters: {'x': 0.8857270127291934, 'y': 1.1753931194947247}. Best is trial 860 with value: 0.0002755924764391412.\n",
            "[I 2023-12-31 08:20:52,347] Trial 893 finished with value: 0.036126713808769625 and parameters: {'x': 0.9609307833480933, 'y': 0.941989128984029}. Best is trial 860 with value: 0.0002755924764391412.\n",
            "[I 2023-12-31 08:20:52,368] Trial 894 finished with value: 0.009562588470866877 and parameters: {'x': 1.0125402563379355, 'y': 1.0155396624141761}. Best is trial 860 with value: 0.0002755924764391412.\n",
            "[I 2023-12-31 08:20:52,388] Trial 895 finished with value: 0.718661005441399 and parameters: {'x': 1.121977979214457, 'y': 1.1749428473914512}. Best is trial 860 with value: 0.0002755924764391412.\n",
            "[I 2023-12-31 08:20:52,411] Trial 896 finished with value: 0.32167426393315485 and parameters: {'x': 1.0540110864543102, 'y': 1.054480795601499}. Best is trial 860 with value: 0.0002755924764391412.\n",
            "[I 2023-12-31 08:20:52,430] Trial 897 finished with value: 15.110945407146735 and parameters: {'x': 1.2176924025891593, 'y': 1.0946568229748677}. Best is trial 860 with value: 0.0002755924764391412.\n",
            "[I 2023-12-31 08:20:52,453] Trial 898 finished with value: 1.1910655765437006 and parameters: {'x': 1.0507899238672984, 'y': 1.2131771672587068}. Best is trial 860 with value: 0.0002755924764391412.\n",
            "[I 2023-12-31 08:20:52,472] Trial 899 finished with value: 83.87924719529312 and parameters: {'x': 0.3130632028587169, 'y': 1.0112848964558954}. Best is trial 860 with value: 0.0002755924764391412.\n",
            "[I 2023-12-31 08:20:52,495] Trial 900 finished with value: 11.405093233472767 and parameters: {'x': 0.8970031756598864, 'y': 1.1421718758210841}. Best is trial 860 with value: 0.0002755924764391412.\n",
            "[I 2023-12-31 08:20:52,515] Trial 901 finished with value: 0.18373772904878957 and parameters: {'x': 0.9952528358614953, 'y': 1.0333902176820031}. Best is trial 860 with value: 0.0002755924764391412.\n",
            "[I 2023-12-31 08:20:52,538] Trial 902 finished with value: 9.964253280359708 and parameters: {'x': 1.1384407923058277, 'y': 0.9806891107989871}. Best is trial 860 with value: 0.0002755924764391412.\n",
            "[I 2023-12-31 08:20:52,559] Trial 903 finished with value: 25.707156136487846 and parameters: {'x': 0.859249460932422, 'y': 1.2451364844764756}. Best is trial 860 with value: 0.0002755924764391412.\n",
            "[I 2023-12-31 08:20:52,579] Trial 904 finished with value: 5.838469541897111 and parameters: {'x': 0.9446083008637525, 'y': 1.1338505950465936}. Best is trial 860 with value: 0.0002755924764391412.\n",
            "[I 2023-12-31 08:20:52,597] Trial 905 finished with value: 6.937845952803891 and parameters: {'x': 1.0831289536757636, 'y': 0.9099016303481929}. Best is trial 860 with value: 0.0002755924764391412.\n",
            "[I 2023-12-31 08:20:52,620] Trial 906 finished with value: 14.372576213427575 and parameters: {'x': 1.2019041146011755, 'y': 1.0659997173724243}. Best is trial 860 with value: 0.0002755924764391412.\n",
            "[I 2023-12-31 08:20:52,640] Trial 907 finished with value: 0.00022096799294955662 and parameters: {'x': 0.9967079622694546, 'y': 0.9948763498566381}. Best is trial 907 with value: 0.00022096799294955662.\n",
            "[I 2023-12-31 08:20:52,660] Trial 908 finished with value: 0.7234086014072422 and parameters: {'x': 0.9131803987339905, 'y': 0.9185075984249211}. Best is trial 907 with value: 0.00022096799294955662.\n",
            "[I 2023-12-31 08:20:52,680] Trial 909 finished with value: 7.930639111095213 and parameters: {'x': 0.8376992885662118, 'y': 0.9828859248191248}. Best is trial 907 with value: 0.00022096799294955662.\n",
            "[I 2023-12-31 08:20:52,702] Trial 910 finished with value: 0.8267320349670618 and parameters: {'x': 0.990902462744081, 'y': 0.8909674360651326}. Best is trial 907 with value: 0.00022096799294955662.\n",
            "[I 2023-12-31 08:20:52,721] Trial 911 finished with value: 6.409507967268313 and parameters: {'x': 1.1104328837465307, 'y': 0.9801320975535063}. Best is trial 907 with value: 0.00022096799294955662.\n",
            "[I 2023-12-31 08:20:52,741] Trial 912 finished with value: 0.10113143281082551 and parameters: {'x': 0.9374919077898682, 'y': 0.9100718679278283}. Best is trial 907 with value: 0.00022096799294955662.\n",
            "[I 2023-12-31 08:20:52,764] Trial 913 finished with value: 0.22147118139646324 and parameters: {'x': 1.025739311123312, 'y': 1.0051508514244423}. Best is trial 907 with value: 0.00022096799294955662.\n",
            "[I 2023-12-31 08:20:52,783] Trial 914 finished with value: 17.772068327139422 and parameters: {'x': 0.8383618592210034, 'y': 1.1241099266392198}. Best is trial 907 with value: 0.00022096799294955662.\n",
            "[I 2023-12-31 08:20:52,802] Trial 915 finished with value: 22.885561431036862 and parameters: {'x': 1.170228781634297, 'y': 0.8913498065923453}. Best is trial 907 with value: 0.00022096799294955662.\n",
            "[I 2023-12-31 08:20:52,824] Trial 916 finished with value: 0.4841096003492933 and parameters: {'x': 0.9879834618848857, 'y': 1.04567892858983}. Best is trial 907 with value: 0.00022096799294955662.\n",
            "[I 2023-12-31 08:20:52,844] Trial 917 finished with value: 3.519237739027518 and parameters: {'x': 1.3437698762840622, 'y': 1.9901371109033734}. Best is trial 907 with value: 0.00022096799294955662.\n",
            "[I 2023-12-31 08:20:52,865] Trial 918 finished with value: 3.7287637275146475 and parameters: {'x': 1.0760318632730217, 'y': 0.9648942434071818}. Best is trial 907 with value: 0.00022096799294955662.\n",
            "[I 2023-12-31 08:20:52,885] Trial 919 finished with value: 0.060674122818136396 and parameters: {'x': 0.9145701631454863, 'y': 0.8595418007960329}. Best is trial 907 with value: 0.00022096799294955662.\n",
            "[I 2023-12-31 08:20:52,906] Trial 920 finished with value: 0.3901296485909485 and parameters: {'x': 1.0078581468283399, 'y': 1.0782334600759034}. Best is trial 907 with value: 0.00022096799294955662.\n",
            "[I 2023-12-31 08:20:52,927] Trial 921 finished with value: 15.265742173064641 and parameters: {'x': 0.8715798687719988, 'y': 1.150154354231544}. Best is trial 907 with value: 0.00022096799294955662.\n",
            "[I 2023-12-31 08:20:52,948] Trial 922 finished with value: 8.568644819866096 and parameters: {'x': 1.1313074899054538, 'y': 0.9874288137758703}. Best is trial 907 with value: 0.00022096799294955662.\n",
            "[I 2023-12-31 08:20:52,968] Trial 923 finished with value: 12.173685827536511 and parameters: {'x': 1.2647557673421246, 'y': 1.2517050065765356}. Best is trial 907 with value: 0.00022096799294955662.\n",
            "[I 2023-12-31 08:20:52,986] Trial 924 finished with value: 66.8439430050299 and parameters: {'x': -0.3474205563055264, 'y': 0.9271029331291445}. Best is trial 907 with value: 0.00022096799294955662.\n",
            "[I 2023-12-31 08:20:53,008] Trial 925 finished with value: 0.023846621355126416 and parameters: {'x': 0.9445590416296381, 'y': 0.8777789688640311}. Best is trial 907 with value: 0.00022096799294955662.\n",
            "[I 2023-12-31 08:20:53,029] Trial 926 finished with value: 16.550451164680123 and parameters: {'x': 0.8023208169329696, 'y': 1.0500605949537771}. Best is trial 907 with value: 0.00022096799294955662.\n",
            "[I 2023-12-31 08:20:53,048] Trial 927 finished with value: 304.07803296744964 and parameters: {'x': 1.049820991119668, 'y': -0.6416521074433428}. Best is trial 907 with value: 0.00022096799294955662.\n",
            "[I 2023-12-31 08:20:53,070] Trial 928 finished with value: 4.322863774658365 and parameters: {'x': 0.9685209980145291, 'y': 1.1459240693202288}. Best is trial 907 with value: 0.00022096799294955662.\n",
            "[I 2023-12-31 08:20:53,089] Trial 929 finished with value: 3.258426369215486 and parameters: {'x': 1.0906946965169986, 'y': 1.0093317869894243}. Best is trial 907 with value: 0.00022096799294955662.\n",
            "[I 2023-12-31 08:20:53,120] Trial 930 finished with value: 27.439227441863284 and parameters: {'x': 1.1809537801598193, 'y': 0.8711398140937398}. Best is trial 907 with value: 0.00022096799294955662.\n",
            "[I 2023-12-31 08:20:53,147] Trial 931 finished with value: 4.308688392544214 and parameters: {'x': 0.8617040849869799, 'y': 0.9496465234336993}. Best is trial 907 with value: 0.00022096799294955662.\n",
            "[I 2023-12-31 08:20:53,177] Trial 932 finished with value: 3.3127482315899037 and parameters: {'x': 1.0173408696752715, 'y': 1.216983750761592}. Best is trial 907 with value: 0.00022096799294955662.\n",
            "[I 2023-12-31 08:20:53,203] Trial 933 finished with value: 4.753693586201933 and parameters: {'x': 0.9231228956612493, 'y': 1.0700499716720502}. Best is trial 907 with value: 0.00022096799294955662.\n",
            "[I 2023-12-31 08:20:53,221] Trial 934 finished with value: 5.051054240930047 and parameters: {'x': 1.1041380673321404, 'y': 0.9946167625521359}. Best is trial 907 with value: 0.00022096799294955662.\n",
            "[I 2023-12-31 08:20:53,244] Trial 935 finished with value: 9.458638534539384 and parameters: {'x': 0.7687866075747365, 'y': 0.8977114892657484}. Best is trial 907 with value: 0.00022096799294955662.\n",
            "[I 2023-12-31 08:20:53,265] Trial 936 finished with value: 0.2879537658304871 and parameters: {'x': 1.024050142994686, 'y': 1.1022860975104638}. Best is trial 907 with value: 0.00022096799294955662.\n",
            "[I 2023-12-31 08:20:53,286] Trial 937 finished with value: 26.376678187423934 and parameters: {'x': 0.8867099752229007, 'y': 1.2997119158529387}. Best is trial 907 with value: 0.00022096799294955662.\n",
            "[I 2023-12-31 08:20:53,305] Trial 938 finished with value: 1.1385558483553178 and parameters: {'x': 0.970188175404614, 'y': 0.8346036170126276}. Best is trial 907 with value: 0.00022096799294955662.\n",
            "[I 2023-12-31 08:20:53,329] Trial 939 finished with value: 23.541304532116477 and parameters: {'x': 1.2261030716599732, 'y': 1.018662032799496}. Best is trial 907 with value: 0.00022096799294955662.\n",
            "[I 2023-12-31 08:20:53,354] Trial 940 finished with value: 0.08375293564374803 and parameters: {'x': 1.0918735560584072, 'y': 1.1647447967488778}. Best is trial 907 with value: 0.00022096799294955662.\n",
            "[I 2023-12-31 08:20:53,373] Trial 941 finished with value: 6.908346642282421 and parameters: {'x': 0.8294483316657353, 'y': 0.9502679459437019}. Best is trial 907 with value: 0.00022096799294955662.\n",
            "[I 2023-12-31 08:20:53,396] Trial 942 finished with value: 2.570816102765201 and parameters: {'x': 0.9510707780668289, 'y': 1.0647985973474876}. Best is trial 907 with value: 0.00022096799294955662.\n",
            "[I 2023-12-31 08:20:53,426] Trial 943 finished with value: 22.128228625639544 and parameters: {'x': 1.1577069211762798, 'y': 0.8701432394448156}. Best is trial 907 with value: 0.00022096799294955662.\n",
            "[I 2023-12-31 08:20:53,453] Trial 944 finished with value: 0.5263815777695681 and parameters: {'x': 1.0096025085937503, 'y': 0.9467514212348973}. Best is trial 907 with value: 0.00022096799294955662.\n",
            "[I 2023-12-31 08:20:53,475] Trial 945 finished with value: 15.82186660084919 and parameters: {'x': 0.8989912140021179, 'y': 1.2058240317668847}. Best is trial 907 with value: 0.00022096799294955662.\n",
            "[I 2023-12-31 08:20:53,496] Trial 946 finished with value: 0.05629729814014046 and parameters: {'x': 1.0478190397504312, 'y': 1.1211649288702976}. Best is trial 907 with value: 0.00022096799294955662.\n",
            "[I 2023-12-31 08:20:53,520] Trial 947 finished with value: 6.477742133218752 and parameters: {'x': 1.1262113605356008, 'y': 1.0141510682218275}. Best is trial 907 with value: 0.00022096799294955662.\n",
            "[I 2023-12-31 08:20:53,541] Trial 948 finished with value: 0.4520993159658986 and parameters: {'x': 0.9601656523177838, 'y': 0.8547978489086172}. Best is trial 907 with value: 0.00022096799294955662.\n",
            "[I 2023-12-31 08:20:53,562] Trial 949 finished with value: 7.827906731077242 and parameters: {'x': 0.8180265218186283, 'y': 0.9483589444313185}. Best is trial 907 with value: 0.00022096799294955662.\n",
            "[I 2023-12-31 08:20:53,582] Trial 950 finished with value: 0.7532741913336697 and parameters: {'x': 1.0741542025485273, 'y': 1.0673332463439051}. Best is trial 907 with value: 0.00022096799294955662.\n",
            "[I 2023-12-31 08:20:53,602] Trial 951 finished with value: 0.07502161556815003 and parameters: {'x': 0.9214288585672982, 'y': 0.8227922025306811}. Best is trial 907 with value: 0.00022096799294955662.\n",
            "[I 2023-12-31 08:20:53,622] Trial 952 finished with value: 0.19573240759889138 and parameters: {'x': 1.015877777468002, 'y': 0.98779450417445}. Best is trial 907 with value: 0.00022096799294955662.\n",
            "[I 2023-12-31 08:20:53,642] Trial 953 finished with value: 21.183134548550385 and parameters: {'x': 1.2616184861053195, 'y': 1.1321739649719351}. Best is trial 907 with value: 0.00022096799294955662.\n",
            "[I 2023-12-31 08:20:53,661] Trial 954 finished with value: 17.24616611542346 and parameters: {'x': 1.163259379320034, 'y': 0.9382083792276117}. Best is trial 907 with value: 0.00022096799294955662.\n",
            "[I 2023-12-31 08:20:53,683] Trial 955 finished with value: 42.64688595139353 and parameters: {'x': 0.7784775110732398, 'y': 1.2586972417454243}. Best is trial 907 with value: 0.00022096799294955662.\n",
            "[I 2023-12-31 08:20:53,703] Trial 956 finished with value: 8.029354327750315 and parameters: {'x': 0.8780526461934219, 'y': 1.0540750748927976}. Best is trial 907 with value: 0.00022096799294955662.\n",
            "[I 2023-12-31 08:20:53,724] Trial 957 finished with value: 1.9254306744423777 and parameters: {'x': 1.0197546374284767, 'y': 0.9011536943586719}. Best is trial 907 with value: 0.00022096799294955662.\n",
            "[I 2023-12-31 08:20:53,745] Trial 958 finished with value: 7.148706173641738 and parameters: {'x': 0.9416600149167147, 'y': 1.154030572374168}. Best is trial 907 with value: 0.00022096799294955662.\n",
            "[I 2023-12-31 08:20:53,771] Trial 959 finished with value: 119.8482385764768 and parameters: {'x': 1.071724212210207, 'y': 0.053864079942266496}. Best is trial 907 with value: 0.00022096799294955662.\n",
            "[I 2023-12-31 08:20:53,793] Trial 960 finished with value: 8.869473748537704 and parameters: {'x': 0.8486762438476176, 'y': 1.0176832896597205}. Best is trial 907 with value: 0.00022096799294955662.\n",
            "[I 2023-12-31 08:20:53,814] Trial 961 finished with value: 28.71615053116172 and parameters: {'x': 1.1660453406395301, 'y': 0.8240445272561528}. Best is trial 907 with value: 0.00022096799294955662.\n",
            "[I 2023-12-31 08:20:53,836] Trial 962 finished with value: 0.18463358830829643 and parameters: {'x': 0.9829036910346721, 'y': 0.9231646795880194}. Best is trial 907 with value: 0.00022096799294955662.\n",
            "[I 2023-12-31 08:20:53,855] Trial 963 finished with value: 0.44116448195422747 and parameters: {'x': 1.077078444777068, 'y': 1.094126513031424}. Best is trial 907 with value: 0.00022096799294955662.\n",
            "[I 2023-12-31 08:20:53,879] Trial 964 finished with value: 2336.1176177899806 and parameters: {'x': -1.8275351586110449, 'y': -1.485177588421971}. Best is trial 907 with value: 0.00022096799294955662.\n",
            "[I 2023-12-31 08:20:53,899] Trial 965 finished with value: 112.71904622005248 and parameters: {'x': 0.8956364278075002, 'y': 1.8638055786803949}. Best is trial 907 with value: 0.00022096799294955662.\n",
            "[I 2023-12-31 08:20:53,921] Trial 966 finished with value: 16.95105759498147 and parameters: {'x': 0.769266390678226, 'y': 1.0028403554041698}. Best is trial 907 with value: 0.00022096799294955662.\n",
            "[I 2023-12-31 08:20:53,940] Trial 967 finished with value: 1.6245813341959414 and parameters: {'x': 0.983190227443814, 'y': 0.8392150431395832}. Best is trial 907 with value: 0.00022096799294955662.\n",
            "[I 2023-12-31 08:20:53,960] Trial 968 finished with value: 30.34051985929016 and parameters: {'x': 1.3153755368305453, 'y': 1.1802940986271602}. Best is trial 907 with value: 0.00022096799294955662.\n",
            "[I 2023-12-31 08:20:53,980] Trial 969 finished with value: 0.4562329509696985 and parameters: {'x': 1.1060133790140851, 'y': 1.2899734737359332}. Best is trial 907 with value: 0.00022096799294955662.\n",
            "[I 2023-12-31 08:20:53,999] Trial 970 finished with value: 24.412131858572245 and parameters: {'x': 1.19717180317793, 'y': 0.939527556085519}. Best is trial 907 with value: 0.00022096799294955662.\n",
            "[I 2023-12-31 08:20:54,023] Trial 971 finished with value: 605.67325278889 and parameters: {'x': -1.0553737736311781, 'y': -1.3386312868979227}. Best is trial 907 with value: 0.00022096799294955662.\n",
            "[I 2023-12-31 08:20:54,046] Trial 972 finished with value: 6.007491803720251 and parameters: {'x': 0.9208255411441163, 'y': 1.0928936188739948}. Best is trial 907 with value: 0.00022096799294955662.\n",
            "[I 2023-12-31 08:20:54,066] Trial 973 finished with value: 0.04887354642753873 and parameters: {'x': 1.0248047438546866, 'y': 1.0282569977538696}. Best is trial 907 with value: 0.00022096799294955662.\n",
            "[I 2023-12-31 08:20:54,085] Trial 974 finished with value: 1.7912825810352624 and parameters: {'x': 0.8701309474308053, 'y': 0.8903350955939807}. Best is trial 907 with value: 0.00022096799294955662.\n",
            "[I 2023-12-31 08:20:54,107] Trial 975 finished with value: 0.6556422819059949 and parameters: {'x': 1.035981130207347, 'y': 0.9923651448292016}. Best is trial 907 with value: 0.00022096799294955662.\n",
            "[I 2023-12-31 08:20:54,132] Trial 976 finished with value: 47.06297116203962 and parameters: {'x': 0.7282243573573736, 'y': 1.215796740487933}. Best is trial 907 with value: 0.00022096799294955662.\n",
            "[I 2023-12-31 08:20:54,158] Trial 977 finished with value: 15.961353601277715 and parameters: {'x': 1.119697695769362, 'y': 0.8543856531274804}. Best is trial 907 with value: 0.00022096799294955662.\n",
            "[I 2023-12-31 08:20:54,179] Trial 978 finished with value: 48.69332975048879 and parameters: {'x': 0.9496258784060271, 'y': 0.20400143144008864}. Best is trial 907 with value: 0.00022096799294955662.\n",
            "[I 2023-12-31 08:20:54,198] Trial 979 finished with value: 14.28252641460036 and parameters: {'x': 0.8313075256605914, 'y': 1.0686178188505826}. Best is trial 907 with value: 0.00022096799294955662.\n",
            "[I 2023-12-31 08:20:54,219] Trial 980 finished with value: 32.377411471883356 and parameters: {'x': 1.2254593283399615, 'y': 0.9331858851621812}. Best is trial 907 with value: 0.00022096799294955662.\n",
            "[I 2023-12-31 08:20:54,240] Trial 981 finished with value: 3.0526861950501547 and parameters: {'x': 0.9884399104395302, 'y': 0.8022979003052921}. Best is trial 907 with value: 0.00022096799294955662.\n",
            "[I 2023-12-31 08:20:54,262] Trial 982 finished with value: 971.8135703303575 and parameters: {'x': 1.0721970054787198, 'y': -1.9677776737909811}. Best is trial 907 with value: 0.00022096799294955662.\n",
            "[I 2023-12-31 08:20:54,281] Trial 983 finished with value: 5.312979614206424 and parameters: {'x': 0.9431762487361315, 'y': 1.1200103986716305}. Best is trial 907 with value: 0.00022096799294955662.\n",
            "[I 2023-12-31 08:20:54,307] Trial 984 finished with value: 10.479880186189122 and parameters: {'x': 1.1398759142588102, 'y': 0.9758929988450012}. Best is trial 907 with value: 0.00022096799294955662.\n",
            "[I 2023-12-31 08:20:54,327] Trial 985 finished with value: 403.2903265449696 and parameters: {'x': 0.8940276229877125, 'y': -1.2088956181094983}. Best is trial 907 with value: 0.00022096799294955662.\n",
            "[I 2023-12-31 08:20:54,348] Trial 986 finished with value: 11.013560346769859 and parameters: {'x': 1.02973159919212, 'y': 1.3922006939856535}. Best is trial 907 with value: 0.00022096799294955662.\n",
            "[I 2023-12-31 08:20:54,372] Trial 987 finished with value: 143.65339918157594 and parameters: {'x': -0.07254899245475202, 'y': 1.1990097189827953}. Best is trial 907 with value: 0.00022096799294955662.\n",
            "[I 2023-12-31 08:20:54,392] Trial 988 finished with value: 3.187866940122151 and parameters: {'x': 0.8473658000331131, 'y': 0.8959211749879041}. Best is trial 907 with value: 0.00022096799294955662.\n",
            "[I 2023-12-31 08:20:54,414] Trial 989 finished with value: 0.8428815086368233 and parameters: {'x': 0.9765988335186817, 'y': 1.0455240315694632}. Best is trial 907 with value: 0.00022096799294955662.\n",
            "[I 2023-12-31 08:20:54,434] Trial 990 finished with value: 79.76317988069566 and parameters: {'x': 0.7811394554754747, 'y': -0.28265528991108424}. Best is trial 907 with value: 0.00022096799294955662.\n",
            "[I 2023-12-31 08:20:54,461] Trial 991 finished with value: 15.915081379613552 and parameters: {'x': 1.0914712614841855, 'y': 0.7924772894190798}. Best is trial 907 with value: 0.00022096799294955662.\n",
            "[I 2023-12-31 08:20:54,483] Trial 992 finished with value: 7.518043032851905 and parameters: {'x': 0.9247797016155112, 'y': 1.129304799027192}. Best is trial 907 with value: 0.00022096799294955662.\n",
            "[I 2023-12-31 08:20:54,504] Trial 993 finished with value: 90.23016193860238 and parameters: {'x': 0.18002627521599524, 'y': 0.9787593159485444}. Best is trial 907 with value: 0.00022096799294955662.\n",
            "[I 2023-12-31 08:20:54,525] Trial 994 finished with value: 15.751342120164601 and parameters: {'x': -0.7347184458681413, 'y': 0.8967718932881031}. Best is trial 907 with value: 0.00022096799294955662.\n",
            "[I 2023-12-31 08:20:54,547] Trial 995 finished with value: 422.7998007754414 and parameters: {'x': 1.052905204669084, 'y': -0.9475934454023267}. Best is trial 907 with value: 0.00022096799294955662.\n",
            "[I 2023-12-31 08:20:54,567] Trial 996 finished with value: 63.04792921110378 and parameters: {'x': -0.4908151933039485, 'y': 1.020805953942231}. Best is trial 907 with value: 0.00022096799294955662.\n",
            "[I 2023-12-31 08:20:54,588] Trial 997 finished with value: 1.8767342702357233 and parameters: {'x': 1.1920672083627808, 'y': 1.2853833630774687}. Best is trial 907 with value: 0.00022096799294955662.\n",
            "[I 2023-12-31 08:20:54,606] Trial 998 finished with value: 0.18436324996278508 and parameters: {'x': 1.0199061245209626, 'y': 1.0830998768130518}. Best is trial 907 with value: 0.00022096799294955662.\n",
            "[I 2023-12-31 08:20:54,628] Trial 999 finished with value: 19.756463713096377 and parameters: {'x': 1.1326638974967855, 'y': 0.8386430912433258}. Best is trial 907 with value: 0.00022096799294955662.\n"
          ]
        }
      ]
    },
    {
      "cell_type": "markdown",
      "source": [
        "Once the study is completed, we can then find the best parameters as follows:"
      ],
      "metadata": {
        "id": "bEy_Jsrbn81Y"
      }
    },
    {
      "cell_type": "code",
      "source": [
        "study.best_params"
      ],
      "metadata": {
        "colab": {
          "base_uri": "https://localhost:8080/"
        },
        "id": "WuOYdfEDnraN",
        "outputId": "c6bb0d78-28b2-480a-e4f7-1183acd9c29f"
      },
      "execution_count": 56,
      "outputs": [
        {
          "output_type": "execute_result",
          "data": {
            "text/plain": [
              "{'x': 0.9967079622694546, 'y': 0.9948763498566381}"
            ]
          },
          "metadata": {},
          "execution_count": 56
        }
      ]
    },
    {
      "cell_type": "markdown",
      "source": [
        "We see that with one thousand trials, Optuna has managed to find values for x and y that are reasonably close to the global minimum. To use Optuna in Transformers, we use similar logic by first defining the hyperparameter space that we wish to optimize over. In addition to α and T, we'll include the number of training epochs as follows:"
      ],
      "metadata": {
        "id": "OCyN2YuIoKZL"
      }
    },
    {
      "cell_type": "code",
      "source": [
        "def hp_space(trial):\n",
        "    return {\"num_train_epochs\": trial.suggest_int(\"num_train_epochs\", 5, 10),\n",
        "    \"alpha\": trial.suggest_float(\"alpha\", 0, 1),\n",
        "    \"temperature\": trial.suggest_int(\"temperature\", 2, 20)}"
      ],
      "metadata": {
        "id": "wgEoBX1Sn4-V"
      },
      "execution_count": 57,
      "outputs": []
    },
    {
      "cell_type": "markdown",
      "source": [
        "Running the hyperparameter search with the Trainer is then quite simple; we just need to specify the number of trials to run and a direction to optimize for. Because we want the best possible accuracy, we specify `direction=\"maximize\"` in the `hyperparameter_search()` method of the trainer and pass the hyperparameter search\n",
        "space as follows:"
      ],
      "metadata": {
        "id": "a1-owxvVoYCf"
      }
    },
    {
      "cell_type": "code",
      "source": [
        "best_run = distilbert_trainer.hyperparameter_search(\n",
        "    n_trials=20,\n",
        "    direction=\"maximize\",\n",
        "    hp_space=hp_space\n",
        ")\n",
        "\n",
        "best_run"
      ],
      "metadata": {
        "colab": {
          "base_uri": "https://localhost:8080/",
          "height": 651
        },
        "id": "HynTWLWMoFcP",
        "outputId": "6ae0769a-59d5-4130-9fcb-a227aa62c7f0"
      },
      "execution_count": 58,
      "outputs": [
        {
          "output_type": "stream",
          "name": "stderr",
          "text": [
            "[I 2023-12-31 08:20:54,657] A new study created in memory with name: no-name-ed84b479-1ad9-4a01-97be-83abca13f3f2\n",
            "[W 2023-12-31 08:20:54,661] Trial 0 failed with parameters: {'num_train_epochs': 5, 'alpha': 0.17605525382472553, 'temperature': 2} because of the following error: TypeError(\"'float' object is not iterable\").\n",
            "Traceback (most recent call last):\n",
            "  File \"/usr/local/lib/python3.10/dist-packages/optuna/study/_optimize.py\", line 200, in _run_trial\n",
            "    value_or_values = func(trial)\n",
            "  File \"/usr/local/lib/python3.10/dist-packages/transformers/integrations/integration_utils.py\", line 199, in _objective\n",
            "    trainer.train(resume_from_checkpoint=checkpoint, trial=trial)\n",
            "  File \"/usr/local/lib/python3.10/dist-packages/transformers/trainer.py\", line 1484, in train\n",
            "    self._hp_search_setup(trial)\n",
            "  File \"/usr/local/lib/python3.10/dist-packages/transformers/trainer.py\", line 1178, in _hp_search_setup\n",
            "    value = type(old_attr)(value)\n",
            "TypeError: 'float' object is not iterable\n",
            "[W 2023-12-31 08:20:54,669] Trial 0 failed with value None.\n"
          ]
        },
        {
          "output_type": "error",
          "ename": "TypeError",
          "evalue": "ignored",
          "traceback": [
            "\u001b[0;31m---------------------------------------------------------------------------\u001b[0m",
            "\u001b[0;31mTypeError\u001b[0m                                 Traceback (most recent call last)",
            "\u001b[0;32m<ipython-input-58-baa302b340ee>\u001b[0m in \u001b[0;36m<cell line: 1>\u001b[0;34m()\u001b[0m\n\u001b[0;32m----> 1\u001b[0;31m best_run = distilbert_trainer.hyperparameter_search(\n\u001b[0m\u001b[1;32m      2\u001b[0m     \u001b[0mn_trials\u001b[0m\u001b[0;34m=\u001b[0m\u001b[0;36m20\u001b[0m\u001b[0;34m,\u001b[0m\u001b[0;34m\u001b[0m\u001b[0;34m\u001b[0m\u001b[0m\n\u001b[1;32m      3\u001b[0m     \u001b[0mdirection\u001b[0m\u001b[0;34m=\u001b[0m\u001b[0;34m\"maximize\"\u001b[0m\u001b[0;34m,\u001b[0m\u001b[0;34m\u001b[0m\u001b[0;34m\u001b[0m\u001b[0m\n\u001b[1;32m      4\u001b[0m     \u001b[0mhp_space\u001b[0m\u001b[0;34m=\u001b[0m\u001b[0mhp_space\u001b[0m\u001b[0;34m\u001b[0m\u001b[0;34m\u001b[0m\u001b[0m\n\u001b[1;32m      5\u001b[0m )\n",
            "\u001b[0;32m/usr/local/lib/python3.10/dist-packages/transformers/trainer.py\u001b[0m in \u001b[0;36mhyperparameter_search\u001b[0;34m(self, hp_space, compute_objective, n_trials, direction, backend, hp_name, **kwargs)\u001b[0m\n\u001b[1;32m   2631\u001b[0m         \u001b[0mself\u001b[0m\u001b[0;34m.\u001b[0m\u001b[0mcompute_objective\u001b[0m \u001b[0;34m=\u001b[0m \u001b[0mdefault_compute_objective\u001b[0m \u001b[0;32mif\u001b[0m \u001b[0mcompute_objective\u001b[0m \u001b[0;32mis\u001b[0m \u001b[0;32mNone\u001b[0m \u001b[0;32melse\u001b[0m \u001b[0mcompute_objective\u001b[0m\u001b[0;34m\u001b[0m\u001b[0;34m\u001b[0m\u001b[0m\n\u001b[1;32m   2632\u001b[0m \u001b[0;34m\u001b[0m\u001b[0m\n\u001b[0;32m-> 2633\u001b[0;31m         \u001b[0mbest_run\u001b[0m \u001b[0;34m=\u001b[0m \u001b[0mbackend_obj\u001b[0m\u001b[0;34m.\u001b[0m\u001b[0mrun\u001b[0m\u001b[0;34m(\u001b[0m\u001b[0mself\u001b[0m\u001b[0;34m,\u001b[0m \u001b[0mn_trials\u001b[0m\u001b[0;34m,\u001b[0m \u001b[0mdirection\u001b[0m\u001b[0;34m,\u001b[0m \u001b[0;34m**\u001b[0m\u001b[0mkwargs\u001b[0m\u001b[0;34m)\u001b[0m\u001b[0;34m\u001b[0m\u001b[0;34m\u001b[0m\u001b[0m\n\u001b[0m\u001b[1;32m   2634\u001b[0m \u001b[0;34m\u001b[0m\u001b[0m\n\u001b[1;32m   2635\u001b[0m         \u001b[0mself\u001b[0m\u001b[0;34m.\u001b[0m\u001b[0mhp_search_backend\u001b[0m \u001b[0;34m=\u001b[0m \u001b[0;32mNone\u001b[0m\u001b[0;34m\u001b[0m\u001b[0;34m\u001b[0m\u001b[0m\n",
            "\u001b[0;32m/usr/local/lib/python3.10/dist-packages/transformers/hyperparameter_search.py\u001b[0m in \u001b[0;36mrun\u001b[0;34m(self, trainer, n_trials, direction, **kwargs)\u001b[0m\n\u001b[1;32m     70\u001b[0m \u001b[0;34m\u001b[0m\u001b[0m\n\u001b[1;32m     71\u001b[0m     \u001b[0;32mdef\u001b[0m \u001b[0mrun\u001b[0m\u001b[0;34m(\u001b[0m\u001b[0mself\u001b[0m\u001b[0;34m,\u001b[0m \u001b[0mtrainer\u001b[0m\u001b[0;34m,\u001b[0m \u001b[0mn_trials\u001b[0m\u001b[0;34m:\u001b[0m \u001b[0mint\u001b[0m\u001b[0;34m,\u001b[0m \u001b[0mdirection\u001b[0m\u001b[0;34m:\u001b[0m \u001b[0mstr\u001b[0m\u001b[0;34m,\u001b[0m \u001b[0;34m**\u001b[0m\u001b[0mkwargs\u001b[0m\u001b[0;34m)\u001b[0m\u001b[0;34m:\u001b[0m\u001b[0;34m\u001b[0m\u001b[0;34m\u001b[0m\u001b[0m\n\u001b[0;32m---> 72\u001b[0;31m         \u001b[0;32mreturn\u001b[0m \u001b[0mrun_hp_search_optuna\u001b[0m\u001b[0;34m(\u001b[0m\u001b[0mtrainer\u001b[0m\u001b[0;34m,\u001b[0m \u001b[0mn_trials\u001b[0m\u001b[0;34m,\u001b[0m \u001b[0mdirection\u001b[0m\u001b[0;34m,\u001b[0m \u001b[0;34m**\u001b[0m\u001b[0mkwargs\u001b[0m\u001b[0;34m)\u001b[0m\u001b[0;34m\u001b[0m\u001b[0;34m\u001b[0m\u001b[0m\n\u001b[0m\u001b[1;32m     73\u001b[0m \u001b[0;34m\u001b[0m\u001b[0m\n\u001b[1;32m     74\u001b[0m     \u001b[0;32mdef\u001b[0m \u001b[0mdefault_hp_space\u001b[0m\u001b[0;34m(\u001b[0m\u001b[0mself\u001b[0m\u001b[0;34m,\u001b[0m \u001b[0mtrial\u001b[0m\u001b[0;34m)\u001b[0m\u001b[0;34m:\u001b[0m\u001b[0;34m\u001b[0m\u001b[0;34m\u001b[0m\u001b[0m\n",
            "\u001b[0;32m/usr/local/lib/python3.10/dist-packages/transformers/integrations/integration_utils.py\u001b[0m in \u001b[0;36mrun_hp_search_optuna\u001b[0;34m(trainer, n_trials, direction, **kwargs)\u001b[0m\n\u001b[1;32m    209\u001b[0m         \u001b[0mdirection\u001b[0m \u001b[0;34m=\u001b[0m \u001b[0;32mNone\u001b[0m \u001b[0;32mif\u001b[0m \u001b[0mdirections\u001b[0m \u001b[0;32mis\u001b[0m \u001b[0;32mnot\u001b[0m \u001b[0;32mNone\u001b[0m \u001b[0;32melse\u001b[0m \u001b[0mdirection\u001b[0m\u001b[0;34m\u001b[0m\u001b[0;34m\u001b[0m\u001b[0m\n\u001b[1;32m    210\u001b[0m         \u001b[0mstudy\u001b[0m \u001b[0;34m=\u001b[0m \u001b[0moptuna\u001b[0m\u001b[0;34m.\u001b[0m\u001b[0mcreate_study\u001b[0m\u001b[0;34m(\u001b[0m\u001b[0mdirection\u001b[0m\u001b[0;34m=\u001b[0m\u001b[0mdirection\u001b[0m\u001b[0;34m,\u001b[0m \u001b[0mdirections\u001b[0m\u001b[0;34m=\u001b[0m\u001b[0mdirections\u001b[0m\u001b[0;34m,\u001b[0m \u001b[0;34m**\u001b[0m\u001b[0mkwargs\u001b[0m\u001b[0;34m)\u001b[0m\u001b[0;34m\u001b[0m\u001b[0;34m\u001b[0m\u001b[0m\n\u001b[0;32m--> 211\u001b[0;31m         \u001b[0mstudy\u001b[0m\u001b[0;34m.\u001b[0m\u001b[0moptimize\u001b[0m\u001b[0;34m(\u001b[0m\u001b[0m_objective\u001b[0m\u001b[0;34m,\u001b[0m \u001b[0mn_trials\u001b[0m\u001b[0;34m=\u001b[0m\u001b[0mn_trials\u001b[0m\u001b[0;34m,\u001b[0m \u001b[0mtimeout\u001b[0m\u001b[0;34m=\u001b[0m\u001b[0mtimeout\u001b[0m\u001b[0;34m,\u001b[0m \u001b[0mn_jobs\u001b[0m\u001b[0;34m=\u001b[0m\u001b[0mn_jobs\u001b[0m\u001b[0;34m)\u001b[0m\u001b[0;34m\u001b[0m\u001b[0;34m\u001b[0m\u001b[0m\n\u001b[0m\u001b[1;32m    212\u001b[0m         \u001b[0;32mif\u001b[0m \u001b[0;32mnot\u001b[0m \u001b[0mstudy\u001b[0m\u001b[0;34m.\u001b[0m\u001b[0m_is_multi_objective\u001b[0m\u001b[0;34m(\u001b[0m\u001b[0;34m)\u001b[0m\u001b[0;34m:\u001b[0m\u001b[0;34m\u001b[0m\u001b[0;34m\u001b[0m\u001b[0m\n\u001b[1;32m    213\u001b[0m             \u001b[0mbest_trial\u001b[0m \u001b[0;34m=\u001b[0m \u001b[0mstudy\u001b[0m\u001b[0;34m.\u001b[0m\u001b[0mbest_trial\u001b[0m\u001b[0;34m\u001b[0m\u001b[0;34m\u001b[0m\u001b[0m\n",
            "\u001b[0;32m/usr/local/lib/python3.10/dist-packages/optuna/study/study.py\u001b[0m in \u001b[0;36moptimize\u001b[0;34m(self, func, n_trials, timeout, n_jobs, catch, callbacks, gc_after_trial, show_progress_bar)\u001b[0m\n\u001b[1;32m    449\u001b[0m                 \u001b[0mIf\u001b[0m \u001b[0mnested\u001b[0m \u001b[0minvocation\u001b[0m \u001b[0mof\u001b[0m \u001b[0mthis\u001b[0m \u001b[0mmethod\u001b[0m \u001b[0moccurs\u001b[0m\u001b[0;34m.\u001b[0m\u001b[0;34m\u001b[0m\u001b[0;34m\u001b[0m\u001b[0m\n\u001b[1;32m    450\u001b[0m         \"\"\"\n\u001b[0;32m--> 451\u001b[0;31m         _optimize(\n\u001b[0m\u001b[1;32m    452\u001b[0m             \u001b[0mstudy\u001b[0m\u001b[0;34m=\u001b[0m\u001b[0mself\u001b[0m\u001b[0;34m,\u001b[0m\u001b[0;34m\u001b[0m\u001b[0;34m\u001b[0m\u001b[0m\n\u001b[1;32m    453\u001b[0m             \u001b[0mfunc\u001b[0m\u001b[0;34m=\u001b[0m\u001b[0mfunc\u001b[0m\u001b[0;34m,\u001b[0m\u001b[0;34m\u001b[0m\u001b[0;34m\u001b[0m\u001b[0m\n",
            "\u001b[0;32m/usr/local/lib/python3.10/dist-packages/optuna/study/_optimize.py\u001b[0m in \u001b[0;36m_optimize\u001b[0;34m(study, func, n_trials, timeout, n_jobs, catch, callbacks, gc_after_trial, show_progress_bar)\u001b[0m\n\u001b[1;32m     64\u001b[0m     \u001b[0;32mtry\u001b[0m\u001b[0;34m:\u001b[0m\u001b[0;34m\u001b[0m\u001b[0;34m\u001b[0m\u001b[0m\n\u001b[1;32m     65\u001b[0m         \u001b[0;32mif\u001b[0m \u001b[0mn_jobs\u001b[0m \u001b[0;34m==\u001b[0m \u001b[0;36m1\u001b[0m\u001b[0;34m:\u001b[0m\u001b[0;34m\u001b[0m\u001b[0;34m\u001b[0m\u001b[0m\n\u001b[0;32m---> 66\u001b[0;31m             _optimize_sequential(\n\u001b[0m\u001b[1;32m     67\u001b[0m                 \u001b[0mstudy\u001b[0m\u001b[0;34m,\u001b[0m\u001b[0;34m\u001b[0m\u001b[0;34m\u001b[0m\u001b[0m\n\u001b[1;32m     68\u001b[0m                 \u001b[0mfunc\u001b[0m\u001b[0;34m,\u001b[0m\u001b[0;34m\u001b[0m\u001b[0;34m\u001b[0m\u001b[0m\n",
            "\u001b[0;32m/usr/local/lib/python3.10/dist-packages/optuna/study/_optimize.py\u001b[0m in \u001b[0;36m_optimize_sequential\u001b[0;34m(study, func, n_trials, timeout, catch, callbacks, gc_after_trial, reseed_sampler_rng, time_start, progress_bar)\u001b[0m\n\u001b[1;32m    161\u001b[0m \u001b[0;34m\u001b[0m\u001b[0m\n\u001b[1;32m    162\u001b[0m         \u001b[0;32mtry\u001b[0m\u001b[0;34m:\u001b[0m\u001b[0;34m\u001b[0m\u001b[0;34m\u001b[0m\u001b[0m\n\u001b[0;32m--> 163\u001b[0;31m             \u001b[0mfrozen_trial\u001b[0m \u001b[0;34m=\u001b[0m \u001b[0m_run_trial\u001b[0m\u001b[0;34m(\u001b[0m\u001b[0mstudy\u001b[0m\u001b[0;34m,\u001b[0m \u001b[0mfunc\u001b[0m\u001b[0;34m,\u001b[0m \u001b[0mcatch\u001b[0m\u001b[0;34m)\u001b[0m\u001b[0;34m\u001b[0m\u001b[0;34m\u001b[0m\u001b[0m\n\u001b[0m\u001b[1;32m    164\u001b[0m         \u001b[0;32mfinally\u001b[0m\u001b[0;34m:\u001b[0m\u001b[0;34m\u001b[0m\u001b[0;34m\u001b[0m\u001b[0m\n\u001b[1;32m    165\u001b[0m             \u001b[0;31m# The following line mitigates memory problems that can be occurred in some\u001b[0m\u001b[0;34m\u001b[0m\u001b[0;34m\u001b[0m\u001b[0m\n",
            "\u001b[0;32m/usr/local/lib/python3.10/dist-packages/optuna/study/_optimize.py\u001b[0m in \u001b[0;36m_run_trial\u001b[0;34m(study, func, catch)\u001b[0m\n\u001b[1;32m    249\u001b[0m         \u001b[0;32mand\u001b[0m \u001b[0;32mnot\u001b[0m \u001b[0misinstance\u001b[0m\u001b[0;34m(\u001b[0m\u001b[0mfunc_err\u001b[0m\u001b[0;34m,\u001b[0m \u001b[0mcatch\u001b[0m\u001b[0;34m)\u001b[0m\u001b[0;34m\u001b[0m\u001b[0;34m\u001b[0m\u001b[0m\n\u001b[1;32m    250\u001b[0m     ):\n\u001b[0;32m--> 251\u001b[0;31m         \u001b[0;32mraise\u001b[0m \u001b[0mfunc_err\u001b[0m\u001b[0;34m\u001b[0m\u001b[0;34m\u001b[0m\u001b[0m\n\u001b[0m\u001b[1;32m    252\u001b[0m     \u001b[0;32mreturn\u001b[0m \u001b[0mfrozen_trial\u001b[0m\u001b[0;34m\u001b[0m\u001b[0;34m\u001b[0m\u001b[0m\n\u001b[1;32m    253\u001b[0m \u001b[0;34m\u001b[0m\u001b[0m\n",
            "\u001b[0;32m/usr/local/lib/python3.10/dist-packages/optuna/study/_optimize.py\u001b[0m in \u001b[0;36m_run_trial\u001b[0;34m(study, func, catch)\u001b[0m\n\u001b[1;32m    198\u001b[0m     \u001b[0;32mwith\u001b[0m \u001b[0mget_heartbeat_thread\u001b[0m\u001b[0;34m(\u001b[0m\u001b[0mtrial\u001b[0m\u001b[0;34m.\u001b[0m\u001b[0m_trial_id\u001b[0m\u001b[0;34m,\u001b[0m \u001b[0mstudy\u001b[0m\u001b[0;34m.\u001b[0m\u001b[0m_storage\u001b[0m\u001b[0;34m)\u001b[0m\u001b[0;34m:\u001b[0m\u001b[0;34m\u001b[0m\u001b[0;34m\u001b[0m\u001b[0m\n\u001b[1;32m    199\u001b[0m         \u001b[0;32mtry\u001b[0m\u001b[0;34m:\u001b[0m\u001b[0;34m\u001b[0m\u001b[0;34m\u001b[0m\u001b[0m\n\u001b[0;32m--> 200\u001b[0;31m             \u001b[0mvalue_or_values\u001b[0m \u001b[0;34m=\u001b[0m \u001b[0mfunc\u001b[0m\u001b[0;34m(\u001b[0m\u001b[0mtrial\u001b[0m\u001b[0;34m)\u001b[0m\u001b[0;34m\u001b[0m\u001b[0;34m\u001b[0m\u001b[0m\n\u001b[0m\u001b[1;32m    201\u001b[0m         \u001b[0;32mexcept\u001b[0m \u001b[0mexceptions\u001b[0m\u001b[0;34m.\u001b[0m\u001b[0mTrialPruned\u001b[0m \u001b[0;32mas\u001b[0m \u001b[0me\u001b[0m\u001b[0;34m:\u001b[0m\u001b[0;34m\u001b[0m\u001b[0;34m\u001b[0m\u001b[0m\n\u001b[1;32m    202\u001b[0m             \u001b[0;31m# TODO(mamu): Handle multi-objective cases.\u001b[0m\u001b[0;34m\u001b[0m\u001b[0;34m\u001b[0m\u001b[0m\n",
            "\u001b[0;32m/usr/local/lib/python3.10/dist-packages/transformers/integrations/integration_utils.py\u001b[0m in \u001b[0;36m_objective\u001b[0;34m(trial, checkpoint_dir)\u001b[0m\n\u001b[1;32m    197\u001b[0m                 \u001b[0mtrainer\u001b[0m\u001b[0;34m.\u001b[0m\u001b[0mtrain\u001b[0m\u001b[0;34m(\u001b[0m\u001b[0mresume_from_checkpoint\u001b[0m\u001b[0;34m=\u001b[0m\u001b[0mcheckpoint\u001b[0m\u001b[0;34m)\u001b[0m\u001b[0;34m\u001b[0m\u001b[0;34m\u001b[0m\u001b[0m\n\u001b[1;32m    198\u001b[0m             \u001b[0;32melse\u001b[0m\u001b[0;34m:\u001b[0m\u001b[0;34m\u001b[0m\u001b[0;34m\u001b[0m\u001b[0m\n\u001b[0;32m--> 199\u001b[0;31m                 \u001b[0mtrainer\u001b[0m\u001b[0;34m.\u001b[0m\u001b[0mtrain\u001b[0m\u001b[0;34m(\u001b[0m\u001b[0mresume_from_checkpoint\u001b[0m\u001b[0;34m=\u001b[0m\u001b[0mcheckpoint\u001b[0m\u001b[0;34m,\u001b[0m \u001b[0mtrial\u001b[0m\u001b[0;34m=\u001b[0m\u001b[0mtrial\u001b[0m\u001b[0;34m)\u001b[0m\u001b[0;34m\u001b[0m\u001b[0;34m\u001b[0m\u001b[0m\n\u001b[0m\u001b[1;32m    200\u001b[0m             \u001b[0;31m# If there hasn't been any evaluation during the training loop.\u001b[0m\u001b[0;34m\u001b[0m\u001b[0;34m\u001b[0m\u001b[0m\n\u001b[1;32m    201\u001b[0m             \u001b[0;32mif\u001b[0m \u001b[0mgetattr\u001b[0m\u001b[0;34m(\u001b[0m\u001b[0mtrainer\u001b[0m\u001b[0;34m,\u001b[0m \u001b[0;34m\"objective\"\u001b[0m\u001b[0;34m,\u001b[0m \u001b[0;32mNone\u001b[0m\u001b[0;34m)\u001b[0m \u001b[0;32mis\u001b[0m \u001b[0;32mNone\u001b[0m\u001b[0;34m:\u001b[0m\u001b[0;34m\u001b[0m\u001b[0;34m\u001b[0m\u001b[0m\n",
            "\u001b[0;32m/usr/local/lib/python3.10/dist-packages/transformers/trainer.py\u001b[0m in \u001b[0;36mtrain\u001b[0;34m(self, resume_from_checkpoint, trial, ignore_keys_for_eval, **kwargs)\u001b[0m\n\u001b[1;32m   1482\u001b[0m             \u001b[0;32mraise\u001b[0m \u001b[0mTypeError\u001b[0m\u001b[0;34m(\u001b[0m\u001b[0;34mf\"train() received got unexpected keyword arguments: {', '.join(list(kwargs.keys()))}.\"\u001b[0m\u001b[0;34m)\u001b[0m\u001b[0;34m\u001b[0m\u001b[0;34m\u001b[0m\u001b[0m\n\u001b[1;32m   1483\u001b[0m         \u001b[0;31m# This might change the seed so needs to run first.\u001b[0m\u001b[0;34m\u001b[0m\u001b[0;34m\u001b[0m\u001b[0m\n\u001b[0;32m-> 1484\u001b[0;31m         \u001b[0mself\u001b[0m\u001b[0;34m.\u001b[0m\u001b[0m_hp_search_setup\u001b[0m\u001b[0;34m(\u001b[0m\u001b[0mtrial\u001b[0m\u001b[0;34m)\u001b[0m\u001b[0;34m\u001b[0m\u001b[0;34m\u001b[0m\u001b[0m\n\u001b[0m\u001b[1;32m   1485\u001b[0m         \u001b[0mself\u001b[0m\u001b[0;34m.\u001b[0m\u001b[0m_train_batch_size\u001b[0m \u001b[0;34m=\u001b[0m \u001b[0mself\u001b[0m\u001b[0;34m.\u001b[0m\u001b[0margs\u001b[0m\u001b[0;34m.\u001b[0m\u001b[0mtrain_batch_size\u001b[0m\u001b[0;34m\u001b[0m\u001b[0;34m\u001b[0m\u001b[0m\n\u001b[1;32m   1486\u001b[0m \u001b[0;34m\u001b[0m\u001b[0m\n",
            "\u001b[0;32m/usr/local/lib/python3.10/dist-packages/transformers/trainer.py\u001b[0m in \u001b[0;36m_hp_search_setup\u001b[0;34m(self, trial)\u001b[0m\n\u001b[1;32m   1176\u001b[0m             \u001b[0;31m# Casting value to the proper type\u001b[0m\u001b[0;34m\u001b[0m\u001b[0;34m\u001b[0m\u001b[0m\n\u001b[1;32m   1177\u001b[0m             \u001b[0;32mif\u001b[0m \u001b[0mold_attr\u001b[0m \u001b[0;32mis\u001b[0m \u001b[0;32mnot\u001b[0m \u001b[0;32mNone\u001b[0m\u001b[0;34m:\u001b[0m\u001b[0;34m\u001b[0m\u001b[0;34m\u001b[0m\u001b[0m\n\u001b[0;32m-> 1178\u001b[0;31m                 \u001b[0mvalue\u001b[0m \u001b[0;34m=\u001b[0m \u001b[0mtype\u001b[0m\u001b[0;34m(\u001b[0m\u001b[0mold_attr\u001b[0m\u001b[0;34m)\u001b[0m\u001b[0;34m(\u001b[0m\u001b[0mvalue\u001b[0m\u001b[0;34m)\u001b[0m\u001b[0;34m\u001b[0m\u001b[0;34m\u001b[0m\u001b[0m\n\u001b[0m\u001b[1;32m   1179\u001b[0m \u001b[0;34m\u001b[0m\u001b[0m\n\u001b[1;32m   1180\u001b[0m             \u001b[0msetattr\u001b[0m\u001b[0;34m(\u001b[0m\u001b[0mself\u001b[0m\u001b[0;34m.\u001b[0m\u001b[0margs\u001b[0m\u001b[0;34m,\u001b[0m \u001b[0mkey\u001b[0m\u001b[0;34m,\u001b[0m \u001b[0mvalue\u001b[0m\u001b[0;34m)\u001b[0m\u001b[0;34m\u001b[0m\u001b[0;34m\u001b[0m\u001b[0m\n",
            "\u001b[0;31mTypeError\u001b[0m: 'float' object is not iterable"
          ]
        }
      ]
    },
    {
      "cell_type": "markdown",
      "source": [
        "# Making Models Faster with Quantization"
      ],
      "metadata": {
        "id": "4QsSK-8nql-9"
      }
    },
    {
      "cell_type": "markdown",
      "source": [
        "**Quantization**: is a technique that makes the `model smaller` and `faster`.\n",
        "\n",
        "We can use quantization to convert the model weights and activations from `32-bit floating point (FP32) to 8-bit integer (INT8)` which will eventually `reduce the number of bits by four times (32/8)`, which means:\n",
        "* **less memory usage** and **faster calculations**.\n",
        "\n",
        "> Quantization can be done `without hurting the model accuracy too much`.\n",
        "\n",
        "**Benefits of quantization**: Quantization helps us `save memory` and `time` when running the model. By using `INT8` instead of `FP32`, we can shrink the model size by `75%` and `speed up matrix multiplication`.\n",
        "\n",
        "* Quantization also makes the model more compatible with low-power devices like mobile phones or microcontrollers.\n",
        "    \n",
        "* Quantization usually **preserves the model quality**, or only slightly reduces it."
      ],
      "metadata": {
        "id": "PAzc68oYqybq"
      }
    },
    {
      "cell_type": "code",
      "source": [
        "import matplotlib.pyplot as plt\n",
        "\n",
        "state_dict = pipe.model.state_dict()\n",
        "for layer in state_dict:\n",
        "    print(layer)"
      ],
      "metadata": {
        "id": "ulj0deQdox6H",
        "colab": {
          "base_uri": "https://localhost:8080/"
        },
        "outputId": "781f71e5-78d2-4c1e-b063-823c5d1372d9"
      },
      "execution_count": 62,
      "outputs": [
        {
          "output_type": "stream",
          "name": "stdout",
          "text": [
            "distilbert.embeddings.word_embeddings.weight\n",
            "distilbert.embeddings.position_embeddings.weight\n",
            "distilbert.embeddings.LayerNorm.weight\n",
            "distilbert.embeddings.LayerNorm.bias\n",
            "distilbert.transformer.layer.0.attention.q_lin.weight\n",
            "distilbert.transformer.layer.0.attention.q_lin.bias\n",
            "distilbert.transformer.layer.0.attention.k_lin.weight\n",
            "distilbert.transformer.layer.0.attention.k_lin.bias\n",
            "distilbert.transformer.layer.0.attention.v_lin.weight\n",
            "distilbert.transformer.layer.0.attention.v_lin.bias\n",
            "distilbert.transformer.layer.0.attention.out_lin.weight\n",
            "distilbert.transformer.layer.0.attention.out_lin.bias\n",
            "distilbert.transformer.layer.0.sa_layer_norm.weight\n",
            "distilbert.transformer.layer.0.sa_layer_norm.bias\n",
            "distilbert.transformer.layer.0.ffn.lin1.weight\n",
            "distilbert.transformer.layer.0.ffn.lin1.bias\n",
            "distilbert.transformer.layer.0.ffn.lin2.weight\n",
            "distilbert.transformer.layer.0.ffn.lin2.bias\n",
            "distilbert.transformer.layer.0.output_layer_norm.weight\n",
            "distilbert.transformer.layer.0.output_layer_norm.bias\n",
            "distilbert.transformer.layer.1.attention.q_lin.weight\n",
            "distilbert.transformer.layer.1.attention.q_lin.bias\n",
            "distilbert.transformer.layer.1.attention.k_lin.weight\n",
            "distilbert.transformer.layer.1.attention.k_lin.bias\n",
            "distilbert.transformer.layer.1.attention.v_lin.weight\n",
            "distilbert.transformer.layer.1.attention.v_lin.bias\n",
            "distilbert.transformer.layer.1.attention.out_lin.weight\n",
            "distilbert.transformer.layer.1.attention.out_lin.bias\n",
            "distilbert.transformer.layer.1.sa_layer_norm.weight\n",
            "distilbert.transformer.layer.1.sa_layer_norm.bias\n",
            "distilbert.transformer.layer.1.ffn.lin1.weight\n",
            "distilbert.transformer.layer.1.ffn.lin1.bias\n",
            "distilbert.transformer.layer.1.ffn.lin2.weight\n",
            "distilbert.transformer.layer.1.ffn.lin2.bias\n",
            "distilbert.transformer.layer.1.output_layer_norm.weight\n",
            "distilbert.transformer.layer.1.output_layer_norm.bias\n",
            "distilbert.transformer.layer.2.attention.q_lin.weight\n",
            "distilbert.transformer.layer.2.attention.q_lin.bias\n",
            "distilbert.transformer.layer.2.attention.k_lin.weight\n",
            "distilbert.transformer.layer.2.attention.k_lin.bias\n",
            "distilbert.transformer.layer.2.attention.v_lin.weight\n",
            "distilbert.transformer.layer.2.attention.v_lin.bias\n",
            "distilbert.transformer.layer.2.attention.out_lin.weight\n",
            "distilbert.transformer.layer.2.attention.out_lin.bias\n",
            "distilbert.transformer.layer.2.sa_layer_norm.weight\n",
            "distilbert.transformer.layer.2.sa_layer_norm.bias\n",
            "distilbert.transformer.layer.2.ffn.lin1.weight\n",
            "distilbert.transformer.layer.2.ffn.lin1.bias\n",
            "distilbert.transformer.layer.2.ffn.lin2.weight\n",
            "distilbert.transformer.layer.2.ffn.lin2.bias\n",
            "distilbert.transformer.layer.2.output_layer_norm.weight\n",
            "distilbert.transformer.layer.2.output_layer_norm.bias\n",
            "distilbert.transformer.layer.3.attention.q_lin.weight\n",
            "distilbert.transformer.layer.3.attention.q_lin.bias\n",
            "distilbert.transformer.layer.3.attention.k_lin.weight\n",
            "distilbert.transformer.layer.3.attention.k_lin.bias\n",
            "distilbert.transformer.layer.3.attention.v_lin.weight\n",
            "distilbert.transformer.layer.3.attention.v_lin.bias\n",
            "distilbert.transformer.layer.3.attention.out_lin.weight\n",
            "distilbert.transformer.layer.3.attention.out_lin.bias\n",
            "distilbert.transformer.layer.3.sa_layer_norm.weight\n",
            "distilbert.transformer.layer.3.sa_layer_norm.bias\n",
            "distilbert.transformer.layer.3.ffn.lin1.weight\n",
            "distilbert.transformer.layer.3.ffn.lin1.bias\n",
            "distilbert.transformer.layer.3.ffn.lin2.weight\n",
            "distilbert.transformer.layer.3.ffn.lin2.bias\n",
            "distilbert.transformer.layer.3.output_layer_norm.weight\n",
            "distilbert.transformer.layer.3.output_layer_norm.bias\n",
            "distilbert.transformer.layer.4.attention.q_lin.weight\n",
            "distilbert.transformer.layer.4.attention.q_lin.bias\n",
            "distilbert.transformer.layer.4.attention.k_lin.weight\n",
            "distilbert.transformer.layer.4.attention.k_lin.bias\n",
            "distilbert.transformer.layer.4.attention.v_lin.weight\n",
            "distilbert.transformer.layer.4.attention.v_lin.bias\n",
            "distilbert.transformer.layer.4.attention.out_lin.weight\n",
            "distilbert.transformer.layer.4.attention.out_lin.bias\n",
            "distilbert.transformer.layer.4.sa_layer_norm.weight\n",
            "distilbert.transformer.layer.4.sa_layer_norm.bias\n",
            "distilbert.transformer.layer.4.ffn.lin1.weight\n",
            "distilbert.transformer.layer.4.ffn.lin1.bias\n",
            "distilbert.transformer.layer.4.ffn.lin2.weight\n",
            "distilbert.transformer.layer.4.ffn.lin2.bias\n",
            "distilbert.transformer.layer.4.output_layer_norm.weight\n",
            "distilbert.transformer.layer.4.output_layer_norm.bias\n",
            "distilbert.transformer.layer.5.attention.q_lin.weight\n",
            "distilbert.transformer.layer.5.attention.q_lin.bias\n",
            "distilbert.transformer.layer.5.attention.k_lin.weight\n",
            "distilbert.transformer.layer.5.attention.k_lin.bias\n",
            "distilbert.transformer.layer.5.attention.v_lin.weight\n",
            "distilbert.transformer.layer.5.attention.v_lin.bias\n",
            "distilbert.transformer.layer.5.attention.out_lin.weight\n",
            "distilbert.transformer.layer.5.attention.out_lin.bias\n",
            "distilbert.transformer.layer.5.sa_layer_norm.weight\n",
            "distilbert.transformer.layer.5.sa_layer_norm.bias\n",
            "distilbert.transformer.layer.5.ffn.lin1.weight\n",
            "distilbert.transformer.layer.5.ffn.lin1.bias\n",
            "distilbert.transformer.layer.5.ffn.lin2.weight\n",
            "distilbert.transformer.layer.5.ffn.lin2.bias\n",
            "distilbert.transformer.layer.5.output_layer_norm.weight\n",
            "distilbert.transformer.layer.5.output_layer_norm.bias\n",
            "pre_classifier.weight\n",
            "pre_classifier.bias\n",
            "classifier.weight\n",
            "classifier.bias\n"
          ]
        }
      ]
    },
    {
      "cell_type": "code",
      "source": [
        "weights = state_dict[\"distilbert.transformer.layer.0.attention.out_lin.weight\"]\n",
        "plt.hist(weights.flatten().numpy(), bins=250, range=(-0.3,0.3), edgecolor=\"C0\")\n",
        "plt.show()"
      ],
      "metadata": {
        "colab": {
          "base_uri": "https://localhost:8080/",
          "height": 430
        },
        "id": "PSu7rD4-_a5u",
        "outputId": "12680c75-719d-482c-f58e-535abf6f9a17"
      },
      "execution_count": 65,
      "outputs": [
        {
          "output_type": "display_data",
          "data": {
            "text/plain": [
              "<Figure size 640x480 with 1 Axes>"
            ],
            "image/png": "[encoded data removed]"
          },
          "metadata": {}
        }
      ]
    },
    {
      "cell_type": "markdown",
      "source": [
        "As we can see, the values of the weights are distributed in the small range `[−0 . 1, 0 . 1]` around zero. Now, suppose we want to quantize this tensor as a signed `8-bit integer`. In that case, the range of possible values for our integers is `[qmax, qmin] = [−128, 127]`. The zero point coincides with the zero of `FP32` and the scale factor is calculated according to the equation $$f = \\frac{f_{max} - f_{min}}{q_{max} - q_{min}} (q-Z)=S(q-Z)$$."
      ],
      "metadata": {
        "id": "TPncMQNcsY2S"
      }
    },
    {
      "cell_type": "code",
      "source": [
        "zero_point = 0\n",
        "qmax,qmin=127, -128\n",
        "scale = (weights.max() - weights.min()) / (qmax - (qmin))\n",
        "scale"
      ],
      "metadata": {
        "colab": {
          "base_uri": "https://localhost:8080/"
        },
        "id": "F3n7WU82qzC1",
        "outputId": "ef4c1224-e388-4f0d-a3c5-11406376f223"
      },
      "execution_count": 66,
      "outputs": [
        {
          "output_type": "execute_result",
          "data": {
            "text/plain": [
              "tensor(0.0053)"
            ]
          },
          "metadata": {},
          "execution_count": 66
        }
      ]
    },
    {
      "cell_type": "markdown",
      "source": [
        "To obtain the quantized tensor, we just need to invert the mapping\n",
        "$$q = \\frac{f}{S} + Z$$\n",
        "clamp the values, round them to the nearest integer, and represent the result in the `torch.int8` data type using the `Tensor.char()` function"
      ],
      "metadata": {
        "id": "A6X2EvYnu_Mm"
      }
    },
    {
      "cell_type": "code",
      "source": [
        "(weights / scale + zero_point).clamp(qmin, qmax).round().char()"
      ],
      "metadata": {
        "colab": {
          "base_uri": "https://localhost:8080/"
        },
        "id": "7igJ_eU4stNe",
        "outputId": "c21c1903-b059-499b-d3cf-7625f1337ced"
      },
      "execution_count": 67,
      "outputs": [
        {
          "output_type": "execute_result",
          "data": {
            "text/plain": [
              "tensor([[ -5,  -8,   0,  ...,  -6,  -4,   8],\n",
              "        [  9,   2,   1,  ...,  -4,   7,   0],\n",
              "        [ -8,  -5,   5,  ...,   0,   6,  -4],\n",
              "        ...,\n",
              "        [  6,   0,  13,  ...,   0,   6,  -1],\n",
              "        [  0,  -2, -12,  ...,  12,  -7, -13],\n",
              "        [-13,  -1,  -9,  ...,   8,   2,  -1]], dtype=torch.int8)"
            ]
          },
          "metadata": {},
          "execution_count": 67
        }
      ]
    },
    {
      "cell_type": "markdown",
      "source": [
        "Great, we've just quantized our first tensor! In PyTorch we can simplify the conversion by using the `quantize_per_tensor()` function together with a quantized data type, `torch.qint`, that is ***optimized for integer arithmetic operations***."
      ],
      "metadata": {
        "id": "Mnxc2F26vibu"
      }
    },
    {
      "cell_type": "code",
      "source": [
        "from torch import quantize_per_tensor\n",
        "\n",
        "dtype = torch.qint8\n",
        "quantized_weights = quantize_per_tensor(weights, scale, zero_point, dtype)\n",
        "quantized_weights.int_repr()"
      ],
      "metadata": {
        "colab": {
          "base_uri": "https://localhost:8080/"
        },
        "id": "K3cp2lV9vYRb",
        "outputId": "ff3e8ba2-a2a0-4401-c762-f95b791ebaec"
      },
      "execution_count": 68,
      "outputs": [
        {
          "output_type": "execute_result",
          "data": {
            "text/plain": [
              "tensor([[ -5,  -8,   0,  ...,  -6,  -4,   8],\n",
              "        [  9,   2,   1,  ...,  -4,   7,   0],\n",
              "        [ -8,  -5,   5,  ...,   0,   6,  -4],\n",
              "        ...,\n",
              "        [  6,   0,  13,  ...,   0,   6,  -1],\n",
              "        [  0,  -2, -12,  ...,  12,  -7, -13],\n",
              "        [-13,  -1,  -9,  ...,   8,   2,  -1]], dtype=torch.int8)"
            ]
          },
          "metadata": {},
          "execution_count": 68
        }
      ]
    },
    {
      "cell_type": "markdown",
      "source": [
        "To round out our little analysis, let's compare how long it takes to compute the multiplication of two weight tensors with `FP32` and `INT8` values. For the `FP32 tensors`, we can multiply them using PyTorch's `nifty @ operator`."
      ],
      "metadata": {
        "id": "zJI_p-ACv_QQ"
      }
    },
    {
      "cell_type": "code",
      "source": [
        "%%timeit\n",
        "weights @ weights"
      ],
      "metadata": {
        "colab": {
          "base_uri": "https://localhost:8080/"
        },
        "id": "ogn-t2m4vuDo",
        "outputId": "51be4c2f-9f63-483d-bc2e-48e05db0a1da"
      },
      "execution_count": 69,
      "outputs": [
        {
          "output_type": "stream",
          "name": "stdout",
          "text": [
            "18.4 ms ± 430 µs per loop (mean ± std. dev. of 7 runs, 10 loops each)\n"
          ]
        }
      ]
    },
    {
      "cell_type": "markdown",
      "source": [
        "For the quantized tensors we need the `QFunctional` wrapper class so that we can perform operations with the special `torch.qint8` data type."
      ],
      "metadata": {
        "id": "RZjBabcCwPf2"
      }
    },
    {
      "cell_type": "code",
      "source": [
        "from torch.nn.quantized import QFunctional\n",
        "q_fn = QFunctional()"
      ],
      "metadata": {
        "id": "8kfn7oUAwLbN"
      },
      "execution_count": 70,
      "outputs": []
    },
    {
      "cell_type": "code",
      "source": [
        "%%timeit\n",
        "q_fn.mul(quantized_weights, quantized_weights)"
      ],
      "metadata": {
        "colab": {
          "base_uri": "https://localhost:8080/"
        },
        "id": "BSqO7kKnwXIB",
        "outputId": "d92ed90e-4316-4cd1-dcc6-d0c1a218026c"
      },
      "execution_count": 71,
      "outputs": [
        {
          "output_type": "stream",
          "name": "stdout",
          "text": [
            "230 µs ± 6.23 µs per loop (mean ± std. dev. of 7 runs, 1000 loops each)\n"
          ]
        }
      ]
    },
    {
      "cell_type": "markdown",
      "source": [
        "## Remarks\n",
        "* Compared to our FP32 computation, using the INT8 tensors is almost `100 times faster!` Even larger gains can be obtained by using dedicated backends for running quantized operators efficiently. PyTorch supports:\n",
        "    * x86 CPUs with AVX2 support or higher\n",
        "    * ARM CPUs (typically found in mobile/embedded devices)\n",
        "\n",
        "* Since `INT8` numbers have `four times fewer bits` than FP32 numbers, quantization also reduces the memory storage requirements by up to a factor of four.\n",
        "\n",
        "\n",
        "In our simple example we can verify this by comparing the underlying storage size of our weight tensor and its quantized cousin by using the Tensor `untyped_storage()` function and the get `sizeof()` function from Python's `sys` module."
      ],
      "metadata": {
        "id": "KxhlwbnOxCtc"
      }
    },
    {
      "cell_type": "code",
      "source": [
        "import sys\n",
        "sys.getsizeof(weights.untyped_storage()) / sys.getsizeof(quantized_weights.untyped_storage())"
      ],
      "metadata": {
        "colab": {
          "base_uri": "https://localhost:8080/"
        },
        "id": "Ns-DAWGGwjeg",
        "outputId": "2cc2042b-e706-4497-ebc6-1e15332074a1"
      },
      "execution_count": 72,
      "outputs": [
        {
          "output_type": "execute_result",
          "data": {
            "text/plain": [
              "3.9996745144841053"
            ]
          },
          "metadata": {},
          "execution_count": 72
        }
      ]
    },
    {
      "cell_type": "markdown",
      "source": [
        "## Quantization types"
      ],
      "metadata": {
        "id": "nLThztQV0wZs"
      }
    },
    {
      "cell_type": "markdown",
      "source": [
        "Quantization is a technique to `reduce the size` and `speed up the inference` of deep neural networks by using fewer bits to represent their numerical values. However, quantization can also introduce errors that affect the model's accuracy. Depending on when and how the quantization is applied, there are three main approaches:\n",
        "\n",
        "* **Post-training quantization (dynamic quantization)**: This approach `quantizes the model after it has been trained with full precision`. It is `fast` and `easy to apply`, but it may not preserve the model's performance well, especially for low-bitwidth quantization (such as 8 bits or less).\n",
        "\n",
        "    * Dynamic quantization can reduce the model size by up to **75%** and speed up the inference by up to **4x**, depending on the hardware and the model architecture.\n",
        "\n",
        "    * Dynamic quantization is supported by several deep learning frameworks, such as **PyTorch**, **TensorFlow**, and ONNX.\n",
        "\n",
        "\n",
        "* **Quantization-aware training**: This approach quantizes the model during training, by simulating the effects of quantization on the weights, activations, and gradients. It can `achieve better performance` than post-training quantization, but it requires more computational resources and may need hyperparameter tuning.\n",
        "\n",
        "* **Training quantization (static quantization)**: This approach quantizes the model from scratch, by using low-precision arithmetic for all the computations during training. It can achieve the best performance among the three approaches, but it is the most challenging to implement and may require specialized hardware."
      ],
      "metadata": {
        "id": "GWvmLWoT00F9"
      }
    },
    {
      "cell_type": "markdown",
      "source": [
        "## Quantization Implementation"
      ],
      "metadata": {
        "id": "QSb31g4W159l"
      }
    },
    {
      "cell_type": "code",
      "source": [
        "from torch.quantization import quantize_dynamic\n",
        "\n",
        "model_checkpoint=\"distilbert-base-uncased-finetuned-clinc\"\n",
        "tokenizer=AutoTokenizer.from_pretrained(\n",
        "    pretrained_model_name_or_path=model_checkpoint\n",
        ")\n",
        "model=(AutoModelForSequenceClassification.from_pretrained(\n",
        "    pretrained_model_name_or_path=model_checkpoint\n",
        "    ).to(\"cpu\")\n",
        ")\n",
        "\n",
        "model_quantized=quantize_dynamic(model, {nn.Linear}, dtype=torch.qint8)\n",
        "model_quantized"
      ],
      "metadata": {
        "colab": {
          "base_uri": "https://localhost:8080/"
        },
        "id": "MxHAHI1l1do7",
        "outputId": "a37afabc-d300-4e85-97f0-99163c8e4e01"
      },
      "execution_count": 73,
      "outputs": [
        {
          "output_type": "execute_result",
          "data": {
            "text/plain": [
              "DistilBertForSequenceClassification(\n",
              "  (distilbert): DistilBertModel(\n",
              "    (embeddings): Embeddings(\n",
              "      (word_embeddings): Embedding(30522, 768, padding_idx=0)\n",
              "      (position_embeddings): Embedding(512, 768)\n",
              "      (LayerNorm): LayerNorm((768,), eps=1e-12, elementwise_affine=True)\n",
              "      (dropout): Dropout(p=0.1, inplace=False)\n",
              "    )\n",
              "    (transformer): Transformer(\n",
              "      (layer): ModuleList(\n",
              "        (0-5): 6 x TransformerBlock(\n",
              "          (attention): MultiHeadSelfAttention(\n",
              "            (dropout): Dropout(p=0.1, inplace=False)\n",
              "            (q_lin): DynamicQuantizedLinear(in_features=768, out_features=768, dtype=torch.qint8, qscheme=torch.per_tensor_affine)\n",
              "            (k_lin): DynamicQuantizedLinear(in_features=768, out_features=768, dtype=torch.qint8, qscheme=torch.per_tensor_affine)\n",
              "            (v_lin): DynamicQuantizedLinear(in_features=768, out_features=768, dtype=torch.qint8, qscheme=torch.per_tensor_affine)\n",
              "            (out_lin): DynamicQuantizedLinear(in_features=768, out_features=768, dtype=torch.qint8, qscheme=torch.per_tensor_affine)\n",
              "          )\n",
              "          (sa_layer_norm): LayerNorm((768,), eps=1e-12, elementwise_affine=True)\n",
              "          (ffn): FFN(\n",
              "            (dropout): Dropout(p=0.1, inplace=False)\n",
              "            (lin1): DynamicQuantizedLinear(in_features=768, out_features=3072, dtype=torch.qint8, qscheme=torch.per_tensor_affine)\n",
              "            (lin2): DynamicQuantizedLinear(in_features=3072, out_features=768, dtype=torch.qint8, qscheme=torch.per_tensor_affine)\n",
              "            (activation): GELUActivation()\n",
              "          )\n",
              "          (output_layer_norm): LayerNorm((768,), eps=1e-12, elementwise_affine=True)\n",
              "        )\n",
              "      )\n",
              "    )\n",
              "  )\n",
              "  (pre_classifier): DynamicQuantizedLinear(in_features=768, out_features=768, dtype=torch.qint8, qscheme=torch.per_tensor_affine)\n",
              "  (classifier): DynamicQuantizedLinear(in_features=768, out_features=151, dtype=torch.qint8, qscheme=torch.per_tensor_affine)\n",
              "  (dropout): Dropout(p=0.2, inplace=False)\n",
              ")"
            ]
          },
          "metadata": {},
          "execution_count": 73
        }
      ]
    },
    {
      "cell_type": "markdown",
      "source": [
        "Here we pass to `quantize_dynamic()` the full-precision model and specify the set of PyTorch layer classes in that model that we want to quantize. The dtype argument specifies the target precision and can be `fp16` or `qint8`. A good practice is to pick the lowest precision that you can tolerate with respect to your evaluation metrics."
      ],
      "metadata": {
        "id": "wFkYCkcZ76LK"
      }
    },
    {
      "cell_type": "markdown",
      "source": [
        "## Benchmarking Our Quantized Model"
      ],
      "metadata": {
        "id": "7l5i4BhPAJ0T"
      }
    },
    {
      "cell_type": "code",
      "source": [],
      "metadata": {
        "id": "64dFZZIc8ecO"
      },
      "execution_count": 73,
      "outputs": []
    }
  ]
}