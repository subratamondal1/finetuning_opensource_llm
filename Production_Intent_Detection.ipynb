{
  "nbformat": 4,
  "nbformat_minor": 0,
  "metadata": {
    "colab": {
      "provenance": [],
      "gpuType": "T4"
    },
    "kernelspec": {
      "name": "python3",
      "display_name": "Python 3"
    },
    "language_info": {
      "name": "python"
    },
    "accelerator": "GPU",
    "widgets": {
      "application/vnd.jupyter.widget-state+json": {
        "20fdaee3062c418eada964aeb5c184d1": {
          "model_module": "@jupyter-widgets/controls",
          "model_name": "HBoxModel",
          "model_module_version": "1.5.0",
          "state": {
            "_dom_classes": [],
            "_model_module": "@jupyter-widgets/controls",
            "_model_module_version": "1.5.0",
            "_model_name": "HBoxModel",
            "_view_count": null,
            "_view_module": "@jupyter-widgets/controls",
            "_view_module_version": "1.5.0",
            "_view_name": "HBoxView",
            "box_style": "",
            "children": [
              "IPY_MODEL_668300787fb943f0891db93ded23d965",
              "IPY_MODEL_811289724ed54726be9309d251b1ce7e",
              "IPY_MODEL_8d5d4bd643f64b3c9e8944c2c0a298ce"
            ],
            "layout": "IPY_MODEL_c60f6c3d92d344508e25261bfe095580"
          }
        },
        "668300787fb943f0891db93ded23d965": {
          "model_module": "@jupyter-widgets/controls",
          "model_name": "HTMLModel",
          "model_module_version": "1.5.0",
          "state": {
            "_dom_classes": [],
            "_model_module": "@jupyter-widgets/controls",
            "_model_module_version": "1.5.0",
            "_model_name": "HTMLModel",
            "_view_count": null,
            "_view_module": "@jupyter-widgets/controls",
            "_view_module_version": "1.5.0",
            "_view_name": "HTMLView",
            "description": "",
            "description_tooltip": null,
            "layout": "IPY_MODEL_a0cae37a56864649884e895569f8d45f",
            "placeholder": "​",
            "style": "IPY_MODEL_92628ee9c5c14094b33a0ba91d1e2734",
            "value": "Map: 100%"
          }
        },
        "811289724ed54726be9309d251b1ce7e": {
          "model_module": "@jupyter-widgets/controls",
          "model_name": "FloatProgressModel",
          "model_module_version": "1.5.0",
          "state": {
            "_dom_classes": [],
            "_model_module": "@jupyter-widgets/controls",
            "_model_module_version": "1.5.0",
            "_model_name": "FloatProgressModel",
            "_view_count": null,
            "_view_module": "@jupyter-widgets/controls",
            "_view_module_version": "1.5.0",
            "_view_name": "ProgressView",
            "bar_style": "success",
            "description": "",
            "description_tooltip": null,
            "layout": "IPY_MODEL_577bf3a4053a4c7d800e2230a272cae6",
            "max": 5500,
            "min": 0,
            "orientation": "horizontal",
            "style": "IPY_MODEL_cb1f1d51677d4595ac712500e4b0c966",
            "value": 5500
          }
        },
        "8d5d4bd643f64b3c9e8944c2c0a298ce": {
          "model_module": "@jupyter-widgets/controls",
          "model_name": "HTMLModel",
          "model_module_version": "1.5.0",
          "state": {
            "_dom_classes": [],
            "_model_module": "@jupyter-widgets/controls",
            "_model_module_version": "1.5.0",
            "_model_name": "HTMLModel",
            "_view_count": null,
            "_view_module": "@jupyter-widgets/controls",
            "_view_module_version": "1.5.0",
            "_view_name": "HTMLView",
            "description": "",
            "description_tooltip": null,
            "layout": "IPY_MODEL_42e3f1492ec148e0828618b6f1122d28",
            "placeholder": "​",
            "style": "IPY_MODEL_f770c6dc7c684d6bbcd562b0ab710e5c",
            "value": " 5500/5500 [00:00&lt;00:00, 11545.36 examples/s]"
          }
        },
        "c60f6c3d92d344508e25261bfe095580": {
          "model_module": "@jupyter-widgets/base",
          "model_name": "LayoutModel",
          "model_module_version": "1.2.0",
          "state": {
            "_model_module": "@jupyter-widgets/base",
            "_model_module_version": "1.2.0",
            "_model_name": "LayoutModel",
            "_view_count": null,
            "_view_module": "@jupyter-widgets/base",
            "_view_module_version": "1.2.0",
            "_view_name": "LayoutView",
            "align_content": null,
            "align_items": null,
            "align_self": null,
            "border": null,
            "bottom": null,
            "display": null,
            "flex": null,
            "flex_flow": null,
            "grid_area": null,
            "grid_auto_columns": null,
            "grid_auto_flow": null,
            "grid_auto_rows": null,
            "grid_column": null,
            "grid_gap": null,
            "grid_row": null,
            "grid_template_areas": null,
            "grid_template_columns": null,
            "grid_template_rows": null,
            "height": null,
            "justify_content": null,
            "justify_items": null,
            "left": null,
            "margin": null,
            "max_height": null,
            "max_width": null,
            "min_height": null,
            "min_width": null,
            "object_fit": null,
            "object_position": null,
            "order": null,
            "overflow": null,
            "overflow_x": null,
            "overflow_y": null,
            "padding": null,
            "right": null,
            "top": null,
            "visibility": null,
            "width": null
          }
        },
        "a0cae37a56864649884e895569f8d45f": {
          "model_module": "@jupyter-widgets/base",
          "model_name": "LayoutModel",
          "model_module_version": "1.2.0",
          "state": {
            "_model_module": "@jupyter-widgets/base",
            "_model_module_version": "1.2.0",
            "_model_name": "LayoutModel",
            "_view_count": null,
            "_view_module": "@jupyter-widgets/base",
            "_view_module_version": "1.2.0",
            "_view_name": "LayoutView",
            "align_content": null,
            "align_items": null,
            "align_self": null,
            "border": null,
            "bottom": null,
            "display": null,
            "flex": null,
            "flex_flow": null,
            "grid_area": null,
            "grid_auto_columns": null,
            "grid_auto_flow": null,
            "grid_auto_rows": null,
            "grid_column": null,
            "grid_gap": null,
            "grid_row": null,
            "grid_template_areas": null,
            "grid_template_columns": null,
            "grid_template_rows": null,
            "height": null,
            "justify_content": null,
            "justify_items": null,
            "left": null,
            "margin": null,
            "max_height": null,
            "max_width": null,
            "min_height": null,
            "min_width": null,
            "object_fit": null,
            "object_position": null,
            "order": null,
            "overflow": null,
            "overflow_x": null,
            "overflow_y": null,
            "padding": null,
            "right": null,
            "top": null,
            "visibility": null,
            "width": null
          }
        },
        "92628ee9c5c14094b33a0ba91d1e2734": {
          "model_module": "@jupyter-widgets/controls",
          "model_name": "DescriptionStyleModel",
          "model_module_version": "1.5.0",
          "state": {
            "_model_module": "@jupyter-widgets/controls",
            "_model_module_version": "1.5.0",
            "_model_name": "DescriptionStyleModel",
            "_view_count": null,
            "_view_module": "@jupyter-widgets/base",
            "_view_module_version": "1.2.0",
            "_view_name": "StyleView",
            "description_width": ""
          }
        },
        "577bf3a4053a4c7d800e2230a272cae6": {
          "model_module": "@jupyter-widgets/base",
          "model_name": "LayoutModel",
          "model_module_version": "1.2.0",
          "state": {
            "_model_module": "@jupyter-widgets/base",
            "_model_module_version": "1.2.0",
            "_model_name": "LayoutModel",
            "_view_count": null,
            "_view_module": "@jupyter-widgets/base",
            "_view_module_version": "1.2.0",
            "_view_name": "LayoutView",
            "align_content": null,
            "align_items": null,
            "align_self": null,
            "border": null,
            "bottom": null,
            "display": null,
            "flex": null,
            "flex_flow": null,
            "grid_area": null,
            "grid_auto_columns": null,
            "grid_auto_flow": null,
            "grid_auto_rows": null,
            "grid_column": null,
            "grid_gap": null,
            "grid_row": null,
            "grid_template_areas": null,
            "grid_template_columns": null,
            "grid_template_rows": null,
            "height": null,
            "justify_content": null,
            "justify_items": null,
            "left": null,
            "margin": null,
            "max_height": null,
            "max_width": null,
            "min_height": null,
            "min_width": null,
            "object_fit": null,
            "object_position": null,
            "order": null,
            "overflow": null,
            "overflow_x": null,
            "overflow_y": null,
            "padding": null,
            "right": null,
            "top": null,
            "visibility": null,
            "width": null
          }
        },
        "cb1f1d51677d4595ac712500e4b0c966": {
          "model_module": "@jupyter-widgets/controls",
          "model_name": "ProgressStyleModel",
          "model_module_version": "1.5.0",
          "state": {
            "_model_module": "@jupyter-widgets/controls",
            "_model_module_version": "1.5.0",
            "_model_name": "ProgressStyleModel",
            "_view_count": null,
            "_view_module": "@jupyter-widgets/base",
            "_view_module_version": "1.2.0",
            "_view_name": "StyleView",
            "bar_color": null,
            "description_width": ""
          }
        },
        "42e3f1492ec148e0828618b6f1122d28": {
          "model_module": "@jupyter-widgets/base",
          "model_name": "LayoutModel",
          "model_module_version": "1.2.0",
          "state": {
            "_model_module": "@jupyter-widgets/base",
            "_model_module_version": "1.2.0",
            "_model_name": "LayoutModel",
            "_view_count": null,
            "_view_module": "@jupyter-widgets/base",
            "_view_module_version": "1.2.0",
            "_view_name": "LayoutView",
            "align_content": null,
            "align_items": null,
            "align_self": null,
            "border": null,
            "bottom": null,
            "display": null,
            "flex": null,
            "flex_flow": null,
            "grid_area": null,
            "grid_auto_columns": null,
            "grid_auto_flow": null,
            "grid_auto_rows": null,
            "grid_column": null,
            "grid_gap": null,
            "grid_row": null,
            "grid_template_areas": null,
            "grid_template_columns": null,
            "grid_template_rows": null,
            "height": null,
            "justify_content": null,
            "justify_items": null,
            "left": null,
            "margin": null,
            "max_height": null,
            "max_width": null,
            "min_height": null,
            "min_width": null,
            "object_fit": null,
            "object_position": null,
            "order": null,
            "overflow": null,
            "overflow_x": null,
            "overflow_y": null,
            "padding": null,
            "right": null,
            "top": null,
            "visibility": null,
            "width": null
          }
        },
        "f770c6dc7c684d6bbcd562b0ab710e5c": {
          "model_module": "@jupyter-widgets/controls",
          "model_name": "DescriptionStyleModel",
          "model_module_version": "1.5.0",
          "state": {
            "_model_module": "@jupyter-widgets/controls",
            "_model_module_version": "1.5.0",
            "_model_name": "DescriptionStyleModel",
            "_view_count": null,
            "_view_module": "@jupyter-widgets/base",
            "_view_module_version": "1.2.0",
            "_view_name": "StyleView",
            "description_width": ""
          }
        },
        "d389d42f538342909198a8f9c39adf08": {
          "model_module": "@jupyter-widgets/controls",
          "model_name": "VBoxModel",
          "model_module_version": "1.5.0",
          "state": {
            "_dom_classes": [],
            "_model_module": "@jupyter-widgets/controls",
            "_model_module_version": "1.5.0",
            "_model_name": "VBoxModel",
            "_view_count": null,
            "_view_module": "@jupyter-widgets/controls",
            "_view_module_version": "1.5.0",
            "_view_name": "VBoxView",
            "box_style": "",
            "children": [
              "IPY_MODEL_27e65ec229264485b26601039c34372d",
              "IPY_MODEL_431b57db89d048fcbaf41c162aeabd19",
              "IPY_MODEL_faea5504bf6d494cbcc8415c21d2b9b3",
              "IPY_MODEL_85835e7ce21e4a1c964d85772482c0a5",
              "IPY_MODEL_52eb554f88af4705bde0bbdfed61dad9"
            ],
            "layout": "IPY_MODEL_a8774d315c4a43e8b7d94fbf3ed103c1"
          }
        },
        "27e65ec229264485b26601039c34372d": {
          "model_module": "@jupyter-widgets/controls",
          "model_name": "HTMLModel",
          "model_module_version": "1.5.0",
          "state": {
            "_dom_classes": [],
            "_model_module": "@jupyter-widgets/controls",
            "_model_module_version": "1.5.0",
            "_model_name": "HTMLModel",
            "_view_count": null,
            "_view_module": "@jupyter-widgets/controls",
            "_view_module_version": "1.5.0",
            "_view_name": "HTMLView",
            "description": "",
            "description_tooltip": null,
            "layout": "IPY_MODEL_9876d53987ba407895917eb22e21bc81",
            "placeholder": "​",
            "style": "IPY_MODEL_c4d598cd0ed44df5a4f542bd89d0fc1e",
            "value": "<center> <img\nsrc=https://huggingface.co/front/assets/huggingface_logo-noborder.svg\nalt='Hugging Face'> <br> Copy a token from <a\nhref=\"https://huggingface.co/settings/tokens\" target=\"_blank\">your Hugging Face\ntokens page</a> and paste it below. <br> Immediately click login after copying\nyour token or it might be stored in plain text in this notebook file. </center>"
          }
        },
        "431b57db89d048fcbaf41c162aeabd19": {
          "model_module": "@jupyter-widgets/controls",
          "model_name": "PasswordModel",
          "model_module_version": "1.5.0",
          "state": {
            "_dom_classes": [],
            "_model_module": "@jupyter-widgets/controls",
            "_model_module_version": "1.5.0",
            "_model_name": "PasswordModel",
            "_view_count": null,
            "_view_module": "@jupyter-widgets/controls",
            "_view_module_version": "1.5.0",
            "_view_name": "PasswordView",
            "continuous_update": true,
            "description": "Token:",
            "description_tooltip": null,
            "disabled": false,
            "layout": "IPY_MODEL_75271620037a4345b74d7377d3f76632",
            "placeholder": "​",
            "style": "IPY_MODEL_d25a30c2b98a44be8932de6c5e32140d",
            "value": ""
          }
        },
        "faea5504bf6d494cbcc8415c21d2b9b3": {
          "model_module": "@jupyter-widgets/controls",
          "model_name": "CheckboxModel",
          "model_module_version": "1.5.0",
          "state": {
            "_dom_classes": [],
            "_model_module": "@jupyter-widgets/controls",
            "_model_module_version": "1.5.0",
            "_model_name": "CheckboxModel",
            "_view_count": null,
            "_view_module": "@jupyter-widgets/controls",
            "_view_module_version": "1.5.0",
            "_view_name": "CheckboxView",
            "description": "Add token as git credential?",
            "description_tooltip": null,
            "disabled": false,
            "indent": true,
            "layout": "IPY_MODEL_b556c860030a4860a1df8e53a475a509",
            "style": "IPY_MODEL_c238e6fe6e9844509b9b510924d4bc8e",
            "value": true
          }
        },
        "85835e7ce21e4a1c964d85772482c0a5": {
          "model_module": "@jupyter-widgets/controls",
          "model_name": "ButtonModel",
          "model_module_version": "1.5.0",
          "state": {
            "_dom_classes": [],
            "_model_module": "@jupyter-widgets/controls",
            "_model_module_version": "1.5.0",
            "_model_name": "ButtonModel",
            "_view_count": null,
            "_view_module": "@jupyter-widgets/controls",
            "_view_module_version": "1.5.0",
            "_view_name": "ButtonView",
            "button_style": "",
            "description": "Login",
            "disabled": false,
            "icon": "",
            "layout": "IPY_MODEL_3ee352e94a5c449d9fc918ed4e0525a5",
            "style": "IPY_MODEL_9465b14348684e7e9c6d72b5d3da3e3f",
            "tooltip": ""
          }
        },
        "52eb554f88af4705bde0bbdfed61dad9": {
          "model_module": "@jupyter-widgets/controls",
          "model_name": "HTMLModel",
          "model_module_version": "1.5.0",
          "state": {
            "_dom_classes": [],
            "_model_module": "@jupyter-widgets/controls",
            "_model_module_version": "1.5.0",
            "_model_name": "HTMLModel",
            "_view_count": null,
            "_view_module": "@jupyter-widgets/controls",
            "_view_module_version": "1.5.0",
            "_view_name": "HTMLView",
            "description": "",
            "description_tooltip": null,
            "layout": "IPY_MODEL_de2ce8783ca442c4be5aaf487168280e",
            "placeholder": "​",
            "style": "IPY_MODEL_dda03bba95cc473e86bbb991e0e9b7d6",
            "value": "\n<b>Pro Tip:</b> If you don't already have one, you can create a dedicated\n'notebooks' token with 'write' access, that you can then easily reuse for all\nnotebooks. </center>"
          }
        },
        "a8774d315c4a43e8b7d94fbf3ed103c1": {
          "model_module": "@jupyter-widgets/base",
          "model_name": "LayoutModel",
          "model_module_version": "1.2.0",
          "state": {
            "_model_module": "@jupyter-widgets/base",
            "_model_module_version": "1.2.0",
            "_model_name": "LayoutModel",
            "_view_count": null,
            "_view_module": "@jupyter-widgets/base",
            "_view_module_version": "1.2.0",
            "_view_name": "LayoutView",
            "align_content": null,
            "align_items": "center",
            "align_self": null,
            "border": null,
            "bottom": null,
            "display": "flex",
            "flex": null,
            "flex_flow": "column",
            "grid_area": null,
            "grid_auto_columns": null,
            "grid_auto_flow": null,
            "grid_auto_rows": null,
            "grid_column": null,
            "grid_gap": null,
            "grid_row": null,
            "grid_template_areas": null,
            "grid_template_columns": null,
            "grid_template_rows": null,
            "height": null,
            "justify_content": null,
            "justify_items": null,
            "left": null,
            "margin": null,
            "max_height": null,
            "max_width": null,
            "min_height": null,
            "min_width": null,
            "object_fit": null,
            "object_position": null,
            "order": null,
            "overflow": null,
            "overflow_x": null,
            "overflow_y": null,
            "padding": null,
            "right": null,
            "top": null,
            "visibility": null,
            "width": "50%"
          }
        },
        "9876d53987ba407895917eb22e21bc81": {
          "model_module": "@jupyter-widgets/base",
          "model_name": "LayoutModel",
          "model_module_version": "1.2.0",
          "state": {
            "_model_module": "@jupyter-widgets/base",
            "_model_module_version": "1.2.0",
            "_model_name": "LayoutModel",
            "_view_count": null,
            "_view_module": "@jupyter-widgets/base",
            "_view_module_version": "1.2.0",
            "_view_name": "LayoutView",
            "align_content": null,
            "align_items": null,
            "align_self": null,
            "border": null,
            "bottom": null,
            "display": null,
            "flex": null,
            "flex_flow": null,
            "grid_area": null,
            "grid_auto_columns": null,
            "grid_auto_flow": null,
            "grid_auto_rows": null,
            "grid_column": null,
            "grid_gap": null,
            "grid_row": null,
            "grid_template_areas": null,
            "grid_template_columns": null,
            "grid_template_rows": null,
            "height": null,
            "justify_content": null,
            "justify_items": null,
            "left": null,
            "margin": null,
            "max_height": null,
            "max_width": null,
            "min_height": null,
            "min_width": null,
            "object_fit": null,
            "object_position": null,
            "order": null,
            "overflow": null,
            "overflow_x": null,
            "overflow_y": null,
            "padding": null,
            "right": null,
            "top": null,
            "visibility": null,
            "width": null
          }
        },
        "c4d598cd0ed44df5a4f542bd89d0fc1e": {
          "model_module": "@jupyter-widgets/controls",
          "model_name": "DescriptionStyleModel",
          "model_module_version": "1.5.0",
          "state": {
            "_model_module": "@jupyter-widgets/controls",
            "_model_module_version": "1.5.0",
            "_model_name": "DescriptionStyleModel",
            "_view_count": null,
            "_view_module": "@jupyter-widgets/base",
            "_view_module_version": "1.2.0",
            "_view_name": "StyleView",
            "description_width": ""
          }
        },
        "75271620037a4345b74d7377d3f76632": {
          "model_module": "@jupyter-widgets/base",
          "model_name": "LayoutModel",
          "model_module_version": "1.2.0",
          "state": {
            "_model_module": "@jupyter-widgets/base",
            "_model_module_version": "1.2.0",
            "_model_name": "LayoutModel",
            "_view_count": null,
            "_view_module": "@jupyter-widgets/base",
            "_view_module_version": "1.2.0",
            "_view_name": "LayoutView",
            "align_content": null,
            "align_items": null,
            "align_self": null,
            "border": null,
            "bottom": null,
            "display": null,
            "flex": null,
            "flex_flow": null,
            "grid_area": null,
            "grid_auto_columns": null,
            "grid_auto_flow": null,
            "grid_auto_rows": null,
            "grid_column": null,
            "grid_gap": null,
            "grid_row": null,
            "grid_template_areas": null,
            "grid_template_columns": null,
            "grid_template_rows": null,
            "height": null,
            "justify_content": null,
            "justify_items": null,
            "left": null,
            "margin": null,
            "max_height": null,
            "max_width": null,
            "min_height": null,
            "min_width": null,
            "object_fit": null,
            "object_position": null,
            "order": null,
            "overflow": null,
            "overflow_x": null,
            "overflow_y": null,
            "padding": null,
            "right": null,
            "top": null,
            "visibility": null,
            "width": null
          }
        },
        "d25a30c2b98a44be8932de6c5e32140d": {
          "model_module": "@jupyter-widgets/controls",
          "model_name": "DescriptionStyleModel",
          "model_module_version": "1.5.0",
          "state": {
            "_model_module": "@jupyter-widgets/controls",
            "_model_module_version": "1.5.0",
            "_model_name": "DescriptionStyleModel",
            "_view_count": null,
            "_view_module": "@jupyter-widgets/base",
            "_view_module_version": "1.2.0",
            "_view_name": "StyleView",
            "description_width": ""
          }
        },
        "b556c860030a4860a1df8e53a475a509": {
          "model_module": "@jupyter-widgets/base",
          "model_name": "LayoutModel",
          "model_module_version": "1.2.0",
          "state": {
            "_model_module": "@jupyter-widgets/base",
            "_model_module_version": "1.2.0",
            "_model_name": "LayoutModel",
            "_view_count": null,
            "_view_module": "@jupyter-widgets/base",
            "_view_module_version": "1.2.0",
            "_view_name": "LayoutView",
            "align_content": null,
            "align_items": null,
            "align_self": null,
            "border": null,
            "bottom": null,
            "display": null,
            "flex": null,
            "flex_flow": null,
            "grid_area": null,
            "grid_auto_columns": null,
            "grid_auto_flow": null,
            "grid_auto_rows": null,
            "grid_column": null,
            "grid_gap": null,
            "grid_row": null,
            "grid_template_areas": null,
            "grid_template_columns": null,
            "grid_template_rows": null,
            "height": null,
            "justify_content": null,
            "justify_items": null,
            "left": null,
            "margin": null,
            "max_height": null,
            "max_width": null,
            "min_height": null,
            "min_width": null,
            "object_fit": null,
            "object_position": null,
            "order": null,
            "overflow": null,
            "overflow_x": null,
            "overflow_y": null,
            "padding": null,
            "right": null,
            "top": null,
            "visibility": null,
            "width": null
          }
        },
        "c238e6fe6e9844509b9b510924d4bc8e": {
          "model_module": "@jupyter-widgets/controls",
          "model_name": "DescriptionStyleModel",
          "model_module_version": "1.5.0",
          "state": {
            "_model_module": "@jupyter-widgets/controls",
            "_model_module_version": "1.5.0",
            "_model_name": "DescriptionStyleModel",
            "_view_count": null,
            "_view_module": "@jupyter-widgets/base",
            "_view_module_version": "1.2.0",
            "_view_name": "StyleView",
            "description_width": ""
          }
        },
        "3ee352e94a5c449d9fc918ed4e0525a5": {
          "model_module": "@jupyter-widgets/base",
          "model_name": "LayoutModel",
          "model_module_version": "1.2.0",
          "state": {
            "_model_module": "@jupyter-widgets/base",
            "_model_module_version": "1.2.0",
            "_model_name": "LayoutModel",
            "_view_count": null,
            "_view_module": "@jupyter-widgets/base",
            "_view_module_version": "1.2.0",
            "_view_name": "LayoutView",
            "align_content": null,
            "align_items": null,
            "align_self": null,
            "border": null,
            "bottom": null,
            "display": null,
            "flex": null,
            "flex_flow": null,
            "grid_area": null,
            "grid_auto_columns": null,
            "grid_auto_flow": null,
            "grid_auto_rows": null,
            "grid_column": null,
            "grid_gap": null,
            "grid_row": null,
            "grid_template_areas": null,
            "grid_template_columns": null,
            "grid_template_rows": null,
            "height": null,
            "justify_content": null,
            "justify_items": null,
            "left": null,
            "margin": null,
            "max_height": null,
            "max_width": null,
            "min_height": null,
            "min_width": null,
            "object_fit": null,
            "object_position": null,
            "order": null,
            "overflow": null,
            "overflow_x": null,
            "overflow_y": null,
            "padding": null,
            "right": null,
            "top": null,
            "visibility": null,
            "width": null
          }
        },
        "9465b14348684e7e9c6d72b5d3da3e3f": {
          "model_module": "@jupyter-widgets/controls",
          "model_name": "ButtonStyleModel",
          "model_module_version": "1.5.0",
          "state": {
            "_model_module": "@jupyter-widgets/controls",
            "_model_module_version": "1.5.0",
            "_model_name": "ButtonStyleModel",
            "_view_count": null,
            "_view_module": "@jupyter-widgets/base",
            "_view_module_version": "1.2.0",
            "_view_name": "StyleView",
            "button_color": null,
            "font_weight": ""
          }
        },
        "de2ce8783ca442c4be5aaf487168280e": {
          "model_module": "@jupyter-widgets/base",
          "model_name": "LayoutModel",
          "model_module_version": "1.2.0",
          "state": {
            "_model_module": "@jupyter-widgets/base",
            "_model_module_version": "1.2.0",
            "_model_name": "LayoutModel",
            "_view_count": null,
            "_view_module": "@jupyter-widgets/base",
            "_view_module_version": "1.2.0",
            "_view_name": "LayoutView",
            "align_content": null,
            "align_items": null,
            "align_self": null,
            "border": null,
            "bottom": null,
            "display": null,
            "flex": null,
            "flex_flow": null,
            "grid_area": null,
            "grid_auto_columns": null,
            "grid_auto_flow": null,
            "grid_auto_rows": null,
            "grid_column": null,
            "grid_gap": null,
            "grid_row": null,
            "grid_template_areas": null,
            "grid_template_columns": null,
            "grid_template_rows": null,
            "height": null,
            "justify_content": null,
            "justify_items": null,
            "left": null,
            "margin": null,
            "max_height": null,
            "max_width": null,
            "min_height": null,
            "min_width": null,
            "object_fit": null,
            "object_position": null,
            "order": null,
            "overflow": null,
            "overflow_x": null,
            "overflow_y": null,
            "padding": null,
            "right": null,
            "top": null,
            "visibility": null,
            "width": null
          }
        },
        "dda03bba95cc473e86bbb991e0e9b7d6": {
          "model_module": "@jupyter-widgets/controls",
          "model_name": "DescriptionStyleModel",
          "model_module_version": "1.5.0",
          "state": {
            "_model_module": "@jupyter-widgets/controls",
            "_model_module_version": "1.5.0",
            "_model_name": "DescriptionStyleModel",
            "_view_count": null,
            "_view_module": "@jupyter-widgets/base",
            "_view_module_version": "1.2.0",
            "_view_name": "StyleView",
            "description_width": ""
          }
        },
        "f00f5041cce94bd3a5647007de03931c": {
          "model_module": "@jupyter-widgets/controls",
          "model_name": "HBoxModel",
          "model_module_version": "1.5.0",
          "state": {
            "_dom_classes": [],
            "_model_module": "@jupyter-widgets/controls",
            "_model_module_version": "1.5.0",
            "_model_name": "HBoxModel",
            "_view_count": null,
            "_view_module": "@jupyter-widgets/controls",
            "_view_module_version": "1.5.0",
            "_view_name": "HBoxView",
            "box_style": "",
            "children": [
              "IPY_MODEL_0de36fcde47a42739c51d370435f6a5e",
              "IPY_MODEL_f6b10849d7e045c09715e807f3d42eb6",
              "IPY_MODEL_29b0e191ec384a0e957b42aa3d5957fe"
            ],
            "layout": "IPY_MODEL_76b29980f52a4ba0a59f38f5e924076f"
          }
        },
        "0de36fcde47a42739c51d370435f6a5e": {
          "model_module": "@jupyter-widgets/controls",
          "model_name": "HTMLModel",
          "model_module_version": "1.5.0",
          "state": {
            "_dom_classes": [],
            "_model_module": "@jupyter-widgets/controls",
            "_model_module_version": "1.5.0",
            "_model_name": "HTMLModel",
            "_view_count": null,
            "_view_module": "@jupyter-widgets/controls",
            "_view_module_version": "1.5.0",
            "_view_name": "HTMLView",
            "description": "",
            "description_tooltip": null,
            "layout": "IPY_MODEL_263a250853924cf2a467762e77fdd996",
            "placeholder": "​",
            "style": "IPY_MODEL_13fadaa5e2984196b3994c969949e721",
            "value": "events.out.tfevents.1703968925.893b956f052d.20256.0: 100%"
          }
        },
        "f6b10849d7e045c09715e807f3d42eb6": {
          "model_module": "@jupyter-widgets/controls",
          "model_name": "FloatProgressModel",
          "model_module_version": "1.5.0",
          "state": {
            "_dom_classes": [],
            "_model_module": "@jupyter-widgets/controls",
            "_model_module_version": "1.5.0",
            "_model_name": "FloatProgressModel",
            "_view_count": null,
            "_view_module": "@jupyter-widgets/controls",
            "_view_module_version": "1.5.0",
            "_view_name": "ProgressView",
            "bar_style": "success",
            "description": "",
            "description_tooltip": null,
            "layout": "IPY_MODEL_4bc0b620f9904573a37cd693227d7580",
            "max": 16418,
            "min": 0,
            "orientation": "horizontal",
            "style": "IPY_MODEL_aa6869e549e649448b75733b69c14933",
            "value": 16418
          }
        },
        "29b0e191ec384a0e957b42aa3d5957fe": {
          "model_module": "@jupyter-widgets/controls",
          "model_name": "HTMLModel",
          "model_module_version": "1.5.0",
          "state": {
            "_dom_classes": [],
            "_model_module": "@jupyter-widgets/controls",
            "_model_module_version": "1.5.0",
            "_model_name": "HTMLModel",
            "_view_count": null,
            "_view_module": "@jupyter-widgets/controls",
            "_view_module_version": "1.5.0",
            "_view_name": "HTMLView",
            "description": "",
            "description_tooltip": null,
            "layout": "IPY_MODEL_70bf84631c3741248b925dde4ad6a661",
            "placeholder": "​",
            "style": "IPY_MODEL_71db0992b6984a8c83ef460c3a80eecb",
            "value": " 16.4k/16.4k [00:00&lt;00:00, 136kB/s]"
          }
        },
        "76b29980f52a4ba0a59f38f5e924076f": {
          "model_module": "@jupyter-widgets/base",
          "model_name": "LayoutModel",
          "model_module_version": "1.2.0",
          "state": {
            "_model_module": "@jupyter-widgets/base",
            "_model_module_version": "1.2.0",
            "_model_name": "LayoutModel",
            "_view_count": null,
            "_view_module": "@jupyter-widgets/base",
            "_view_module_version": "1.2.0",
            "_view_name": "LayoutView",
            "align_content": null,
            "align_items": null,
            "align_self": null,
            "border": null,
            "bottom": null,
            "display": null,
            "flex": null,
            "flex_flow": null,
            "grid_area": null,
            "grid_auto_columns": null,
            "grid_auto_flow": null,
            "grid_auto_rows": null,
            "grid_column": null,
            "grid_gap": null,
            "grid_row": null,
            "grid_template_areas": null,
            "grid_template_columns": null,
            "grid_template_rows": null,
            "height": null,
            "justify_content": null,
            "justify_items": null,
            "left": null,
            "margin": null,
            "max_height": null,
            "max_width": null,
            "min_height": null,
            "min_width": null,
            "object_fit": null,
            "object_position": null,
            "order": null,
            "overflow": null,
            "overflow_x": null,
            "overflow_y": null,
            "padding": null,
            "right": null,
            "top": null,
            "visibility": null,
            "width": null
          }
        },
        "263a250853924cf2a467762e77fdd996": {
          "model_module": "@jupyter-widgets/base",
          "model_name": "LayoutModel",
          "model_module_version": "1.2.0",
          "state": {
            "_model_module": "@jupyter-widgets/base",
            "_model_module_version": "1.2.0",
            "_model_name": "LayoutModel",
            "_view_count": null,
            "_view_module": "@jupyter-widgets/base",
            "_view_module_version": "1.2.0",
            "_view_name": "LayoutView",
            "align_content": null,
            "align_items": null,
            "align_self": null,
            "border": null,
            "bottom": null,
            "display": null,
            "flex": null,
            "flex_flow": null,
            "grid_area": null,
            "grid_auto_columns": null,
            "grid_auto_flow": null,
            "grid_auto_rows": null,
            "grid_column": null,
            "grid_gap": null,
            "grid_row": null,
            "grid_template_areas": null,
            "grid_template_columns": null,
            "grid_template_rows": null,
            "height": null,
            "justify_content": null,
            "justify_items": null,
            "left": null,
            "margin": null,
            "max_height": null,
            "max_width": null,
            "min_height": null,
            "min_width": null,
            "object_fit": null,
            "object_position": null,
            "order": null,
            "overflow": null,
            "overflow_x": null,
            "overflow_y": null,
            "padding": null,
            "right": null,
            "top": null,
            "visibility": null,
            "width": null
          }
        },
        "13fadaa5e2984196b3994c969949e721": {
          "model_module": "@jupyter-widgets/controls",
          "model_name": "DescriptionStyleModel",
          "model_module_version": "1.5.0",
          "state": {
            "_model_module": "@jupyter-widgets/controls",
            "_model_module_version": "1.5.0",
            "_model_name": "DescriptionStyleModel",
            "_view_count": null,
            "_view_module": "@jupyter-widgets/base",
            "_view_module_version": "1.2.0",
            "_view_name": "StyleView",
            "description_width": ""
          }
        },
        "4bc0b620f9904573a37cd693227d7580": {
          "model_module": "@jupyter-widgets/base",
          "model_name": "LayoutModel",
          "model_module_version": "1.2.0",
          "state": {
            "_model_module": "@jupyter-widgets/base",
            "_model_module_version": "1.2.0",
            "_model_name": "LayoutModel",
            "_view_count": null,
            "_view_module": "@jupyter-widgets/base",
            "_view_module_version": "1.2.0",
            "_view_name": "LayoutView",
            "align_content": null,
            "align_items": null,
            "align_self": null,
            "border": null,
            "bottom": null,
            "display": null,
            "flex": null,
            "flex_flow": null,
            "grid_area": null,
            "grid_auto_columns": null,
            "grid_auto_flow": null,
            "grid_auto_rows": null,
            "grid_column": null,
            "grid_gap": null,
            "grid_row": null,
            "grid_template_areas": null,
            "grid_template_columns": null,
            "grid_template_rows": null,
            "height": null,
            "justify_content": null,
            "justify_items": null,
            "left": null,
            "margin": null,
            "max_height": null,
            "max_width": null,
            "min_height": null,
            "min_width": null,
            "object_fit": null,
            "object_position": null,
            "order": null,
            "overflow": null,
            "overflow_x": null,
            "overflow_y": null,
            "padding": null,
            "right": null,
            "top": null,
            "visibility": null,
            "width": null
          }
        },
        "aa6869e549e649448b75733b69c14933": {
          "model_module": "@jupyter-widgets/controls",
          "model_name": "ProgressStyleModel",
          "model_module_version": "1.5.0",
          "state": {
            "_model_module": "@jupyter-widgets/controls",
            "_model_module_version": "1.5.0",
            "_model_name": "ProgressStyleModel",
            "_view_count": null,
            "_view_module": "@jupyter-widgets/base",
            "_view_module_version": "1.2.0",
            "_view_name": "StyleView",
            "bar_color": null,
            "description_width": ""
          }
        },
        "70bf84631c3741248b925dde4ad6a661": {
          "model_module": "@jupyter-widgets/base",
          "model_name": "LayoutModel",
          "model_module_version": "1.2.0",
          "state": {
            "_model_module": "@jupyter-widgets/base",
            "_model_module_version": "1.2.0",
            "_model_name": "LayoutModel",
            "_view_count": null,
            "_view_module": "@jupyter-widgets/base",
            "_view_module_version": "1.2.0",
            "_view_name": "LayoutView",
            "align_content": null,
            "align_items": null,
            "align_self": null,
            "border": null,
            "bottom": null,
            "display": null,
            "flex": null,
            "flex_flow": null,
            "grid_area": null,
            "grid_auto_columns": null,
            "grid_auto_flow": null,
            "grid_auto_rows": null,
            "grid_column": null,
            "grid_gap": null,
            "grid_row": null,
            "grid_template_areas": null,
            "grid_template_columns": null,
            "grid_template_rows": null,
            "height": null,
            "justify_content": null,
            "justify_items": null,
            "left": null,
            "margin": null,
            "max_height": null,
            "max_width": null,
            "min_height": null,
            "min_width": null,
            "object_fit": null,
            "object_position": null,
            "order": null,
            "overflow": null,
            "overflow_x": null,
            "overflow_y": null,
            "padding": null,
            "right": null,
            "top": null,
            "visibility": null,
            "width": null
          }
        },
        "71db0992b6984a8c83ef460c3a80eecb": {
          "model_module": "@jupyter-widgets/controls",
          "model_name": "DescriptionStyleModel",
          "model_module_version": "1.5.0",
          "state": {
            "_model_module": "@jupyter-widgets/controls",
            "_model_module_version": "1.5.0",
            "_model_name": "DescriptionStyleModel",
            "_view_count": null,
            "_view_module": "@jupyter-widgets/base",
            "_view_module_version": "1.2.0",
            "_view_name": "StyleView",
            "description_width": ""
          }
        }
      }
    }
  },
  "cells": [
    {
      "cell_type": "markdown",
      "source": [
        "# Intent Detection\n",
        "> **Text Classification Problem** to `identify the Glorious Purpose` of `user's utterance.` It is very crucial for **Text-Based** applications like Chatbots where both the Inputs and Outputs are in the form of texts."
      ],
      "metadata": {
        "id": "11FZSdvF9E5W"
      }
    },
    {
      "cell_type": "markdown",
      "source": [
        "## Key Points\n",
        "\n",
        "* **Knowledge distillation** is a technique that **transfers knowledge** from `Larger Complex Model to Smaller Simple Model`.\n",
        "\n",
        "* **Quantization** is a technique that **reduces precision** of `model weights and activation functions` to **speed up inference** and **save memory**.\n",
        "\n",
        "* **Pruning** is a technique that **removes redundant model parameters** to `reduce model size and model complexity`."
      ],
      "metadata": {
        "id": "rdpEdFKnFdv8"
      }
    },
    {
      "cell_type": "markdown",
      "source": [
        "## Scenario"
      ],
      "metadata": {
        "id": "X2Vc3BcTFNh1"
      }
    },
    {
      "cell_type": "markdown",
      "source": [
        "Let's say I am making **Jarvis** to help me with Stock Market. So when I ask Jarvis \"`Hey, I have done some savings, I want to invest some of it in the Stock Market for stable monthly income of 6%...`\", then Jarvis should be able to auto categorize it as \"`Investing`\" intent. And when I ask Jarvis something out of the scope like \"`Find me a date...`\", then Jarvis should say \"`👎🏻 You are not eligible. Focus on your Finance instead, that's more future-proof...`\"."
      ],
      "metadata": {
        "id": "jkK98hoHFcxs"
      }
    },
    {
      "cell_type": "markdown",
      "source": [
        "## Data\n",
        "> **CLINC150** A dataset for **intent detection** with 150 intents in 10 domains and out-of-scope examples."
      ],
      "metadata": {
        "id": "2U9h2YW3LnuT"
      }
    },
    {
      "cell_type": "markdown",
      "source": [
        "**Purpose**: To test intent detection models on realistic and challenging queries that may not fit any intent.\n",
        "\n",
        "**Size**: The dataset has **23,700** examples in total, with **22,500 in-scope examples** and **1,200 out-of-scope examples**.\n",
        "\n",
        "* The **in-scope examples** are divided into 100 train, 20 validation, and 30 test sets examples per intent class.\n",
        "    \n",
        "* The **out-of-scope examples** are divided into 100 train, 100 validation, and 1,000 test examples.\n",
        "\n",
        "**Variants**: The dataset has four variants:\n",
        "\n",
        "* **data_full** variant is the main version of the dataset, with 100 train examples per in-scope class.\n",
        "\n",
        "* **data_small** variant has 50 train examples per in-scope class.\n",
        "\n",
        "* **data_imbalanced** variant has either 25, 50, 75, or 100 train examples per in-scope class, randomly assigned.\n",
        "\n",
        "* **data_oos_plus** variant is the same as data_full, except it has 250 out-of-scope train examples.\n",
        "\n",
        "**Benchmarks**: The dataset has been used to benchmark various intent classification models, such as **BERT, RoBERTa**, and **DSSCC**. The models are evaluated on their `accuracy` and `F1-score` on the in-scope and out-of-scope test sets.\n",
        "\n",
        "* The **current state-of-the-art model** is `RoBERTa-Large + ICDA`, which achieves **98.9% accuracy** and **98.8% F1-score** on the in-scope test set, and **95.7% accuracy** and **95.6% F1-score** on the out-of-scope test set.\n",
        "\n",
        "**Source**: A paper by Larson et al [“An Evaluation Dataset for Intent Classification and Out-of-Scope Prediction”](https://archive.ics.uci.edu/dataset/570/clinc150)."
      ],
      "metadata": {
        "id": "ksrLXXySLqfC"
      }
    },
    {
      "cell_type": "markdown",
      "source": [
        "## Get Started"
      ],
      "metadata": {
        "id": "WRACvyWiUadK"
      }
    },
    {
      "cell_type": "code",
      "source": [
        "from transformers import pipeline"
      ],
      "metadata": {
        "id": "aogPzWQwFNHW"
      },
      "execution_count": 1,
      "outputs": []
    },
    {
      "cell_type": "code",
      "execution_count": 2,
      "metadata": {
        "id": "VRG9-2sY8-KW"
      },
      "outputs": [],
      "source": [
        "model_checkpoint=\"transformersbook/bert-base-uncased-finetuned-clinc\"\n",
        "pipe=pipeline(\n",
        "    task=\"text-classification\",\n",
        "    model=model_checkpoint\n",
        ")"
      ]
    },
    {
      "cell_type": "code",
      "source": [
        "query = \"\"\"Hey, I'd like to rent a vehicle from Nov 1st to Nov 15th in\n",
        "Paris and I need a 15 passenger van\"\"\"\n",
        "pipe(query)"
      ],
      "metadata": {
        "colab": {
          "base_uri": "https://localhost:8080/"
        },
        "id": "IHMLE6rTW_MB",
        "outputId": "9d8ffba1-79b1-4081-b02d-bdf25779f26c"
      },
      "execution_count": 3,
      "outputs": [
        {
          "output_type": "execute_result",
          "data": {
            "text/plain": [
              "[{'label': 'car_rental', 'score': 0.5490034222602844}]"
            ]
          },
          "metadata": {},
          "execution_count": 3
        }
      ]
    },
    {
      "cell_type": "code",
      "source": [
        "query = \"\"\"Hey, I have done some savings, I want to invest some of it in\n",
        "the Stock Market for stable monthly income of 6%...\"\"\"\n",
        "pipe(query)"
      ],
      "metadata": {
        "colab": {
          "base_uri": "https://localhost:8080/"
        },
        "id": "ilQkCfwMXspr",
        "outputId": "29ab8324-0dc3-4e66-b7d5-fe55a3633697"
      },
      "execution_count": 4,
      "outputs": [
        {
          "output_type": "execute_result",
          "data": {
            "text/plain": [
              "[{'label': 'direct_deposit', 'score': 0.10692153126001358}]"
            ]
          },
          "metadata": {},
          "execution_count": 4
        }
      ]
    },
    {
      "cell_type": "code",
      "source": [
        "query = \"\"\"Find me a date...\"\"\"\n",
        "pipe(query)"
      ],
      "metadata": {
        "colab": {
          "base_uri": "https://localhost:8080/"
        },
        "id": "DxA5E-5AX6Il",
        "outputId": "e46e6d7d-0602-428e-ef7f-a4d4f8fdaa19"
      },
      "execution_count": 5,
      "outputs": [
        {
          "output_type": "execute_result",
          "data": {
            "text/plain": [
              "[{'label': 'date', 'score': 0.5273398756980896}]"
            ]
          },
          "metadata": {},
          "execution_count": 5
        }
      ]
    },
    {
      "cell_type": "markdown",
      "source": [
        "## Creating a Performance Benchmark"
      ],
      "metadata": {
        "id": "hT5wD2MCYm_g"
      }
    },
    {
      "cell_type": "markdown",
      "source": [
        "### Model performance\n",
        "\n",
        "How well does our model perform on a well-crafted test set that reflects production data? This is especially important when the cost of making errors is large (and best mitigated with a human in the loop), or when we need to run inference on millions of examples and small improvements to the model metrics can translate into large gains in aggregate.\n",
        "\n",
        "### Latency\n",
        "\n",
        "How fast can our model deliver predictions? We usually care about latency in real-time environments that deal with a lot of traffic, like how Stack Overflow needed a classifier to quickly detect unwelcome comments on the website.\n",
        "\n",
        "### Memory\n",
        "\n",
        "How can we deploy billion-parameter models like GPT-2 or T5 that require giga-bytes of disk storage and RAM? Memory plays an especially important role in mobile or edge devices, where a model has to generate predictions without access to a powerful cloud server."
      ],
      "metadata": {
        "id": "aFJYq8bLY7tr"
      }
    },
    {
      "cell_type": "markdown",
      "source": [
        "The text explains the importance of evaluating the model performance on a test set that is similar to the real-world data that the model will encounter in production. The text also mentions some scenarios where the model performance can have a significant impact on the outcome, such as when the model errors are costly or when the model is applied to a large scale of data. The text implies that the model performance should be measured by appropriate metrics that reflect the desired objectives and trade-offs.\n",
        "\n",
        "* **Model performance**: How well the model can predict the correct labels for the input data.\n",
        "\n",
        "* **Test set**: A subset of data that is used to evaluate the model performance after training. The test set should reflect the production data as much as possible.\n",
        "\n",
        "* **Cost of errors**: The potential negative consequences of the model making wrong predictions, such as losing customers, money, or reputation. Errors can be reduced by involving a human expert to check or correct the model outputs.\n",
        "\n",
        "* **Scale of inference**: The amount of data that the model needs to process and make predictions for. A large scale of inference can amplify the benefits or drawbacks of the model performance."
      ],
      "metadata": {
        "id": "WOJ1iN-bdGHC"
      }
    },
    {
      "cell_type": "markdown",
      "source": [
        "## Performance Benchmark\n",
        ">  Use the `test set` to benchmark models."
      ],
      "metadata": {
        "id": "F_YI2ebmMcYX"
      }
    },
    {
      "cell_type": "code",
      "source": [
        "class PerformanceBenchmark:\n",
        "    def __init__(self, pipeline, dataset, optim_type=\"BERT baseline\"):\n",
        "        self.pipeline=pipeline\n",
        "        self.dataset=dataset\n",
        "        self.optim_type=optim_type # keep track of different optimization techniques\n",
        "\n",
        "    def computeAccuracy(self):\n",
        "        pass\n",
        "\n",
        "    def computeSize(self):\n",
        "        pass\n",
        "\n",
        "    def timePipeline(self):\n",
        "        pass\n",
        "\n",
        "    def runBenchmark(self):\n",
        "        metrics:dict[str,set|dict] = dict() # collect all the metrics in dictionary, with keys given by optim_type\n",
        "        metrics[self.optim_type]=self.computeSize()\n",
        "        metrics[self.optim_type].update(self.timePipeline())\n",
        "        metrics[self.optim_type].update(self.computeAccuracy())\n",
        "        return metrics"
      ],
      "metadata": {
        "id": "ySgpOnjjYCHQ"
      },
      "execution_count": 6,
      "outputs": []
    },
    {
      "cell_type": "code",
      "source": [
        "! pip install datasets -Uqq"
      ],
      "metadata": {
        "id": "JguXjkqMN2Q2"
      },
      "execution_count": 7,
      "outputs": []
    },
    {
      "cell_type": "code",
      "source": [
        "from datasets import load_dataset\n",
        "\n",
        "data=load_dataset(\n",
        "    path=\"clinc_oos\",\n",
        "    name=\"plus\", # refers to the subset containing out-of-scope training examples\n",
        "    trust_remote_code=True\n",
        ")"
      ],
      "metadata": {
        "id": "HyflLFcdN7lY"
      },
      "execution_count": 8,
      "outputs": []
    },
    {
      "cell_type": "code",
      "source": [
        "data"
      ],
      "metadata": {
        "colab": {
          "base_uri": "https://localhost:8080/"
        },
        "id": "hDK0xFF2QShQ",
        "outputId": "b5ee4602-ca13-49ed-e311-60ba035dd0ea"
      },
      "execution_count": 9,
      "outputs": [
        {
          "output_type": "execute_result",
          "data": {
            "text/plain": [
              "DatasetDict({\n",
              "    train: Dataset({\n",
              "        features: ['text', 'intent'],\n",
              "        num_rows: 15250\n",
              "    })\n",
              "    validation: Dataset({\n",
              "        features: ['text', 'intent'],\n",
              "        num_rows: 3100\n",
              "    })\n",
              "    test: Dataset({\n",
              "        features: ['text', 'intent'],\n",
              "        num_rows: 5500\n",
              "    })\n",
              "})"
            ]
          },
          "metadata": {},
          "execution_count": 9
        }
      ]
    },
    {
      "cell_type": "code",
      "source": [
        "data[\"test\"].features"
      ],
      "metadata": {
        "colab": {
          "base_uri": "https://localhost:8080/"
        },
        "id": "UwucWLrkh6Ab",
        "outputId": "f664806a-f9b3-487f-d0e7-fa8b91b5ebdb"
      },
      "execution_count": 10,
      "outputs": [
        {
          "output_type": "execute_result",
          "data": {
            "text/plain": [
              "{'text': Value(dtype='string', id=None),\n",
              " 'intent': ClassLabel(names=['restaurant_reviews', 'nutrition_info', 'account_blocked', 'oil_change_how', 'time', 'weather', 'redeem_rewards', 'interest_rate', 'gas_type', 'accept_reservations', 'smart_home', 'user_name', 'report_lost_card', 'repeat', 'whisper_mode', 'what_are_your_hobbies', 'order', 'jump_start', 'schedule_meeting', 'meeting_schedule', 'freeze_account', 'what_song', 'meaning_of_life', 'restaurant_reservation', 'traffic', 'make_call', 'text', 'bill_balance', 'improve_credit_score', 'change_language', 'no', 'measurement_conversion', 'timer', 'flip_coin', 'do_you_have_pets', 'balance', 'tell_joke', 'last_maintenance', 'exchange_rate', 'uber', 'car_rental', 'credit_limit', 'oos', 'shopping_list', 'expiration_date', 'routing', 'meal_suggestion', 'tire_change', 'todo_list', 'card_declined', 'rewards_balance', 'change_accent', 'vaccines', 'reminder_update', 'food_last', 'change_ai_name', 'bill_due', 'who_do_you_work_for', 'share_location', 'international_visa', 'calendar', 'translate', 'carry_on', 'book_flight', 'insurance_change', 'todo_list_update', 'timezone', 'cancel_reservation', 'transactions', 'credit_score', 'report_fraud', 'spending_history', 'directions', 'spelling', 'insurance', 'what_is_your_name', 'reminder', 'where_are_you_from', 'distance', 'payday', 'flight_status', 'find_phone', 'greeting', 'alarm', 'order_status', 'confirm_reservation', 'cook_time', 'damaged_card', 'reset_settings', 'pin_change', 'replacement_card_duration', 'new_card', 'roll_dice', 'income', 'taxes', 'date', 'who_made_you', 'pto_request', 'tire_pressure', 'how_old_are_you', 'rollover_401k', 'pto_request_status', 'how_busy', 'application_status', 'recipe', 'calendar_update', 'play_music', 'yes', 'direct_deposit', 'credit_limit_change', 'gas', 'pay_bill', 'ingredients_list', 'lost_luggage', 'goodbye', 'what_can_i_ask_you', 'book_hotel', 'are_you_a_bot', 'next_song', 'change_speed', 'plug_type', 'maybe', 'w2', 'oil_change_when', 'thank_you', 'shopping_list_update', 'pto_balance', 'order_checks', 'travel_alert', 'fun_fact', 'sync_device', 'schedule_maintenance', 'apr', 'transfer', 'ingredient_substitution', 'calories', 'current_location', 'international_fees', 'calculator', 'definition', 'next_holiday', 'update_playlist', 'mpg', 'min_payment', 'change_user_name', 'restaurant_suggestion', 'travel_notification', 'cancel', 'pto_used', 'travel_suggestion', 'change_volume'], id=None)}"
            ]
          },
          "metadata": {},
          "execution_count": 10
        }
      ]
    },
    {
      "cell_type": "code",
      "source": [
        "data[\"test\"].to_pandas()"
      ],
      "metadata": {
        "colab": {
          "base_uri": "https://localhost:8080/",
          "height": 424
        },
        "id": "Ql7pJoIQg7cp",
        "outputId": "797005af-05b6-4289-f027-1cdbe9a4d8bb"
      },
      "execution_count": 11,
      "outputs": [
        {
          "output_type": "execute_result",
          "data": {
            "text/plain": [
              "                                            text  intent\n",
              "0               how would you say fly in italian      61\n",
              "1              what's the spanish word for pasta      61\n",
              "2            how would they say butter in zambia      61\n",
              "3                 how do you say fast in spanish      61\n",
              "4            what's the word for trees in norway      61\n",
              "...                                          ...     ...\n",
              "5495                              find my wallet      42\n",
              "5496  can you give me the gps location of harvey      42\n",
              "5497    where's my buddy steve right this second      42\n",
              "5498        locate jenny at her present position      42\n",
              "5499          let me know where jim is right now      42\n",
              "\n",
              "[5500 rows x 2 columns]"
            ],
            "text/html": [
              "\n",
              "  <div id=\"df-a6d61b7e-aa81-466e-af45-addef440018c\" class=\"colab-df-container\">\n",
              "    <div>\n",
              "<style scoped>\n",
              "    .dataframe tbody tr th:only-of-type {\n",
              "        vertical-align: middle;\n",
              "    }\n",
              "\n",
              "    .dataframe tbody tr th {\n",
              "        vertical-align: top;\n",
              "    }\n",
              "\n",
              "    .dataframe thead th {\n",
              "        text-align: right;\n",
              "    }\n",
              "</style>\n",
              "<table border=\"1\" class=\"dataframe\">\n",
              "  <thead>\n",
              "    <tr style=\"text-align: right;\">\n",
              "      <th></th>\n",
              "      <th>text</th>\n",
              "      <th>intent</th>\n",
              "    </tr>\n",
              "  </thead>\n",
              "  <tbody>\n",
              "    <tr>\n",
              "      <th>0</th>\n",
              "      <td>how would you say fly in italian</td>\n",
              "      <td>61</td>\n",
              "    </tr>\n",
              "    <tr>\n",
              "      <th>1</th>\n",
              "      <td>what's the spanish word for pasta</td>\n",
              "      <td>61</td>\n",
              "    </tr>\n",
              "    <tr>\n",
              "      <th>2</th>\n",
              "      <td>how would they say butter in zambia</td>\n",
              "      <td>61</td>\n",
              "    </tr>\n",
              "    <tr>\n",
              "      <th>3</th>\n",
              "      <td>how do you say fast in spanish</td>\n",
              "      <td>61</td>\n",
              "    </tr>\n",
              "    <tr>\n",
              "      <th>4</th>\n",
              "      <td>what's the word for trees in norway</td>\n",
              "      <td>61</td>\n",
              "    </tr>\n",
              "    <tr>\n",
              "      <th>...</th>\n",
              "      <td>...</td>\n",
              "      <td>...</td>\n",
              "    </tr>\n",
              "    <tr>\n",
              "      <th>5495</th>\n",
              "      <td>find my wallet</td>\n",
              "      <td>42</td>\n",
              "    </tr>\n",
              "    <tr>\n",
              "      <th>5496</th>\n",
              "      <td>can you give me the gps location of harvey</td>\n",
              "      <td>42</td>\n",
              "    </tr>\n",
              "    <tr>\n",
              "      <th>5497</th>\n",
              "      <td>where's my buddy steve right this second</td>\n",
              "      <td>42</td>\n",
              "    </tr>\n",
              "    <tr>\n",
              "      <th>5498</th>\n",
              "      <td>locate jenny at her present position</td>\n",
              "      <td>42</td>\n",
              "    </tr>\n",
              "    <tr>\n",
              "      <th>5499</th>\n",
              "      <td>let me know where jim is right now</td>\n",
              "      <td>42</td>\n",
              "    </tr>\n",
              "  </tbody>\n",
              "</table>\n",
              "<p>5500 rows × 2 columns</p>\n",
              "</div>\n",
              "    <div class=\"colab-df-buttons\">\n",
              "\n",
              "  <div class=\"colab-df-container\">\n",
              "    <button class=\"colab-df-convert\" onclick=\"convertToInteractive('df-a6d61b7e-aa81-466e-af45-addef440018c')\"\n",
              "            title=\"Convert this dataframe to an interactive table.\"\n",
              "            style=\"display:none;\">\n",
              "\n",
              "  <svg xmlns=\"http://www.w3.org/2000/svg\" height=\"24px\" viewBox=\"0 -960 960 960\">\n",
              "    <path d=\"M120-120v-720h720v720H120Zm60-500h600v-160H180v160Zm220 220h160v-160H400v160Zm0 220h160v-160H400v160ZM180-400h160v-160H180v160Zm440 0h160v-160H620v160ZM180-180h160v-160H180v160Zm440 0h160v-160H620v160Z\"/>\n",
              "  </svg>\n",
              "    </button>\n",
              "\n",
              "  <style>\n",
              "    .colab-df-container {\n",
              "      display:flex;\n",
              "      gap: 12px;\n",
              "    }\n",
              "\n",
              "    .colab-df-convert {\n",
              "      background-color: #E8F0FE;\n",
              "      border: none;\n",
              "      border-radius: 50%;\n",
              "      cursor: pointer;\n",
              "      display: none;\n",
              "      fill: #1967D2;\n",
              "      height: 32px;\n",
              "      padding: 0 0 0 0;\n",
              "      width: 32px;\n",
              "    }\n",
              "\n",
              "    .colab-df-convert:hover {\n",
              "      background-color: #E2EBFA;\n",
              "      box-shadow: 0px 1px 2px rgba(60, 64, 67, 0.3), 0px 1px 3px 1px rgba(60, 64, 67, 0.15);\n",
              "      fill: #174EA6;\n",
              "    }\n",
              "\n",
              "    .colab-df-buttons div {\n",
              "      margin-bottom: 4px;\n",
              "    }\n",
              "\n",
              "    [theme=dark] .colab-df-convert {\n",
              "      background-color: #3B4455;\n",
              "      fill: #D2E3FC;\n",
              "    }\n",
              "\n",
              "    [theme=dark] .colab-df-convert:hover {\n",
              "      background-color: #434B5C;\n",
              "      box-shadow: 0px 1px 3px 1px rgba(0, 0, 0, 0.15);\n",
              "      filter: drop-shadow(0px 1px 2px rgba(0, 0, 0, 0.3));\n",
              "      fill: #FFFFFF;\n",
              "    }\n",
              "  </style>\n",
              "\n",
              "    <script>\n",
              "      const buttonEl =\n",
              "        document.querySelector('#df-a6d61b7e-aa81-466e-af45-addef440018c button.colab-df-convert');\n",
              "      buttonEl.style.display =\n",
              "        google.colab.kernel.accessAllowed ? 'block' : 'none';\n",
              "\n",
              "      async function convertToInteractive(key) {\n",
              "        const element = document.querySelector('#df-a6d61b7e-aa81-466e-af45-addef440018c');\n",
              "        const dataTable =\n",
              "          await google.colab.kernel.invokeFunction('convertToInteractive',\n",
              "                                                    [key], {});\n",
              "        if (!dataTable) return;\n",
              "\n",
              "        const docLinkHtml = 'Like what you see? Visit the ' +\n",
              "          '<a target=\"_blank\" href=https://colab.research.google.com/notebooks/data_table.ipynb>data table notebook</a>'\n",
              "          + ' to learn more about interactive tables.';\n",
              "        element.innerHTML = '';\n",
              "        dataTable['output_type'] = 'display_data';\n",
              "        await google.colab.output.renderOutput(dataTable, element);\n",
              "        const docLink = document.createElement('div');\n",
              "        docLink.innerHTML = docLinkHtml;\n",
              "        element.appendChild(docLink);\n",
              "      }\n",
              "    </script>\n",
              "  </div>\n",
              "\n",
              "\n",
              "<div id=\"df-cc187794-e646-4c9a-a306-2f0a4088df54\">\n",
              "  <button class=\"colab-df-quickchart\" onclick=\"quickchart('df-cc187794-e646-4c9a-a306-2f0a4088df54')\"\n",
              "            title=\"Suggest charts\"\n",
              "            style=\"display:none;\">\n",
              "\n",
              "<svg xmlns=\"http://www.w3.org/2000/svg\" height=\"24px\"viewBox=\"0 0 24 24\"\n",
              "     width=\"24px\">\n",
              "    <g>\n",
              "        <path d=\"M19 3H5c-1.1 0-2 .9-2 2v14c0 1.1.9 2 2 2h14c1.1 0 2-.9 2-2V5c0-1.1-.9-2-2-2zM9 17H7v-7h2v7zm4 0h-2V7h2v10zm4 0h-2v-4h2v4z\"/>\n",
              "    </g>\n",
              "</svg>\n",
              "  </button>\n",
              "\n",
              "<style>\n",
              "  .colab-df-quickchart {\n",
              "      --bg-color: #E8F0FE;\n",
              "      --fill-color: #1967D2;\n",
              "      --hover-bg-color: #E2EBFA;\n",
              "      --hover-fill-color: #174EA6;\n",
              "      --disabled-fill-color: #AAA;\n",
              "      --disabled-bg-color: #DDD;\n",
              "  }\n",
              "\n",
              "  [theme=dark] .colab-df-quickchart {\n",
              "      --bg-color: #3B4455;\n",
              "      --fill-color: #D2E3FC;\n",
              "      --hover-bg-color: #434B5C;\n",
              "      --hover-fill-color: #FFFFFF;\n",
              "      --disabled-bg-color: #3B4455;\n",
              "      --disabled-fill-color: #666;\n",
              "  }\n",
              "\n",
              "  .colab-df-quickchart {\n",
              "    background-color: var(--bg-color);\n",
              "    border: none;\n",
              "    border-radius: 50%;\n",
              "    cursor: pointer;\n",
              "    display: none;\n",
              "    fill: var(--fill-color);\n",
              "    height: 32px;\n",
              "    padding: 0;\n",
              "    width: 32px;\n",
              "  }\n",
              "\n",
              "  .colab-df-quickchart:hover {\n",
              "    background-color: var(--hover-bg-color);\n",
              "    box-shadow: 0 1px 2px rgba(60, 64, 67, 0.3), 0 1px 3px 1px rgba(60, 64, 67, 0.15);\n",
              "    fill: var(--button-hover-fill-color);\n",
              "  }\n",
              "\n",
              "  .colab-df-quickchart-complete:disabled,\n",
              "  .colab-df-quickchart-complete:disabled:hover {\n",
              "    background-color: var(--disabled-bg-color);\n",
              "    fill: var(--disabled-fill-color);\n",
              "    box-shadow: none;\n",
              "  }\n",
              "\n",
              "  .colab-df-spinner {\n",
              "    border: 2px solid var(--fill-color);\n",
              "    border-color: transparent;\n",
              "    border-bottom-color: var(--fill-color);\n",
              "    animation:\n",
              "      spin 1s steps(1) infinite;\n",
              "  }\n",
              "\n",
              "  @keyframes spin {\n",
              "    0% {\n",
              "      border-color: transparent;\n",
              "      border-bottom-color: var(--fill-color);\n",
              "      border-left-color: var(--fill-color);\n",
              "    }\n",
              "    20% {\n",
              "      border-color: transparent;\n",
              "      border-left-color: var(--fill-color);\n",
              "      border-top-color: var(--fill-color);\n",
              "    }\n",
              "    30% {\n",
              "      border-color: transparent;\n",
              "      border-left-color: var(--fill-color);\n",
              "      border-top-color: var(--fill-color);\n",
              "      border-right-color: var(--fill-color);\n",
              "    }\n",
              "    40% {\n",
              "      border-color: transparent;\n",
              "      border-right-color: var(--fill-color);\n",
              "      border-top-color: var(--fill-color);\n",
              "    }\n",
              "    60% {\n",
              "      border-color: transparent;\n",
              "      border-right-color: var(--fill-color);\n",
              "    }\n",
              "    80% {\n",
              "      border-color: transparent;\n",
              "      border-right-color: var(--fill-color);\n",
              "      border-bottom-color: var(--fill-color);\n",
              "    }\n",
              "    90% {\n",
              "      border-color: transparent;\n",
              "      border-bottom-color: var(--fill-color);\n",
              "    }\n",
              "  }\n",
              "</style>\n",
              "\n",
              "  <script>\n",
              "    async function quickchart(key) {\n",
              "      const quickchartButtonEl =\n",
              "        document.querySelector('#' + key + ' button');\n",
              "      quickchartButtonEl.disabled = true;  // To prevent multiple clicks.\n",
              "      quickchartButtonEl.classList.add('colab-df-spinner');\n",
              "      try {\n",
              "        const charts = await google.colab.kernel.invokeFunction(\n",
              "            'suggestCharts', [key], {});\n",
              "      } catch (error) {\n",
              "        console.error('Error during call to suggestCharts:', error);\n",
              "      }\n",
              "      quickchartButtonEl.classList.remove('colab-df-spinner');\n",
              "      quickchartButtonEl.classList.add('colab-df-quickchart-complete');\n",
              "    }\n",
              "    (() => {\n",
              "      let quickchartButtonEl =\n",
              "        document.querySelector('#df-cc187794-e646-4c9a-a306-2f0a4088df54 button');\n",
              "      quickchartButtonEl.style.display =\n",
              "        google.colab.kernel.accessAllowed ? 'block' : 'none';\n",
              "    })();\n",
              "  </script>\n",
              "</div>\n",
              "\n",
              "    </div>\n",
              "  </div>\n"
            ]
          },
          "metadata": {},
          "execution_count": 11
        }
      ]
    },
    {
      "cell_type": "code",
      "source": [
        "data[\"test\"].features[\"intent\"].int2str(values=[61,42])"
      ],
      "metadata": {
        "colab": {
          "base_uri": "https://localhost:8080/"
        },
        "id": "ZHC_UWufhRmX",
        "outputId": "762b924e-4a50-44f1-af46-15ff398b79e2"
      },
      "execution_count": 12,
      "outputs": [
        {
          "output_type": "execute_result",
          "data": {
            "text/plain": [
              "['translate', 'oos']"
            ]
          },
          "metadata": {},
          "execution_count": 12
        }
      ]
    },
    {
      "cell_type": "code",
      "source": [
        "data[\"test\"].features[\"intent\"].int2str"
      ],
      "metadata": {
        "colab": {
          "base_uri": "https://localhost:8080/"
        },
        "id": "amMItfDWh0xp",
        "outputId": "128f4a3a-865d-47f4-f5cd-9716905c7615"
      },
      "execution_count": 13,
      "outputs": [
        {
          "output_type": "execute_result",
          "data": {
            "text/plain": [
              "<bound method ClassLabel.int2str of ClassLabel(names=['restaurant_reviews', 'nutrition_info', 'account_blocked', 'oil_change_how', 'time', 'weather', 'redeem_rewards', 'interest_rate', 'gas_type', 'accept_reservations', 'smart_home', 'user_name', 'report_lost_card', 'repeat', 'whisper_mode', 'what_are_your_hobbies', 'order', 'jump_start', 'schedule_meeting', 'meeting_schedule', 'freeze_account', 'what_song', 'meaning_of_life', 'restaurant_reservation', 'traffic', 'make_call', 'text', 'bill_balance', 'improve_credit_score', 'change_language', 'no', 'measurement_conversion', 'timer', 'flip_coin', 'do_you_have_pets', 'balance', 'tell_joke', 'last_maintenance', 'exchange_rate', 'uber', 'car_rental', 'credit_limit', 'oos', 'shopping_list', 'expiration_date', 'routing', 'meal_suggestion', 'tire_change', 'todo_list', 'card_declined', 'rewards_balance', 'change_accent', 'vaccines', 'reminder_update', 'food_last', 'change_ai_name', 'bill_due', 'who_do_you_work_for', 'share_location', 'international_visa', 'calendar', 'translate', 'carry_on', 'book_flight', 'insurance_change', 'todo_list_update', 'timezone', 'cancel_reservation', 'transactions', 'credit_score', 'report_fraud', 'spending_history', 'directions', 'spelling', 'insurance', 'what_is_your_name', 'reminder', 'where_are_you_from', 'distance', 'payday', 'flight_status', 'find_phone', 'greeting', 'alarm', 'order_status', 'confirm_reservation', 'cook_time', 'damaged_card', 'reset_settings', 'pin_change', 'replacement_card_duration', 'new_card', 'roll_dice', 'income', 'taxes', 'date', 'who_made_you', 'pto_request', 'tire_pressure', 'how_old_are_you', 'rollover_401k', 'pto_request_status', 'how_busy', 'application_status', 'recipe', 'calendar_update', 'play_music', 'yes', 'direct_deposit', 'credit_limit_change', 'gas', 'pay_bill', 'ingredients_list', 'lost_luggage', 'goodbye', 'what_can_i_ask_you', 'book_hotel', 'are_you_a_bot', 'next_song', 'change_speed', 'plug_type', 'maybe', 'w2', 'oil_change_when', 'thank_you', 'shopping_list_update', 'pto_balance', 'order_checks', 'travel_alert', 'fun_fact', 'sync_device', 'schedule_maintenance', 'apr', 'transfer', 'ingredient_substitution', 'calories', 'current_location', 'international_fees', 'calculator', 'definition', 'next_holiday', 'update_playlist', 'mpg', 'min_payment', 'change_user_name', 'restaurant_suggestion', 'travel_notification', 'cancel', 'pto_used', 'travel_suggestion', 'change_volume'], id=None)>"
            ]
          },
          "metadata": {},
          "execution_count": 13
        }
      ]
    },
    {
      "cell_type": "code",
      "source": [
        "intents = data[\"test\"].features[\"intent\"]"
      ],
      "metadata": {
        "id": "Ovq_hCaZ2cPj"
      },
      "execution_count": 14,
      "outputs": []
    },
    {
      "cell_type": "markdown",
      "source": [
        "## computeAccuracy\n",
        "> Accuracy is **effective** when the target feature's classes are `balanced`."
      ],
      "metadata": {
        "id": "sfV6jmCei4qs"
      }
    },
    {
      "cell_type": "code",
      "source": [
        "! pip install evaluate -Uqq"
      ],
      "metadata": {
        "id": "ava97qqYilc1"
      },
      "execution_count": 15,
      "outputs": []
    },
    {
      "cell_type": "code",
      "source": [
        "from evaluate import load\n",
        "\n",
        "accuracy_score=load(path=\"accuracy\")"
      ],
      "metadata": {
        "id": "OQn6nL08kNCB"
      },
      "execution_count": 16,
      "outputs": []
    },
    {
      "cell_type": "code",
      "source": [
        "# expects y_true(references), y_pred(predictions)\n",
        "accuracy_score.compute(references=[5,3,7], predictions=[5,3,6])"
      ],
      "metadata": {
        "colab": {
          "base_uri": "https://localhost:8080/"
        },
        "id": "C2Dad3wbkSp9",
        "outputId": "1c95d93c-fd61-4687-edca-e2c28f9b39a7"
      },
      "execution_count": 17,
      "outputs": [
        {
          "output_type": "execute_result",
          "data": {
            "text/plain": [
              "{'accuracy': 0.6666666666666666}"
            ]
          },
          "metadata": {},
          "execution_count": 17
        }
      ]
    },
    {
      "cell_type": "code",
      "source": [
        "sample=data[\"test\"][0][\"text\"]\n",
        "prediction=pipe(sample)\n",
        "prediction_label=prediction[0][\"label\"]\n",
        "prediction_id=data[\"test\"].features[\"intent\"].str2int(prediction_label)\n",
        "\n",
        "print(sample)\n",
        "print(prediction)\n",
        "print(prediction_label,\"--->\", prediction_id)"
      ],
      "metadata": {
        "colab": {
          "base_uri": "https://localhost:8080/"
        },
        "id": "D03xuY2WkdTl",
        "outputId": "2000f189-3cc5-424a-bf32-9609655c7230"
      },
      "execution_count": 18,
      "outputs": [
        {
          "output_type": "stream",
          "name": "stdout",
          "text": [
            "how would you say fly in italian\n",
            "[{'label': 'translate', 'score': 0.5855261087417603}]\n",
            "translate ---> 61\n"
          ]
        }
      ]
    },
    {
      "cell_type": "code",
      "source": [
        "for example in data[\"test\"]:\n",
        "    print(example)\n",
        "    break"
      ],
      "metadata": {
        "colab": {
          "base_uri": "https://localhost:8080/"
        },
        "id": "bUVltrxJoVvI",
        "outputId": "bb1e7b00-b0de-408a-cd9d-9b43116b1e99"
      },
      "execution_count": 19,
      "outputs": [
        {
          "output_type": "stream",
          "name": "stdout",
          "text": [
            "{'text': 'how would you say fly in italian', 'intent': 61}\n"
          ]
        }
      ]
    },
    {
      "cell_type": "code",
      "source": [
        "def computeAccuracy(self):\n",
        "    \"\"\"Override the PerformanceBenchmark.computeAccuracy() method\"\"\"\n",
        "    prediction_ids:[int]=[]\n",
        "    labels:[str]=[]\n",
        "    # intents=self.dataset[\"test\"].features[\"intent\"]\n",
        "\n",
        "    for example in self.dataset[\"test\"]:\n",
        "        pred_label=self.pipeline(example[\"text\"])[0][\"label\"]\n",
        "        pred_id=intents.str2int(pred_label)\n",
        "        prediction_ids.append(pred_id)\n",
        "\n",
        "        label=example[\"intent\"]\n",
        "        labels.append(label)\n",
        "    accuracy=accuracy_score.compute(references=labels, predictions=prediction_ids)\n",
        "    print(f\"Accuracy on test set ---> {accuracy['accuracy']:.4f}\")\n",
        "    return accuracy\n",
        "\n",
        "# Override the PerformanceBenchmark.computeAccuracy() method\n",
        "PerformanceBenchmark.computeAccuracy=computeAccuracy"
      ],
      "metadata": {
        "id": "XKALGOitlQmK"
      },
      "execution_count": 20,
      "outputs": []
    },
    {
      "cell_type": "code",
      "source": [
        "list(pipe.model.state_dict().items())[42]"
      ],
      "metadata": {
        "colab": {
          "base_uri": "https://localhost:8080/"
        },
        "id": "sm7j4f7Mtqb9",
        "outputId": "527ad164-ffa6-41af-b659-1d09b4530717"
      },
      "execution_count": 21,
      "outputs": [
        {
          "output_type": "execute_result",
          "data": {
            "text/plain": [
              "('bert.encoder.layer.2.attention.self.value.bias',\n",
              " tensor([-2.7834e-02,  4.9434e-02,  8.3551e-02,  4.1092e-02,  6.0157e-01,\n",
              "          1.1774e-01, -5.2112e-02, -6.5143e-02, -2.9358e-02, -4.2250e-02,\n",
              "          7.9177e-02,  8.0409e-02,  2.9921e-03,  1.7816e-01, -5.0480e-02,\n",
              "         -1.5634e-01, -2.1707e-02,  1.4381e-02,  2.5132e-02, -2.4110e-02,\n",
              "         -1.9183e-01, -7.8657e-02,  5.0709e-02,  3.3632e-02, -3.1946e-02,\n",
              "          1.1616e-01,  9.2720e-02, -1.1787e-01,  2.3233e-01, -1.2678e-02,\n",
              "         -1.3138e-01, -4.0024e-02,  7.4823e-02, -5.4148e-02, -1.5184e-01,\n",
              "         -7.4407e-02,  1.1559e-01,  8.2729e-02, -1.3787e-01,  8.3528e-02,\n",
              "          1.2154e-01,  1.6880e-02, -5.6629e-02, -3.9295e-02,  5.3725e-02,\n",
              "          6.8602e-02, -1.1294e-01,  4.4001e-02, -2.5884e-01,  1.6767e-01,\n",
              "          1.8316e-01,  5.6272e-02, -3.6874e-02, -2.7938e-02, -9.3204e-02,\n",
              "         -7.5239e-03,  4.1141e-02, -1.1542e-02, -9.9749e-02, -3.0910e-02,\n",
              "          4.1398e-02, -4.4389e-02, -2.6279e-02,  7.2100e-02,  7.5179e-03,\n",
              "         -7.4382e-03,  2.9311e-02, -1.3391e-02,  6.9966e-03, -9.3249e-03,\n",
              "          9.4272e-03, -1.1783e-02,  1.3849e-02,  1.8157e-03, -1.1522e-02,\n",
              "          1.3364e-02, -2.6307e-02,  2.3725e-03, -4.8451e-03,  6.2261e-03,\n",
              "          1.2653e-02,  1.7601e-02, -1.7971e-02, -2.9247e-03, -3.3447e-03,\n",
              "          1.4263e-02, -3.5629e-03, -9.2794e-03, -2.1326e-02,  1.9390e-02,\n",
              "          1.3287e-02, -8.7034e-03,  1.2936e-02, -2.0574e-02,  3.2204e-03,\n",
              "          5.9970e-03, -5.6524e-02,  3.0851e-02, -2.3233e-02,  4.6271e-02,\n",
              "         -1.4485e-03,  4.4248e-04, -3.1102e-02,  1.9762e-02,  2.0866e-02,\n",
              "          1.7914e-02, -2.0622e-02, -1.6030e-02,  6.2167e-03,  1.6809e-02,\n",
              "          4.6357e-03,  4.7169e-02, -2.1151e-02, -1.8898e-02,  3.5921e-02,\n",
              "          4.8621e-03, -5.9841e-02, -1.3029e-02,  5.6702e-03,  1.6820e-02,\n",
              "          2.1735e-02, -2.8285e-03, -1.5519e-02,  7.1974e-03,  3.5492e-02,\n",
              "         -2.3190e-02, -9.7930e-03,  2.3223e-02,  2.0529e-02,  2.7412e-02,\n",
              "          1.3887e-02,  1.7976e-03, -3.8905e-02,  1.8540e-02,  8.0013e-03,\n",
              "         -8.3682e-03, -8.6805e-03,  2.6464e-02,  1.8968e-03, -1.8028e-03,\n",
              "         -2.4427e-02, -3.5514e-02, -1.8748e-02, -3.0541e-02, -7.9520e-03,\n",
              "         -1.5989e-02,  9.3060e-03,  2.9318e-02,  1.6679e-02, -2.4060e-03,\n",
              "         -7.2656e-03, -2.7699e-03,  1.4280e-02, -6.7352e-02, -1.2329e-02,\n",
              "         -1.1516e-02, -8.0379e-03,  2.5604e-02, -2.9178e-02,  2.6076e-02,\n",
              "         -1.1561e-02, -4.0904e-03, -1.7735e-02, -2.8245e-03,  2.3919e-02,\n",
              "         -3.6326e-03, -1.6407e-03,  9.5295e-03,  2.4161e-02, -5.8965e-02,\n",
              "          4.7633e-02,  1.4403e-03, -4.4763e-02, -3.5462e-03,  3.0613e-02,\n",
              "          2.5047e-02,  1.3757e-02, -2.2238e-02,  8.0453e-03, -2.6188e-03,\n",
              "         -2.2013e-03, -6.0179e-03, -8.5149e-03, -2.8150e-02,  1.9282e-02,\n",
              "         -7.5657e-02,  6.1354e-03,  5.2562e-03, -2.2223e-03,  1.0437e-02,\n",
              "         -1.8630e-02, -7.7628e-02,  1.4377e-02,  1.4977e-02,  1.6090e-02,\n",
              "          2.9399e-02, -2.8604e-02, -3.2916e-02,  2.7902e-03,  1.4113e-02,\n",
              "          8.3836e-03, -6.5914e-03, -4.9576e-03, -1.5955e-02,  4.2381e-03,\n",
              "          3.0032e-02,  8.8986e-03, -1.5336e-02,  4.6771e-03, -1.2364e-02,\n",
              "         -3.7724e-02, -3.9060e-03,  1.4607e-02, -2.1286e-02,  9.7086e-03,\n",
              "         -1.5826e-02, -1.4847e-02,  1.0796e-03, -9.5035e-03, -1.8624e-02,\n",
              "         -3.1673e-02,  8.8388e-03, -1.4921e-02, -1.7855e-03,  3.8781e-02,\n",
              "          2.4269e-02, -1.6465e-03, -7.9774e-03, -1.3907e-02,  1.9653e-03,\n",
              "         -2.6717e-03,  3.0146e-02, -4.3986e-03,  6.0588e-03,  2.1959e-02,\n",
              "          2.0354e-02,  9.3631e-03, -8.4828e-03, -2.3994e-02,  1.8316e-02,\n",
              "         -2.2401e-02, -2.6273e-03,  3.2069e-03, -3.2386e-03,  1.1388e-02,\n",
              "          3.0835e-02,  2.6043e-02, -7.2103e-03, -5.0038e-04, -1.4860e-02,\n",
              "          2.3886e-02,  1.1530e-02, -1.0549e-03,  3.5677e-02,  6.0299e-03,\n",
              "          1.5875e-02,  5.3877e-02,  6.6331e-02,  1.5165e-02, -6.0870e-03,\n",
              "          1.6159e-03, -1.1137e-02,  1.3665e-02,  1.7698e-02,  4.5647e-03,\n",
              "         -4.5349e-02,  2.6634e-02,  4.7289e-03, -1.1664e-02,  8.7302e-03,\n",
              "          1.2051e-02,  2.3455e-02, -2.7151e-03, -1.3474e-02, -4.5949e-02,\n",
              "         -1.3496e-02,  8.1680e-02, -2.9737e-02, -2.8525e-02, -1.4888e-02,\n",
              "          5.4320e-03,  3.9142e-02,  1.4227e-02,  1.1140e-02, -1.0980e-02,\n",
              "          2.1982e-02, -1.1148e-02, -1.0226e-02, -5.8499e-03, -1.9739e-02,\n",
              "         -3.4634e-03, -1.0565e-02,  1.0449e-02,  8.2791e-03,  2.3053e-03,\n",
              "          9.7032e-03, -9.0916e-03,  5.4747e-04, -4.1901e-02,  9.6154e-03,\n",
              "          2.9424e-02,  1.1897e-03,  1.1825e-02,  2.7524e-02,  1.0225e-02,\n",
              "          2.1439e-02,  2.3448e-03, -3.7239e-02,  5.8888e-02, -3.1999e-02,\n",
              "         -7.9128e-03,  3.5337e-02,  2.7251e-02,  1.3948e-02,  1.0896e-02,\n",
              "          1.4326e-05, -2.6835e-03,  4.0720e-03,  1.6469e-02,  3.5876e-02,\n",
              "         -1.6803e-02,  2.8083e-02,  2.2789e-03,  3.1635e-02,  5.7104e-03,\n",
              "          3.0284e-03,  1.2528e-02, -1.7956e-02, -1.4686e-02,  4.4091e-03,\n",
              "         -1.4846e-02, -4.1044e-02, -3.4005e-02, -6.5876e-02,  3.0926e-02,\n",
              "          5.9820e-02, -1.0069e-04, -6.6089e-03,  2.1271e-03,  3.6137e-03,\n",
              "          9.0073e-03,  9.6992e-03,  2.1992e-02,  6.2104e-02,  1.4786e-02,\n",
              "         -2.6120e-02, -1.4990e-02,  1.5148e-02,  3.0313e-02,  2.0834e-02,\n",
              "          1.7836e-02, -5.4321e-03, -5.9164e-03,  1.7840e-02, -4.3020e-03,\n",
              "          8.7374e-03, -2.4993e-02,  3.4310e-02,  2.2652e-02, -5.3760e-03,\n",
              "          1.7668e-02, -8.9518e-04,  1.3691e-03, -2.1373e-02, -6.1878e-03,\n",
              "         -1.2396e-02, -1.7816e-02, -1.8014e-02,  9.5274e-03,  1.1643e-02,\n",
              "         -2.0683e-02, -2.8707e-03,  1.1669e-02,  1.5618e-02,  3.5348e-02,\n",
              "         -1.1234e-02, -4.5453e-03, -3.4890e-02, -3.0010e-02,  1.6433e-02,\n",
              "         -1.2068e-02,  8.2583e-03,  1.4090e-02,  1.8771e-02, -4.9337e-02,\n",
              "         -1.7775e-03,  5.6333e-02,  6.8979e-02,  2.3123e-02, -1.0754e-02,\n",
              "         -4.9530e-02,  4.2980e-02,  2.8846e-02, -3.9176e-02,  8.1903e-02,\n",
              "         -2.9344e-02,  3.0343e-02,  8.4269e-02, -2.4376e-02, -8.4680e-02,\n",
              "          6.7452e-03,  1.2407e-01,  1.5680e-02, -1.6643e-02,  9.0987e-03,\n",
              "         -2.7984e-03,  7.5874e-02, -1.4630e-02,  2.9823e-02, -1.0423e-02,\n",
              "         -6.0341e-02, -3.6580e-02, -5.4615e-02, -1.3628e-01, -5.8373e-02,\n",
              "          4.3453e-02,  3.0439e-02,  1.7298e-02, -1.1724e-01,  1.0805e-01,\n",
              "         -4.6345e-02, -1.1533e-01,  7.4684e-02, -5.9752e-03,  4.3189e-02,\n",
              "          4.4795e-02, -3.7566e-03, -7.5097e-02,  3.5959e-02,  1.3906e-01,\n",
              "          4.6041e-02,  1.1786e-02,  1.1243e-01,  8.4072e-02, -7.7309e-02,\n",
              "          1.3586e-02,  9.5244e-02, -1.2002e-01,  7.0882e-02,  1.0043e-01,\n",
              "          2.5874e-02,  2.3354e-02, -3.5469e-02,  3.0738e-02,  1.0479e-01,\n",
              "         -9.2843e-02,  5.9718e-02, -1.9409e-02, -3.4414e-02, -8.4060e-03,\n",
              "         -9.3654e-03, -2.8030e-02,  7.2026e-03, -5.9461e-03, -1.2284e-02,\n",
              "         -1.7473e-02, -4.9678e-02,  1.0224e-02, -1.4688e-02, -1.7345e-02,\n",
              "          2.6771e-02, -2.6582e-02, -2.9768e-02,  6.2005e-03, -3.3405e-04,\n",
              "          9.1245e-03, -3.7149e-02, -6.7714e-03, -1.8193e-02,  3.4191e-02,\n",
              "         -5.5732e-03, -2.6161e-02, -1.4078e-02,  1.0288e-02, -2.2850e-02,\n",
              "         -2.2642e-02,  1.0270e-02,  6.9930e-03,  1.3614e-03, -2.9319e-04,\n",
              "          9.9593e-03, -6.0532e-03,  1.8669e-03, -5.3395e-03, -2.2013e-02,\n",
              "          8.4485e-03, -1.9142e-02,  1.0449e-02, -1.6700e-02,  1.3038e-02,\n",
              "          7.7479e-03, -1.3329e-02,  1.3052e-02, -2.5305e-03,  1.6191e-02,\n",
              "          1.3152e-02,  2.9897e-02,  8.5553e-03, -6.4898e-04,  1.2359e-02,\n",
              "         -4.2144e-03,  2.1785e-02,  2.1401e-02, -1.3295e-02,  7.4764e-03,\n",
              "          6.3580e-03, -6.2467e-03,  1.8235e-02,  3.0643e-02, -4.9091e-03,\n",
              "         -1.3889e-02,  2.6181e-03,  4.9702e-03, -6.1664e-03, -2.8528e-03,\n",
              "         -4.0556e-04,  5.4844e-03,  9.7783e-03,  1.2326e-02, -1.6844e-02,\n",
              "         -1.6294e-02,  4.9879e-03,  3.7789e-03,  8.0305e-04,  2.0482e-02,\n",
              "         -1.6369e-02,  1.6436e-03, -9.0401e-03, -3.2635e-02, -2.3990e-03,\n",
              "          5.7569e-03, -2.0392e-02,  6.6946e-03, -1.8541e-02,  9.3559e-03,\n",
              "          2.7165e-02,  1.2492e-02,  1.2748e-03, -1.3846e-03,  4.0312e-03,\n",
              "         -8.5552e-03,  3.1621e-03, -3.9514e-02, -3.7938e-03, -1.3551e-02,\n",
              "          2.2692e-02, -1.0217e-02, -1.2839e-02, -4.8771e-03, -4.2620e-03,\n",
              "         -3.0481e-02,  4.6085e-02, -2.8627e-03,  6.6756e-03, -2.6765e-03,\n",
              "         -4.1443e-02,  1.3336e-02, -1.0526e-02, -3.8494e-02,  1.2780e-02,\n",
              "         -3.5214e-02, -2.4758e-02,  7.5220e-03,  1.7225e-02, -1.6440e-02,\n",
              "         -3.6639e-03, -4.7462e-02,  5.3796e-04, -2.8419e-03,  4.5923e-03,\n",
              "         -3.0517e-02, -3.6832e-03,  1.8710e-02, -3.0486e-02, -2.4076e-02,\n",
              "         -2.7601e-02,  1.1921e-01,  1.2020e-01,  5.9805e-02, -6.9238e-03,\n",
              "         -1.3529e-01,  1.1234e-01,  8.3534e-02,  1.9974e-01,  5.3834e-02,\n",
              "         -6.6691e-02,  1.2676e-01,  2.4947e-01,  4.9879e-01, -1.6342e-01,\n",
              "          6.1663e-02, -4.8022e-02, -5.4069e-02,  4.7277e-02, -1.4724e-01,\n",
              "          8.4666e-02,  9.8618e-02,  7.9988e-02, -5.7652e-02,  6.3551e-03,\n",
              "          2.6916e-03,  9.2017e-02,  1.2511e-01,  2.5168e-01, -8.6152e-02,\n",
              "         -2.7570e-02, -6.1548e-02,  9.1371e-02,  8.0129e-02, -1.1662e-01,\n",
              "          1.5206e-01, -1.0687e-01, -1.0758e-01,  9.4138e-02,  1.0322e-01,\n",
              "         -1.5152e-01,  2.5472e-01,  7.0699e-02, -4.1571e-02,  2.7933e-02,\n",
              "         -1.9523e-01, -2.8319e-01,  5.9689e-02, -1.4707e-01, -3.5683e-02,\n",
              "         -5.4465e-02,  1.2570e-01, -1.2280e-01,  2.0263e-01, -1.0653e-02,\n",
              "          1.1058e-01, -9.1731e-04,  8.6605e-02, -1.7707e-02,  1.2616e-02,\n",
              "          1.8871e-01, -1.0594e-01, -3.7989e-03, -6.6359e-02, -5.9799e-02,\n",
              "          4.3201e-03, -2.3140e-02,  4.8008e-03,  1.4294e-02, -9.5453e-03,\n",
              "          5.8454e-03,  8.6512e-03,  2.1151e-02,  1.7098e-02, -1.4637e-03,\n",
              "          1.3778e-02, -1.2843e-02,  2.3742e-02, -1.3895e-02,  1.1327e-03,\n",
              "         -7.0846e-03, -7.6255e-03, -8.2264e-03, -1.5513e-02,  4.2724e-03,\n",
              "         -1.7624e-02, -3.0984e-03, -1.4400e-02,  2.3883e-02,  1.1556e-01,\n",
              "          4.4036e-02,  3.2821e-02,  8.6612e-04,  1.2383e-02, -6.6263e-03,\n",
              "         -2.7201e-03,  4.8125e-03, -2.8362e-03,  3.9830e-02,  5.2414e-02,\n",
              "         -4.6269e-03, -1.5858e-02,  2.1845e-02, -1.3767e-02, -1.0629e-02,\n",
              "          1.0347e-02, -3.4209e-02,  1.6939e-02,  1.8120e-02,  3.0650e-03,\n",
              "         -2.5109e-03,  1.3500e-02, -3.6440e-02, -9.2135e-03,  9.2194e-03,\n",
              "         -3.6276e-02, -1.1555e-02, -1.9569e-02, -1.5417e-02, -2.0485e-02,\n",
              "          2.9770e-03, -6.8246e-03, -6.5039e-03, -1.2597e-02, -1.1409e-02,\n",
              "          1.7139e-02,  4.6424e-03, -5.1774e-02, -1.1679e-02,  5.2761e-03,\n",
              "         -1.3664e-02, -1.4001e-02,  2.0379e-03,  1.2753e-02, -8.1607e-03,\n",
              "         -1.0849e-02, -1.0683e-03, -2.4489e-03,  2.0192e-02,  1.5756e-02,\n",
              "         -6.4964e-03, -4.5603e-02, -2.5999e-02, -1.4307e-02, -7.4639e-03,\n",
              "          9.9480e-03,  1.6763e-02,  2.1737e-02,  4.8181e-02,  1.7739e-02,\n",
              "          1.1469e-02, -4.2359e-03, -1.6419e-02, -1.7318e-02,  1.1498e-03,\n",
              "          2.4485e-02, -3.0614e-03,  1.9017e-02, -1.6453e-02, -1.3444e-02,\n",
              "          2.6748e-02, -6.4994e-03,  5.1485e-03,  1.4132e-02, -1.1573e-02,\n",
              "          1.2583e-02, -1.1401e-02, -2.0003e-02, -3.8115e-03,  7.3728e-03,\n",
              "          1.5500e-02,  2.0623e-02,  3.1582e-03, -1.2794e-02,  4.5499e-03,\n",
              "         -3.3994e-04, -2.3003e-02,  1.2225e-02, -2.7949e-02, -9.6121e-03,\n",
              "         -3.5844e-02, -4.2373e-03,  5.3473e-03,  1.4432e-02, -1.2745e-02,\n",
              "          7.1483e-03,  2.9170e-03,  6.2454e-03,  6.8991e-03,  1.5852e-02,\n",
              "          2.1877e-02, -1.7211e-02, -2.6093e-02]))"
            ]
          },
          "metadata": {},
          "execution_count": 21
        }
      ]
    },
    {
      "cell_type": "markdown",
      "source": [
        "## computeSize"
      ],
      "metadata": {
        "id": "4YPkuVIW4GNT"
      }
    },
    {
      "cell_type": "code",
      "source": [
        "import torch\n",
        "from pathlib import Path\n",
        "\n",
        "torch.save(obj=pipe.model.state_dict(), f=\"model.pt\")"
      ],
      "metadata": {
        "id": "r7_l0cJsmq4_"
      },
      "execution_count": 22,
      "outputs": []
    },
    {
      "cell_type": "code",
      "source": [
        "Path(\"/content/model.pt\").stat()"
      ],
      "metadata": {
        "colab": {
          "base_uri": "https://localhost:8080/"
        },
        "id": "A9K_sKm1n8b4",
        "outputId": "2bfb17fc-b1fc-4736-bf41-b27ab33cdf4f"
      },
      "execution_count": 23,
      "outputs": [
        {
          "output_type": "execute_result",
          "data": {
            "text/plain": [
              "os.stat_result(st_mode=33188, st_ino=4728883, st_dev=52, st_nlink=1, st_uid=0, st_gid=0, st_size=438459014, st_atime=1703968193, st_mtime=1703968194, st_ctime=1703968194)"
            ]
          },
          "metadata": {},
          "execution_count": 23
        }
      ]
    },
    {
      "cell_type": "code",
      "source": [
        "Path(\"/content/model.pt\").stat().st_size"
      ],
      "metadata": {
        "colab": {
          "base_uri": "https://localhost:8080/"
        },
        "id": "AiGm63JJxVpt",
        "outputId": "9eeb8608-629b-4009-a229-33d70f1a0528"
      },
      "execution_count": 24,
      "outputs": [
        {
          "output_type": "execute_result",
          "data": {
            "text/plain": [
              "438459014"
            ]
          },
          "metadata": {},
          "execution_count": 24
        }
      ]
    },
    {
      "cell_type": "code",
      "source": [
        "def computeSize(self):\n",
        "    \"\"\"Override the PerformanceBenchmark.compute_size() method\"\"\"\n",
        "    state_dict=self.pipeline.model.state_dict()\n",
        "    tmp_path=Path(\"model.pt\")\n",
        "    torch.save(obj=state_dict, f=tmp_path)\n",
        "    # Calculate size in megabytes(MB)\n",
        "    size_mb=Path(tmp_path).stat().st_size / (1024*1024)\n",
        "    # Delete temporary file\n",
        "    tmp_path.unlink()\n",
        "    print(f\"Model Size ---> {size_mb:.2f} mb\")\n",
        "    return {\"size_mb\":size_mb}\n",
        "PerformanceBenchmark.computeSize=computeSize"
      ],
      "metadata": {
        "id": "BCS5sOUJxqu0"
      },
      "execution_count": 25,
      "outputs": []
    },
    {
      "cell_type": "markdown",
      "source": [
        "A simple way to measure the execution time of a code snippet is to use the `perf_counter()` function from Python's `time` module. This function has a **better time resolution** than the `time.time()` function and is well suited for getting precise results."
      ],
      "metadata": {
        "id": "AiQq4Qee2iKG"
      }
    },
    {
      "cell_type": "markdown",
      "source": [
        "## timePipeline\n",
        "> Compute the average Latency from feeding input to getting output."
      ],
      "metadata": {
        "id": "00jwOPhx4UOf"
      }
    },
    {
      "cell_type": "code",
      "source": [
        "from time import perf_counter\n",
        "\n",
        "for _ in range(3):\n",
        "    start_time=perf_counter()\n",
        "    _=pipe(data[\"test\"][0][\"text\"])\n",
        "    latency=perf_counter() - start_time\n",
        "    print(f\"Latency: {1000*latency:.3f} ms\")"
      ],
      "metadata": {
        "colab": {
          "base_uri": "https://localhost:8080/"
        },
        "id": "faMhMbeS21r1",
        "outputId": "fd25aa71-e2b5-4544-beb0-43b25d5e89f9"
      },
      "execution_count": 26,
      "outputs": [
        {
          "output_type": "stream",
          "name": "stdout",
          "text": [
            "Latency: 130.030 ms\n",
            "Latency: 119.545 ms\n",
            "Latency: 121.527 ms\n"
          ]
        }
      ]
    },
    {
      "cell_type": "code",
      "source": [
        "import numpy as np\n",
        "\n",
        "def timePipeline(self, query=\"What is the pin number for my account?\"):\n",
        "    \"\"\"Override the PerformanceBenchmark.time_pipeline() method\"\"\"\n",
        "    latencies:[float]=[]\n",
        "    # Warmup the CPU before performing actual timed run\n",
        "    for _ in range(10):\n",
        "        _=self.pipeline(query)\n",
        "    # Timed Run\n",
        "    for _ in range(100):\n",
        "        start_time=perf_counter()\n",
        "        _=self.pipeline(query)\n",
        "        latency=perf_counter() - start_time\n",
        "        latencies.append(latency)\n",
        "    # Compute run statistics\n",
        "    avg_time_in_ms=1000 * np.mean(latencies)\n",
        "    std_time_in_ms=1000 * np.std(latencies)\n",
        "    print(f\"Latency: {avg_time_in_ms:.2f} ms +\\- {std_time_in_ms:.2f} ms\")\n",
        "    return {\n",
        "        \"avg_time_in_ms\":avg_time_in_ms,\n",
        "        \"std_time_in_ms\":std_time_in_ms\n",
        "    }\n",
        "\n",
        "PerformanceBenchmark.timePipeline=timePipeline"
      ],
      "metadata": {
        "id": "gVApFcxm249t"
      },
      "execution_count": 27,
      "outputs": []
    },
    {
      "cell_type": "markdown",
      "source": [
        "In general, the `latency` will depend on the query length, and a good practice is to **benchmark your models with queries that they're likely to encounter in production environments**."
      ],
      "metadata": {
        "id": "4g6Puzoo7qcf"
      }
    },
    {
      "cell_type": "markdown",
      "source": [
        "## Performance Benchmarking\n",
        "> For the **baseline model**, we just need to pass the pipeline and the dataset we wish to perform the benchmark on."
      ],
      "metadata": {
        "id": "uOD79gr28HZR"
      }
    },
    {
      "cell_type": "code",
      "source": [
        "performance_benchmark=PerformanceBenchmark(pipeline=pipe, dataset=data)\n",
        "performance_metrics=performance_benchmark.runBenchmark()"
      ],
      "metadata": {
        "colab": {
          "base_uri": "https://localhost:8080/"
        },
        "id": "VG7RmRiu3RRX",
        "outputId": "bed65a75-553b-4f70-e92c-b9b489ebc631"
      },
      "execution_count": 28,
      "outputs": [
        {
          "output_type": "stream",
          "name": "stdout",
          "text": [
            "Model Size ---> 418.15 mb\n",
            "Latency: 132.33 ms +\\- 9.53 ms\n",
            "Accuracy on test set ---> 0.8673\n"
          ]
        }
      ]
    },
    {
      "cell_type": "markdown",
      "source": [
        "* **Model Size** ---> 418.15 mb\n",
        "* **Latency:** 132.33 ms +\\- 9.53 ms\n",
        "* **Accuracy** on test set ---> 0.8673"
      ],
      "metadata": {
        "id": "0m2vplZSjuyw"
      }
    },
    {
      "cell_type": "markdown",
      "source": [
        "# Knowledge Distillation\n",
        "> Making Models Smaller via Knowledge Distillation"
      ],
      "metadata": {
        "id": "QcqjQPPjfj65"
      }
    },
    {
      "cell_type": "markdown",
      "source": [
        "* **Knowledge distillation**: A smaller model (student) to mimic the behavior of a slower, larger, but better-performing model (teacher).\n",
        "\n",
        "* **Soft probabilities**: The teacher's confidence scores for each possible output, which give extra information to the student.\n",
        "\n",
        "* **Dark knowledge**: The teacher's insights that are not captured by the labels alone, such as the similarity of different outputs.\n",
        "\n",
        "* **History**: First used for ensemble models in 2006, then extended to deep neural networks in 2015.\n",
        "\n",
        "* **Applications**: Used to `compress large pretrained language models` for practical use."
      ],
      "metadata": {
        "id": "y3m-rT4YgId3"
      }
    },
    {
      "cell_type": "markdown",
      "source": [
        "## Creating a Knowledge Distillation Trainer"
      ],
      "metadata": {
        "id": "Hz9SuNvl_1br"
      }
    },
    {
      "cell_type": "markdown",
      "source": [
        "To implement **knowledge distillation** we need to add a few things to the `Trainer` base class:\n",
        "\n",
        "* The new hyperparameters `α` and `T`, which control the relative weight of the `distillation loss` and how much the probability distribution of the labels should be smoothed.\n",
        "\n",
        "* The fine-tuned teacher model, which in our case is BERT-base.\n",
        "\n",
        "* A new loss function that combines the cross-entropy loss with the knowledge distillation loss.\n",
        "\n",
        "Adding the new hyperparameters is quite simple, since we just need to subclass `TrainingArguments` and include them as new attributes:"
      ],
      "metadata": {
        "id": "HGKBdrRlBYxt"
      }
    },
    {
      "cell_type": "code",
      "source": [
        "from transformers import TrainingArguments\n",
        "\n",
        "class DistillationTrainingArguments(TrainingArguments):\n",
        "    def __init__(self, *args, alpha=0.5, temperature=2.0, **kwargs):\n",
        "        super().__init__(*args, **kwargs)\n",
        "        self.alpha=alpha\n",
        "        self.temperature=temperature\n"
      ],
      "metadata": {
        "id": "9NWbcQPP85Cp"
      },
      "execution_count": 29,
      "outputs": []
    },
    {
      "cell_type": "markdown",
      "source": [
        "For the trainer itself, we need a new loss function. The way to implement this is by subclassing `Trainer` and overriding the `compute_loss()` method to include the `knowledge distillation loss` term $L_{KD}$.\n",
        "\n",
        "* **Cross Entropy Loss:** measures how well the `student model predicts` the correct labels.\n",
        "\n",
        "* **Knowledge Distillation Loss:** measures how well the `student model mimics` the teacher model's output.\n"
      ],
      "metadata": {
        "id": "-uq1MqIfCkKl"
      }
    },
    {
      "cell_type": "code",
      "source": [
        "import torch.nn as nn\n",
        "import torch.nn.functional as F\n",
        "from transformers import Trainer\n",
        "\n",
        "class DistillationTrainer(Trainer):\n",
        "    def __init__(self, *args, teacher_model=None, **kwargs):\n",
        "        super().__init__(*args, **kwargs)\n",
        "        self.teacher_model=teacher_model\n",
        "\n",
        "    def computeLoss(self, model, inputs, return_outputs=False):\n",
        "        student_outputs=model(**inputs)\n",
        "        # Extract Cross Entropy Loss and Logits from Student\n",
        "        cross_entropy_loss=student_outputs.loss\n",
        "        student_logits=student_outputs.logits\n",
        "\n",
        "        # Extract logits from Teacher\n",
        "        with torch.no_grad():\n",
        "            teacher_outputs=self.teacher_model(**inputs)\n",
        "            teacher_logits=teacher_outputs.logits\n",
        "        # Soften Probabilities and Compute Distillation Loss\n",
        "        loss_function=nn.KLDivLoss(reduction=\"batchmean\")\n",
        "        # Temperature\n",
        "        T=self.args.temperature\n",
        "        knowledge_distillation_loss=T ** 2 * loss_function(\n",
        "            F.log_softmax(student_logits/T, dim=-1),\n",
        "            F.softmax(teacher_logits/T, dim=-1)\n",
        "        )\n",
        "\n",
        "        # Return weighted student loss\n",
        "        loss=self.args.alpha * cross_entropy_loss + (1. - self.args.alpha) * knowledge_distillation_loss\n",
        "        return (loss, student_outputs) if return_outputs else loss"
      ],
      "metadata": {
        "id": "pMYYw2UyAFfy"
      },
      "execution_count": 30,
      "outputs": []
    },
    {
      "cell_type": "markdown",
      "source": [
        "## Choosing a good student initialization"
      ],
      "metadata": {
        "id": "7l89EXCwR0JA"
      }
    },
    {
      "cell_type": "markdown",
      "source": [
        "To make the student model **faster** and **more efficient**, we should pick a smaller model that has the `same architecture` as the `teacher model`. For example:\n",
        "* Since our `teacher model` is `BERT`, we can use `DistilBERT` as the `student model`.\n",
        "\n",
        "* DistilBERT has `40% fewer parameters` than BERT, but still `outperforms BERT` on many NLP tasks."
      ],
      "metadata": {
        "id": "WG8IbZqKSFmS"
      }
    },
    {
      "cell_type": "markdown",
      "source": [
        "## Tokenizing and encoding queries"
      ],
      "metadata": {
        "id": "JicoCbAaWqii"
      }
    },
    {
      "cell_type": "markdown",
      "source": [
        "To feed the queries to the student model, we need to convert them into **numerical representations**. We can use the DistilBERT tokenizer for this purpose. The tokenizer splits the queries into subwords and assigns them unique IDs. It also adds special tokens and padding to make the queries have the same length."
      ],
      "metadata": {
        "id": "xlJbwfP0Wwjm"
      }
    },
    {
      "cell_type": "code",
      "source": [
        "from transformers import AutoTokenizer\n",
        "\n",
        "student_checkpoint=\"distilbert-base-uncased\"\n",
        "student_tokenizer=AutoTokenizer.from_pretrained(\n",
        "    pretrained_model_name_or_path=student_checkpoint\n",
        ")\n",
        "\n",
        "student_tokenizer"
      ],
      "metadata": {
        "id": "podUCQMGR6Gx",
        "colab": {
          "base_uri": "https://localhost:8080/"
        },
        "outputId": "a57c4275-99c2-413d-cccc-b3a210524dd8"
      },
      "execution_count": 31,
      "outputs": [
        {
          "output_type": "execute_result",
          "data": {
            "text/plain": [
              "DistilBertTokenizerFast(name_or_path='distilbert-base-uncased', vocab_size=30522, model_max_length=512, is_fast=True, padding_side='right', truncation_side='right', special_tokens={'unk_token': '[UNK]', 'sep_token': '[SEP]', 'pad_token': '[PAD]', 'cls_token': '[CLS]', 'mask_token': '[MASK]'}, clean_up_tokenization_spaces=True),  added_tokens_decoder={\n",
              "\t0: AddedToken(\"[PAD]\", rstrip=False, lstrip=False, single_word=False, normalized=False, special=True),\n",
              "\t100: AddedToken(\"[UNK]\", rstrip=False, lstrip=False, single_word=False, normalized=False, special=True),\n",
              "\t101: AddedToken(\"[CLS]\", rstrip=False, lstrip=False, single_word=False, normalized=False, special=True),\n",
              "\t102: AddedToken(\"[SEP]\", rstrip=False, lstrip=False, single_word=False, normalized=False, special=True),\n",
              "\t103: AddedToken(\"[MASK]\", rstrip=False, lstrip=False, single_word=False, normalized=False, special=True),\n",
              "}"
            ]
          },
          "metadata": {},
          "execution_count": 31
        }
      ]
    },
    {
      "cell_type": "code",
      "source": [
        "data"
      ],
      "metadata": {
        "colab": {
          "base_uri": "https://localhost:8080/"
        },
        "id": "sdpSpINQaoLZ",
        "outputId": "c2e52412-7e1b-4724-b703-8c1331f7832a"
      },
      "execution_count": 32,
      "outputs": [
        {
          "output_type": "execute_result",
          "data": {
            "text/plain": [
              "DatasetDict({\n",
              "    train: Dataset({\n",
              "        features: ['text', 'intent'],\n",
              "        num_rows: 15250\n",
              "    })\n",
              "    validation: Dataset({\n",
              "        features: ['text', 'intent'],\n",
              "        num_rows: 3100\n",
              "    })\n",
              "    test: Dataset({\n",
              "        features: ['text', 'intent'],\n",
              "        num_rows: 5500\n",
              "    })\n",
              "})"
            ]
          },
          "metadata": {},
          "execution_count": 32
        }
      ]
    },
    {
      "cell_type": "code",
      "source": [
        "def tokenize_text(batch):\n",
        "    return student_tokenizer(text=batch[\"text\"], truncation=True)\n",
        "\n",
        "# tokenize all the set of data\n",
        "data_encoded=data.map(\n",
        "    function=tokenize_text,\n",
        "    batched=True,\n",
        "    remove_columns=[\"text\"]\n",
        ")\n",
        "\n",
        "data_encoded[\"train\"].to_pandas()"
      ],
      "metadata": {
        "colab": {
          "base_uri": "https://localhost:8080/",
          "height": 456,
          "referenced_widgets": [
            "20fdaee3062c418eada964aeb5c184d1",
            "668300787fb943f0891db93ded23d965",
            "811289724ed54726be9309d251b1ce7e",
            "8d5d4bd643f64b3c9e8944c2c0a298ce",
            "c60f6c3d92d344508e25261bfe095580",
            "a0cae37a56864649884e895569f8d45f",
            "92628ee9c5c14094b33a0ba91d1e2734",
            "577bf3a4053a4c7d800e2230a272cae6",
            "cb1f1d51677d4595ac712500e4b0c966",
            "42e3f1492ec148e0828618b6f1122d28",
            "f770c6dc7c684d6bbcd562b0ab710e5c"
          ]
        },
        "id": "_J4dH8IxbIJS",
        "outputId": "67aeecd0-041a-4240-d9be-d08c7a08ff07"
      },
      "execution_count": 33,
      "outputs": [
        {
          "output_type": "display_data",
          "data": {
            "text/plain": [
              "Map:   0%|          | 0/5500 [00:00<?, ? examples/s]"
            ],
            "application/vnd.jupyter.widget-view+json": {
              "version_major": 2,
              "version_minor": 0,
              "model_id": "20fdaee3062c418eada964aeb5c184d1"
            }
          },
          "metadata": {}
        },
        {
          "output_type": "execute_result",
          "data": {
            "text/plain": [
              "       intent                                          input_ids  \\\n",
              "0          61  [101, 2054, 3670, 2052, 1045, 2224, 2000, 2360...   \n",
              "1          61  [101, 2064, 2017, 2425, 2033, 2129, 2000, 2360...   \n",
              "2          61  [101, 2054, 2003, 1996, 5662, 1997, 1010, 1005...   \n",
              "3          61  [101, 2425, 2033, 2129, 2000, 2360, 1010, 1005...   \n",
              "4          61  [101, 2065, 1045, 2020, 17855, 1010, 2129, 205...   \n",
              "...       ...                                                ...   \n",
              "15245      42  [101, 2129, 2064, 1045, 2131, 2920, 1999, 1327...   \n",
              "15246      42                      [101, 2003, 13272, 7965, 102]   \n",
              "15247      42  [101, 2054, 1005, 1055, 1996, 11346, 16289, 19...   \n",
              "15248      42  [101, 2040, 2038, 1996, 2087, 17073, 2006, 785...   \n",
              "15249      42  [101, 2079, 2216, 1045, 4942, 29234, 2000, 203...   \n",
              "\n",
              "                                          attention_mask  \n",
              "0      [1, 1, 1, 1, 1, 1, 1, 1, 1, 1, 1, 1, 1, 1, 1, ...  \n",
              "1      [1, 1, 1, 1, 1, 1, 1, 1, 1, 1, 1, 1, 1, 1, 1, ...  \n",
              "2          [1, 1, 1, 1, 1, 1, 1, 1, 1, 1, 1, 1, 1, 1, 1]  \n",
              "3      [1, 1, 1, 1, 1, 1, 1, 1, 1, 1, 1, 1, 1, 1, 1, ...  \n",
              "4       [1, 1, 1, 1, 1, 1, 1, 1, 1, 1, 1, 1, 1, 1, 1, 1]  \n",
              "...                                                  ...  \n",
              "15245                        [1, 1, 1, 1, 1, 1, 1, 1, 1]  \n",
              "15246                                    [1, 1, 1, 1, 1]  \n",
              "15247         [1, 1, 1, 1, 1, 1, 1, 1, 1, 1, 1, 1, 1, 1]  \n",
              "15248                        [1, 1, 1, 1, 1, 1, 1, 1, 1]  \n",
              "15249                  [1, 1, 1, 1, 1, 1, 1, 1, 1, 1, 1]  \n",
              "\n",
              "[15250 rows x 3 columns]"
            ],
            "text/html": [
              "\n",
              "  <div id=\"df-a6d54094-4957-47e9-a5cb-820c1f1f2cc7\" class=\"colab-df-container\">\n",
              "    <div>\n",
              "<style scoped>\n",
              "    .dataframe tbody tr th:only-of-type {\n",
              "        vertical-align: middle;\n",
              "    }\n",
              "\n",
              "    .dataframe tbody tr th {\n",
              "        vertical-align: top;\n",
              "    }\n",
              "\n",
              "    .dataframe thead th {\n",
              "        text-align: right;\n",
              "    }\n",
              "</style>\n",
              "<table border=\"1\" class=\"dataframe\">\n",
              "  <thead>\n",
              "    <tr style=\"text-align: right;\">\n",
              "      <th></th>\n",
              "      <th>intent</th>\n",
              "      <th>input_ids</th>\n",
              "      <th>attention_mask</th>\n",
              "    </tr>\n",
              "  </thead>\n",
              "  <tbody>\n",
              "    <tr>\n",
              "      <th>0</th>\n",
              "      <td>61</td>\n",
              "      <td>[101, 2054, 3670, 2052, 1045, 2224, 2000, 2360...</td>\n",
              "      <td>[1, 1, 1, 1, 1, 1, 1, 1, 1, 1, 1, 1, 1, 1, 1, ...</td>\n",
              "    </tr>\n",
              "    <tr>\n",
              "      <th>1</th>\n",
              "      <td>61</td>\n",
              "      <td>[101, 2064, 2017, 2425, 2033, 2129, 2000, 2360...</td>\n",
              "      <td>[1, 1, 1, 1, 1, 1, 1, 1, 1, 1, 1, 1, 1, 1, 1, ...</td>\n",
              "    </tr>\n",
              "    <tr>\n",
              "      <th>2</th>\n",
              "      <td>61</td>\n",
              "      <td>[101, 2054, 2003, 1996, 5662, 1997, 1010, 1005...</td>\n",
              "      <td>[1, 1, 1, 1, 1, 1, 1, 1, 1, 1, 1, 1, 1, 1, 1]</td>\n",
              "    </tr>\n",
              "    <tr>\n",
              "      <th>3</th>\n",
              "      <td>61</td>\n",
              "      <td>[101, 2425, 2033, 2129, 2000, 2360, 1010, 1005...</td>\n",
              "      <td>[1, 1, 1, 1, 1, 1, 1, 1, 1, 1, 1, 1, 1, 1, 1, ...</td>\n",
              "    </tr>\n",
              "    <tr>\n",
              "      <th>4</th>\n",
              "      <td>61</td>\n",
              "      <td>[101, 2065, 1045, 2020, 17855, 1010, 2129, 205...</td>\n",
              "      <td>[1, 1, 1, 1, 1, 1, 1, 1, 1, 1, 1, 1, 1, 1, 1, 1]</td>\n",
              "    </tr>\n",
              "    <tr>\n",
              "      <th>...</th>\n",
              "      <td>...</td>\n",
              "      <td>...</td>\n",
              "      <td>...</td>\n",
              "    </tr>\n",
              "    <tr>\n",
              "      <th>15245</th>\n",
              "      <td>42</td>\n",
              "      <td>[101, 2129, 2064, 1045, 2131, 2920, 1999, 1327...</td>\n",
              "      <td>[1, 1, 1, 1, 1, 1, 1, 1, 1]</td>\n",
              "    </tr>\n",
              "    <tr>\n",
              "      <th>15246</th>\n",
              "      <td>42</td>\n",
              "      <td>[101, 2003, 13272, 7965, 102]</td>\n",
              "      <td>[1, 1, 1, 1, 1]</td>\n",
              "    </tr>\n",
              "    <tr>\n",
              "      <th>15247</th>\n",
              "      <td>42</td>\n",
              "      <td>[101, 2054, 1005, 1055, 1996, 11346, 16289, 19...</td>\n",
              "      <td>[1, 1, 1, 1, 1, 1, 1, 1, 1, 1, 1, 1, 1, 1]</td>\n",
              "    </tr>\n",
              "    <tr>\n",
              "      <th>15248</th>\n",
              "      <td>42</td>\n",
              "      <td>[101, 2040, 2038, 1996, 2087, 17073, 2006, 785...</td>\n",
              "      <td>[1, 1, 1, 1, 1, 1, 1, 1, 1]</td>\n",
              "    </tr>\n",
              "    <tr>\n",
              "      <th>15249</th>\n",
              "      <td>42</td>\n",
              "      <td>[101, 2079, 2216, 1045, 4942, 29234, 2000, 203...</td>\n",
              "      <td>[1, 1, 1, 1, 1, 1, 1, 1, 1, 1, 1]</td>\n",
              "    </tr>\n",
              "  </tbody>\n",
              "</table>\n",
              "<p>15250 rows × 3 columns</p>\n",
              "</div>\n",
              "    <div class=\"colab-df-buttons\">\n",
              "\n",
              "  <div class=\"colab-df-container\">\n",
              "    <button class=\"colab-df-convert\" onclick=\"convertToInteractive('df-a6d54094-4957-47e9-a5cb-820c1f1f2cc7')\"\n",
              "            title=\"Convert this dataframe to an interactive table.\"\n",
              "            style=\"display:none;\">\n",
              "\n",
              "  <svg xmlns=\"http://www.w3.org/2000/svg\" height=\"24px\" viewBox=\"0 -960 960 960\">\n",
              "    <path d=\"M120-120v-720h720v720H120Zm60-500h600v-160H180v160Zm220 220h160v-160H400v160Zm0 220h160v-160H400v160ZM180-400h160v-160H180v160Zm440 0h160v-160H620v160ZM180-180h160v-160H180v160Zm440 0h160v-160H620v160Z\"/>\n",
              "  </svg>\n",
              "    </button>\n",
              "\n",
              "  <style>\n",
              "    .colab-df-container {\n",
              "      display:flex;\n",
              "      gap: 12px;\n",
              "    }\n",
              "\n",
              "    .colab-df-convert {\n",
              "      background-color: #E8F0FE;\n",
              "      border: none;\n",
              "      border-radius: 50%;\n",
              "      cursor: pointer;\n",
              "      display: none;\n",
              "      fill: #1967D2;\n",
              "      height: 32px;\n",
              "      padding: 0 0 0 0;\n",
              "      width: 32px;\n",
              "    }\n",
              "\n",
              "    .colab-df-convert:hover {\n",
              "      background-color: #E2EBFA;\n",
              "      box-shadow: 0px 1px 2px rgba(60, 64, 67, 0.3), 0px 1px 3px 1px rgba(60, 64, 67, 0.15);\n",
              "      fill: #174EA6;\n",
              "    }\n",
              "\n",
              "    .colab-df-buttons div {\n",
              "      margin-bottom: 4px;\n",
              "    }\n",
              "\n",
              "    [theme=dark] .colab-df-convert {\n",
              "      background-color: #3B4455;\n",
              "      fill: #D2E3FC;\n",
              "    }\n",
              "\n",
              "    [theme=dark] .colab-df-convert:hover {\n",
              "      background-color: #434B5C;\n",
              "      box-shadow: 0px 1px 3px 1px rgba(0, 0, 0, 0.15);\n",
              "      filter: drop-shadow(0px 1px 2px rgba(0, 0, 0, 0.3));\n",
              "      fill: #FFFFFF;\n",
              "    }\n",
              "  </style>\n",
              "\n",
              "    <script>\n",
              "      const buttonEl =\n",
              "        document.querySelector('#df-a6d54094-4957-47e9-a5cb-820c1f1f2cc7 button.colab-df-convert');\n",
              "      buttonEl.style.display =\n",
              "        google.colab.kernel.accessAllowed ? 'block' : 'none';\n",
              "\n",
              "      async function convertToInteractive(key) {\n",
              "        const element = document.querySelector('#df-a6d54094-4957-47e9-a5cb-820c1f1f2cc7');\n",
              "        const dataTable =\n",
              "          await google.colab.kernel.invokeFunction('convertToInteractive',\n",
              "                                                    [key], {});\n",
              "        if (!dataTable) return;\n",
              "\n",
              "        const docLinkHtml = 'Like what you see? Visit the ' +\n",
              "          '<a target=\"_blank\" href=https://colab.research.google.com/notebooks/data_table.ipynb>data table notebook</a>'\n",
              "          + ' to learn more about interactive tables.';\n",
              "        element.innerHTML = '';\n",
              "        dataTable['output_type'] = 'display_data';\n",
              "        await google.colab.output.renderOutput(dataTable, element);\n",
              "        const docLink = document.createElement('div');\n",
              "        docLink.innerHTML = docLinkHtml;\n",
              "        element.appendChild(docLink);\n",
              "      }\n",
              "    </script>\n",
              "  </div>\n",
              "\n",
              "\n",
              "<div id=\"df-7d384ffa-2eac-4514-aa01-7a2239a831e3\">\n",
              "  <button class=\"colab-df-quickchart\" onclick=\"quickchart('df-7d384ffa-2eac-4514-aa01-7a2239a831e3')\"\n",
              "            title=\"Suggest charts\"\n",
              "            style=\"display:none;\">\n",
              "\n",
              "<svg xmlns=\"http://www.w3.org/2000/svg\" height=\"24px\"viewBox=\"0 0 24 24\"\n",
              "     width=\"24px\">\n",
              "    <g>\n",
              "        <path d=\"M19 3H5c-1.1 0-2 .9-2 2v14c0 1.1.9 2 2 2h14c1.1 0 2-.9 2-2V5c0-1.1-.9-2-2-2zM9 17H7v-7h2v7zm4 0h-2V7h2v10zm4 0h-2v-4h2v4z\"/>\n",
              "    </g>\n",
              "</svg>\n",
              "  </button>\n",
              "\n",
              "<style>\n",
              "  .colab-df-quickchart {\n",
              "      --bg-color: #E8F0FE;\n",
              "      --fill-color: #1967D2;\n",
              "      --hover-bg-color: #E2EBFA;\n",
              "      --hover-fill-color: #174EA6;\n",
              "      --disabled-fill-color: #AAA;\n",
              "      --disabled-bg-color: #DDD;\n",
              "  }\n",
              "\n",
              "  [theme=dark] .colab-df-quickchart {\n",
              "      --bg-color: #3B4455;\n",
              "      --fill-color: #D2E3FC;\n",
              "      --hover-bg-color: #434B5C;\n",
              "      --hover-fill-color: #FFFFFF;\n",
              "      --disabled-bg-color: #3B4455;\n",
              "      --disabled-fill-color: #666;\n",
              "  }\n",
              "\n",
              "  .colab-df-quickchart {\n",
              "    background-color: var(--bg-color);\n",
              "    border: none;\n",
              "    border-radius: 50%;\n",
              "    cursor: pointer;\n",
              "    display: none;\n",
              "    fill: var(--fill-color);\n",
              "    height: 32px;\n",
              "    padding: 0;\n",
              "    width: 32px;\n",
              "  }\n",
              "\n",
              "  .colab-df-quickchart:hover {\n",
              "    background-color: var(--hover-bg-color);\n",
              "    box-shadow: 0 1px 2px rgba(60, 64, 67, 0.3), 0 1px 3px 1px rgba(60, 64, 67, 0.15);\n",
              "    fill: var(--button-hover-fill-color);\n",
              "  }\n",
              "\n",
              "  .colab-df-quickchart-complete:disabled,\n",
              "  .colab-df-quickchart-complete:disabled:hover {\n",
              "    background-color: var(--disabled-bg-color);\n",
              "    fill: var(--disabled-fill-color);\n",
              "    box-shadow: none;\n",
              "  }\n",
              "\n",
              "  .colab-df-spinner {\n",
              "    border: 2px solid var(--fill-color);\n",
              "    border-color: transparent;\n",
              "    border-bottom-color: var(--fill-color);\n",
              "    animation:\n",
              "      spin 1s steps(1) infinite;\n",
              "  }\n",
              "\n",
              "  @keyframes spin {\n",
              "    0% {\n",
              "      border-color: transparent;\n",
              "      border-bottom-color: var(--fill-color);\n",
              "      border-left-color: var(--fill-color);\n",
              "    }\n",
              "    20% {\n",
              "      border-color: transparent;\n",
              "      border-left-color: var(--fill-color);\n",
              "      border-top-color: var(--fill-color);\n",
              "    }\n",
              "    30% {\n",
              "      border-color: transparent;\n",
              "      border-left-color: var(--fill-color);\n",
              "      border-top-color: var(--fill-color);\n",
              "      border-right-color: var(--fill-color);\n",
              "    }\n",
              "    40% {\n",
              "      border-color: transparent;\n",
              "      border-right-color: var(--fill-color);\n",
              "      border-top-color: var(--fill-color);\n",
              "    }\n",
              "    60% {\n",
              "      border-color: transparent;\n",
              "      border-right-color: var(--fill-color);\n",
              "    }\n",
              "    80% {\n",
              "      border-color: transparent;\n",
              "      border-right-color: var(--fill-color);\n",
              "      border-bottom-color: var(--fill-color);\n",
              "    }\n",
              "    90% {\n",
              "      border-color: transparent;\n",
              "      border-bottom-color: var(--fill-color);\n",
              "    }\n",
              "  }\n",
              "</style>\n",
              "\n",
              "  <script>\n",
              "    async function quickchart(key) {\n",
              "      const quickchartButtonEl =\n",
              "        document.querySelector('#' + key + ' button');\n",
              "      quickchartButtonEl.disabled = true;  // To prevent multiple clicks.\n",
              "      quickchartButtonEl.classList.add('colab-df-spinner');\n",
              "      try {\n",
              "        const charts = await google.colab.kernel.invokeFunction(\n",
              "            'suggestCharts', [key], {});\n",
              "      } catch (error) {\n",
              "        console.error('Error during call to suggestCharts:', error);\n",
              "      }\n",
              "      quickchartButtonEl.classList.remove('colab-df-spinner');\n",
              "      quickchartButtonEl.classList.add('colab-df-quickchart-complete');\n",
              "    }\n",
              "    (() => {\n",
              "      let quickchartButtonEl =\n",
              "        document.querySelector('#df-7d384ffa-2eac-4514-aa01-7a2239a831e3 button');\n",
              "      quickchartButtonEl.style.display =\n",
              "        google.colab.kernel.accessAllowed ? 'block' : 'none';\n",
              "    })();\n",
              "  </script>\n",
              "</div>\n",
              "\n",
              "    </div>\n",
              "  </div>\n"
            ]
          },
          "metadata": {},
          "execution_count": 33
        }
      ]
    },
    {
      "cell_type": "code",
      "source": [
        "data_encoded=data_encoded.rename_column(\n",
        "    original_column_name=\"intent\",\n",
        "    new_column_name=\"labels\"\n",
        ")\n",
        "\n",
        "data_encoded[\"train\"].to_pandas()"
      ],
      "metadata": {
        "colab": {
          "base_uri": "https://localhost:8080/",
          "height": 424
        },
        "id": "b2hVosO5ciCz",
        "outputId": "b97e20b9-b0a6-4cb2-f004-2f7e3a2aeeff"
      },
      "execution_count": 34,
      "outputs": [
        {
          "output_type": "execute_result",
          "data": {
            "text/plain": [
              "       labels                                          input_ids  \\\n",
              "0          61  [101, 2054, 3670, 2052, 1045, 2224, 2000, 2360...   \n",
              "1          61  [101, 2064, 2017, 2425, 2033, 2129, 2000, 2360...   \n",
              "2          61  [101, 2054, 2003, 1996, 5662, 1997, 1010, 1005...   \n",
              "3          61  [101, 2425, 2033, 2129, 2000, 2360, 1010, 1005...   \n",
              "4          61  [101, 2065, 1045, 2020, 17855, 1010, 2129, 205...   \n",
              "...       ...                                                ...   \n",
              "15245      42  [101, 2129, 2064, 1045, 2131, 2920, 1999, 1327...   \n",
              "15246      42                      [101, 2003, 13272, 7965, 102]   \n",
              "15247      42  [101, 2054, 1005, 1055, 1996, 11346, 16289, 19...   \n",
              "15248      42  [101, 2040, 2038, 1996, 2087, 17073, 2006, 785...   \n",
              "15249      42  [101, 2079, 2216, 1045, 4942, 29234, 2000, 203...   \n",
              "\n",
              "                                          attention_mask  \n",
              "0      [1, 1, 1, 1, 1, 1, 1, 1, 1, 1, 1, 1, 1, 1, 1, ...  \n",
              "1      [1, 1, 1, 1, 1, 1, 1, 1, 1, 1, 1, 1, 1, 1, 1, ...  \n",
              "2          [1, 1, 1, 1, 1, 1, 1, 1, 1, 1, 1, 1, 1, 1, 1]  \n",
              "3      [1, 1, 1, 1, 1, 1, 1, 1, 1, 1, 1, 1, 1, 1, 1, ...  \n",
              "4       [1, 1, 1, 1, 1, 1, 1, 1, 1, 1, 1, 1, 1, 1, 1, 1]  \n",
              "...                                                  ...  \n",
              "15245                        [1, 1, 1, 1, 1, 1, 1, 1, 1]  \n",
              "15246                                    [1, 1, 1, 1, 1]  \n",
              "15247         [1, 1, 1, 1, 1, 1, 1, 1, 1, 1, 1, 1, 1, 1]  \n",
              "15248                        [1, 1, 1, 1, 1, 1, 1, 1, 1]  \n",
              "15249                  [1, 1, 1, 1, 1, 1, 1, 1, 1, 1, 1]  \n",
              "\n",
              "[15250 rows x 3 columns]"
            ],
            "text/html": [
              "\n",
              "  <div id=\"df-ccd568d1-8bae-4b77-a2d4-74a410442122\" class=\"colab-df-container\">\n",
              "    <div>\n",
              "<style scoped>\n",
              "    .dataframe tbody tr th:only-of-type {\n",
              "        vertical-align: middle;\n",
              "    }\n",
              "\n",
              "    .dataframe tbody tr th {\n",
              "        vertical-align: top;\n",
              "    }\n",
              "\n",
              "    .dataframe thead th {\n",
              "        text-align: right;\n",
              "    }\n",
              "</style>\n",
              "<table border=\"1\" class=\"dataframe\">\n",
              "  <thead>\n",
              "    <tr style=\"text-align: right;\">\n",
              "      <th></th>\n",
              "      <th>labels</th>\n",
              "      <th>input_ids</th>\n",
              "      <th>attention_mask</th>\n",
              "    </tr>\n",
              "  </thead>\n",
              "  <tbody>\n",
              "    <tr>\n",
              "      <th>0</th>\n",
              "      <td>61</td>\n",
              "      <td>[101, 2054, 3670, 2052, 1045, 2224, 2000, 2360...</td>\n",
              "      <td>[1, 1, 1, 1, 1, 1, 1, 1, 1, 1, 1, 1, 1, 1, 1, ...</td>\n",
              "    </tr>\n",
              "    <tr>\n",
              "      <th>1</th>\n",
              "      <td>61</td>\n",
              "      <td>[101, 2064, 2017, 2425, 2033, 2129, 2000, 2360...</td>\n",
              "      <td>[1, 1, 1, 1, 1, 1, 1, 1, 1, 1, 1, 1, 1, 1, 1, ...</td>\n",
              "    </tr>\n",
              "    <tr>\n",
              "      <th>2</th>\n",
              "      <td>61</td>\n",
              "      <td>[101, 2054, 2003, 1996, 5662, 1997, 1010, 1005...</td>\n",
              "      <td>[1, 1, 1, 1, 1, 1, 1, 1, 1, 1, 1, 1, 1, 1, 1]</td>\n",
              "    </tr>\n",
              "    <tr>\n",
              "      <th>3</th>\n",
              "      <td>61</td>\n",
              "      <td>[101, 2425, 2033, 2129, 2000, 2360, 1010, 1005...</td>\n",
              "      <td>[1, 1, 1, 1, 1, 1, 1, 1, 1, 1, 1, 1, 1, 1, 1, ...</td>\n",
              "    </tr>\n",
              "    <tr>\n",
              "      <th>4</th>\n",
              "      <td>61</td>\n",
              "      <td>[101, 2065, 1045, 2020, 17855, 1010, 2129, 205...</td>\n",
              "      <td>[1, 1, 1, 1, 1, 1, 1, 1, 1, 1, 1, 1, 1, 1, 1, 1]</td>\n",
              "    </tr>\n",
              "    <tr>\n",
              "      <th>...</th>\n",
              "      <td>...</td>\n",
              "      <td>...</td>\n",
              "      <td>...</td>\n",
              "    </tr>\n",
              "    <tr>\n",
              "      <th>15245</th>\n",
              "      <td>42</td>\n",
              "      <td>[101, 2129, 2064, 1045, 2131, 2920, 1999, 1327...</td>\n",
              "      <td>[1, 1, 1, 1, 1, 1, 1, 1, 1]</td>\n",
              "    </tr>\n",
              "    <tr>\n",
              "      <th>15246</th>\n",
              "      <td>42</td>\n",
              "      <td>[101, 2003, 13272, 7965, 102]</td>\n",
              "      <td>[1, 1, 1, 1, 1]</td>\n",
              "    </tr>\n",
              "    <tr>\n",
              "      <th>15247</th>\n",
              "      <td>42</td>\n",
              "      <td>[101, 2054, 1005, 1055, 1996, 11346, 16289, 19...</td>\n",
              "      <td>[1, 1, 1, 1, 1, 1, 1, 1, 1, 1, 1, 1, 1, 1]</td>\n",
              "    </tr>\n",
              "    <tr>\n",
              "      <th>15248</th>\n",
              "      <td>42</td>\n",
              "      <td>[101, 2040, 2038, 1996, 2087, 17073, 2006, 785...</td>\n",
              "      <td>[1, 1, 1, 1, 1, 1, 1, 1, 1]</td>\n",
              "    </tr>\n",
              "    <tr>\n",
              "      <th>15249</th>\n",
              "      <td>42</td>\n",
              "      <td>[101, 2079, 2216, 1045, 4942, 29234, 2000, 203...</td>\n",
              "      <td>[1, 1, 1, 1, 1, 1, 1, 1, 1, 1, 1]</td>\n",
              "    </tr>\n",
              "  </tbody>\n",
              "</table>\n",
              "<p>15250 rows × 3 columns</p>\n",
              "</div>\n",
              "    <div class=\"colab-df-buttons\">\n",
              "\n",
              "  <div class=\"colab-df-container\">\n",
              "    <button class=\"colab-df-convert\" onclick=\"convertToInteractive('df-ccd568d1-8bae-4b77-a2d4-74a410442122')\"\n",
              "            title=\"Convert this dataframe to an interactive table.\"\n",
              "            style=\"display:none;\">\n",
              "\n",
              "  <svg xmlns=\"http://www.w3.org/2000/svg\" height=\"24px\" viewBox=\"0 -960 960 960\">\n",
              "    <path d=\"M120-120v-720h720v720H120Zm60-500h600v-160H180v160Zm220 220h160v-160H400v160Zm0 220h160v-160H400v160ZM180-400h160v-160H180v160Zm440 0h160v-160H620v160ZM180-180h160v-160H180v160Zm440 0h160v-160H620v160Z\"/>\n",
              "  </svg>\n",
              "    </button>\n",
              "\n",
              "  <style>\n",
              "    .colab-df-container {\n",
              "      display:flex;\n",
              "      gap: 12px;\n",
              "    }\n",
              "\n",
              "    .colab-df-convert {\n",
              "      background-color: #E8F0FE;\n",
              "      border: none;\n",
              "      border-radius: 50%;\n",
              "      cursor: pointer;\n",
              "      display: none;\n",
              "      fill: #1967D2;\n",
              "      height: 32px;\n",
              "      padding: 0 0 0 0;\n",
              "      width: 32px;\n",
              "    }\n",
              "\n",
              "    .colab-df-convert:hover {\n",
              "      background-color: #E2EBFA;\n",
              "      box-shadow: 0px 1px 2px rgba(60, 64, 67, 0.3), 0px 1px 3px 1px rgba(60, 64, 67, 0.15);\n",
              "      fill: #174EA6;\n",
              "    }\n",
              "\n",
              "    .colab-df-buttons div {\n",
              "      margin-bottom: 4px;\n",
              "    }\n",
              "\n",
              "    [theme=dark] .colab-df-convert {\n",
              "      background-color: #3B4455;\n",
              "      fill: #D2E3FC;\n",
              "    }\n",
              "\n",
              "    [theme=dark] .colab-df-convert:hover {\n",
              "      background-color: #434B5C;\n",
              "      box-shadow: 0px 1px 3px 1px rgba(0, 0, 0, 0.15);\n",
              "      filter: drop-shadow(0px 1px 2px rgba(0, 0, 0, 0.3));\n",
              "      fill: #FFFFFF;\n",
              "    }\n",
              "  </style>\n",
              "\n",
              "    <script>\n",
              "      const buttonEl =\n",
              "        document.querySelector('#df-ccd568d1-8bae-4b77-a2d4-74a410442122 button.colab-df-convert');\n",
              "      buttonEl.style.display =\n",
              "        google.colab.kernel.accessAllowed ? 'block' : 'none';\n",
              "\n",
              "      async function convertToInteractive(key) {\n",
              "        const element = document.querySelector('#df-ccd568d1-8bae-4b77-a2d4-74a410442122');\n",
              "        const dataTable =\n",
              "          await google.colab.kernel.invokeFunction('convertToInteractive',\n",
              "                                                    [key], {});\n",
              "        if (!dataTable) return;\n",
              "\n",
              "        const docLinkHtml = 'Like what you see? Visit the ' +\n",
              "          '<a target=\"_blank\" href=https://colab.research.google.com/notebooks/data_table.ipynb>data table notebook</a>'\n",
              "          + ' to learn more about interactive tables.';\n",
              "        element.innerHTML = '';\n",
              "        dataTable['output_type'] = 'display_data';\n",
              "        await google.colab.output.renderOutput(dataTable, element);\n",
              "        const docLink = document.createElement('div');\n",
              "        docLink.innerHTML = docLinkHtml;\n",
              "        element.appendChild(docLink);\n",
              "      }\n",
              "    </script>\n",
              "  </div>\n",
              "\n",
              "\n",
              "<div id=\"df-dcc4bbf0-48ed-42d8-9d3b-51611261693c\">\n",
              "  <button class=\"colab-df-quickchart\" onclick=\"quickchart('df-dcc4bbf0-48ed-42d8-9d3b-51611261693c')\"\n",
              "            title=\"Suggest charts\"\n",
              "            style=\"display:none;\">\n",
              "\n",
              "<svg xmlns=\"http://www.w3.org/2000/svg\" height=\"24px\"viewBox=\"0 0 24 24\"\n",
              "     width=\"24px\">\n",
              "    <g>\n",
              "        <path d=\"M19 3H5c-1.1 0-2 .9-2 2v14c0 1.1.9 2 2 2h14c1.1 0 2-.9 2-2V5c0-1.1-.9-2-2-2zM9 17H7v-7h2v7zm4 0h-2V7h2v10zm4 0h-2v-4h2v4z\"/>\n",
              "    </g>\n",
              "</svg>\n",
              "  </button>\n",
              "\n",
              "<style>\n",
              "  .colab-df-quickchart {\n",
              "      --bg-color: #E8F0FE;\n",
              "      --fill-color: #1967D2;\n",
              "      --hover-bg-color: #E2EBFA;\n",
              "      --hover-fill-color: #174EA6;\n",
              "      --disabled-fill-color: #AAA;\n",
              "      --disabled-bg-color: #DDD;\n",
              "  }\n",
              "\n",
              "  [theme=dark] .colab-df-quickchart {\n",
              "      --bg-color: #3B4455;\n",
              "      --fill-color: #D2E3FC;\n",
              "      --hover-bg-color: #434B5C;\n",
              "      --hover-fill-color: #FFFFFF;\n",
              "      --disabled-bg-color: #3B4455;\n",
              "      --disabled-fill-color: #666;\n",
              "  }\n",
              "\n",
              "  .colab-df-quickchart {\n",
              "    background-color: var(--bg-color);\n",
              "    border: none;\n",
              "    border-radius: 50%;\n",
              "    cursor: pointer;\n",
              "    display: none;\n",
              "    fill: var(--fill-color);\n",
              "    height: 32px;\n",
              "    padding: 0;\n",
              "    width: 32px;\n",
              "  }\n",
              "\n",
              "  .colab-df-quickchart:hover {\n",
              "    background-color: var(--hover-bg-color);\n",
              "    box-shadow: 0 1px 2px rgba(60, 64, 67, 0.3), 0 1px 3px 1px rgba(60, 64, 67, 0.15);\n",
              "    fill: var(--button-hover-fill-color);\n",
              "  }\n",
              "\n",
              "  .colab-df-quickchart-complete:disabled,\n",
              "  .colab-df-quickchart-complete:disabled:hover {\n",
              "    background-color: var(--disabled-bg-color);\n",
              "    fill: var(--disabled-fill-color);\n",
              "    box-shadow: none;\n",
              "  }\n",
              "\n",
              "  .colab-df-spinner {\n",
              "    border: 2px solid var(--fill-color);\n",
              "    border-color: transparent;\n",
              "    border-bottom-color: var(--fill-color);\n",
              "    animation:\n",
              "      spin 1s steps(1) infinite;\n",
              "  }\n",
              "\n",
              "  @keyframes spin {\n",
              "    0% {\n",
              "      border-color: transparent;\n",
              "      border-bottom-color: var(--fill-color);\n",
              "      border-left-color: var(--fill-color);\n",
              "    }\n",
              "    20% {\n",
              "      border-color: transparent;\n",
              "      border-left-color: var(--fill-color);\n",
              "      border-top-color: var(--fill-color);\n",
              "    }\n",
              "    30% {\n",
              "      border-color: transparent;\n",
              "      border-left-color: var(--fill-color);\n",
              "      border-top-color: var(--fill-color);\n",
              "      border-right-color: var(--fill-color);\n",
              "    }\n",
              "    40% {\n",
              "      border-color: transparent;\n",
              "      border-right-color: var(--fill-color);\n",
              "      border-top-color: var(--fill-color);\n",
              "    }\n",
              "    60% {\n",
              "      border-color: transparent;\n",
              "      border-right-color: var(--fill-color);\n",
              "    }\n",
              "    80% {\n",
              "      border-color: transparent;\n",
              "      border-right-color: var(--fill-color);\n",
              "      border-bottom-color: var(--fill-color);\n",
              "    }\n",
              "    90% {\n",
              "      border-color: transparent;\n",
              "      border-bottom-color: var(--fill-color);\n",
              "    }\n",
              "  }\n",
              "</style>\n",
              "\n",
              "  <script>\n",
              "    async function quickchart(key) {\n",
              "      const quickchartButtonEl =\n",
              "        document.querySelector('#' + key + ' button');\n",
              "      quickchartButtonEl.disabled = true;  // To prevent multiple clicks.\n",
              "      quickchartButtonEl.classList.add('colab-df-spinner');\n",
              "      try {\n",
              "        const charts = await google.colab.kernel.invokeFunction(\n",
              "            'suggestCharts', [key], {});\n",
              "      } catch (error) {\n",
              "        console.error('Error during call to suggestCharts:', error);\n",
              "      }\n",
              "      quickchartButtonEl.classList.remove('colab-df-spinner');\n",
              "      quickchartButtonEl.classList.add('colab-df-quickchart-complete');\n",
              "    }\n",
              "    (() => {\n",
              "      let quickchartButtonEl =\n",
              "        document.querySelector('#df-dcc4bbf0-48ed-42d8-9d3b-51611261693c button');\n",
              "      quickchartButtonEl.style.display =\n",
              "        google.colab.kernel.accessAllowed ? 'block' : 'none';\n",
              "    })();\n",
              "  </script>\n",
              "</div>\n",
              "\n",
              "    </div>\n",
              "  </div>\n"
            ]
          },
          "metadata": {},
          "execution_count": 34
        }
      ]
    },
    {
      "cell_type": "markdown",
      "source": [
        "* Here we've removed the `text` column since we no longer need it, and we've also `renamed` the `intent` column to `labels` so it can be automatically detected by the\n",
        "trainer.\n",
        "\n",
        "* Now that we've processed our texts, the next thing we need to do is define the hyperparameters and `compute_metrics()` function for our `DistillationTrainer`. We'll also push all of our models to the Hugging Face Hub."
      ],
      "metadata": {
        "id": "WLg6PWtkql2z"
      }
    },
    {
      "cell_type": "markdown",
      "source": [
        "### Pushing the model to the Hub"
      ],
      "metadata": {
        "id": "xNbqMmL_qY6X"
      }
    },
    {
      "cell_type": "markdown",
      "source": [
        "To share our model with the community, we can use the `push_to_hub()` method of the `DistillationTrainer` class, which uploads our model and its configuration to the Hugging Face Hub, a platform for hosting and collaborating on models. We can also use the `pipeline()` function from the `transformers` library to create an inference pipeline that can take a query and return the predicted intent."
      ],
      "metadata": {
        "id": "IOLjoSFLqcs_"
      }
    },
    {
      "cell_type": "code",
      "source": [
        "from huggingface_hub import notebook_login\n",
        "notebook_login()"
      ],
      "metadata": {
        "colab": {
          "base_uri": "https://localhost:8080/",
          "height": 387,
          "referenced_widgets": [
            "d389d42f538342909198a8f9c39adf08",
            "27e65ec229264485b26601039c34372d",
            "431b57db89d048fcbaf41c162aeabd19",
            "faea5504bf6d494cbcc8415c21d2b9b3",
            "85835e7ce21e4a1c964d85772482c0a5",
            "52eb554f88af4705bde0bbdfed61dad9",
            "a8774d315c4a43e8b7d94fbf3ed103c1",
            "9876d53987ba407895917eb22e21bc81",
            "c4d598cd0ed44df5a4f542bd89d0fc1e",
            "75271620037a4345b74d7377d3f76632",
            "d25a30c2b98a44be8932de6c5e32140d",
            "b556c860030a4860a1df8e53a475a509",
            "c238e6fe6e9844509b9b510924d4bc8e",
            "3ee352e94a5c449d9fc918ed4e0525a5",
            "9465b14348684e7e9c6d72b5d3da3e3f",
            "de2ce8783ca442c4be5aaf487168280e",
            "dda03bba95cc473e86bbb991e0e9b7d6"
          ]
        },
        "id": "q4TIhYWmdAH5",
        "outputId": "ea59e406-1ab3-4591-88a6-b561675020cb"
      },
      "execution_count": 35,
      "outputs": [
        {
          "output_type": "display_data",
          "data": {
            "text/plain": [
              "VBox(children=(HTML(value='<center> <img\\nsrc=https://huggingface.co/front/assets/huggingface_logo-noborder.sv…"
            ],
            "application/vnd.jupyter.widget-view+json": {
              "version_major": 2,
              "version_minor": 0,
              "model_id": "d389d42f538342909198a8f9c39adf08"
            }
          },
          "metadata": {}
        }
      ]
    },
    {
      "cell_type": "markdown",
      "source": [
        "### Define Compute Metrics"
      ],
      "metadata": {
        "id": "DqVt8_V7rM6v"
      }
    },
    {
      "cell_type": "markdown",
      "source": [
        "Next, we'll define the metrics to track during training. As we did in the performance benchmark, we'll use `accuracy` as the main metric. This means we can reuse our `accuracy_score()` function in the `compute_metrics()` function that we'll include in\n",
        "`DistillationTrainer`."
      ],
      "metadata": {
        "id": "L-1k-kOArQUa"
      }
    },
    {
      "cell_type": "code",
      "source": [
        "def compute_metrics(pred):\n",
        "    logits, labels=pred\n",
        "    predictions=np.argmax(logits, axis=1)\n",
        "    return accuracy_score.compute(\n",
        "        predictions=predictions,\n",
        "        references=labels\n",
        "    )"
      ],
      "metadata": {
        "id": "BvhlcJ5RrX73"
      },
      "execution_count": 36,
      "outputs": []
    },
    {
      "cell_type": "markdown",
      "source": [
        "In this function, the predictions from the sequence modeling head come in the form of logits, so we use the `np.argmax()` function to find the most confident class prediction and compare that against the ground truth label."
      ],
      "metadata": {
        "id": "svtKj21IsQ7b"
      }
    },
    {
      "cell_type": "markdown",
      "source": [
        "### TrainingArguments"
      ],
      "metadata": {
        "id": "UFUj1BpCswu0"
      }
    },
    {
      "cell_type": "markdown",
      "source": [
        "To warm up we will set $\\alpha = 1$ to see how well DistilBERT performs without any signal from the teacher. Then we will push our fine-tuned model to a new repo called `distilbert-base-uncased-finetuned-clinc`, which we need to specify in the `DistillationTrainingArguments`."
      ],
      "metadata": {
        "id": "Mwj5OCW5s6AP"
      }
    },
    {
      "cell_type": "code",
      "source": [
        "from enum import Enum\n",
        "\n",
        "class ModelConfig(Enum):\n",
        "    BATCH_SIZE=48\n",
        "    EPOCHS=10\n",
        "    LEARNING_RATE=2e-5\n",
        "    DISTILLATION_ALPHA=1,\n",
        "    WEIGHT_DECAY=0.01"
      ],
      "metadata": {
        "id": "kaAl9UMGr9HM"
      },
      "execution_count": 37,
      "outputs": []
    },
    {
      "cell_type": "code",
      "source": [
        "!pip install transformers[torch] accelerate -Uqq"
      ],
      "metadata": {
        "id": "BUTNF2yJ6C-0"
      },
      "execution_count": 38,
      "outputs": []
    },
    {
      "cell_type": "code",
      "source": [
        "# path where the finetuned model will be saved\n",
        "finetuned_checkpoint=\"distilbert-base-uncased-finetuned-clinc\"\n",
        "\n",
        "student_training_args=DistillationTrainingArguments(\n",
        "    output_dir=finetuned_checkpoint,\n",
        "    evaluation_strategy=\"epoch\",\n",
        "    num_train_epochs=ModelConfig.EPOCHS.value,\n",
        "    learning_rate=ModelConfig.LEARNING_RATE.value,\n",
        "    per_device_train_batch_size=ModelConfig.BATCH_SIZE.value,\n",
        "    per_device_eval_batch_size=ModelConfig.BATCH_SIZE.value,\n",
        "    alpha=ModelConfig.DISTILLATION_ALPHA.value,\n",
        "    weight_decay=ModelConfig.WEIGHT_DECAY.value,\n",
        "    push_to_hub=True\n",
        ")"
      ],
      "metadata": {
        "id": "zL4V7f-Qu8-V"
      },
      "execution_count": 39,
      "outputs": []
    },
    {
      "cell_type": "markdown",
      "source": [
        "### Student init"
      ],
      "metadata": {
        "id": "b4mF7qms0JgW"
      }
    },
    {
      "cell_type": "markdown",
      "source": [
        "The next thing to do is initialize a student model. Since we will be doing multiple runs with the trainer, we'll create a `student_init()` function to initialize the model with each new run. When we pass this function to the `DistillationTrainer`, this will ensure we initialize a new model\n",
        "each time we call the `train()` method.\n",
        "\n",
        "\n",
        "One other thing we need to do is provide the student model with the `mappings between each intent and label ID`. These mappings can be obtained from our `BERT base model` that we downloaded in the pipeline."
      ],
      "metadata": {
        "id": "V1WJ7kxu0Lu0"
      }
    },
    {
      "cell_type": "code",
      "source": [
        "id2label=pipe.model.config.id2label\n",
        "label2id=pipe.model.config.label2id"
      ],
      "metadata": {
        "id": "zN-4lS_WvF7_"
      },
      "execution_count": 40,
      "outputs": []
    },
    {
      "cell_type": "code",
      "source": [
        "id2label[0], label2id[\"restaurant_reviews\"]"
      ],
      "metadata": {
        "colab": {
          "base_uri": "https://localhost:8080/"
        },
        "id": "PtwDqIz1vhX-",
        "outputId": "d60e14cb-6dc8-4be4-cb42-85df165f9894"
      },
      "execution_count": 41,
      "outputs": [
        {
          "output_type": "execute_result",
          "data": {
            "text/plain": [
              "('restaurant_reviews', 0)"
            ]
          },
          "metadata": {},
          "execution_count": 41
        }
      ]
    },
    {
      "cell_type": "code",
      "source": [
        "from transformers import AutoConfig\n",
        "\n",
        "num_labels = intents.num_classes\n",
        "print(num_labels)"
      ],
      "metadata": {
        "colab": {
          "base_uri": "https://localhost:8080/"
        },
        "id": "DGHuND6y08CG",
        "outputId": "15573e75-5e2d-4ad9-d22e-45ef99a2dd6a"
      },
      "execution_count": 42,
      "outputs": [
        {
          "output_type": "stream",
          "name": "stdout",
          "text": [
            "151\n"
          ]
        }
      ]
    },
    {
      "cell_type": "code",
      "source": [
        "student_config=(AutoConfig.from_pretrained(\n",
        "    pretrained_model_name_or_path=student_checkpoint,\n",
        "    num_labels=num_labels,\n",
        "    id2label=id2label,\n",
        "    label2id=label2id\n",
        "))\n",
        "\n",
        "student_config"
      ],
      "metadata": {
        "colab": {
          "base_uri": "https://localhost:8080/"
        },
        "id": "fHo_IFCd10f_",
        "outputId": "bb49e920-1f77-4838-f8d2-120f90ccaa1a"
      },
      "execution_count": 43,
      "outputs": [
        {
          "output_type": "execute_result",
          "data": {
            "text/plain": [
              "DistilBertConfig {\n",
              "  \"_name_or_path\": \"distilbert-base-uncased\",\n",
              "  \"activation\": \"gelu\",\n",
              "  \"architectures\": [\n",
              "    \"DistilBertForMaskedLM\"\n",
              "  ],\n",
              "  \"attention_dropout\": 0.1,\n",
              "  \"dim\": 768,\n",
              "  \"dropout\": 0.1,\n",
              "  \"hidden_dim\": 3072,\n",
              "  \"id2label\": {\n",
              "    \"0\": \"restaurant_reviews\",\n",
              "    \"1\": \"nutrition_info\",\n",
              "    \"2\": \"account_blocked\",\n",
              "    \"3\": \"oil_change_how\",\n",
              "    \"4\": \"time\",\n",
              "    \"5\": \"weather\",\n",
              "    \"6\": \"redeem_rewards\",\n",
              "    \"7\": \"interest_rate\",\n",
              "    \"8\": \"gas_type\",\n",
              "    \"9\": \"accept_reservations\",\n",
              "    \"10\": \"smart_home\",\n",
              "    \"11\": \"user_name\",\n",
              "    \"12\": \"report_lost_card\",\n",
              "    \"13\": \"repeat\",\n",
              "    \"14\": \"whisper_mode\",\n",
              "    \"15\": \"what_are_your_hobbies\",\n",
              "    \"16\": \"order\",\n",
              "    \"17\": \"jump_start\",\n",
              "    \"18\": \"schedule_meeting\",\n",
              "    \"19\": \"meeting_schedule\",\n",
              "    \"20\": \"freeze_account\",\n",
              "    \"21\": \"what_song\",\n",
              "    \"22\": \"meaning_of_life\",\n",
              "    \"23\": \"restaurant_reservation\",\n",
              "    \"24\": \"traffic\",\n",
              "    \"25\": \"make_call\",\n",
              "    \"26\": \"text\",\n",
              "    \"27\": \"bill_balance\",\n",
              "    \"28\": \"improve_credit_score\",\n",
              "    \"29\": \"change_language\",\n",
              "    \"30\": \"no\",\n",
              "    \"31\": \"measurement_conversion\",\n",
              "    \"32\": \"timer\",\n",
              "    \"33\": \"flip_coin\",\n",
              "    \"34\": \"do_you_have_pets\",\n",
              "    \"35\": \"balance\",\n",
              "    \"36\": \"tell_joke\",\n",
              "    \"37\": \"last_maintenance\",\n",
              "    \"38\": \"exchange_rate\",\n",
              "    \"39\": \"uber\",\n",
              "    \"40\": \"car_rental\",\n",
              "    \"41\": \"credit_limit\",\n",
              "    \"42\": \"oos\",\n",
              "    \"43\": \"shopping_list\",\n",
              "    \"44\": \"expiration_date\",\n",
              "    \"45\": \"routing\",\n",
              "    \"46\": \"meal_suggestion\",\n",
              "    \"47\": \"tire_change\",\n",
              "    \"48\": \"todo_list\",\n",
              "    \"49\": \"card_declined\",\n",
              "    \"50\": \"rewards_balance\",\n",
              "    \"51\": \"change_accent\",\n",
              "    \"52\": \"vaccines\",\n",
              "    \"53\": \"reminder_update\",\n",
              "    \"54\": \"food_last\",\n",
              "    \"55\": \"change_ai_name\",\n",
              "    \"56\": \"bill_due\",\n",
              "    \"57\": \"who_do_you_work_for\",\n",
              "    \"58\": \"share_location\",\n",
              "    \"59\": \"international_visa\",\n",
              "    \"60\": \"calendar\",\n",
              "    \"61\": \"translate\",\n",
              "    \"62\": \"carry_on\",\n",
              "    \"63\": \"book_flight\",\n",
              "    \"64\": \"insurance_change\",\n",
              "    \"65\": \"todo_list_update\",\n",
              "    \"66\": \"timezone\",\n",
              "    \"67\": \"cancel_reservation\",\n",
              "    \"68\": \"transactions\",\n",
              "    \"69\": \"credit_score\",\n",
              "    \"70\": \"report_fraud\",\n",
              "    \"71\": \"spending_history\",\n",
              "    \"72\": \"directions\",\n",
              "    \"73\": \"spelling\",\n",
              "    \"74\": \"insurance\",\n",
              "    \"75\": \"what_is_your_name\",\n",
              "    \"76\": \"reminder\",\n",
              "    \"77\": \"where_are_you_from\",\n",
              "    \"78\": \"distance\",\n",
              "    \"79\": \"payday\",\n",
              "    \"80\": \"flight_status\",\n",
              "    \"81\": \"find_phone\",\n",
              "    \"82\": \"greeting\",\n",
              "    \"83\": \"alarm\",\n",
              "    \"84\": \"order_status\",\n",
              "    \"85\": \"confirm_reservation\",\n",
              "    \"86\": \"cook_time\",\n",
              "    \"87\": \"damaged_card\",\n",
              "    \"88\": \"reset_settings\",\n",
              "    \"89\": \"pin_change\",\n",
              "    \"90\": \"replacement_card_duration\",\n",
              "    \"91\": \"new_card\",\n",
              "    \"92\": \"roll_dice\",\n",
              "    \"93\": \"income\",\n",
              "    \"94\": \"taxes\",\n",
              "    \"95\": \"date\",\n",
              "    \"96\": \"who_made_you\",\n",
              "    \"97\": \"pto_request\",\n",
              "    \"98\": \"tire_pressure\",\n",
              "    \"99\": \"how_old_are_you\",\n",
              "    \"100\": \"rollover_401k\",\n",
              "    \"101\": \"pto_request_status\",\n",
              "    \"102\": \"how_busy\",\n",
              "    \"103\": \"application_status\",\n",
              "    \"104\": \"recipe\",\n",
              "    \"105\": \"calendar_update\",\n",
              "    \"106\": \"play_music\",\n",
              "    \"107\": \"yes\",\n",
              "    \"108\": \"direct_deposit\",\n",
              "    \"109\": \"credit_limit_change\",\n",
              "    \"110\": \"gas\",\n",
              "    \"111\": \"pay_bill\",\n",
              "    \"112\": \"ingredients_list\",\n",
              "    \"113\": \"lost_luggage\",\n",
              "    \"114\": \"goodbye\",\n",
              "    \"115\": \"what_can_i_ask_you\",\n",
              "    \"116\": \"book_hotel\",\n",
              "    \"117\": \"are_you_a_bot\",\n",
              "    \"118\": \"next_song\",\n",
              "    \"119\": \"change_speed\",\n",
              "    \"120\": \"plug_type\",\n",
              "    \"121\": \"maybe\",\n",
              "    \"122\": \"w2\",\n",
              "    \"123\": \"oil_change_when\",\n",
              "    \"124\": \"thank_you\",\n",
              "    \"125\": \"shopping_list_update\",\n",
              "    \"126\": \"pto_balance\",\n",
              "    \"127\": \"order_checks\",\n",
              "    \"128\": \"travel_alert\",\n",
              "    \"129\": \"fun_fact\",\n",
              "    \"130\": \"sync_device\",\n",
              "    \"131\": \"schedule_maintenance\",\n",
              "    \"132\": \"apr\",\n",
              "    \"133\": \"transfer\",\n",
              "    \"134\": \"ingredient_substitution\",\n",
              "    \"135\": \"calories\",\n",
              "    \"136\": \"current_location\",\n",
              "    \"137\": \"international_fees\",\n",
              "    \"138\": \"calculator\",\n",
              "    \"139\": \"definition\",\n",
              "    \"140\": \"next_holiday\",\n",
              "    \"141\": \"update_playlist\",\n",
              "    \"142\": \"mpg\",\n",
              "    \"143\": \"min_payment\",\n",
              "    \"144\": \"change_user_name\",\n",
              "    \"145\": \"restaurant_suggestion\",\n",
              "    \"146\": \"travel_notification\",\n",
              "    \"147\": \"cancel\",\n",
              "    \"148\": \"pto_used\",\n",
              "    \"149\": \"travel_suggestion\",\n",
              "    \"150\": \"change_volume\"\n",
              "  },\n",
              "  \"initializer_range\": 0.02,\n",
              "  \"label2id\": {\n",
              "    \"accept_reservations\": 9,\n",
              "    \"account_blocked\": 2,\n",
              "    \"alarm\": 83,\n",
              "    \"application_status\": 103,\n",
              "    \"apr\": 132,\n",
              "    \"are_you_a_bot\": 117,\n",
              "    \"balance\": 35,\n",
              "    \"bill_balance\": 27,\n",
              "    \"bill_due\": 56,\n",
              "    \"book_flight\": 63,\n",
              "    \"book_hotel\": 116,\n",
              "    \"calculator\": 138,\n",
              "    \"calendar\": 60,\n",
              "    \"calendar_update\": 105,\n",
              "    \"calories\": 135,\n",
              "    \"cancel\": 147,\n",
              "    \"cancel_reservation\": 67,\n",
              "    \"car_rental\": 40,\n",
              "    \"card_declined\": 49,\n",
              "    \"carry_on\": 62,\n",
              "    \"change_accent\": 51,\n",
              "    \"change_ai_name\": 55,\n",
              "    \"change_language\": 29,\n",
              "    \"change_speed\": 119,\n",
              "    \"change_user_name\": 144,\n",
              "    \"change_volume\": 150,\n",
              "    \"confirm_reservation\": 85,\n",
              "    \"cook_time\": 86,\n",
              "    \"credit_limit\": 41,\n",
              "    \"credit_limit_change\": 109,\n",
              "    \"credit_score\": 69,\n",
              "    \"current_location\": 136,\n",
              "    \"damaged_card\": 87,\n",
              "    \"date\": 95,\n",
              "    \"definition\": 139,\n",
              "    \"direct_deposit\": 108,\n",
              "    \"directions\": 72,\n",
              "    \"distance\": 78,\n",
              "    \"do_you_have_pets\": 34,\n",
              "    \"exchange_rate\": 38,\n",
              "    \"expiration_date\": 44,\n",
              "    \"find_phone\": 81,\n",
              "    \"flight_status\": 80,\n",
              "    \"flip_coin\": 33,\n",
              "    \"food_last\": 54,\n",
              "    \"freeze_account\": 20,\n",
              "    \"fun_fact\": 129,\n",
              "    \"gas\": 110,\n",
              "    \"gas_type\": 8,\n",
              "    \"goodbye\": 114,\n",
              "    \"greeting\": 82,\n",
              "    \"how_busy\": 102,\n",
              "    \"how_old_are_you\": 99,\n",
              "    \"improve_credit_score\": 28,\n",
              "    \"income\": 93,\n",
              "    \"ingredient_substitution\": 134,\n",
              "    \"ingredients_list\": 112,\n",
              "    \"insurance\": 74,\n",
              "    \"insurance_change\": 64,\n",
              "    \"interest_rate\": 7,\n",
              "    \"international_fees\": 137,\n",
              "    \"international_visa\": 59,\n",
              "    \"jump_start\": 17,\n",
              "    \"last_maintenance\": 37,\n",
              "    \"lost_luggage\": 113,\n",
              "    \"make_call\": 25,\n",
              "    \"maybe\": 121,\n",
              "    \"meal_suggestion\": 46,\n",
              "    \"meaning_of_life\": 22,\n",
              "    \"measurement_conversion\": 31,\n",
              "    \"meeting_schedule\": 19,\n",
              "    \"min_payment\": 143,\n",
              "    \"mpg\": 142,\n",
              "    \"new_card\": 91,\n",
              "    \"next_holiday\": 140,\n",
              "    \"next_song\": 118,\n",
              "    \"no\": 30,\n",
              "    \"nutrition_info\": 1,\n",
              "    \"oil_change_how\": 3,\n",
              "    \"oil_change_when\": 123,\n",
              "    \"oos\": 42,\n",
              "    \"order\": 16,\n",
              "    \"order_checks\": 127,\n",
              "    \"order_status\": 84,\n",
              "    \"pay_bill\": 111,\n",
              "    \"payday\": 79,\n",
              "    \"pin_change\": 89,\n",
              "    \"play_music\": 106,\n",
              "    \"plug_type\": 120,\n",
              "    \"pto_balance\": 126,\n",
              "    \"pto_request\": 97,\n",
              "    \"pto_request_status\": 101,\n",
              "    \"pto_used\": 148,\n",
              "    \"recipe\": 104,\n",
              "    \"redeem_rewards\": 6,\n",
              "    \"reminder\": 76,\n",
              "    \"reminder_update\": 53,\n",
              "    \"repeat\": 13,\n",
              "    \"replacement_card_duration\": 90,\n",
              "    \"report_fraud\": 70,\n",
              "    \"report_lost_card\": 12,\n",
              "    \"reset_settings\": 88,\n",
              "    \"restaurant_reservation\": 23,\n",
              "    \"restaurant_reviews\": 0,\n",
              "    \"restaurant_suggestion\": 145,\n",
              "    \"rewards_balance\": 50,\n",
              "    \"roll_dice\": 92,\n",
              "    \"rollover_401k\": 100,\n",
              "    \"routing\": 45,\n",
              "    \"schedule_maintenance\": 131,\n",
              "    \"schedule_meeting\": 18,\n",
              "    \"share_location\": 58,\n",
              "    \"shopping_list\": 43,\n",
              "    \"shopping_list_update\": 125,\n",
              "    \"smart_home\": 10,\n",
              "    \"spelling\": 73,\n",
              "    \"spending_history\": 71,\n",
              "    \"sync_device\": 130,\n",
              "    \"taxes\": 94,\n",
              "    \"tell_joke\": 36,\n",
              "    \"text\": 26,\n",
              "    \"thank_you\": 124,\n",
              "    \"time\": 4,\n",
              "    \"timer\": 32,\n",
              "    \"timezone\": 66,\n",
              "    \"tire_change\": 47,\n",
              "    \"tire_pressure\": 98,\n",
              "    \"todo_list\": 48,\n",
              "    \"todo_list_update\": 65,\n",
              "    \"traffic\": 24,\n",
              "    \"transactions\": 68,\n",
              "    \"transfer\": 133,\n",
              "    \"translate\": 61,\n",
              "    \"travel_alert\": 128,\n",
              "    \"travel_notification\": 146,\n",
              "    \"travel_suggestion\": 149,\n",
              "    \"uber\": 39,\n",
              "    \"update_playlist\": 141,\n",
              "    \"user_name\": 11,\n",
              "    \"vaccines\": 52,\n",
              "    \"w2\": 122,\n",
              "    \"weather\": 5,\n",
              "    \"what_are_your_hobbies\": 15,\n",
              "    \"what_can_i_ask_you\": 115,\n",
              "    \"what_is_your_name\": 75,\n",
              "    \"what_song\": 21,\n",
              "    \"where_are_you_from\": 77,\n",
              "    \"whisper_mode\": 14,\n",
              "    \"who_do_you_work_for\": 57,\n",
              "    \"who_made_you\": 96,\n",
              "    \"yes\": 107\n",
              "  },\n",
              "  \"max_position_embeddings\": 512,\n",
              "  \"model_type\": \"distilbert\",\n",
              "  \"n_heads\": 12,\n",
              "  \"n_layers\": 6,\n",
              "  \"pad_token_id\": 0,\n",
              "  \"qa_dropout\": 0.1,\n",
              "  \"seq_classif_dropout\": 0.2,\n",
              "  \"sinusoidal_pos_embds\": false,\n",
              "  \"tie_weights_\": true,\n",
              "  \"transformers_version\": \"4.36.2\",\n",
              "  \"vocab_size\": 30522\n",
              "}"
            ]
          },
          "metadata": {},
          "execution_count": 43
        }
      ]
    },
    {
      "cell_type": "code",
      "source": [
        "from transformers import AutoModelForSequenceClassification\n",
        "device = torch.device(\"cuda\" if torch.cuda.is_available() else \"cpu\")\n",
        "device"
      ],
      "metadata": {
        "colab": {
          "base_uri": "https://localhost:8080/"
        },
        "id": "fV4qLY1v9vwE",
        "outputId": "4729befd-9fe6-431e-a648-edb04fd66867"
      },
      "execution_count": 44,
      "outputs": [
        {
          "output_type": "execute_result",
          "data": {
            "text/plain": [
              "device(type='cuda')"
            ]
          },
          "metadata": {},
          "execution_count": 44
        }
      ]
    },
    {
      "cell_type": "code",
      "source": [
        "def student_init():\n",
        "    return (AutoModelForSequenceClassification.from_pretrained(\n",
        "        pretrained_model_name_or_path=student_checkpoint,\n",
        "        config=student_config\n",
        "    ).to(device))"
      ],
      "metadata": {
        "id": "3qERSwmw-IxQ"
      },
      "execution_count": 45,
      "outputs": []
    },
    {
      "cell_type": "markdown",
      "source": [
        "We now have all the ingredients needed for our `distillation trainer`, so let's load the teacher and fine-tune."
      ],
      "metadata": {
        "id": "nS92SvHb-xl2"
      }
    },
    {
      "cell_type": "markdown",
      "source": [
        "### Fine tune Teacher Model"
      ],
      "metadata": {
        "id": "-keDUthU_EbB"
      }
    },
    {
      "cell_type": "code",
      "source": [
        "teacher_checkpoint=\"transformersbook/bert-base-uncased-finetuned-clinc\"\n",
        "\n",
        "teacher_model = (AutoModelForSequenceClassification.from_pretrained(\n",
        "    pretrained_model_name_or_path=teacher_checkpoint,\n",
        "    num_labels=num_labels\n",
        ").to(device))\n",
        "\n",
        "teacher_model"
      ],
      "metadata": {
        "colab": {
          "base_uri": "https://localhost:8080/"
        },
        "id": "d46siueW_JHC",
        "outputId": "4667d18b-9d42-493b-8360-ef0d461afce6"
      },
      "execution_count": 46,
      "outputs": [
        {
          "output_type": "execute_result",
          "data": {
            "text/plain": [
              "BertForSequenceClassification(\n",
              "  (bert): BertModel(\n",
              "    (embeddings): BertEmbeddings(\n",
              "      (word_embeddings): Embedding(30522, 768, padding_idx=0)\n",
              "      (position_embeddings): Embedding(512, 768)\n",
              "      (token_type_embeddings): Embedding(2, 768)\n",
              "      (LayerNorm): LayerNorm((768,), eps=1e-12, elementwise_affine=True)\n",
              "      (dropout): Dropout(p=0.1, inplace=False)\n",
              "    )\n",
              "    (encoder): BertEncoder(\n",
              "      (layer): ModuleList(\n",
              "        (0-11): 12 x BertLayer(\n",
              "          (attention): BertAttention(\n",
              "            (self): BertSelfAttention(\n",
              "              (query): Linear(in_features=768, out_features=768, bias=True)\n",
              "              (key): Linear(in_features=768, out_features=768, bias=True)\n",
              "              (value): Linear(in_features=768, out_features=768, bias=True)\n",
              "              (dropout): Dropout(p=0.1, inplace=False)\n",
              "            )\n",
              "            (output): BertSelfOutput(\n",
              "              (dense): Linear(in_features=768, out_features=768, bias=True)\n",
              "              (LayerNorm): LayerNorm((768,), eps=1e-12, elementwise_affine=True)\n",
              "              (dropout): Dropout(p=0.1, inplace=False)\n",
              "            )\n",
              "          )\n",
              "          (intermediate): BertIntermediate(\n",
              "            (dense): Linear(in_features=768, out_features=3072, bias=True)\n",
              "            (intermediate_act_fn): GELUActivation()\n",
              "          )\n",
              "          (output): BertOutput(\n",
              "            (dense): Linear(in_features=3072, out_features=768, bias=True)\n",
              "            (LayerNorm): LayerNorm((768,), eps=1e-12, elementwise_affine=True)\n",
              "            (dropout): Dropout(p=0.1, inplace=False)\n",
              "          )\n",
              "        )\n",
              "      )\n",
              "    )\n",
              "    (pooler): BertPooler(\n",
              "      (dense): Linear(in_features=768, out_features=768, bias=True)\n",
              "      (activation): Tanh()\n",
              "    )\n",
              "  )\n",
              "  (dropout): Dropout(p=0.1, inplace=False)\n",
              "  (classifier): Linear(in_features=768, out_features=151, bias=True)\n",
              ")"
            ]
          },
          "metadata": {},
          "execution_count": 46
        }
      ]
    },
    {
      "cell_type": "code",
      "source": [
        "distilbert_trainer=DistillationTrainer(\n",
        "    model_init=student_init,\n",
        "    teacher_model=teacher_model,\n",
        "    args=student_training_args,\n",
        "    train_dataset=data_encoded['train'],\n",
        "    eval_dataset=data_encoded['validation'],\n",
        "    compute_metrics=compute_metrics,\n",
        "    tokenizer=student_tokenizer\n",
        ")\n",
        "\n",
        "distilbert_trainer"
      ],
      "metadata": {
        "colab": {
          "base_uri": "https://localhost:8080/"
        },
        "id": "0Op3tGd0A8tE",
        "outputId": "e2b174ae-77c7-4235-93d3-89701e9def6d"
      },
      "execution_count": 47,
      "outputs": [
        {
          "output_type": "stream",
          "name": "stderr",
          "text": [
            "Some weights of DistilBertForSequenceClassification were not initialized from the model checkpoint at distilbert-base-uncased and are newly initialized: ['pre_classifier.weight', 'pre_classifier.bias', 'classifier.bias', 'classifier.weight']\n",
            "You should probably TRAIN this model on a down-stream task to be able to use it for predictions and inference.\n"
          ]
        },
        {
          "output_type": "execute_result",
          "data": {
            "text/plain": [
              "<__main__.DistillationTrainer at 0x7c38be2d43d0>"
            ]
          },
          "metadata": {},
          "execution_count": 47
        }
      ]
    },
    {
      "cell_type": "code",
      "source": [
        "distilbert_trainer.train()"
      ],
      "metadata": {
        "colab": {
          "base_uri": "https://localhost:8080/",
          "height": 623
        },
        "id": "T6FQ7Kvc_dGk",
        "outputId": "b2039d65-5cd4-49f8-e48e-1bc099d51edb"
      },
      "execution_count": 48,
      "outputs": [
        {
          "output_type": "stream",
          "name": "stderr",
          "text": [
            "Some weights of DistilBertForSequenceClassification were not initialized from the model checkpoint at distilbert-base-uncased and are newly initialized: ['pre_classifier.weight', 'pre_classifier.bias', 'classifier.bias', 'classifier.weight']\n",
            "You should probably TRAIN this model on a down-stream task to be able to use it for predictions and inference.\n",
            "You're using a DistilBertTokenizerFast tokenizer. Please note that with a fast tokenizer, using the `__call__` method is faster than using a method to encode the text followed by a call to the `pad` method to get a padded encoding.\n"
          ]
        },
        {
          "output_type": "display_data",
          "data": {
            "text/plain": [
              "<IPython.core.display.HTML object>"
            ],
            "text/html": [
              "\n",
              "    <div>\n",
              "      \n",
              "      <progress value='3180' max='3180' style='width:300px; height:20px; vertical-align: middle;'></progress>\n",
              "      [3180/3180 06:28, Epoch 10/10]\n",
              "    </div>\n",
              "    <table border=\"1\" class=\"dataframe\">\n",
              "  <thead>\n",
              " <tr style=\"text-align: left;\">\n",
              "      <th>Epoch</th>\n",
              "      <th>Training Loss</th>\n",
              "      <th>Validation Loss</th>\n",
              "      <th>Accuracy</th>\n",
              "    </tr>\n",
              "  </thead>\n",
              "  <tbody>\n",
              "    <tr>\n",
              "      <td>1</td>\n",
              "      <td>No log</td>\n",
              "      <td>3.188742</td>\n",
              "      <td>0.736452</td>\n",
              "    </tr>\n",
              "    <tr>\n",
              "      <td>2</td>\n",
              "      <td>3.720500</td>\n",
              "      <td>1.581924</td>\n",
              "      <td>0.869677</td>\n",
              "    </tr>\n",
              "    <tr>\n",
              "      <td>3</td>\n",
              "      <td>3.720500</td>\n",
              "      <td>0.794062</td>\n",
              "      <td>0.909355</td>\n",
              "    </tr>\n",
              "    <tr>\n",
              "      <td>4</td>\n",
              "      <td>1.358500</td>\n",
              "      <td>0.480413</td>\n",
              "      <td>0.926129</td>\n",
              "    </tr>\n",
              "    <tr>\n",
              "      <td>5</td>\n",
              "      <td>0.441600</td>\n",
              "      <td>0.343733</td>\n",
              "      <td>0.937097</td>\n",
              "    </tr>\n",
              "    <tr>\n",
              "      <td>6</td>\n",
              "      <td>0.441600</td>\n",
              "      <td>0.287063</td>\n",
              "      <td>0.946452</td>\n",
              "    </tr>\n",
              "    <tr>\n",
              "      <td>7</td>\n",
              "      <td>0.181500</td>\n",
              "      <td>0.265658</td>\n",
              "      <td>0.945806</td>\n",
              "    </tr>\n",
              "    <tr>\n",
              "      <td>8</td>\n",
              "      <td>0.093100</td>\n",
              "      <td>0.258813</td>\n",
              "      <td>0.946129</td>\n",
              "    </tr>\n",
              "    <tr>\n",
              "      <td>9</td>\n",
              "      <td>0.093100</td>\n",
              "      <td>0.252438</td>\n",
              "      <td>0.945806</td>\n",
              "    </tr>\n",
              "    <tr>\n",
              "      <td>10</td>\n",
              "      <td>0.061800</td>\n",
              "      <td>0.250857</td>\n",
              "      <td>0.945484</td>\n",
              "    </tr>\n",
              "  </tbody>\n",
              "</table><p>"
            ]
          },
          "metadata": {}
        },
        {
          "output_type": "stream",
          "name": "stderr",
          "text": [
            "Checkpoint destination directory distilbert-base-uncased-finetuned-clinc/checkpoint-500 already exists and is non-empty.Saving will proceed but saved results may be invalid.\n",
            "Checkpoint destination directory distilbert-base-uncased-finetuned-clinc/checkpoint-1000 already exists and is non-empty.Saving will proceed but saved results may be invalid.\n",
            "Checkpoint destination directory distilbert-base-uncased-finetuned-clinc/checkpoint-1500 already exists and is non-empty.Saving will proceed but saved results may be invalid.\n",
            "Checkpoint destination directory distilbert-base-uncased-finetuned-clinc/checkpoint-2000 already exists and is non-empty.Saving will proceed but saved results may be invalid.\n",
            "Checkpoint destination directory distilbert-base-uncased-finetuned-clinc/checkpoint-2500 already exists and is non-empty.Saving will proceed but saved results may be invalid.\n",
            "Checkpoint destination directory distilbert-base-uncased-finetuned-clinc/checkpoint-3000 already exists and is non-empty.Saving will proceed but saved results may be invalid.\n"
          ]
        },
        {
          "output_type": "execute_result",
          "data": {
            "text/plain": [
              "TrainOutput(global_step=3180, training_loss=0.9240431071827246, metrics={'train_runtime': 389.2983, 'train_samples_per_second': 391.73, 'train_steps_per_second': 8.169, 'total_flos': 826606671183048.0, 'train_loss': 0.9240431071827246, 'epoch': 10.0})"
            ]
          },
          "metadata": {},
          "execution_count": 48
        }
      ]
    },
    {
      "cell_type": "markdown",
      "source": [
        "### Remarks\n"
      ],
      "metadata": {
        "id": "JvocHcoKIV6N"
      }
    },
    {
      "cell_type": "markdown",
      "source": [
        "The `92% accuracy` on the validation set looks quite good compared to the `94%` that the BERT-base teacher achieves. Now that we've fine-tuned DistilBERT, let's push the model to the Hub so we can reuse it later."
      ],
      "metadata": {
        "id": "X5wHQDqtIcO1"
      }
    },
    {
      "cell_type": "markdown",
      "source": [
        "### Push model to hub"
      ],
      "metadata": {
        "id": "ABqOzCdDIpqW"
      }
    },
    {
      "cell_type": "code",
      "source": [
        "distilbert_trainer.push_to_hub(\"Training completed!\")"
      ],
      "metadata": {
        "colab": {
          "base_uri": "https://localhost:8080/",
          "height": 95,
          "referenced_widgets": [
            "f00f5041cce94bd3a5647007de03931c",
            "0de36fcde47a42739c51d370435f6a5e",
            "f6b10849d7e045c09715e807f3d42eb6",
            "29b0e191ec384a0e957b42aa3d5957fe",
            "76b29980f52a4ba0a59f38f5e924076f",
            "263a250853924cf2a467762e77fdd996",
            "13fadaa5e2984196b3994c969949e721",
            "4bc0b620f9904573a37cd693227d7580",
            "aa6869e549e649448b75733b69c14933",
            "70bf84631c3741248b925dde4ad6a661",
            "71db0992b6984a8c83ef460c3a80eecb"
          ]
        },
        "id": "9rzhKiXdIHPb",
        "outputId": "25ae6dea-683d-48d6-f8d5-14eead41912a"
      },
      "execution_count": 49,
      "outputs": [
        {
          "output_type": "display_data",
          "data": {
            "text/plain": [
              "events.out.tfevents.1703968925.893b956f052d.20256.0:   0%|          | 0.00/16.4k [00:00<?, ?B/s]"
            ],
            "application/vnd.jupyter.widget-view+json": {
              "version_major": 2,
              "version_minor": 0,
              "model_id": "f00f5041cce94bd3a5647007de03931c"
            }
          },
          "metadata": {}
        },
        {
          "output_type": "execute_result",
          "data": {
            "text/plain": [
              "'https://huggingface.co/iamsubrata/distilbert-base-uncased-finetuned-clinc/tree/main/'"
            ],
            "application/vnd.google.colaboratory.intrinsic+json": {
              "type": "string"
            }
          },
          "metadata": {},
          "execution_count": 49
        }
      ]
    },
    {
      "cell_type": "markdown",
      "source": [
        "With our model now safely stored on the Hub, we can immediately use it in a pipeline for our performance benchmark."
      ],
      "metadata": {
        "id": "ibZUasZVI4wx"
      }
    },
    {
      "cell_type": "code",
      "source": [
        "finetuned_checkpointt = \"iamsubrata/distilbert-base-uncased-finetuned-clinc/tree/main/\"\n",
        "pipe = pipeline(\"text-classification\", model=finetuned_checkpoint)"
      ],
      "metadata": {
        "id": "s8otOsgEJBK3"
      },
      "execution_count": 50,
      "outputs": []
    },
    {
      "cell_type": "markdown",
      "source": [
        "We can then pass this pipeline to our PerformanceBenchmark class to compute the metrics associated with this model."
      ],
      "metadata": {
        "id": "b7Oj5M8XT4in"
      }
    },
    {
      "cell_type": "code",
      "source": [
        "optim_type = \"DistilBERT\"\n",
        "pb = PerformanceBenchmark(\n",
        "    pipeline=pipe,\n",
        "    dataset=data,\n",
        "    optim_type=optim_type\n",
        ")\n",
        "\n",
        "performance_metrics.update(pb.runBenchmark())"
      ],
      "metadata": {
        "colab": {
          "base_uri": "https://localhost:8080/"
        },
        "id": "6lOsbEV7T3Kd",
        "outputId": "4c5ba6c9-ee4b-4db1-a939-9ea0a304fcc1"
      },
      "execution_count": 51,
      "outputs": [
        {
          "output_type": "stream",
          "name": "stdout",
          "text": [
            "Model Size ---> 255.88 mb\n",
            "Latency: 70.48 ms +\\- 9.45 ms\n",
            "Accuracy on test set ---> 0.8865\n"
          ]
        }
      ]
    },
    {
      "cell_type": "markdown",
      "source": [
        "* **Model Size:** ---> 255.88 mb\n",
        "* **Latency:** 70.48 ms +\\- 9.45 ms\n",
        "* **Accuracy** on test set ---> 0.8865"
      ],
      "metadata": {
        "id": "EYXsYILnjc0G"
      }
    },
    {
      "cell_type": "code",
      "source": [
        "import pandas as pd\n",
        "import matplotlib.pyplot as plt\n",
        "def plot_metrics(perf_metrics, current_optim_type):\n",
        "    df = pd.DataFrame.from_dict(perf_metrics, orient='index')\n",
        "    for idx in df.index:\n",
        "        df_opt = df.loc[idx]\n",
        "        # Add a dashed circle around the current optimization type\n",
        "        if idx == current_optim_type:\n",
        "            plt.scatter(df_opt[\"avg_time_in_ms\"], df_opt[\"accuracy\"] * 100,\n",
        "            alpha=0.5, s=df_opt[\"size_mb\"], label=idx,\n",
        "            marker='$\\u25CC$')\n",
        "        else:\n",
        "            plt.scatter(df_opt[\"avg_time_in_ms\"], df_opt[\"accuracy\"] * 100,\n",
        "            s=df_opt[\"size_mb\"], label=idx, alpha=0.5)\n",
        "    legend = plt.legend(bbox_to_anchor=(1,1))\n",
        "    for handle in legend.legendHandles:\n",
        "        handle.set_sizes([20])\n",
        "    plt.ylim(80,90)\n",
        "    # Use the slowest model to define the x-axis range\n",
        "    xlim = int(perf_metrics[\"BERT baseline\"][\"avg_time_in_ms\"] + 3)\n",
        "    plt.xlim(1, xlim)\n",
        "    plt.ylabel(\"Accuracy (%)\")\n",
        "    plt.xlabel(\"Average latency (ms)\")\n",
        "    plt.show()\n",
        "plot_metrics(performance_metrics, optim_type)"
      ],
      "metadata": {
        "colab": {
          "base_uri": "https://localhost:8080/",
          "height": 511
        },
        "id": "yGyqnkGnUNXw",
        "outputId": "34bccc4c-3095-4fa0-ee40-04f49a15737d"
      },
      "execution_count": 58,
      "outputs": [
        {
          "output_type": "stream",
          "name": "stderr",
          "text": [
            "<ipython-input-58-93ea36632b9d>:16: MatplotlibDeprecationWarning: The legendHandles attribute was deprecated in Matplotlib 3.7 and will be removed two minor releases later. Use legend_handles instead.\n",
            "  for handle in legend.legendHandles:\n"
          ]
        },
        {
          "output_type": "display_data",
          "data": {
            "text/plain": [
              "<Figure size 640x480 with 1 Axes>"
            ],
            "image/png": "[encoded data removed]"
          },
          "metadata": {}
        }
      ]
    },
    {
      "cell_type": "markdown",
      "source": [
        "### Finding Good Hyperparameters with Optuna"
      ],
      "metadata": {
        "id": "s7PkETV6mL_R"
      }
    },
    {
      "cell_type": "markdown",
      "source": [
        "To find good values for `α` and `T`, we could do a grid search over the 2D parameter space. But a much better alternative is to use `Optuna`, which is an optimization framework designed for just this type of task.\n",
        "\n",
        "In Optuna, we can find the minimum of $f(x,y)$ by defining an `objective()` function that returns the value of $f(x,y)$:"
      ],
      "metadata": {
        "id": "tPMHU65MmUo-"
      }
    },
    {
      "cell_type": "code",
      "source": [
        "def objective(trial):\n",
        "    x = trial.suggest_float(\"x\", -2, 2)\n",
        "    y = trial.suggest_float(\"y\", -2, 2)\n",
        "    return (1 - x) ** 2 + 100 * (y - x ** 2) ** 2"
      ],
      "metadata": {
        "id": "EjGcx792kRV2"
      },
      "execution_count": 59,
      "outputs": []
    },
    {
      "cell_type": "markdown",
      "source": [
        "The `trial.suggest_float` object specifies the parameter ranges to sample uniformly from; Optuna also provides `suggest_int` and `suggest_categorical` for integer and categorical parameters, respectively. Optuna collects multiple trials as a study, so to create one we just pass the `objective()` function to `study.optimize()` as follows:"
      ],
      "metadata": {
        "id": "ipTgJsYPnSO3"
      }
    },
    {
      "cell_type": "code",
      "source": [
        "! pip install optuna -Uqq"
      ],
      "metadata": {
        "colab": {
          "base_uri": "https://localhost:8080/"
        },
        "id": "rC8omx5Rnsf_",
        "outputId": "f1bd0a47-bfe7-4a79-c5ea-40045db05b7a"
      },
      "execution_count": 61,
      "outputs": [
        {
          "output_type": "stream",
          "name": "stdout",
          "text": [
            "\u001b[2K     \u001b[90m━━━━━━━━━━━━━━━━━━━━━━━━━━━━━━━━━━━━━━━━\u001b[0m \u001b[32m413.4/413.4 kB\u001b[0m \u001b[31m6.9 MB/s\u001b[0m eta \u001b[36m0:00:00\u001b[0m\n",
            "\u001b[2K     \u001b[90m━━━━━━━━━━━━━━━━━━━━━━━━━━━━━━━━━━━━━━━━\u001b[0m \u001b[32m233.4/233.4 kB\u001b[0m \u001b[31m14.7 MB/s\u001b[0m eta \u001b[36m0:00:00\u001b[0m\n",
            "\u001b[2K     \u001b[90m━━━━━━━━━━━━━━━━━━━━━━━━━━━━━━━━━━━━━━━━\u001b[0m \u001b[32m78.6/78.6 kB\u001b[0m \u001b[31m12.3 MB/s\u001b[0m eta \u001b[36m0:00:00\u001b[0m\n",
            "\u001b[?25h"
          ]
        }
      ]
    },
    {
      "cell_type": "code",
      "source": [
        "import optuna\n",
        "\n",
        "study = optuna.create_study()\n",
        "study.optimize(objective, n_trials=1000)"
      ],
      "metadata": {
        "colab": {
          "base_uri": "https://localhost:8080/"
        },
        "id": "Lc3MB47WngaM",
        "outputId": "ac06135d-a3f6-40f3-84d8-8e571e3c001c"
      },
      "execution_count": 62,
      "outputs": [
        {
          "output_type": "stream",
          "name": "stderr",
          "text": [
            "[I 2023-12-30 21:26:35,010] A new study created in memory with name: no-name-1d7a15ae-dc16-462f-80f0-731bc72e1550\n",
            "[I 2023-12-30 21:26:35,017] Trial 0 finished with value: 355.51630639506806 and parameters: {'x': -0.2291559266338128, 'y': -1.828990901979465}. Best is trial 0 with value: 355.51630639506806.\n",
            "[I 2023-12-30 21:26:35,023] Trial 1 finished with value: 526.4656297791324 and parameters: {'x': 1.9010180210381629, 'y': 1.3211554122315015}. Best is trial 0 with value: 355.51630639506806.\n",
            "[I 2023-12-30 21:26:35,026] Trial 2 finished with value: 1214.7739114825547 and parameters: {'x': 1.4642519359926536, 'y': -1.3410177476511862}. Best is trial 0 with value: 355.51630639506806.\n",
            "[I 2023-12-30 21:26:35,028] Trial 3 finished with value: 40.259551548068146 and parameters: {'x': 1.0517934532417015, 'y': 0.4717864583734892}. Best is trial 3 with value: 40.259551548068146.\n",
            "[I 2023-12-30 21:26:35,030] Trial 4 finished with value: 27.12736617481697 and parameters: {'x': 0.7862505249829721, 'y': 0.09778929871324582}. Best is trial 4 with value: 27.12736617481697.\n",
            "[I 2023-12-30 21:26:35,032] Trial 5 finished with value: 423.6476261008375 and parameters: {'x': 0.9979721119777878, 'y': -1.0623218646078287}. Best is trial 4 with value: 27.12736617481697.\n",
            "[I 2023-12-30 21:26:35,036] Trial 6 finished with value: 69.86741699641651 and parameters: {'x': -1.044984118566727, 'y': 1.9024574578607063}. Best is trial 4 with value: 27.12736617481697.\n",
            "[I 2023-12-30 21:26:35,038] Trial 7 finished with value: 169.5916563386125 and parameters: {'x': -0.5903624986989975, 'y': -0.9439983421514815}. Best is trial 4 with value: 27.12736617481697.\n",
            "[I 2023-12-30 21:26:35,040] Trial 8 finished with value: 373.90181261896817 and parameters: {'x': 0.1274460088830467, 'y': 1.947926885261023}. Best is trial 4 with value: 27.12736617481697.\n",
            "[I 2023-12-30 21:26:35,042] Trial 9 finished with value: 134.04140384108297 and parameters: {'x': 0.06453385139296541, 'y': 1.158141684151074}. Best is trial 4 with value: 27.12736617481697.\n",
            "[I 2023-12-30 21:26:35,068] Trial 10 finished with value: 994.2481908268883 and parameters: {'x': -1.7264472163827391, 'y': -0.16074066392485975}. Best is trial 4 with value: 27.12736617481697.\n",
            "[I 2023-12-30 21:26:35,096] Trial 11 finished with value: 32.72115420011306 and parameters: {'x': 0.825908325088994, 'y': 0.11036546629986393}. Best is trial 4 with value: 27.12736617481697.\n",
            "[I 2023-12-30 21:26:35,115] Trial 12 finished with value: 33.46731643258266 and parameters: {'x': 0.678554213725939, 'y': -0.11717987341183256}. Best is trial 4 with value: 27.12736617481697.\n",
            "[I 2023-12-30 21:26:35,137] Trial 13 finished with value: 3.4514075327793767 and parameters: {'x': 0.5078228113786115, 'y': 0.4370255481032128}. Best is trial 13 with value: 3.4514075327793767.\n",
            "[I 2023-12-30 21:26:35,156] Trial 14 finished with value: 19.00580991743742 and parameters: {'x': 0.410323890030168, 'y': 0.6003158307726242}. Best is trial 13 with value: 3.4514075327793767.\n",
            "[I 2023-12-30 21:26:35,177] Trial 15 finished with value: 27.409342742832262 and parameters: {'x': 0.46714620380210503, 'y': 0.7390461741549075}. Best is trial 13 with value: 3.4514075327793767.\n",
            "[I 2023-12-30 21:26:35,198] Trial 16 finished with value: 262.5414675476296 and parameters: {'x': -1.01461700992226, 'y': -0.578292307909521}. Best is trial 13 with value: 3.4514075327793767.\n",
            "[I 2023-12-30 21:26:35,216] Trial 17 finished with value: 161.75517410160882 and parameters: {'x': 1.4333175824348734, 'y': 0.783307596076253}. Best is trial 13 with value: 3.4514075327793767.\n",
            "[I 2023-12-30 21:26:35,238] Trial 18 finished with value: 130.1248330217744 and parameters: {'x': -0.47870315111473405, 'y': 1.3602547133068572}. Best is trial 13 with value: 3.4514075327793767.\n",
            "[I 2023-12-30 21:26:35,262] Trial 19 finished with value: 11.380607430243476 and parameters: {'x': 0.3812480993664906, 'y': 0.47697872355179005}. Best is trial 13 with value: 3.4514075327793767.\n",
            "[I 2023-12-30 21:26:35,283] Trial 20 finished with value: 1817.29076232408 and parameters: {'x': -1.9831640568960647, 'y': -0.31957898245836136}. Best is trial 13 with value: 3.4514075327793767.\n",
            "[I 2023-12-30 21:26:35,308] Trial 21 finished with value: 15.423799237365627 and parameters: {'x': 0.1744397027466418, 'y': 0.4143855802408199}. Best is trial 13 with value: 3.4514075327793767.\n",
            "[I 2023-12-30 21:26:35,325] Trial 22 finished with value: 5.041811606115612 and parameters: {'x': 0.2603410144017163, 'y': 0.2797849009867509}. Best is trial 13 with value: 3.4514075327793767.\n",
            "[I 2023-12-30 21:26:35,346] Trial 23 finished with value: 79.10247962909042 and parameters: {'x': -0.23314508856217286, 'y': 0.9351621319608815}. Best is trial 13 with value: 3.4514075327793767.\n",
            "[I 2023-12-30 21:26:35,366] Trial 24 finished with value: 189.93668324862435 and parameters: {'x': 1.2723163647242086, 'y': 0.24088281378556337}. Best is trial 13 with value: 3.4514075327793767.\n",
            "[I 2023-12-30 21:26:35,383] Trial 25 finished with value: 64.2145012500757 and parameters: {'x': 0.4481236569887076, 'y': 1.0002516997189415}. Best is trial 13 with value: 3.4514075327793767.\n",
            "[I 2023-12-30 21:26:35,399] Trial 26 finished with value: 30.305839414447806 and parameters: {'x': -0.2399111225578725, 'y': -0.47880502912171097}. Best is trial 13 with value: 3.4514075327793767.\n",
            "[I 2023-12-30 21:26:35,416] Trial 27 finished with value: 62.21996331939614 and parameters: {'x': -0.8424424054318795, 'y': 1.4766861898406858}. Best is trial 13 with value: 3.4514075327793767.\n",
            "[I 2023-12-30 21:26:35,435] Trial 28 finished with value: 862.8683954127546 and parameters: {'x': 1.812543944554653, 'y': 0.3489774100749195}. Best is trial 13 with value: 3.4514075327793767.\n",
            "[I 2023-12-30 21:26:35,452] Trial 29 finished with value: 35.03646914620098 and parameters: {'x': 0.2884470707655473, 'y': -0.5044219898762883}. Best is trial 13 with value: 3.4514075327793767.\n",
            "[I 2023-12-30 21:26:35,474] Trial 30 finished with value: 311.6697306853745 and parameters: {'x': -0.08941394415130244, 'y': -1.7540576655125322}. Best is trial 13 with value: 3.4514075327793767.\n",
            "[I 2023-12-30 21:26:35,494] Trial 31 finished with value: 14.506203316279878 and parameters: {'x': 0.20371854796534478, 'y': 0.41395445412027776}. Best is trial 13 with value: 3.4514075327793767.\n",
            "[I 2023-12-30 21:26:35,517] Trial 32 finished with value: 1.726017067356757 and parameters: {'x': 0.6663526451902269, 'y': 0.5710965568074512}. Best is trial 32 with value: 1.726017067356757.\n",
            "[I 2023-12-30 21:26:35,535] Trial 33 finished with value: 6.165566473956279 and parameters: {'x': 0.6487202775192599, 'y': 0.6666462373528308}. Best is trial 32 with value: 1.726017067356757.\n",
            "[I 2023-12-30 21:26:35,553] Trial 34 finished with value: 139.78396616513564 and parameters: {'x': 0.6609008415811101, 'y': 1.618606227612085}. Best is trial 32 with value: 1.726017067356757.\n",
            "[I 2023-12-30 21:26:35,571] Trial 35 finished with value: 5.406562155506543 and parameters: {'x': 1.1488068012228374, 'y': 1.0877135643338605}. Best is trial 32 with value: 1.726017067356757.\n",
            "[I 2023-12-30 21:26:35,589] Trial 36 finished with value: 3.821928291174234 and parameters: {'x': 1.1755084339638737, 'y': 1.1871119613660825}. Best is trial 32 with value: 1.726017067356757.\n",
            "[I 2023-12-30 21:26:35,609] Trial 37 finished with value: 558.1515356772152 and parameters: {'x': 1.563699465786687, 'y': 0.08330551897457628}. Best is trial 32 with value: 1.726017067356757.\n",
            "[I 2023-12-30 21:26:35,633] Trial 38 finished with value: 15.993854913594369 and parameters: {'x': 0.9501337253891935, 'y': 1.3026461849190478}. Best is trial 32 with value: 1.726017067356757.\n",
            "[I 2023-12-30 21:26:35,658] Trial 39 finished with value: 164.04475951282117 and parameters: {'x': 1.6899354244009013, 'y': 1.5769417532548955}. Best is trial 32 with value: 1.726017067356757.\n",
            "[I 2023-12-30 21:26:35,681] Trial 40 finished with value: 910.90362232801 and parameters: {'x': 1.9750466872530792, 'y': 0.8842668491110034}. Best is trial 32 with value: 1.726017067356757.\n",
            "[I 2023-12-30 21:26:35,706] Trial 41 finished with value: 12.674988191556755 and parameters: {'x': 1.2054524757171752, 'y': 1.0976894837731586}. Best is trial 32 with value: 1.726017067356757.\n",
            "[I 2023-12-30 21:26:35,724] Trial 42 finished with value: 0.05231144866701934 and parameters: {'x': 1.093431873946682, 'y': 1.1747169765116938}. Best is trial 42 with value: 0.05231144866701934.\n",
            "[I 2023-12-30 21:26:35,742] Trial 43 finished with value: 80.07470855324851 and parameters: {'x': 0.9111334727820226, 'y': 1.7249648047631267}. Best is trial 42 with value: 0.05231144866701934.\n",
            "[I 2023-12-30 21:26:35,761] Trial 44 finished with value: 82.93350943419655 and parameters: {'x': 1.4745002808203629, 'y': 1.2647097170956498}. Best is trial 42 with value: 0.05231144866701934.\n",
            "[I 2023-12-30 21:26:35,778] Trial 45 finished with value: 31.997005659327804 and parameters: {'x': 1.087291016875412, 'y': 0.6166101541523068}. Best is trial 42 with value: 0.05231144866701934.\n",
            "[I 2023-12-30 21:26:35,798] Trial 46 finished with value: 1.800868218634257 and parameters: {'x': 0.5953423426953363, 'y': 0.22648249918264352}. Best is trial 42 with value: 0.05231144866701934.\n",
            "[I 2023-12-30 21:26:35,815] Trial 47 finished with value: 18.2208910634345 and parameters: {'x': 0.6114307956859071, 'y': -0.0512394912409308}. Best is trial 42 with value: 0.05231144866701934.\n",
            "[I 2023-12-30 21:26:35,835] Trial 48 finished with value: 232.38435228157738 and parameters: {'x': 0.8399677630076212, 'y': -0.8187859515828522}. Best is trial 42 with value: 0.05231144866701934.\n",
            "[I 2023-12-30 21:26:35,855] Trial 49 finished with value: 272.60258612505623 and parameters: {'x': 1.342981483253142, 'y': 0.15288744872731785}. Best is trial 42 with value: 0.05231144866701934.\n",
            "[I 2023-12-30 21:26:35,874] Trial 50 finished with value: 6.080973277642321 and parameters: {'x': 1.0295062376821311, 'y': 0.8133044516185715}. Best is trial 42 with value: 0.05231144866701934.\n",
            "[I 2023-12-30 21:26:35,895] Trial 51 finished with value: 0.21936884933849127 and parameters: {'x': 0.532190341744085, 'y': 0.28093969959421616}. Best is trial 42 with value: 0.05231144866701934.\n",
            "[I 2023-12-30 21:26:35,914] Trial 52 finished with value: 35.371160315392025 and parameters: {'x': -0.03318945931640793, 'y': 0.5867949741540401}. Best is trial 42 with value: 0.05231144866701934.\n",
            "[I 2023-12-30 21:26:35,937] Trial 53 finished with value: 22.90460874464204 and parameters: {'x': 0.5600221270924314, 'y': -0.16293610746310105}. Best is trial 42 with value: 0.05231144866701934.\n",
            "[I 2023-12-30 21:26:35,959] Trial 54 finished with value: 0.26689543981992736 and parameters: {'x': 0.7445203493574245, 'y': 0.5094078126142263}. Best is trial 42 with value: 0.05231144866701934.\n",
            "[I 2023-12-30 21:26:35,978] Trial 55 finished with value: 0.25512743661237713 and parameters: {'x': 0.7484746433611367, 'y': 0.5164121877434639}. Best is trial 42 with value: 0.05231144866701934.\n",
            "[I 2023-12-30 21:26:36,006] Trial 56 finished with value: 83.44361915608984 and parameters: {'x': 0.8259390742784298, 'y': -0.23113358537114914}. Best is trial 42 with value: 0.05231144866701934.\n",
            "[I 2023-12-30 21:26:36,020] Trial 57 finished with value: 26.953465160342514 and parameters: {'x': 0.7528375408128063, 'y': 0.048185768243768745}. Best is trial 42 with value: 0.05231144866701934.\n",
            "[I 2023-12-30 21:26:36,033] Trial 58 finished with value: 1.3848057035455172 and parameters: {'x': 0.347001110683556, 'y': 0.21830758254279992}. Best is trial 42 with value: 0.05231144866701934.\n",
            "[I 2023-12-30 21:26:36,048] Trial 59 finished with value: 13.669278354455548 and parameters: {'x': 0.45349991256444244, 'y': 0.571320700049348}. Best is trial 42 with value: 0.05231144866701934.\n",
            "[I 2023-12-30 21:26:36,070] Trial 60 finished with value: 24.699076139367595 and parameters: {'x': 0.07551422488044857, 'y': 0.49400970089978435}. Best is trial 42 with value: 0.05231144866701934.\n",
            "[I 2023-12-30 21:26:36,090] Trial 61 finished with value: 0.8474345174717695 and parameters: {'x': 0.3237927298130971, 'y': 0.16730598127242158}. Best is trial 42 with value: 0.05231144866701934.\n",
            "[I 2023-12-30 21:26:36,103] Trial 62 finished with value: 1.8359558794290076 and parameters: {'x': 0.27282960323800987, 'y': -0.03989594073476303}. Best is trial 42 with value: 0.05231144866701934.\n",
            "[I 2023-12-30 21:26:36,120] Trial 63 finished with value: 2.1944362339485224 and parameters: {'x': 0.7679903391375292, 'y': 0.7361173204261231}. Best is trial 42 with value: 0.05231144866701934.\n",
            "[I 2023-12-30 21:26:36,134] Trial 64 finished with value: 3.4217230191877066 and parameters: {'x': 0.3887488364610029, 'y': 0.3257136022863892}. Best is trial 42 with value: 0.05231144866701934.\n",
            "[I 2023-12-30 21:26:36,147] Trial 65 finished with value: 486.8319608281357 and parameters: {'x': -1.3685486205150443, 'y': -0.32075181056156976}. Best is trial 42 with value: 0.05231144866701934.\n",
            "[I 2023-12-30 21:26:36,160] Trial 66 finished with value: 2.3231125076896015 and parameters: {'x': -0.3433162265078002, 'y': 0.18988089257834231}. Best is trial 42 with value: 0.05231144866701934.\n",
            "[I 2023-12-30 21:26:36,172] Trial 67 finished with value: 23.423193576040596 and parameters: {'x': -0.10153134321983631, 'y': 0.4815815948033089}. Best is trial 42 with value: 0.05231144866701934.\n",
            "[I 2023-12-30 21:26:36,187] Trial 68 finished with value: 0.00529607817055661 and parameters: {'x': 0.9618091349984355, 'y': 0.9312715970706859}. Best is trial 68 with value: 0.00529607817055661.\n",
            "[I 2023-12-30 21:26:36,200] Trial 69 finished with value: 0.36836625614953966 and parameters: {'x': 0.9586577822136968, 'y': 0.9795769586496943}. Best is trial 68 with value: 0.00529607817055661.\n",
            "[I 2023-12-30 21:26:36,214] Trial 70 finished with value: 0.024429465288231315 and parameters: {'x': 0.9835759993825673, 'y': 0.9829651430666687}. Best is trial 68 with value: 0.00529607817055661.\n",
            "[I 2023-12-30 21:26:36,227] Trial 71 finished with value: 0.003470223971019505 and parameters: {'x': 0.9899216577763184, 'y': 0.9857488966230321}. Best is trial 71 with value: 0.003470223971019505.\n",
            "[I 2023-12-30 21:26:36,240] Trial 72 finished with value: 71.80236235890256 and parameters: {'x': 1.3297038951173419, 'y': 0.9213913747795421}. Best is trial 71 with value: 0.003470223971019505.\n",
            "[I 2023-12-30 21:26:36,254] Trial 73 finished with value: 0.1759244309381881 and parameters: {'x': 0.9601928288647246, 'y': 0.9637242887766813}. Best is trial 71 with value: 0.003470223971019505.\n",
            "[I 2023-12-30 21:26:36,268] Trial 74 finished with value: 2.30752936008933 and parameters: {'x': 1.1012819465278787, 'y': 1.0612544052368504}. Best is trial 71 with value: 0.003470223971019505.\n",
            "[I 2023-12-30 21:26:36,284] Trial 75 finished with value: 0.21887434700954359 and parameters: {'x': 0.8867302754537594, 'y': 0.8316826860623701}. Best is trial 71 with value: 0.003470223971019505.\n",
            "[I 2023-12-30 21:26:36,298] Trial 76 finished with value: 11.862338910804873 and parameters: {'x': 1.0231850960520332, 'y': 1.3913174003764341}. Best is trial 71 with value: 0.003470223971019505.\n",
            "[I 2023-12-30 21:26:36,312] Trial 77 finished with value: 12.492569790642431 and parameters: {'x': 1.2435460214247993, 'y': 1.1937984952723113}. Best is trial 71 with value: 0.003470223971019505.\n",
            "[I 2023-12-30 21:26:36,326] Trial 78 finished with value: 0.29728925405898066 and parameters: {'x': 0.8857103147938835, 'y': 0.731169806279176}. Best is trial 71 with value: 0.003470223971019505.\n",
            "[I 2023-12-30 21:26:36,340] Trial 79 finished with value: 88.78272204897469 and parameters: {'x': 1.5257401876748569, 'y': 1.3871051480522847}. Best is trial 71 with value: 0.003470223971019505.\n",
            "[I 2023-12-30 21:26:36,353] Trial 80 finished with value: 94.40773004650914 and parameters: {'x': 1.3971090878103998, 'y': 0.981089234028754}. Best is trial 71 with value: 0.003470223971019505.\n",
            "[I 2023-12-30 21:26:36,375] Trial 81 finished with value: 8.301796951252458 and parameters: {'x': 0.7333959597124043, 'y': 0.8247619347163322}. Best is trial 71 with value: 0.003470223971019505.\n",
            "[I 2023-12-30 21:26:36,389] Trial 82 finished with value: 8.44746759445465 and parameters: {'x': 0.997053573429562, 'y': 0.7034707025248659}. Best is trial 71 with value: 0.003470223971019505.\n",
            "[I 2023-12-30 21:26:36,403] Trial 83 finished with value: 0.8613882546505673 and parameters: {'x': 0.8678965506096977, 'y': 0.8451104627116055}. Best is trial 71 with value: 0.003470223971019505.\n",
            "[I 2023-12-30 21:26:36,417] Trial 84 finished with value: 2.901570784144037 and parameters: {'x': 1.1600275724250244, 'y': 1.1760773549216452}. Best is trial 71 with value: 0.003470223971019505.\n",
            "[I 2023-12-30 21:26:36,430] Trial 85 finished with value: 1.7097391657996708 and parameters: {'x': 1.0862420333264977, 'y': 1.049449479079279}. Best is trial 71 with value: 0.003470223971019505.\n",
            "[I 2023-12-30 21:26:36,444] Trial 86 finished with value: 1.1421714402379075 and parameters: {'x': 0.7075904653466745, 'y': 0.39788990375535815}. Best is trial 71 with value: 0.003470223971019505.\n",
            "[I 2023-12-30 21:26:36,457] Trial 87 finished with value: 96.97843505034048 and parameters: {'x': 0.5349859590843274, 'y': 1.2698877539039475}. Best is trial 71 with value: 0.003470223971019505.\n",
            "[I 2023-12-30 21:26:36,469] Trial 88 finished with value: 34.69886390751243 and parameters: {'x': 1.2081511683286286, 'y': 0.8709397093720613}. Best is trial 71 with value: 0.003470223971019505.\n",
            "[I 2023-12-30 21:26:36,484] Trial 89 finished with value: 394.8743114349634 and parameters: {'x': 1.6272312880606277, 'y': 0.6617273597950195}. Best is trial 71 with value: 0.003470223971019505.\n",
            "[I 2023-12-30 21:26:36,498] Trial 90 finished with value: 35.3532543146596 and parameters: {'x': 0.9284202927223029, 'y': 1.4565071791798432}. Best is trial 71 with value: 0.003470223971019505.\n",
            "[I 2023-12-30 21:26:36,512] Trial 91 finished with value: 0.022699484548055305 and parameters: {'x': 0.8634588073476627, 'y': 0.739192448659354}. Best is trial 71 with value: 0.003470223971019505.\n",
            "[I 2023-12-30 21:26:36,526] Trial 92 finished with value: 1.2935070688994026 and parameters: {'x': 0.8251241340574094, 'y': 0.7932097947998455}. Best is trial 71 with value: 0.003470223971019505.\n",
            "[I 2023-12-30 21:26:36,541] Trial 93 finished with value: 31.46118345621502 and parameters: {'x': 1.2993277883728829, 'y': 1.1281492618045483}. Best is trial 71 with value: 0.003470223971019505.\n",
            "[I 2023-12-30 21:26:36,556] Trial 94 finished with value: 20.33485364119426 and parameters: {'x': 1.0008157823649677, 'y': 0.550690404983982}. Best is trial 71 with value: 0.003470223971019505.\n",
            "[I 2023-12-30 21:26:36,572] Trial 95 finished with value: 31.924710953995664 and parameters: {'x': 0.6402757883471112, 'y': 0.9738263815989008}. Best is trial 71 with value: 0.003470223971019505.\n",
            "[I 2023-12-30 21:26:36,586] Trial 96 finished with value: 245.23384016573473 and parameters: {'x': 0.5023421187586146, 'y': 1.81755103130994}. Best is trial 71 with value: 0.003470223971019505.\n",
            "[I 2023-12-30 21:26:36,599] Trial 97 finished with value: 492.0486310841002 and parameters: {'x': 0.7658903738322351, 'y': -1.6315053142050084}. Best is trial 71 with value: 0.003470223971019505.\n",
            "[I 2023-12-30 21:26:36,612] Trial 98 finished with value: 82.81795132170744 and parameters: {'x': 1.1211083122966912, 'y': 0.34692074920716676}. Best is trial 71 with value: 0.003470223971019505.\n",
            "[I 2023-12-30 21:26:36,626] Trial 99 finished with value: 3.4508105798424706 and parameters: {'x': 0.946172387155999, 'y': 0.7095566141345888}. Best is trial 71 with value: 0.003470223971019505.\n",
            "[I 2023-12-30 21:26:36,638] Trial 100 finished with value: 2.8046458082643846 and parameters: {'x': 0.8609427584336489, 'y': 0.9081148804571533}. Best is trial 71 with value: 0.003470223971019505.\n",
            "[I 2023-12-30 21:26:36,652] Trial 101 finished with value: 2.2349732269970812 and parameters: {'x': 0.8972403831617837, 'y': 0.6558956207874753}. Best is trial 71 with value: 0.003470223971019505.\n",
            "[I 2023-12-30 21:26:36,667] Trial 102 finished with value: 34.30043455726716 and parameters: {'x': 1.0398171375018261, 'y': 0.4955674861329444}. Best is trial 71 with value: 0.003470223971019505.\n",
            "[I 2023-12-30 21:26:36,681] Trial 103 finished with value: 8.465548349886735 and parameters: {'x': 0.7147917979341822, 'y': 0.800482225099379}. Best is trial 71 with value: 0.003470223971019505.\n",
            "[I 2023-12-30 21:26:36,696] Trial 104 finished with value: 72.55441855977956 and parameters: {'x': 0.6034813344491865, 'y': 1.2150551128952831}. Best is trial 71 with value: 0.003470223971019505.\n",
            "[I 2023-12-30 21:26:36,710] Trial 105 finished with value: 18.299885165914546 and parameters: {'x': 0.7812474805892253, 'y': 1.0375716011574054}. Best is trial 71 with value: 0.003470223971019505.\n",
            "[I 2023-12-30 21:26:36,724] Trial 106 finished with value: 139.877593441202 and parameters: {'x': 1.3887722067942538, 'y': 0.7466288123335834}. Best is trial 71 with value: 0.003470223971019505.\n",
            "[I 2023-12-30 21:26:36,738] Trial 107 finished with value: 161.87623224328078 and parameters: {'x': 1.254267534501728, 'y': 0.30113523994556757}. Best is trial 71 with value: 0.003470223971019505.\n",
            "[I 2023-12-30 21:26:36,753] Trial 108 finished with value: 7.058478788843622 and parameters: {'x': 0.8945635258223089, 'y': 0.5347752229999192}. Best is trial 71 with value: 0.003470223971019505.\n",
            "[I 2023-12-30 21:26:36,770] Trial 109 finished with value: 13.912207159381637 and parameters: {'x': 1.136676877825535, 'y': 0.9192941122308291}. Best is trial 71 with value: 0.003470223971019505.\n",
            "[I 2023-12-30 21:26:36,784] Trial 110 finished with value: 46.27017650486767 and parameters: {'x': 1.042428057447042, 'y': 0.4064476372125723}. Best is trial 71 with value: 0.003470223971019505.\n",
            "[I 2023-12-30 21:26:36,798] Trial 111 finished with value: 12.841716305830412 and parameters: {'x': 0.8054692552121357, 'y': 1.0066057355217093}. Best is trial 71 with value: 0.003470223971019505.\n",
            "[I 2023-12-30 21:26:36,813] Trial 112 finished with value: 4.285501754852653 and parameters: {'x': 0.9438389787188937, 'y': 1.0977703586756262}. Best is trial 71 with value: 0.003470223971019505.\n",
            "[I 2023-12-30 21:26:36,829] Trial 113 finished with value: 9.750401752816746 and parameters: {'x': 0.9714855250516018, 'y': 0.6315408119650245}. Best is trial 71 with value: 0.003470223971019505.\n",
            "[I 2023-12-30 21:26:36,844] Trial 114 finished with value: 22.776533944140482 and parameters: {'x': 0.691044570504967, 'y': 0.953789178325248}. Best is trial 71 with value: 0.003470223971019505.\n",
            "[I 2023-12-30 21:26:36,857] Trial 115 finished with value: 49.22463748939592 and parameters: {'x': 1.1948230143516438, 'y': 0.7262698640930914}. Best is trial 71 with value: 0.003470223971019505.\n",
            "[I 2023-12-30 21:26:36,871] Trial 116 finished with value: 28.968023276090165 and parameters: {'x': 0.5368825417735774, 'y': 0.8244661893006409}. Best is trial 71 with value: 0.003470223971019505.\n",
            "[I 2023-12-30 21:26:36,888] Trial 117 finished with value: 67.40646357233916 and parameters: {'x': 0.8586022523561992, 'y': 1.5580904531857955}. Best is trial 71 with value: 0.003470223971019505.\n",
            "[I 2023-12-30 21:26:36,903] Trial 118 finished with value: 1.9927357544059927 and parameters: {'x': 1.0707431419998057, 'y': 1.2874777961806605}. Best is trial 71 with value: 0.003470223971019505.\n",
            "[I 2023-12-30 21:26:36,917] Trial 119 finished with value: 43.783736070661305 and parameters: {'x': 0.4668421302308473, 'y': 0.8774829209239973}. Best is trial 71 with value: 0.003470223971019505.\n",
            "[I 2023-12-30 21:26:36,931] Trial 120 finished with value: 50.127454902291 and parameters: {'x': 0.6599863674054844, 'y': 1.1427725426539248}. Best is trial 71 with value: 0.003470223971019505.\n",
            "[I 2023-12-30 21:26:36,945] Trial 121 finished with value: 10.855943727028734 and parameters: {'x': 0.33744309373094217, 'y': 0.4366210300732038}. Best is trial 71 with value: 0.003470223971019505.\n",
            "[I 2023-12-30 21:26:36,959] Trial 122 finished with value: 1.5466502650757827 and parameters: {'x': 0.18023631760873945, 'y': 0.12600720084808284}. Best is trial 71 with value: 0.003470223971019505.\n",
            "[I 2023-12-30 21:26:36,977] Trial 123 finished with value: 7.587714513149433 and parameters: {'x': 0.5907161425843153, 'y': 0.6213460243473383}. Best is trial 71 with value: 0.003470223971019505.\n",
            "[I 2023-12-30 21:26:36,991] Trial 124 finished with value: 44.785974547918315 and parameters: {'x': 0.9705281415137993, 'y': 0.27270812265271055}. Best is trial 71 with value: 0.003470223971019505.\n",
            "[I 2023-12-30 21:26:37,005] Trial 125 finished with value: 12.568084501008162 and parameters: {'x': 0.8091224634270076, 'y': 1.0086798708079177}. Best is trial 71 with value: 0.003470223971019505.\n",
            "[I 2023-12-30 21:26:37,021] Trial 126 finished with value: 5.668191270378544 and parameters: {'x': 0.7290462309946065, 'y': 0.7680411810928899}. Best is trial 71 with value: 0.003470223971019505.\n",
            "[I 2023-12-30 21:26:37,035] Trial 127 finished with value: 19.040901557824192 and parameters: {'x': 0.8857180481907037, 'y': 1.2207055987284943}. Best is trial 71 with value: 0.003470223971019505.\n",
            "[I 2023-12-30 21:26:37,051] Trial 128 finished with value: 4.698916286344544 and parameters: {'x': 1.0570342053837003, 'y': 1.3340161056070532}. Best is trial 71 with value: 0.003470223971019505.\n",
            "[I 2023-12-30 21:26:37,066] Trial 129 finished with value: 16.84794155270031 and parameters: {'x': 0.403158407033933, 'y': 0.5686367093572385}. Best is trial 71 with value: 0.003470223971019505.\n",
            "[I 2023-12-30 21:26:37,081] Trial 130 finished with value: 21.491218109908772 and parameters: {'x': 1.1830991669010043, 'y': 0.9364991488145384}. Best is trial 71 with value: 0.003470223971019505.\n",
            "[I 2023-12-30 21:26:37,104] Trial 131 finished with value: 0.6480211061870603 and parameters: {'x': 0.8659220202718015, 'y': 0.8291962689099344}. Best is trial 71 with value: 0.003470223971019505.\n",
            "[I 2023-12-30 21:26:37,124] Trial 132 finished with value: 0.283168926666708 and parameters: {'x': 0.9679844837983462, 'y': 0.8838767383011543}. Best is trial 71 with value: 0.003470223971019505.\n",
            "[I 2023-12-30 21:26:37,138] Trial 133 finished with value: 1.400907093719631 and parameters: {'x': 0.9899171894659325, 'y': 1.0982916684253823}. Best is trial 71 with value: 0.003470223971019505.\n",
            "[I 2023-12-30 21:26:37,153] Trial 134 finished with value: 17.618874689877206 and parameters: {'x': 1.1309738671035925, 'y': 0.8595578434702957}. Best is trial 71 with value: 0.003470223971019505.\n",
            "[I 2023-12-30 21:26:37,167] Trial 135 finished with value: 2.3713194835250406 and parameters: {'x': 0.9249109466768703, 'y': 0.7016525508414149}. Best is trial 71 with value: 0.003470223971019505.\n",
            "[I 2023-12-30 21:26:37,181] Trial 136 finished with value: 15.314164724714107 and parameters: {'x': 0.7866007429751589, 'y': 1.0094916147318216}. Best is trial 71 with value: 0.003470223971019505.\n",
            "[I 2023-12-30 21:26:37,195] Trial 137 finished with value: 90.02170544485118 and parameters: {'x': 1.3114814705296831, 'y': 0.7716973788539258}. Best is trial 71 with value: 0.003470223971019505.\n",
            "[I 2023-12-30 21:26:37,210] Trial 138 finished with value: 3.272234855834844 and parameters: {'x': 0.8463111290128753, 'y': 0.8964816623189317}. Best is trial 71 with value: 0.003470223971019505.\n",
            "[I 2023-12-30 21:26:37,226] Trial 139 finished with value: 0.04750942854668266 and parameters: {'x': 1.0216913659147309, 'y': 1.0655417033749115}. Best is trial 71 with value: 0.003470223971019505.\n",
            "[I 2023-12-30 21:26:37,242] Trial 140 finished with value: 25.854580982959124 and parameters: {'x': 1.2573604667534073, 'y': 1.0731330656516878}. Best is trial 71 with value: 0.003470223971019505.\n",
            "[I 2023-12-30 21:26:37,263] Trial 141 finished with value: 0.786376337960231 and parameters: {'x': 1.0176306524909218, 'y': 0.9469118100119414}. Best is trial 71 with value: 0.003470223971019505.\n",
            "[I 2023-12-30 21:26:37,282] Trial 142 finished with value: 0.42766039010193535 and parameters: {'x': 1.1140546634411093, 'y': 1.1767243211171956}. Best is trial 71 with value: 0.003470223971019505.\n",
            "[I 2023-12-30 21:26:37,298] Trial 143 finished with value: 0.2059519227319199 and parameters: {'x': 1.103313025914144, 'y': 1.173109324100135}. Best is trial 71 with value: 0.003470223971019505.\n",
            "[I 2023-12-30 21:26:37,315] Trial 144 finished with value: 3.645302854644563 and parameters: {'x': 0.9503426266755262, 'y': 1.0940132834785568}. Best is trial 71 with value: 0.003470223971019505.\n",
            "[I 2023-12-30 21:26:37,330] Trial 145 finished with value: 84.75679315626601 and parameters: {'x': 1.464052429328302, 'y': 1.2239852778057425}. Best is trial 71 with value: 0.003470223971019505.\n",
            "[I 2023-12-30 21:26:37,345] Trial 146 finished with value: 19.23290753961257 and parameters: {'x': 1.0551465819540158, 'y': 0.6748155937982511}. Best is trial 71 with value: 0.003470223971019505.\n",
            "[I 2023-12-30 21:26:37,359] Trial 147 finished with value: 30.90079974348068 and parameters: {'x': 0.6703846903020776, 'y': 1.0043224133707247}. Best is trial 71 with value: 0.003470223971019505.\n",
            "[I 2023-12-30 21:26:37,374] Trial 148 finished with value: 66.9854130765207 and parameters: {'x': -0.7579121865551186, 'y': 1.3737753503327341}. Best is trial 71 with value: 0.003470223971019505.\n",
            "[I 2023-12-30 21:26:37,388] Trial 149 finished with value: 99.33463340737416 and parameters: {'x': 1.2085643944447124, 'y': 0.4641785275095585}. Best is trial 71 with value: 0.003470223971019505.\n",
            "[I 2023-12-30 21:26:37,403] Trial 150 finished with value: 275.32660314933094 and parameters: {'x': 0.7615273879374823, 'y': -1.079201511767848}. Best is trial 71 with value: 0.003470223971019505.\n",
            "[I 2023-12-30 21:26:37,422] Trial 151 finished with value: 0.012354557319122716 and parameters: {'x': 1.083030575136989, 'y': 1.1655657199919713}. Best is trial 71 with value: 0.003470223971019505.\n",
            "[I 2023-12-30 21:26:37,436] Trial 152 finished with value: 6.5527309301434356 and parameters: {'x': 1.1050615125687426, 'y': 1.4769282824095353}. Best is trial 71 with value: 0.003470223971019505.\n",
            "[I 2023-12-30 21:26:37,450] Trial 153 finished with value: 7.463670295112803 and parameters: {'x': 0.9196590537199032, 'y': 1.118851804446125}. Best is trial 71 with value: 0.003470223971019505.\n",
            "[I 2023-12-30 21:26:37,465] Trial 154 finished with value: 0.6937047597557993 and parameters: {'x': 0.9791788777925671, 'y': 1.0420541860637915}. Best is trial 71 with value: 0.003470223971019505.\n",
            "[I 2023-12-30 21:26:37,479] Trial 155 finished with value: 5.455641164069156 and parameters: {'x': 1.030948912001294, 'y': 1.296408294100364}. Best is trial 71 with value: 0.003470223971019505.\n",
            "[I 2023-12-30 21:26:37,494] Trial 156 finished with value: 9.032884799469151 and parameters: {'x': 0.8122578444361411, 'y': 0.9597234313056786}. Best is trial 71 with value: 0.003470223971019505.\n",
            "[I 2023-12-30 21:26:37,508] Trial 157 finished with value: 91.74099797883468 and parameters: {'x': 1.3515062019981852, 'y': 0.8693990115384805}. Best is trial 71 with value: 0.003470223971019505.\n",
            "[I 2023-12-30 21:26:37,523] Trial 158 finished with value: 3.3353138306140404 and parameters: {'x': 1.1638725129381315, 'y': 1.1727075105055573}. Best is trial 71 with value: 0.003470223971019505.\n",
            "[I 2023-12-30 21:26:37,537] Trial 159 finished with value: 0.8220933705021534 and parameters: {'x': 0.9157116626697941, 'y': 0.7482511164498367}. Best is trial 71 with value: 0.003470223971019505.\n",
            "[I 2023-12-30 21:26:37,552] Trial 160 finished with value: 101.32822623354622 and parameters: {'x': 1.2426591474587132, 'y': 0.5378750564725929}. Best is trial 71 with value: 0.003470223971019505.\n",
            "[I 2023-12-30 21:26:37,568] Trial 161 finished with value: 0.27829393974633154 and parameters: {'x': 1.1040240032679187, 'y': 1.1671512130553918}. Best is trial 71 with value: 0.003470223971019505.\n",
            "[I 2023-12-30 21:26:37,586] Trial 162 finished with value: 0.3422439041755084 and parameters: {'x': 1.0994137106942847, 'y': 1.151059764136273}. Best is trial 71 with value: 0.003470223971019505.\n",
            "[I 2023-12-30 21:26:37,604] Trial 163 finished with value: 0.6851006355943803 and parameters: {'x': 1.0821399337140565, 'y': 1.253389064549739}. Best is trial 71 with value: 0.003470223971019505.\n",
            "[I 2023-12-30 21:26:37,618] Trial 164 finished with value: 3.5508728600155264 and parameters: {'x': 1.1540305057976663, 'y': 1.1439793939777743}. Best is trial 71 with value: 0.003470223971019505.\n",
            "[I 2023-12-30 21:26:37,632] Trial 165 finished with value: 0.0010878022328116284 and parameters: {'x': 1.0270499977652054, 'y': 1.0529446370898368}. Best is trial 165 with value: 0.0010878022328116284.\n",
            "[I 2023-12-30 21:26:37,647] Trial 166 finished with value: 0.6734808642589799 and parameters: {'x': 0.9893003280784897, 'y': 1.060774043667023}. Best is trial 165 with value: 0.0010878022328116284.\n",
            "[I 2023-12-30 21:26:37,664] Trial 167 finished with value: 1.0214671200144418 and parameters: {'x': 0.8502279197572671, 'y': 0.8228392760992644}. Best is trial 165 with value: 0.0010878022328116284.\n",
            "[I 2023-12-30 21:26:37,679] Trial 168 finished with value: 35.9826631301404 and parameters: {'x': -1.4185581812305794, 'y': 1.4633697992948975}. Best is trial 165 with value: 0.0010878022328116284.\n",
            "[I 2023-12-30 21:26:37,695] Trial 169 finished with value: 19.516589056071098 and parameters: {'x': 0.696023264817409, 'y': 0.925177181600207}. Best is trial 165 with value: 0.0010878022328116284.\n",
            "[I 2023-12-30 21:26:37,711] Trial 170 finished with value: 10.11565139942119 and parameters: {'x': 1.2794771572211843, 'y': 1.3202409644963489}. Best is trial 165 with value: 0.0010878022328116284.\n",
            "[I 2023-12-30 21:26:37,726] Trial 171 finished with value: 0.0984809444321002 and parameters: {'x': 1.067349850193056, 'y': 1.1698861418738253}. Best is trial 165 with value: 0.0010878022328116284.\n",
            "[I 2023-12-30 21:26:37,742] Trial 172 finished with value: 2.2156819070427116 and parameters: {'x': 1.0348415806492248, 'y': 1.219707982774815}. Best is trial 165 with value: 0.0010878022328116284.\n",
            "[I 2023-12-30 21:26:37,756] Trial 173 finished with value: 3.2973039567345572 and parameters: {'x': 0.885968044069604, 'y': 0.9661657713621072}. Best is trial 165 with value: 0.0010878022328116284.\n",
            "[I 2023-12-30 21:26:37,772] Trial 174 finished with value: 0.9002693893385483 and parameters: {'x': 0.9763898806843991, 'y': 1.0481903462095912}. Best is trial 165 with value: 0.0010878022328116284.\n",
            "[I 2023-12-30 21:26:37,792] Trial 175 finished with value: 10.659783084689117 and parameters: {'x': 0.7539663876644029, 'y': 0.8940302158023982}. Best is trial 165 with value: 0.0010878022328116284.\n",
            "[I 2023-12-30 21:26:37,808] Trial 176 finished with value: 48.825140119411294 and parameters: {'x': 1.1543204940122127, 'y': 0.6338763492584379}. Best is trial 165 with value: 0.0010878022328116284.\n",
            "[I 2023-12-30 21:26:37,825] Trial 177 finished with value: 0.046095619502526684 and parameters: {'x': 1.0707572637791907, 'y': 1.1262506889505501}. Best is trial 165 with value: 0.0010878022328116284.\n",
            "[I 2023-12-30 21:26:37,840] Trial 178 finished with value: 4.113213191412037 and parameters: {'x': 1.202998493350686, 'y': 1.2454132839025758}. Best is trial 165 with value: 0.0010878022328116284.\n",
            "[I 2023-12-30 21:26:37,856] Trial 179 finished with value: 0.5247276312525686 and parameters: {'x': 1.0276625783227071, 'y': 1.1284756228994461}. Best is trial 165 with value: 0.0010878022328116284.\n",
            "[I 2023-12-30 21:26:37,871] Trial 180 finished with value: 1.595250757856805 and parameters: {'x': 1.0814716532289255, 'y': 1.0435407396743497}. Best is trial 165 with value: 0.0010878022328116284.\n",
            "[I 2023-12-30 21:26:37,887] Trial 181 finished with value: 2.5470920229175555 and parameters: {'x': 0.9200108459711203, 'y': 1.0058154948526923}. Best is trial 165 with value: 0.0010878022328116284.\n",
            "[I 2023-12-30 21:26:37,903] Trial 182 finished with value: 23.9219865493827 and parameters: {'x': 0.8248861169050717, 'y': 1.169224602402176}. Best is trial 165 with value: 0.0010878022328116284.\n",
            "[I 2023-12-30 21:26:37,917] Trial 183 finished with value: 21.255805341049495 and parameters: {'x': 0.9374494072548579, 'y': 1.3398091434823491}. Best is trial 165 with value: 0.0010878022328116284.\n",
            "[I 2023-12-30 21:26:37,931] Trial 184 finished with value: 0.06082321143861937 and parameters: {'x': 1.0243618289827805, 'y': 1.0738588992245401}. Best is trial 165 with value: 0.0010878022328116284.\n",
            "[I 2023-12-30 21:26:37,947] Trial 185 finished with value: 0.7363674791539122 and parameters: {'x': 1.0833858066582511, 'y': 1.088319051789235}. Best is trial 165 with value: 0.0010878022328116284.\n",
            "[I 2023-12-30 21:26:37,962] Trial 186 finished with value: 3.7132656972449247 and parameters: {'x': 1.2007086766765058, 'y': 1.2500510790679107}. Best is trial 165 with value: 0.0010878022328116284.\n",
            "[I 2023-12-30 21:26:37,976] Trial 187 finished with value: 16.163232552193023 and parameters: {'x': 1.0019218577325162, 'y': 1.4058825922716993}. Best is trial 165 with value: 0.0010878022328116284.\n",
            "[I 2023-12-30 21:26:37,990] Trial 188 finished with value: 44.07558146311617 and parameters: {'x': 1.2798800321530412, 'y': 0.9747886781835017}. Best is trial 165 with value: 0.0010878022328116284.\n",
            "[I 2023-12-30 21:26:38,003] Trial 189 finished with value: 4.222185488745641 and parameters: {'x': 1.1453941463060477, 'y': 1.1069632161193843}. Best is trial 165 with value: 0.0010878022328116284.\n",
            "[I 2023-12-30 21:26:38,017] Trial 190 finished with value: 4.149390710805015 and parameters: {'x': 1.0257177458488729, 'y': 0.8484125965622313}. Best is trial 165 with value: 0.0010878022328116284.\n",
            "[I 2023-12-30 21:26:38,034] Trial 191 finished with value: 0.015984330679505356 and parameters: {'x': 0.8780916308102246, 'y': 0.7676942700694455}. Best is trial 165 with value: 0.0010878022328116284.\n",
            "[I 2023-12-30 21:26:38,049] Trial 192 finished with value: 0.014162071179926131 and parameters: {'x': 0.8855694886620984, 'y': 0.7809657065811508}. Best is trial 165 with value: 0.0010878022328116284.\n",
            "[I 2023-12-30 21:26:38,064] Trial 193 finished with value: 1.3262337046908301 and parameters: {'x': 0.813505730502388, 'y': 0.7754337132855644}. Best is trial 165 with value: 0.0010878022328116284.\n",
            "[I 2023-12-30 21:26:38,080] Trial 194 finished with value: 4.448835148820443 and parameters: {'x': 0.8842335200812057, 'y': 0.9924736015288881}. Best is trial 165 with value: 0.0010878022328116284.\n",
            "[I 2023-12-30 21:26:38,099] Trial 195 finished with value: 39.16989695519396 and parameters: {'x': 0.755273010547261, 'y': 1.1958172502304383}. Best is trial 165 with value: 0.0010878022328116284.\n",
            "[I 2023-12-30 21:26:38,121] Trial 196 finished with value: 59.41978328119026 and parameters: {'x': 1.0588311844418257, 'y': 0.3503036397465366}. Best is trial 165 with value: 0.0010878022328116284.\n",
            "[I 2023-12-30 21:26:38,141] Trial 197 finished with value: 25.95660493056571 and parameters: {'x': 0.6363026661062491, 'y': 0.9130575205598586}. Best is trial 165 with value: 0.0010878022328116284.\n",
            "[I 2023-12-30 21:26:38,155] Trial 198 finished with value: 5.049334540733686 and parameters: {'x': 0.9283355066036969, 'y': 1.086399749956751}. Best is trial 165 with value: 0.0010878022328116284.\n",
            "[I 2023-12-30 21:26:38,169] Trial 199 finished with value: 18.02153882704733 and parameters: {'x': 1.104142371005182, 'y': 0.7947403049523706}. Best is trial 165 with value: 0.0010878022328116284.\n",
            "[I 2023-12-30 21:26:38,182] Trial 200 finished with value: 0.5172128525190199 and parameters: {'x': 0.867384263174217, 'y': 0.6816712383637005}. Best is trial 165 with value: 0.0010878022328116284.\n",
            "[I 2023-12-30 21:26:38,198] Trial 201 finished with value: 0.52455258085863 and parameters: {'x': 0.9814374606805196, 'y': 0.8908172784187478}. Best is trial 165 with value: 0.0010878022328116284.\n",
            "[I 2023-12-30 21:26:38,213] Trial 202 finished with value: 1.678570053849772 and parameters: {'x': 0.9534911391650409, 'y': 1.0386214884803255}. Best is trial 165 with value: 0.0010878022328116284.\n",
            "[I 2023-12-30 21:26:38,228] Trial 203 finished with value: 2.856553556289486 and parameters: {'x': 1.0071798400276517, 'y': 0.8453993369024542}. Best is trial 165 with value: 0.0010878022328116284.\n",
            "[I 2023-12-30 21:26:38,244] Trial 204 finished with value: 26.05888575933286 and parameters: {'x': 0.8060771957856104, 'y': 1.1598710189253159}. Best is trial 165 with value: 0.0010878022328116284.\n",
            "[I 2023-12-30 21:26:38,259] Trial 205 finished with value: 12.799277174146061 and parameters: {'x': 1.1427173681593528, 'y': 0.9483269853201293}. Best is trial 165 with value: 0.0010878022328116284.\n",
            "[I 2023-12-30 21:26:38,273] Trial 206 finished with value: 23.588735614242005 and parameters: {'x': 0.890781082854253, 'y': 1.2790504791555422}. Best is trial 165 with value: 0.0010878022328116284.\n",
            "[I 2023-12-30 21:26:38,291] Trial 207 finished with value: 14.666490969979908 and parameters: {'x': 1.0581141354538794, 'y': 0.736681070037459}. Best is trial 165 with value: 0.0010878022328116284.\n",
            "[I 2023-12-30 21:26:38,305] Trial 208 finished with value: 1.00808939095874 and parameters: {'x': 0.7253680505100268, 'y': 0.6227334784272076}. Best is trial 165 with value: 0.0010878022328116284.\n",
            "[I 2023-12-30 21:26:38,318] Trial 209 finished with value: 20.854598183558828 and parameters: {'x': 1.2165283236736588, 'y': 1.0237864334131475}. Best is trial 165 with value: 0.0010878022328116284.\n",
            "[I 2023-12-30 21:26:38,333] Trial 210 finished with value: 0.008449454755719232 and parameters: {'x': 0.9714770143059664, 'y': 0.9350292290422549}. Best is trial 165 with value: 0.0010878022328116284.\n",
            "[I 2023-12-30 21:26:38,350] Trial 211 finished with value: 0.32608132392098227 and parameters: {'x': 0.9645389693249756, 'y': 0.8733421045078322}. Best is trial 165 with value: 0.0010878022328116284.\n",
            "[I 2023-12-30 21:26:38,364] Trial 212 finished with value: 0.01119652890040462 and parameters: {'x': 1.04062907388169, 'y': 1.092679134120716}. Best is trial 165 with value: 0.0010878022328116284.\n",
            "[I 2023-12-30 21:26:38,379] Trial 213 finished with value: 142.2704148662231 and parameters: {'x': 1.0991221174882535, 'y': 0.015338991575761074}. Best is trial 165 with value: 0.0010878022328116284.\n",
            "[I 2023-12-30 21:26:38,396] Trial 214 finished with value: 0.8692748139533376 and parameters: {'x': 1.0386189760533684, 'y': 1.1718842693262983}. Best is trial 165 with value: 0.0010878022328116284.\n",
            "[I 2023-12-30 21:26:38,410] Trial 215 finished with value: 5.866394778537688 and parameters: {'x': 0.9013117553705459, 'y': 1.0543681573551882}. Best is trial 165 with value: 0.0010878022328116284.\n",
            "[I 2023-12-30 21:26:38,425] Trial 216 finished with value: 4.497328965177008 and parameters: {'x': 1.146219094714917, 'y': 1.102253827108887}. Best is trial 165 with value: 0.0010878022328116284.\n",
            "[I 2023-12-30 21:26:38,439] Trial 217 finished with value: 5.922780401519418 and parameters: {'x': 0.8650243709649482, 'y': 0.9912602071420801}. Best is trial 165 with value: 0.0010878022328116284.\n",
            "[I 2023-12-30 21:26:38,454] Trial 218 finished with value: 881.8324125614803 and parameters: {'x': 0.9986519429399437, 'y': -1.972260613252974}. Best is trial 165 with value: 0.0010878022328116284.\n",
            "[I 2023-12-30 21:26:38,469] Trial 219 finished with value: 32.6767725914386 and parameters: {'x': 0.7994309859440557, 'y': 1.2103739345147337}. Best is trial 165 with value: 0.0010878022328116284.\n",
            "[I 2023-12-30 21:26:38,483] Trial 220 finished with value: 4.71673595990205 and parameters: {'x': 1.080521463950052, 'y': 0.950495478372945}. Best is trial 165 with value: 0.0010878022328116284.\n",
            "[I 2023-12-30 21:26:38,497] Trial 221 finished with value: 1.1425439127103965 and parameters: {'x': 0.9701251522787177, 'y': 0.8342947223697796}. Best is trial 165 with value: 0.0010878022328116284.\n",
            "[I 2023-12-30 21:26:38,514] Trial 222 finished with value: 6.038262543212362 and parameters: {'x': 0.9375208626220735, 'y': 1.1245946890516936}. Best is trial 165 with value: 0.0010878022328116284.\n",
            "[I 2023-12-30 21:26:38,529] Trial 223 finished with value: 2.5281433004432072 and parameters: {'x': 1.0421246678573222, 'y': 0.9270782725287503}. Best is trial 165 with value: 0.0010878022328116284.\n",
            "[I 2023-12-30 21:26:38,543] Trial 224 finished with value: 39.34247852909106 and parameters: {'x': 1.1913948665342466, 'y': 0.7924779782613623}. Best is trial 165 with value: 0.0010878022328116284.\n",
            "[I 2023-12-30 21:26:38,558] Trial 225 finished with value: 10.634442485412318 and parameters: {'x': 0.8454696602124475, 'y': 1.040557535694735}. Best is trial 165 with value: 0.0010878022328116284.\n",
            "[I 2023-12-30 21:26:38,572] Trial 226 finished with value: 10.208724833242295 and parameters: {'x': 0.967070409649936, 'y': 1.254719159563225}. Best is trial 165 with value: 0.0010878022328116284.\n",
            "[I 2023-12-30 21:26:38,588] Trial 227 finished with value: 7.186495836571015 and parameters: {'x': 1.0904615153238375, 'y': 0.9211825856352565}. Best is trial 165 with value: 0.0010878022328116284.\n",
            "[I 2023-12-30 21:26:38,605] Trial 228 finished with value: 7.587913409579188 and parameters: {'x': 0.9177051941117884, 'y': 1.117521541508855}. Best is trial 165 with value: 0.0010878022328116284.\n",
            "[I 2023-12-30 21:26:38,620] Trial 229 finished with value: 14.864980784790795 and parameters: {'x': 0.7618714900617188, 'y': 0.9652633905285689}. Best is trial 165 with value: 0.0010878022328116284.\n",
            "[I 2023-12-30 21:26:38,636] Trial 230 finished with value: 8.867012134384538 and parameters: {'x': 1.0169552064004497, 'y': 0.736427432320341}. Best is trial 165 with value: 0.0010878022328116284.\n",
            "[I 2023-12-30 21:26:38,651] Trial 231 finished with value: 3.060861030494779 and parameters: {'x': 0.8611406251399192, 'y': 0.5671619404763614}. Best is trial 165 with value: 0.0010878022328116284.\n",
            "[I 2023-12-30 21:26:38,666] Trial 232 finished with value: 2.502487360745359 and parameters: {'x': 0.9217729265177692, 'y': 0.6916663443390921}. Best is trial 165 with value: 0.0010878022328116284.\n",
            "[I 2023-12-30 21:26:38,687] Trial 233 finished with value: 5.898015128622539 and parameters: {'x': 1.0236815599330182, 'y': 0.8050771879219796}. Best is trial 165 with value: 0.0010878022328116284.\n",
            "[I 2023-12-30 21:26:38,704] Trial 234 finished with value: 5.6612973778275615 and parameters: {'x': 1.130909222235747, 'y': 1.0413812563139184}. Best is trial 165 with value: 0.0010878022328116284.\n",
            "[I 2023-12-30 21:26:38,721] Trial 235 finished with value: 1.0594118805142694 and parameters: {'x': 0.8677934480221035, 'y': 0.855140602920739}. Best is trial 165 with value: 0.0010878022328116284.\n",
            "[I 2023-12-30 21:26:38,736] Trial 236 finished with value: 0.12832076836367473 and parameters: {'x': 0.6894434066520431, 'y': 0.4931858858614949}. Best is trial 165 with value: 0.0010878022328116284.\n",
            "[I 2023-12-30 21:26:38,751] Trial 237 finished with value: 0.7153561245213039 and parameters: {'x': 0.6216138941596018, 'y': 0.4620464192636382}. Best is trial 165 with value: 0.0010878022328116284.\n",
            "[I 2023-12-30 21:26:38,766] Trial 238 finished with value: 44.59832666417791 and parameters: {'x': 0.705429475371623, 'y': 1.1648005497217664}. Best is trial 165 with value: 0.0010878022328116284.\n",
            "[I 2023-12-30 21:26:38,782] Trial 239 finished with value: 2.6568664685721717 and parameters: {'x': 0.5799490365938779, 'y': 0.4938344930661042}. Best is trial 165 with value: 0.0010878022328116284.\n",
            "[I 2023-12-30 21:26:38,798] Trial 240 finished with value: 4.22036955352971 and parameters: {'x': 0.7796379344138717, 'y': 0.40358521419746074}. Best is trial 165 with value: 0.0010878022328116284.\n",
            "[I 2023-12-30 21:26:38,817] Trial 241 finished with value: 8.196819506013577 and parameters: {'x': 0.9391710202480248, 'y': 0.5958059507349884}. Best is trial 165 with value: 0.0010878022328116284.\n",
            "[I 2023-12-30 21:26:38,833] Trial 242 finished with value: 0.04390934852811521 and parameters: {'x': 0.820429103775529, 'y': 0.6839037484675218}. Best is trial 165 with value: 0.0010878022328116284.\n",
            "[I 2023-12-30 21:26:38,847] Trial 243 finished with value: 1.2471186610758342 and parameters: {'x': 0.7626113182236911, 'y': 0.6906982145065531}. Best is trial 165 with value: 0.0010878022328116284.\n",
            "[I 2023-12-30 21:26:38,866] Trial 244 finished with value: 25.971142433262532 and parameters: {'x': 1.0210851768508438, 'y': 0.5330003992612743}. Best is trial 165 with value: 0.0010878022328116284.\n",
            "[I 2023-12-30 21:26:38,883] Trial 245 finished with value: 8.106313144728377 and parameters: {'x': 0.7125276182256559, 'y': 0.22443472389934363}. Best is trial 165 with value: 0.0010878022328116284.\n",
            "[I 2023-12-30 21:26:38,899] Trial 246 finished with value: 17.757410850960063 and parameters: {'x': 0.8140481910608828, 'y': 1.0836594069307872}. Best is trial 165 with value: 0.0010878022328116284.\n",
            "[I 2023-12-30 21:26:38,913] Trial 247 finished with value: 7.040994243199304 and parameters: {'x': 1.1287450681600069, 'y': 1.0090292247530896}. Best is trial 165 with value: 0.0010878022328116284.\n",
            "[I 2023-12-30 21:26:38,930] Trial 248 finished with value: 0.3529074246865439 and parameters: {'x': 0.9770078018103139, 'y': 0.8951827435108594}. Best is trial 165 with value: 0.0010878022328116284.\n",
            "[I 2023-12-30 21:26:38,945] Trial 249 finished with value: 0.10428226299351212 and parameters: {'x': 0.8547612734566359, 'y': 0.759459160323241}. Best is trial 165 with value: 0.0010878022328116284.\n",
            "[I 2023-12-30 21:26:38,966] Trial 250 finished with value: 0.3261225320647051 and parameters: {'x': 0.8338224834188721, 'y': 0.640624088016425}. Best is trial 165 with value: 0.0010878022328116284.\n",
            "[I 2023-12-30 21:26:38,981] Trial 251 finished with value: 0.18734276598362815 and parameters: {'x': 0.8864087978719154, 'y': 0.7439545654225969}. Best is trial 165 with value: 0.0010878022328116284.\n",
            "[I 2023-12-30 21:26:38,997] Trial 252 finished with value: 9.151238158632424 and parameters: {'x': 0.6729283462957144, 'y': 0.7535693593239585}. Best is trial 165 with value: 0.0010878022328116284.\n",
            "[I 2023-12-30 21:26:39,014] Trial 253 finished with value: 2.2792608420444624 and parameters: {'x': 0.8552730485614196, 'y': 0.5812150781393091}. Best is trial 165 with value: 0.0010878022328116284.\n",
            "[I 2023-12-30 21:26:39,030] Trial 254 finished with value: 1.5078163880113555 and parameters: {'x': 0.7600278310628662, 'y': 0.6980677890897067}. Best is trial 165 with value: 0.0010878022328116284.\n",
            "[I 2023-12-30 21:26:39,045] Trial 255 finished with value: 0.25407238033620666 and parameters: {'x': 0.9059636980249003, 'y': 0.7712495644043209}. Best is trial 165 with value: 0.0010878022328116284.\n",
            "[I 2023-12-30 21:26:39,059] Trial 256 finished with value: 908.5571276715201 and parameters: {'x': -1.930339825791712, 'y': 0.7262614498195503}. Best is trial 165 with value: 0.0010878022328116284.\n",
            "[I 2023-12-30 21:26:39,073] Trial 257 finished with value: 0.23114165101134126 and parameters: {'x': 0.9017223428790041, 'y': 0.7660411869702477}. Best is trial 165 with value: 0.0010878022328116284.\n",
            "[I 2023-12-30 21:26:39,089] Trial 258 finished with value: 0.009586214889587363 and parameters: {'x': 0.9086307536582563, 'y': 0.8291281922874477}. Best is trial 165 with value: 0.0010878022328116284.\n",
            "[I 2023-12-30 21:26:39,105] Trial 259 finished with value: 0.8402095218528752 and parameters: {'x': 0.948212701801197, 'y': 0.8075907939630723}. Best is trial 165 with value: 0.0010878022328116284.\n",
            "[I 2023-12-30 21:26:39,121] Trial 260 finished with value: 5.147068254085888 and parameters: {'x': 1.0478239583025892, 'y': 0.8711139479769718}. Best is trial 165 with value: 0.0010878022328116284.\n",
            "[I 2023-12-30 21:26:39,136] Trial 261 finished with value: 69.12647822916918 and parameters: {'x': -0.3642560397037927, 'y': 0.9528366167957215}. Best is trial 165 with value: 0.0010878022328116284.\n",
            "[I 2023-12-30 21:26:39,159] Trial 262 finished with value: 0.07111540511622506 and parameters: {'x': 0.8929214194674475, 'y': 0.7728853972893073}. Best is trial 165 with value: 0.0010878022328116284.\n",
            "[I 2023-12-30 21:26:39,181] Trial 263 finished with value: 2.9897571452409486 and parameters: {'x': 1.0009725869660187, 'y': 0.8290370050220615}. Best is trial 165 with value: 0.0010878022328116284.\n",
            "[I 2023-12-30 21:26:39,196] Trial 264 finished with value: 6.95256805755793 and parameters: {'x': 0.843930820627093, 'y': 0.9754341700971598}. Best is trial 165 with value: 0.0010878022328116284.\n",
            "[I 2023-12-30 21:26:39,212] Trial 265 finished with value: 69.55273870566685 and parameters: {'x': 1.2216500804144599, 'y': 0.6587406682047077}. Best is trial 165 with value: 0.0010878022328116284.\n",
            "[I 2023-12-30 21:26:39,229] Trial 266 finished with value: 6.8190769723315405 and parameters: {'x': 1.074399357918107, 'y': 0.8933063628312299}. Best is trial 165 with value: 0.0010878022328116284.\n",
            "[I 2023-12-30 21:26:39,245] Trial 267 finished with value: 3.403542035168822 and parameters: {'x': 0.9372016652402761, 'y': 1.0627269603615859}. Best is trial 165 with value: 0.0010878022328116284.\n",
            "[I 2023-12-30 21:26:39,260] Trial 268 finished with value: 4.473931369456644 and parameters: {'x': 1.0135218496344638, 'y': 0.8157141634755415}. Best is trial 165 with value: 0.0010878022328116284.\n",
            "[I 2023-12-30 21:26:39,277] Trial 269 finished with value: 532.7201572154295 and parameters: {'x': 1.79750963089606, 'y': 0.9243459743877964}. Best is trial 165 with value: 0.0010878022328116284.\n",
            "[I 2023-12-30 21:26:39,294] Trial 270 finished with value: 32.853857039283405 and parameters: {'x': 0.8192038001382812, 'y': 1.2439924990187303}. Best is trial 165 with value: 0.0010878022328116284.\n",
            "[I 2023-12-30 21:26:39,311] Trial 271 finished with value: 103.96105539136104 and parameters: {'x': 0.03730516166919706, 'y': 1.01644967362524}. Best is trial 165 with value: 0.0010878022328116284.\n",
            "[I 2023-12-30 21:26:39,328] Trial 272 finished with value: 524.2076347413274 and parameters: {'x': 0.8994977985057487, 'y': -1.48043976402958}. Best is trial 165 with value: 0.0010878022328116284.\n",
            "[I 2023-12-30 21:26:39,346] Trial 273 finished with value: 7.2534735170690965 and parameters: {'x': 1.1721576618668463, 'y': 1.105181650163029}. Best is trial 165 with value: 0.0010878022328116284.\n",
            "[I 2023-12-30 21:26:39,363] Trial 274 finished with value: 2.06811783112985 and parameters: {'x': 1.0889847582349872, 'y': 1.3294217558861066}. Best is trial 165 with value: 0.0010878022328116284.\n",
            "[I 2023-12-30 21:26:39,378] Trial 275 finished with value: 4.287984925092726 and parameters: {'x': 0.9500890105095258, 'y': 0.6956547849525925}. Best is trial 165 with value: 0.0010878022328116284.\n",
            "[I 2023-12-30 21:26:39,394] Trial 276 finished with value: 4.917469294390254 and parameters: {'x': 1.027109417536564, 'y': 0.8332166505811835}. Best is trial 165 with value: 0.0010878022328116284.\n",
            "[I 2023-12-30 21:26:39,410] Trial 277 finished with value: 23.855116024976148 and parameters: {'x': 0.830313721206829, 'y': 1.1775430180412219}. Best is trial 165 with value: 0.0010878022328116284.\n",
            "[I 2023-12-30 21:26:39,432] Trial 278 finished with value: 57.91591125173016 and parameters: {'x': 1.3067952660064601, 'y': 0.947307476459933}. Best is trial 165 with value: 0.0010878022328116284.\n",
            "[I 2023-12-30 21:26:39,449] Trial 279 finished with value: 4.117240589040077 and parameters: {'x': 0.9697137493104094, 'y': 0.7374575127286891}. Best is trial 165 with value: 0.0010878022328116284.\n",
            "[I 2023-12-30 21:26:39,468] Trial 280 finished with value: 42.85683465024567 and parameters: {'x': 1.131229170178715, 'y': 0.6251596607035924}. Best is trial 165 with value: 0.0010878022328116284.\n",
            "[I 2023-12-30 21:26:39,484] Trial 281 finished with value: 5.0494599371582956 and parameters: {'x': 0.9045882710200762, 'y': 1.0427873238906826}. Best is trial 165 with value: 0.0010878022328116284.\n",
            "[I 2023-12-30 21:26:39,502] Trial 282 finished with value: 7.257827185443291 and parameters: {'x': 1.0651339430677376, 'y': 0.8651855173173782}. Best is trial 165 with value: 0.0010878022328116284.\n",
            "[I 2023-12-30 21:26:39,519] Trial 283 finished with value: 26.324991355463826 and parameters: {'x': 0.7965797026527285, 'y': 1.1472146710673556}. Best is trial 165 with value: 0.0010878022328116284.\n",
            "[I 2023-12-30 21:26:39,536] Trial 284 finished with value: 26.632255262887078 and parameters: {'x': 0.6789228194913344, 'y': 0.9760008966552961}. Best is trial 165 with value: 0.0010878022328116284.\n",
            "[I 2023-12-30 21:26:39,553] Trial 285 finished with value: 7.273856215720969 and parameters: {'x': 1.0117908593730927, 'y': 0.7540224451675503}. Best is trial 165 with value: 0.0010878022328116284.\n",
            "[I 2023-12-30 21:26:39,569] Trial 286 finished with value: 9.874372333538078 and parameters: {'x': 0.8740348508826857, 'y': 1.0779194855949095}. Best is trial 165 with value: 0.0010878022328116284.\n",
            "[I 2023-12-30 21:26:39,588] Trial 287 finished with value: 15.792290733733072 and parameters: {'x': 1.1336972397375065, 'y': 0.8880992439143605}. Best is trial 165 with value: 0.0010878022328116284.\n",
            "[I 2023-12-30 21:26:39,605] Trial 288 finished with value: 8.667709248370421 and parameters: {'x': 0.9677524843684948, 'y': 1.2309369453869998}. Best is trial 165 with value: 0.0010878022328116284.\n",
            "[I 2023-12-30 21:26:39,621] Trial 289 finished with value: 52.93912860275059 and parameters: {'x': 1.2358072845293875, 'y': 0.8000090592641277}. Best is trial 165 with value: 0.0010878022328116284.\n",
            "[I 2023-12-30 21:26:39,637] Trial 290 finished with value: 15.22242609181591 and parameters: {'x': 0.7849834309293072, 'y': 1.0057653350573244}. Best is trial 165 with value: 0.0010878022328116284.\n",
            "[I 2023-12-30 21:26:39,651] Trial 291 finished with value: 3.6478976633144913 and parameters: {'x': 1.0578867757680928, 'y': 0.9282174691176721}. Best is trial 165 with value: 0.0010878022328116284.\n",
            "[I 2023-12-30 21:26:39,670] Trial 292 finished with value: 2.340225574296282 and parameters: {'x': 0.8937289785864984, 'y': 0.6461430980018906}. Best is trial 165 with value: 0.0010878022328116284.\n",
            "[I 2023-12-30 21:26:39,685] Trial 293 finished with value: 3.032156039928098 and parameters: {'x': 0.9784241312005416, 'y': 1.1314312845699417}. Best is trial 165 with value: 0.0010878022328116284.\n",
            "[I 2023-12-30 21:26:39,702] Trial 294 finished with value: 63.14609908621856 and parameters: {'x': 0.7254199890276231, 'y': 1.320404827930806}. Best is trial 165 with value: 0.0010878022328116284.\n",
            "[I 2023-12-30 21:26:39,716] Trial 295 finished with value: 42.08775461594104 and parameters: {'x': 1.194202181868869, 'y': 0.7776588282915359}. Best is trial 165 with value: 0.0010878022328116284.\n",
            "[I 2023-12-30 21:26:39,732] Trial 296 finished with value: 9.51009159926376 and parameters: {'x': 0.8495180751831382, 'y': 1.0296979529312311}. Best is trial 165 with value: 0.0010878022328116284.\n",
            "[I 2023-12-30 21:26:39,748] Trial 297 finished with value: 11.196480733411587 and parameters: {'x': 1.0957597828830075, 'y': 0.8662151261226332}. Best is trial 165 with value: 0.0010878022328116284.\n",
            "[I 2023-12-30 21:26:39,764] Trial 298 finished with value: 13.926677064494625 and parameters: {'x': 0.489353770947892, 'y': -0.13020730433003974}. Best is trial 165 with value: 0.0010878022328116284.\n",
            "[I 2023-12-30 21:26:39,781] Trial 299 finished with value: 11.449847349232755 and parameters: {'x': 0.9333975277450803, 'y': 1.209541622431741}. Best is trial 165 with value: 0.0010878022328116284.\n",
            "[I 2023-12-30 21:26:39,796] Trial 300 finished with value: 15.910023736266561 and parameters: {'x': 1.0389017529356357, 'y': 0.6804621119037582}. Best is trial 165 with value: 0.0010878022328116284.\n",
            "[I 2023-12-30 21:26:39,813] Trial 301 finished with value: 8.219698381391508 and parameters: {'x': -1.1443092596280637, 'y': 1.119137712755602}. Best is trial 165 with value: 0.0010878022328116284.\n",
            "[I 2023-12-30 21:26:39,831] Trial 302 finished with value: 2.8648937843371907 and parameters: {'x': 0.8779652934916278, 'y': 0.9396425256765515}. Best is trial 165 with value: 0.0010878022328116284.\n",
            "[I 2023-12-30 21:26:39,851] Trial 303 finished with value: 21.51518768963281 and parameters: {'x': 0.6070282564061424, 'y': 0.8306603361570163}. Best is trial 165 with value: 0.0010878022328116284.\n",
            "[I 2023-12-30 21:26:39,869] Trial 304 finished with value: 1.8271683030592434 and parameters: {'x': -0.1770920593080606, 'y': 0.0978162878216034}. Best is trial 165 with value: 0.0010878022328116284.\n",
            "[I 2023-12-30 21:26:39,886] Trial 305 finished with value: 14.064303214504532 and parameters: {'x': 0.7793315116565394, 'y': 0.981731864763063}. Best is trial 165 with value: 0.0010878022328116284.\n",
            "[I 2023-12-30 21:26:39,905] Trial 306 finished with value: 1.4673467445557256 and parameters: {'x': 0.981703970066305, 'y': 1.0848629556430307}. Best is trial 165 with value: 0.0010878022328116284.\n",
            "[I 2023-12-30 21:26:39,922] Trial 307 finished with value: 32.69679608919877 and parameters: {'x': 1.0725398742617376, 'y': 0.5785766722791902}. Best is trial 165 with value: 0.0010878022328116284.\n",
            "[I 2023-12-30 21:26:39,939] Trial 308 finished with value: 1.7259950809338693 and parameters: {'x': 0.9308866282298964, 'y': 0.7353547004218731}. Best is trial 165 with value: 0.0010878022328116284.\n",
            "[I 2023-12-30 21:26:39,957] Trial 309 finished with value: 389.3169680244554 and parameters: {'x': 1.1562322178198938, 'y': -0.6361768792313962}. Best is trial 165 with value: 0.0010878022328116284.\n",
            "[I 2023-12-30 21:26:39,974] Trial 310 finished with value: 27.670555576993564 and parameters: {'x': 0.8600590394490227, 'y': 1.2655434677401738}. Best is trial 165 with value: 0.0010878022328116284.\n",
            "[I 2023-12-30 21:26:39,990] Trial 311 finished with value: 2.4390925614472168 and parameters: {'x': 1.029355045434406, 'y': 0.9034234556552867}. Best is trial 165 with value: 0.0010878022328116284.\n",
            "[I 2023-12-30 21:26:40,004] Trial 312 finished with value: 31.84850810713128 and parameters: {'x': 0.6933424706090245, 'y': 1.0442348219638022}. Best is trial 165 with value: 0.0010878022328116284.\n",
            "[I 2023-12-30 21:26:40,024] Trial 313 finished with value: 15.321549082576286 and parameters: {'x': 1.2545965968269934, 'y': 1.1834139820694756}. Best is trial 165 with value: 0.0010878022328116284.\n",
            "[I 2023-12-30 21:26:40,041] Trial 314 finished with value: 2.627056632257974 and parameters: {'x': 0.9763957385224742, 'y': 0.7912838526683817}. Best is trial 165 with value: 0.0010878022328116284.\n",
            "[I 2023-12-30 21:26:40,058] Trial 315 finished with value: 63.421015290086096 and parameters: {'x': 0.7780429046163471, 'y': 1.4014145172744332}. Best is trial 165 with value: 0.0010878022328116284.\n",
            "[I 2023-12-30 21:26:40,078] Trial 316 finished with value: 9.111381720809675 and parameters: {'x': 1.1365877903100166, 'y': 0.9902903403319661}. Best is trial 165 with value: 0.0010878022328116284.\n",
            "[I 2023-12-30 21:26:40,096] Trial 317 finished with value: 1.6845820578178345 and parameters: {'x': 0.8987688455480677, 'y': 0.6783893670306571}. Best is trial 165 with value: 0.0010878022328116284.\n",
            "[I 2023-12-30 21:26:40,112] Trial 318 finished with value: 8.3629420100564 and parameters: {'x': 1.068089669236592, 'y': 0.8517081945634528}. Best is trial 165 with value: 0.0010878022328116284.\n",
            "[I 2023-12-30 21:26:40,129] Trial 319 finished with value: 4.823633394240425 and parameters: {'x': 0.846586753359274, 'y': 0.9358003852387684}. Best is trial 165 with value: 0.0010878022328116284.\n",
            "[I 2023-12-30 21:26:40,146] Trial 320 finished with value: 5.877502882721522 and parameters: {'x': 0.9380041996209597, 'y': 1.1222082154044581}. Best is trial 165 with value: 0.0010878022328116284.\n",
            "[I 2023-12-30 21:26:40,164] Trial 321 finished with value: 8.213277799412248 and parameters: {'x': 1.0094426852177978, 'y': 0.732387922437117}. Best is trial 165 with value: 0.0010878022328116284.\n",
            "[I 2023-12-30 21:26:40,187] Trial 322 finished with value: 4.9628121135915935 and parameters: {'x': 0.7380782554655365, 'y': 0.32353091644499044}. Best is trial 165 with value: 0.0010878022328116284.\n",
            "[I 2023-12-30 21:26:40,207] Trial 323 finished with value: 52.70947094290019 and parameters: {'x': 1.3352269989578112, 'y': 1.0575926000424438}. Best is trial 165 with value: 0.0010878022328116284.\n",
            "[I 2023-12-30 21:26:40,226] Trial 324 finished with value: 32.188473225269455 and parameters: {'x': 0.8043891126431595, 'y': 1.2140533929751836}. Best is trial 165 with value: 0.0010878022328116284.\n",
            "[I 2023-12-30 21:26:40,243] Trial 325 finished with value: 33.374544290167115 and parameters: {'x': 1.0899983751267082, 'y': 0.6104595079337067}. Best is trial 165 with value: 0.0010878022328116284.\n",
            "[I 2023-12-30 21:26:40,260] Trial 326 finished with value: 1.5714345764025066 and parameters: {'x': 0.9796046733172333, 'y': 0.8342850348678378}. Best is trial 165 with value: 0.0010878022328116284.\n",
            "[I 2023-12-30 21:26:40,277] Trial 327 finished with value: 79.66686443663205 and parameters: {'x': 1.1867910698296467, 'y': 0.516105554480921}. Best is trial 165 with value: 0.0010878022328116284.\n",
            "[I 2023-12-30 21:26:40,299] Trial 328 finished with value: 23.799540927301617 and parameters: {'x': 0.9008734639833459, 'y': 1.299320010987535}. Best is trial 165 with value: 0.0010878022328116284.\n",
            "[I 2023-12-30 21:26:40,318] Trial 329 finished with value: 11.564377216975776 and parameters: {'x': 1.1363334684358337, 'y': 0.9514627804131346}. Best is trial 165 with value: 0.0010878022328116284.\n",
            "[I 2023-12-30 21:26:40,337] Trial 330 finished with value: 23.87904088571573 and parameters: {'x': 0.5442063823136222, 'y': 0.7826921175310635}. Best is trial 165 with value: 0.0010878022328116284.\n",
            "[I 2023-12-30 21:26:40,355] Trial 331 finished with value: 1.112476737290388 and parameters: {'x': 1.0185536044613768, 'y': 1.1429091381500571}. Best is trial 165 with value: 0.0010878022328116284.\n",
            "[I 2023-12-30 21:26:40,372] Trial 332 finished with value: 250.27087050377392 and parameters: {'x': 0.6382457617982977, 'y': 1.9889391532776393}. Best is trial 165 with value: 0.0010878022328116284.\n",
            "[I 2023-12-30 21:26:40,387] Trial 333 finished with value: 10.838483545831489 and parameters: {'x': 0.82283191367335, 'y': 1.005793822155279}. Best is trial 165 with value: 0.0010878022328116284.\n",
            "[I 2023-12-30 21:26:40,406] Trial 334 finished with value: 0.01951009618395474 and parameters: {'x': 0.9330338532033037, 'y': 0.8828100794328654}. Best is trial 165 with value: 0.0010878022328116284.\n",
            "[I 2023-12-30 21:26:40,423] Trial 335 finished with value: 0.03380908036888611 and parameters: {'x': 0.9354197544825689, 'y': 0.8922259447524681}. Best is trial 165 with value: 0.0010878022328116284.\n",
            "[I 2023-12-30 21:26:40,441] Trial 336 finished with value: 142.96560472883706 and parameters: {'x': 0.9440629526247993, 'y': -0.3044143088331178}. Best is trial 165 with value: 0.0010878022328116284.\n",
            "[I 2023-12-30 21:26:40,458] Trial 337 finished with value: 3.9823087548949583 and parameters: {'x': 1.0451650929484757, 'y': 0.8928639595997412}. Best is trial 165 with value: 0.0010878022328116284.\n",
            "[I 2023-12-30 21:26:40,477] Trial 338 finished with value: 23.224620262820434 and parameters: {'x': 1.2471808200139327, 'y': 1.0741750312363758}. Best is trial 165 with value: 0.0010878022328116284.\n",
            "[I 2023-12-30 21:26:40,495] Trial 339 finished with value: 27.94736453814601 and parameters: {'x': -0.646142967503655, 'y': 0.9198708954779945}. Best is trial 165 with value: 0.0010878022328116284.\n",
            "[I 2023-12-30 21:26:40,514] Trial 340 finished with value: 0.3140192201702564 and parameters: {'x': 0.9732235650063458, 'y': 1.0031375156967837}. Best is trial 165 with value: 0.0010878022328116284.\n",
            "[I 2023-12-30 21:26:40,534] Trial 341 finished with value: 14.203347345505696 and parameters: {'x': 1.1087376936368893, 'y': 0.8525828884672245}. Best is trial 165 with value: 0.0010878022328116284.\n",
            "[I 2023-12-30 21:26:40,553] Trial 342 finished with value: 5.224211369979476 and parameters: {'x': 0.9229082737775456, 'y': 1.080194973207645}. Best is trial 165 with value: 0.0010878022328116284.\n",
            "[I 2023-12-30 21:26:40,570] Trial 343 finished with value: 0.34236116783813775 and parameters: {'x': 1.0621344218132605, 'y': 1.186310324208306}. Best is trial 165 with value: 0.0010878022328116284.\n",
            "[I 2023-12-30 21:26:40,591] Trial 344 finished with value: 40.116772021103145 and parameters: {'x': 1.1837916599464142, 'y': 0.7682513876190129}. Best is trial 165 with value: 0.0010878022328116284.\n",
            "[I 2023-12-30 21:26:40,614] Trial 345 finished with value: 5.861294072036633 and parameters: {'x': 0.8567443768962928, 'y': 0.9756878169809204}. Best is trial 165 with value: 0.0010878022328116284.\n",
            "[I 2023-12-30 21:26:40,632] Trial 346 finished with value: 451.1334831618463 and parameters: {'x': 1.038940252712823, 'y': -1.044589890466697}. Best is trial 165 with value: 0.0010878022328116284.\n",
            "[I 2023-12-30 21:26:40,649] Trial 347 finished with value: 0.05123589367719173 and parameters: {'x': 0.9598884480950576, 'y': 0.8991087241137636}. Best is trial 165 with value: 0.0010878022328116284.\n",
            "[I 2023-12-30 21:26:40,667] Trial 348 finished with value: 0.6652646947603732 and parameters: {'x': 0.8928051583661445, 'y': 0.8779573406463377}. Best is trial 165 with value: 0.0010878022328116284.\n",
            "[I 2023-12-30 21:26:40,684] Trial 349 finished with value: 5.413781821838921 and parameters: {'x': 0.9721942363585636, 'y': 0.7125028989788824}. Best is trial 165 with value: 0.0010878022328116284.\n",
            "[I 2023-12-30 21:26:40,701] Trial 350 finished with value: 3.087491896551016 and parameters: {'x': 0.8002104995036043, 'y': 0.8149099242597307}. Best is trial 165 with value: 0.0010878022328116284.\n",
            "[I 2023-12-30 21:26:40,718] Trial 351 finished with value: 0.5501091130285402 and parameters: {'x': 0.922666831592251, 'y': 0.9250791615342926}. Best is trial 165 with value: 0.0010878022328116284.\n",
            "[I 2023-12-30 21:26:40,735] Trial 352 finished with value: 0.06142946481257585 and parameters: {'x': 0.9876444200266626, 'y': 1.0001956524769002}. Best is trial 165 with value: 0.0010878022328116284.\n",
            "[I 2023-12-30 21:26:40,752] Trial 353 finished with value: 0.010198680162779849 and parameters: {'x': 0.9997014462840117, 'y': 1.0095017890717615}. Best is trial 165 with value: 0.0010878022328116284.\n",
            "[I 2023-12-30 21:26:40,769] Trial 354 finished with value: 0.0013244859683327114 and parameters: {'x': 1.020929304127626, 'y': 1.0452739753770168}. Best is trial 165 with value: 0.0010878022328116284.\n",
            "[I 2023-12-30 21:26:40,786] Trial 355 finished with value: 4.177236414431589 and parameters: {'x': 1.118004130195198, 'y': 1.0458912923940817}. Best is trial 165 with value: 0.0010878022328116284.\n",
            "[I 2023-12-30 21:26:40,804] Trial 356 finished with value: 0.7943313562756508 and parameters: {'x': 1.0411169991472238, 'y': 0.9948942319583167}. Best is trial 165 with value: 0.0010878022328116284.\n",
            "[I 2023-12-30 21:26:40,825] Trial 357 finished with value: 1.1316769595948657 and parameters: {'x': 1.00240496749186, 'y': 1.1111957534324524}. Best is trial 165 with value: 0.0010878022328116284.\n",
            "[I 2023-12-30 21:26:40,843] Trial 358 finished with value: 20.779954130089916 and parameters: {'x': 1.2150784121129903, 'y': 1.0210728699573406}. Best is trial 165 with value: 0.0010878022328116284.\n",
            "[I 2023-12-30 21:26:40,862] Trial 359 finished with value: 9.647133240014696 and parameters: {'x': 1.1214170418845795, 'y': 0.9472152445004643}. Best is trial 165 with value: 0.0010878022328116284.\n",
            "[I 2023-12-30 21:26:40,879] Trial 360 finished with value: 77.93021161354197 and parameters: {'x': 1.4005309340347978, 'y': 1.0796151004717447}. Best is trial 165 with value: 0.0010878022328116284.\n",
            "[I 2023-12-30 21:26:40,897] Trial 361 finished with value: 2.351817216712833 and parameters: {'x': 0.9945278433565237, 'y': 1.142441011691311}. Best is trial 165 with value: 0.0010878022328116284.\n",
            "[I 2023-12-30 21:26:40,913] Trial 362 finished with value: 38.95699063539061 and parameters: {'x': 1.0716485081520473, 'y': 1.7725447543661428}. Best is trial 165 with value: 0.0010878022328116284.\n",
            "[I 2023-12-30 21:26:40,938] Trial 363 finished with value: 0.11301463649071439 and parameters: {'x': 0.9722760523631291, 'y': 0.978823859048686}. Best is trial 165 with value: 0.0010878022328116284.\n",
            "[I 2023-12-30 21:26:40,956] Trial 364 finished with value: 21.959479830391903 and parameters: {'x': 1.1634080503661035, 'y': 0.885193856681635}. Best is trial 165 with value: 0.0010878022328116284.\n",
            "[I 2023-12-30 21:26:40,975] Trial 365 finished with value: 3.2741281954815005 and parameters: {'x': 1.035405225642329, 'y': 1.2529748617086793}. Best is trial 165 with value: 0.0010878022328116284.\n",
            "[I 2023-12-30 21:26:40,993] Trial 366 finished with value: 1.9259292021031287 and parameters: {'x': 0.954907569747812, 'y': 1.050553040400651}. Best is trial 165 with value: 0.0010878022328116284.\n",
            "[I 2023-12-30 21:26:41,009] Trial 367 finished with value: 1.1883016001366415 and parameters: {'x': 0.8906612466920805, 'y': 0.9017369712557431}. Best is trial 165 with value: 0.0010878022328116284.\n",
            "[I 2023-12-30 21:26:41,027] Trial 368 finished with value: 26.86720672475953 and parameters: {'x': 1.2864261398051111, 'y': 1.137348332993697}. Best is trial 165 with value: 0.0010878022328116284.\n",
            "[I 2023-12-30 21:26:41,045] Trial 369 finished with value: 2.508843689621834 and parameters: {'x': 1.0789163206020969, 'y': 1.0058638433344733}. Best is trial 165 with value: 0.0010878022328116284.\n",
            "[I 2023-12-30 21:26:41,061] Trial 370 finished with value: 3.53162645917568 and parameters: {'x': 0.8616228942738905, 'y': 0.9298100794387858}. Best is trial 165 with value: 0.0010878022328116284.\n",
            "[I 2023-12-30 21:26:41,080] Trial 371 finished with value: 4.248122469334205 and parameters: {'x': 1.0006976667270515, 'y': 1.2075055478284007}. Best is trial 165 with value: 0.0010878022328116284.\n",
            "[I 2023-12-30 21:26:41,096] Trial 372 finished with value: 21.31957126694246 and parameters: {'x': 1.1476403067662908, 'y': 0.8555831642415092}. Best is trial 165 with value: 0.0010878022328116284.\n",
            "[I 2023-12-30 21:26:41,113] Trial 373 finished with value: 2.8812227329659263 and parameters: {'x': 0.9480906086034119, 'y': 1.0685380592109104}. Best is trial 165 with value: 0.0010878022328116284.\n",
            "[I 2023-12-30 21:26:41,130] Trial 374 finished with value: 8.233091571735175 and parameters: {'x': 0.8299005944455587, 'y': 0.9751640064342849}. Best is trial 165 with value: 0.0010878022328116284.\n",
            "[I 2023-12-30 21:26:41,148] Trial 375 finished with value: 3.9325228458244057 and parameters: {'x': 1.0792212034357014, 'y': 1.3628659985813647}. Best is trial 165 with value: 0.0010878022328116284.\n",
            "[I 2023-12-30 21:26:41,165] Trial 376 finished with value: 8.02571658532094 and parameters: {'x': 0.923517393449415, 'y': 1.1360780729005517}. Best is trial 165 with value: 0.0010878022328116284.\n",
            "[I 2023-12-30 21:26:41,183] Trial 377 finished with value: 36.41587672443118 and parameters: {'x': 1.1876491472568778, 'y': 0.8073466343193936}. Best is trial 165 with value: 0.0010878022328116284.\n",
            "[I 2023-12-30 21:26:41,201] Trial 378 finished with value: 0.08762877284927229 and parameters: {'x': 1.0140595712400835, 'y': 1.0578855646407546}. Best is trial 165 with value: 0.0010878022328116284.\n",
            "[I 2023-12-30 21:26:41,226] Trial 379 finished with value: 0.00195498288239357 and parameters: {'x': 1.031633298178092, 'y': 1.0673564646043063}. Best is trial 165 with value: 0.0010878022328116284.\n",
            "[I 2023-12-30 21:26:41,253] Trial 380 finished with value: 0.02152073849814155 and parameters: {'x': 1.0300141469284578, 'y': 1.0752887701249887}. Best is trial 165 with value: 0.0010878022328116284.\n",
            "[I 2023-12-30 21:26:41,270] Trial 381 finished with value: 5.7734070716194354 and parameters: {'x': 1.1125088185520677, 'y': 0.9976602710846466}. Best is trial 165 with value: 0.0010878022328116284.\n",
            "[I 2023-12-30 21:26:41,290] Trial 382 finished with value: 0.24576814089185578 and parameters: {'x': 1.0140140656564907, 'y': 1.0777797215303966}. Best is trial 165 with value: 0.0010878022328116284.\n",
            "[I 2023-12-30 21:26:41,308] Trial 383 finished with value: 0.19730085356779026 and parameters: {'x': 0.9458534375576764, 'y': 0.9387260254774078}. Best is trial 165 with value: 0.0010878022328116284.\n",
            "[I 2023-12-30 21:26:41,327] Trial 384 finished with value: 14.94882726081969 and parameters: {'x': 1.2264919645406955, 'y': 1.118309370963423}. Best is trial 165 with value: 0.0010878022328116284.\n",
            "[I 2023-12-30 21:26:41,344] Trial 385 finished with value: 3.1440791828661134 and parameters: {'x': 1.089572816953927, 'y': 1.010079796355502}. Best is trial 165 with value: 0.0010878022328116284.\n",
            "[I 2023-12-30 21:26:41,363] Trial 386 finished with value: 3.054804761557326 and parameters: {'x': 1.0253914977546295, 'y': 1.2261892764586813}. Best is trial 165 with value: 0.0010878022328116284.\n",
            "[I 2023-12-30 21:26:41,380] Trial 387 finished with value: 21.20156679353299 and parameters: {'x': 1.1657466689260612, 'y': 0.898812116885193}. Best is trial 165 with value: 0.0010878022328116284.\n",
            "[I 2023-12-30 21:26:41,398] Trial 388 finished with value: 3.170707226538652 and parameters: {'x': 0.9263796935286306, 'y': 1.0360918790578135}. Best is trial 165 with value: 0.0010878022328116284.\n",
            "[I 2023-12-30 21:26:41,416] Trial 389 finished with value: 139.39156643253355 and parameters: {'x': 1.5731787186433048, 'y': 1.2956413811143146}. Best is trial 165 with value: 0.0010878022328116284.\n",
            "[I 2023-12-30 21:26:41,435] Trial 390 finished with value: 2.196853714524408 and parameters: {'x': 1.0032769523504563, 'y': 1.1547821513987842}. Best is trial 165 with value: 0.0010878022328116284.\n",
            "[I 2023-12-30 21:26:41,452] Trial 391 finished with value: 5.925229905729911 and parameters: {'x': 0.8349732648880059, 'y': 0.9400382556139351}. Best is trial 165 with value: 0.0010878022328116284.\n",
            "[I 2023-12-30 21:26:41,469] Trial 392 finished with value: 12.360132263786806 and parameters: {'x': 1.0939978088963773, 'y': 0.8453870897476178}. Best is trial 165 with value: 0.0010878022328116284.\n",
            "[I 2023-12-30 21:26:41,485] Trial 393 finished with value: 65.92687391150186 and parameters: {'x': 0.9185411593474715, 'y': 1.6556306545698183}. Best is trial 165 with value: 0.0010878022328116284.\n",
            "[I 2023-12-30 21:26:41,504] Trial 394 finished with value: 0.952160894382173 and parameters: {'x': 0.9987929495561169, 'y': 1.0951660134529162}. Best is trial 165 with value: 0.0010878022328116284.\n",
            "[I 2023-12-30 21:26:41,523] Trial 395 finished with value: 16.864273261299513 and parameters: {'x': 0.7613821533412342, 'y': 0.9896702795107418}. Best is trial 165 with value: 0.0010878022328116284.\n",
            "[I 2023-12-30 21:26:41,542] Trial 396 finished with value: 711.794858049863 and parameters: {'x': 1.883531018663609, 'y': 0.8812040880177325}. Best is trial 165 with value: 0.0010878022328116284.\n",
            "[I 2023-12-30 21:26:41,560] Trial 397 finished with value: 3.894928440538186 and parameters: {'x': 1.1752465316343412, 'y': 1.184628290162733}. Best is trial 165 with value: 0.0010878022328116284.\n",
            "[I 2023-12-30 21:26:41,578] Trial 398 finished with value: 1.2574197273046666 and parameters: {'x': 1.081219534702931, 'y': 1.0571954786072015}. Best is trial 165 with value: 0.0010878022328116284.\n",
            "[I 2023-12-30 21:26:41,597] Trial 399 finished with value: 82.48963100462801 and parameters: {'x': 0.24529776647947632, 'y': 0.9652679809950908}. Best is trial 165 with value: 0.0010878022328116284.\n",
            "[I 2023-12-30 21:26:41,615] Trial 400 finished with value: 0.2623671117707872 and parameters: {'x': 0.8713686543496082, 'y': 0.8088636795719599}. Best is trial 165 with value: 0.0010878022328116284.\n",
            "[I 2023-12-30 21:26:41,632] Trial 401 finished with value: 30.560665924729648 and parameters: {'x': 1.2896950172475166, 'y': 1.1112557883131577}. Best is trial 165 with value: 0.0010878022328116284.\n",
            "[I 2023-12-30 21:26:41,649] Trial 402 finished with value: 0.018600021887738145 and parameters: {'x': 0.956746373243148, 'y': 0.902429502852049}. Best is trial 165 with value: 0.0010878022328116284.\n",
            "[I 2023-12-30 21:26:41,669] Trial 403 finished with value: 1.6747588386646977 and parameters: {'x': 1.0198021339120784, 'y': 0.9105990695557217}. Best is trial 165 with value: 0.0010878022328116284.\n",
            "[I 2023-12-30 21:26:41,687] Trial 404 finished with value: 0.4226811889548743 and parameters: {'x': 0.9708722896095182, 'y': 1.007541656716317}. Best is trial 165 with value: 0.0010878022328116284.\n",
            "[I 2023-12-30 21:26:41,706] Trial 405 finished with value: 0.46887604664301774 and parameters: {'x': 1.1252691028793254, 'y': 1.1989116339312218}. Best is trial 165 with value: 0.0010878022328116284.\n",
            "[I 2023-12-30 21:26:41,724] Trial 406 finished with value: 0.3926643537848212 and parameters: {'x': 1.0541971527859126, 'y': 1.0489035164820935}. Best is trial 165 with value: 0.0010878022328116284.\n",
            "[I 2023-12-30 21:26:41,741] Trial 407 finished with value: 0.001549632480479797 and parameters: {'x': 0.9639608018932775, 'y': 0.9276367335496634}. Best is trial 165 with value: 0.0010878022328116284.\n",
            "[I 2023-12-30 21:26:41,759] Trial 408 finished with value: 78.3287701856139 and parameters: {'x': 0.1109962820986033, 'y': 0.8928793298085826}. Best is trial 165 with value: 0.0010878022328116284.\n",
            "[I 2023-12-30 21:26:41,779] Trial 409 finished with value: 3.6821670434318126 and parameters: {'x': 0.8123401931367287, 'y': 0.8508665043018738}. Best is trial 165 with value: 0.0010878022328116284.\n",
            "[I 2023-12-30 21:26:41,798] Trial 410 finished with value: 0.7382953470310432 and parameters: {'x': 0.9247174397121208, 'y': 0.940696027838057}. Best is trial 165 with value: 0.0010878022328116284.\n",
            "[I 2023-12-30 21:26:41,820] Trial 411 finished with value: 6.991082365271821 and parameters: {'x': 1.2359922168589126, 'y': 1.2643254730902769}. Best is trial 165 with value: 0.0010878022328116284.\n",
            "[I 2023-12-30 21:26:41,838] Trial 412 finished with value: 3.9172592078389203 and parameters: {'x': 1.147799405398892, 'y': 1.1200754294034907}. Best is trial 165 with value: 0.0010878022328116284.\n",
            "[I 2023-12-30 21:26:41,858] Trial 413 finished with value: 0.14645803408113428 and parameters: {'x': 0.9287927500583588, 'y': 0.8250544351406875}. Best is trial 165 with value: 0.0010878022328116284.\n",
            "[I 2023-12-30 21:26:41,877] Trial 414 finished with value: 2.9151315277116816 and parameters: {'x': 1.0580159588683373, 'y': 0.9487588030890106}. Best is trial 165 with value: 0.0010878022328116284.\n",
            "[I 2023-12-30 21:26:41,896] Trial 415 finished with value: 9.28470863099725 and parameters: {'x': 0.8701758203759877, 'y': 1.0616374664830888}. Best is trial 165 with value: 0.0010878022328116284.\n",
            "[I 2023-12-30 21:26:41,916] Trial 416 finished with value: 6.25951738373045 and parameters: {'x': 0.7851469805343692, 'y': 0.8657218149047943}. Best is trial 165 with value: 0.0010878022328116284.\n",
            "[I 2023-12-30 21:26:41,935] Trial 417 finished with value: 5.002966117948498 and parameters: {'x': 0.9794823374508383, 'y': 1.1830493510257882}. Best is trial 165 with value: 0.0010878022328116284.\n",
            "[I 2023-12-30 21:26:41,952] Trial 418 finished with value: 3.7819171607513904 and parameters: {'x': 1.0894658687555203, 'y': 0.9926702615593288}. Best is trial 165 with value: 0.0010878022328116284.\n",
            "[I 2023-12-30 21:26:41,972] Trial 419 finished with value: 3.7852867387963185 and parameters: {'x': 0.9472808169190613, 'y': 1.091827640417175}. Best is trial 165 with value: 0.0010878022328116284.\n",
            "[I 2023-12-30 21:26:41,990] Trial 420 finished with value: 20.695344232961304 and parameters: {'x': 1.1694355625929167, 'y': 0.9129738177250568}. Best is trial 165 with value: 0.0010878022328116284.\n",
            "[I 2023-12-30 21:26:42,007] Trial 421 finished with value: 240.4027388314112 and parameters: {'x': -1.5174628859624795, 'y': 0.7727749214237001}. Best is trial 165 with value: 0.0010878022328116284.\n",
            "[I 2023-12-30 21:26:42,029] Trial 422 finished with value: 0.390272470085183 and parameters: {'x': 1.0386253742825775, 'y': 1.0163903986544123}. Best is trial 165 with value: 0.0010878022328116284.\n",
            "[I 2023-12-30 21:26:42,046] Trial 423 finished with value: 59.84554179188438 and parameters: {'x': 0.8592168016988248, 'y': 1.51172440306639}. Best is trial 165 with value: 0.0010878022328116284.\n",
            "[I 2023-12-30 21:26:42,065] Trial 424 finished with value: 1.9686767166309769 and parameters: {'x': 0.7423020539192132, 'y': 0.6889350888343495}. Best is trial 165 with value: 0.0010878022328116284.\n",
            "[I 2023-12-30 21:26:42,083] Trial 425 finished with value: 12.097866574127677 and parameters: {'x': 0.9815208109453537, 'y': 1.3111980688412497}. Best is trial 165 with value: 0.0010878022328116284.\n",
            "[I 2023-12-30 21:26:42,101] Trial 426 finished with value: 0.31735817302003566 and parameters: {'x': 1.0916981774518482, 'y': 1.1362216742155056}. Best is trial 165 with value: 0.0010878022328116284.\n",
            "[I 2023-12-30 21:26:42,118] Trial 427 finished with value: 3.0162675770185743 and parameters: {'x': 0.8727790559188376, 'y': 0.9349507401168884}. Best is trial 165 with value: 0.0010878022328116284.\n",
            "[I 2023-12-30 21:26:42,137] Trial 428 finished with value: 104.14800446039564 and parameters: {'x': 1.3491284863849788, 'y': 0.8002157448489071}. Best is trial 165 with value: 0.0010878022328116284.\n",
            "[I 2023-12-30 21:26:42,156] Trial 429 finished with value: 0.027100261861153305 and parameters: {'x': 1.0340631904411466, 'y': 1.05318079441788}. Best is trial 165 with value: 0.0010878022328116284.\n",
            "[I 2023-12-30 21:26:42,176] Trial 430 finished with value: 8.35407931780291 and parameters: {'x': -1.0312951276116746, 'y': 0.8579505890184331}. Best is trial 165 with value: 0.0010878022328116284.\n",
            "[I 2023-12-30 21:26:42,192] Trial 431 finished with value: 774.2868357140615 and parameters: {'x': 1.2351025519919905, 'y': -1.2570233707058636}. Best is trial 165 with value: 0.0010878022328116284.\n",
            "[I 2023-12-30 21:26:42,215] Trial 432 finished with value: 184.27976442580535 and parameters: {'x': 0.9309912707093712, 'y': -0.4907345436537268}. Best is trial 165 with value: 0.0010878022328116284.\n",
            "[I 2023-12-30 21:26:42,233] Trial 433 finished with value: 8.113166006357028 and parameters: {'x': 1.1271739795946798, 'y': 0.9859690271421591}. Best is trial 165 with value: 0.0010878022328116284.\n",
            "[I 2023-12-30 21:26:42,251] Trial 434 finished with value: 0.0014426755651741272 and parameters: {'x': 1.0283565275053297, 'y': 1.0600441674747991}. Best is trial 165 with value: 0.0010878022328116284.\n",
            "[I 2023-12-30 21:26:42,284] Trial 435 finished with value: 355.891492348855 and parameters: {'x': 1.713226355074704, 'y': 1.049984602191647}. Best is trial 165 with value: 0.0010878022328116284.\n",
            "[I 2023-12-30 21:26:42,304] Trial 436 finished with value: 5.7882840664403234 and parameters: {'x': 0.8224232242570422, 'y': 0.9163122534794848}. Best is trial 165 with value: 0.0010878022328116284.\n",
            "[I 2023-12-30 21:26:42,322] Trial 437 finished with value: 0.6673425757559448 and parameters: {'x': 1.0313787866698731, 'y': 0.9821114507996084}. Best is trial 165 with value: 0.0010878022328116284.\n",
            "[I 2023-12-30 21:26:42,340] Trial 438 finished with value: 0.04804828436878157 and parameters: {'x': 0.9325448992219686, 'y': 0.8487837924442889}. Best is trial 165 with value: 0.0010878022328116284.\n",
            "[I 2023-12-30 21:26:42,357] Trial 439 finished with value: 0.988563668542488 and parameters: {'x': 0.8999308741247333, 'y': 0.7109539001647208}. Best is trial 165 with value: 0.0010878022328116284.\n",
            "[I 2023-12-30 21:26:42,377] Trial 440 finished with value: 7.116183604391762 and parameters: {'x': 0.7280675258828053, 'y': 0.7954544446301155}. Best is trial 165 with value: 0.0010878022328116284.\n",
            "[I 2023-12-30 21:26:42,397] Trial 441 finished with value: 20.730458515637796 and parameters: {'x': 0.8074368063380246, 'y': 1.106853942679976}. Best is trial 165 with value: 0.0010878022328116284.\n",
            "[I 2023-12-30 21:26:42,417] Trial 442 finished with value: 2.7378006327432725 and parameters: {'x': 1.0087501590495629, 'y': 0.8521161911483845}. Best is trial 165 with value: 0.0010878022328116284.\n",
            "[I 2023-12-30 21:26:42,434] Trial 443 finished with value: 3.903679371975721 and parameters: {'x': 0.914674062496207, 'y': 1.034021620629577}. Best is trial 165 with value: 0.0010878022328116284.\n",
            "[I 2023-12-30 21:26:42,454] Trial 444 finished with value: 5.11496530788979 and parameters: {'x': 1.0856405550937414, 'y': 0.9526147289534952}. Best is trial 165 with value: 0.0010878022328116284.\n",
            "[I 2023-12-30 21:26:42,476] Trial 445 finished with value: 7.403255686185372 and parameters: {'x': 0.9720554980921507, 'y': 1.2169667853066266}. Best is trial 165 with value: 0.0010878022328116284.\n",
            "[I 2023-12-30 21:26:42,494] Trial 446 finished with value: 20.752419597718454 and parameters: {'x': 0.8219574653265443, 'y': 1.1308142555349723}. Best is trial 165 with value: 0.0010878022328116284.\n",
            "[I 2023-12-30 21:26:42,516] Trial 447 finished with value: 36.49353159649574 and parameters: {'x': 1.1645416373235382, 'y': 0.7522825886820509}. Best is trial 165 with value: 0.0010878022328116284.\n",
            "[I 2023-12-30 21:26:42,536] Trial 448 finished with value: 4.1606823165809885 and parameters: {'x': 1.0334667411294478, 'y': 0.8641034549148395}. Best is trial 165 with value: 0.0010878022328116284.\n",
            "[I 2023-12-30 21:26:42,555] Trial 449 finished with value: 3.097772499793917 and parameters: {'x': 0.9075336337778499, 'y': 0.6478554555591965}. Best is trial 165 with value: 0.0010878022328116284.\n",
            "[I 2023-12-30 21:26:42,574] Trial 450 finished with value: 80.3542595594566 and parameters: {'x': 0.9830724267101696, 'y': 1.8628351724590995}. Best is trial 165 with value: 0.0010878022328116284.\n",
            "[I 2023-12-30 21:26:42,593] Trial 451 finished with value: 7.913652477664787 and parameters: {'x': 0.8669682030979702, 'y': 1.0326312854322524}. Best is trial 165 with value: 0.0010878022328116284.\n",
            "[I 2023-12-30 21:26:42,615] Trial 452 finished with value: 5.040955338236236 and parameters: {'x': 1.0820985627797088, 'y': 0.9465667318872106}. Best is trial 165 with value: 0.0010878022328116284.\n",
            "[I 2023-12-30 21:26:42,634] Trial 453 finished with value: 7.340876368397432 and parameters: {'x': 0.7401762096786837, 'y': 0.817552644876249}. Best is trial 165 with value: 0.0010878022328116284.\n",
            "[I 2023-12-30 21:26:42,652] Trial 454 finished with value: 7.14881025336842 and parameters: {'x': 0.9529943971215736, 'y': 1.175529589723503}. Best is trial 165 with value: 0.0010878022328116284.\n",
            "[I 2023-12-30 21:26:42,673] Trial 455 finished with value: 6.01424767493197 and parameters: {'x': 1.1524969487696177, 'y': 1.0834841794782237}. Best is trial 165 with value: 0.0010878022328116284.\n",
            "[I 2023-12-30 21:26:42,693] Trial 456 finished with value: 5.620785025120453 and parameters: {'x': 0.874585146469254, 'y': 1.0016491760937978}. Best is trial 165 with value: 0.0010878022328116284.\n",
            "[I 2023-12-30 21:26:42,712] Trial 457 finished with value: 2.8633666263982813 and parameters: {'x': 1.0344664909090318, 'y': 0.9009411735800394}. Best is trial 165 with value: 0.0010878022328116284.\n",
            "[I 2023-12-30 21:26:42,729] Trial 458 finished with value: 18.46472588470676 and parameters: {'x': 1.0701310518017355, 'y': 0.7155316868114898}. Best is trial 165 with value: 0.0010878022328116284.\n",
            "[I 2023-12-30 21:26:42,751] Trial 459 finished with value: 21.584477634533965 and parameters: {'x': 0.7782946904233197, 'y': 1.0698043062810358}. Best is trial 165 with value: 0.0010878022328116284.\n",
            "[I 2023-12-30 21:26:42,770] Trial 460 finished with value: 30.847260764810777 and parameters: {'x': 1.2279812179649592, 'y': 0.9530028725165509}. Best is trial 165 with value: 0.0010878022328116284.\n",
            "[I 2023-12-30 21:26:42,789] Trial 461 finished with value: 110.13027282467613 and parameters: {'x': -0.4577288813464081, 'y': 1.2487717094757804}. Best is trial 165 with value: 0.0010878022328116284.\n",
            "[I 2023-12-30 21:26:42,807] Trial 462 finished with value: 0.5002978906906815 and parameters: {'x': 0.951549324518305, 'y': 0.8348805146955028}. Best is trial 165 with value: 0.0010878022328116284.\n",
            "[I 2023-12-30 21:26:42,829] Trial 463 finished with value: 1.0642727000370402 and parameters: {'x': 1.0255955543278712, 'y': 1.1549780774431333}. Best is trial 165 with value: 0.0010878022328116284.\n",
            "[I 2023-12-30 21:26:42,849] Trial 464 finished with value: 6.61098961028478 and parameters: {'x': 1.1260929728380042, 'y': 1.0112763070684454}. Best is trial 165 with value: 0.0010878022328116284.\n",
            "[I 2023-12-30 21:26:42,869] Trial 465 finished with value: 1003.7208285591479 and parameters: {'x': 1.986218908216411, 'y': 0.7784455854870671}. Best is trial 165 with value: 0.0010878022328116284.\n",
            "[I 2023-12-30 21:26:42,890] Trial 466 finished with value: 80.93448745296924 and parameters: {'x': -0.0956397298222843, 'y': 0.9020862673665593}. Best is trial 165 with value: 0.0010878022328116284.\n",
            "[I 2023-12-30 21:26:42,908] Trial 467 finished with value: 12.5277767604188 and parameters: {'x': 0.8597837253905793, 'y': 1.0928962062039587}. Best is trial 165 with value: 0.0010878022328116284.\n",
            "[I 2023-12-30 21:26:42,928] Trial 468 finished with value: 0.31421868201060293 and parameters: {'x': 0.9552810588251416, 'y': 0.9684384526315293}. Best is trial 165 with value: 0.0010878022328116284.\n",
            "[I 2023-12-30 21:26:42,947] Trial 469 finished with value: 14.069838046303731 and parameters: {'x': 1.018994815779805, 'y': 0.6632574162123129}. Best is trial 165 with value: 0.0010878022328116284.\n",
            "[I 2023-12-30 21:26:42,967] Trial 470 finished with value: 0.08192343912302741 and parameters: {'x': 0.9093889768848868, 'y': 0.8541384644308857}. Best is trial 165 with value: 0.0010878022328116284.\n",
            "[I 2023-12-30 21:26:42,987] Trial 471 finished with value: 114.2775073179181 and parameters: {'x': 1.4555122095441664, 'y': 1.0504801375546626}. Best is trial 165 with value: 0.0010878022328116284.\n",
            "[I 2023-12-30 21:26:43,006] Trial 472 finished with value: 23.04385077232167 and parameters: {'x': 0.8242248462577544, 'y': 1.159064783915457}. Best is trial 165 with value: 0.0010878022328116284.\n",
            "[I 2023-12-30 21:26:43,024] Trial 473 finished with value: 40.977373552070326 and parameters: {'x': 1.1823918069825388, 'y': 0.7581745630412862}. Best is trial 165 with value: 0.0010878022328116284.\n",
            "[I 2023-12-30 21:26:43,044] Trial 474 finished with value: 474.4222746565311 and parameters: {'x': 0.6866932014869025, 'y': -1.706350776859157}. Best is trial 165 with value: 0.0010878022328116284.\n",
            "[I 2023-12-30 21:26:43,062] Trial 475 finished with value: 6.97499055470999 and parameters: {'x': 1.088392726443874, 'y': 0.9206446158008654}. Best is trial 165 with value: 0.0010878022328116284.\n",
            "[I 2023-12-30 21:26:43,086] Trial 476 finished with value: 42.61823341948573 and parameters: {'x': 1.2797391203689708, 'y': 0.9855054194209762}. Best is trial 165 with value: 0.0010878022328116284.\n",
            "[I 2023-12-30 21:26:43,105] Trial 477 finished with value: 22.27848845300787 and parameters: {'x': 0.9725609446056279, 'y': 1.4178677522676637}. Best is trial 165 with value: 0.0010878022328116284.\n",
            "[I 2023-12-30 21:26:43,123] Trial 478 finished with value: 15.651037928683303 and parameters: {'x': 0.9185484854938564, 'y': 1.2392613895968767}. Best is trial 165 with value: 0.0010878022328116284.\n",
            "[I 2023-12-30 21:26:43,143] Trial 479 finished with value: 0.007720252423112511 and parameters: {'x': 1.051708843304951, 'y': 1.0989876555393348}. Best is trial 165 with value: 0.0010878022328116284.\n",
            "[I 2023-12-30 21:26:43,165] Trial 480 finished with value: 2.1190268435385473 and parameters: {'x': 1.1290978079327265, 'y': 1.1298666668710815}. Best is trial 165 with value: 0.0010878022328116284.\n",
            "[I 2023-12-30 21:26:43,184] Trial 481 finished with value: 0.6586991220496574 and parameters: {'x': 1.0653644825894895, 'y': 1.2158981189173896}. Best is trial 165 with value: 0.0010878022328116284.\n",
            "[I 2023-12-30 21:26:43,203] Trial 482 finished with value: 2.2649940628063705 and parameters: {'x': 1.2049786246720027, 'y': 1.3028769458414198}. Best is trial 165 with value: 0.0010878022328116284.\n",
            "[I 2023-12-30 21:26:43,221] Trial 483 finished with value: 0.0010043517258578555 and parameters: {'x': 1.0316624807433843, 'y': 1.0644630853469046}. Best is trial 483 with value: 0.0010043517258578555.\n",
            "[I 2023-12-30 21:26:43,242] Trial 484 finished with value: 1.616882142053993 and parameters: {'x': 1.1031821951100502, 'y': 1.0902736060747784}. Best is trial 483 with value: 0.0010043517258578555.\n",
            "[I 2023-12-30 21:26:43,262] Trial 485 finished with value: 0.06521767857095934 and parameters: {'x': 1.0228834906951305, 'y': 1.0208556155003814}. Best is trial 483 with value: 0.0010043517258578555.\n",
            "[I 2023-12-30 21:26:43,283] Trial 486 finished with value: 36.70755631461296 and parameters: {'x': 1.313802039955834, 'y': 1.121021384504294}. Best is trial 483 with value: 0.0010043517258578555.\n",
            "[I 2023-12-30 21:26:43,315] Trial 487 finished with value: 3.9291214912973698 and parameters: {'x': 1.1751106319746951, 'y': 1.1834398718927375}. Best is trial 483 with value: 0.0010043517258578555.\n",
            "[I 2023-12-30 21:26:43,333] Trial 488 finished with value: 0.0021560797546543438 and parameters: {'x': 1.0096379090892342, 'y': 1.0239109431124072}. Best is trial 483 with value: 0.0010043517258578555.\n",
            "[I 2023-12-30 21:26:43,354] Trial 489 finished with value: 12.449610171250207 and parameters: {'x': 0.7883790716253449, 'y': 0.9737464264422069}. Best is trial 483 with value: 0.0010043517258578555.\n",
            "[I 2023-12-30 21:26:43,372] Trial 490 finished with value: 0.2883068878262697 and parameters: {'x': 0.9947008518190312, 'y': 1.043121386080763}. Best is trial 483 with value: 0.0010043517258578555.\n",
            "[I 2023-12-30 21:26:43,393] Trial 491 finished with value: 3.6929854534164437 and parameters: {'x': 0.8474588082600009, 'y': 0.909751476479618}. Best is trial 483 with value: 0.0010043517258578555.\n",
            "[I 2023-12-30 21:26:43,416] Trial 492 finished with value: 0.4930174755467745 and parameters: {'x': 0.988519504088844, 'y': 1.0473766269424505}. Best is trial 483 with value: 0.0010043517258578555.\n",
            "[I 2023-12-30 21:26:43,440] Trial 493 finished with value: 4.0726129479031945 and parameters: {'x': 0.8865133252295483, 'y': 0.9873936849333969}. Best is trial 483 with value: 0.0010043517258578555.\n",
            "[I 2023-12-30 21:26:43,464] Trial 494 finished with value: 7.668093958930041 and parameters: {'x': 1.0869057079910365, 'y': 0.9045871881653161}. Best is trial 483 with value: 0.0010043517258578555.\n",
            "[I 2023-12-30 21:26:43,483] Trial 495 finished with value: 3.1084723389904902 and parameters: {'x': 0.9505621767146013, 'y': 1.0798077278037734}. Best is trial 483 with value: 0.0010043517258578555.\n",
            "[I 2023-12-30 21:26:43,504] Trial 496 finished with value: 1.5718563155970349 and parameters: {'x': 1.0395712924574712, 'y': 0.9553972424209426}. Best is trial 483 with value: 0.0010043517258578555.\n",
            "[I 2023-12-30 21:26:43,524] Trial 497 finished with value: 6.066726748205281 and parameters: {'x': 0.751895820002536, 'y': 0.8104018295860344}. Best is trial 483 with value: 0.0010043517258578555.\n",
            "[I 2023-12-30 21:26:43,544] Trial 498 finished with value: 6.777640886241415 and parameters: {'x': 0.8771567993614234, 'y': 1.029453092854143}. Best is trial 483 with value: 0.0010043517258578555.\n",
            "[I 2023-12-30 21:26:43,565] Trial 499 finished with value: 13.24260402617182 and parameters: {'x': 1.1190419127941083, 'y': 0.8885456736259655}. Best is trial 483 with value: 0.0010043517258578555.\n",
            "[I 2023-12-30 21:26:43,583] Trial 500 finished with value: 14.946316446617503 and parameters: {'x': 0.9956215600816296, 'y': 0.6046578771133817}. Best is trial 483 with value: 0.0010043517258578555.\n",
            "[I 2023-12-30 21:26:43,607] Trial 501 finished with value: 11.00887007471603 and parameters: {'x': 0.9144157608137764, 'y': 1.1678419598152807}. Best is trial 483 with value: 0.0010043517258578555.\n",
            "[I 2023-12-30 21:26:43,628] Trial 502 finished with value: 568.4144725544072 and parameters: {'x': 1.2212010232141974, 'y': -0.8927098865859942}. Best is trial 483 with value: 0.0010043517258578555.\n",
            "[I 2023-12-30 21:26:43,647] Trial 503 finished with value: 3.394767263135204 and parameters: {'x': -0.8384647956359572, 'y': 0.7151946794730006}. Best is trial 483 with value: 0.0010043517258578555.\n",
            "[I 2023-12-30 21:26:43,667] Trial 504 finished with value: 10.321725056458634 and parameters: {'x': 0.8031908042301714, 'y': 0.9657865018791651}. Best is trial 483 with value: 0.0010043517258578555.\n",
            "[I 2023-12-30 21:26:43,686] Trial 505 finished with value: 0.04833153519965803 and parameters: {'x': 1.044520364229275, 'y': 1.112551718891503}. Best is trial 483 with value: 0.0010043517258578555.\n",
            "[I 2023-12-30 21:26:43,710] Trial 506 finished with value: 185.62320170247136 and parameters: {'x': 1.145317205866857, 'y': -0.0506070579879932}. Best is trial 483 with value: 0.0010043517258578555.\n",
            "[I 2023-12-30 21:26:43,731] Trial 507 finished with value: 1.002166342472245 and parameters: {'x': 0.9797712065811179, 'y': 0.8598637988862876}. Best is trial 483 with value: 0.0010043517258578555.\n",
            "[I 2023-12-30 21:26:43,752] Trial 508 finished with value: 12.154563585576215 and parameters: {'x': 0.6681692422892571, 'y': 0.7935013131700246}. Best is trial 483 with value: 0.0010043517258578555.\n",
            "[I 2023-12-30 21:26:43,773] Trial 509 finished with value: 7.077092971851553 and parameters: {'x': 0.8780953283837523, 'y': 1.036800012929665}. Best is trial 483 with value: 0.0010043517258578555.\n",
            "[I 2023-12-30 21:26:43,793] Trial 510 finished with value: 1.922445465222701 and parameters: {'x': 1.0523889760301308, 'y': 1.2460758267847232}. Best is trial 483 with value: 0.0010043517258578555.\n",
            "[I 2023-12-30 21:26:43,814] Trial 511 finished with value: 0.7749095689962164 and parameters: {'x': 0.9306095053084119, 'y': 0.9537890813255027}. Best is trial 483 with value: 0.0010043517258578555.\n",
            "[I 2023-12-30 21:26:43,833] Trial 512 finished with value: 19.246334129380067 and parameters: {'x': 0.8149134364726928, 'y': 1.1023997436266904}. Best is trial 483 with value: 0.0010043517258578555.\n",
            "[I 2023-12-30 21:26:43,852] Trial 513 finished with value: 12.77868363489227 and parameters: {'x': 1.1191791457215015, 'y': 0.8952878362442115}. Best is trial 483 with value: 0.0010043517258578555.\n",
            "[I 2023-12-30 21:26:43,871] Trial 514 finished with value: 16.323514551292575 and parameters: {'x': 0.9630063572508538, 'y': 1.3313880017432096}. Best is trial 483 with value: 0.0010043517258578555.\n",
            "[I 2023-12-30 21:26:43,892] Trial 515 finished with value: 0.6596795661257875 and parameters: {'x': 1.052058770042601, 'y': 1.0257740036029634}. Best is trial 483 with value: 0.0010043517258578555.\n",
            "[I 2023-12-30 21:26:43,916] Trial 516 finished with value: 7.285793800182392 and parameters: {'x': 1.200906566172314, 'y': 1.1730032099302448}. Best is trial 483 with value: 0.0010043517258578555.\n",
            "[I 2023-12-30 21:26:43,936] Trial 517 finished with value: 0.028646817947184273 and parameters: {'x': 0.8771238246560495, 'y': 0.7577065029755299}. Best is trial 483 with value: 0.0010043517258578555.\n",
            "[I 2023-12-30 21:26:43,957] Trial 518 finished with value: 3.8792299744637084 and parameters: {'x': 0.9990637049370973, 'y': 0.8011706997732262}. Best is trial 483 with value: 0.0010043517258578555.\n",
            "[I 2023-12-30 21:26:43,979] Trial 519 finished with value: 14.755624305479678 and parameters: {'x': -1.123626602544182, 'y': 0.9424455930756888}. Best is trial 483 with value: 0.0010043517258578555.\n",
            "[I 2023-12-30 21:26:44,005] Trial 520 finished with value: 4.0679593768461295 and parameters: {'x': 0.8994715656073831, 'y': 1.010490240371196}. Best is trial 483 with value: 0.0010043517258578555.\n",
            "[I 2023-12-30 21:26:44,027] Trial 521 finished with value: 1.0516408120372158 and parameters: {'x': 1.0977181348456768, 'y': 1.10290219715671}. Best is trial 483 with value: 0.0010043517258578555.\n",
            "[I 2023-12-30 21:26:44,047] Trial 522 finished with value: 1.4104220229329192 and parameters: {'x': 0.9784720819587227, 'y': 0.8386659387621316}. Best is trial 483 with value: 0.0010043517258578555.\n",
            "[I 2023-12-30 21:26:44,069] Trial 523 finished with value: 3.7589548687749734 and parameters: {'x': 0.7283301993674766, 'y': 0.7224323345784623}. Best is trial 483 with value: 0.0010043517258578555.\n",
            "[I 2023-12-30 21:26:44,089] Trial 524 finished with value: 2.8640992827782936 and parameters: {'x': 0.8584591289751836, 'y': 0.9055956489188427}. Best is trial 483 with value: 0.0010043517258578555.\n",
            "[I 2023-12-30 21:26:44,108] Trial 525 finished with value: 17.590371560110313 and parameters: {'x': 1.2702666640897875, 'y': 1.1950403327483399}. Best is trial 483 with value: 0.0010043517258578555.\n",
            "[I 2023-12-30 21:26:44,127] Trial 526 finished with value: 8.833807680712033 and parameters: {'x': 1.1417589046417407, 'y': 1.0067344295145055}. Best is trial 483 with value: 0.0010043517258578555.\n",
            "[I 2023-12-30 21:26:44,146] Trial 527 finished with value: 0.03723353068063699 and parameters: {'x': 1.0368896772636482, 'y': 1.0940802879244913}. Best is trial 483 with value: 0.0010043517258578555.\n",
            "[I 2023-12-30 21:26:44,165] Trial 528 finished with value: 0.927193170265401 and parameters: {'x': 0.9188194989752358, 'y': 0.9401773251697387}. Best is trial 483 with value: 0.0010043517258578555.\n",
            "[I 2023-12-30 21:26:44,184] Trial 529 finished with value: 3.175043104683796 and parameters: {'x': 0.9839301736092082, 'y': 0.7899393266523297}. Best is trial 483 with value: 0.0010043517258578555.\n",
            "[I 2023-12-30 21:26:44,204] Trial 530 finished with value: 35.78135279195025 and parameters: {'x': 0.8144254187831729, 'y': 1.2611760001783443}. Best is trial 483 with value: 0.0010043517258578555.\n",
            "[I 2023-12-30 21:26:44,222] Trial 531 finished with value: 0.19010616579487732 and parameters: {'x': 1.0519036394720316, 'y': 1.0632101385435664}. Best is trial 483 with value: 0.0010043517258578555.\n",
            "[I 2023-12-30 21:26:44,243] Trial 532 finished with value: 0.2810379214087918 and parameters: {'x': 0.9074922905210211, 'y': 0.8757418976886917}. Best is trial 483 with value: 0.0010043517258578555.\n",
            "[I 2023-12-30 21:26:44,264] Trial 533 finished with value: 12.734363403172164 and parameters: {'x': 1.1650088639510288, 'y': 1.0007749603481666}. Best is trial 483 with value: 0.0010043517258578555.\n",
            "[I 2023-12-30 21:26:44,284] Trial 534 finished with value: 467.5526576798788 and parameters: {'x': -1.813475414581776, 'y': 1.144778403351772}. Best is trial 483 with value: 0.0010043517258578555.\n",
            "[I 2023-12-30 21:26:44,305] Trial 535 finished with value: 11.15151533347012 and parameters: {'x': 0.9794201453048443, 'y': 0.6253313158269254}. Best is trial 483 with value: 0.0010043517258578555.\n",
            "[I 2023-12-30 21:26:44,337] Trial 536 finished with value: 383.25624485238154 and parameters: {'x': 1.113440463531951, 'y': -0.7179106114232288}. Best is trial 483 with value: 0.0010043517258578555.\n",
            "[I 2023-12-30 21:26:44,358] Trial 537 finished with value: 14.520447368652182 and parameters: {'x': 0.7580276048756388, 'y': 0.9548938554629857}. Best is trial 483 with value: 0.0010043517258578555.\n",
            "[I 2023-12-30 21:26:44,377] Trial 538 finished with value: 0.08260336467877344 and parameters: {'x': 0.8674888752513181, 'y': 0.7270331908250987}. Best is trial 483 with value: 0.0010043517258578555.\n",
            "[I 2023-12-30 21:26:44,398] Trial 539 finished with value: 5.067648324637874 and parameters: {'x': 1.0469329564272813, 'y': 0.871003166500569}. Best is trial 483 with value: 0.0010043517258578555.\n",
            "[I 2023-12-30 21:26:44,424] Trial 540 finished with value: 2.0781999717440445 and parameters: {'x': 0.9584890233197877, 'y': 1.0628010624586977}. Best is trial 483 with value: 0.0010043517258578555.\n",
            "[I 2023-12-30 21:26:44,445] Trial 541 finished with value: 10.40172808215857 and parameters: {'x': 1.2120260258713906, 'y': 1.147187680788445}. Best is trial 483 with value: 0.0010043517258578555.\n",
            "[I 2023-12-30 21:26:44,465] Trial 542 finished with value: 8.119687586626416 and parameters: {'x': 1.0465573485729558, 'y': 0.8103696656702648}. Best is trial 483 with value: 0.0010043517258578555.\n",
            "[I 2023-12-30 21:26:44,485] Trial 543 finished with value: 1.664415038307473 and parameters: {'x': 0.9157646493210634, 'y': 0.9673618124371398}. Best is trial 483 with value: 0.0010043517258578555.\n",
            "[I 2023-12-30 21:26:44,505] Trial 544 finished with value: 119.05548294167781 and parameters: {'x': 0.8290025364185593, 'y': -0.40374628316284233}. Best is trial 483 with value: 0.0010043517258578555.\n",
            "[I 2023-12-30 21:26:44,523] Trial 545 finished with value: 0.1907690973705402 and parameters: {'x': 1.086091669302773, 'y': 1.2224153572210479}. Best is trial 483 with value: 0.0010043517258578555.\n",
            "[I 2023-12-30 21:26:44,544] Trial 546 finished with value: 44.08107272169601 and parameters: {'x': 0.6354387228493952, 'y': 1.066716513506908}. Best is trial 483 with value: 0.0010043517258578555.\n",
            "[I 2023-12-30 21:26:44,564] Trial 547 finished with value: 83.2405095367051 and parameters: {'x': 1.3549952848880624, 'y': 0.9243407467861877}. Best is trial 483 with value: 0.0010043517258578555.\n",
            "[I 2023-12-30 21:26:44,585] Trial 548 finished with value: 3.31577775638379 and parameters: {'x': 0.9659244747899326, 'y': 0.7509492051669707}. Best is trial 483 with value: 0.0010043517258578555.\n",
            "[I 2023-12-30 21:26:44,604] Trial 549 finished with value: 7.659224515270071 and parameters: {'x': 1.1418003091117201, 'y': 1.0273184166430065}. Best is trial 483 with value: 0.0010043517258578555.\n",
            "[I 2023-12-30 21:26:44,627] Trial 550 finished with value: 28.31544324433789 and parameters: {'x': 0.8981573686269921, 'y': 1.3387117646436117}. Best is trial 483 with value: 0.0010043517258578555.\n",
            "[I 2023-12-30 21:26:44,647] Trial 551 finished with value: 2.3065271050360936 and parameters: {'x': 1.0030724323355105, 'y': 0.8542820665877658}. Best is trial 483 with value: 0.0010043517258578555.\n",
            "[I 2023-12-30 21:26:44,667] Trial 552 finished with value: 30.198296221002103 and parameters: {'x': 0.7732359850542083, 'y': 1.1469555818607273}. Best is trial 483 with value: 0.0010043517258578555.\n",
            "[I 2023-12-30 21:26:44,687] Trial 553 finished with value: 35.83054191418732 and parameters: {'x': 1.2639703035235768, 'y': 0.9996170687283167}. Best is trial 483 with value: 0.0010043517258578555.\n",
            "[I 2023-12-30 21:26:44,711] Trial 554 finished with value: 5.063117223678147 and parameters: {'x': 1.0753110590258566, 'y': 0.931406224645704}. Best is trial 483 with value: 0.0010043517258578555.\n",
            "[I 2023-12-30 21:26:44,733] Trial 555 finished with value: 13.870746379693426 and parameters: {'x': 0.8572716766061135, 'y': 1.107075647079388}. Best is trial 483 with value: 0.0010043517258578555.\n",
            "[I 2023-12-30 21:26:44,752] Trial 556 finished with value: 2.2706877562228804 and parameters: {'x': 0.9902638532982612, 'y': 0.8299376305102856}. Best is trial 483 with value: 0.0010043517258578555.\n",
            "[I 2023-12-30 21:26:44,772] Trial 557 finished with value: 1.3577393301342155 and parameters: {'x': 1.157276001849758, 'y': 1.2238319698345053}. Best is trial 483 with value: 0.0010043517258578555.\n",
            "[I 2023-12-30 21:26:44,794] Trial 558 finished with value: 1.444186319238363 and parameters: {'x': 0.9348032085423668, 'y': 0.9938543594054424}. Best is trial 483 with value: 0.0010043517258578555.\n",
            "[I 2023-12-30 21:26:44,816] Trial 559 finished with value: 19.550393752778927 and parameters: {'x': 1.0433583095797614, 'y': 0.6464595493578446}. Best is trial 483 with value: 0.0010043517258578555.\n",
            "[I 2023-12-30 21:26:44,835] Trial 560 finished with value: 15.30023533219112 and parameters: {'x': 0.7106800500104546, 'y': 0.8951498334592798}. Best is trial 483 with value: 0.0010043517258578555.\n",
            "[I 2023-12-30 21:26:44,858] Trial 561 finished with value: 15.420920693065895 and parameters: {'x': 0.8138628989841008, 'y': 1.0546262271577096}. Best is trial 483 with value: 0.0010043517258578555.\n",
            "[I 2023-12-30 21:26:44,881] Trial 562 finished with value: 1.1122575674423563 and parameters: {'x': 0.926660186111925, 'y': 0.7534907910080478}. Best is trial 483 with value: 0.0010043517258578555.\n",
            "[I 2023-12-30 21:26:44,901] Trial 563 finished with value: 0.11030022309810383 and parameters: {'x': 1.0828248890482597, 'y': 1.1403476103052892}. Best is trial 483 with value: 0.0010043517258578555.\n",
            "[I 2023-12-30 21:26:44,926] Trial 564 finished with value: 0.42229797180954914 and parameters: {'x': 1.0166570266678616, 'y': 0.9686284037842089}. Best is trial 483 with value: 0.0010043517258578555.\n",
            "[I 2023-12-30 21:26:44,947] Trial 565 finished with value: 31.184998220785907 and parameters: {'x': 1.2021400612441133, 'y': 0.88707139767441}. Best is trial 483 with value: 0.0010043517258578555.\n",
            "[I 2023-12-30 21:26:44,969] Trial 566 finished with value: 8.210630503207703 and parameters: {'x': 0.8773385397396952, 'y': 1.0560022291803974}. Best is trial 483 with value: 0.0010043517258578555.\n",
            "[I 2023-12-30 21:26:44,991] Trial 567 finished with value: 0.1359423228088326 and parameters: {'x': 1.1187204467698815, 'y': 1.2864421391437952}. Best is trial 483 with value: 0.0010043517258578555.\n",
            "[I 2023-12-30 21:26:45,011] Trial 568 finished with value: 1.8525831256406486 and parameters: {'x': 0.9715275076708607, 'y': 0.8077858523785691}. Best is trial 483 with value: 0.0010043517258578555.\n",
            "[I 2023-12-30 21:26:45,032] Trial 569 finished with value: 28.128530869755398 and parameters: {'x': -0.19886072137043498, 'y': 0.5561814722156628}. Best is trial 483 with value: 0.0010043517258578555.\n",
            "[I 2023-12-30 21:26:45,052] Trial 570 finished with value: 92.66806939005578 and parameters: {'x': 0.8478490273665729, 'y': -0.2436743354783082}. Best is trial 483 with value: 0.0010043517258578555.\n",
            "[I 2023-12-30 21:26:45,076] Trial 571 finished with value: 61.94846064880067 and parameters: {'x': 0.4061095378515541, 'y': 0.9497545864484382}. Best is trial 483 with value: 0.0010043517258578555.\n",
            "[I 2023-12-30 21:26:45,096] Trial 572 finished with value: 121.64228549412456 and parameters: {'x': -0.3063953637747643, 'y': 1.1890293260717695}. Best is trial 483 with value: 0.0010043517258578555.\n",
            "[I 2023-12-30 21:26:45,116] Trial 573 finished with value: 0.0820283615999981 and parameters: {'x': 1.0286464512957012, 'y': 1.086610493958222}. Best is trial 483 with value: 0.0010043517258578555.\n",
            "[I 2023-12-30 21:26:45,137] Trial 574 finished with value: 0.03277868325445439 and parameters: {'x': 0.9439070353091323, 'y': 0.8737464672074973}. Best is trial 483 with value: 0.0010043517258578555.\n",
            "[I 2023-12-30 21:26:45,159] Trial 575 finished with value: 38.10460960654561 and parameters: {'x': 1.1339144038113862, 'y': 0.6686178357522763}. Best is trial 483 with value: 0.0010043517258578555.\n",
            "[I 2023-12-30 21:26:45,182] Trial 576 finished with value: 3.3563435388311986 and parameters: {'x': 0.7463198411771146, 'y': 0.7384317223209707}. Best is trial 483 with value: 0.0010043517258578555.\n",
            "[I 2023-12-30 21:26:45,202] Trial 577 finished with value: 1.66550636609014 and parameters: {'x': 0.9414738484198945, 'y': 1.0152947298529904}. Best is trial 483 with value: 0.0010043517258578555.\n",
            "[I 2023-12-30 21:26:45,225] Trial 578 finished with value: 6.4265368420786775 and parameters: {'x': 1.0397944150412486, 'y': 0.827697510685414}. Best is trial 483 with value: 0.0010043517258578555.\n",
            "[I 2023-12-30 21:26:45,245] Trial 579 finished with value: 13.522555531144922 and parameters: {'x': 1.2233500429245847, 'y': 1.1295339647762082}. Best is trial 483 with value: 0.0010043517258578555.\n",
            "[I 2023-12-30 21:26:45,265] Trial 580 finished with value: 40.61970877884555 and parameters: {'x': 0.8692603422285656, 'y': 1.3928153624112491}. Best is trial 483 with value: 0.0010043517258578555.\n",
            "[I 2023-12-30 21:26:45,287] Trial 581 finished with value: 6.571896201277829 and parameters: {'x': 1.0894267092987702, 'y': 0.9306494802882244}. Best is trial 483 with value: 0.0010043517258578555.\n",
            "[I 2023-12-30 21:26:45,311] Trial 582 finished with value: 0.4114744644795797 and parameters: {'x': 0.9741035561255621, 'y': 1.0129717189497012}. Best is trial 483 with value: 0.0010043517258578555.\n",
            "[I 2023-12-30 21:26:45,335] Trial 583 finished with value: 4.605424217452502 and parameters: {'x': 0.7986838687582376, 'y': 0.8515520953703375}. Best is trial 483 with value: 0.0010043517258578555.\n",
            "[I 2023-12-30 21:26:45,366] Trial 584 finished with value: 3.84604684675293 and parameters: {'x': 1.015975332942826, 'y': 1.2283127774728362}. Best is trial 483 with value: 0.0010043517258578555.\n",
            "[I 2023-12-30 21:26:45,394] Trial 585 finished with value: 7.076695418875619 and parameters: {'x': 0.9104528854727897, 'y': 1.0947942882216137}. Best is trial 483 with value: 0.0010043517258578555.\n",
            "[I 2023-12-30 21:26:45,416] Trial 586 finished with value: 35.54879335880568 and parameters: {'x': 1.170159063429082, 'y': 0.7732870052846328}. Best is trial 483 with value: 0.0010043517258578555.\n",
            "[I 2023-12-30 21:26:45,439] Trial 587 finished with value: 952.4631601543111 and parameters: {'x': 1.1007285323199854, 'y': -1.8745804482025998}. Best is trial 483 with value: 0.0010043517258578555.\n",
            "[I 2023-12-30 21:26:45,462] Trial 588 finished with value: 0.10687837751346405 and parameters: {'x': 0.9614103335781553, 'y': 0.9567735346535133}. Best is trial 483 with value: 0.0010043517258578555.\n",
            "[I 2023-12-30 21:26:45,485] Trial 589 finished with value: 10.726875705345668 and parameters: {'x': 0.837017246540708, 'y': 1.0277111897115976}. Best is trial 483 with value: 0.0010043517258578555.\n",
            "[I 2023-12-30 21:26:45,510] Trial 590 finished with value: 0.3700484765981224 and parameters: {'x': 1.045455758983146, 'y': 1.1536392845726322}. Best is trial 483 with value: 0.0010043517258578555.\n",
            "[I 2023-12-30 21:26:45,534] Trial 591 finished with value: 58.885226723477714 and parameters: {'x': 1.2801850505761685, 'y': 0.8720183467011878}. Best is trial 483 with value: 0.0010043517258578555.\n",
            "[I 2023-12-30 21:26:45,553] Trial 592 finished with value: 1.508998297112869 and parameters: {'x': 0.9007799039990211, 'y': 0.9338443664212865}. Best is trial 483 with value: 0.0010043517258578555.\n",
            "[I 2023-12-30 21:26:45,575] Trial 593 finished with value: 51.05615205753871 and parameters: {'x': -0.02998197260745026, 'y': 0.7079723886521462}. Best is trial 483 with value: 0.0010043517258578555.\n",
            "[I 2023-12-30 21:26:45,596] Trial 594 finished with value: 32.89173256776778 and parameters: {'x': 0.6981955903078849, 'y': 1.0601955704681822}. Best is trial 483 with value: 0.0010043517258578555.\n",
            "[I 2023-12-30 21:26:45,616] Trial 595 finished with value: 5.64825146225807 and parameters: {'x': 0.9802669971974465, 'y': 1.198575696342039}. Best is trial 483 with value: 0.0010043517258578555.\n",
            "[I 2023-12-30 21:26:45,638] Trial 596 finished with value: 21.049828582478966 and parameters: {'x': 1.130957691363855, 'y': 0.8204513152896513}. Best is trial 483 with value: 0.0010043517258578555.\n",
            "[I 2023-12-30 21:26:45,659] Trial 597 finished with value: 93.11841759606588 and parameters: {'x': 1.3985748755563447, 'y': 0.9918563233517944}. Best is trial 483 with value: 0.0010043517258578555.\n",
            "[I 2023-12-30 21:26:45,682] Trial 598 finished with value: 8.461387014675863 and parameters: {'x': 0.7751516461572919, 'y': 0.8908743885396876}. Best is trial 483 with value: 0.0010043517258578555.\n",
            "[I 2023-12-30 21:26:45,706] Trial 599 finished with value: 87.21995097715053 and parameters: {'x': -1.592727919451058, 'y': 1.639577048681499}. Best is trial 483 with value: 0.0010043517258578555.\n",
            "[I 2023-12-30 21:26:45,727] Trial 600 finished with value: 0.16166756644286817 and parameters: {'x': 1.0622129581400854, 'y': 1.0885726835307823}. Best is trial 483 with value: 0.0010043517258578555.\n",
            "[I 2023-12-30 21:26:45,747] Trial 601 finished with value: 23.324256142345547 and parameters: {'x': 0.8997506067965786, 'y': 1.292399020756302}. Best is trial 483 with value: 0.0010043517258578555.\n",
            "[I 2023-12-30 21:26:45,767] Trial 602 finished with value: 0.05466110532439722 and parameters: {'x': 1.0020411662029993, 'y': 0.9807076752354155}. Best is trial 483 with value: 0.0010043517258578555.\n",
            "[I 2023-12-30 21:26:45,787] Trial 603 finished with value: 42.727939049100264 and parameters: {'x': 1.1893907021409704, 'y': 0.7612585511537525}. Best is trial 483 with value: 0.0010043517258578555.\n",
            "[I 2023-12-30 21:26:45,808] Trial 604 finished with value: 1.481645793774076 and parameters: {'x': 0.8664236462069996, 'y': 0.6297022017961653}. Best is trial 483 with value: 0.0010043517258578555.\n",
            "[I 2023-12-30 21:26:45,836] Trial 605 finished with value: 3.9886689327855356 and parameters: {'x': 0.9757576035012703, 'y': 1.1518047094703219}. Best is trial 483 with value: 0.0010043517258578555.\n",
            "[I 2023-12-30 21:26:45,858] Trial 606 finished with value: 6.266010558177708 and parameters: {'x': 1.0767091070084471, 'y': 0.909100057660039}. Best is trial 483 with value: 0.0010043517258578555.\n",
            "[I 2023-12-30 21:26:45,882] Trial 607 finished with value: 15.237103486581121 and parameters: {'x': 0.8126064368847263, 'y': 1.0502264787470235}. Best is trial 483 with value: 0.0010043517258578555.\n",
            "[I 2023-12-30 21:26:45,905] Trial 608 finished with value: 19.723561851410395 and parameters: {'x': 0.620551422685757, 'y': 0.8275722672330043}. Best is trial 483 with value: 0.0010043517258578555.\n",
            "[I 2023-12-30 21:26:45,925] Trial 609 finished with value: 1.774543537478594 and parameters: {'x': 0.9218836233824208, 'y': 0.9828521721829211}. Best is trial 483 with value: 0.0010043517258578555.\n",
            "[I 2023-12-30 21:26:45,946] Trial 610 finished with value: 2.787217722541806 and parameters: {'x': 1.123000487879272, 'y': 1.0946341918477893}. Best is trial 483 with value: 0.0010043517258578555.\n",
            "[I 2023-12-30 21:26:45,964] Trial 611 finished with value: 1.7234287625342108 and parameters: {'x': 1.0195512817332473, 'y': 0.9082199498813779}. Best is trial 483 with value: 0.0010043517258578555.\n",
            "[I 2023-12-30 21:26:45,993] Trial 612 finished with value: 9.678222909570634 and parameters: {'x': 0.9393937861143661, 'y': 1.1935000686910011}. Best is trial 483 with value: 0.0010043517258578555.\n",
            "[I 2023-12-30 21:26:46,020] Trial 613 finished with value: 20.23325257213161 and parameters: {'x': 1.2173408561310648, 'y': 1.0326302611058438}. Best is trial 483 with value: 0.0010043517258578555.\n",
            "[I 2023-12-30 21:26:46,055] Trial 614 finished with value: 13.087719088522178 and parameters: {'x': 1.0439156173797655, 'y': 0.7280169447236718}. Best is trial 483 with value: 0.0010043517258578555.\n",
            "[I 2023-12-30 21:26:46,086] Trial 615 finished with value: 400.82883265940404 and parameters: {'x': 0.8472173180290222, 'y': -1.284235528557517}. Best is trial 483 with value: 0.0010043517258578555.\n",
            "[I 2023-12-30 21:26:46,120] Trial 616 finished with value: 8.907969590871597 and parameters: {'x': 1.1188323512819356, 'y': 0.9535602702846372}. Best is trial 483 with value: 0.0010043517258578555.\n",
            "[I 2023-12-30 21:26:46,156] Trial 617 finished with value: 312.02632413198734 and parameters: {'x': -0.5455414291203186, 'y': -1.4620368608580985}. Best is trial 483 with value: 0.0010043517258578555.\n",
            "[I 2023-12-30 21:26:46,193] Trial 618 finished with value: 1.3026657947142228 and parameters: {'x': 0.9701883129416848, 'y': 0.8271699175224363}. Best is trial 483 with value: 0.0010043517258578555.\n",
            "[I 2023-12-30 21:26:46,227] Trial 619 finished with value: 23.939625219759748 and parameters: {'x': 0.7941699766324696, 'y': 1.1195541820281225}. Best is trial 483 with value: 0.0010043517258578555.\n",
            "[I 2023-12-30 21:26:46,262] Trial 620 finished with value: 18.16708181031307 and parameters: {'x': 0.9005908451823791, 'y': 1.2371765272466828}. Best is trial 483 with value: 0.0010043517258578555.\n",
            "[I 2023-12-30 21:26:46,298] Trial 621 finished with value: 197.21091276330725 and parameters: {'x': 1.512755344789391, 'y': 0.8850471217955282}. Best is trial 483 with value: 0.0010043517258578555.\n",
            "[I 2023-12-30 21:26:46,334] Trial 622 finished with value: 2.7908735045632294 and parameters: {'x': 0.714050083617682, 'y': 0.6744611472431103}. Best is trial 483 with value: 0.0010043517258578555.\n",
            "[I 2023-12-30 21:26:46,363] Trial 623 finished with value: 38.77405020922935 and parameters: {'x': -1.2704436969361605, 'y': 1.0342070802562249}. Best is trial 483 with value: 0.0010043517258578555.\n",
            "[I 2023-12-30 21:26:46,395] Trial 624 finished with value: 50.56101831242789 and parameters: {'x': 1.2932352713282629, 'y': 0.9619996470908003}. Best is trial 483 with value: 0.0010043517258578555.\n",
            "[I 2023-12-30 21:26:46,431] Trial 625 finished with value: 0.18553378195547054 and parameters: {'x': 1.0223201866175025, 'y': 1.0881543274977306}. Best is trial 483 with value: 0.0010043517258578555.\n",
            "[I 2023-12-30 21:26:46,463] Trial 626 finished with value: 59.81537310731031 and parameters: {'x': 1.1555516022380763, 'y': 0.5620519590027222}. Best is trial 483 with value: 0.0010043517258578555.\n",
            "[I 2023-12-30 21:26:46,492] Trial 627 finished with value: 14.001010863044902 and parameters: {'x': 1.0844516456922269, 'y': 0.8019514403187145}. Best is trial 483 with value: 0.0010043517258578555.\n",
            "[I 2023-12-30 21:26:46,526] Trial 628 finished with value: 0.037475279104446556 and parameters: {'x': 0.9490045371499286, 'y': 0.8819348312451192}. Best is trial 483 with value: 0.0010043517258578555.\n",
            "[I 2023-12-30 21:26:46,568] Trial 629 finished with value: 16.947668690875634 and parameters: {'x': 0.8597114623835277, 'y': 1.150540158360205}. Best is trial 483 with value: 0.0010043517258578555.\n",
            "[I 2023-12-30 21:26:46,601] Trial 630 finished with value: 0.02867117227017685 and parameters: {'x': 1.0127540827030592, 'y': 1.0087863700489983}. Best is trial 483 with value: 0.0010043517258578555.\n",
            "[I 2023-12-30 21:26:46,628] Trial 631 finished with value: 1.7664924300635665 and parameters: {'x': 1.1997113927559733, 'y': 1.307906977291776}. Best is trial 483 with value: 0.0010043517258578555.\n",
            "[I 2023-12-30 21:26:46,658] Trial 632 finished with value: 1.1755252566523293 and parameters: {'x': 1.0687199712619166, 'y': 1.0339587346045984}. Best is trial 483 with value: 0.0010043517258578555.\n",
            "[I 2023-12-30 21:26:46,687] Trial 633 finished with value: 1.8478782930046265 and parameters: {'x': 1.0196946926874548, 'y': 1.1756996857880169}. Best is trial 483 with value: 0.0010043517258578555.\n",
            "[I 2023-12-30 21:26:46,715] Trial 634 finished with value: 100.4534310785234 and parameters: {'x': 0.30700438234943783, 'y': 1.0941176225568179}. Best is trial 483 with value: 0.0010043517258578555.\n",
            "[I 2023-12-30 21:26:46,746] Trial 635 finished with value: 6.346502399378628 and parameters: {'x': 1.1044010774344017, 'y': 0.9679955060177845}. Best is trial 483 with value: 0.0010043517258578555.\n",
            "[I 2023-12-30 21:26:46,782] Trial 636 finished with value: 1.6728795551785436 and parameters: {'x': 1.166617297391105, 'y': 1.232733756131731}. Best is trial 483 with value: 0.0010043517258578555.\n",
            "[I 2023-12-30 21:26:46,819] Trial 637 finished with value: 348.56389915380174 and parameters: {'x': 1.6968121847398998, 'y': 1.0134857862595825}. Best is trial 483 with value: 0.0010043517258578555.\n",
            "[I 2023-12-30 21:26:46,852] Trial 638 finished with value: 1.4510130661320273 and parameters: {'x': 0.9895788841978181, 'y': 1.099719863909699}. Best is trial 483 with value: 0.0010043517258578555.\n",
            "[I 2023-12-30 21:26:46,885] Trial 639 finished with value: 0.46300651259629083 and parameters: {'x': 1.0328973755615716, 'y': 0.998911977202562}. Best is trial 483 with value: 0.0010043517258578555.\n",
            "[I 2023-12-30 21:26:46,923] Trial 640 finished with value: 8.740997900622693 and parameters: {'x': 0.9250279186674788, 'y': 1.151233363783012}. Best is trial 483 with value: 0.0010043517258578555.\n",
            "[I 2023-12-30 21:26:46,955] Trial 641 finished with value: 22.653574989663067 and parameters: {'x': 1.2323216231689385, 'y': 1.0432261996333123}. Best is trial 483 with value: 0.0010043517258578555.\n",
            "[I 2023-12-30 21:26:46,986] Trial 642 finished with value: 88.29724974191694 and parameters: {'x': 0.16390466441618268, 'y': 0.9628038093191397}. Best is trial 483 with value: 0.0010043517258578555.\n",
            "[I 2023-12-30 21:26:47,016] Trial 643 finished with value: 7.280781448945898 and parameters: {'x': 1.0937326935279048, 'y': 0.9265848252463278}. Best is trial 483 with value: 0.0010043517258578555.\n",
            "[I 2023-12-30 21:26:47,050] Trial 644 finished with value: 74.41832922480542 and parameters: {'x': 0.8104875467995952, 'y': 1.519342463681359}. Best is trial 483 with value: 0.0010043517258578555.\n",
            "[I 2023-12-30 21:26:47,086] Trial 645 finished with value: 8.669046576515807 and parameters: {'x': 0.8948383294897968, 'y': 1.0949802212535624}. Best is trial 483 with value: 0.0010043517258578555.\n",
            "[I 2023-12-30 21:26:47,120] Trial 646 finished with value: 11.893883002682957 and parameters: {'x': 1.0024817363551155, 'y': 1.3498446358019374}. Best is trial 483 with value: 0.0010043517258578555.\n",
            "[I 2023-12-30 21:26:47,152] Trial 647 finished with value: 0.7261544240441175 and parameters: {'x': 1.155582844476844, 'y': 1.2515893493850285}. Best is trial 483 with value: 0.0010043517258578555.\n",
            "[I 2023-12-30 21:26:47,184] Trial 648 finished with value: 11.008100746894373 and parameters: {'x': 1.050774443394583, 'y': 0.7723812044259954}. Best is trial 483 with value: 0.0010043517258578555.\n",
            "[I 2023-12-30 21:26:47,215] Trial 649 finished with value: 5.8000700867335775 and parameters: {'x': 0.9588922526400724, 'y': 1.1602726129609033}. Best is trial 483 with value: 0.0010043517258578555.\n",
            "[I 2023-12-30 21:26:47,247] Trial 650 finished with value: 58.82210426898189 and parameters: {'x': 1.3358253043629484, 'y': 1.0182091341868842}. Best is trial 483 with value: 0.0010043517258578555.\n",
            "[I 2023-12-30 21:26:47,280] Trial 651 finished with value: 3.236748193332472 and parameters: {'x': 0.859226323613689, 'y': 0.9176279239470635}. Best is trial 483 with value: 0.0010043517258578555.\n",
            "[I 2023-12-30 21:26:47,316] Trial 652 finished with value: 25.860681694642135 and parameters: {'x': 0.7474479402861706, 'y': 1.0665849025439509}. Best is trial 483 with value: 0.0010043517258578555.\n",
            "[I 2023-12-30 21:26:47,348] Trial 653 finished with value: 12.208672998524076 and parameters: {'x': 1.0952021380434058, 'y': 0.850188328543042}. Best is trial 483 with value: 0.0010043517258578555.\n",
            "[I 2023-12-30 21:26:47,380] Trial 654 finished with value: 0.018461587353079956 and parameters: {'x': 0.9969400826877534, 'y': 0.9803056320258361}. Best is trial 483 with value: 0.0010043517258578555.\n",
            "[I 2023-12-30 21:26:47,415] Trial 655 finished with value: 0.1496743788140595 and parameters: {'x': 0.9047970454193706, 'y': 0.7811595899471573}. Best is trial 483 with value: 0.0010043517258578555.\n",
            "[I 2023-12-30 21:26:47,454] Trial 656 finished with value: 6.790643734526482 and parameters: {'x': 0.809465812485118, 'y': 0.9151260414449147}. Best is trial 483 with value: 0.0010043517258578555.\n",
            "[I 2023-12-30 21:26:47,488] Trial 657 finished with value: 5.758143203459589 and parameters: {'x': 0.9626353817088539, 'y': 0.6867346566726197}. Best is trial 483 with value: 0.0010043517258578555.\n",
            "[I 2023-12-30 21:26:47,518] Trial 658 finished with value: 44.856011666042825 and parameters: {'x': 0.5506354536884956, 'y': 0.9714365102582053}. Best is trial 483 with value: 0.0010043517258578555.\n",
            "[I 2023-12-30 21:26:47,548] Trial 659 finished with value: 146.41534900192613 and parameters: {'x': 1.1775344738242477, 'y': 0.17669558025514842}. Best is trial 483 with value: 0.0010043517258578555.\n",
            "[I 2023-12-30 21:26:47,576] Trial 660 finished with value: 0.3604258723425718 and parameters: {'x': 1.0682633504490657, 'y': 1.2008327079431895}. Best is trial 483 with value: 0.0010043517258578555.\n",
            "[I 2023-12-30 21:26:47,606] Trial 661 finished with value: 8.973396419735915 and parameters: {'x': 0.9015488555311593, 'y': 1.1121847909604903}. Best is trial 483 with value: 0.0010043517258578555.\n",
            "[I 2023-12-30 21:26:47,636] Trial 662 finished with value: 0.9797813229201262 and parameters: {'x': 0.9830453139570204, 'y': 0.8674087070809167}. Best is trial 483 with value: 0.0010043517258578555.\n",
            "[I 2023-12-30 21:26:47,666] Trial 663 finished with value: 33.64450099405576 and parameters: {'x': 0.6895933985457621, 'y': 1.0547466928351268}. Best is trial 483 with value: 0.0010043517258578555.\n",
            "[I 2023-12-30 21:26:47,701] Trial 664 finished with value: 10.708436816143847 and parameters: {'x': 1.131182251276486, 'y': 0.9525988518455905}. Best is trial 483 with value: 0.0010043517258578555.\n",
            "[I 2023-12-30 21:26:47,730] Trial 665 finished with value: 37.16940111214406 and parameters: {'x': -0.9288217297390791, 'y': 1.4410613237196994}. Best is trial 483 with value: 0.0010043517258578555.\n",
            "[I 2023-12-30 21:26:47,766] Trial 666 finished with value: 136.62387184920303 and parameters: {'x': 1.2599988632772137, 'y': 0.4190241919073615}. Best is trial 483 with value: 0.0010043517258578555.\n",
            "[I 2023-12-30 21:26:47,799] Trial 667 finished with value: 4.06946017127799 and parameters: {'x': 0.7777438311177728, 'y': 0.805386398676787}. Best is trial 483 with value: 0.0010043517258578555.\n",
            "[I 2023-12-30 21:26:47,834] Trial 668 finished with value: 20.33753457567767 and parameters: {'x': 0.8507211282184389, 'y': 1.1744508592805616}. Best is trial 483 with value: 0.0010043517258578555.\n",
            "[I 2023-12-30 21:26:47,864] Trial 669 finished with value: 0.2955311609445496 and parameters: {'x': 1.0310062755710856, 'y': 1.0086996579760126}. Best is trial 483 with value: 0.0010043517258578555.\n",
            "[I 2023-12-30 21:26:47,896] Trial 670 finished with value: 0.04302398883705592 and parameters: {'x': 0.9466471710838797, 'y': 0.8760965495001451}. Best is trial 483 with value: 0.0010043517258578555.\n",
            "[I 2023-12-30 21:26:47,925] Trial 671 finished with value: 1.0486174953978835 and parameters: {'x': 1.0874387753607515, 'y': 1.2845511233627596}. Best is trial 483 with value: 0.0010043517258578555.\n",
            "[I 2023-12-30 21:26:47,957] Trial 672 finished with value: 11.192061629964575 and parameters: {'x': 0.8827284197342838, 'y': 1.1135492453602054}. Best is trial 483 with value: 0.0010043517258578555.\n",
            "[I 2023-12-30 21:26:47,997] Trial 673 finished with value: 13.740845168806848 and parameters: {'x': 0.9904624782180321, 'y': 0.610330687649106}. Best is trial 483 with value: 0.0010043517258578555.\n",
            "[I 2023-12-30 21:26:48,035] Trial 674 finished with value: 43.30474864051657 and parameters: {'x': 1.1630516253427503, 'y': 0.6948276782950122}. Best is trial 483 with value: 0.0010043517258578555.\n",
            "[I 2023-12-30 21:26:48,068] Trial 675 finished with value: 2.267788116012248 and parameters: {'x': 1.0472119174475953, 'y': 0.946135055214526}. Best is trial 483 with value: 0.0010043517258578555.\n",
            "[I 2023-12-30 21:26:48,104] Trial 676 finished with value: 4.494476628550386 and parameters: {'x': 0.9185599830596216, 'y': 1.0555977670006809}. Best is trial 483 with value: 0.0010043517258578555.\n",
            "[I 2023-12-30 21:26:48,134] Trial 677 finished with value: 1.3699610822934802 and parameters: {'x': 0.8116050710255488, 'y': 0.7742219859545061}. Best is trial 483 with value: 0.0010043517258578555.\n",
            "[I 2023-12-30 21:26:48,166] Trial 678 finished with value: 1.058216781463952 and parameters: {'x': 0.9792477120115494, 'y': 0.8560773515894373}. Best is trial 483 with value: 0.0010043517258578555.\n",
            "[I 2023-12-30 21:26:48,197] Trial 679 finished with value: 7.615732399671828 and parameters: {'x': 1.126827836022312, 'y': 0.9940663975872138}. Best is trial 483 with value: 0.0010043517258578555.\n",
            "[I 2023-12-30 21:26:48,229] Trial 680 finished with value: 17.404463977433576 and parameters: {'x': 0.8668297654383024, 'y': 1.168367818249049}. Best is trial 483 with value: 0.0010043517258578555.\n",
            "[I 2023-12-30 21:26:48,259] Trial 681 finished with value: 0.005764343216868259 and parameters: {'x': 1.0350366646885518, 'y': 1.0780364561309197}. Best is trial 483 with value: 0.0010043517258578555.\n",
            "[I 2023-12-30 21:26:48,294] Trial 682 finished with value: 0.8836969410630331 and parameters: {'x': 1.0675082472866437, 'y': 1.2333363013384802}. Best is trial 483 with value: 0.0010043517258578555.\n",
            "[I 2023-12-30 21:26:48,331] Trial 683 finished with value: 16.673372677241023 and parameters: {'x': 1.2228743247604055, 'y': 1.0876998988596134}. Best is trial 483 with value: 0.0010043517258578555.\n",
            "[I 2023-12-30 21:26:48,369] Trial 684 finished with value: 1.5497517889780206 and parameters: {'x': 1.1235684934224068, 'y': 1.1385319241399388}. Best is trial 483 with value: 0.0010043517258578555.\n",
            "[I 2023-12-30 21:26:48,408] Trial 685 finished with value: 0.09196311088470045 and parameters: {'x': 1.019777473445436, 'y': 1.070206954955964}. Best is trial 483 with value: 0.0010043517258578555.\n",
            "[I 2023-12-30 21:26:48,439] Trial 686 finished with value: 10.815278226773065 and parameters: {'x': 1.263866195859257, 'y': 1.269552134826317}. Best is trial 483 with value: 0.0010043517258578555.\n",
            "[I 2023-12-30 21:26:48,470] Trial 687 finished with value: 12.49975460457712 and parameters: {'x': 1.1723125605168072, 'y': 1.0211869760580932}. Best is trial 483 with value: 0.0010043517258578555.\n",
            "[I 2023-12-30 21:26:48,501] Trial 688 finished with value: 122.77392257804578 and parameters: {'x': 1.0790197745866814, 'y': 0.05627790477065531}. Best is trial 483 with value: 0.0010043517258578555.\n",
            "[I 2023-12-30 21:26:48,536] Trial 689 finished with value: 1.5909403707226972 and parameters: {'x': 0.9930834204581729, 'y': 1.1123452683348776}. Best is trial 483 with value: 0.0010043517258578555.\n",
            "[I 2023-12-30 21:26:48,571] Trial 690 finished with value: 0.47369652553045233 and parameters: {'x': 1.0634718024464067, 'y': 1.199504592217719}. Best is trial 483 with value: 0.0010043517258578555.\n",
            "[I 2023-12-30 21:26:48,602] Trial 691 finished with value: 0.006549499020058759 and parameters: {'x': 0.9787644912483244, 'y': 0.9501706065742699}. Best is trial 483 with value: 0.0010043517258578555.\n",
            "[I 2023-12-30 21:26:48,635] Trial 692 finished with value: 0.17628749979519798 and parameters: {'x': 0.941556340010414, 'y': 0.9281062007144268}. Best is trial 483 with value: 0.0010043517258578555.\n",
            "[I 2023-12-30 21:26:48,663] Trial 693 finished with value: 0.08704948418337538 and parameters: {'x': 0.9591071619975253, 'y': 0.949105935591585}. Best is trial 483 with value: 0.0010043517258578555.\n",
            "[I 2023-12-30 21:26:48,685] Trial 694 finished with value: 1.0520505537608627 and parameters: {'x': 0.9387204233159621, 'y': 0.9835823294621777}. Best is trial 483 with value: 0.0010043517258578555.\n",
            "[I 2023-12-30 21:26:48,705] Trial 695 finished with value: 14.67945979075229 and parameters: {'x': 1.124301773525938, 'y': 0.8811183362817419}. Best is trial 483 with value: 0.0010043517258578555.\n",
            "[I 2023-12-30 21:26:48,728] Trial 696 finished with value: 0.028166372830751542 and parameters: {'x': 0.9964540040865757, 'y': 1.0096996760210772}. Best is trial 483 with value: 0.0010043517258578555.\n",
            "[I 2023-12-30 21:26:48,749] Trial 697 finished with value: 1.3282734160680787 and parameters: {'x': 0.892975927405566, 'y': 0.9121587525990118}. Best is trial 483 with value: 0.0010043517258578555.\n",
            "[I 2023-12-30 21:26:48,770] Trial 698 finished with value: 35.3868554111186 and parameters: {'x': -0.6925537827464728, 'y': 1.0499124013861683}. Best is trial 483 with value: 0.0010043517258578555.\n",
            "[I 2023-12-30 21:26:48,791] Trial 699 finished with value: 0.004780616596532707 and parameters: {'x': 1.068008474579449, 'y': 1.139395249809938}. Best is trial 483 with value: 0.0010043517258578555.\n",
            "[I 2023-12-30 21:26:48,812] Trial 700 finished with value: 1.7537445994082281 and parameters: {'x': 1.2108969954428201, 'y': 1.3355325930565716}. Best is trial 483 with value: 0.0010043517258578555.\n",
            "[I 2023-12-30 21:26:48,836] Trial 701 finished with value: 27.52943230985863 and parameters: {'x': 1.3081238705960856, 'y': 1.1874086035110727}. Best is trial 483 with value: 0.0010043517258578555.\n",
            "[I 2023-12-30 21:26:48,856] Trial 702 finished with value: 2.993714480606008 and parameters: {'x': 1.1546230218274933, 'y': 1.1608230658878202}. Best is trial 483 with value: 0.0010043517258578555.\n",
            "[I 2023-12-30 21:26:48,881] Trial 703 finished with value: 1.2512737313301718 and parameters: {'x': 1.0862183520803816, 'y': 1.2913978891596667}. Best is trial 483 with value: 0.0010043517258578555.\n",
            "[I 2023-12-30 21:26:48,903] Trial 704 finished with value: 2.006983049500221 and parameters: {'x': 1.0426803577375068, 'y': 1.2287860514051727}. Best is trial 483 with value: 0.0010043517258578555.\n",
            "[I 2023-12-30 21:26:48,928] Trial 705 finished with value: 16.378219152429875 and parameters: {'x': 1.227913372360605, 'y': 1.1037133996202342}. Best is trial 483 with value: 0.0010043517258578555.\n",
            "[I 2023-12-30 21:26:48,949] Trial 706 finished with value: 2.5860159490262467 and parameters: {'x': 1.1171916174791086, 'y': 1.4085004657178035}. Best is trial 483 with value: 0.0010043517258578555.\n",
            "[I 2023-12-30 21:26:48,969] Trial 707 finished with value: 494.59789169759694 and parameters: {'x': 1.8315251129366479, 'y': 1.1320836055790466}. Best is trial 483 with value: 0.0010043517258578555.\n",
            "[I 2023-12-30 21:26:48,992] Trial 708 finished with value: 245.37124769645072 and parameters: {'x': 0.9952963465220682, 'y': -0.5758181545845638}. Best is trial 483 with value: 0.0010043517258578555.\n",
            "[I 2023-12-30 21:26:49,013] Trial 709 finished with value: 0.08122908876329135 and parameters: {'x': 1.039094920093855, 'y': 1.0514869448148336}. Best is trial 483 with value: 0.0010043517258578555.\n",
            "[I 2023-12-30 21:26:49,034] Trial 710 finished with value: 258.859117571413 and parameters: {'x': 1.6055376203520555, 'y': 0.9699810364590523}. Best is trial 483 with value: 0.0010043517258578555.\n",
            "[I 2023-12-30 21:26:49,056] Trial 711 finished with value: 10.558106374881296 and parameters: {'x': 0.931602005429182, 'y': 1.1927426986806633}. Best is trial 483 with value: 0.0010043517258578555.\n",
            "[I 2023-12-30 21:26:49,078] Trial 712 finished with value: 23.204329913423614 and parameters: {'x': 0.7538338815316366, 'y': 1.0493448507394423}. Best is trial 483 with value: 0.0010043517258578555.\n",
            "[I 2023-12-30 21:26:49,101] Trial 713 finished with value: 5.154152322006482 and parameters: {'x': 1.1599521559788388, 'y': 1.1190255936538838}. Best is trial 483 with value: 0.0010043517258578555.\n",
            "[I 2023-12-30 21:26:49,123] Trial 714 finished with value: 4.3983131696486275 and parameters: {'x': 0.8470735865018534, 'y': 0.9266969149327708}. Best is trial 483 with value: 0.0010043517258578555.\n",
            "[I 2023-12-30 21:26:49,144] Trial 715 finished with value: 145.27666096850723 and parameters: {'x': 1.4302510540834494, 'y': 0.8410785598869694}. Best is trial 483 with value: 0.0010043517258578555.\n",
            "[I 2023-12-30 21:26:49,165] Trial 716 finished with value: 0.7959743519418615 and parameters: {'x': 1.0384849864386063, 'y': 0.9893167157811951}. Best is trial 483 with value: 0.0010043517258578555.\n",
            "[I 2023-12-30 21:26:49,185] Trial 717 finished with value: 13.406424936639162 and parameters: {'x': 0.9477059572225685, 'y': 1.2642570874831327}. Best is trial 483 with value: 0.0010043517258578555.\n",
            "[I 2023-12-30 21:26:49,208] Trial 718 finished with value: 0.6838401425995775 and parameters: {'x': 1.099788842884475, 'y': 1.1274451627519049}. Best is trial 483 with value: 0.0010043517258578555.\n",
            "[I 2023-12-30 21:26:49,230] Trial 719 finished with value: 2.3778667596476026 and parameters: {'x': 1.0032606768217238, 'y': 0.852328998408343}. Best is trial 483 with value: 0.0010043517258578555.\n",
            "[I 2023-12-30 21:26:49,252] Trial 720 finished with value: 11.771133523653415 and parameters: {'x': 0.8296385290011821, 'y': 1.0309677192099198}. Best is trial 483 with value: 0.0010043517258578555.\n",
            "[I 2023-12-30 21:26:49,272] Trial 721 finished with value: 2.355084695750655 and parameters: {'x': 1.2249225642870292, 'y': 1.3486296714813915}. Best is trial 483 with value: 0.0010043517258578555.\n",
            "[I 2023-12-30 21:26:49,299] Trial 722 finished with value: 1.1397755667360676 and parameters: {'x': 0.9101078394029998, 'y': 0.9346774321001938}. Best is trial 483 with value: 0.0010043517258578555.\n",
            "[I 2023-12-30 21:26:49,322] Trial 723 finished with value: 0.023945234389224933 and parameters: {'x': 1.095436624645644, 'y': 1.1878006412225508}. Best is trial 483 with value: 0.0010043517258578555.\n",
            "[I 2023-12-30 21:26:49,345] Trial 724 finished with value: 1.4981434178488504 and parameters: {'x': 0.98213955611647, 'y': 1.0869837450156377}. Best is trial 483 with value: 0.0010043517258578555.\n",
            "[I 2023-12-30 21:26:49,368] Trial 725 finished with value: 17.990843077670355 and parameters: {'x': 1.1876719978881527, 'y': 0.9868240248293201}. Best is trial 483 with value: 0.0010043517258578555.\n",
            "[I 2023-12-30 21:26:49,392] Trial 726 finished with value: 6.141013814375629 and parameters: {'x': 0.7706859181264413, 'y': 0.8407042031534886}. Best is trial 483 with value: 0.0010043517258578555.\n",
            "[I 2023-12-30 21:26:49,415] Trial 727 finished with value: 3.2986522228023447 and parameters: {'x': 1.0435434615788706, 'y': 0.9074132398481151}. Best is trial 483 with value: 0.0010043517258578555.\n",
            "[I 2023-12-30 21:26:49,438] Trial 728 finished with value: 8.118771740469182 and parameters: {'x': 0.8927555316757485, 'y': 1.0817451273887928}. Best is trial 483 with value: 0.0010043517258578555.\n",
            "[I 2023-12-30 21:26:49,461] Trial 729 finished with value: 18.72034634167297 and parameters: {'x': 1.2945787388935337, 'y': 1.2442679240984194}. Best is trial 483 with value: 0.0010043517258578555.\n",
            "[I 2023-12-30 21:26:49,484] Trial 730 finished with value: 9.315290688852322 and parameters: {'x': 1.13334215111451, 'y': 0.9795462365685792}. Best is trial 483 with value: 0.0010043517258578555.\n",
            "[I 2023-12-30 21:26:49,507] Trial 731 finished with value: 2.3869902843744533 and parameters: {'x': 0.9739007242371598, 'y': 0.7940057902976274}. Best is trial 483 with value: 0.0010043517258578555.\n",
            "[I 2023-12-30 21:26:49,531] Trial 732 finished with value: 0.1329033825161493 and parameters: {'x': 1.0558454451267056, 'y': 1.1508352433055506}. Best is trial 483 with value: 0.0010043517258578555.\n",
            "[I 2023-12-30 21:26:49,554] Trial 733 finished with value: 6.853234239016332 and parameters: {'x': 0.883918958150387, 'y': 1.0428420619518777}. Best is trial 483 with value: 0.0010043517258578555.\n",
            "[I 2023-12-30 21:26:49,585] Trial 734 finished with value: 19.94594793464746 and parameters: {'x': 0.6813582661343294, 'y': 0.9097197972032981}. Best is trial 483 with value: 0.0010043517258578555.\n",
            "[I 2023-12-30 21:26:49,611] Trial 735 finished with value: 4.022053102561069 and parameters: {'x': 0.9597333278072887, 'y': 1.1215982023341255}. Best is trial 483 with value: 0.0010043517258578555.\n",
            "[I 2023-12-30 21:26:49,635] Trial 736 finished with value: 6.491311935346517 and parameters: {'x': 0.8441178709188617, 'y': 0.9668381985681731}. Best is trial 483 with value: 0.0010043517258578555.\n",
            "[I 2023-12-30 21:26:49,657] Trial 737 finished with value: 2.5096877222490845 and parameters: {'x': 1.0925267874871745, 'y': 1.0354652788218246}. Best is trial 483 with value: 0.0010043517258578555.\n",
            "[I 2023-12-30 21:26:49,685] Trial 738 finished with value: 6.002750320650061 and parameters: {'x': 1.0024472607246537, 'y': 0.7598955242266336}. Best is trial 483 with value: 0.0010043517258578555.\n",
            "[I 2023-12-30 21:26:49,708] Trial 739 finished with value: 1.0785505618507387 and parameters: {'x': 1.1466117765446895, 'y': 1.2119053593314337}. Best is trial 483 with value: 0.0010043517258578555.\n",
            "[I 2023-12-30 21:26:49,730] Trial 740 finished with value: 0.007241687625527087 and parameters: {'x': 0.9229727921118913, 'y': 0.8554960901026233}. Best is trial 483 with value: 0.0010043517258578555.\n",
            "[I 2023-12-30 21:26:49,753] Trial 741 finished with value: 2.1663199855001793 and parameters: {'x': 1.0351784248724594, 'y': 0.924452179414289}. Best is trial 483 with value: 0.0010043517258578555.\n",
            "[I 2023-12-30 21:26:49,773] Trial 742 finished with value: 0.15740784353804077 and parameters: {'x': 0.9514400290055733, 'y': 0.8658617687852248}. Best is trial 483 with value: 0.0010043517258578555.\n",
            "[I 2023-12-30 21:26:49,795] Trial 743 finished with value: 13.631425302532811 and parameters: {'x': 1.1946863949273354, 'y': 1.0585816371946828}. Best is trial 483 with value: 0.0010043517258578555.\n",
            "[I 2023-12-30 21:26:49,817] Trial 744 finished with value: 4.359735734168468 and parameters: {'x': 1.095938819056036, 'y': 0.9925026181671002}. Best is trial 483 with value: 0.0010043517258578555.\n",
            "[I 2023-12-30 21:26:49,839] Trial 745 finished with value: 10.57839898414341 and parameters: {'x': 0.9022544915904663, 'y': 1.1391607652443871}. Best is trial 483 with value: 0.0010043517258578555.\n",
            "[I 2023-12-30 21:26:49,861] Trial 746 finished with value: 1.4523705301872263 and parameters: {'x': 1.0092508089099739, 'y': 0.8980764093481713}. Best is trial 483 with value: 0.0010043517258578555.\n",
            "[I 2023-12-30 21:26:49,884] Trial 747 finished with value: 11.881368839919084 and parameters: {'x': 0.8126165232887139, 'y': 1.0045295222117898}. Best is trial 483 with value: 0.0010043517258578555.\n",
            "[I 2023-12-30 21:26:49,906] Trial 748 finished with value: 4.207990838182245 and parameters: {'x': 0.9392509620041434, 'y': 1.0872362769374069}. Best is trial 483 with value: 0.0010043517258578555.\n",
            "[I 2023-12-30 21:26:49,927] Trial 749 finished with value: 1.603420284684309 and parameters: {'x': 1.0753107549228917, 'y': 1.2826952993381535}. Best is trial 483 with value: 0.0010043517258578555.\n",
            "[I 2023-12-30 21:26:49,951] Trial 750 finished with value: 30.288915332995447 and parameters: {'x': 1.1864599336120831, 'y': 0.8576494660307593}. Best is trial 483 with value: 0.0010043517258578555.\n",
            "[I 2023-12-30 21:26:49,973] Trial 751 finished with value: 0.3792887972599233 and parameters: {'x': 1.0057168511646193, 'y': 0.9498826112958196}. Best is trial 483 with value: 0.0010043517258578555.\n",
            "[I 2023-12-30 21:26:50,001] Trial 752 finished with value: 56.19576662782631 and parameters: {'x': 1.386245575103894, 'y': 1.17303414954669}. Best is trial 483 with value: 0.0010043517258578555.\n",
            "[I 2023-12-30 21:26:50,027] Trial 753 finished with value: 6.232523718234801 and parameters: {'x': 0.8769263300108592, 'y': 1.0183464664072153}. Best is trial 483 with value: 0.0010043517258578555.\n",
            "[I 2023-12-30 21:26:50,052] Trial 754 finished with value: 3.0072341936336597 and parameters: {'x': 1.1260101946461467, 'y': 1.0949435993372847}. Best is trial 483 with value: 0.0010043517258578555.\n",
            "[I 2023-12-30 21:26:50,074] Trial 755 finished with value: 86.30330074874404 and parameters: {'x': 0.05910642631098506, 'y': 0.9277122668654915}. Best is trial 483 with value: 0.0010043517258578555.\n",
            "[I 2023-12-30 21:26:50,099] Trial 756 finished with value: 62.78621401877058 and parameters: {'x': 1.2771378691794324, 'y': 0.8391884129690648}. Best is trial 483 with value: 0.0010043517258578555.\n",
            "[I 2023-12-30 21:26:50,120] Trial 757 finished with value: 10.04278502236323 and parameters: {'x': 0.9547353024397002, 'y': 1.228390703887603}. Best is trial 483 with value: 0.0010043517258578555.\n",
            "[I 2023-12-30 21:26:50,144] Trial 758 finished with value: 4.238443312578323 and parameters: {'x': 1.0789014729471764, 'y': 1.3697519375421843}. Best is trial 483 with value: 0.0010043517258578555.\n",
            "[I 2023-12-30 21:26:50,168] Trial 759 finished with value: 14.163706579002223 and parameters: {'x': 0.8107691140944886, 'y': 1.0332175216065915}. Best is trial 483 with value: 0.0010043517258578555.\n",
            "[I 2023-12-30 21:26:50,190] Trial 760 finished with value: 4.67118152268423 and parameters: {'x': 1.0209696106377708, 'y': 0.8262599555161173}. Best is trial 483 with value: 0.0010043517258578555.\n",
            "[I 2023-12-30 21:26:50,212] Trial 761 finished with value: 6.122394960034169 and parameters: {'x': 0.9508554395940896, 'y': 1.151511995712552}. Best is trial 483 with value: 0.0010043517258578555.\n",
            "[I 2023-12-30 21:26:50,237] Trial 762 finished with value: 18.284021156491715 and parameters: {'x': 0.7360569192943136, 'y': 0.9685625810491645}. Best is trial 483 with value: 0.0010043517258578555.\n",
            "[I 2023-12-30 21:26:50,258] Trial 763 finished with value: 7.407255654673151 and parameters: {'x': 0.9026040508898169, 'y': 1.0866824857405077}. Best is trial 483 with value: 0.0010043517258578555.\n",
            "[I 2023-12-30 21:26:50,282] Trial 764 finished with value: 223.96388590613455 and parameters: {'x': 1.1593088060327241, 'y': -0.1524605978676682}. Best is trial 483 with value: 0.0010043517258578555.\n",
            "[I 2023-12-30 21:26:50,307] Trial 765 finished with value: 3.165631263106446 and parameters: {'x': 1.0426160719752982, 'y': 0.9091771085504732}. Best is trial 483 with value: 0.0010043517258578555.\n",
            "[I 2023-12-30 21:26:50,331] Trial 766 finished with value: 0.019018199974330963 and parameters: {'x': 0.8729195100033998, 'y': 0.7673445413665875}. Best is trial 483 with value: 0.0010043517258578555.\n",
            "[I 2023-12-30 21:26:50,354] Trial 767 finished with value: 4.790870305493455 and parameters: {'x': 0.6617668981182327, 'y': 0.6541868707762777}. Best is trial 483 with value: 0.0010043517258578555.\n",
            "[I 2023-12-30 21:26:50,376] Trial 768 finished with value: 3.477314335215111 and parameters: {'x': 0.7570340083782883, 'y': 0.7579864509668091}. Best is trial 483 with value: 0.0010043517258578555.\n",
            "[I 2023-12-30 21:26:50,400] Trial 769 finished with value: 0.07112272043796064 and parameters: {'x': 0.8161978681717633, 'y': 0.685502390545527}. Best is trial 483 with value: 0.0010043517258578555.\n",
            "[I 2023-12-30 21:26:50,422] Trial 770 finished with value: 342.5226091874096 and parameters: {'x': 0.8589998000151773, 'y': -1.1128022665269608}. Best is trial 483 with value: 0.0010043517258578555.\n",
            "[I 2023-12-30 21:26:50,446] Trial 771 finished with value: 0.1317898907595859 and parameters: {'x': 0.8710978243423954, 'y': 0.7927487323536961}. Best is trial 483 with value: 0.0010043517258578555.\n",
            "[I 2023-12-30 21:26:50,469] Trial 772 finished with value: 0.7700607049636806 and parameters: {'x': 0.9272968945957458, 'y': 0.7724281177349981}. Best is trial 483 with value: 0.0010043517258578555.\n",
            "[I 2023-12-30 21:26:50,492] Trial 773 finished with value: 11.613919677626981 and parameters: {'x': 0.6131601368065227, 'y': 0.7145547004820466}. Best is trial 483 with value: 0.0010043517258578555.\n",
            "[I 2023-12-30 21:26:50,517] Trial 774 finished with value: 5.622802550002942 and parameters: {'x': 0.7697058193926082, 'y': 0.8284505894900537}. Best is trial 483 with value: 0.0010043517258578555.\n",
            "[I 2023-12-30 21:26:50,538] Trial 775 finished with value: 2.071522115382606 and parameters: {'x': 0.9349708082703599, 'y': 0.7303895610333677}. Best is trial 483 with value: 0.0010043517258578555.\n",
            "[I 2023-12-30 21:26:50,563] Trial 776 finished with value: 2.353722588509313 and parameters: {'x': 0.8426227966271502, 'y': 0.8626223188115955}. Best is trial 483 with value: 0.0010043517258578555.\n",
            "[I 2023-12-30 21:26:50,583] Trial 777 finished with value: 0.27189591122264345 and parameters: {'x': 0.9820528682513773, 'y': 0.9123150917564036}. Best is trial 483 with value: 0.0010043517258578555.\n",
            "[I 2023-12-30 21:26:50,608] Trial 778 finished with value: 19.4957784782145 and parameters: {'x': 1.0167175313768066, 'y': 0.5921774619963585}. Best is trial 483 with value: 0.0010043517258578555.\n",
            "[I 2023-12-30 21:26:50,640] Trial 779 finished with value: 5.414584806410655 and parameters: {'x': 0.7504859920674686, 'y': 0.7945802036748433}. Best is trial 483 with value: 0.0010043517258578555.\n",
            "[I 2023-12-30 21:26:50,664] Trial 780 finished with value: 2.425818107017609 and parameters: {'x': 0.8988155106203274, 'y': 0.9632906786476549}. Best is trial 483 with value: 0.0010043517258578555.\n",
            "[I 2023-12-30 21:26:50,690] Trial 781 finished with value: 13.656643480946418 and parameters: {'x': 1.118472406978924, 'y': 0.8816215159460121}. Best is trial 483 with value: 0.0010043517258578555.\n",
            "[I 2023-12-30 21:26:50,713] Trial 782 finished with value: 1.559315802115533 and parameters: {'x': 0.8260276501596906, 'y': 0.8059764168534791}. Best is trial 483 with value: 0.0010043517258578555.\n",
            "[I 2023-12-30 21:26:50,734] Trial 783 finished with value: 0.625199729036644 and parameters: {'x': 0.9662601495419832, 'y': 1.012656230449184}. Best is trial 483 with value: 0.0010043517258578555.\n",
            "[I 2023-12-30 21:26:50,757] Trial 784 finished with value: 19.27088983749412 and parameters: {'x': 1.0729776356606517, 'y': 0.7123554536899838}. Best is trial 483 with value: 0.0010043517258578555.\n",
            "[I 2023-12-30 21:26:50,779] Trial 785 finished with value: 6.173383843909206 and parameters: {'x': 1.225352547866382, 'y': 1.7489277493817927}. Best is trial 483 with value: 0.0010043517258578555.\n",
            "[I 2023-12-30 21:26:50,802] Trial 786 finished with value: 1.7915023246953814 and parameters: {'x': 0.909131014684935, 'y': 0.960057404343716}. Best is trial 483 with value: 0.0010043517258578555.\n",
            "[I 2023-12-30 21:26:50,826] Trial 787 finished with value: 1.8433782824199187 and parameters: {'x': 0.9987041608182797, 'y': 0.8616389949758505}. Best is trial 483 with value: 0.0010043517258578555.\n",
            "[I 2023-12-30 21:26:50,846] Trial 788 finished with value: 49.17636549829983 and parameters: {'x': 0.4687792737911528, 'y': 0.9189976706346972}. Best is trial 483 with value: 0.0010043517258578555.\n",
            "[I 2023-12-30 21:26:50,869] Trial 789 finished with value: 1.3063797060079372 and parameters: {'x': 1.070888391418046, 'y': 1.0327250192342843}. Best is trial 483 with value: 0.0010043517258578555.\n",
            "[I 2023-12-30 21:26:50,893] Trial 790 finished with value: 22.047627242473865 and parameters: {'x': 0.8441463277012862, 'y': 1.1818733045432364}. Best is trial 483 with value: 0.0010043517258578555.\n",
            "[I 2023-12-30 21:26:50,913] Trial 791 finished with value: 12.663638540519486 and parameters: {'x': 1.152281830799346, 'y': 0.9722193294281607}. Best is trial 483 with value: 0.0010043517258578555.\n",
            "[I 2023-12-30 21:26:50,936] Trial 792 finished with value: 0.10867042793192971 and parameters: {'x': 0.7042132444592076, 'y': 0.5104698579013884}. Best is trial 483 with value: 0.0010043517258578555.\n",
            "[I 2023-12-30 21:26:50,959] Trial 793 finished with value: 0.3714079004071679 and parameters: {'x': 0.943060720831672, 'y': 0.8286868539447061}. Best is trial 483 with value: 0.0010043517258578555.\n",
            "[I 2023-12-30 21:26:50,982] Trial 794 finished with value: 0.0063634259551733656 and parameters: {'x': 1.0375459300125778, 'y': 1.0835398301786423}. Best is trial 483 with value: 0.0010043517258578555.\n",
            "[I 2023-12-30 21:26:51,009] Trial 795 finished with value: 16.01576106675481 and parameters: {'x': 1.297722625744295, 'y': 1.284996024262572}. Best is trial 483 with value: 0.0010043517258578555.\n",
            "[I 2023-12-30 21:26:51,032] Trial 796 finished with value: 9.837412270550063 and parameters: {'x': 1.2044019052673878, 'y': 1.1376042035546834}. Best is trial 483 with value: 0.0010043517258578555.\n",
            "[I 2023-12-30 21:26:51,056] Trial 797 finished with value: 0.013877357869613064 and parameters: {'x': 1.1075595881400833, 'y': 1.2218837716237756}. Best is trial 483 with value: 0.0010043517258578555.\n",
            "[I 2023-12-30 21:26:51,081] Trial 798 finished with value: 7.682764673226286 and parameters: {'x': 1.2631466833673137, 'y': 1.3196134938939466}. Best is trial 483 with value: 0.0010043517258578555.\n",
            "[I 2023-12-30 21:26:51,103] Trial 799 finished with value: 0.48552644628555713 and parameters: {'x': 1.1624583090148541, 'y': 1.4190687287043597}. Best is trial 483 with value: 0.0010043517258578555.\n",
            "[I 2023-12-30 21:26:51,127] Trial 800 finished with value: 37.17713646112231 and parameters: {'x': 1.3627495341034948, 'y': 1.2484357424109511}. Best is trial 483 with value: 0.0010043517258578555.\n",
            "[I 2023-12-30 21:26:51,148] Trial 801 finished with value: 0.3154536484834553 and parameters: {'x': 1.1174531701826425, 'y': 1.1937781498131006}. Best is trial 483 with value: 0.0010043517258578555.\n",
            "[I 2023-12-30 21:26:51,170] Trial 802 finished with value: 2.4707366392257004 and parameters: {'x': 1.2076446280114177, 'y': 1.3025973209629098}. Best is trial 483 with value: 0.0010043517258578555.\n",
            "[I 2023-12-30 21:26:51,192] Trial 803 finished with value: 3.3528082262394725 and parameters: {'x': 1.0846495190052967, 'y': 1.35937555975404}. Best is trial 483 with value: 0.0010043517258578555.\n",
            "[I 2023-12-30 21:26:51,212] Trial 804 finished with value: 0.22361418070856431 and parameters: {'x': 1.126053651174857, 'y': 1.2224200047095704}. Best is trial 483 with value: 0.0010043517258578555.\n",
            "[I 2023-12-30 21:26:51,238] Trial 805 finished with value: 0.30501890005814086 and parameters: {'x': 1.0373651242782467, 'y': 1.13122837449499}. Best is trial 483 with value: 0.0010043517258578555.\n",
            "[I 2023-12-30 21:26:51,261] Trial 806 finished with value: 8.424878815209569 and parameters: {'x': 1.225206958838029, 'y': 1.2117506716952227}. Best is trial 483 with value: 0.0010043517258578555.\n",
            "[I 2023-12-30 21:26:51,285] Trial 807 finished with value: 0.004648096176982847 and parameters: {'x': 1.0585675265907444, 'y': 1.117075307199082}. Best is trial 483 with value: 0.0010043517258578555.\n",
            "[I 2023-12-30 21:26:51,310] Trial 808 finished with value: 118.18728832438346 and parameters: {'x': -0.43955245916281704, 'y': 1.270772961099417}. Best is trial 483 with value: 0.0010043517258578555.\n",
            "[I 2023-12-30 21:26:51,334] Trial 809 finished with value: 6.0496615745815765 and parameters: {'x': 1.1690634462149854, 'y': 1.1213304683930103}. Best is trial 483 with value: 0.0010043517258578555.\n",
            "[I 2023-12-30 21:26:51,358] Trial 810 finished with value: 7.857458035622641 and parameters: {'x': 1.348707549365758, 'y': 1.5408778939903838}. Best is trial 483 with value: 0.0010043517258578555.\n",
            "[I 2023-12-30 21:26:51,382] Trial 811 finished with value: 0.29510172109460925 and parameters: {'x': 1.0929843518237603, 'y': 1.1410932433343823}. Best is trial 483 with value: 0.0010043517258578555.\n",
            "[I 2023-12-30 21:26:51,407] Trial 812 finished with value: 1.2314504440956306 and parameters: {'x': 1.1616215571718647, 'y': 1.2395771693787525}. Best is trial 483 with value: 0.0010043517258578555.\n",
            "[I 2023-12-30 21:26:51,431] Trial 813 finished with value: 20.956649011430446 and parameters: {'x': 1.2813520332821926, 'y': 1.1849441121086695}. Best is trial 483 with value: 0.0010043517258578555.\n",
            "[I 2023-12-30 21:26:51,453] Trial 814 finished with value: 0.15999453373738945 and parameters: {'x': 1.0620691325560276, 'y': 1.0884760404787361}. Best is trial 483 with value: 0.0010043517258578555.\n",
            "[I 2023-12-30 21:26:51,474] Trial 815 finished with value: 3.7532714230182096 and parameters: {'x': 1.0609041861854742, 'y': 1.3191555527974055}. Best is trial 483 with value: 0.0010043517258578555.\n",
            "[I 2023-12-30 21:26:51,499] Trial 816 finished with value: 3.640076330370706 and parameters: {'x': 1.13346976894114, 'y': 1.094431302471113}. Best is trial 483 with value: 0.0010043517258578555.\n",
            "[I 2023-12-30 21:26:51,523] Trial 817 finished with value: 0.7766454487326068 and parameters: {'x': 1.236319498123772, 'y': 1.443586046109034}. Best is trial 483 with value: 0.0010043517258578555.\n",
            "[I 2023-12-30 21:26:51,546] Trial 818 finished with value: 1.0927479714889512 and parameters: {'x': 1.0448215111906676, 'y': 1.1960904411938769}. Best is trial 483 with value: 0.0010043517258578555.\n",
            "[I 2023-12-30 21:26:51,569] Trial 819 finished with value: 0.15568160829609134 and parameters: {'x': 1.0139747614638557, 'y': 1.0675765698695563}. Best is trial 483 with value: 0.0010043517258578555.\n",
            "[I 2023-12-30 21:26:51,592] Trial 820 finished with value: 0.9548213731234577 and parameters: {'x': 1.1282432093284844, 'y': 1.1760629787692842}. Best is trial 483 with value: 0.0010043517258578555.\n",
            "[I 2023-12-30 21:26:51,617] Trial 821 finished with value: 0.2957657761078044 and parameters: {'x': 1.0021093697857477, 'y': 1.0586071321083899}. Best is trial 483 with value: 0.0010043517258578555.\n",
            "[I 2023-12-30 21:26:51,638] Trial 822 finished with value: 0.4967994004336423 and parameters: {'x': 1.1913254343221893, 'y': 1.3514186918457356}. Best is trial 483 with value: 0.0010043517258578555.\n",
            "[I 2023-12-30 21:26:51,671] Trial 823 finished with value: 0.2523791132150116 and parameters: {'x': 1.0843201997142715, 'y': 1.1262256332546117}. Best is trial 483 with value: 0.0010043517258578555.\n",
            "[I 2023-12-30 21:26:51,701] Trial 824 finished with value: 5.187363956344883 and parameters: {'x': 1.0099127380297614, 'y': 1.247679434169687}. Best is trial 483 with value: 0.0010043517258578555.\n",
            "[I 2023-12-30 21:26:51,723] Trial 825 finished with value: 2.6147804728028317 and parameters: {'x': 1.1051483972732286, 'y': 1.0599923811074525}. Best is trial 483 with value: 0.0010043517258578555.\n",
            "[I 2023-12-30 21:26:51,744] Trial 826 finished with value: 1.7242193886874 and parameters: {'x': 1.009541123434054, 'y': 1.150479348143969}. Best is trial 483 with value: 0.0010043517258578555.\n",
            "[I 2023-12-30 21:26:51,770] Trial 827 finished with value: 7.735733334467316 and parameters: {'x': 1.1570512256441123, 'y': 1.0610794359046793}. Best is trial 483 with value: 0.0010043517258578555.\n",
            "[I 2023-12-30 21:26:51,794] Trial 828 finished with value: 12.757482043362355 and parameters: {'x': 1.251178780130249, 'y': 1.2091564473811758}. Best is trial 483 with value: 0.0010043517258578555.\n",
            "[I 2023-12-30 21:26:51,819] Trial 829 finished with value: 7.588537214387993 and parameters: {'x': 1.0014527214445712, 'y': 1.2783805121066298}. Best is trial 483 with value: 0.0010043517258578555.\n",
            "[I 2023-12-30 21:26:51,843] Trial 830 finished with value: 1.6319471260642957 and parameters: {'x': 1.0883049161999117, 'y': 1.0569654716908794}. Best is trial 483 with value: 0.0010043517258578555.\n",
            "[I 2023-12-30 21:26:51,867] Trial 831 finished with value: 0.3533941593239239 and parameters: {'x': 0.977216597756469, 'y': 1.0143555680573528}. Best is trial 483 with value: 0.0010043517258578555.\n",
            "[I 2023-12-30 21:26:51,892] Trial 832 finished with value: 0.10267605550777321 and parameters: {'x': 1.0706068070711874, 'y': 1.114943418345682}. Best is trial 483 with value: 0.0010043517258578555.\n",
            "[I 2023-12-30 21:26:51,921] Trial 833 finished with value: 7.343284703582155 and parameters: {'x': 0.9431965303254692, 'y': 1.1605451101893767}. Best is trial 483 with value: 0.0010043517258578555.\n",
            "[I 2023-12-30 21:26:51,944] Trial 834 finished with value: 119.00346052484626 and parameters: {'x': 1.1662908926814117, 'y': 0.26947412499838663}. Best is trial 483 with value: 0.0010043517258578555.\n",
            "[I 2023-12-30 21:26:51,969] Trial 835 finished with value: 0.537505225425086 and parameters: {'x': 1.0386596942106157, 'y': 1.0056012119339501}. Best is trial 483 with value: 0.0010043517258578555.\n",
            "[I 2023-12-30 21:26:51,991] Trial 836 finished with value: 45.51346130535754 and parameters: {'x': 1.3302855182071986, 'y': 1.0958318907230808}. Best is trial 483 with value: 0.0010043517258578555.\n",
            "[I 2023-12-30 21:26:52,018] Trial 837 finished with value: 13.745370800914507 and parameters: {'x': 0.9383337571924892, 'y': 1.2511664507579845}. Best is trial 483 with value: 0.0010043517258578555.\n",
            "[I 2023-12-30 21:26:52,043] Trial 838 finished with value: 27.63757606932662 and parameters: {'x': 1.2406950281844131, 'y': 1.0141609214540794}. Best is trial 483 with value: 0.0010043517258578555.\n",
            "[I 2023-12-30 21:26:52,067] Trial 839 finished with value: 1.3604711096000475 and parameters: {'x': 1.10713444674869, 'y': 1.1096005114834124}. Best is trial 483 with value: 0.0010043517258578555.\n",
            "[I 2023-12-30 21:26:52,094] Trial 840 finished with value: 0.2755706190395572 and parameters: {'x': 0.9779513519881355, 'y': 1.0088373431313313}. Best is trial 483 with value: 0.0010043517258578555.\n",
            "[I 2023-12-30 21:26:52,120] Trial 841 finished with value: 1.2483642711643403 and parameters: {'x': 1.033397024676237, 'y': 1.1795897092262015}. Best is trial 483 with value: 0.0010043517258578555.\n",
            "[I 2023-12-30 21:26:52,145] Trial 842 finished with value: 0.03034075974921195 and parameters: {'x': 1.1741753477605026, 'y': 1.3788803084922723}. Best is trial 483 with value: 0.0010043517258578555.\n",
            "[I 2023-12-30 21:26:52,169] Trial 843 finished with value: 2.3778341865543964 and parameters: {'x': 0.9180861429374215, 'y': 0.9968667204874646}. Best is trial 483 with value: 0.0010043517258578555.\n",
            "[I 2023-12-30 21:26:52,194] Trial 844 finished with value: 0.5898616162343223 and parameters: {'x': 1.084923134649634, 'y': 1.1007267154206137}. Best is trial 483 with value: 0.0010043517258578555.\n",
            "[I 2023-12-30 21:26:52,218] Trial 845 finished with value: 12.150586942383669 and parameters: {'x': 0.9664021403638148, 'y': 1.282493825126732}. Best is trial 483 with value: 0.0010043517258578555.\n",
            "[I 2023-12-30 21:26:52,243] Trial 846 finished with value: 2.341610278715119 and parameters: {'x': 1.0178653372359325, 'y': 1.189062625534187}. Best is trial 483 with value: 0.0010043517258578555.\n",
            "[I 2023-12-30 21:26:52,269] Trial 847 finished with value: 9.130339099487564 and parameters: {'x': 1.12750165738372, 'y': 0.9693646011042056}. Best is trial 483 with value: 0.0010043517258578555.\n",
            "[I 2023-12-30 21:26:52,293] Trial 848 finished with value: 18.99486636501396 and parameters: {'x': 1.220730269155036, 'y': 1.0549106988625496}. Best is trial 483 with value: 0.0010043517258578555.\n",
            "[I 2023-12-30 21:26:52,316] Trial 849 finished with value: 5.57885400463645 and parameters: {'x': 0.9489341370122352, 'y': 1.1366167654693655}. Best is trial 483 with value: 0.0010043517258578555.\n",
            "[I 2023-12-30 21:26:52,340] Trial 850 finished with value: 127.35484815845493 and parameters: {'x': 0.8876730089665386, 'y': -0.34049677822952107}. Best is trial 483 with value: 0.0010043517258578555.\n",
            "[I 2023-12-30 21:26:52,362] Trial 851 finished with value: 2.6495703910610966 and parameters: {'x': 1.0558861741795476, 'y': 0.9522165691025598}. Best is trial 483 with value: 0.0010043517258578555.\n",
            "[I 2023-12-30 21:26:52,390] Trial 852 finished with value: 8.439471336860244 and parameters: {'x': 0.8732471073280801, 'y': 1.0527915398293155}. Best is trial 483 with value: 0.0010043517258578555.\n",
            "[I 2023-12-30 21:26:52,415] Trial 853 finished with value: 0.7608290772736808 and parameters: {'x': 1.1392295863247757, 'y': 1.2117368962086297}. Best is trial 483 with value: 0.0010043517258578555.\n",
            "[I 2023-12-30 21:26:52,438] Trial 854 finished with value: 86.3595432029082 and parameters: {'x': 0.21474095724018527, 'y': 0.9720883621644838}. Best is trial 483 with value: 0.0010043517258578555.\n",
            "[I 2023-12-30 21:26:52,465] Trial 855 finished with value: 0.6493324030153048 and parameters: {'x': 1.0135507311728573, 'y': 1.1078548544695659}. Best is trial 483 with value: 0.0010043517258578555.\n",
            "[I 2023-12-30 21:26:52,489] Trial 856 finished with value: 2.05930223442403 and parameters: {'x': 1.077531653970667, 'y': 1.304367559247604}. Best is trial 483 with value: 0.0010043517258578555.\n",
            "[I 2023-12-30 21:26:52,515] Trial 857 finished with value: 2.8165718193609544 and parameters: {'x': 0.9288166992554433, 'y': 1.0303758840911053}. Best is trial 483 with value: 0.0010043517258578555.\n",
            "[I 2023-12-30 21:26:52,538] Trial 858 finished with value: 2.099572122244735 and parameters: {'x': 1.0017447382653069, 'y': 1.1483914191243463}. Best is trial 483 with value: 0.0010043517258578555.\n",
            "[I 2023-12-30 21:26:52,561] Trial 859 finished with value: 6.365224501450559 and parameters: {'x': 0.8300431414185881, 'y': 0.9406924772468509}. Best is trial 483 with value: 0.0010043517258578555.\n",
            "[I 2023-12-30 21:26:52,583] Trial 860 finished with value: 14.85038470025085 and parameters: {'x': 1.1954880554199898, 'y': 1.04432588130478}. Best is trial 483 with value: 0.0010043517258578555.\n",
            "[I 2023-12-30 21:26:52,605] Trial 861 finished with value: 10.762164222796342 and parameters: {'x': 1.0649441684732375, 'y': 1.462099168443783}. Best is trial 483 with value: 0.0010043517258578555.\n",
            "[I 2023-12-30 21:26:52,633] Trial 862 finished with value: 15.779728830995124 and parameters: {'x': 0.9213037017081173, 'y': 1.245959618993774}. Best is trial 483 with value: 0.0010043517258578555.\n",
            "[I 2023-12-30 21:26:52,658] Trial 863 finished with value: 13.111549734528044 and parameters: {'x': 1.1402557188884748, 'y': 0.9383561006584445}. Best is trial 483 with value: 0.0010043517258578555.\n",
            "[I 2023-12-30 21:26:52,683] Trial 864 finished with value: 3.257669709072333 and parameters: {'x': 0.9895587805272755, 'y': 1.15971371788773}. Best is trial 483 with value: 0.0010043517258578555.\n",
            "[I 2023-12-30 21:26:52,724] Trial 865 finished with value: 980.9877651072388 and parameters: {'x': 1.2601295626909514, 'y': -1.5440378811312385}. Best is trial 483 with value: 0.0010043517258578555.\n",
            "[I 2023-12-30 21:26:52,749] Trial 866 finished with value: 18.389372736820118 and parameters: {'x': 0.7959873621875933, 'y': 1.0619386358129523}. Best is trial 483 with value: 0.0010043517258578555.\n",
            "[I 2023-12-30 21:26:52,772] Trial 867 finished with value: 141.23659492291756 and parameters: {'x': 1.0805666488653147, 'y': -0.020778443450799156}. Best is trial 483 with value: 0.0010043517258578555.\n",
            "[I 2023-12-30 21:26:52,798] Trial 868 finished with value: 2.4925893228676084 and parameters: {'x': 0.8995445377348553, 'y': 0.9667398251952976}. Best is trial 483 with value: 0.0010043517258578555.\n",
            "[I 2023-12-30 21:26:52,824] Trial 869 finished with value: 0.14770340495391954 and parameters: {'x': 1.0237598977397342, 'y': 1.0864430133139733}. Best is trial 483 with value: 0.0010043517258578555.\n",
            "[I 2023-12-30 21:26:52,850] Trial 870 finished with value: 2.2278573395686383 and parameters: {'x': 1.1484925171131606, 'y': 1.1705154566967828}. Best is trial 483 with value: 0.0010043517258578555.\n",
            "[I 2023-12-30 21:26:52,874] Trial 871 finished with value: 0.06410483632256296 and parameters: {'x': 0.9733236939391003, 'y': 0.9221810047200135}. Best is trial 483 with value: 0.0010043517258578555.\n",
            "[I 2023-12-30 21:26:52,900] Trial 872 finished with value: 37.63052661132782 and parameters: {'x': 0.8672598414698698, 'y': 1.3654332544881824}. Best is trial 483 with value: 0.0010043517258578555.\n",
            "[I 2023-12-30 21:26:52,924] Trial 873 finished with value: 2.105319559010374 and parameters: {'x': 1.0800301021602086, 'y': 1.0215887039161085}. Best is trial 483 with value: 0.0010043517258578555.\n",
            "[I 2023-12-30 21:26:52,949] Trial 874 finished with value: 25.874567241378355 and parameters: {'x': 1.3071870109474246, 'y': 1.2009957877892414}. Best is trial 483 with value: 0.0010043517258578555.\n",
            "[I 2023-12-30 21:26:52,972] Trial 875 finished with value: 424.89913494313265 and parameters: {'x': -1.7733326395827, 'y': 1.1021422232602676}. Best is trial 483 with value: 0.0010043517258578555.\n",
            "[I 2023-12-30 21:26:52,998] Trial 876 finished with value: 0.4718470841894134 and parameters: {'x': 0.961285029768415, 'y': 0.99265084742547}. Best is trial 483 with value: 0.0010043517258578555.\n",
            "[I 2023-12-30 21:26:53,026] Trial 877 finished with value: 179.01779373071116 and parameters: {'x': 1.4891495725774708, 'y': 0.8804855752657264}. Best is trial 483 with value: 0.0010043517258578555.\n",
            "[I 2023-12-30 21:26:53,051] Trial 878 finished with value: 158.54659398580344 and parameters: {'x': -0.12439035945982713, 'y': 1.2695955245376618}. Best is trial 483 with value: 0.0010043517258578555.\n",
            "[I 2023-12-30 21:26:53,076] Trial 879 finished with value: 772.0929151435466 and parameters: {'x': -1.9415223640901433, 'y': 1.006466634335915}. Best is trial 483 with value: 0.0010043517258578555.\n",
            "[I 2023-12-30 21:26:53,100] Trial 880 finished with value: 5.303916416491488 and parameters: {'x': 1.1706608854565081, 'y': 1.1407777710926656}. Best is trial 483 with value: 0.0010043517258578555.\n",
            "[I 2023-12-30 21:26:53,125] Trial 881 finished with value: 3.1564491458938364 and parameters: {'x': 1.0386363843603823, 'y': 0.9011435702394174}. Best is trial 483 with value: 0.0010043517258578555.\n",
            "[I 2023-12-30 21:26:53,152] Trial 882 finished with value: 17.359897534863435 and parameters: {'x': 0.8148157550751851, 'y': 1.0801650819381556}. Best is trial 483 with value: 0.0010043517258578555.\n",
            "[I 2023-12-30 21:26:53,179] Trial 883 finished with value: 1.8187287035186206 and parameters: {'x': 0.9233671536622065, 'y': 0.9872492455985646}. Best is trial 483 with value: 0.0010043517258578555.\n",
            "[I 2023-12-30 21:26:53,204] Trial 884 finished with value: 0.016536278872752875 and parameters: {'x': 1.1035140061376405, 'y': 1.225372794371429}. Best is trial 483 with value: 0.0010043517258578555.\n",
            "[I 2023-12-30 21:26:53,230] Trial 885 finished with value: 12.343005965972248 and parameters: {'x': 1.2327692894927993, 'y': 1.8702743169813756}. Best is trial 483 with value: 0.0010043517258578555.\n",
            "[I 2023-12-30 21:26:53,254] Trial 886 finished with value: 1.3967321503186687 and parameters: {'x': 1.202013592748853, 'y': 1.328392585045962}. Best is trial 483 with value: 0.0010043517258578555.\n",
            "[I 2023-12-30 21:26:53,278] Trial 887 finished with value: 2.4255032835781964 and parameters: {'x': 1.1272210621193544, 'y': 1.4258471052887416}. Best is trial 483 with value: 0.0010043517258578555.\n",
            "[I 2023-12-30 21:26:53,305] Trial 888 finished with value: 31.430635547986057 and parameters: {'x': 1.355015099835735, 'y': 1.2765607838370396}. Best is trial 483 with value: 0.0010043517258578555.\n",
            "[I 2023-12-30 21:26:53,332] Trial 889 finished with value: 142.7756373516778 and parameters: {'x': -0.29176040054421704, 'y': 1.2730087739542209}. Best is trial 483 with value: 0.0010043517258578555.\n",
            "[I 2023-12-30 21:26:53,356] Trial 890 finished with value: 2034.564759361052 and parameters: {'x': 1.9340120428211591, 'y': -0.7692452768308875}. Best is trial 483 with value: 0.0010043517258578555.\n",
            "[I 2023-12-30 21:26:53,381] Trial 891 finished with value: 0.05851069735629806 and parameters: {'x': 1.1145187419775582, 'y': 1.2208456527380067}. Best is trial 483 with value: 0.0010043517258578555.\n",
            "[I 2023-12-30 21:26:53,405] Trial 892 finished with value: 6.136175107731044 and parameters: {'x': 1.2744073895457626, 'y': 1.3779257363856225}. Best is trial 483 with value: 0.0010043517258578555.\n",
            "[I 2023-12-30 21:26:53,428] Trial 893 finished with value: 0.7229280294222841 and parameters: {'x': 1.0663631802942541, 'y': 1.2218962247818617}. Best is trial 483 with value: 0.0010043517258578555.\n",
            "[I 2023-12-30 21:26:53,451] Trial 894 finished with value: 0.24035538011700042 and parameters: {'x': 1.174833182869299, 'y': 1.3344303069643162}. Best is trial 483 with value: 0.0010043517258578555.\n",
            "[I 2023-12-30 21:26:53,476] Trial 895 finished with value: 1.0872315003751296 and parameters: {'x': 1.0321836292641884, 'y': 1.1696237581235434}. Best is trial 483 with value: 0.0010043517258578555.\n",
            "[I 2023-12-30 21:26:53,499] Trial 896 finished with value: 0.23900334001896756 and parameters: {'x': 1.1135439899049975, 'y': 1.1924290763131413}. Best is trial 483 with value: 0.0010043517258578555.\n",
            "[I 2023-12-30 21:26:53,522] Trial 897 finished with value: 2.550523919355849 and parameters: {'x': 0.984193787265985, 'y': 1.1283331867605437}. Best is trial 483 with value: 0.0010043517258578555.\n",
            "[I 2023-12-30 21:26:53,547] Trial 898 finished with value: 1.5919706117668484 and parameters: {'x': 1.2141514700611957, 'y': 1.598506454264343}. Best is trial 483 with value: 0.0010043517258578555.\n",
            "[I 2023-12-30 21:26:53,571] Trial 899 finished with value: 83.16109662526655 and parameters: {'x': 1.419010587299135, 'y': 1.1026271246780297}. Best is trial 483 with value: 0.0010043517258578555.\n",
            "[I 2023-12-30 21:26:53,596] Trial 900 finished with value: 217.956016107606 and parameters: {'x': -1.6422737761913573, 'y': 1.2445673542532734}. Best is trial 483 with value: 0.0010043517258578555.\n",
            "[I 2023-12-30 21:26:53,624] Trial 901 finished with value: 49.44641715814166 and parameters: {'x': 0.8777514100916534, 'y': 1.473522729063236}. Best is trial 483 with value: 0.0010043517258578555.\n",
            "[I 2023-12-30 21:26:53,647] Trial 902 finished with value: 3.692381743298559 and parameters: {'x': 1.0615929616372854, 'y': 1.3190365882237118}. Best is trial 483 with value: 0.0010043517258578555.\n",
            "[I 2023-12-30 21:26:53,675] Trial 903 finished with value: 6.453446517732435 and parameters: {'x': 0.9425419778408007, 'y': 1.142356738483946}. Best is trial 483 with value: 0.0010043517258578555.\n",
            "[I 2023-12-30 21:26:53,700] Trial 904 finished with value: 4.655880614820777 and parameters: {'x': 1.124320137483345, 'y': 1.0486793116818542}. Best is trial 483 with value: 0.0010043517258578555.\n",
            "[I 2023-12-30 21:26:53,731] Trial 905 finished with value: 3.1538742027949325 and parameters: {'x': 1.0134218807399442, 'y': 1.2046103395984429}. Best is trial 483 with value: 0.0010043517258578555.\n",
            "[I 2023-12-30 21:26:53,767] Trial 906 finished with value: 23.08790360401505 and parameters: {'x': 0.7723853291098566, 'y': 1.076538419542351}. Best is trial 483 with value: 0.0010043517258578555.\n",
            "[I 2023-12-30 21:26:53,796] Trial 907 finished with value: 26.682206910924837 and parameters: {'x': 1.2861089028618766, 'y': 1.1383208521062471}. Best is trial 483 with value: 0.0010043517258578555.\n",
            "[I 2023-12-30 21:26:53,820] Trial 908 finished with value: 15.724486863528467 and parameters: {'x': 0.9154697897135152, 'y': 1.2345359606854274}. Best is trial 483 with value: 0.0010043517258578555.\n",
            "[I 2023-12-30 21:26:53,845] Trial 909 finished with value: 9.918760787737341 and parameters: {'x': 1.1609632938134864, 'y': 1.0333067310853021}. Best is trial 483 with value: 0.0010043517258578555.\n",
            "[I 2023-12-30 21:26:53,869] Trial 910 finished with value: 4.521571261551604 and parameters: {'x': 1.0695831139505516, 'y': 0.9314820521356914}. Best is trial 483 with value: 0.0010043517258578555.\n",
            "[I 2023-12-30 21:26:53,892] Trial 911 finished with value: 1.2919654012239457 and parameters: {'x': 0.9879654086125919, 'y': 1.089733933391567}. Best is trial 483 with value: 0.0010043517258578555.\n",
            "[I 2023-12-30 21:26:53,917] Trial 912 finished with value: 1.71135731869543 and parameters: {'x': 0.8669488265647005, 'y': 0.8817407575053531}. Best is trial 483 with value: 0.0010043517258578555.\n",
            "[I 2023-12-30 21:26:53,941] Trial 913 finished with value: 2.0955954824040384 and parameters: {'x': 1.0705585945744582, 'y': 1.2906853640452955}. Best is trial 483 with value: 0.0010043517258578555.\n",
            "[I 2023-12-30 21:26:53,966] Trial 914 finished with value: 7.822910925496887 and parameters: {'x': 1.200250241353244, 'y': 1.161623747371237}. Best is trial 483 with value: 0.0010043517258578555.\n",
            "[I 2023-12-30 21:26:53,990] Trial 915 finished with value: 50.794211313450994 and parameters: {'x': -1.3047565276085318, 'y': 1.0279838678479327}. Best is trial 483 with value: 0.0010043517258578555.\n",
            "[I 2023-12-30 21:26:54,017] Trial 916 finished with value: 0.027289647761888136 and parameters: {'x': 0.9772905776334865, 'y': 0.9387341319495739}. Best is trial 483 with value: 0.0010043517258578555.\n",
            "[I 2023-12-30 21:26:54,040] Trial 917 finished with value: 2.1472034963212443 and parameters: {'x': 1.1239637442146893, 'y': 1.117286399682982}. Best is trial 483 with value: 0.0010043517258578555.\n",
            "[I 2023-12-30 21:26:54,070] Trial 918 finished with value: 9.228220921210715 and parameters: {'x': 0.8401554727718819, 'y': 1.0092202573300733}. Best is trial 483 with value: 0.0010043517258578555.\n",
            "[I 2023-12-30 21:26:54,096] Trial 919 finished with value: 352.1125988182009 and parameters: {'x': 1.7555932799543394, 'y': 1.2071632918070705}. Best is trial 483 with value: 0.0010043517258578555.\n",
            "[I 2023-12-30 21:26:54,120] Trial 920 finished with value: 19.18621995325906 and parameters: {'x': 0.9586644768590359, 'y': 1.357038850054699}. Best is trial 483 with value: 0.0010043517258578555.\n",
            "[I 2023-12-30 21:26:54,145] Trial 921 finished with value: 3.02694953611715 and parameters: {'x': 1.0075524367996322, 'y': 0.841182244640027}. Best is trial 483 with value: 0.0010043517258578555.\n",
            "[I 2023-12-30 21:26:54,169] Trial 922 finished with value: 89.53066397313967 and parameters: {'x': 0.3373464985385414, 'y': 1.0576858854284847}. Best is trial 483 with value: 0.0010043517258578555.\n",
            "[I 2023-12-30 21:26:54,193] Trial 923 finished with value: 17.346290823670923 and parameters: {'x': 0.7285199999885436, 'y': 0.9463444393767515}. Best is trial 483 with value: 0.0010043517258578555.\n",
            "[I 2023-12-30 21:26:54,216] Trial 924 finished with value: 12.909929349884806 and parameters: {'x': 0.9000445586328262, 'y': 1.1692450479478094}. Best is trial 483 with value: 0.0010043517258578555.\n",
            "[I 2023-12-30 21:26:54,240] Trial 925 finished with value: 8.51039007732647 and parameters: {'x': 1.078508334825096, 'y': 0.8715601583556298}. Best is trial 483 with value: 0.0010043517258578555.\n",
            "[I 2023-12-30 21:26:54,265] Trial 926 finished with value: 15.97954083424736 and parameters: {'x': 1.2173452491121357, 'y': 1.082776579097101}. Best is trial 483 with value: 0.0010043517258578555.\n",
            "[I 2023-12-30 21:26:54,292] Trial 927 finished with value: 0.4181414831435722 and parameters: {'x': 1.031060009636406, 'y': 0.9984955215419924}. Best is trial 483 with value: 0.0010043517258578555.\n",
            "[I 2023-12-30 21:26:54,323] Trial 928 finished with value: 1.778178762690811 and parameters: {'x': 1.1237338241690285, 'y': 1.1300046416590013}. Best is trial 483 with value: 0.0010043517258578555.\n",
            "[I 2023-12-30 21:26:54,349] Trial 929 finished with value: 116.9974875311238 and parameters: {'x': 0.9305076526572905, 'y': 1.9474759369473458}. Best is trial 483 with value: 0.0010043517258578555.\n",
            "[I 2023-12-30 21:26:54,374] Trial 930 finished with value: 32.22913228102941 and parameters: {'x': 0.804226140556361, 'y': 1.2141490963580968}. Best is trial 483 with value: 0.0010043517258578555.\n",
            "[I 2023-12-30 21:26:54,400] Trial 931 finished with value: 3.9652267245557145 and parameters: {'x': 1.0401125631685433, 'y': 1.2809225090357828}. Best is trial 483 with value: 0.0010043517258578555.\n",
            "[I 2023-12-30 21:26:54,423] Trial 932 finished with value: 70.53715980902845 and parameters: {'x': 1.3258030160862022, 'y': 0.9185217731746367}. Best is trial 483 with value: 0.0010043517258578555.\n",
            "[I 2023-12-30 21:26:54,447] Trial 933 finished with value: 4.518191368534905 and parameters: {'x': 0.903858499170369, 'y': 1.0293030267680245}. Best is trial 483 with value: 0.0010043517258578555.\n",
            "[I 2023-12-30 21:26:54,472] Trial 934 finished with value: 27.055743359611537 and parameters: {'x': 1.155226390027521, 'y': 0.8146283248848827}. Best is trial 483 with value: 0.0010043517258578555.\n",
            "[I 2023-12-30 21:26:54,508] Trial 935 finished with value: 0.013483875040934661 and parameters: {'x': 0.9840805848970243, 'y': 0.9569122294395699}. Best is trial 483 with value: 0.0010043517258578555.\n",
            "[I 2023-12-30 21:26:54,540] Trial 936 finished with value: 736.082973723535 and parameters: {'x': 0.8527757926713697, 'y': -1.9858184134383565}. Best is trial 483 with value: 0.0010043517258578555.\n",
            "[I 2023-12-30 21:26:54,564] Trial 937 finished with value: 5.428465783459888 and parameters: {'x': 0.800690304197385, 'y': 0.8732415917245923}. Best is trial 483 with value: 0.0010043517258578555.\n",
            "[I 2023-12-30 21:26:54,587] Trial 938 finished with value: 1.797824908815941 and parameters: {'x': 0.8938697875771435, 'y': 0.9326655062219835}. Best is trial 483 with value: 0.0010043517258578555.\n",
            "[I 2023-12-30 21:26:54,612] Trial 939 finished with value: 1.2022537360273964 and parameters: {'x': 0.959471987347162, 'y': 0.8110140884785904}. Best is trial 483 with value: 0.0010043517258578555.\n",
            "[I 2023-12-30 21:26:54,643] Trial 940 finished with value: 37.37972393285935 and parameters: {'x': 0.6048848595727341, 'y': 0.9759972237891819}. Best is trial 483 with value: 0.0010043517258578555.\n",
            "[I 2023-12-30 21:26:54,671] Trial 941 finished with value: 0.8899532122834366 and parameters: {'x': 0.9916245333603547, 'y': 0.8889856016491413}. Best is trial 483 with value: 0.0010043517258578555.\n",
            "[I 2023-12-30 21:26:54,696] Trial 942 finished with value: 0.7187364787434558 and parameters: {'x': 0.9443482984866272, 'y': 0.9763891795880806}. Best is trial 483 with value: 0.0010043517258578555.\n",
            "[I 2023-12-30 21:26:54,722] Trial 943 finished with value: 0.9052890125968511 and parameters: {'x': 0.7864947799568145, 'y': 0.7112942920057005}. Best is trial 483 with value: 0.0010043517258578555.\n",
            "[I 2023-12-30 21:26:54,746] Trial 944 finished with value: 9.259258130693237 and parameters: {'x': 0.7027583982548454, 'y': 0.7967043966706329}. Best is trial 483 with value: 0.0010043517258578555.\n",
            "[I 2023-12-30 21:26:54,779] Trial 945 finished with value: 0.2208101144999421 and parameters: {'x': 1.0273523070948918, 'y': 1.0085420001839285}. Best is trial 483 with value: 0.0010043517258578555.\n",
            "[I 2023-12-30 21:26:54,805] Trial 946 finished with value: 2.4858732443453184 and parameters: {'x': 0.8670927070821302, 'y': 0.9089551061816767}. Best is trial 483 with value: 0.0010043517258578555.\n",
            "[I 2023-12-30 21:26:54,831] Trial 947 finished with value: 1.0475811759192626 and parameters: {'x': 0.9674335625476106, 'y': 1.0382272875356475}. Best is trial 483 with value: 0.0010043517258578555.\n",
            "[I 2023-12-30 21:26:54,857] Trial 948 finished with value: 6.126848458045282 and parameters: {'x': 1.0496245920023464, 'y': 0.8542368185756565}. Best is trial 483 with value: 0.0010043517258578555.\n",
            "[I 2023-12-30 21:26:54,881] Trial 949 finished with value: 1.072313651385715 and parameters: {'x': 0.9222975057018427, 'y': 0.9538933288516839}. Best is trial 483 with value: 0.0010043517258578555.\n",
            "[I 2023-12-30 21:26:54,907] Trial 950 finished with value: 10.921812590301354 and parameters: {'x': 0.8650802452898988, 'y': 1.0785699671676456}. Best is trial 483 with value: 0.0010043517258578555.\n",
            "[I 2023-12-30 21:26:54,931] Trial 951 finished with value: 0.058877739522829 and parameters: {'x': 1.0058869093188074, 'y': 0.9875508809254357}. Best is trial 483 with value: 0.0010043517258578555.\n",
            "[I 2023-12-30 21:26:54,959] Trial 952 finished with value: 1.0535991853053785 and parameters: {'x': 1.086485392569349, 'y': 1.0781705267365826}. Best is trial 483 with value: 0.0010043517258578555.\n",
            "[I 2023-12-30 21:26:54,985] Trial 953 finished with value: 2.3201213307495423 and parameters: {'x': 0.9568378800008335, 'y': 0.7632804492845549}. Best is trial 483 with value: 0.0010043517258578555.\n",
            "[I 2023-12-30 21:26:55,015] Trial 954 finished with value: 4.866161193829454 and parameters: {'x': 0.8230432524608862, 'y': 0.897283062042007}. Best is trial 483 with value: 0.0010043517258578555.\n",
            "[I 2023-12-30 21:26:55,040] Trial 955 finished with value: 0.38867818844072727 and parameters: {'x': 1.0308410720758285, 'y': 1.0003655861371128}. Best is trial 483 with value: 0.0010043517258578555.\n",
            "[I 2023-12-30 21:26:55,066] Trial 956 finished with value: 28.83316656571107 and parameters: {'x': 0.752523360083597, 'y': 1.102686055826678}. Best is trial 483 with value: 0.0010043517258578555.\n",
            "[I 2023-12-30 21:26:55,090] Trial 957 finished with value: 23.035855487563747 and parameters: {'x': 1.1493953630982974, 'y': 0.8413854412351496}. Best is trial 483 with value: 0.0010043517258578555.\n",
            "[I 2023-12-30 21:26:55,115] Trial 958 finished with value: 0.004862155817643794 and parameters: {'x': 0.9607969933484666, 'y': 0.9288973865860116}. Best is trial 483 with value: 0.0010043517258578555.\n",
            "[I 2023-12-30 21:26:55,140] Trial 959 finished with value: 4.006016380744269 and parameters: {'x': 1.0738806760382031, 'y': 0.9532057561934766}. Best is trial 483 with value: 0.0010043517258578555.\n",
            "[I 2023-12-30 21:26:55,164] Trial 960 finished with value: 16.442401828956307 and parameters: {'x': 1.2028907474662645, 'y': 1.0419617410900504}. Best is trial 483 with value: 0.0010043517258578555.\n",
            "[I 2023-12-30 21:26:55,188] Trial 961 finished with value: 1.0036014083903548 and parameters: {'x': 1.015861187216335, 'y': 0.9318066001687222}. Best is trial 483 with value: 0.0010043517258578555.\n",
            "[I 2023-12-30 21:26:55,214] Trial 962 finished with value: 1.8877170791142286 and parameters: {'x': 1.0936998673241667, 'y': 1.0591050617789235}. Best is trial 483 with value: 0.0010043517258578555.\n",
            "[I 2023-12-30 21:26:55,240] Trial 963 finished with value: 5.718356867625358 and parameters: {'x': 0.9315710023203657, 'y': 1.1068574660762833}. Best is trial 483 with value: 0.0010043517258578555.\n",
            "[I 2023-12-30 21:26:55,270] Trial 964 finished with value: 0.11462848021109891 and parameters: {'x': 0.9842029187541858, 'y': 1.0024753398133839}. Best is trial 483 with value: 0.0010043517258578555.\n",
            "[I 2023-12-30 21:26:55,297] Trial 965 finished with value: 13.653257064442585 and parameters: {'x': 1.1369359678953452, 'y': 0.9233740808748686}. Best is trial 483 with value: 0.0010043517258578555.\n",
            "[I 2023-12-30 21:26:55,325] Trial 966 finished with value: 0.06051157266663549 and parameters: {'x': 1.0554710997965198, 'y': 1.137984744744101}. Best is trial 483 with value: 0.0010043517258578555.\n",
            "[I 2023-12-30 21:26:55,350] Trial 967 finished with value: 31.930914998100317 and parameters: {'x': 1.2566143244759118, 'y': 1.01458807173288}. Best is trial 483 with value: 0.0010043517258578555.\n",
            "[I 2023-12-30 21:26:55,375] Trial 968 finished with value: 7.936946253013018 and parameters: {'x': 0.9213866953580953, 'y': 1.1305696031646801}. Best is trial 483 with value: 0.0010043517258578555.\n",
            "[I 2023-12-30 21:26:55,400] Trial 969 finished with value: 0.389550128323755 and parameters: {'x': 1.011019151458102, 'y': 0.9597555014707172}. Best is trial 483 with value: 0.0010043517258578555.\n",
            "[I 2023-12-30 21:26:55,425] Trial 970 finished with value: 9.682804326335239 and parameters: {'x': 1.1692137968681262, 'y': 1.056349283800867}. Best is trial 483 with value: 0.0010043517258578555.\n",
            "[I 2023-12-30 21:26:55,453] Trial 971 finished with value: 8.770551996753797 and parameters: {'x': 1.080243529218437, 'y': 0.8708836365972297}. Best is trial 483 with value: 0.0010043517258578555.\n",
            "[I 2023-12-30 21:26:55,478] Trial 972 finished with value: 3.906627111021231 and parameters: {'x': 0.900607727437131, 'y': 1.0084961096931508}. Best is trial 483 with value: 0.0010043517258578555.\n",
            "[I 2023-12-30 21:26:55,503] Trial 973 finished with value: 3.9805414219888093 and parameters: {'x': 0.9828743128733354, 'y': 1.1655475071293377}. Best is trial 483 with value: 0.0010043517258578555.\n",
            "[I 2023-12-30 21:26:55,531] Trial 974 finished with value: 484.993696193652 and parameters: {'x': 1.09644719940633, 'y': -1.000039661883981}. Best is trial 483 with value: 0.0010043517258578555.\n",
            "[I 2023-12-30 21:26:55,555] Trial 975 finished with value: 3.5058424984794936 and parameters: {'x': 0.9441137076270651, 'y': 1.0785062223908999}. Best is trial 483 with value: 0.0010043517258578555.\n",
            "[I 2023-12-30 21:26:55,580] Trial 976 finished with value: 26.17297616301658 and parameters: {'x': 1.1931623338475015, 'y': 0.9124058347378169}. Best is trial 483 with value: 0.0010043517258578555.\n",
            "[I 2023-12-30 21:26:55,605] Trial 977 finished with value: 12.890600961425923 and parameters: {'x': 0.8542297719100995, 'y': 0.3709697124236585}. Best is trial 483 with value: 0.0010043517258578555.\n",
            "[I 2023-12-30 21:26:55,631] Trial 978 finished with value: 0.34653478360456413 and parameters: {'x': 1.0291703157307803, 'y': 1.0003966515645}. Best is trial 483 with value: 0.0010043517258578555.\n",
            "[I 2023-12-30 21:26:55,655] Trial 979 finished with value: 0.39291783840228245 and parameters: {'x': 1.105158540412644, 'y': 1.159580616513447}. Best is trial 483 with value: 0.0010043517258578555.\n",
            "[I 2023-12-30 21:26:55,681] Trial 980 finished with value: 0.9698375843979152 and parameters: {'x': 0.9838587750897083, 'y': 0.8695109859180923}. Best is trial 483 with value: 0.0010043517258578555.\n",
            "[I 2023-12-30 21:26:55,706] Trial 981 finished with value: 10.151087403333438 and parameters: {'x': 0.871602056710117, 'y': 1.0780390320426543}. Best is trial 483 with value: 0.0010043517258578555.\n",
            "[I 2023-12-30 21:26:55,731] Trial 982 finished with value: 1.41917648540684 and parameters: {'x': 1.0272184586313973, 'y': 0.9360796660119237}. Best is trial 483 with value: 0.0010043517258578555.\n",
            "[I 2023-12-30 21:26:55,756] Trial 983 finished with value: 41.011327926059224 and parameters: {'x': 1.2665874255648122, 'y': 0.9643979511969427}. Best is trial 483 with value: 0.0010043517258578555.\n",
            "[I 2023-12-30 21:26:55,783] Trial 984 finished with value: 122.25242074910713 and parameters: {'x': 1.1253972065187798, 'y': 0.1609118161598584}. Best is trial 483 with value: 0.0010043517258578555.\n",
            "[I 2023-12-30 21:26:55,820] Trial 985 finished with value: 3.5734733820347055 and parameters: {'x': 0.9383703654861343, 'y': 1.0694747829954927}. Best is trial 483 with value: 0.0010043517258578555.\n",
            "[I 2023-12-30 21:26:55,849] Trial 986 finished with value: 2.661497745377826 and parameters: {'x': 0.8172937396242903, 'y': 0.8300837127919698}. Best is trial 483 with value: 0.0010043517258578555.\n",
            "[I 2023-12-30 21:26:55,879] Trial 987 finished with value: 1.1512422190571652 and parameters: {'x': 1.0291168553568841, 'y': 1.166337943641264}. Best is trial 483 with value: 0.0010043517258578555.\n",
            "[I 2023-12-30 21:26:55,908] Trial 988 finished with value: 14.574926846812644 and parameters: {'x': 1.1810263925517612, 'y': 1.0134815471245362}. Best is trial 483 with value: 0.0010043517258578555.\n",
            "[I 2023-12-30 21:26:55,933] Trial 989 finished with value: 6.62179799347762 and parameters: {'x': 0.9331637985876056, 'y': 1.128036407916197}. Best is trial 483 with value: 0.0010043517258578555.\n",
            "[I 2023-12-30 21:26:55,958] Trial 990 finished with value: 15.161885388893301 and parameters: {'x': 1.1252104640522986, 'y': 0.8769172973852644}. Best is trial 483 with value: 0.0010043517258578555.\n",
            "[I 2023-12-30 21:26:55,984] Trial 991 finished with value: 0.16828978642236686 and parameters: {'x': 1.0487565052563566, 'y': 1.0591578381723914}. Best is trial 483 with value: 0.0010043517258578555.\n",
            "[I 2023-12-30 21:26:56,011] Trial 992 finished with value: 3.0044840678344285 and parameters: {'x': 0.8824249964350425, 'y': 0.9516091277194751}. Best is trial 483 with value: 0.0010043517258578555.\n",
            "[I 2023-12-30 21:26:56,042] Trial 993 finished with value: 7.451423062691486 and parameters: {'x': 0.9777446093752635, 'y': 1.2289483971657806}. Best is trial 483 with value: 0.0010043517258578555.\n",
            "[I 2023-12-30 21:26:56,067] Trial 994 finished with value: 1.368599036001979 and parameters: {'x': 1.0521583436950401, 'y': 0.9901663736219994}. Best is trial 483 with value: 0.0010043517258578555.\n",
            "[I 2023-12-30 21:26:56,094] Trial 995 finished with value: 13.661515932240755 and parameters: {'x': 1.2202469788698425, 'y': 1.120044599672784}. Best is trial 483 with value: 0.0010043517258578555.\n",
            "[I 2023-12-30 21:26:56,120] Trial 996 finished with value: 1.4331427932216676 and parameters: {'x': 0.9608684351768851, 'y': 0.8036181804816634}. Best is trial 483 with value: 0.0010043517258578555.\n",
            "[I 2023-12-30 21:26:56,149] Trial 997 finished with value: 3.8170610336349817 and parameters: {'x': -0.952996810819885, 'y': 0.902850827859007}. Best is trial 483 with value: 0.0010043517258578555.\n",
            "[I 2023-12-30 21:26:56,175] Trial 998 finished with value: 34.96135415703546 and parameters: {'x': 0.7816247878517979, 'y': 1.2018151848923655}. Best is trial 483 with value: 0.0010043517258578555.\n",
            "[I 2023-12-30 21:26:56,200] Trial 999 finished with value: 3.427075502141643 and parameters: {'x': 1.1168927808357296, 'y': 1.0626952801437815}. Best is trial 483 with value: 0.0010043517258578555.\n"
          ]
        }
      ]
    },
    {
      "cell_type": "markdown",
      "source": [
        "Once the study is completed, we can then find the best parameters as follows:"
      ],
      "metadata": {
        "id": "bEy_Jsrbn81Y"
      }
    },
    {
      "cell_type": "code",
      "source": [
        "study.best_params"
      ],
      "metadata": {
        "colab": {
          "base_uri": "https://localhost:8080/"
        },
        "id": "WuOYdfEDnraN",
        "outputId": "f3c06b60-d821-46a1-9efd-c37e31803c94"
      },
      "execution_count": 63,
      "outputs": [
        {
          "output_type": "execute_result",
          "data": {
            "text/plain": [
              "{'x': 1.0316624807433843, 'y': 1.0644630853469046}"
            ]
          },
          "metadata": {},
          "execution_count": 63
        }
      ]
    },
    {
      "cell_type": "markdown",
      "source": [
        "We see that with one thousand trials, Optuna has managed to find values for x and y that are reasonably close to the global minimum. To use Optuna in Transformers, we use similar logic by first defining the hyperparameter space that we wish to optimize over. In addition to α and T, we'll include the number of training epochs as follows:"
      ],
      "metadata": {
        "id": "OCyN2YuIoKZL"
      }
    },
    {
      "cell_type": "code",
      "source": [
        "def hp_space(trial):\n",
        "    return {\"num_train_epochs\": trial.suggest_int(\"num_train_epochs\", 5, 10),\n",
        "    \"alpha\": trial.suggest_float(\"alpha\", 0, 1),\n",
        "    \"temperature\": trial.suggest_int(\"temperature\", 2, 20)}"
      ],
      "metadata": {
        "id": "wgEoBX1Sn4-V"
      },
      "execution_count": 64,
      "outputs": []
    },
    {
      "cell_type": "markdown",
      "source": [
        "Running the hyperparameter search with the Trainer is then quite simple; we just need to specify the number of trials to run and a direction to optimize for. Because we want the best possible accuracy, we specify `direction=\"maximize\"` in the `hyperparameter_search()` method of the trainer and pass the hyperparameter search\n",
        "space as follows:"
      ],
      "metadata": {
        "id": "a1-owxvVoYCf"
      }
    },
    {
      "cell_type": "code",
      "source": [
        "best_run = distilbert_trainer.hyperparameter_search(\n",
        "    n_trials=20,\n",
        "    direction=\"maximize\",\n",
        "    hp_space=hp_space\n",
        ")\n",
        "\n",
        "best_run"
      ],
      "metadata": {
        "colab": {
          "base_uri": "https://localhost:8080/",
          "height": 651
        },
        "id": "HynTWLWMoFcP",
        "outputId": "e8991d13-b90a-4cf6-cbb1-bdd8d077e1a0"
      },
      "execution_count": 67,
      "outputs": [
        {
          "output_type": "stream",
          "name": "stderr",
          "text": [
            "[I 2023-12-30 21:34:27,856] A new study created in memory with name: no-name-af863a39-e954-4f4e-801b-dcc886793780\n",
            "[W 2023-12-30 21:34:27,861] Trial 0 failed with parameters: {'num_train_epochs': 5, 'alpha': 0.45134030819064497, 'temperature': 3} because of the following error: TypeError(\"'float' object is not iterable\").\n",
            "Traceback (most recent call last):\n",
            "  File \"/usr/local/lib/python3.10/dist-packages/optuna/study/_optimize.py\", line 200, in _run_trial\n",
            "    value_or_values = func(trial)\n",
            "  File \"/usr/local/lib/python3.10/dist-packages/transformers/integrations/integration_utils.py\", line 199, in _objective\n",
            "    trainer.train(resume_from_checkpoint=checkpoint, trial=trial)\n",
            "  File \"/usr/local/lib/python3.10/dist-packages/transformers/trainer.py\", line 1484, in train\n",
            "    self._hp_search_setup(trial)\n",
            "  File \"/usr/local/lib/python3.10/dist-packages/transformers/trainer.py\", line 1178, in _hp_search_setup\n",
            "    value = type(old_attr)(value)\n",
            "TypeError: 'float' object is not iterable\n",
            "[W 2023-12-30 21:34:27,863] Trial 0 failed with value None.\n"
          ]
        },
        {
          "output_type": "error",
          "ename": "TypeError",
          "evalue": "ignored",
          "traceback": [
            "\u001b[0;31m---------------------------------------------------------------------------\u001b[0m",
            "\u001b[0;31mTypeError\u001b[0m                                 Traceback (most recent call last)",
            "\u001b[0;32m<ipython-input-67-5eb1936e528c>\u001b[0m in \u001b[0;36m<cell line: 1>\u001b[0;34m()\u001b[0m\n\u001b[0;32m----> 1\u001b[0;31m best_run = distilbert_trainer.hyperparameter_search(\n\u001b[0m\u001b[1;32m      2\u001b[0m     \u001b[0mn_trials\u001b[0m\u001b[0;34m=\u001b[0m\u001b[0;36m20\u001b[0m\u001b[0;34m,\u001b[0m\u001b[0;34m\u001b[0m\u001b[0;34m\u001b[0m\u001b[0m\n\u001b[1;32m      3\u001b[0m     \u001b[0mdirection\u001b[0m\u001b[0;34m=\u001b[0m\u001b[0;34m\"maximize\"\u001b[0m\u001b[0;34m,\u001b[0m\u001b[0;34m\u001b[0m\u001b[0;34m\u001b[0m\u001b[0m\n\u001b[1;32m      4\u001b[0m     \u001b[0mhp_space\u001b[0m\u001b[0;34m=\u001b[0m\u001b[0mhp_space\u001b[0m\u001b[0;34m\u001b[0m\u001b[0;34m\u001b[0m\u001b[0m\n\u001b[1;32m      5\u001b[0m )\n",
            "\u001b[0;32m/usr/local/lib/python3.10/dist-packages/transformers/trainer.py\u001b[0m in \u001b[0;36mhyperparameter_search\u001b[0;34m(self, hp_space, compute_objective, n_trials, direction, backend, hp_name, **kwargs)\u001b[0m\n\u001b[1;32m   2631\u001b[0m         \u001b[0mself\u001b[0m\u001b[0;34m.\u001b[0m\u001b[0mcompute_objective\u001b[0m \u001b[0;34m=\u001b[0m \u001b[0mdefault_compute_objective\u001b[0m \u001b[0;32mif\u001b[0m \u001b[0mcompute_objective\u001b[0m \u001b[0;32mis\u001b[0m \u001b[0;32mNone\u001b[0m \u001b[0;32melse\u001b[0m \u001b[0mcompute_objective\u001b[0m\u001b[0;34m\u001b[0m\u001b[0;34m\u001b[0m\u001b[0m\n\u001b[1;32m   2632\u001b[0m \u001b[0;34m\u001b[0m\u001b[0m\n\u001b[0;32m-> 2633\u001b[0;31m         \u001b[0mbest_run\u001b[0m \u001b[0;34m=\u001b[0m \u001b[0mbackend_obj\u001b[0m\u001b[0;34m.\u001b[0m\u001b[0mrun\u001b[0m\u001b[0;34m(\u001b[0m\u001b[0mself\u001b[0m\u001b[0;34m,\u001b[0m \u001b[0mn_trials\u001b[0m\u001b[0;34m,\u001b[0m \u001b[0mdirection\u001b[0m\u001b[0;34m,\u001b[0m \u001b[0;34m**\u001b[0m\u001b[0mkwargs\u001b[0m\u001b[0;34m)\u001b[0m\u001b[0;34m\u001b[0m\u001b[0;34m\u001b[0m\u001b[0m\n\u001b[0m\u001b[1;32m   2634\u001b[0m \u001b[0;34m\u001b[0m\u001b[0m\n\u001b[1;32m   2635\u001b[0m         \u001b[0mself\u001b[0m\u001b[0;34m.\u001b[0m\u001b[0mhp_search_backend\u001b[0m \u001b[0;34m=\u001b[0m \u001b[0;32mNone\u001b[0m\u001b[0;34m\u001b[0m\u001b[0;34m\u001b[0m\u001b[0m\n",
            "\u001b[0;32m/usr/local/lib/python3.10/dist-packages/transformers/hyperparameter_search.py\u001b[0m in \u001b[0;36mrun\u001b[0;34m(self, trainer, n_trials, direction, **kwargs)\u001b[0m\n\u001b[1;32m     70\u001b[0m \u001b[0;34m\u001b[0m\u001b[0m\n\u001b[1;32m     71\u001b[0m     \u001b[0;32mdef\u001b[0m \u001b[0mrun\u001b[0m\u001b[0;34m(\u001b[0m\u001b[0mself\u001b[0m\u001b[0;34m,\u001b[0m \u001b[0mtrainer\u001b[0m\u001b[0;34m,\u001b[0m \u001b[0mn_trials\u001b[0m\u001b[0;34m:\u001b[0m \u001b[0mint\u001b[0m\u001b[0;34m,\u001b[0m \u001b[0mdirection\u001b[0m\u001b[0;34m:\u001b[0m \u001b[0mstr\u001b[0m\u001b[0;34m,\u001b[0m \u001b[0;34m**\u001b[0m\u001b[0mkwargs\u001b[0m\u001b[0;34m)\u001b[0m\u001b[0;34m:\u001b[0m\u001b[0;34m\u001b[0m\u001b[0;34m\u001b[0m\u001b[0m\n\u001b[0;32m---> 72\u001b[0;31m         \u001b[0;32mreturn\u001b[0m \u001b[0mrun_hp_search_optuna\u001b[0m\u001b[0;34m(\u001b[0m\u001b[0mtrainer\u001b[0m\u001b[0;34m,\u001b[0m \u001b[0mn_trials\u001b[0m\u001b[0;34m,\u001b[0m \u001b[0mdirection\u001b[0m\u001b[0;34m,\u001b[0m \u001b[0;34m**\u001b[0m\u001b[0mkwargs\u001b[0m\u001b[0;34m)\u001b[0m\u001b[0;34m\u001b[0m\u001b[0;34m\u001b[0m\u001b[0m\n\u001b[0m\u001b[1;32m     73\u001b[0m \u001b[0;34m\u001b[0m\u001b[0m\n\u001b[1;32m     74\u001b[0m     \u001b[0;32mdef\u001b[0m \u001b[0mdefault_hp_space\u001b[0m\u001b[0;34m(\u001b[0m\u001b[0mself\u001b[0m\u001b[0;34m,\u001b[0m \u001b[0mtrial\u001b[0m\u001b[0;34m)\u001b[0m\u001b[0;34m:\u001b[0m\u001b[0;34m\u001b[0m\u001b[0;34m\u001b[0m\u001b[0m\n",
            "\u001b[0;32m/usr/local/lib/python3.10/dist-packages/transformers/integrations/integration_utils.py\u001b[0m in \u001b[0;36mrun_hp_search_optuna\u001b[0;34m(trainer, n_trials, direction, **kwargs)\u001b[0m\n\u001b[1;32m    209\u001b[0m         \u001b[0mdirection\u001b[0m \u001b[0;34m=\u001b[0m \u001b[0;32mNone\u001b[0m \u001b[0;32mif\u001b[0m \u001b[0mdirections\u001b[0m \u001b[0;32mis\u001b[0m \u001b[0;32mnot\u001b[0m \u001b[0;32mNone\u001b[0m \u001b[0;32melse\u001b[0m \u001b[0mdirection\u001b[0m\u001b[0;34m\u001b[0m\u001b[0;34m\u001b[0m\u001b[0m\n\u001b[1;32m    210\u001b[0m         \u001b[0mstudy\u001b[0m \u001b[0;34m=\u001b[0m \u001b[0moptuna\u001b[0m\u001b[0;34m.\u001b[0m\u001b[0mcreate_study\u001b[0m\u001b[0;34m(\u001b[0m\u001b[0mdirection\u001b[0m\u001b[0;34m=\u001b[0m\u001b[0mdirection\u001b[0m\u001b[0;34m,\u001b[0m \u001b[0mdirections\u001b[0m\u001b[0;34m=\u001b[0m\u001b[0mdirections\u001b[0m\u001b[0;34m,\u001b[0m \u001b[0;34m**\u001b[0m\u001b[0mkwargs\u001b[0m\u001b[0;34m)\u001b[0m\u001b[0;34m\u001b[0m\u001b[0;34m\u001b[0m\u001b[0m\n\u001b[0;32m--> 211\u001b[0;31m         \u001b[0mstudy\u001b[0m\u001b[0;34m.\u001b[0m\u001b[0moptimize\u001b[0m\u001b[0;34m(\u001b[0m\u001b[0m_objective\u001b[0m\u001b[0;34m,\u001b[0m \u001b[0mn_trials\u001b[0m\u001b[0;34m=\u001b[0m\u001b[0mn_trials\u001b[0m\u001b[0;34m,\u001b[0m \u001b[0mtimeout\u001b[0m\u001b[0;34m=\u001b[0m\u001b[0mtimeout\u001b[0m\u001b[0;34m,\u001b[0m \u001b[0mn_jobs\u001b[0m\u001b[0;34m=\u001b[0m\u001b[0mn_jobs\u001b[0m\u001b[0;34m)\u001b[0m\u001b[0;34m\u001b[0m\u001b[0;34m\u001b[0m\u001b[0m\n\u001b[0m\u001b[1;32m    212\u001b[0m         \u001b[0;32mif\u001b[0m \u001b[0;32mnot\u001b[0m \u001b[0mstudy\u001b[0m\u001b[0;34m.\u001b[0m\u001b[0m_is_multi_objective\u001b[0m\u001b[0;34m(\u001b[0m\u001b[0;34m)\u001b[0m\u001b[0;34m:\u001b[0m\u001b[0;34m\u001b[0m\u001b[0;34m\u001b[0m\u001b[0m\n\u001b[1;32m    213\u001b[0m             \u001b[0mbest_trial\u001b[0m \u001b[0;34m=\u001b[0m \u001b[0mstudy\u001b[0m\u001b[0;34m.\u001b[0m\u001b[0mbest_trial\u001b[0m\u001b[0;34m\u001b[0m\u001b[0;34m\u001b[0m\u001b[0m\n",
            "\u001b[0;32m/usr/local/lib/python3.10/dist-packages/optuna/study/study.py\u001b[0m in \u001b[0;36moptimize\u001b[0;34m(self, func, n_trials, timeout, n_jobs, catch, callbacks, gc_after_trial, show_progress_bar)\u001b[0m\n\u001b[1;32m    449\u001b[0m                 \u001b[0mIf\u001b[0m \u001b[0mnested\u001b[0m \u001b[0minvocation\u001b[0m \u001b[0mof\u001b[0m \u001b[0mthis\u001b[0m \u001b[0mmethod\u001b[0m \u001b[0moccurs\u001b[0m\u001b[0;34m.\u001b[0m\u001b[0;34m\u001b[0m\u001b[0;34m\u001b[0m\u001b[0m\n\u001b[1;32m    450\u001b[0m         \"\"\"\n\u001b[0;32m--> 451\u001b[0;31m         _optimize(\n\u001b[0m\u001b[1;32m    452\u001b[0m             \u001b[0mstudy\u001b[0m\u001b[0;34m=\u001b[0m\u001b[0mself\u001b[0m\u001b[0;34m,\u001b[0m\u001b[0;34m\u001b[0m\u001b[0;34m\u001b[0m\u001b[0m\n\u001b[1;32m    453\u001b[0m             \u001b[0mfunc\u001b[0m\u001b[0;34m=\u001b[0m\u001b[0mfunc\u001b[0m\u001b[0;34m,\u001b[0m\u001b[0;34m\u001b[0m\u001b[0;34m\u001b[0m\u001b[0m\n",
            "\u001b[0;32m/usr/local/lib/python3.10/dist-packages/optuna/study/_optimize.py\u001b[0m in \u001b[0;36m_optimize\u001b[0;34m(study, func, n_trials, timeout, n_jobs, catch, callbacks, gc_after_trial, show_progress_bar)\u001b[0m\n\u001b[1;32m     64\u001b[0m     \u001b[0;32mtry\u001b[0m\u001b[0;34m:\u001b[0m\u001b[0;34m\u001b[0m\u001b[0;34m\u001b[0m\u001b[0m\n\u001b[1;32m     65\u001b[0m         \u001b[0;32mif\u001b[0m \u001b[0mn_jobs\u001b[0m \u001b[0;34m==\u001b[0m \u001b[0;36m1\u001b[0m\u001b[0;34m:\u001b[0m\u001b[0;34m\u001b[0m\u001b[0;34m\u001b[0m\u001b[0m\n\u001b[0;32m---> 66\u001b[0;31m             _optimize_sequential(\n\u001b[0m\u001b[1;32m     67\u001b[0m                 \u001b[0mstudy\u001b[0m\u001b[0;34m,\u001b[0m\u001b[0;34m\u001b[0m\u001b[0;34m\u001b[0m\u001b[0m\n\u001b[1;32m     68\u001b[0m                 \u001b[0mfunc\u001b[0m\u001b[0;34m,\u001b[0m\u001b[0;34m\u001b[0m\u001b[0;34m\u001b[0m\u001b[0m\n",
            "\u001b[0;32m/usr/local/lib/python3.10/dist-packages/optuna/study/_optimize.py\u001b[0m in \u001b[0;36m_optimize_sequential\u001b[0;34m(study, func, n_trials, timeout, catch, callbacks, gc_after_trial, reseed_sampler_rng, time_start, progress_bar)\u001b[0m\n\u001b[1;32m    161\u001b[0m \u001b[0;34m\u001b[0m\u001b[0m\n\u001b[1;32m    162\u001b[0m         \u001b[0;32mtry\u001b[0m\u001b[0;34m:\u001b[0m\u001b[0;34m\u001b[0m\u001b[0;34m\u001b[0m\u001b[0m\n\u001b[0;32m--> 163\u001b[0;31m             \u001b[0mfrozen_trial\u001b[0m \u001b[0;34m=\u001b[0m \u001b[0m_run_trial\u001b[0m\u001b[0;34m(\u001b[0m\u001b[0mstudy\u001b[0m\u001b[0;34m,\u001b[0m \u001b[0mfunc\u001b[0m\u001b[0;34m,\u001b[0m \u001b[0mcatch\u001b[0m\u001b[0;34m)\u001b[0m\u001b[0;34m\u001b[0m\u001b[0;34m\u001b[0m\u001b[0m\n\u001b[0m\u001b[1;32m    164\u001b[0m         \u001b[0;32mfinally\u001b[0m\u001b[0;34m:\u001b[0m\u001b[0;34m\u001b[0m\u001b[0;34m\u001b[0m\u001b[0m\n\u001b[1;32m    165\u001b[0m             \u001b[0;31m# The following line mitigates memory problems that can be occurred in some\u001b[0m\u001b[0;34m\u001b[0m\u001b[0;34m\u001b[0m\u001b[0m\n",
            "\u001b[0;32m/usr/local/lib/python3.10/dist-packages/optuna/study/_optimize.py\u001b[0m in \u001b[0;36m_run_trial\u001b[0;34m(study, func, catch)\u001b[0m\n\u001b[1;32m    249\u001b[0m         \u001b[0;32mand\u001b[0m \u001b[0;32mnot\u001b[0m \u001b[0misinstance\u001b[0m\u001b[0;34m(\u001b[0m\u001b[0mfunc_err\u001b[0m\u001b[0;34m,\u001b[0m \u001b[0mcatch\u001b[0m\u001b[0;34m)\u001b[0m\u001b[0;34m\u001b[0m\u001b[0;34m\u001b[0m\u001b[0m\n\u001b[1;32m    250\u001b[0m     ):\n\u001b[0;32m--> 251\u001b[0;31m         \u001b[0;32mraise\u001b[0m \u001b[0mfunc_err\u001b[0m\u001b[0;34m\u001b[0m\u001b[0;34m\u001b[0m\u001b[0m\n\u001b[0m\u001b[1;32m    252\u001b[0m     \u001b[0;32mreturn\u001b[0m \u001b[0mfrozen_trial\u001b[0m\u001b[0;34m\u001b[0m\u001b[0;34m\u001b[0m\u001b[0m\n\u001b[1;32m    253\u001b[0m \u001b[0;34m\u001b[0m\u001b[0m\n",
            "\u001b[0;32m/usr/local/lib/python3.10/dist-packages/optuna/study/_optimize.py\u001b[0m in \u001b[0;36m_run_trial\u001b[0;34m(study, func, catch)\u001b[0m\n\u001b[1;32m    198\u001b[0m     \u001b[0;32mwith\u001b[0m \u001b[0mget_heartbeat_thread\u001b[0m\u001b[0;34m(\u001b[0m\u001b[0mtrial\u001b[0m\u001b[0;34m.\u001b[0m\u001b[0m_trial_id\u001b[0m\u001b[0;34m,\u001b[0m \u001b[0mstudy\u001b[0m\u001b[0;34m.\u001b[0m\u001b[0m_storage\u001b[0m\u001b[0;34m)\u001b[0m\u001b[0;34m:\u001b[0m\u001b[0;34m\u001b[0m\u001b[0;34m\u001b[0m\u001b[0m\n\u001b[1;32m    199\u001b[0m         \u001b[0;32mtry\u001b[0m\u001b[0;34m:\u001b[0m\u001b[0;34m\u001b[0m\u001b[0;34m\u001b[0m\u001b[0m\n\u001b[0;32m--> 200\u001b[0;31m             \u001b[0mvalue_or_values\u001b[0m \u001b[0;34m=\u001b[0m \u001b[0mfunc\u001b[0m\u001b[0;34m(\u001b[0m\u001b[0mtrial\u001b[0m\u001b[0;34m)\u001b[0m\u001b[0;34m\u001b[0m\u001b[0;34m\u001b[0m\u001b[0m\n\u001b[0m\u001b[1;32m    201\u001b[0m         \u001b[0;32mexcept\u001b[0m \u001b[0mexceptions\u001b[0m\u001b[0;34m.\u001b[0m\u001b[0mTrialPruned\u001b[0m \u001b[0;32mas\u001b[0m \u001b[0me\u001b[0m\u001b[0;34m:\u001b[0m\u001b[0;34m\u001b[0m\u001b[0;34m\u001b[0m\u001b[0m\n\u001b[1;32m    202\u001b[0m             \u001b[0;31m# TODO(mamu): Handle multi-objective cases.\u001b[0m\u001b[0;34m\u001b[0m\u001b[0;34m\u001b[0m\u001b[0m\n",
            "\u001b[0;32m/usr/local/lib/python3.10/dist-packages/transformers/integrations/integration_utils.py\u001b[0m in \u001b[0;36m_objective\u001b[0;34m(trial, checkpoint_dir)\u001b[0m\n\u001b[1;32m    197\u001b[0m                 \u001b[0mtrainer\u001b[0m\u001b[0;34m.\u001b[0m\u001b[0mtrain\u001b[0m\u001b[0;34m(\u001b[0m\u001b[0mresume_from_checkpoint\u001b[0m\u001b[0;34m=\u001b[0m\u001b[0mcheckpoint\u001b[0m\u001b[0;34m)\u001b[0m\u001b[0;34m\u001b[0m\u001b[0;34m\u001b[0m\u001b[0m\n\u001b[1;32m    198\u001b[0m             \u001b[0;32melse\u001b[0m\u001b[0;34m:\u001b[0m\u001b[0;34m\u001b[0m\u001b[0;34m\u001b[0m\u001b[0m\n\u001b[0;32m--> 199\u001b[0;31m                 \u001b[0mtrainer\u001b[0m\u001b[0;34m.\u001b[0m\u001b[0mtrain\u001b[0m\u001b[0;34m(\u001b[0m\u001b[0mresume_from_checkpoint\u001b[0m\u001b[0;34m=\u001b[0m\u001b[0mcheckpoint\u001b[0m\u001b[0;34m,\u001b[0m \u001b[0mtrial\u001b[0m\u001b[0;34m=\u001b[0m\u001b[0mtrial\u001b[0m\u001b[0;34m)\u001b[0m\u001b[0;34m\u001b[0m\u001b[0;34m\u001b[0m\u001b[0m\n\u001b[0m\u001b[1;32m    200\u001b[0m             \u001b[0;31m# If there hasn't been any evaluation during the training loop.\u001b[0m\u001b[0;34m\u001b[0m\u001b[0;34m\u001b[0m\u001b[0m\n\u001b[1;32m    201\u001b[0m             \u001b[0;32mif\u001b[0m \u001b[0mgetattr\u001b[0m\u001b[0;34m(\u001b[0m\u001b[0mtrainer\u001b[0m\u001b[0;34m,\u001b[0m \u001b[0;34m\"objective\"\u001b[0m\u001b[0;34m,\u001b[0m \u001b[0;32mNone\u001b[0m\u001b[0;34m)\u001b[0m \u001b[0;32mis\u001b[0m \u001b[0;32mNone\u001b[0m\u001b[0;34m:\u001b[0m\u001b[0;34m\u001b[0m\u001b[0;34m\u001b[0m\u001b[0m\n",
            "\u001b[0;32m/usr/local/lib/python3.10/dist-packages/transformers/trainer.py\u001b[0m in \u001b[0;36mtrain\u001b[0;34m(self, resume_from_checkpoint, trial, ignore_keys_for_eval, **kwargs)\u001b[0m\n\u001b[1;32m   1482\u001b[0m             \u001b[0;32mraise\u001b[0m \u001b[0mTypeError\u001b[0m\u001b[0;34m(\u001b[0m\u001b[0;34mf\"train() received got unexpected keyword arguments: {', '.join(list(kwargs.keys()))}.\"\u001b[0m\u001b[0;34m)\u001b[0m\u001b[0;34m\u001b[0m\u001b[0;34m\u001b[0m\u001b[0m\n\u001b[1;32m   1483\u001b[0m         \u001b[0;31m# This might change the seed so needs to run first.\u001b[0m\u001b[0;34m\u001b[0m\u001b[0;34m\u001b[0m\u001b[0m\n\u001b[0;32m-> 1484\u001b[0;31m         \u001b[0mself\u001b[0m\u001b[0;34m.\u001b[0m\u001b[0m_hp_search_setup\u001b[0m\u001b[0;34m(\u001b[0m\u001b[0mtrial\u001b[0m\u001b[0;34m)\u001b[0m\u001b[0;34m\u001b[0m\u001b[0;34m\u001b[0m\u001b[0m\n\u001b[0m\u001b[1;32m   1485\u001b[0m         \u001b[0mself\u001b[0m\u001b[0;34m.\u001b[0m\u001b[0m_train_batch_size\u001b[0m \u001b[0;34m=\u001b[0m \u001b[0mself\u001b[0m\u001b[0;34m.\u001b[0m\u001b[0margs\u001b[0m\u001b[0;34m.\u001b[0m\u001b[0mtrain_batch_size\u001b[0m\u001b[0;34m\u001b[0m\u001b[0;34m\u001b[0m\u001b[0m\n\u001b[1;32m   1486\u001b[0m \u001b[0;34m\u001b[0m\u001b[0m\n",
            "\u001b[0;32m/usr/local/lib/python3.10/dist-packages/transformers/trainer.py\u001b[0m in \u001b[0;36m_hp_search_setup\u001b[0;34m(self, trial)\u001b[0m\n\u001b[1;32m   1176\u001b[0m             \u001b[0;31m# Casting value to the proper type\u001b[0m\u001b[0;34m\u001b[0m\u001b[0;34m\u001b[0m\u001b[0m\n\u001b[1;32m   1177\u001b[0m             \u001b[0;32mif\u001b[0m \u001b[0mold_attr\u001b[0m \u001b[0;32mis\u001b[0m \u001b[0;32mnot\u001b[0m \u001b[0;32mNone\u001b[0m\u001b[0;34m:\u001b[0m\u001b[0;34m\u001b[0m\u001b[0;34m\u001b[0m\u001b[0m\n\u001b[0;32m-> 1178\u001b[0;31m                 \u001b[0mvalue\u001b[0m \u001b[0;34m=\u001b[0m \u001b[0mtype\u001b[0m\u001b[0;34m(\u001b[0m\u001b[0mold_attr\u001b[0m\u001b[0;34m)\u001b[0m\u001b[0;34m(\u001b[0m\u001b[0mvalue\u001b[0m\u001b[0;34m)\u001b[0m\u001b[0;34m\u001b[0m\u001b[0;34m\u001b[0m\u001b[0m\n\u001b[0m\u001b[1;32m   1179\u001b[0m \u001b[0;34m\u001b[0m\u001b[0m\n\u001b[1;32m   1180\u001b[0m             \u001b[0msetattr\u001b[0m\u001b[0;34m(\u001b[0m\u001b[0mself\u001b[0m\u001b[0;34m.\u001b[0m\u001b[0margs\u001b[0m\u001b[0;34m,\u001b[0m \u001b[0mkey\u001b[0m\u001b[0;34m,\u001b[0m \u001b[0mvalue\u001b[0m\u001b[0;34m)\u001b[0m\u001b[0;34m\u001b[0m\u001b[0;34m\u001b[0m\u001b[0m\n",
            "\u001b[0;31mTypeError\u001b[0m: 'float' object is not iterable"
          ]
        }
      ]
    },
    {
      "cell_type": "markdown",
      "source": [
        "# Making Models Faster with Quantization"
      ],
      "metadata": {
        "id": "4QsSK-8nql-9"
      }
    },
    {
      "cell_type": "markdown",
      "source": [
        "* **Quantization**: To make the `model smaller` and `faster`, we can use quantization, which converts the model weights and activations from `32-bit floating point (FP32) to 8-bit integer (INT8)`. This `reduces the number of bits by four times`, which means `less memory usage` and `faster calculations`.\n",
        "    * Quantization can be done `without hurting the model accuracy too much`.\n",
        "\n",
        "* **Benefits of quantization**: Quantization helps us `save memory` and `time` when running the model. By using `INT8` instead of `FP32`, we can shrink the model size by `75%` and `speed up the operations like matrix multiplication`.\n",
        "    * Quantization also makes the model more compatible with low-power devices like mobile phones or microcontrollers.\n",
        "    \n",
        "    * Quantization usually **preserves the model quality**, or only slightly reduces it."
      ],
      "metadata": {
        "id": "PAzc68oYqybq"
      }
    },
    {
      "cell_type": "code",
      "source": [],
      "metadata": {
        "id": "ulj0deQdox6H"
      },
      "execution_count": 66,
      "outputs": []
    }
  ]
}