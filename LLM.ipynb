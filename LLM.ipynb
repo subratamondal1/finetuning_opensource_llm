{
 "cells": [
  {
   "cell_type": "markdown",
   "id": "84c203a4-c674-4ee1-9b8a-96a56b8f0c22",
   "metadata": {},
   "source": [
    "# Foundations"
   ]
  },
  {
   "cell_type": "code",
   "execution_count": 1,
   "id": "ef11b1d7-86ca-4187-913c-0afbd0702a81",
   "metadata": {},
   "outputs": [
    {
     "data": {
      "text/plain": [
       "17"
      ]
     },
     "execution_count": 1,
     "metadata": {},
     "output_type": "execute_result"
    }
   ],
   "source": []
  },
  {
   "cell_type": "code",
   "execution_count": null,
   "id": "09ebd596-671b-4b6c-abed-97509886c07e",
   "metadata": {},
   "outputs": [],
   "source": []
  }
 ],
 "metadata": {
  "kernelspec": {
   "display_name": "Python 3 (ipykernel)",
   "language": "python",
   "name": "python3"
  },
  "language_info": {
   "codemirror_mode": {
    "name": "ipython",
    "version": 3
   },
   "file_extension": ".py",
   "mimetype": "text/x-python",
   "name": "python",
   "nbconvert_exporter": "python",
   "pygments_lexer": "ipython3",
   "version": "3.11.6"
  }
 },
 "nbformat": 4,
 "nbformat_minor": 5
}
